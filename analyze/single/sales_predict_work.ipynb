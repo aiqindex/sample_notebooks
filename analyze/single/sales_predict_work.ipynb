{
 "cells": [
  {
   "cell_type": "code",
   "execution_count": 1,
   "id": "3e6dba45-6242-411b-94ab-0818bbff72c7",
   "metadata": {
    "execution": {
     "iopub.execute_input": "2024-10-25T00:47:34.358444Z",
     "iopub.status.busy": "2024-10-25T00:47:34.357905Z",
     "iopub.status.idle": "2024-10-25T00:47:49.274844Z",
     "shell.execute_reply": "2024-10-25T00:47:49.273866Z",
     "shell.execute_reply.started": "2024-10-25T00:47:34.358413Z"
    }
   },
   "outputs": [
    {
     "name": "stdout",
     "output_type": "stream",
     "text": [
      "Looking in indexes: https://ci-nexus.ai-knows.com/repository/pypi-group-aiq/simple\n",
      "Requirement already satisfied: openpyxl in /home/schiba/miniconda3/lib/python3.9/site-packages (3.1.5)\n",
      "Requirement already satisfied: et-xmlfile in /home/schiba/miniconda3/lib/python3.9/site-packages (from openpyxl) (1.1.0)\n",
      "Looking in indexes: https://ci-nexus.ai-knows.com/repository/pypi-group-aiq/simple\n",
      "Requirement already satisfied: japanize-matplotlib in /home/schiba/miniconda3/lib/python3.9/site-packages (1.1.3)\n",
      "Requirement already satisfied: matplotlib in /home/schiba/miniconda3/lib/python3.9/site-packages (from japanize-matplotlib) (3.9.2)\n",
      "Requirement already satisfied: python-dateutil>=2.7 in /home/schiba/miniconda3/lib/python3.9/site-packages (from matplotlib->japanize-matplotlib) (2.8.2)\n",
      "Requirement already satisfied: cycler>=0.10 in /home/schiba/miniconda3/lib/python3.9/site-packages (from matplotlib->japanize-matplotlib) (0.12.1)\n",
      "Requirement already satisfied: pillow>=8 in /home/schiba/miniconda3/lib/python3.9/site-packages (from matplotlib->japanize-matplotlib) (11.0.0)\n",
      "Requirement already satisfied: kiwisolver>=1.3.1 in /home/schiba/miniconda3/lib/python3.9/site-packages (from matplotlib->japanize-matplotlib) (1.4.7)\n",
      "Requirement already satisfied: packaging>=20.0 in /home/schiba/miniconda3/lib/python3.9/site-packages (from matplotlib->japanize-matplotlib) (23.2)\n",
      "Requirement already satisfied: fonttools>=4.22.0 in /home/schiba/miniconda3/lib/python3.9/site-packages (from matplotlib->japanize-matplotlib) (4.54.1)\n",
      "Requirement already satisfied: contourpy>=1.0.1 in /home/schiba/miniconda3/lib/python3.9/site-packages (from matplotlib->japanize-matplotlib) (1.3.0)\n",
      "Requirement already satisfied: pyparsing>=2.3.1 in /home/schiba/miniconda3/lib/python3.9/site-packages (from matplotlib->japanize-matplotlib) (3.2.0)\n",
      "Requirement already satisfied: numpy>=1.23 in /home/schiba/miniconda3/lib/python3.9/site-packages (from matplotlib->japanize-matplotlib) (1.23.5)\n",
      "Requirement already satisfied: importlib-resources>=3.2.0 in /home/schiba/miniconda3/lib/python3.9/site-packages (from matplotlib->japanize-matplotlib) (6.4.0)\n",
      "Requirement already satisfied: numpy>=1.23 in /home/schiba/miniconda3/lib/python3.9/site-packages (from matplotlib->japanize-matplotlib) (1.23.5)\n",
      "Requirement already satisfied: zipp>=3.1.0 in /home/schiba/miniconda3/lib/python3.9/site-packages (from importlib-resources>=3.2.0->matplotlib->japanize-matplotlib) (3.17.0)\n",
      "Requirement already satisfied: six>=1.5 in /home/schiba/miniconda3/lib/python3.9/site-packages (from python-dateutil>=2.7->matplotlib->japanize-matplotlib) (1.15.0)\n"
     ]
    }
   ],
   "source": [
    "!pip install openpyxl\n",
    "!pip install japanize-matplotlib"
   ]
  },
  {
   "cell_type": "code",
   "execution_count": 2,
   "id": "422bd93e-2835-4ef8-b0e1-79b7880169da",
   "metadata": {
    "execution": {
     "iopub.execute_input": "2024-10-25T00:47:49.276747Z",
     "iopub.status.busy": "2024-10-25T00:47:49.276177Z",
     "iopub.status.idle": "2024-10-25T00:48:04.799399Z",
     "shell.execute_reply": "2024-10-25T00:48:04.798310Z",
     "shell.execute_reply.started": "2024-10-25T00:47:49.276714Z"
    }
   },
   "outputs": [],
   "source": [
    "import sys\n",
    "import pandas as pd\n",
    "import numpy as np\n",
    "import statsmodels.api as sm\n",
    "import math\n",
    "from tqdm.notebook import tqdm\n",
    "import matplotlib.pyplot as plt\n",
    "import itertools\n",
    "from aiq_strategy_robot.data.data_accessor import DAL\n",
    "from aiq_strategy_robot.data.FACTSET import load_factset_fundamental_estimates\n",
    "\n",
    "if '../..' not in sys.path:\n",
    "    sys.path.append('../..')\n",
    "from libs.dataset import aiq_pos_csmr_goods as sc_goods\n",
    "from libs.dataset import common as sc_common\n",
    "from libs.path import DEFAULT_DIR\n",
    "import japanize_matplotlib"
   ]
  },
  {
   "cell_type": "markdown",
   "id": "fb3f52b3-2201-4679-91cb-241381b2f625",
   "metadata": {},
   "source": [
    "## データ読み込み"
   ]
  },
  {
   "cell_type": "code",
   "execution_count": 3,
   "id": "dd072978-7db0-4ec2-9073-c2bed32e26cb",
   "metadata": {
    "execution": {
     "iopub.execute_input": "2024-10-25T00:48:04.801630Z",
     "iopub.status.busy": "2024-10-25T00:48:04.800825Z",
     "iopub.status.idle": "2024-10-25T00:48:08.498997Z",
     "shell.execute_reply": "2024-10-25T00:48:08.498081Z",
     "shell.execute_reply.started": "2024-10-25T00:48:04.801316Z"
    }
   },
   "outputs": [],
   "source": [
    "sdh = DAL()\n",
    "\n",
    "# POSデータ\n",
    "data_id_alt = sc_goods.register_csmr_goods_data(sdh, data_dir=DEFAULT_DIR)\n",
    "alt_W_id = sdh.transform.raw(data_id=data_id_alt).variable_ids[0]\n",
    "\n",
    "# sales(YoY)データ\n",
    "data_id_funda = sc_common.register_fundamental(sdh)\n",
    "funda_Q_id = sdh.transform.raw(data_id=data_id_funda).variable_ids[0]"
   ]
  },
  {
   "cell_type": "markdown",
   "id": "25fa5f8f-ff7a-4cfd-938d-290d91734c0b",
   "metadata": {},
   "source": [
    "#### 売上高のコンセンサス予想を準備\n",
    "- TICKER\n",
    "- fiscal_period_end_date：四半期末日\n",
    "- consensus_start_date  ：コンセンサスが有効になった日\n",
    "- consensus_end_date    ：コンセンサスが無効になった日\n",
    "- consensus (FE_MEDIAN) ：コンセンサス（アナリスト予測の中央値）"
   ]
  },
  {
   "cell_type": "code",
   "execution_count": 4,
   "id": "f63f8ed9-2441-4384-a48b-51d65752e7b0",
   "metadata": {
    "execution": {
     "iopub.execute_input": "2024-10-25T00:48:08.501161Z",
     "iopub.status.busy": "2024-10-25T00:48:08.500127Z",
     "iopub.status.idle": "2024-10-25T00:48:22.607892Z",
     "shell.execute_reply": "2024-10-25T00:48:22.606809Z",
     "shell.execute_reply.started": "2024-10-25T00:48:08.501130Z"
    }
   },
   "outputs": [],
   "source": [
    "# コンセンサス予想\n",
    "## 締日時点のコンセンサス予想を使用\n",
    "h1 = sdh.load('FACTSET', data_type='symbol_lookup',\n",
    "              ticker=list(map(lambda x: f\"{x}-JP\", sdh.extract_definition.loc[data_id_alt, 'tickers'])),\n",
    "              currency_code='JPY', exchange_code='TKS', pick_only_primary=True)\n",
    "comp = h1.retrieve(transformed=False)\n",
    "h2 = load_factset_fundamental_estimates(h1, symbols=list(comp['FSYM_ID']),\n",
    "                                        package=\"BASIC\", fields=\"SALES\", freq=3)\n",
    "consensus = h2.retrieve()\n",
    "consensus = consensus.merge(comp, how='left', left_on='SYMBOL', right_on='FSYM_ID')\n",
    "consensus['TICKER'] = consensus['TICKER'].map(lambda x: x.split('-')[0])\n",
    "consensus = consensus.set_index(['TICKER', 'fiscal_period_end_date', 'consensus_start_date', 'consensus_end_date']).sort_index()\n",
    "consensus = consensus[consensus['FE_MEDIAN'] > 0]\n",
    "cons = consensus[consensus.index.get_level_values('consensus_start_date') <= consensus.index.get_level_values('fiscal_period_end_date')].groupby(\n",
    "    ['TICKER', 'fiscal_period_end_date']).tail(1)[['FE_MEDIAN']].reset_index(['consensus_start_date', 'consensus_end_date']).rename(columns={'FE_MEDIAN': 'consensus'})\n",
    "\n"
   ]
  },
  {
   "cell_type": "code",
   "execution_count": 5,
   "id": "1ce3a3b9-c4ce-4452-8359-55c5ddffd38f",
   "metadata": {
    "execution": {
     "iopub.execute_input": "2024-10-25T00:48:22.609495Z",
     "iopub.status.busy": "2024-10-25T00:48:22.609145Z",
     "iopub.status.idle": "2024-10-25T00:48:22.644199Z",
     "shell.execute_reply": "2024-10-25T00:48:22.643225Z",
     "shell.execute_reply.started": "2024-10-25T00:48:22.609461Z"
    }
   },
   "outputs": [
    {
     "data": {
      "text/html": [
       "<div>\n",
       "<style scoped>\n",
       "    .dataframe tbody tr th:only-of-type {\n",
       "        vertical-align: middle;\n",
       "    }\n",
       "\n",
       "    .dataframe tbody tr th {\n",
       "        vertical-align: top;\n",
       "    }\n",
       "\n",
       "    .dataframe thead th {\n",
       "        text-align: right;\n",
       "    }\n",
       "</style>\n",
       "<table border=\"1\" class=\"dataframe\">\n",
       "  <thead>\n",
       "    <tr style=\"text-align: right;\">\n",
       "      <th></th>\n",
       "      <th></th>\n",
       "      <th>consensus</th>\n",
       "    </tr>\n",
       "    <tr>\n",
       "      <th>TICKER</th>\n",
       "      <th>fiscal_period_end_date</th>\n",
       "      <th></th>\n",
       "    </tr>\n",
       "  </thead>\n",
       "  <tbody>\n",
       "    <tr>\n",
       "      <th rowspan=\"5\" valign=\"top\">1301</th>\n",
       "      <th>2017-06-30</th>\n",
       "      <td>58100.0</td>\n",
       "    </tr>\n",
       "    <tr>\n",
       "      <th>2017-09-30</th>\n",
       "      <td>63300.0</td>\n",
       "    </tr>\n",
       "    <tr>\n",
       "      <th>2017-12-31</th>\n",
       "      <td>74650.0</td>\n",
       "    </tr>\n",
       "    <tr>\n",
       "      <th>2018-03-31</th>\n",
       "      <td>56677.0</td>\n",
       "    </tr>\n",
       "    <tr>\n",
       "      <th>2018-06-30</th>\n",
       "      <td>58800.0</td>\n",
       "    </tr>\n",
       "  </tbody>\n",
       "</table>\n",
       "</div>"
      ],
      "text/plain": [
       "                               consensus\n",
       "TICKER fiscal_period_end_date           \n",
       "1301   2017-06-30                58100.0\n",
       "       2017-09-30                63300.0\n",
       "       2017-12-31                74650.0\n",
       "       2018-03-31                56677.0\n",
       "       2018-06-30                58800.0"
      ]
     },
     "execution_count": 5,
     "metadata": {},
     "output_type": "execute_result"
    }
   ],
   "source": [
    "#  不要なカラムを削除\n",
    "# - consensus_start_date：コンセンサスが使えるように有効になった日\n",
    "# - consensus_end_date：無効になった日\n",
    "\n",
    "cons = cons.drop(columns=['consensus_start_date', 'consensus_end_date'])\n",
    "cons.head()"
   ]
  },
  {
   "cell_type": "code",
   "execution_count": 6,
   "id": "6b53ae90-1d62-444d-8d75-d934ffc744b6",
   "metadata": {
    "execution": {
     "iopub.execute_input": "2024-10-25T00:48:22.648811Z",
     "iopub.status.busy": "2024-10-25T00:48:22.647590Z",
     "iopub.status.idle": "2024-10-25T00:48:22.687496Z",
     "shell.execute_reply": "2024-10-25T00:48:22.686600Z",
     "shell.execute_reply.started": "2024-10-25T00:48:22.648777Z"
    }
   },
   "outputs": [],
   "source": [
    "# 宇野さんに確認\n",
    "## →コンセンサスのYOY作成に必要。ユーザーにはあらかじめデータのセットアップを通知"
   ]
  },
  {
   "cell_type": "code",
   "execution_count": 7,
   "id": "39a34449-e6f6-46ca-9c0b-9daff19f4a79",
   "metadata": {
    "execution": {
     "iopub.execute_input": "2024-10-25T00:48:22.688843Z",
     "iopub.status.busy": "2024-10-25T00:48:22.688556Z",
     "iopub.status.idle": "2024-10-25T00:48:22.998491Z",
     "shell.execute_reply": "2024-10-25T00:48:22.997526Z",
     "shell.execute_reply.started": "2024-10-25T00:48:22.688814Z"
    }
   },
   "outputs": [
    {
     "data": {
      "text/html": [
       "<div>\n",
       "<style scoped>\n",
       "    .dataframe tbody tr th:only-of-type {\n",
       "        vertical-align: middle;\n",
       "    }\n",
       "\n",
       "    .dataframe tbody tr th {\n",
       "        vertical-align: top;\n",
       "    }\n",
       "\n",
       "    .dataframe thead th {\n",
       "        text-align: right;\n",
       "    }\n",
       "</style>\n",
       "<table border=\"1\" class=\"dataframe\">\n",
       "  <thead>\n",
       "    <tr style=\"text-align: right;\">\n",
       "      <th></th>\n",
       "      <th></th>\n",
       "      <th>first_announcement_datetime</th>\n",
       "      <th>sales</th>\n",
       "    </tr>\n",
       "    <tr>\n",
       "      <th>TICKER</th>\n",
       "      <th>DATETIME</th>\n",
       "      <th></th>\n",
       "      <th></th>\n",
       "    </tr>\n",
       "  </thead>\n",
       "  <tbody>\n",
       "    <tr>\n",
       "      <th rowspan=\"5\" valign=\"top\">1301</th>\n",
       "      <th>2008-03-31</th>\n",
       "      <td>2008-05-13 15:00:00</td>\n",
       "      <td>31689.0</td>\n",
       "    </tr>\n",
       "    <tr>\n",
       "      <th>2008-06-30</th>\n",
       "      <td>2008-07-29 15:00:00</td>\n",
       "      <td>36678.0</td>\n",
       "    </tr>\n",
       "    <tr>\n",
       "      <th>2008-09-30</th>\n",
       "      <td>2008-10-29 15:00:00</td>\n",
       "      <td>36966.0</td>\n",
       "    </tr>\n",
       "    <tr>\n",
       "      <th>2008-12-31</th>\n",
       "      <td>2009-01-29 15:00:00</td>\n",
       "      <td>41851.0</td>\n",
       "    </tr>\n",
       "    <tr>\n",
       "      <th>2009-03-31</th>\n",
       "      <td>2009-05-14 15:00:00</td>\n",
       "      <td>32059.0</td>\n",
       "    </tr>\n",
       "  </tbody>\n",
       "</table>\n",
       "</div>"
      ],
      "text/plain": [
       "                  first_announcement_datetime    sales\n",
       "TICKER DATETIME                                       \n",
       "1301   2008-03-31         2008-05-13 15:00:00  31689.0\n",
       "       2008-06-30         2008-07-29 15:00:00  36678.0\n",
       "       2008-09-30         2008-10-29 15:00:00  36966.0\n",
       "       2008-12-31         2009-01-29 15:00:00  41851.0\n",
       "       2009-03-31         2009-05-14 15:00:00  32059.0"
      ]
     },
     "execution_count": 7,
     "metadata": {},
     "output_type": "execute_result"
    }
   ],
   "source": [
    "HAS_MY_SALES = True\n",
    "\n",
    "# 売上(実数値)の実績\n",
    "sales = pd.read_parquet('sales.parquet').sort_index()\n",
    "sales.index.names = ['TICKER', 'DATETIME']\n",
    "sales_YoY = sales.groupby('TICKER', group_keys=False)['sales'].apply(lambda x: np.log(x / x.shift(4)))\n",
    "sales.head()"
   ]
  },
  {
   "cell_type": "code",
   "execution_count": 8,
   "id": "dcf0e1f3-86c4-4104-b755-6a90eb40e9ae",
   "metadata": {
    "execution": {
     "iopub.execute_input": "2024-10-25T00:48:23.000489Z",
     "iopub.status.busy": "2024-10-25T00:48:22.999705Z",
     "iopub.status.idle": "2024-10-25T00:48:23.028934Z",
     "shell.execute_reply": "2024-10-25T00:48:23.027896Z",
     "shell.execute_reply.started": "2024-10-25T00:48:23.000456Z"
    }
   },
   "outputs": [],
   "source": [
    "# ↓s3におく"
   ]
  },
  {
   "cell_type": "code",
   "execution_count": 9,
   "id": "ec1ad947-e8bf-4bb5-93a9-e4ecff322646",
   "metadata": {
    "execution": {
     "iopub.execute_input": "2024-10-25T00:48:23.031374Z",
     "iopub.status.busy": "2024-10-25T00:48:23.030493Z",
     "iopub.status.idle": "2024-10-25T00:48:24.489790Z",
     "shell.execute_reply": "2024-10-25T00:48:24.488776Z",
     "shell.execute_reply.started": "2024-10-25T00:48:23.031329Z"
    }
   },
   "outputs": [
    {
     "data": {
      "text/html": [
       "<div>\n",
       "<style scoped>\n",
       "    .dataframe tbody tr th:only-of-type {\n",
       "        vertical-align: middle;\n",
       "    }\n",
       "\n",
       "    .dataframe tbody tr th {\n",
       "        vertical-align: top;\n",
       "    }\n",
       "\n",
       "    .dataframe thead th {\n",
       "        text-align: right;\n",
       "    }\n",
       "</style>\n",
       "<table border=\"1\" class=\"dataframe\">\n",
       "  <thead>\n",
       "    <tr style=\"text-align: right;\">\n",
       "      <th></th>\n",
       "      <th></th>\n",
       "      <th>count</th>\n",
       "      <th>mean</th>\n",
       "      <th>std</th>\n",
       "      <th>median</th>\n",
       "    </tr>\n",
       "    <tr>\n",
       "      <th>seccode</th>\n",
       "      <th>datetime</th>\n",
       "      <th></th>\n",
       "      <th></th>\n",
       "      <th></th>\n",
       "      <th></th>\n",
       "    </tr>\n",
       "  </thead>\n",
       "  <tbody>\n",
       "    <tr>\n",
       "      <th rowspan=\"5\" valign=\"top\">1301</th>\n",
       "      <th>2018-06-30</th>\n",
       "      <td>6</td>\n",
       "      <td>0.042412</td>\n",
       "      <td>0.005532</td>\n",
       "      <td>0.042914</td>\n",
       "    </tr>\n",
       "    <tr>\n",
       "      <th>2018-09-30</th>\n",
       "      <td>7</td>\n",
       "      <td>0.042328</td>\n",
       "      <td>0.005055</td>\n",
       "      <td>0.041819</td>\n",
       "    </tr>\n",
       "    <tr>\n",
       "      <th>2018-12-31</th>\n",
       "      <td>8</td>\n",
       "      <td>0.041800</td>\n",
       "      <td>0.004912</td>\n",
       "      <td>0.041302</td>\n",
       "    </tr>\n",
       "    <tr>\n",
       "      <th>2019-03-31</th>\n",
       "      <td>9</td>\n",
       "      <td>0.042866</td>\n",
       "      <td>0.005598</td>\n",
       "      <td>0.041819</td>\n",
       "    </tr>\n",
       "    <tr>\n",
       "      <th>2019-06-30</th>\n",
       "      <td>10</td>\n",
       "      <td>0.043762</td>\n",
       "      <td>0.005990</td>\n",
       "      <td>0.043431</td>\n",
       "    </tr>\n",
       "  </tbody>\n",
       "</table>\n",
       "</div>"
      ],
      "text/plain": [
       "                    count      mean       std    median\n",
       "seccode datetime                                       \n",
       "1301    2018-06-30      6  0.042412  0.005532  0.042914\n",
       "        2018-09-30      7  0.042328  0.005055  0.041819\n",
       "        2018-12-31      8  0.041800  0.004912  0.041302\n",
       "        2019-03-31      9  0.042866  0.005598  0.041819\n",
       "        2019-06-30     10  0.043762  0.005990  0.043431"
      ]
     },
     "execution_count": 9,
     "metadata": {},
     "output_type": "execute_result"
    }
   ],
   "source": [
    "# POSのシェア率(時系列)\n",
    "share_ts = pd.read_excel('20241003_pos_csmr_goods_plus_sales_share_ts.xlsx')\n",
    "share_ts['seccode'] = share_ts['seccode'].map(str)\n",
    "share_ts['datetime'] = pd.to_datetime(share_ts['datetime'])\n",
    "share_ts = share_ts.set_index(['seccode', 'datetime']).sort_index()\n",
    "share_ts.head()\n",
    "\n",
    "\n"
   ]
  },
  {
   "cell_type": "code",
   "execution_count": null,
   "id": "5b78585b-4691-4cbd-aa4d-c282a66a34d7",
   "metadata": {},
   "outputs": [],
   "source": []
  },
  {
   "cell_type": "markdown",
   "id": "1eb6c956-710f-4aa7-8288-fea0f2934fe3",
   "metadata": {},
   "source": [
    "## 最適な前処理パラメータの探索"
   ]
  },
  {
   "cell_type": "code",
   "execution_count": 10,
   "id": "f463c616-b155-440b-8f99-3f09c9a1944f",
   "metadata": {
    "execution": {
     "iopub.execute_input": "2024-10-25T00:48:24.491797Z",
     "iopub.status.busy": "2024-10-25T00:48:24.491008Z",
     "iopub.status.idle": "2024-10-25T00:48:24.495877Z",
     "shell.execute_reply": "2024-10-25T00:48:24.494988Z",
     "shell.execute_reply.started": "2024-10-25T00:48:24.491763Z"
    }
   },
   "outputs": [],
   "source": [
    "lags = [-3, -2, -1, 0]\n",
    "diffs = [True, False]"
   ]
  },
  {
   "cell_type": "code",
   "execution_count": null,
   "id": "bc445ed7-bd52-4ab6-ba70-e2569b013be7",
   "metadata": {},
   "outputs": [],
   "source": []
  },
  {
   "cell_type": "code",
   "execution_count": 11,
   "id": "3cdc8d75-88b5-4387-bb1c-406ebc276fdf",
   "metadata": {
    "execution": {
     "iopub.execute_input": "2024-10-25T00:48:24.497673Z",
     "iopub.status.busy": "2024-10-25T00:48:24.497383Z",
     "iopub.status.idle": "2024-10-25T00:52:23.037888Z",
     "shell.execute_reply": "2024-10-25T00:52:23.036850Z",
     "shell.execute_reply.started": "2024-10-25T00:48:24.497644Z"
    }
   },
   "outputs": [
    {
     "data": {
      "application/vnd.jupyter.widget-view+json": {
       "model_id": "3485560f2d244a92baa5806f62c7a993",
       "version_major": 2,
       "version_minor": 0
      },
      "text/plain": [
       "  0%|          | 0/8 [00:00<?, ?it/s]"
      ]
     },
     "metadata": {},
     "output_type": "display_data"
    },
    {
     "data": {
      "application/vnd.jupyter.widget-view+json": {
       "model_id": "",
       "version_major": 2,
       "version_minor": 0
      },
      "text/plain": [
       "  0%|          | 0/288 [00:00<?, ?it/s]"
      ]
     },
     "metadata": {},
     "output_type": "display_data"
    },
    {
     "data": {
      "application/vnd.jupyter.widget-view+json": {
       "model_id": "",
       "version_major": 2,
       "version_minor": 0
      },
      "text/plain": [
       "  0%|          | 0/291 [00:00<?, ?it/s]"
      ]
     },
     "metadata": {},
     "output_type": "display_data"
    },
    {
     "data": {
      "application/vnd.jupyter.widget-view+json": {
       "model_id": "",
       "version_major": 2,
       "version_minor": 0
      },
      "text/plain": [
       "  0%|          | 0/288 [00:00<?, ?it/s]"
      ]
     },
     "metadata": {},
     "output_type": "display_data"
    },
    {
     "data": {
      "application/vnd.jupyter.widget-view+json": {
       "model_id": "",
       "version_major": 2,
       "version_minor": 0
      },
      "text/plain": [
       "  0%|          | 0/292 [00:00<?, ?it/s]"
      ]
     },
     "metadata": {},
     "output_type": "display_data"
    },
    {
     "data": {
      "application/vnd.jupyter.widget-view+json": {
       "model_id": "",
       "version_major": 2,
       "version_minor": 0
      },
      "text/plain": [
       "  0%|          | 0/289 [00:00<?, ?it/s]"
      ]
     },
     "metadata": {},
     "output_type": "display_data"
    },
    {
     "data": {
      "application/vnd.jupyter.widget-view+json": {
       "model_id": "",
       "version_major": 2,
       "version_minor": 0
      },
      "text/plain": [
       "  0%|          | 0/292 [00:00<?, ?it/s]"
      ]
     },
     "metadata": {},
     "output_type": "display_data"
    },
    {
     "data": {
      "application/vnd.jupyter.widget-view+json": {
       "model_id": "",
       "version_major": 2,
       "version_minor": 0
      },
      "text/plain": [
       "  0%|          | 0/289 [00:00<?, ?it/s]"
      ]
     },
     "metadata": {},
     "output_type": "display_data"
    },
    {
     "data": {
      "application/vnd.jupyter.widget-view+json": {
       "model_id": "",
       "version_major": 2,
       "version_minor": 0
      },
      "text/plain": [
       "  0%|          | 0/292 [00:00<?, ?it/s]"
      ]
     },
     "metadata": {},
     "output_type": "display_data"
    }
   ],
   "source": [
    "correlations = {}\n",
    "pos_data = {}\n",
    "for lag, diff in tqdm(itertools.product(lags, diffs), total=len(lags)*len(diffs)):\n",
    "    \n",
    "    alt_shift_id = alt_W_id\n",
    "    if lag != 0:\n",
    "        alt_shift_id = sdh.transform.shift(fields=alt_shift_id, periods=lag).variable_ids[0]\n",
    "    \n",
    "    alt_Q_shift_id = sdh.transform.resample_by(fields=alt_shift_id, label=funda_Q_id, func='mean').variable_ids[0]\n",
    "    \n",
    "    alt_id = sdh.transform.log_diff(fields=alt_Q_shift_id, periods=4).variable_ids\n",
    "    sales_id = funda_Q_id\n",
    "\n",
    "    if diff:\n",
    "        alt_id = sdh.transform.diff(fields=alt_id, periods=1).variable_ids\n",
    "        sales_id = sdh.transform.diff(fields=sales_id, periods=1).variable_ids\n",
    "\n",
    "    \n",
    "    data = pd.concat({\n",
    "        'y': sdh.get_variables(sales_id).iloc[:, 0], \n",
    "        'X':sdh.get_variables(alt_id).iloc[:, 0]}, axis=1\n",
    "    ).dropna()\n",
    "\n",
    "    \n",
    "    pos_data[lag, diff] = data\n",
    "    for ticker, _ in tqdm(data.groupby('TICKER'), leave=False):\n",
    "        for d in data.xs(ticker).expanding():\n",
    "            if len(d.dropna()) < 10:\n",
    "                continue\n",
    "            mdl = sm.OLS(d['y'], sm.add_constant(d['X'].values), missing=\"drop\").fit()\n",
    "            correlations[ticker, d.index[-1], lag, diff] = { \"t_val\": mdl.tvalues['x1'] }\n",
    "            \n",
    "correlations = pd.DataFrame(correlations).T\n",
    "correlations.index.names = ['TICKER', 'datetime', 'lag', 'diff1']\n",
    "pos_data = pd.concat(pos_data)\n",
    "pos_data.index.names = ['lag', 'diff', 'TICKER', 'DATETIME']"
   ]
  },
  {
   "cell_type": "code",
   "execution_count": 314,
   "id": "f4a37fcc-fd15-4dfd-9313-25c0fb850518",
   "metadata": {
    "execution": {
     "iopub.execute_input": "2024-10-25T06:50:14.145744Z",
     "iopub.status.busy": "2024-10-25T06:50:14.144916Z",
     "iopub.status.idle": "2024-10-25T06:50:14.194015Z",
     "shell.execute_reply": "2024-10-25T06:50:14.192992Z",
     "shell.execute_reply.started": "2024-10-25T06:50:14.145713Z"
    }
   },
   "outputs": [],
   "source": [
    "best_correlations = correlations.sort_values('t_val').groupby(['TICKER', 'datetime']).tail(1).reset_index(['lag', 'diff1']).sort_index()"
   ]
  },
  {
   "cell_type": "markdown",
   "id": "f8e3cfdb-17f3-4be1-8ba7-d05fbdad41ca",
   "metadata": {
    "execution": {
     "iopub.execute_input": "2024-10-24T05:26:09.299093Z",
     "iopub.status.busy": "2024-10-24T05:26:09.298787Z",
     "iopub.status.idle": "2024-10-24T05:26:09.348848Z",
     "shell.execute_reply": "2024-10-24T05:26:09.347594Z",
     "shell.execute_reply.started": "2024-10-24T05:26:09.299063Z"
    }
   },
   "source": [
    "## 予測用データの作成"
   ]
  },
  {
   "cell_type": "code",
   "execution_count": 321,
   "id": "adc2ea8e-1ee3-44c4-a25f-1e5eedc10f9d",
   "metadata": {
    "execution": {
     "iopub.execute_input": "2024-10-25T06:52:54.637547Z",
     "iopub.status.busy": "2024-10-25T06:52:54.636690Z",
     "iopub.status.idle": "2024-10-25T06:55:14.936562Z",
     "shell.execute_reply": "2024-10-25T06:55:14.935713Z",
     "shell.execute_reply.started": "2024-10-25T06:52:54.637514Z"
    }
   },
   "outputs": [
    {
     "data": {
      "application/vnd.jupyter.widget-view+json": {
       "model_id": "849f8c7bafa044369f443c6686f558d2",
       "version_major": 2,
       "version_minor": 0
      },
      "text/plain": [
       "  0%|          | 0/10890 [00:00<?, ?it/s]"
      ]
     },
     "metadata": {},
     "output_type": "display_data"
    },
    {
     "data": {
      "text/html": [
       "<div>\n",
       "<style scoped>\n",
       "    .dataframe tbody tr th:only-of-type {\n",
       "        vertical-align: middle;\n",
       "    }\n",
       "\n",
       "    .dataframe tbody tr th {\n",
       "        vertical-align: top;\n",
       "    }\n",
       "\n",
       "    .dataframe thead th {\n",
       "        text-align: right;\n",
       "    }\n",
       "</style>\n",
       "<table border=\"1\" class=\"dataframe\">\n",
       "  <thead>\n",
       "    <tr style=\"text-align: right;\">\n",
       "      <th></th>\n",
       "      <th></th>\n",
       "      <th>datetime</th>\n",
       "      <th>lag</th>\n",
       "      <th>diff1</th>\n",
       "      <th>t_val</th>\n",
       "    </tr>\n",
       "    <tr>\n",
       "      <th>TICKER</th>\n",
       "      <th>PRED_DATETIME</th>\n",
       "      <th></th>\n",
       "      <th></th>\n",
       "      <th></th>\n",
       "      <th></th>\n",
       "    </tr>\n",
       "  </thead>\n",
       "  <tbody>\n",
       "    <tr>\n",
       "      <th rowspan=\"5\" valign=\"top\">9997</th>\n",
       "      <th>2023-06-30</th>\n",
       "      <td>2023-03-31</td>\n",
       "      <td>-3</td>\n",
       "      <td>True</td>\n",
       "      <td>2.348745</td>\n",
       "    </tr>\n",
       "    <tr>\n",
       "      <th>2023-09-30</th>\n",
       "      <td>2023-06-30</td>\n",
       "      <td>-3</td>\n",
       "      <td>True</td>\n",
       "      <td>2.423474</td>\n",
       "    </tr>\n",
       "    <tr>\n",
       "      <th>2023-12-31</th>\n",
       "      <td>2023-09-30</td>\n",
       "      <td>-3</td>\n",
       "      <td>True</td>\n",
       "      <td>2.452933</td>\n",
       "    </tr>\n",
       "    <tr>\n",
       "      <th>2024-03-31</th>\n",
       "      <td>2023-12-31</td>\n",
       "      <td>-3</td>\n",
       "      <td>True</td>\n",
       "      <td>2.418634</td>\n",
       "    </tr>\n",
       "    <tr>\n",
       "      <th>NaT</th>\n",
       "      <td>2024-03-31</td>\n",
       "      <td>-3</td>\n",
       "      <td>True</td>\n",
       "      <td>2.370913</td>\n",
       "    </tr>\n",
       "  </tbody>\n",
       "</table>\n",
       "</div>"
      ],
      "text/plain": [
       "                       datetime  lag  diff1     t_val\n",
       "TICKER PRED_DATETIME                                 \n",
       "9997   2023-06-30    2023-03-31   -3   True  2.348745\n",
       "       2023-09-30    2023-06-30   -3   True  2.423474\n",
       "       2023-12-31    2023-09-30   -3   True  2.452933\n",
       "       2024-03-31    2023-12-31   -3   True  2.418634\n",
       "       NaT           2024-03-31   -3   True  2.370913"
      ]
     },
     "metadata": {},
     "output_type": "display_data"
    },
    {
     "data": {
      "text/html": [
       "<div>\n",
       "<style scoped>\n",
       "    .dataframe tbody tr th:only-of-type {\n",
       "        vertical-align: middle;\n",
       "    }\n",
       "\n",
       "    .dataframe tbody tr th {\n",
       "        vertical-align: top;\n",
       "    }\n",
       "\n",
       "    .dataframe thead th {\n",
       "        text-align: right;\n",
       "    }\n",
       "</style>\n",
       "<table border=\"1\" class=\"dataframe\">\n",
       "  <thead>\n",
       "    <tr style=\"text-align: right;\">\n",
       "      <th></th>\n",
       "      <th></th>\n",
       "      <th></th>\n",
       "      <th>y</th>\n",
       "      <th>X</th>\n",
       "      <th>con_y</th>\n",
       "    </tr>\n",
       "    <tr>\n",
       "      <th>PRED_DATETIME</th>\n",
       "      <th>TICKER</th>\n",
       "      <th>DATETIME</th>\n",
       "      <th></th>\n",
       "      <th></th>\n",
       "      <th></th>\n",
       "    </tr>\n",
       "  </thead>\n",
       "  <tbody>\n",
       "    <tr>\n",
       "      <th rowspan=\"5\" valign=\"top\">2024-03-31</th>\n",
       "      <th rowspan=\"5\" valign=\"top\">9997</th>\n",
       "      <th>2022-12-31</th>\n",
       "      <td>0.015065</td>\n",
       "      <td>-0.845644</td>\n",
       "      <td>0.081961</td>\n",
       "    </tr>\n",
       "    <tr>\n",
       "      <th>2023-03-31</th>\n",
       "      <td>0.026520</td>\n",
       "      <td>0.629671</td>\n",
       "      <td>0.082671</td>\n",
       "    </tr>\n",
       "    <tr>\n",
       "      <th>2023-09-30</th>\n",
       "      <td>0.006300</td>\n",
       "      <td>-0.032195</td>\n",
       "      <td>-0.093056</td>\n",
       "    </tr>\n",
       "    <tr>\n",
       "      <th>2023-12-31</th>\n",
       "      <td>-0.000614</td>\n",
       "      <td>0.687694</td>\n",
       "      <td>0.006470</td>\n",
       "    </tr>\n",
       "    <tr>\n",
       "      <th>2024-03-31</th>\n",
       "      <td>0.026541</td>\n",
       "      <td>-0.367042</td>\n",
       "      <td>-0.030684</td>\n",
       "    </tr>\n",
       "  </tbody>\n",
       "</table>\n",
       "</div>"
      ],
      "text/plain": [
       "                                        y         X     con_y\n",
       "PRED_DATETIME TICKER DATETIME                                \n",
       "2024-03-31    9997   2022-12-31  0.015065 -0.845644  0.081961\n",
       "                     2023-03-31  0.026520  0.629671  0.082671\n",
       "                     2023-09-30  0.006300 -0.032195 -0.093056\n",
       "                     2023-12-31 -0.000614  0.687694  0.006470\n",
       "                     2024-03-31  0.026541 -0.367042 -0.030684"
      ]
     },
     "metadata": {},
     "output_type": "display_data"
    },
    {
     "data": {
      "text/html": [
       "<div>\n",
       "<style scoped>\n",
       "    .dataframe tbody tr th:only-of-type {\n",
       "        vertical-align: middle;\n",
       "    }\n",
       "\n",
       "    .dataframe tbody tr th {\n",
       "        vertical-align: top;\n",
       "    }\n",
       "\n",
       "    .dataframe thead th {\n",
       "        text-align: right;\n",
       "    }\n",
       "</style>\n",
       "<table border=\"1\" class=\"dataframe\">\n",
       "  <thead>\n",
       "    <tr style=\"text-align: right;\">\n",
       "      <th></th>\n",
       "      <th></th>\n",
       "      <th></th>\n",
       "      <th>y</th>\n",
       "      <th>X</th>\n",
       "    </tr>\n",
       "    <tr>\n",
       "      <th>PRED_DATETIME</th>\n",
       "      <th>TICKER</th>\n",
       "      <th>DATETIME</th>\n",
       "      <th></th>\n",
       "      <th></th>\n",
       "    </tr>\n",
       "  </thead>\n",
       "  <tbody>\n",
       "    <tr>\n",
       "      <th rowspan=\"5\" valign=\"top\">2023-06-30</th>\n",
       "      <th rowspan=\"5\" valign=\"top\">9997</th>\n",
       "      <th>2022-06-30</th>\n",
       "      <td>-0.081314</td>\n",
       "      <td>0.135409</td>\n",
       "    </tr>\n",
       "    <tr>\n",
       "      <th>2022-09-30</th>\n",
       "      <td>0.064297</td>\n",
       "      <td>0.528664</td>\n",
       "    </tr>\n",
       "    <tr>\n",
       "      <th>2022-12-31</th>\n",
       "      <td>0.015065</td>\n",
       "      <td>-0.845644</td>\n",
       "    </tr>\n",
       "    <tr>\n",
       "      <th>2023-03-31</th>\n",
       "      <td>0.026520</td>\n",
       "      <td>0.629671</td>\n",
       "    </tr>\n",
       "    <tr>\n",
       "      <th>2023-06-30</th>\n",
       "      <td>-0.038482</td>\n",
       "      <td>-0.384819</td>\n",
       "    </tr>\n",
       "  </tbody>\n",
       "</table>\n",
       "</div>"
      ],
      "text/plain": [
       "                                        y         X\n",
       "PRED_DATETIME TICKER DATETIME                      \n",
       "2023-06-30    9997   2022-06-30 -0.081314  0.135409\n",
       "                     2022-09-30  0.064297  0.528664\n",
       "                     2022-12-31  0.015065 -0.845644\n",
       "                     2023-03-31  0.026520  0.629671\n",
       "                     2023-06-30 -0.038482 -0.384819"
      ]
     },
     "metadata": {},
     "output_type": "display_data"
    }
   ],
   "source": [
    "def set_data(dic, d):\n",
    "\n",
    "    d = d.dropna().copy()\n",
    "    if len(d) <= 20:\n",
    "        return\n",
    "    d.index.names = ['DATETIME']\n",
    "    d['PRED_DATETIME'] = datetime\n",
    "    d['TICKER'] = ticker\n",
    "    d = d.reset_index().set_index(['PRED_DATETIME', 'TICKER', 'DATETIME'])\n",
    "    dic.append(d)\n",
    "\n",
    "\n",
    "dataset_with_consensus = []\n",
    "dataset_without_consensus = []\n",
    "for (ticker, until), setting in tqdm(best_correlations.iloc[:].iterrows(), total=len(best_correlations.iloc[:])):\n",
    "    lag, diff1 = setting['lag'], setting['diff1']\n",
    "    d = pos_data.xs(lag).xs(diff1).xs(ticker).loc[:until].copy()\n",
    "    try:\n",
    "        target = pos_data.xs(lag).xs(diff1).xs(ticker).loc[until:].iloc[1]\n",
    "    except:\n",
    "        continue\n",
    "    datetime = target.name\n",
    "    best_correlations.loc[(ticker, until), 'PRED_DATETIME'] = datetime\n",
    "    \n",
    "    YoY0 = sales_YoY.xs(ticker).xs(datetime)\n",
    "    YoY1 = pos_data.xs(lag).xs(False).xs(ticker).xs(datetime)['y']\n",
    "    if abs(YoY0 - YoY1) > 1e-4: # 別途用意した売上実績から計算したYoYと乖離がある場合は除外(売上集計の定義が変化?)\n",
    "        continue\n",
    "    \n",
    "    d = pd.concat([d, target.to_frame().T])\n",
    "    if (ticker, datetime) in cons.index and HAS_MY_SALES:\n",
    "        con = cons.xs(ticker)[['consensus']]\n",
    "        con['pre'] = sales.xs(ticker).shift(4)['sales']\n",
    "        con['y'] = np.log(con['consensus'] / con['pre'])\n",
    "        if diff1:\n",
    "            con['y'] = con['y'].diff()\n",
    "        d['con_y'] = con['y']\n",
    "        \n",
    "        set_data(dataset_with_consensus, d)   \n",
    "    else:\n",
    "        set_data(dataset_without_consensus, d)\n",
    "\n",
    "\n",
    "dfbest_correlations = best_correlations.reset_index().set_index(['TICKER', 'PRED_DATETIME'])\n",
    "dfdataset_with_cons = pd.concat(dataset_with_consensus)\n",
    "dfdataset_without_cons = pd.concat(dataset_without_consensus)\n",
    "\n",
    "display(dfbest_correlations.tail())\n",
    "display(dfpred_with_cons.tail())\n",
    "display(dfpred_without_cons.tail())"
   ]
  },
  {
   "cell_type": "markdown",
   "id": "0109fc2c-3f21-4402-bfaf-e92e16d7d27a",
   "metadata": {},
   "source": [
    "## 予測処理"
   ]
  },
  {
   "cell_type": "code",
   "execution_count": 323,
   "id": "9789b93d-7f55-4a75-99a1-555cde9f7537",
   "metadata": {
    "execution": {
     "iopub.execute_input": "2024-10-25T06:56:16.370786Z",
     "iopub.status.busy": "2024-10-25T06:56:16.369963Z",
     "iopub.status.idle": "2024-10-25T06:56:16.383885Z",
     "shell.execute_reply": "2024-10-25T06:56:16.382885Z",
     "shell.execute_reply.started": "2024-10-25T06:56:16.370753Z"
    }
   },
   "outputs": [],
   "source": [
    "def predict(dataset: pd.DataFrame, dfbest_corr: pd.DataFrame, X: list, y: str):\n",
    "\n",
    "    prediction = {}\n",
    "    for (ticker, datetime), df in tqdm(dataset.groupby(['TICKER', 'PRED_DATETIME'])):\n",
    "        train_x = df[df.index.get_level_values('DATETIME') < datetime][X]\n",
    "        train_y = df[df.index.get_level_values('DATETIME') < datetime][y]\n",
    "        test_x = df[df.index.get_level_values('DATETIME') == datetime][X].iloc[0]\n",
    "        until = train_x.index.get_level_values('DATETIME').max()\n",
    "    \n",
    "        params = dfbest_corr.xs(ticker).xs(datetime)\n",
    "        lag, diff1, t_val, until = params.lag, params.diff1, params.t_val, params['datetime']\n",
    "    \n",
    "        mdl = sm.OLS(train_y, sm.add_constant(train_x.values), missing=\"drop\").fit()\n",
    "        y_predict = mdl.predict([1, *[test_x[x] for x in X]])\n",
    "        \n",
    "        ys = pos_data.xs(lag).xs(ticker, level='TICKER')[y].unstack('diff').loc[:datetime].copy()\n",
    "        try:\n",
    "            sales_pre = sales.xs(ticker).loc[:datetime, 'sales'].iloc[-5]\n",
    "            sales_actual = sales.xs(ticker).xs(datetime)['sales'] # np.exp(ys).loc[datetime, False] * sales_pre\n",
    "            sales_extrapolation = np.exp(ys[False].iloc[-2]) * sales_pre # 前期の実績成長率(YoY) * 前年同期の売上\n",
    "        except:\n",
    "            continue\n",
    "        \n",
    "        ys.loc[datetime, diff1] = y_predict\n",
    "        ys.loc[datetime, not diff1] = np.nan\n",
    "        if diff1:\n",
    "            ys.loc[datetime, False] = ys.loc[until, False] + ys.loc[datetime, True]\n",
    "        sales_predict = np.exp(ys).loc[datetime, False] * sales_pre\n",
    "        prediction[ticker, datetime] = {\n",
    "            'actual': sales_actual, \n",
    "            'predict': sales_predict,\n",
    "            \"t_val\": t_val,\n",
    "            \"extrapolation\": sales_extrapolation\n",
    "        }\n",
    "\n",
    "    prediction = pd.DataFrame(prediction).T\n",
    "    prediction.index.names = ['TICKER', 'datetime']\n",
    "\n",
    "    return prediction"
   ]
  },
  {
   "cell_type": "markdown",
   "id": "04ea1285-eab0-47d3-9c17-3ebf8df3f48b",
   "metadata": {},
   "source": [
    "### コンセンサス存在の銘柄に対する予測\n",
    "コンセンサスとPOSによる線形重回帰"
   ]
  },
  {
   "cell_type": "code",
   "execution_count": 324,
   "id": "a73d9f28-f5b0-49a3-8fd7-dd33360befba",
   "metadata": {
    "execution": {
     "iopub.execute_input": "2024-10-25T06:56:19.542432Z",
     "iopub.status.busy": "2024-10-25T06:56:19.541723Z",
     "iopub.status.idle": "2024-10-25T06:56:41.131200Z",
     "shell.execute_reply": "2024-10-25T06:56:41.130170Z",
     "shell.execute_reply.started": "2024-10-25T06:56:19.542398Z"
    }
   },
   "outputs": [
    {
     "data": {
      "application/vnd.jupyter.widget-view+json": {
       "model_id": "13f965f9d10e40df817db1dd26da19ce",
       "version_major": 2,
       "version_minor": 0
      },
      "text/plain": [
       "  0%|          | 0/2606 [00:00<?, ?it/s]"
      ]
     },
     "metadata": {},
     "output_type": "display_data"
    }
   ],
   "source": [
    "prediction_with_consensus = predict(dfdataset_with_cons, dfbest_correlations, ['X', 'con_y'], 'y')"
   ]
  },
  {
   "cell_type": "code",
   "execution_count": 325,
   "id": "d6dcd5ae-4100-4fee-bda8-8ad1466f824a",
   "metadata": {
    "execution": {
     "iopub.execute_input": "2024-10-25T06:56:42.582691Z",
     "iopub.status.busy": "2024-10-25T06:56:42.582120Z",
     "iopub.status.idle": "2024-10-25T06:56:42.589769Z",
     "shell.execute_reply": "2024-10-25T06:56:42.588734Z",
     "shell.execute_reply.started": "2024-10-25T06:56:42.582659Z"
    }
   },
   "outputs": [],
   "source": [
    "prediction_with_consensus['consensus'] = cons['consensus']"
   ]
  },
  {
   "cell_type": "code",
   "execution_count": 326,
   "id": "9a6beffd-5f56-4693-82c9-76b9591c29be",
   "metadata": {
    "execution": {
     "iopub.execute_input": "2024-10-25T06:56:43.729346Z",
     "iopub.status.busy": "2024-10-25T06:56:43.728796Z",
     "iopub.status.idle": "2024-10-25T06:56:43.738553Z",
     "shell.execute_reply": "2024-10-25T06:56:43.737624Z",
     "shell.execute_reply.started": "2024-10-25T06:56:43.729314Z"
    }
   },
   "outputs": [],
   "source": [
    "prediction_with_consensus['Predict'] = (prediction_with_consensus['predict'] - prediction_with_consensus['actual']) / prediction_with_consensus['actual']\n",
    "prediction_with_consensus['Consensus'] = (prediction_with_consensus['consensus'] - prediction_with_consensus['actual']) / prediction_with_consensus['actual']\n",
    "prediction_with_consensus['win'] = \\\n",
    "(prediction_with_consensus['predict'] - prediction_with_consensus['actual']).abs() < (prediction_with_consensus['consensus']  - prediction_with_consensus['actual']).abs()"
   ]
  },
  {
   "cell_type": "code",
   "execution_count": 327,
   "id": "e190c433-9f91-4db7-942a-10d6bd6e794f",
   "metadata": {
    "execution": {
     "iopub.execute_input": "2024-10-25T06:56:45.014451Z",
     "iopub.status.busy": "2024-10-25T06:56:45.013888Z",
     "iopub.status.idle": "2024-10-25T06:56:45.091662Z",
     "shell.execute_reply": "2024-10-25T06:56:45.090490Z",
     "shell.execute_reply.started": "2024-10-25T06:56:45.014420Z"
    }
   },
   "outputs": [
    {
     "data": {
      "text/html": [
       "<div>\n",
       "<style scoped>\n",
       "    .dataframe tbody tr th:only-of-type {\n",
       "        vertical-align: middle;\n",
       "    }\n",
       "\n",
       "    .dataframe tbody tr th {\n",
       "        vertical-align: top;\n",
       "    }\n",
       "\n",
       "    .dataframe thead th {\n",
       "        text-align: right;\n",
       "    }\n",
       "</style>\n",
       "<table border=\"1\" class=\"dataframe\">\n",
       "  <thead>\n",
       "    <tr style=\"text-align: right;\">\n",
       "      <th></th>\n",
       "      <th>RMSPE</th>\n",
       "    </tr>\n",
       "  </thead>\n",
       "  <tbody>\n",
       "    <tr>\n",
       "      <th>Predict</th>\n",
       "      <td>0.111908</td>\n",
       "    </tr>\n",
       "    <tr>\n",
       "      <th>Consensus</th>\n",
       "      <td>0.149455</td>\n",
       "    </tr>\n",
       "  </tbody>\n",
       "</table>\n",
       "</div>"
      ],
      "text/plain": [
       "              RMSPE\n",
       "Predict    0.111908\n",
       "Consensus  0.149455"
      ]
     },
     "execution_count": 327,
     "metadata": {},
     "output_type": "execute_result"
    }
   ],
   "source": [
    "prediction_with_consensus['win_rate_until'] = prediction_with_consensus['win'].sort_index().groupby('TICKER', group_keys=False).apply(lambda x: x.expanding().mean().shift(1))\n",
    "pre_win = prediction_with_consensus[prediction_with_consensus['win_rate_until']>0.5].copy()\n",
    "np.sqrt( (pre_win[['Predict', 'Consensus']]**2).mean() ).to_frame('RMSPE')"
   ]
  },
  {
   "cell_type": "code",
   "execution_count": 197,
   "id": "d83ec597-1859-4fdd-9c28-763ed887b390",
   "metadata": {
    "execution": {
     "iopub.execute_input": "2024-10-25T05:04:36.830937Z",
     "iopub.status.busy": "2024-10-25T05:04:36.830156Z",
     "iopub.status.idle": "2024-10-25T05:04:37.186410Z",
     "shell.execute_reply": "2024-10-25T05:04:37.185529Z",
     "shell.execute_reply.started": "2024-10-25T05:04:36.830903Z"
    }
   },
   "outputs": [
    {
     "data": {
      "text/plain": [
       "<AxesSubplot: title={'center': '0'}, xlabel='level_2'>"
      ]
     },
     "execution_count": 197,
     "metadata": {},
     "output_type": "execute_result"
    },
    {
     "data": {
      "image/png": "[encoded data removed]",
      "text/plain": [
       "<Figure size 640x480 with 1 Axes>"
      ]
     },
     "metadata": {},
     "output_type": "display_data"
    }
   ],
   "source": [
    "pre_win[['Predict', 'Consensus']].stack().reset_index(level=-1).boxplot(0, by='level_2')"
   ]
  },
  {
   "cell_type": "code",
   "execution_count": 198,
   "id": "fdb6faef-fdd9-4e6e-ab08-287691c39e60",
   "metadata": {
    "execution": {
     "iopub.execute_input": "2024-10-25T05:04:37.699435Z",
     "iopub.status.busy": "2024-10-25T05:04:37.698879Z",
     "iopub.status.idle": "2024-10-25T05:04:37.714190Z",
     "shell.execute_reply": "2024-10-25T05:04:37.713322Z",
     "shell.execute_reply.started": "2024-10-25T05:04:37.699403Z"
    }
   },
   "outputs": [
    {
     "data": {
      "text/html": [
       "<div>\n",
       "<style scoped>\n",
       "    .dataframe tbody tr th:only-of-type {\n",
       "        vertical-align: middle;\n",
       "    }\n",
       "\n",
       "    .dataframe tbody tr th {\n",
       "        vertical-align: top;\n",
       "    }\n",
       "\n",
       "    .dataframe thead th {\n",
       "        text-align: right;\n",
       "    }\n",
       "</style>\n",
       "<table border=\"1\" class=\"dataframe\">\n",
       "  <thead>\n",
       "    <tr style=\"text-align: right;\">\n",
       "      <th></th>\n",
       "      <th>direction_is_coincident</th>\n",
       "    </tr>\n",
       "  </thead>\n",
       "  <tbody>\n",
       "    <tr>\n",
       "      <th>True</th>\n",
       "      <td>560</td>\n",
       "    </tr>\n",
       "    <tr>\n",
       "      <th>False</th>\n",
       "      <td>306</td>\n",
       "    </tr>\n",
       "  </tbody>\n",
       "</table>\n",
       "</div>"
      ],
      "text/plain": [
       "       direction_is_coincident\n",
       "True                       560\n",
       "False                      306"
      ]
     },
     "metadata": {},
     "output_type": "display_data"
    },
    {
     "name": "stdout",
     "output_type": "stream",
     "text": [
      "rate = 0.6466512702078522\n"
     ]
    }
   ],
   "source": [
    "matrix = ((pre_win['actual'] - pre_win['consensus']).map(np.sign) == (pre_win['predict'] - pre_win['consensus']).map(np.sign)).value_counts()\n",
    "display(matrix.to_frame('direction_is_coincident'))\n",
    "print(f'rate = {matrix[True] / sum(matrix)}')"
   ]
  },
  {
   "cell_type": "code",
   "execution_count": null,
   "id": "c74a8791-2b1a-4497-a520-79a2b56e95cd",
   "metadata": {},
   "outputs": [],
   "source": []
  },
  {
   "cell_type": "code",
   "execution_count": 199,
   "id": "1e208359-d1ea-41b8-a11c-f6b2022a69e0",
   "metadata": {
    "execution": {
     "iopub.execute_input": "2024-10-25T05:04:41.484888Z",
     "iopub.status.busy": "2024-10-25T05:04:41.484322Z",
     "iopub.status.idle": "2024-10-25T05:04:41.979982Z",
     "shell.execute_reply": "2024-10-25T05:04:41.979111Z",
     "shell.execute_reply.started": "2024-10-25T05:04:41.484856Z"
    }
   },
   "outputs": [
    {
     "data": {
      "text/plain": [
       "Text(0.5, 1.0, 'コンセンサス予想 : 前年同期より増加\\nPOSによる予想 : 前年同期より減少')"
      ]
     },
     "execution_count": 199,
     "metadata": {},
     "output_type": "execute_result"
    },
    {
     "data": {
      "image/png": "[encoded data removed]",
      "text/plain": [
       "<Figure size 1500x500 with 2 Axes>"
      ]
     },
     "metadata": {},
     "output_type": "display_data"
    }
   ],
   "source": [
    "pre_win['actual_pre'] = sales.sort_index()['sales'].groupby('TICKER', group_keys=False).apply(lambda x: x.shift(4))\n",
    "pre_win['actual_YoY'] = np.log(pre_win['actual']) - np.log(pre_win['actual_pre'])\n",
    "pre_win['predict_YoY'] = np.log(pre_win['predict']) - np.log(pre_win['actual_pre'])\n",
    "pre_win['consensus_YoY'] = np.log(pre_win['consensus']) - np.log(pre_win['actual_pre'])\n",
    "\n",
    "_, axes = plt.subplots(1, 2, figsize=(15,5))\n",
    "pre_win[(pre_win['consensus_YoY'] < 0) & (pre_win['predict_YoY'] > 0) ]['actual_YoY'].map(np.sign).map({1:'前年同期より増加', -1:'前年同期より減少'}).value_counts().sort_index().plot.bar(ax=axes[0], rot=0)\n",
    "axes[0].set_title('コンセンサス予想 : 前年同期より減少\\nPOSによる予想 : 前年同期より増加')\n",
    "pre_win[(pre_win['consensus_YoY'] > 0) & (pre_win['predict_YoY'] < 0) ]['actual_YoY'].map(np.sign).map({1:'前年同期より増加', -1:'前年同期より減少'}).value_counts().sort_index().plot.bar(ax=axes[1], rot=0)\n",
    "axes[1].set_title('コンセンサス予想 : 前年同期より増加\\nPOSによる予想 : 前年同期より減少')"
   ]
  },
  {
   "cell_type": "code",
   "execution_count": null,
   "id": "6e917821-f690-438a-bc91-364acf8cb54e",
   "metadata": {},
   "outputs": [],
   "source": []
  },
  {
   "cell_type": "code",
   "execution_count": 200,
   "id": "d940703b-634a-4114-a420-75e43459949e",
   "metadata": {
    "execution": {
     "iopub.execute_input": "2024-10-25T05:04:44.875337Z",
     "iopub.status.busy": "2024-10-25T05:04:44.874751Z",
     "iopub.status.idle": "2024-10-25T05:04:44.891543Z",
     "shell.execute_reply": "2024-10-25T05:04:44.890535Z",
     "shell.execute_reply.started": "2024-10-25T05:04:44.875304Z"
    }
   },
   "outputs": [
    {
     "data": {
      "text/html": [
       "<div>\n",
       "<style scoped>\n",
       "    .dataframe tbody tr th:only-of-type {\n",
       "        vertical-align: middle;\n",
       "    }\n",
       "\n",
       "    .dataframe tbody tr th {\n",
       "        vertical-align: top;\n",
       "    }\n",
       "\n",
       "    .dataframe thead th {\n",
       "        text-align: right;\n",
       "    }\n",
       "</style>\n",
       "<table border=\"1\" class=\"dataframe\">\n",
       "  <thead>\n",
       "    <tr style=\"text-align: right;\">\n",
       "      <th></th>\n",
       "      <th>rate</th>\n",
       "      <th>count</th>\n",
       "    </tr>\n",
       "    <tr>\n",
       "      <th>TICKER</th>\n",
       "      <th></th>\n",
       "      <th></th>\n",
       "    </tr>\n",
       "  </thead>\n",
       "  <tbody>\n",
       "    <tr>\n",
       "      <th>6702</th>\n",
       "      <td>0.475000</td>\n",
       "      <td>40</td>\n",
       "    </tr>\n",
       "    <tr>\n",
       "      <th>3402</th>\n",
       "      <td>0.487805</td>\n",
       "      <td>41</td>\n",
       "    </tr>\n",
       "    <tr>\n",
       "      <th>4901</th>\n",
       "      <td>0.512195</td>\n",
       "      <td>41</td>\n",
       "    </tr>\n",
       "    <tr>\n",
       "      <th>8113</th>\n",
       "      <td>0.525000</td>\n",
       "      <td>40</td>\n",
       "    </tr>\n",
       "    <tr>\n",
       "      <th>4188</th>\n",
       "      <td>0.625000</td>\n",
       "      <td>40</td>\n",
       "    </tr>\n",
       "  </tbody>\n",
       "</table>\n",
       "</div>"
      ],
      "text/plain": [
       "            rate  count\n",
       "TICKER                 \n",
       "6702    0.475000     40\n",
       "3402    0.487805     41\n",
       "4901    0.512195     41\n",
       "8113    0.525000     40\n",
       "4188    0.625000     40"
      ]
     },
     "execution_count": 200,
     "metadata": {},
     "output_type": "execute_result"
    }
   ],
   "source": [
    "examples = pd.concat({'rate': prediction_with_consensus.groupby('TICKER')['win'].mean().sort_values(), 'count': prediction_with_consensus.groupby('TICKER')['win'].size()}, axis=1)\n",
    "examples[examples['count']>=40].sort_values('rate').tail()"
   ]
  },
  {
   "cell_type": "code",
   "execution_count": 202,
   "id": "cbfebfea-1e57-4d35-babb-7ed329f427a3",
   "metadata": {
    "execution": {
     "iopub.execute_input": "2024-10-25T05:04:56.559719Z",
     "iopub.status.busy": "2024-10-25T05:04:56.559033Z",
     "iopub.status.idle": "2024-10-25T05:04:56.967443Z",
     "shell.execute_reply": "2024-10-25T05:04:56.966380Z",
     "shell.execute_reply.started": "2024-10-25T05:04:56.559684Z"
    }
   },
   "outputs": [
    {
     "data": {
      "text/plain": [
       "Text(0, 0.5, 'YoY(logdiff)')"
      ]
     },
     "execution_count": 202,
     "metadata": {},
     "output_type": "execute_result"
    },
    {
     "data": {
      "image/png": "[encoded data removed]",
      "text/plain": [
       "<Figure size 1500x500 with 1 Axes>"
      ]
     },
     "metadata": {},
     "output_type": "display_data"
    }
   ],
   "source": [
    "ticker = '4188'\n",
    "sample = prediction_with_consensus.xs(ticker)[['actual', 'predict', 'consensus']].copy()\n",
    "sample['pre'] = sales.xs(ticker).sort_index().shift(4)['sales']\n",
    "sample[['pos', 'y']] = pos_data.xs(0).xs(False).xs(ticker)[['X', 'y']]\n",
    "\n",
    "ax = (np.log(sample['actual']) - np.log(sample['pre'])).plot(color='black', linewidth=3, figsize=(15,5), label='actual')\n",
    "(np.log(sample['predict']) - np.log(sample['pre'])).plot(color='red', ax=ax, label='predict')\n",
    "(np.log(sample['consensus']) - np.log(sample['pre'])).plot(color='blue', ax=ax, label='consensus')\n",
    "# sample['y'].plot(ax=ax, label='y', linestyle=':')\n",
    "# sample['pos'].plot(ax=ax, label='POS', linestyle=':')\n",
    "ax.legend()\n",
    "plt.ylabel('YoY(logdiff)')"
   ]
  },
  {
   "cell_type": "markdown",
   "id": "de2acda2-7ea9-42a8-a00a-7b448bb6b115",
   "metadata": {},
   "source": [
    "### コンセンサス不在の銘柄に対する予測\n",
    "POSによる線形単回帰"
   ]
  },
  {
   "cell_type": "code",
   "execution_count": 303,
   "id": "48db6afc-9afb-4252-89e3-92715cf0f974",
   "metadata": {
    "execution": {
     "iopub.execute_input": "2024-10-25T06:42:11.918168Z",
     "iopub.status.busy": "2024-10-25T06:42:11.917334Z",
     "iopub.status.idle": "2024-10-25T06:42:48.286562Z",
     "shell.execute_reply": "2024-10-25T06:42:48.285499Z",
     "shell.execute_reply.started": "2024-10-25T06:42:11.918134Z"
    }
   },
   "outputs": [
    {
     "data": {
      "application/vnd.jupyter.widget-view+json": {
       "model_id": "d7c43931e3af47509fefb31a1fe4a610",
       "version_major": 2,
       "version_minor": 0
      },
      "text/plain": [
       "  0%|          | 0/4093 [00:00<?, ?it/s]"
      ]
     },
     "metadata": {},
     "output_type": "display_data"
    }
   ],
   "source": [
    "prediction_without_consensus = predict(dfdataset_without_cons, dfbest_correlations, ['X'], 'y')"
   ]
  },
  {
   "cell_type": "code",
   "execution_count": 304,
   "id": "5d53bb71-5e20-4119-a7b4-6c31c7722968",
   "metadata": {
    "execution": {
     "iopub.execute_input": "2024-10-25T06:43:11.349013Z",
     "iopub.status.busy": "2024-10-25T06:43:11.348182Z",
     "iopub.status.idle": "2024-10-25T06:43:11.455204Z",
     "shell.execute_reply": "2024-10-25T06:43:11.454297Z",
     "shell.execute_reply.started": "2024-10-25T06:43:11.348980Z"
    }
   },
   "outputs": [],
   "source": [
    "\n",
    "prediction_without_consensus['Predict'] = (prediction_without_consensus['predict'] - prediction_without_consensus['actual']) / prediction_without_consensus['actual']\n",
    "prediction_without_consensus['Extrapolation'] = (prediction_without_consensus['extrapolation'] - prediction_without_consensus['actual']) / prediction_without_consensus['actual'] \n",
    "prediction_without_consensus['share'] = share_ts.groupby('seccode', group_keys=False)['mean'].apply(lambda x: x.shift(1)).reindex(prediction_without_consensus.index)\n",
    "prediction_without_consensus['Extrapolation'] = (prediction_without_consensus['extrapolation'] - prediction_without_consensus['actual']) / prediction_without_consensus['actual'] "
   ]
  },
  {
   "cell_type": "code",
   "execution_count": 305,
   "id": "d828a976-2f4e-4b97-a946-28dac446b7fb",
   "metadata": {
    "execution": {
     "iopub.execute_input": "2024-10-25T06:43:12.619740Z",
     "iopub.status.busy": "2024-10-25T06:43:12.619078Z",
     "iopub.status.idle": "2024-10-25T06:43:12.627036Z",
     "shell.execute_reply": "2024-10-25T06:43:12.626119Z",
     "shell.execute_reply.started": "2024-10-25T06:43:12.619707Z"
    }
   },
   "outputs": [],
   "source": [
    "good = prediction_without_consensus[(prediction_without_consensus['share']>0.05)&(prediction_without_consensus['t_val']>0)].copy()"
   ]
  },
  {
   "cell_type": "code",
   "execution_count": 306,
   "id": "9d5e9fbb-f0e3-41c0-9480-1c14d7457a2d",
   "metadata": {
    "execution": {
     "iopub.execute_input": "2024-10-25T06:43:13.821567Z",
     "iopub.status.busy": "2024-10-25T06:43:13.820762Z",
     "iopub.status.idle": "2024-10-25T06:43:13.832735Z",
     "shell.execute_reply": "2024-10-25T06:43:13.831659Z",
     "shell.execute_reply.started": "2024-10-25T06:43:13.821533Z"
    }
   },
   "outputs": [
    {
     "data": {
      "text/html": [
       "<div>\n",
       "<style scoped>\n",
       "    .dataframe tbody tr th:only-of-type {\n",
       "        vertical-align: middle;\n",
       "    }\n",
       "\n",
       "    .dataframe tbody tr th {\n",
       "        vertical-align: top;\n",
       "    }\n",
       "\n",
       "    .dataframe thead th {\n",
       "        text-align: right;\n",
       "    }\n",
       "</style>\n",
       "<table border=\"1\" class=\"dataframe\">\n",
       "  <thead>\n",
       "    <tr style=\"text-align: right;\">\n",
       "      <th></th>\n",
       "      <th>RMSPE</th>\n",
       "    </tr>\n",
       "  </thead>\n",
       "  <tbody>\n",
       "    <tr>\n",
       "      <th>Predict</th>\n",
       "      <td>0.122343</td>\n",
       "    </tr>\n",
       "    <tr>\n",
       "      <th>Extrapolation</th>\n",
       "      <td>0.143605</td>\n",
       "    </tr>\n",
       "  </tbody>\n",
       "</table>\n",
       "</div>"
      ],
      "text/plain": [
       "                  RMSPE\n",
       "Predict        0.122343\n",
       "Extrapolation  0.143605"
      ]
     },
     "execution_count": 306,
     "metadata": {},
     "output_type": "execute_result"
    }
   ],
   "source": [
    "np.sqrt(((good[['Predict', 'Extrapolation']])**2).mean()).to_frame('RMSPE')"
   ]
  },
  {
   "cell_type": "code",
   "execution_count": null,
   "id": "f16ce271-fa34-4737-90af-164612ee988d",
   "metadata": {},
   "outputs": [],
   "source": []
  },
  {
   "cell_type": "code",
   "execution_count": null,
   "id": "242112f2-fa35-46c9-9350-26ac8d44e10b",
   "metadata": {},
   "outputs": [],
   "source": []
  },
  {
   "cell_type": "markdown",
   "id": "fc4cd8ec-22af-45aa-819e-3117271ef1a4",
   "metadata": {},
   "source": [
    "宇野さんに確認：\n",
    "実績に戻す必要について\n"
   ]
  },
  {
   "cell_type": "code",
   "execution_count": null,
   "id": "a2523b62-c8f5-470b-8218-e8cc458efe76",
   "metadata": {
    "execution": {
     "iopub.status.busy": "2024-10-25T00:54:14.825706Z",
     "iopub.status.idle": "2024-10-25T00:54:14.826050Z",
     "shell.execute_reply": "2024-10-25T00:54:14.825893Z",
     "shell.execute_reply.started": "2024-10-25T00:54:14.825877Z"
    }
   },
   "outputs": [],
   "source": [
    "## backtestしたい\n",
    "- prediction\n",
    "- コンセンサス\n",
    "- extrapolation"
   ]
  }
 ],
 "metadata": {
  "kernelspec": {
   "display_name": "inv",
   "language": "python",
   "name": "inv"
  },
  "language_info": {
   "codemirror_mode": {
    "name": "ipython",
    "version": 3
   },
   "file_extension": ".py",
   "mimetype": "text/x-python",
   "name": "python",
   "nbconvert_exporter": "python",
   "pygments_lexer": "ipython3",
   "version": "3.9.19"
  }
 },
 "nbformat": 4,
 "nbformat_minor": 5
}
