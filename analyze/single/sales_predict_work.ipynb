{
 "cells": [
  {
   "cell_type": "code",
   "execution_count": 1,
   "id": "3e6dba45-6242-411b-94ab-0818bbff72c7",
   "metadata": {
    "execution": {
     "iopub.execute_input": "2024-10-25T06:58:17.520391Z",
     "iopub.status.busy": "2024-10-25T06:58:17.519797Z",
     "iopub.status.idle": "2024-10-25T06:58:26.098071Z",
     "shell.execute_reply": "2024-10-25T06:58:26.096912Z",
     "shell.execute_reply.started": "2024-10-25T06:58:17.520352Z"
    }
   },
   "outputs": [
    {
     "name": "stdout",
     "output_type": "stream",
     "text": [
      "Looking in indexes: https://ci-nexus.ai-knows.com/repository/pypi-group-aiq/simple\n",
      "Requirement already satisfied: openpyxl in /home/schiba/miniconda3/lib/python3.9/site-packages (3.1.5)\n",
      "Requirement already satisfied: et-xmlfile in /home/schiba/miniconda3/lib/python3.9/site-packages (from openpyxl) (1.1.0)\n",
      "Looking in indexes: https://ci-nexus.ai-knows.com/repository/pypi-group-aiq/simple\n",
      "Requirement already satisfied: japanize-matplotlib in /home/schiba/miniconda3/lib/python3.9/site-packages (1.1.3)\n",
      "Requirement already satisfied: matplotlib in /home/schiba/miniconda3/lib/python3.9/site-packages (from japanize-matplotlib) (3.9.2)\n",
      "Requirement already satisfied: contourpy>=1.0.1 in /home/schiba/miniconda3/lib/python3.9/site-packages (from matplotlib->japanize-matplotlib) (1.3.0)\n",
      "Requirement already satisfied: cycler>=0.10 in /home/schiba/miniconda3/lib/python3.9/site-packages (from matplotlib->japanize-matplotlib) (0.12.1)\n",
      "Requirement already satisfied: importlib-resources>=3.2.0 in /home/schiba/miniconda3/lib/python3.9/site-packages (from matplotlib->japanize-matplotlib) (6.4.0)\n",
      "Requirement already satisfied: pillow>=8 in /home/schiba/miniconda3/lib/python3.9/site-packages (from matplotlib->japanize-matplotlib) (11.0.0)\n",
      "Requirement already satisfied: kiwisolver>=1.3.1 in /home/schiba/miniconda3/lib/python3.9/site-packages (from matplotlib->japanize-matplotlib) (1.4.7)\n",
      "Requirement already satisfied: packaging>=20.0 in /home/schiba/miniconda3/lib/python3.9/site-packages (from matplotlib->japanize-matplotlib) (23.2)\n",
      "Requirement already satisfied: python-dateutil>=2.7 in /home/schiba/miniconda3/lib/python3.9/site-packages (from matplotlib->japanize-matplotlib) (2.8.2)\n",
      "Requirement already satisfied: pyparsing>=2.3.1 in /home/schiba/miniconda3/lib/python3.9/site-packages (from matplotlib->japanize-matplotlib) (3.2.0)\n",
      "Requirement already satisfied: numpy>=1.23 in /home/schiba/miniconda3/lib/python3.9/site-packages (from matplotlib->japanize-matplotlib) (1.23.5)\n",
      "Requirement already satisfied: fonttools>=4.22.0 in /home/schiba/miniconda3/lib/python3.9/site-packages (from matplotlib->japanize-matplotlib) (4.54.1)\n",
      "Requirement already satisfied: numpy>=1.23 in /home/schiba/miniconda3/lib/python3.9/site-packages (from matplotlib->japanize-matplotlib) (1.23.5)\n",
      "Requirement already satisfied: zipp>=3.1.0 in /home/schiba/miniconda3/lib/python3.9/site-packages (from importlib-resources>=3.2.0->matplotlib->japanize-matplotlib) (3.17.0)\n",
      "Requirement already satisfied: six>=1.5 in /home/schiba/miniconda3/lib/python3.9/site-packages (from python-dateutil>=2.7->matplotlib->japanize-matplotlib) (1.15.0)\n"
     ]
    }
   ],
   "source": [
    "!pip install openpyxl\n",
    "!pip install japanize-matplotlib"
   ]
  },
  {
   "cell_type": "code",
   "execution_count": 2,
   "id": "422bd93e-2835-4ef8-b0e1-79b7880169da",
   "metadata": {
    "execution": {
     "iopub.execute_input": "2024-10-25T06:58:26.099661Z",
     "iopub.status.busy": "2024-10-25T06:58:26.099351Z",
     "iopub.status.idle": "2024-10-25T06:58:41.199383Z",
     "shell.execute_reply": "2024-10-25T06:58:41.198459Z",
     "shell.execute_reply.started": "2024-10-25T06:58:26.099624Z"
    }
   },
   "outputs": [],
   "source": [
    "import sys\n",
    "import pandas as pd\n",
    "import numpy as np\n",
    "import statsmodels.api as sm\n",
    "import math\n",
    "from tqdm.notebook import tqdm\n",
    "import matplotlib.pyplot as plt\n",
    "import itertools\n",
    "from aiq_strategy_robot.data.data_accessor import DAL\n",
    "from aiq_strategy_robot.data.FACTSET import load_factset_fundamental_estimates\n",
    "\n",
    "if '../..' not in sys.path:\n",
    "    sys.path.append('../..')\n",
    "from libs.dataset import aiq_pos_csmr_goods as sc_goods\n",
    "from libs.dataset import common as sc_common\n",
    "from libs.path import DEFAULT_DIR\n",
    "import japanize_matplotlib"
   ]
  },
  {
   "cell_type": "markdown",
   "id": "fb3f52b3-2201-4679-91cb-241381b2f625",
   "metadata": {},
   "source": [
    "## データ読み込み"
   ]
  },
  {
   "cell_type": "code",
   "execution_count": 3,
   "id": "dd072978-7db0-4ec2-9073-c2bed32e26cb",
   "metadata": {
    "execution": {
     "iopub.execute_input": "2024-10-25T06:58:41.201515Z",
     "iopub.status.busy": "2024-10-25T06:58:41.200733Z",
     "iopub.status.idle": "2024-10-25T06:58:44.944784Z",
     "shell.execute_reply": "2024-10-25T06:58:44.943610Z",
     "shell.execute_reply.started": "2024-10-25T06:58:41.201482Z"
    }
   },
   "outputs": [],
   "source": [
    "sdh = DAL()\n",
    "\n",
    "# POSデータ\n",
    "data_id_alt = sc_goods.register_csmr_goods_data(sdh, data_dir=DEFAULT_DIR)\n",
    "alt_W_id = sdh.transform.raw(data_id=data_id_alt).variable_ids[0]\n",
    "\n",
    "# sales(YoY)データ\n",
    "data_id_funda = sc_common.register_fundamental(sdh)\n",
    "funda_Q_id = sdh.transform.raw(data_id=data_id_funda).variable_ids[0]"
   ]
  },
  {
   "cell_type": "markdown",
   "id": "25fa5f8f-ff7a-4cfd-938d-290d91734c0b",
   "metadata": {},
   "source": [
    "#### 売上高のコンセンサス予想を準備\n",
    "- TICKER\n",
    "- fiscal_period_end_date：四半期末日\n",
    "- consensus_start_date  ：コンセンサスが有効になった日\n",
    "- consensus_end_date    ：コンセンサスが無効になった日\n",
    "- consensus (FE_MEDIAN) ：コンセンサス（アナリスト予測の中央値）"
   ]
  },
  {
   "cell_type": "code",
   "execution_count": 4,
   "id": "f63f8ed9-2441-4384-a48b-51d65752e7b0",
   "metadata": {
    "execution": {
     "iopub.execute_input": "2024-10-25T06:58:44.947549Z",
     "iopub.status.busy": "2024-10-25T06:58:44.946446Z",
     "iopub.status.idle": "2024-10-25T06:58:56.837394Z",
     "shell.execute_reply": "2024-10-25T06:58:56.836371Z",
     "shell.execute_reply.started": "2024-10-25T06:58:44.947501Z"
    }
   },
   "outputs": [],
   "source": [
    "# コンセンサス予想\n",
    "## 締日時点のコンセンサス予想を使用\n",
    "h1 = sdh.load('FACTSET', data_type='symbol_lookup',\n",
    "              ticker=list(map(lambda x: f\"{x}-JP\", sdh.extract_definition.loc[data_id_alt, 'tickers'])),\n",
    "              currency_code='JPY', exchange_code='TKS', pick_only_primary=True)\n",
    "comp = h1.retrieve(transformed=False)\n",
    "h2 = load_factset_fundamental_estimates(h1, symbols=list(comp['FSYM_ID']),\n",
    "                                        package=\"BASIC\", fields=\"SALES\", freq=3)\n",
    "consensus = h2.retrieve()\n",
    "consensus = consensus.merge(comp, how='left', left_on='SYMBOL', right_on='FSYM_ID')\n",
    "consensus['TICKER'] = consensus['TICKER'].map(lambda x: x.split('-')[0])\n",
    "consensus = consensus.set_index(['TICKER', 'fiscal_period_end_date', 'consensus_start_date', 'consensus_end_date']).sort_index()\n",
    "consensus = consensus[consensus['FE_MEDIAN'] > 0]\n",
    "cons = consensus[consensus.index.get_level_values('consensus_start_date') <= consensus.index.get_level_values('fiscal_period_end_date')].groupby(\n",
    "    ['TICKER', 'fiscal_period_end_date']).tail(1)[['FE_MEDIAN']].reset_index(['consensus_start_date', 'consensus_end_date']).rename(columns={'FE_MEDIAN': 'consensus'})"
   ]
  },
  {
   "cell_type": "code",
   "execution_count": 5,
   "id": "1ce3a3b9-c4ce-4452-8359-55c5ddffd38f",
   "metadata": {
    "execution": {
     "iopub.execute_input": "2024-10-25T06:58:56.839819Z",
     "iopub.status.busy": "2024-10-25T06:58:56.839003Z",
     "iopub.status.idle": "2024-10-25T06:58:56.874686Z",
     "shell.execute_reply": "2024-10-25T06:58:56.873608Z",
     "shell.execute_reply.started": "2024-10-25T06:58:56.839784Z"
    }
   },
   "outputs": [
    {
     "data": {
      "text/html": [
       "<div>\n",
       "<style scoped>\n",
       "    .dataframe tbody tr th:only-of-type {\n",
       "        vertical-align: middle;\n",
       "    }\n",
       "\n",
       "    .dataframe tbody tr th {\n",
       "        vertical-align: top;\n",
       "    }\n",
       "\n",
       "    .dataframe thead th {\n",
       "        text-align: right;\n",
       "    }\n",
       "</style>\n",
       "<table border=\"1\" class=\"dataframe\">\n",
       "  <thead>\n",
       "    <tr style=\"text-align: right;\">\n",
       "      <th></th>\n",
       "      <th></th>\n",
       "      <th>consensus</th>\n",
       "    </tr>\n",
       "    <tr>\n",
       "      <th>TICKER</th>\n",
       "      <th>fiscal_period_end_date</th>\n",
       "      <th></th>\n",
       "    </tr>\n",
       "  </thead>\n",
       "  <tbody>\n",
       "    <tr>\n",
       "      <th rowspan=\"5\" valign=\"top\">1301</th>\n",
       "      <th>2017-06-30</th>\n",
       "      <td>58100.0</td>\n",
       "    </tr>\n",
       "    <tr>\n",
       "      <th>2017-09-30</th>\n",
       "      <td>63300.0</td>\n",
       "    </tr>\n",
       "    <tr>\n",
       "      <th>2017-12-31</th>\n",
       "      <td>74650.0</td>\n",
       "    </tr>\n",
       "    <tr>\n",
       "      <th>2018-03-31</th>\n",
       "      <td>56677.0</td>\n",
       "    </tr>\n",
       "    <tr>\n",
       "      <th>2018-06-30</th>\n",
       "      <td>58800.0</td>\n",
       "    </tr>\n",
       "  </tbody>\n",
       "</table>\n",
       "</div>"
      ],
      "text/plain": [
       "                               consensus\n",
       "TICKER fiscal_period_end_date           \n",
       "1301   2017-06-30                58100.0\n",
       "       2017-09-30                63300.0\n",
       "       2017-12-31                74650.0\n",
       "       2018-03-31                56677.0\n",
       "       2018-06-30                58800.0"
      ]
     },
     "execution_count": 5,
     "metadata": {},
     "output_type": "execute_result"
    }
   ],
   "source": [
    "#  不要なカラムを削除\n",
    "# - consensus_start_date：コンセンサスが使えるように有効になった日\n",
    "# - consensus_end_date：無効になった日\n",
    "\n",
    "cons = cons.drop(columns=['consensus_start_date', 'consensus_end_date'])\n",
    "cons.head()"
   ]
  },
  {
   "cell_type": "code",
   "execution_count": 6,
   "id": "6b53ae90-1d62-444d-8d75-d934ffc744b6",
   "metadata": {
    "execution": {
     "iopub.execute_input": "2024-10-25T06:58:56.878629Z",
     "iopub.status.busy": "2024-10-25T06:58:56.878165Z",
     "iopub.status.idle": "2024-10-25T06:58:56.916950Z",
     "shell.execute_reply": "2024-10-25T06:58:56.915829Z",
     "shell.execute_reply.started": "2024-10-25T06:58:56.878596Z"
    }
   },
   "outputs": [],
   "source": [
    "# 宇野さんに確認\n",
    "## →コンセンサスのYOY作成に必要。ユーザーにはあらかじめデータのセットアップを通知"
   ]
  },
  {
   "cell_type": "code",
   "execution_count": 7,
   "id": "39a34449-e6f6-46ca-9c0b-9daff19f4a79",
   "metadata": {
    "execution": {
     "iopub.execute_input": "2024-10-25T06:58:56.918460Z",
     "iopub.status.busy": "2024-10-25T06:58:56.918138Z",
     "iopub.status.idle": "2024-10-25T06:58:57.210150Z",
     "shell.execute_reply": "2024-10-25T06:58:57.208955Z",
     "shell.execute_reply.started": "2024-10-25T06:58:56.918427Z"
    }
   },
   "outputs": [
    {
     "data": {
      "text/html": [
       "<div>\n",
       "<style scoped>\n",
       "    .dataframe tbody tr th:only-of-type {\n",
       "        vertical-align: middle;\n",
       "    }\n",
       "\n",
       "    .dataframe tbody tr th {\n",
       "        vertical-align: top;\n",
       "    }\n",
       "\n",
       "    .dataframe thead th {\n",
       "        text-align: right;\n",
       "    }\n",
       "</style>\n",
       "<table border=\"1\" class=\"dataframe\">\n",
       "  <thead>\n",
       "    <tr style=\"text-align: right;\">\n",
       "      <th></th>\n",
       "      <th></th>\n",
       "      <th>first_announcement_datetime</th>\n",
       "      <th>sales</th>\n",
       "    </tr>\n",
       "    <tr>\n",
       "      <th>TICKER</th>\n",
       "      <th>DATETIME</th>\n",
       "      <th></th>\n",
       "      <th></th>\n",
       "    </tr>\n",
       "  </thead>\n",
       "  <tbody>\n",
       "    <tr>\n",
       "      <th rowspan=\"5\" valign=\"top\">1301</th>\n",
       "      <th>2008-03-31</th>\n",
       "      <td>2008-05-13 15:00:00</td>\n",
       "      <td>31689.0</td>\n",
       "    </tr>\n",
       "    <tr>\n",
       "      <th>2008-06-30</th>\n",
       "      <td>2008-07-29 15:00:00</td>\n",
       "      <td>36678.0</td>\n",
       "    </tr>\n",
       "    <tr>\n",
       "      <th>2008-09-30</th>\n",
       "      <td>2008-10-29 15:00:00</td>\n",
       "      <td>36966.0</td>\n",
       "    </tr>\n",
       "    <tr>\n",
       "      <th>2008-12-31</th>\n",
       "      <td>2009-01-29 15:00:00</td>\n",
       "      <td>41851.0</td>\n",
       "    </tr>\n",
       "    <tr>\n",
       "      <th>2009-03-31</th>\n",
       "      <td>2009-05-14 15:00:00</td>\n",
       "      <td>32059.0</td>\n",
       "    </tr>\n",
       "  </tbody>\n",
       "</table>\n",
       "</div>"
      ],
      "text/plain": [
       "                  first_announcement_datetime    sales\n",
       "TICKER DATETIME                                       \n",
       "1301   2008-03-31         2008-05-13 15:00:00  31689.0\n",
       "       2008-06-30         2008-07-29 15:00:00  36678.0\n",
       "       2008-09-30         2008-10-29 15:00:00  36966.0\n",
       "       2008-12-31         2009-01-29 15:00:00  41851.0\n",
       "       2009-03-31         2009-05-14 15:00:00  32059.0"
      ]
     },
     "execution_count": 7,
     "metadata": {},
     "output_type": "execute_result"
    }
   ],
   "source": [
    "HAS_MY_SALES = True\n",
    "\n",
    "# 売上(実数値)の実績\n",
    "sales = pd.read_parquet('sales.parquet').sort_index()\n",
    "sales.index.names = ['TICKER', 'DATETIME']\n",
    "sales_YoY = sales.groupby('TICKER', group_keys=False)['sales'].apply(lambda x: np.log(x / x.shift(4)))\n",
    "sales.head()"
   ]
  },
  {
   "cell_type": "code",
   "execution_count": 8,
   "id": "dcf0e1f3-86c4-4104-b755-6a90eb40e9ae",
   "metadata": {
    "execution": {
     "iopub.execute_input": "2024-10-25T06:58:57.212412Z",
     "iopub.status.busy": "2024-10-25T06:58:57.211516Z",
     "iopub.status.idle": "2024-10-25T06:58:57.245219Z",
     "shell.execute_reply": "2024-10-25T06:58:57.244159Z",
     "shell.execute_reply.started": "2024-10-25T06:58:57.212377Z"
    }
   },
   "outputs": [],
   "source": [
    "# ↓s3におく"
   ]
  },
  {
   "cell_type": "code",
   "execution_count": 9,
   "id": "ec1ad947-e8bf-4bb5-93a9-e4ecff322646",
   "metadata": {
    "execution": {
     "iopub.execute_input": "2024-10-25T06:58:57.246967Z",
     "iopub.status.busy": "2024-10-25T06:58:57.246550Z",
     "iopub.status.idle": "2024-10-25T06:58:58.728958Z",
     "shell.execute_reply": "2024-10-25T06:58:58.727996Z",
     "shell.execute_reply.started": "2024-10-25T06:58:57.246936Z"
    }
   },
   "outputs": [
    {
     "data": {
      "text/html": [
       "<div>\n",
       "<style scoped>\n",
       "    .dataframe tbody tr th:only-of-type {\n",
       "        vertical-align: middle;\n",
       "    }\n",
       "\n",
       "    .dataframe tbody tr th {\n",
       "        vertical-align: top;\n",
       "    }\n",
       "\n",
       "    .dataframe thead th {\n",
       "        text-align: right;\n",
       "    }\n",
       "</style>\n",
       "<table border=\"1\" class=\"dataframe\">\n",
       "  <thead>\n",
       "    <tr style=\"text-align: right;\">\n",
       "      <th></th>\n",
       "      <th></th>\n",
       "      <th>count</th>\n",
       "      <th>mean</th>\n",
       "      <th>std</th>\n",
       "      <th>median</th>\n",
       "    </tr>\n",
       "    <tr>\n",
       "      <th>seccode</th>\n",
       "      <th>datetime</th>\n",
       "      <th></th>\n",
       "      <th></th>\n",
       "      <th></th>\n",
       "      <th></th>\n",
       "    </tr>\n",
       "  </thead>\n",
       "  <tbody>\n",
       "    <tr>\n",
       "      <th rowspan=\"5\" valign=\"top\">1301</th>\n",
       "      <th>2018-06-30</th>\n",
       "      <td>6</td>\n",
       "      <td>0.042412</td>\n",
       "      <td>0.005532</td>\n",
       "      <td>0.042914</td>\n",
       "    </tr>\n",
       "    <tr>\n",
       "      <th>2018-09-30</th>\n",
       "      <td>7</td>\n",
       "      <td>0.042328</td>\n",
       "      <td>0.005055</td>\n",
       "      <td>0.041819</td>\n",
       "    </tr>\n",
       "    <tr>\n",
       "      <th>2018-12-31</th>\n",
       "      <td>8</td>\n",
       "      <td>0.041800</td>\n",
       "      <td>0.004912</td>\n",
       "      <td>0.041302</td>\n",
       "    </tr>\n",
       "    <tr>\n",
       "      <th>2019-03-31</th>\n",
       "      <td>9</td>\n",
       "      <td>0.042866</td>\n",
       "      <td>0.005598</td>\n",
       "      <td>0.041819</td>\n",
       "    </tr>\n",
       "    <tr>\n",
       "      <th>2019-06-30</th>\n",
       "      <td>10</td>\n",
       "      <td>0.043762</td>\n",
       "      <td>0.005990</td>\n",
       "      <td>0.043431</td>\n",
       "    </tr>\n",
       "  </tbody>\n",
       "</table>\n",
       "</div>"
      ],
      "text/plain": [
       "                    count      mean       std    median\n",
       "seccode datetime                                       \n",
       "1301    2018-06-30      6  0.042412  0.005532  0.042914\n",
       "        2018-09-30      7  0.042328  0.005055  0.041819\n",
       "        2018-12-31      8  0.041800  0.004912  0.041302\n",
       "        2019-03-31      9  0.042866  0.005598  0.041819\n",
       "        2019-06-30     10  0.043762  0.005990  0.043431"
      ]
     },
     "execution_count": 9,
     "metadata": {},
     "output_type": "execute_result"
    }
   ],
   "source": [
    "# POSのシェア率(時系列)\n",
    "share_ts = pd.read_excel('20241003_pos_csmr_goods_plus_sales_share_ts.xlsx')\n",
    "share_ts['seccode'] = share_ts['seccode'].map(str)\n",
    "share_ts['datetime'] = pd.to_datetime(share_ts['datetime'])\n",
    "share_ts = share_ts.set_index(['seccode', 'datetime']).sort_index()\n",
    "share_ts.head()"
   ]
  },
  {
   "cell_type": "code",
   "execution_count": null,
   "id": "5b78585b-4691-4cbd-aa4d-c282a66a34d7",
   "metadata": {},
   "outputs": [],
   "source": []
  },
  {
   "cell_type": "markdown",
   "id": "1eb6c956-710f-4aa7-8288-fea0f2934fe3",
   "metadata": {},
   "source": [
    "## 最適な前処理パラメータの探索"
   ]
  },
  {
   "cell_type": "code",
   "execution_count": 10,
   "id": "f463c616-b155-440b-8f99-3f09c9a1944f",
   "metadata": {
    "execution": {
     "iopub.execute_input": "2024-10-25T06:58:58.730926Z",
     "iopub.status.busy": "2024-10-25T06:58:58.730261Z",
     "iopub.status.idle": "2024-10-25T06:58:58.735819Z",
     "shell.execute_reply": "2024-10-25T06:58:58.734650Z",
     "shell.execute_reply.started": "2024-10-25T06:58:58.730893Z"
    }
   },
   "outputs": [],
   "source": [
    "lags = [-3, -2, -1, 0]\n",
    "diffs = [True, False]"
   ]
  },
  {
   "cell_type": "code",
   "execution_count": null,
   "id": "3cdc8d75-88b5-4387-bb1c-406ebc276fdf",
   "metadata": {
    "execution": {
     "iopub.execute_input": "2024-10-25T06:58:58.737313Z",
     "iopub.status.busy": "2024-10-25T06:58:58.736989Z"
    }
   },
   "outputs": [
    {
     "data": {
      "application/vnd.jupyter.widget-view+json": {
       "model_id": "226317778541496bbefb058fbb6bcc91",
       "version_major": 2,
       "version_minor": 0
      },
      "text/plain": [
       "  0%|          | 0/8 [00:00<?, ?it/s]"
      ]
     },
     "metadata": {},
     "output_type": "display_data"
    },
    {
     "data": {
      "application/vnd.jupyter.widget-view+json": {
       "model_id": "",
       "version_major": 2,
       "version_minor": 0
      },
      "text/plain": [
       "  0%|          | 0/288 [00:00<?, ?it/s]"
      ]
     },
     "metadata": {},
     "output_type": "display_data"
    },
    {
     "data": {
      "application/vnd.jupyter.widget-view+json": {
       "model_id": "",
       "version_major": 2,
       "version_minor": 0
      },
      "text/plain": [
       "  0%|          | 0/291 [00:00<?, ?it/s]"
      ]
     },
     "metadata": {},
     "output_type": "display_data"
    },
    {
     "data": {
      "application/vnd.jupyter.widget-view+json": {
       "model_id": "",
       "version_major": 2,
       "version_minor": 0
      },
      "text/plain": [
       "  0%|          | 0/288 [00:00<?, ?it/s]"
      ]
     },
     "metadata": {},
     "output_type": "display_data"
    },
    {
     "data": {
      "application/vnd.jupyter.widget-view+json": {
       "model_id": "",
       "version_major": 2,
       "version_minor": 0
      },
      "text/plain": [
       "  0%|          | 0/292 [00:00<?, ?it/s]"
      ]
     },
     "metadata": {},
     "output_type": "display_data"
    },
    {
     "data": {
      "application/vnd.jupyter.widget-view+json": {
       "model_id": "d757ccf5fd6c4e2a9e98d52eb342644a",
       "version_major": 2,
       "version_minor": 0
      },
      "text/plain": [
       "  0%|          | 0/289 [00:00<?, ?it/s]"
      ]
     },
     "metadata": {},
     "output_type": "display_data"
    }
   ],
   "source": [
    "correlations = {}\n",
    "pos_data = {}\n",
    "for lag, diff in tqdm(itertools.product(lags, diffs), total=len(lags)*len(diffs)):\n",
    "    \n",
    "    alt_shift_id = alt_W_id\n",
    "    if lag != 0:\n",
    "        alt_shift_id = sdh.transform.shift(fields=alt_shift_id, periods=lag).variable_ids[0]\n",
    "    \n",
    "    alt_Q_shift_id = sdh.transform.resample_by(fields=alt_shift_id, label=funda_Q_id, func='mean').variable_ids[0]\n",
    "    \n",
    "    alt_id = sdh.transform.log_diff(fields=alt_Q_shift_id, periods=4).variable_ids\n",
    "    sales_id = funda_Q_id\n",
    "\n",
    "    if diff:\n",
    "        alt_id = sdh.transform.diff(fields=alt_id, periods=1).variable_ids\n",
    "        sales_id = sdh.transform.diff(fields=sales_id, periods=1).variable_ids\n",
    "\n",
    "    \n",
    "    data = pd.concat({\n",
    "        'y': sdh.get_variables(sales_id).iloc[:, 0], \n",
    "        'X':sdh.get_variables(alt_id).iloc[:, 0]}, axis=1\n",
    "    ).dropna()\n",
    "\n",
    "    \n",
    "    pos_data[lag, diff] = data\n",
    "    for ticker, _ in tqdm(data.groupby('TICKER'), leave=False):\n",
    "        for d in data.xs(ticker).expanding():\n",
    "            if len(d.dropna()) < 10:\n",
    "                continue\n",
    "            mdl = sm.OLS(d['y'], sm.add_constant(d['X'].values), missing=\"drop\").fit()\n",
    "            correlations[ticker, d.index[-1], lag, diff] = { \"t_val\": mdl.tvalues['x1'] }\n",
    "            \n",
    "correlations = pd.DataFrame(correlations).T\n",
    "correlations.index.names = ['TICKER', 'datetime', 'lag', 'diff1']\n",
    "pos_data = pd.concat(pos_data)\n",
    "pos_data.index.names = ['lag', 'diff', 'TICKER', 'DATETIME']"
   ]
  },
  {
   "cell_type": "code",
   "execution_count": null,
   "id": "f4a37fcc-fd15-4dfd-9313-25c0fb850518",
   "metadata": {},
   "outputs": [],
   "source": [
    "best_correlations = correlations.sort_values('t_val').groupby(['TICKER', 'datetime']).tail(1).reset_index(['lag', 'diff1']).sort_index()"
   ]
  },
  {
   "cell_type": "markdown",
   "id": "f8e3cfdb-17f3-4be1-8ba7-d05fbdad41ca",
   "metadata": {
    "execution": {
     "iopub.execute_input": "2024-10-24T05:26:09.299093Z",
     "iopub.status.busy": "2024-10-24T05:26:09.298787Z",
     "iopub.status.idle": "2024-10-24T05:26:09.348848Z",
     "shell.execute_reply": "2024-10-24T05:26:09.347594Z",
     "shell.execute_reply.started": "2024-10-24T05:26:09.299063Z"
    }
   },
   "source": [
    "## 予測用データの作成"
   ]
  },
  {
   "cell_type": "code",
   "execution_count": null,
   "id": "adc2ea8e-1ee3-44c4-a25f-1e5eedc10f9d",
   "metadata": {},
   "outputs": [],
   "source": [
    "def set_data(dic, d):\n",
    "\n",
    "    d = d.dropna().copy()\n",
    "    if len(d) <= 20:\n",
    "        return\n",
    "    d.index.names = ['DATETIME']\n",
    "    d['PRED_DATETIME'] = datetime\n",
    "    d['TICKER'] = ticker\n",
    "    d = d.reset_index().set_index(['PRED_DATETIME', 'TICKER', 'DATETIME'])\n",
    "    dic.append(d)\n",
    "\n",
    "\n",
    "dataset_with_consensus = []\n",
    "dataset_without_consensus = []\n",
    "for (ticker, until), setting in tqdm(best_correlations.iloc[:].iterrows(), total=len(best_correlations.iloc[:])):\n",
    "    lag, diff1 = setting['lag'], setting['diff1']\n",
    "    d = pos_data.xs(lag).xs(diff1).xs(ticker).loc[:until].copy()\n",
    "    try:\n",
    "        target = pos_data.xs(lag).xs(diff1).xs(ticker).loc[until:].iloc[1]\n",
    "    except:\n",
    "        continue\n",
    "    datetime = target.name\n",
    "    best_correlations.loc[(ticker, until), 'PRED_DATETIME'] = datetime\n",
    "    \n",
    "    YoY0 = sales_YoY.xs(ticker).xs(datetime)\n",
    "    YoY1 = pos_data.xs(lag).xs(False).xs(ticker).xs(datetime)['y']\n",
    "    if abs(YoY0 - YoY1) > 1e-4: # 別途用意した売上実績から計算したYoYと乖離がある場合は除外(売上集計の定義が変化?)\n",
    "        continue\n",
    "    \n",
    "    d = pd.concat([d, target.to_frame().T])\n",
    "    if (ticker, datetime) in cons.index and HAS_MY_SALES:\n",
    "        con = cons.xs(ticker)[['consensus']]\n",
    "        con['pre'] = sales.xs(ticker).shift(4)['sales']\n",
    "        con['y'] = np.log(con['consensus'] / con['pre'])\n",
    "        if diff1:\n",
    "            con['y'] = con['y'].diff()\n",
    "        d['con_y'] = con['y']\n",
    "        \n",
    "        set_data(dataset_with_consensus, d)   \n",
    "    else:\n",
    "        set_data(dataset_without_consensus, d)\n",
    "\n",
    "\n",
    "dfbest_correlations = best_correlations.reset_index().set_index(['TICKER', 'PRED_DATETIME'])\n",
    "dfdataset_with_cons = pd.concat(dataset_with_consensus)\n",
    "dfdataset_without_cons = pd.concat(dataset_without_consensus)\n",
    "\n",
    "display(dfbest_correlations.tail())\n",
    "display(dfpred_with_cons.tail())\n",
    "display(dfpred_without_cons.tail())"
   ]
  },
  {
   "cell_type": "markdown",
   "id": "0109fc2c-3f21-4402-bfaf-e92e16d7d27a",
   "metadata": {},
   "source": [
    "## 予測処理"
   ]
  },
  {
   "cell_type": "code",
   "execution_count": null,
   "id": "9789b93d-7f55-4a75-99a1-555cde9f7537",
   "metadata": {},
   "outputs": [],
   "source": [
    "def predict(dataset: pd.DataFrame, dfbest_corr: pd.DataFrame, X: list, y: str):\n",
    "\n",
    "    prediction = {}\n",
    "    for (ticker, datetime), df in tqdm(dataset.groupby(['TICKER', 'PRED_DATETIME'])):\n",
    "        train_x = df[df.index.get_level_values('DATETIME') < datetime][X]\n",
    "        train_y = df[df.index.get_level_values('DATETIME') < datetime][y]\n",
    "        test_x = df[df.index.get_level_values('DATETIME') == datetime][X].iloc[0]\n",
    "        until = train_x.index.get_level_values('DATETIME').max()\n",
    "    \n",
    "        params = dfbest_corr.xs(ticker).xs(datetime)\n",
    "        lag, diff1, t_val, until = params.lag, params.diff1, params.t_val, params['datetime']\n",
    "    \n",
    "        mdl = sm.OLS(train_y, sm.add_constant(train_x.values), missing=\"drop\").fit()\n",
    "        y_predict = mdl.predict([1, *[test_x[x] for x in X]])\n",
    "        \n",
    "        ys = pos_data.xs(lag).xs(ticker, level='TICKER')[y].unstack('diff').loc[:datetime].copy()\n",
    "        try:\n",
    "            sales_pre = sales.xs(ticker).loc[:datetime, 'sales'].iloc[-5]\n",
    "            sales_actual = sales.xs(ticker).xs(datetime)['sales'] # np.exp(ys).loc[datetime, False] * sales_pre\n",
    "            sales_extrapolation = np.exp(ys[False].iloc[-2]) * sales_pre # 前期の実績成長率(YoY) * 前年同期の売上\n",
    "        except:\n",
    "            continue\n",
    "        \n",
    "        ys.loc[datetime, diff1] = y_predict\n",
    "        ys.loc[datetime, not diff1] = np.nan\n",
    "        if diff1:\n",
    "            ys.loc[datetime, False] = ys.loc[until, False] + ys.loc[datetime, True]\n",
    "        sales_predict = np.exp(ys).loc[datetime, False] * sales_pre\n",
    "        prediction[ticker, datetime] = {\n",
    "            'actual': sales_actual, \n",
    "            'predict': sales_predict,\n",
    "            \"t_val\": t_val,\n",
    "            \"extrapolation\": sales_extrapolation\n",
    "        }\n",
    "\n",
    "    prediction = pd.DataFrame(prediction).T\n",
    "    prediction.index.names = ['TICKER', 'datetime']\n",
    "\n",
    "    return prediction"
   ]
  },
  {
   "cell_type": "markdown",
   "id": "04ea1285-eab0-47d3-9c17-3ebf8df3f48b",
   "metadata": {},
   "source": [
    "### コンセンサス存在の銘柄に対する予測\n",
    "コンセンサスとPOSによる線形重回帰"
   ]
  },
  {
   "cell_type": "code",
   "execution_count": null,
   "id": "a73d9f28-f5b0-49a3-8fd7-dd33360befba",
   "metadata": {},
   "outputs": [],
   "source": [
    "prediction_with_consensus = predict(dfdataset_with_cons, dfbest_correlations, ['X', 'con_y'], 'y')"
   ]
  },
  {
   "cell_type": "code",
   "execution_count": null,
   "id": "d6dcd5ae-4100-4fee-bda8-8ad1466f824a",
   "metadata": {},
   "outputs": [],
   "source": [
    "prediction_with_consensus['consensus'] = cons['consensus']"
   ]
  },
  {
   "cell_type": "code",
   "execution_count": null,
   "id": "9a6beffd-5f56-4693-82c9-76b9591c29be",
   "metadata": {},
   "outputs": [],
   "source": [
    "prediction_with_consensus['Predict'] = (prediction_with_consensus['predict'] - prediction_with_consensus['actual']) / prediction_with_consensus['actual']\n",
    "prediction_with_consensus['Consensus'] = (prediction_with_consensus['consensus'] - prediction_with_consensus['actual']) / prediction_with_consensus['actual']\n",
    "prediction_with_consensus['win'] = \\\n",
    "(prediction_with_consensus['predict'] - prediction_with_consensus['actual']).abs() < (prediction_with_consensus['consensus']  - prediction_with_consensus['actual']).abs()"
   ]
  },
  {
   "cell_type": "code",
   "execution_count": null,
   "id": "e190c433-9f91-4db7-942a-10d6bd6e794f",
   "metadata": {},
   "outputs": [],
   "source": [
    "prediction_with_consensus['win_rate_until'] = prediction_with_consensus['win'].sort_index().groupby('TICKER', group_keys=False).apply(lambda x: x.expanding().mean().shift(1))\n",
    "pre_win = prediction_with_consensus[prediction_with_consensus['win_rate_until']>0.5].copy()\n",
    "np.sqrt( (pre_win[['Predict', 'Consensus']]**2).mean() ).to_frame('RMSPE')"
   ]
  },
  {
   "cell_type": "code",
   "execution_count": null,
   "id": "d83ec597-1859-4fdd-9c28-763ed887b390",
   "metadata": {},
   "outputs": [],
   "source": [
    "pre_win[['Predict', 'Consensus']].stack().reset_index(level=-1).boxplot(0, by='level_2')"
   ]
  },
  {
   "cell_type": "code",
   "execution_count": null,
   "id": "fdb6faef-fdd9-4e6e-ab08-287691c39e60",
   "metadata": {},
   "outputs": [],
   "source": [
    "matrix = ((pre_win['actual'] - pre_win['consensus']).map(np.sign) == (pre_win['predict'] - pre_win['consensus']).map(np.sign)).value_counts()\n",
    "display(matrix.to_frame('direction_is_coincident'))\n",
    "print(f'rate = {matrix[True] / sum(matrix)}')"
   ]
  },
  {
   "cell_type": "code",
   "execution_count": null,
   "id": "c74a8791-2b1a-4497-a520-79a2b56e95cd",
   "metadata": {},
   "outputs": [],
   "source": []
  },
  {
   "cell_type": "code",
   "execution_count": null,
   "id": "1e208359-d1ea-41b8-a11c-f6b2022a69e0",
   "metadata": {},
   "outputs": [],
   "source": [
    "pre_win['actual_pre'] = sales.sort_index()['sales'].groupby('TICKER', group_keys=False).apply(lambda x: x.shift(4))\n",
    "pre_win['actual_YoY'] = np.log(pre_win['actual']) - np.log(pre_win['actual_pre'])\n",
    "pre_win['predict_YoY'] = np.log(pre_win['predict']) - np.log(pre_win['actual_pre'])\n",
    "pre_win['consensus_YoY'] = np.log(pre_win['consensus']) - np.log(pre_win['actual_pre'])\n",
    "\n",
    "_, axes = plt.subplots(1, 2, figsize=(15,5))\n",
    "pre_win[(pre_win['consensus_YoY'] < 0) & (pre_win['predict_YoY'] > 0) ]['actual_YoY'].map(np.sign).map({1:'前年同期より増加', -1:'前年同期より減少'}).value_counts().sort_index().plot.bar(ax=axes[0], rot=0)\n",
    "axes[0].set_title('コンセンサス予想 : 前年同期より減少\\nPOSによる予想 : 前年同期より増加')\n",
    "pre_win[(pre_win['consensus_YoY'] > 0) & (pre_win['predict_YoY'] < 0) ]['actual_YoY'].map(np.sign).map({1:'前年同期より増加', -1:'前年同期より減少'}).value_counts().sort_index().plot.bar(ax=axes[1], rot=0)\n",
    "axes[1].set_title('コンセンサス予想 : 前年同期より増加\\nPOSによる予想 : 前年同期より減少')"
   ]
  },
  {
   "cell_type": "code",
   "execution_count": null,
   "id": "6e917821-f690-438a-bc91-364acf8cb54e",
   "metadata": {},
   "outputs": [],
   "source": []
  },
  {
   "cell_type": "code",
   "execution_count": null,
   "id": "d940703b-634a-4114-a420-75e43459949e",
   "metadata": {},
   "outputs": [],
   "source": [
    "examples = pd.concat({'rate': prediction_with_consensus.groupby('TICKER')['win'].mean().sort_values(), 'count': prediction_with_consensus.groupby('TICKER')['win'].size()}, axis=1)\n",
    "examples[examples['count']>=40].sort_values('rate').tail()"
   ]
  },
  {
   "cell_type": "code",
   "execution_count": null,
   "id": "cbfebfea-1e57-4d35-babb-7ed329f427a3",
   "metadata": {},
   "outputs": [],
   "source": [
    "ticker = '4188'\n",
    "sample = prediction_with_consensus.xs(ticker)[['actual', 'predict', 'consensus']].copy()\n",
    "sample['pre'] = sales.xs(ticker).sort_index().shift(4)['sales']\n",
    "sample[['pos', 'y']] = pos_data.xs(0).xs(False).xs(ticker)[['X', 'y']]\n",
    "\n",
    "ax = (np.log(sample['actual']) - np.log(sample['pre'])).plot(color='black', linewidth=3, figsize=(15,5), label='actual')\n",
    "(np.log(sample['predict']) - np.log(sample['pre'])).plot(color='red', ax=ax, label='predict')\n",
    "(np.log(sample['consensus']) - np.log(sample['pre'])).plot(color='blue', ax=ax, label='consensus')\n",
    "# sample['y'].plot(ax=ax, label='y', linestyle=':')\n",
    "# sample['pos'].plot(ax=ax, label='POS', linestyle=':')\n",
    "ax.legend()\n",
    "plt.ylabel('YoY(logdiff)')"
   ]
  },
  {
   "cell_type": "markdown",
   "id": "de2acda2-7ea9-42a8-a00a-7b448bb6b115",
   "metadata": {},
   "source": [
    "### コンセンサス不在の銘柄に対する予測\n",
    "POSによる線形単回帰"
   ]
  },
  {
   "cell_type": "code",
   "execution_count": null,
   "id": "48db6afc-9afb-4252-89e3-92715cf0f974",
   "metadata": {},
   "outputs": [],
   "source": [
    "prediction_without_consensus = predict(dfdataset_without_cons, dfbest_correlations, ['X'], 'y')"
   ]
  },
  {
   "cell_type": "code",
   "execution_count": null,
   "id": "5d53bb71-5e20-4119-a7b4-6c31c7722968",
   "metadata": {},
   "outputs": [],
   "source": [
    "prediction_without_consensus['Predict'] = (prediction_without_consensus['predict'] - prediction_without_consensus['actual']) / prediction_without_consensus['actual']\n",
    "prediction_without_consensus['Extrapolation'] = (prediction_without_consensus['extrapolation'] - prediction_without_consensus['actual']) / prediction_without_consensus['actual'] \n",
    "prediction_without_consensus['share'] = share_ts.groupby('seccode', group_keys=False)['mean'].apply(lambda x: x.shift(1)).reindex(prediction_without_consensus.index)\n",
    "prediction_without_consensus['Extrapolation'] = (prediction_without_consensus['extrapolation'] - prediction_without_consensus['actual']) / prediction_without_consensus['actual'] "
   ]
  },
  {
   "cell_type": "code",
   "execution_count": null,
   "id": "d828a976-2f4e-4b97-a946-28dac446b7fb",
   "metadata": {},
   "outputs": [],
   "source": [
    "good = prediction_without_consensus[(prediction_without_consensus['share']>0.05)&(prediction_without_consensus['t_val']>0)].copy()\n",
    "np.sqrt(((good[['Predict', 'Extrapolation']])**2).mean()).to_frame('RMSPE')"
   ]
  },
  {
   "cell_type": "code",
   "execution_count": null,
   "id": "9d5e9fbb-f0e3-41c0-9480-1c14d7457a2d",
   "metadata": {},
   "outputs": [],
   "source": []
  },
  {
   "cell_type": "code",
   "execution_count": null,
   "id": "f16ce271-fa34-4737-90af-164612ee988d",
   "metadata": {},
   "outputs": [],
   "source": []
  },
  {
   "cell_type": "code",
   "execution_count": null,
   "id": "242112f2-fa35-46c9-9350-26ac8d44e10b",
   "metadata": {},
   "outputs": [],
   "source": []
  },
  {
   "cell_type": "markdown",
   "id": "fc4cd8ec-22af-45aa-819e-3117271ef1a4",
   "metadata": {},
   "source": [
    "宇野さんに確認：\n",
    "実績に戻す必要について\n"
   ]
  },
  {
   "cell_type": "code",
   "execution_count": null,
   "id": "a2523b62-c8f5-470b-8218-e8cc458efe76",
   "metadata": {},
   "outputs": [],
   "source": [
    "## backtestしたい\n",
    "- prediction\n",
    "- コンセンサス\n",
    "- extrapolation"
   ]
  }
 ],
 "metadata": {
  "kernelspec": {
   "display_name": "inv",
   "language": "python",
   "name": "inv"
  },
  "language_info": {
   "codemirror_mode": {
    "name": "ipython",
    "version": 3
   },
   "file_extension": ".py",
   "mimetype": "text/x-python",
   "name": "python",
   "nbconvert_exporter": "python",
   "pygments_lexer": "ipython3",
   "version": "3.9.19"
  }
 },
 "nbformat": 4,
 "nbformat_minor": 5
}
