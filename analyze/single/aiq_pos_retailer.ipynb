{
 "cells": [
  {
   "attachments": {
    "a6288316-80f1-4a62-a0bb-c8eee5428719.png": {
     "image/png": "[encoded data removed]"
    }
   },
   "cell_type": "markdown",
   "metadata": {
    "tags": []
   },
   "source": [
    "![image.png](attachment:a6288316-80f1-4a62-a0bb-c8eee5428719.png)\n",
    "\n",
    "[disclaimer](../../disclaimer.txt/)"
   ]
  },
  {
   "cell_type": "markdown",
   "metadata": {},
   "source": [
    "# aiQ POS Retailer Data Evaluation"
   ]
  },
  {
   "cell_type": "markdown",
   "metadata": {
    "execution": {
     "iopub.execute_input": "2024-07-16T02:44:13.281928Z",
     "iopub.status.busy": "2024-07-16T02:44:13.280822Z"
    }
   },
   "source": [
    "- aiQ POS Retailer is data that consolidates the sales of products sold in retail stores such as supermarkets, drugstores, and convenience stores, organized by TICKER."
   ]
  },
  {
   "cell_type": "code",
   "execution_count": 1,
   "metadata": {
    "execution": {
     "iopub.execute_input": "2024-09-20T02:19:44.100077Z",
     "iopub.status.busy": "2024-09-20T02:19:44.099561Z",
     "iopub.status.idle": "2024-09-20T02:19:44.128837Z",
     "shell.execute_reply": "2024-09-20T02:19:44.127777Z",
     "shell.execute_reply.started": "2024-09-20T02:19:44.100042Z"
    }
   },
   "outputs": [],
   "source": [
    "%load_ext autoreload\n",
    "%autoreload 2"
   ]
  },
  {
   "cell_type": "markdown",
   "metadata": {},
   "source": [
    "## Step1: Import Library"
   ]
  },
  {
   "cell_type": "code",
   "execution_count": 2,
   "metadata": {
    "execution": {
     "iopub.execute_input": "2024-09-20T02:19:44.130619Z",
     "iopub.status.busy": "2024-09-20T02:19:44.130235Z",
     "iopub.status.idle": "2024-09-20T02:19:51.994779Z",
     "shell.execute_reply": "2024-09-20T02:19:51.993719Z",
     "shell.execute_reply.started": "2024-09-20T02:19:44.130590Z"
    }
   },
   "outputs": [],
   "source": [
    "import sys\n",
    "from pathlib import Path\n",
    "import numpy as np\n",
    "import pandas as pd\n",
    "import plotly.io\n",
    "from aiq_strategy_robot.data.data_accessor import DAL\n",
    "\n",
    "for_html = False\n",
    "if for_html:\n",
    "    plotly.offline.init_notebook_mode()\n",
    "else:\n",
    "    plotly.io.renderers.default = 'iframe'\n",
    "\n",
    "sys.path.append('../..')\n",
    "\n",
    "from libs.dataset import aiq_pos_retailer as sc_retailer\n",
    "from libs.dataset import common as sc_common\n",
    "from libs.path import DEFAULT_DIR"
   ]
  },
  {
   "cell_type": "markdown",
   "metadata": {
    "execution": {
     "iopub.execute_input": "2024-07-16T02:58:13.947896Z",
     "iopub.status.busy": "2024-07-16T02:58:13.946825Z"
    }
   },
   "source": [
    "- Create an instance of the standard data handler.\n",
    "- The data handler is an object that holds libraries for data retrieval and data processing."
   ]
  },
  {
   "cell_type": "code",
   "execution_count": 3,
   "metadata": {
    "execution": {
     "iopub.execute_input": "2024-09-20T02:19:51.996435Z",
     "iopub.status.busy": "2024-09-20T02:19:51.995960Z",
     "iopub.status.idle": "2024-09-20T02:19:52.047294Z",
     "shell.execute_reply": "2024-09-20T02:19:52.046317Z",
     "shell.execute_reply.started": "2024-09-20T02:19:51.996405Z"
    }
   },
   "outputs": [],
   "source": [
    "sdh = DAL()"
   ]
  },
  {
   "cell_type": "markdown",
   "metadata": {},
   "source": [
    "## Step2: Load Data to `sdh`"
   ]
  },
  {
   "cell_type": "markdown",
   "metadata": {},
   "source": [
    "Since the focus here is on demonstrating data analysis, the data will be loaded through a simple loader that has been prepared separately."
   ]
  },
  {
   "cell_type": "code",
   "execution_count": 4,
   "metadata": {
    "execution": {
     "iopub.execute_input": "2024-09-20T02:19:52.049378Z",
     "iopub.status.busy": "2024-09-20T02:19:52.048523Z",
     "iopub.status.idle": "2024-09-20T02:19:59.811972Z",
     "shell.execute_reply": "2024-09-20T02:19:59.811001Z",
     "shell.execute_reply.started": "2024-09-20T02:19:52.049323Z"
    }
   },
   "outputs": [
    {
     "data": {
      "text/html": [
       "<div>\n",
       "<style scoped>\n",
       "    .dataframe tbody tr th:only-of-type {\n",
       "        vertical-align: middle;\n",
       "    }\n",
       "\n",
       "    .dataframe tbody tr th {\n",
       "        vertical-align: top;\n",
       "    }\n",
       "\n",
       "    .dataframe thead th {\n",
       "        text-align: right;\n",
       "    }\n",
       "</style>\n",
       "<table border=\"1\" class=\"dataframe\">\n",
       "  <thead>\n",
       "    <tr style=\"text-align: right;\">\n",
       "      <th></th>\n",
       "      <th>category</th>\n",
       "      <th>data_source</th>\n",
       "      <th>source</th>\n",
       "      <th>table</th>\n",
       "      <th>alias</th>\n",
       "      <th>tickers</th>\n",
       "      <th>index</th>\n",
       "      <th>start_datetime</th>\n",
       "      <th>end_datetime</th>\n",
       "    </tr>\n",
       "    <tr>\n",
       "      <th>data_id</th>\n",
       "      <th></th>\n",
       "      <th></th>\n",
       "      <th></th>\n",
       "      <th></th>\n",
       "      <th></th>\n",
       "      <th></th>\n",
       "      <th></th>\n",
       "      <th></th>\n",
       "      <th></th>\n",
       "    </tr>\n",
       "  </thead>\n",
       "  <tbody>\n",
       "    <tr>\n",
       "      <th>1</th>\n",
       "      <td>RawData</td>\n",
       "      <td>external</td>\n",
       "      <td>sample</td>\n",
       "      <td>Unknown</td>\n",
       "      <td>pos_retailer</td>\n",
       "      <td>None</td>\n",
       "      <td>None</td>\n",
       "      <td>None</td>\n",
       "      <td>None</td>\n",
       "    </tr>\n",
       "    <tr>\n",
       "      <th>2</th>\n",
       "      <td>RawData</td>\n",
       "      <td>External</td>\n",
       "      <td>Unknown</td>\n",
       "      <td>Unknown</td>\n",
       "      <td>market_returns</td>\n",
       "      <td>[1301, 1332, 1333, 1334, 1352, 1378, 1379, 138...</td>\n",
       "      <td>[TICKER, DATETIME]</td>\n",
       "      <td>2007-01-04 00:00:00</td>\n",
       "      <td>2024-08-30 00:00:00</td>\n",
       "    </tr>\n",
       "    <tr>\n",
       "      <th>3</th>\n",
       "      <td>RawData</td>\n",
       "      <td>External</td>\n",
       "      <td>Unknown</td>\n",
       "      <td>Unknown</td>\n",
       "      <td>funda</td>\n",
       "      <td>[1301, 1332, 1333, 1334, 1352, 1378, 1379, 138...</td>\n",
       "      <td>[TICKER, DATETIME]</td>\n",
       "      <td>2007-04-20 00:00:00</td>\n",
       "      <td>2024-05-31 00:00:00</td>\n",
       "    </tr>\n",
       "  </tbody>\n",
       "</table>\n",
       "</div>"
      ],
      "text/plain": [
       "        category data_source   source    table           alias  \\\n",
       "data_id                                                          \n",
       "1        RawData    external   sample  Unknown    pos_retailer   \n",
       "2        RawData    External  Unknown  Unknown  market_returns   \n",
       "3        RawData    External  Unknown  Unknown           funda   \n",
       "\n",
       "                                                   tickers  \\\n",
       "data_id                                                      \n",
       "1                                                     None   \n",
       "2        [1301, 1332, 1333, 1334, 1352, 1378, 1379, 138...   \n",
       "3        [1301, 1332, 1333, 1334, 1352, 1378, 1379, 138...   \n",
       "\n",
       "                      index       start_datetime         end_datetime  \n",
       "data_id                                                                \n",
       "1                      None                 None                 None  \n",
       "2        [TICKER, DATETIME]  2007-01-04 00:00:00  2024-08-30 00:00:00  \n",
       "3        [TICKER, DATETIME]  2007-04-20 00:00:00  2024-05-31 00:00:00  "
      ]
     },
     "metadata": {},
     "output_type": "display_data"
    }
   ],
   "source": [
    "sdh.extract.clear()\n",
    "\n",
    "data_id_alt = sc_retailer.register_retailer_data(sdh, data_dir=DEFAULT_DIR)\n",
    "data_id_mkt = sc_common.register_market(sdh, yf_switch=False, base_data_id=data_id_alt)\n",
    "data_id_funda = sc_common.register_fundamental(sdh)\n",
    "display(sdh.extract_definition)"
   ]
  },
  {
   "cell_type": "code",
   "execution_count": 5,
   "metadata": {
    "execution": {
     "iopub.execute_input": "2024-09-20T02:19:59.813431Z",
     "iopub.status.busy": "2024-09-20T02:19:59.813084Z",
     "iopub.status.idle": "2024-09-20T02:19:59.857818Z",
     "shell.execute_reply": "2024-09-20T02:19:59.856886Z",
     "shell.execute_reply.started": "2024-09-20T02:19:59.813400Z"
    }
   },
   "outputs": [],
   "source": [
    "# Randomly select a TICKER to plot as a sample.\n",
    "sample_target = \"3141\""
   ]
  },
  {
   "cell_type": "code",
   "execution_count": 6,
   "metadata": {
    "execution": {
     "iopub.execute_input": "2024-09-20T02:19:59.862026Z",
     "iopub.status.busy": "2024-09-20T02:19:59.861516Z",
     "iopub.status.idle": "2024-09-20T02:20:00.410603Z",
     "shell.execute_reply": "2024-09-20T02:20:00.409602Z",
     "shell.execute_reply.started": "2024-09-20T02:19:59.861996Z"
    }
   },
   "outputs": [
    {
     "data": {
      "text/html": [
       "<div>\n",
       "<style scoped>\n",
       "    .dataframe tbody tr th:only-of-type {\n",
       "        vertical-align: middle;\n",
       "    }\n",
       "\n",
       "    .dataframe tbody tr th {\n",
       "        vertical-align: top;\n",
       "    }\n",
       "\n",
       "    .dataframe thead th {\n",
       "        text-align: right;\n",
       "    }\n",
       "</style>\n",
       "<table border=\"1\" class=\"dataframe\">\n",
       "  <thead>\n",
       "    <tr style=\"text-align: right;\">\n",
       "      <th></th>\n",
       "      <th>TICKER</th>\n",
       "      <th>FIGI</th>\n",
       "      <th>DATETIME</th>\n",
       "      <th>VARIABLE</th>\n",
       "      <th>SMOOTH</th>\n",
       "      <th>VALUE</th>\n",
       "      <th>BACKFILL</th>\n",
       "      <th>RELEASE_TIMESTAMP</th>\n",
       "    </tr>\n",
       "  </thead>\n",
       "  <tbody>\n",
       "    <tr>\n",
       "      <th>89431</th>\n",
       "      <td>9994</td>\n",
       "      <td>BBG000C2XBL7</td>\n",
       "      <td>2024-06-30</td>\n",
       "      <td>share</td>\n",
       "      <td>0</td>\n",
       "      <td>0.394184</td>\n",
       "      <td>0</td>\n",
       "      <td>2024-07-05 07:28:10</td>\n",
       "    </tr>\n",
       "    <tr>\n",
       "      <th>89432</th>\n",
       "      <td>9994</td>\n",
       "      <td>BBG000C2XBL7</td>\n",
       "      <td>2024-07-31</td>\n",
       "      <td>pos_sales</td>\n",
       "      <td>0</td>\n",
       "      <td>3.110237</td>\n",
       "      <td>0</td>\n",
       "      <td>2024-08-07 09:04:03</td>\n",
       "    </tr>\n",
       "    <tr>\n",
       "      <th>89433</th>\n",
       "      <td>9994</td>\n",
       "      <td>BBG000C2XBL7</td>\n",
       "      <td>2024-07-31</td>\n",
       "      <td>share</td>\n",
       "      <td>0</td>\n",
       "      <td>0.401014</td>\n",
       "      <td>0</td>\n",
       "      <td>2024-08-07 09:04:03</td>\n",
       "    </tr>\n",
       "    <tr>\n",
       "      <th>89434</th>\n",
       "      <td>9994</td>\n",
       "      <td>BBG000C2XBL7</td>\n",
       "      <td>2024-08-31</td>\n",
       "      <td>pos_sales</td>\n",
       "      <td>0</td>\n",
       "      <td>2.805866</td>\n",
       "      <td>0</td>\n",
       "      <td>2024-09-06 05:47:07</td>\n",
       "    </tr>\n",
       "    <tr>\n",
       "      <th>89435</th>\n",
       "      <td>9994</td>\n",
       "      <td>BBG000C2XBL7</td>\n",
       "      <td>2024-08-31</td>\n",
       "      <td>share</td>\n",
       "      <td>0</td>\n",
       "      <td>0.370834</td>\n",
       "      <td>0</td>\n",
       "      <td>2024-09-06 05:47:07</td>\n",
       "    </tr>\n",
       "  </tbody>\n",
       "</table>\n",
       "</div>"
      ],
      "text/plain": [
       "      TICKER          FIGI    DATETIME   VARIABLE  SMOOTH     VALUE  BACKFILL  \\\n",
       "89431   9994  BBG000C2XBL7  2024-06-30      share       0  0.394184         0   \n",
       "89432   9994  BBG000C2XBL7  2024-07-31  pos_sales       0  3.110237         0   \n",
       "89433   9994  BBG000C2XBL7  2024-07-31      share       0  0.401014         0   \n",
       "89434   9994  BBG000C2XBL7  2024-08-31  pos_sales       0  2.805866         0   \n",
       "89435   9994  BBG000C2XBL7  2024-08-31      share       0  0.370834         0   \n",
       "\n",
       "        RELEASE_TIMESTAMP  \n",
       "89431 2024-07-05 07:28:10  \n",
       "89432 2024-08-07 09:04:03  \n",
       "89433 2024-08-07 09:04:03  \n",
       "89434 2024-09-06 05:47:07  \n",
       "89435 2024-09-06 05:47:07  "
      ]
     },
     "metadata": {},
     "output_type": "display_data"
    },
    {
     "data": {
      "text/html": [
       "<div>\n",
       "<style scoped>\n",
       "    .dataframe tbody tr th:only-of-type {\n",
       "        vertical-align: middle;\n",
       "    }\n",
       "\n",
       "    .dataframe tbody tr th {\n",
       "        vertical-align: top;\n",
       "    }\n",
       "\n",
       "    .dataframe thead th {\n",
       "        text-align: right;\n",
       "    }\n",
       "</style>\n",
       "<table border=\"1\" class=\"dataframe\">\n",
       "  <thead>\n",
       "    <tr style=\"text-align: right;\">\n",
       "      <th></th>\n",
       "      <th></th>\n",
       "      <th>returns</th>\n",
       "      <th>returns_oo</th>\n",
       "      <th>returns_id</th>\n",
       "      <th>returns_on</th>\n",
       "    </tr>\n",
       "    <tr>\n",
       "      <th>TICKER</th>\n",
       "      <th>DATETIME</th>\n",
       "      <th></th>\n",
       "      <th></th>\n",
       "      <th></th>\n",
       "      <th></th>\n",
       "    </tr>\n",
       "  </thead>\n",
       "  <tbody>\n",
       "    <tr>\n",
       "      <th rowspan=\"5\" valign=\"top\">9997</th>\n",
       "      <th>2024-08-26</th>\n",
       "      <td>-0.016416</td>\n",
       "      <td>-0.001356</td>\n",
       "      <td>-0.016416</td>\n",
       "      <td>0.000000</td>\n",
       "    </tr>\n",
       "    <tr>\n",
       "      <th>2024-08-27</th>\n",
       "      <td>0.000000</td>\n",
       "      <td>-0.010914</td>\n",
       "      <td>-0.005502</td>\n",
       "      <td>0.005502</td>\n",
       "    </tr>\n",
       "    <tr>\n",
       "      <th>2024-08-28</th>\n",
       "      <td>0.016416</td>\n",
       "      <td>-0.005502</td>\n",
       "      <td>0.016416</td>\n",
       "      <td>0.000000</td>\n",
       "    </tr>\n",
       "    <tr>\n",
       "      <th>2024-08-29</th>\n",
       "      <td>-0.002717</td>\n",
       "      <td>0.015058</td>\n",
       "      <td>-0.001360</td>\n",
       "      <td>-0.001358</td>\n",
       "    </tr>\n",
       "    <tr>\n",
       "      <th>2024-08-30</th>\n",
       "      <td>0.009479</td>\n",
       "      <td>0.002714</td>\n",
       "      <td>0.005405</td>\n",
       "      <td>0.004073</td>\n",
       "    </tr>\n",
       "  </tbody>\n",
       "</table>\n",
       "</div>"
      ],
      "text/plain": [
       "                    returns  returns_oo  returns_id  returns_on\n",
       "TICKER DATETIME                                                \n",
       "9997   2024-08-26 -0.016416   -0.001356   -0.016416    0.000000\n",
       "       2024-08-27  0.000000   -0.010914   -0.005502    0.005502\n",
       "       2024-08-28  0.016416   -0.005502    0.016416    0.000000\n",
       "       2024-08-29 -0.002717    0.015058   -0.001360   -0.001358\n",
       "       2024-08-30  0.009479    0.002714    0.005405    0.004073"
      ]
     },
     "metadata": {},
     "output_type": "display_data"
    },
    {
     "data": {
      "text/html": [
       "<div>\n",
       "<style scoped>\n",
       "    .dataframe tbody tr th:only-of-type {\n",
       "        vertical-align: middle;\n",
       "    }\n",
       "\n",
       "    .dataframe tbody tr th {\n",
       "        vertical-align: top;\n",
       "    }\n",
       "\n",
       "    .dataframe thead th {\n",
       "        text-align: right;\n",
       "    }\n",
       "</style>\n",
       "<table border=\"1\" class=\"dataframe\">\n",
       "  <thead>\n",
       "    <tr style=\"text-align: right;\">\n",
       "      <th></th>\n",
       "      <th></th>\n",
       "      <th>sales_yoy</th>\n",
       "    </tr>\n",
       "    <tr>\n",
       "      <th>TICKER</th>\n",
       "      <th>DATETIME</th>\n",
       "      <th></th>\n",
       "    </tr>\n",
       "  </thead>\n",
       "  <tbody>\n",
       "    <tr>\n",
       "      <th rowspan=\"5\" valign=\"top\">9997</th>\n",
       "      <th>2023-03-31</th>\n",
       "      <td>0.008141</td>\n",
       "    </tr>\n",
       "    <tr>\n",
       "      <th>2023-06-30</th>\n",
       "      <td>-0.030340</td>\n",
       "    </tr>\n",
       "    <tr>\n",
       "      <th>2023-09-30</th>\n",
       "      <td>-0.024041</td>\n",
       "    </tr>\n",
       "    <tr>\n",
       "      <th>2023-12-31</th>\n",
       "      <td>-0.024655</td>\n",
       "    </tr>\n",
       "    <tr>\n",
       "      <th>2024-03-31</th>\n",
       "      <td>0.001886</td>\n",
       "    </tr>\n",
       "  </tbody>\n",
       "</table>\n",
       "</div>"
      ],
      "text/plain": [
       "                   sales_yoy\n",
       "TICKER DATETIME             \n",
       "9997   2023-03-31   0.008141\n",
       "       2023-06-30  -0.030340\n",
       "       2023-09-30  -0.024041\n",
       "       2023-12-31  -0.024655\n",
       "       2024-03-31   0.001886"
      ]
     },
     "metadata": {},
     "output_type": "display_data"
    }
   ],
   "source": [
    "display(sdh.get_raw_data(data_id_alt).tail())\n",
    "display(sdh.get_raw_data(data_id_mkt).tail())\n",
    "display(sdh.get_raw_data(data_id_funda).tail())"
   ]
  },
  {
   "cell_type": "markdown",
   "metadata": {},
   "source": [
    "> If you want to use your own financial data with the handler, please set the following flag to True. <br> Note that the sample financial data has already been adjusted for YoY."
   ]
  },
  {
   "cell_type": "code",
   "execution_count": 7,
   "metadata": {
    "execution": {
     "iopub.execute_input": "2024-09-20T02:20:00.412058Z",
     "iopub.status.busy": "2024-09-20T02:20:00.411754Z",
     "iopub.status.idle": "2024-09-20T02:20:00.455065Z",
     "shell.execute_reply": "2024-09-20T02:20:00.454115Z",
     "shell.execute_reply.started": "2024-09-20T02:20:00.412029Z"
    }
   },
   "outputs": [],
   "source": [
    "USE_MY_FUNDA = False "
   ]
  },
  {
   "cell_type": "markdown",
   "metadata": {},
   "source": [
    "> If you want to use your own market data with the handler (or set `yf_switch`=True in `register_market`) , please set the following flag to True. <br> Note that the sample market data has already been adjusted for Returns."
   ]
  },
  {
   "cell_type": "code",
   "execution_count": 8,
   "metadata": {
    "execution": {
     "iopub.execute_input": "2024-09-20T02:20:00.457046Z",
     "iopub.status.busy": "2024-09-20T02:20:00.456198Z",
     "iopub.status.idle": "2024-09-20T02:20:00.520372Z",
     "shell.execute_reply": "2024-09-20T02:20:00.519405Z",
     "shell.execute_reply.started": "2024-09-20T02:20:00.457015Z"
    }
   },
   "outputs": [],
   "source": [
    "USE_MY_MKT = False"
   ]
  },
  {
   "cell_type": "markdown",
   "metadata": {},
   "source": [
    "## Step3: Correlation Analysis"
   ]
  },
  {
   "cell_type": "markdown",
   "metadata": {},
   "source": [
    "### Create `AltDataEvaluator`\n",
    "Given the nature of aiQ POS Retailer data, it is expected that there may be a correlation with financial data (quarterly sales).\n",
    "\n",
    "Here, we will test this hypothesis to determine its validity."
   ]
  },
  {
   "cell_type": "markdown",
   "metadata": {},
   "source": [
    "#### Use `AltDataEvaluator` to evaluate the alternative data."
   ]
  },
  {
   "cell_type": "code",
   "execution_count": 9,
   "metadata": {
    "execution": {
     "iopub.execute_input": "2024-09-20T02:20:00.522259Z",
     "iopub.status.busy": "2024-09-20T02:20:00.521755Z",
     "iopub.status.idle": "2024-09-20T02:20:03.757850Z",
     "shell.execute_reply": "2024-09-20T02:20:03.756907Z",
     "shell.execute_reply.started": "2024-09-20T02:20:00.522213Z"
    }
   },
   "outputs": [],
   "source": [
    "from aiq_strategy_robot.evaluator import AltDataEvaluator\n",
    "\n",
    "# Initialize AltDataEvaluator\n",
    "ade = AltDataEvaluator(sdh)"
   ]
  },
  {
   "cell_type": "markdown",
   "metadata": {},
   "source": [
    "#### Compare the Quarterly Sales Data Loaded in Step 2 with the `pos_sales` from POS Retailer\n",
    "- To enable comparison between the quarterly sales data and `pos_sales`, resample the latter."
   ]
  },
  {
   "cell_type": "code",
   "execution_count": 10,
   "metadata": {
    "execution": {
     "iopub.execute_input": "2024-09-20T02:20:03.759535Z",
     "iopub.status.busy": "2024-09-20T02:20:03.759018Z",
     "iopub.status.idle": "2024-09-20T02:20:03.840776Z",
     "shell.execute_reply": "2024-09-20T02:20:03.839786Z",
     "shell.execute_reply.started": "2024-09-20T02:20:03.759505Z"
    }
   },
   "outputs": [],
   "source": [
    "sdh.transform.clear()\n",
    "funda_kpi_id = sdh.transform.raw(data_id=data_id_funda).variable_ids[0]\n",
    "pos_Q_ids = sdh.transform.resample_by(label=funda_kpi_id, func='last', data_id=data_id_alt).variable_ids"
   ]
  },
  {
   "cell_type": "code",
   "execution_count": null,
   "metadata": {},
   "outputs": [],
   "source": []
  },
  {
   "cell_type": "markdown",
   "metadata": {},
   "source": [
    "## Step 3.1: Plot with Quarterly Sales\n",
    "\n",
    "Plot the quarterly sales data alongside the alternative data to visually inspect the data shapes.\n",
    "> It is recommended to compare with your financial data before applying YoY adjustments."
   ]
  },
  {
   "cell_type": "markdown",
   "metadata": {},
   "source": [
    "#### Create Variables from the Base `variable` and Visually Identify Which Matches the Financial Data\n",
    "- By using `sdh.transform`, you can create various variables and quickly evaluate which one has the strongest relationship with the financial data.\n",
    "- For a list of `transform` processes, please refer to the sample notebook provided with the `data handler`."
   ]
  },
  {
   "cell_type": "code",
   "execution_count": 11,
   "metadata": {
    "execution": {
     "iopub.execute_input": "2024-09-20T02:20:03.842708Z",
     "iopub.status.busy": "2024-09-20T02:20:03.842403Z",
     "iopub.status.idle": "2024-09-20T02:20:03.911485Z",
     "shell.execute_reply": "2024-09-20T02:20:03.910482Z",
     "shell.execute_reply.started": "2024-09-20T02:20:03.842679Z"
    }
   },
   "outputs": [],
   "source": [
    "if USE_MY_FUNDA:\n",
    "    \n",
    "    # Plot the data to visually inspect its shape.\n",
    "    sdh.show_line_one_target(\n",
    "        target=sample_target,\n",
    "        y=funda_kpi_id,\n",
    "        X= pos_Q_ids[:],\n",
    "        col_num=2,\n",
    "        vname_len_limit=40,\n",
    "        start_date='2016-01-01'\n",
    "    )\n",
    "\n",
    "    # First, define the variables.\n",
    "    shft1_Q_ids = sdh.transform.shift(data_id=data_id_alt, periods=1).resample_by(label=funda_kpi_id, func='last').variable_ids\n",
    "    shft2_Q_ids = sdh.transform.shift(data_id=data_id_alt, periods=2).resample_by(label=funda_kpi_id, func='last').variable_ids\n",
    "    shft3_Q_ids = sdh.transform.shift(data_id=data_id_alt, periods=3).resample_by(label=funda_kpi_id, func='last').variable_ids\n",
    "    shft4_Q_ids = sdh.transform.shift(data_id=data_id_alt, periods=4).resample_by(label=funda_kpi_id, func='last').variable_ids\n",
    "    shft5_Q_ids = sdh.transform.shift(data_id=data_id_alt, periods=5).resample_by(label=funda_kpi_id, func='last').variable_ids\n",
    "    shft6_Q_ids = sdh.transform.shift(data_id=data_id_alt, periods=6).resample_by(label=funda_kpi_id, func='last').variable_ids\n",
    "    shft7_Q_ids = sdh.transform.shift(data_id=data_id_alt, periods=7).resample_by(label=funda_kpi_id, func='last').variable_ids\n",
    "    shft8_Q_ids = sdh.transform.shift(data_id=data_id_alt, periods=8).resample_by(label=funda_kpi_id, func='last').variable_ids\n",
    "    shft9_Q_ids = sdh.transform.shift(data_id=data_id_alt, periods=9).resample_by(label=funda_kpi_id, func='last').variable_ids\n",
    "    shft10_Q_ids = sdh.transform.shift(data_id=data_id_alt, periods=10).resample_by(label=funda_kpi_id, func='last').variable_ids\n",
    "    shft11_Q_ids = sdh.transform.shift(data_id=data_id_alt, periods=11).resample_by(label=funda_kpi_id, func='last').variable_ids\n",
    "    shft12_Q_ids = sdh.transform.shift(data_id=data_id_alt, periods=12).resample_by(label=funda_kpi_id, func='last').variable_ids\n",
    "    shft13_Q_ids = sdh.transform.shift(data_id=data_id_alt, periods=13).resample_by(label=funda_kpi_id, func='last').variable_ids\n",
    "    shft14_Q_ids = sdh.transform.shift(data_id=data_id_alt, periods=14).resample_by(label=funda_kpi_id, func='last').variable_ids\n",
    "    shft15_Q_ids = sdh.transform.shift(data_id=data_id_alt, periods=15).resample_by(label=funda_kpi_id, func='last').variable_ids\n",
    "    shft16_Q_ids = sdh.transform.shift(data_id=data_id_alt, periods=16).resample_by(label=funda_kpi_id, func='last').variable_ids\n",
    "\n",
    "    # Plot the variables created above to visually inspect them.\n",
    "    sdh.show_line_one_target(\n",
    "        target=sample_target,\n",
    "        y=funda_kpi_id,\n",
    "        X= [shft1_Q_ids[0], shft3_Q_ids[0], shft6_Q_ids[0], shft9_Q_ids[0]],\n",
    "        col_num=2,\n",
    "        vname_len_limit=45,\n",
    "        start_date='2016-01-01'\n",
    "    )\n",
    "\n",
    "     # For the next step, calculate the year-over-year (YoY) changes and create a variable with an additional lagged difference to address cases where trends might cause apparent correlations.\n",
    "    funda_kpi_log_id = sdh.transform.log_diff(fields=funda_kpi_id, periods=4).diff(periods=1).variable_ids[-1]\n",
    "    "
   ]
  },
  {
   "cell_type": "code",
   "execution_count": 12,
   "metadata": {
    "execution": {
     "iopub.execute_input": "2024-09-20T02:20:03.913541Z",
     "iopub.status.busy": "2024-09-20T02:20:03.912733Z",
     "iopub.status.idle": "2024-09-20T02:20:06.468079Z",
     "shell.execute_reply": "2024-09-20T02:20:06.465248Z",
     "shell.execute_reply.started": "2024-09-20T02:20:03.913508Z"
    }
   },
   "outputs": [
    {
     "ename": "ValueError",
     "evalue": "MultiIndex has no single backing array. Use 'MultiIndex.to_numpy()' to get a NumPy array of tuples.",
     "output_type": "error",
     "traceback": [
      "\u001b[0;31m---------------------------------------------------------------------------\u001b[0m",
      "\u001b[0;31mValueError\u001b[0m                                Traceback (most recent call last)",
      "Input \u001b[0;32mIn [12]\u001b[0m, in \u001b[0;36m<cell line: 1>\u001b[0;34m()\u001b[0m\n\u001b[1;32m      4\u001b[0m pos_Q_yoy_ids \u001b[38;5;241m=\u001b[39m sdh\u001b[38;5;241m.\u001b[39mtransform\u001b[38;5;241m.\u001b[39mlog_diff(periods\u001b[38;5;241m=\u001b[39m\u001b[38;5;241m4\u001b[39m, fields\u001b[38;5;241m=\u001b[39mpos_Q_ids)\u001b[38;5;241m.\u001b[39mvariable_ids\n\u001b[1;32m      6\u001b[0m \u001b[38;5;66;03m# Plot the data to visually inspect its shape.\u001b[39;00m\n\u001b[0;32m----> 7\u001b[0m \u001b[43msdh\u001b[49m\u001b[38;5;241;43m.\u001b[39;49m\u001b[43mshow_scatter_one_target\u001b[49m\u001b[43m(\u001b[49m\n\u001b[1;32m      8\u001b[0m \u001b[43m    \u001b[49m\u001b[43mtarget\u001b[49m\u001b[38;5;241;43m=\u001b[39;49m\u001b[43msample_target\u001b[49m\u001b[43m,\u001b[49m\n\u001b[1;32m      9\u001b[0m \u001b[43m    \u001b[49m\u001b[43my\u001b[49m\u001b[38;5;241;43m=\u001b[39;49m\u001b[43mfunda_kpi_id\u001b[49m\u001b[43m,\u001b[49m\n\u001b[1;32m     10\u001b[0m \u001b[43m    \u001b[49m\u001b[43mX\u001b[49m\u001b[38;5;241;43m=\u001b[39;49m\u001b[43mpos_Q_yoy_ids\u001b[49m\u001b[43m,\u001b[49m\n\u001b[1;32m     11\u001b[0m \u001b[43m    \u001b[49m\u001b[43mcol_num\u001b[49m\u001b[38;5;241;43m=\u001b[39;49m\u001b[38;5;241;43m2\u001b[39;49m\u001b[43m,\u001b[49m\n\u001b[1;32m     12\u001b[0m \u001b[43m    \u001b[49m\u001b[43mvname_len_limit\u001b[49m\u001b[38;5;241;43m=\u001b[39;49m\u001b[38;5;241;43m35\u001b[39;49m\n\u001b[1;32m     13\u001b[0m \u001b[43m\u001b[49m\u001b[43m)\u001b[49m\n\u001b[1;32m     15\u001b[0m \u001b[38;5;66;03m# Define the variables.\u001b[39;00m\n\u001b[1;32m     16\u001b[0m shft1_Q_ids \u001b[38;5;241m=\u001b[39m sdh\u001b[38;5;241m.\u001b[39mtransform\u001b[38;5;241m.\u001b[39mshift(data_id\u001b[38;5;241m=\u001b[39mdata_id_alt, periods\u001b[38;5;241m=\u001b[39m\u001b[38;5;241m1\u001b[39m)\u001b[38;5;241m.\u001b[39mresample_by(label\u001b[38;5;241m=\u001b[39mfunda_kpi_id, func\u001b[38;5;241m=\u001b[39m\u001b[38;5;124m'\u001b[39m\u001b[38;5;124mlast\u001b[39m\u001b[38;5;124m'\u001b[39m)\u001b[38;5;241m.\u001b[39mvariable_ids\n",
      "File \u001b[0;32m~/work/asr_protected/asr_protected/data_handler/impl/std_data_handler.py:751\u001b[0m, in \u001b[0;36mStdDataHandler.show_scatter_one_target\u001b[0;34m(self, target, y, X, start_date, end_date, vname_len_limit, img_dir, col_num, chunk_size, fitting_func, target_col)\u001b[0m\n\u001b[1;32m    746\u001b[0m end_date \u001b[38;5;241m=\u001b[39m \u001b[38;5;28mself\u001b[39m\u001b[38;5;241m.\u001b[39m__datestr_to_date(end_date)\n\u001b[1;32m    747\u001b[0m plot_func \u001b[38;5;241m=\u001b[39m partial(\n\u001b[1;32m    748\u001b[0m     \u001b[38;5;28mself\u001b[39m\u001b[38;5;241m.\u001b[39m__scatter_plot,\n\u001b[1;32m    749\u001b[0m     fitting_func\u001b[38;5;241m=\u001b[39mfitting_func,\n\u001b[1;32m    750\u001b[0m     start_date\u001b[38;5;241m=\u001b[39mstart_date, end_date\u001b[38;5;241m=\u001b[39mend_date, target_col\u001b[38;5;241m=\u001b[39mtarget_col)\n\u001b[0;32m--> 751\u001b[0m r \u001b[38;5;241m=\u001b[39m \u001b[38;5;28;43mself\u001b[39;49m\u001b[38;5;241;43m.\u001b[39;49m\u001b[43m__show_one_target\u001b[49m\u001b[43m(\u001b[49m\n\u001b[1;32m    752\u001b[0m \u001b[43m    \u001b[49m\u001b[43mplot_func\u001b[49m\u001b[38;5;241;43m=\u001b[39;49m\u001b[43mplot_func\u001b[49m\u001b[43m,\u001b[49m\n\u001b[1;32m    753\u001b[0m \u001b[43m    \u001b[49m\u001b[43mtarget\u001b[49m\u001b[38;5;241;43m=\u001b[39;49m\u001b[43mtarget\u001b[49m\u001b[43m,\u001b[49m\u001b[43m \u001b[49m\u001b[43my\u001b[49m\u001b[38;5;241;43m=\u001b[39;49m\u001b[43my\u001b[49m\u001b[43m,\u001b[49m\u001b[43m \u001b[49m\u001b[43mX\u001b[49m\u001b[38;5;241;43m=\u001b[39;49m\u001b[43mX\u001b[49m\u001b[43m,\u001b[49m\n\u001b[1;32m    754\u001b[0m \u001b[43m    \u001b[49m\u001b[43mimg_dir\u001b[49m\u001b[38;5;241;43m=\u001b[39;49m\u001b[43mimg_dir\u001b[49m\u001b[43m,\u001b[49m\u001b[43m \u001b[49m\u001b[43mcol_num\u001b[49m\u001b[38;5;241;43m=\u001b[39;49m\u001b[43mcol_num\u001b[49m\u001b[43m,\u001b[49m\u001b[43m \u001b[49m\u001b[43mchunk_size\u001b[49m\u001b[38;5;241;43m=\u001b[39;49m\u001b[43mchunk_size\u001b[49m\u001b[43m)\u001b[49m\n\u001b[1;32m    755\u001b[0m \u001b[38;5;28;01mreturn\u001b[39;00m r\n",
      "File \u001b[0;32m~/work/asr_protected/asr_protected/data_handler/impl/std_data_handler.py:575\u001b[0m, in \u001b[0;36mStdDataHandler.__show_one_target\u001b[0;34m(self, plot_func, target, y, X, img_dir, col_num, chunk_size)\u001b[0m\n\u001b[1;32m    572\u001b[0m     s \u001b[38;5;241m=\u001b[39m \u001b[38;5;28mself\u001b[39m\u001b[38;5;241m.\u001b[39m__get_variable_name_clipped(vuid_2)\n\u001b[1;32m    573\u001b[0m     \u001b[38;5;28;01mreturn\u001b[39;00m \u001b[38;5;124mf\u001b[39m\u001b[38;5;124m\"\u001b[39m\u001b[38;5;132;01m{\u001b[39;00ms\u001b[38;5;132;01m}\u001b[39;00m\u001b[38;5;124m\"\u001b[39m\n\u001b[0;32m--> 575\u001b[0m r \u001b[38;5;241m=\u001b[39m \u001b[38;5;28;43mself\u001b[39;49m\u001b[38;5;241;43m.\u001b[39;49m\u001b[43m__show_pair_compare_tiles\u001b[49m\u001b[43m(\u001b[49m\n\u001b[1;32m    576\u001b[0m \u001b[43m    \u001b[49m\u001b[43mpair_vids\u001b[49m\u001b[43m,\u001b[49m\n\u001b[1;32m    577\u001b[0m \u001b[43m    \u001b[49m\u001b[43mplot_func\u001b[49m\u001b[38;5;241;43m=\u001b[39;49m\u001b[43mplot_func\u001b[49m\u001b[43m,\u001b[49m\n\u001b[1;32m    578\u001b[0m \u001b[43m    \u001b[49m\u001b[43mf_gen_title_func\u001b[49m\u001b[38;5;241;43m=\u001b[39;49m\u001b[43mf_gen_title_func\u001b[49m\u001b[43m,\u001b[49m\n\u001b[1;32m    579\u001b[0m \u001b[43m    \u001b[49m\u001b[43mimg_dir\u001b[49m\u001b[38;5;241;43m=\u001b[39;49m\u001b[43mimg_dir\u001b[49m\u001b[43m,\u001b[49m\u001b[43m \u001b[49m\u001b[43mcol_num\u001b[49m\u001b[38;5;241;43m=\u001b[39;49m\u001b[43mcol_num\u001b[49m\u001b[43m,\u001b[49m\n\u001b[1;32m    580\u001b[0m \u001b[43m    \u001b[49m\u001b[43mchunk_size\u001b[49m\u001b[38;5;241;43m=\u001b[39;49m\u001b[43mchunk_size\u001b[49m\u001b[43m)\u001b[49m\n\u001b[1;32m    581\u001b[0m \u001b[38;5;28;01mreturn\u001b[39;00m r\n",
      "File \u001b[0;32m~/work/asr_protected/asr_protected/data_handler/impl/std_data_handler.py:414\u001b[0m, in \u001b[0;36mStdDataHandler.__show_pair_compare_tiles\u001b[0;34m(self, pair_vuids, plot_func, f_gen_title_func, img_dir, col_num, chunk_size)\u001b[0m\n\u001b[1;32m    400\u001b[0m \u001b[38;5;28;01mdef\u001b[39;00m \u001b[38;5;21m__show_pair_compare_tiles\u001b[39m(\n\u001b[1;32m    401\u001b[0m     \u001b[38;5;28mself\u001b[39m,\n\u001b[1;32m    402\u001b[0m     pair_vuids:\n\u001b[0;32m   (...)\u001b[0m\n\u001b[1;32m    411\u001b[0m ) \u001b[38;5;241m-\u001b[39m\u001b[38;5;241m>\u001b[39m Optional[Path]:\n\u001b[1;32m    412\u001b[0m     \u001b[38;5;66;03m# Activate cache.\u001b[39;00m\n\u001b[1;32m    413\u001b[0m     vuids \u001b[38;5;241m=\u001b[39m \u001b[38;5;28mset\u001b[39m(\u001b[38;5;28msum\u001b[39m([[p[\u001b[38;5;241m1\u001b[39m], p[\u001b[38;5;241m2\u001b[39m]] \u001b[38;5;28;01mfor\u001b[39;00m p \u001b[38;5;129;01min\u001b[39;00m pair_vuids], []))\n\u001b[0;32m--> 414\u001b[0m     _ \u001b[38;5;241m=\u001b[39m \u001b[38;5;28;43mself\u001b[39;49m\u001b[38;5;241;43m.\u001b[39;49m\u001b[43mget_variables\u001b[49m\u001b[43m(\u001b[49m\u001b[43mvuids\u001b[49m\u001b[43m)\u001b[49m\n\u001b[1;32m    416\u001b[0m     \u001b[38;5;66;03m# Chunking\u001b[39;00m\n\u001b[1;32m    417\u001b[0m     \u001b[38;5;28;01mif\u001b[39;00m chunk_size \u001b[38;5;129;01mis\u001b[39;00m \u001b[38;5;129;01mnot\u001b[39;00m \u001b[38;5;28;01mNone\u001b[39;00m:\n",
      "File \u001b[0;32m~/work/asr_protected/asr_protected/data_handler/impl/std_data_handler.py:77\u001b[0m, in \u001b[0;36mStdDataHandler.get_variables\u001b[0;34m(self, variable_ids)\u001b[0m\n\u001b[1;32m     64\u001b[0m \u001b[38;5;28;01mdef\u001b[39;00m \u001b[38;5;21mget_variables\u001b[39m(\u001b[38;5;28mself\u001b[39m, variable_ids: Union[VariableUID, List[VariableUID]]) \u001b[38;5;241m-\u001b[39m\u001b[38;5;241m>\u001b[39m pd\u001b[38;5;241m.\u001b[39mDataFrame:\n\u001b[1;32m     65\u001b[0m \u001b[38;5;250m    \u001b[39m\u001b[38;5;124;03m\"\"\" Retrieve the specified variable data.\u001b[39;00m\n\u001b[1;32m     66\u001b[0m \n\u001b[1;32m     67\u001b[0m \u001b[38;5;124;03m    Parameters\u001b[39;00m\n\u001b[0;32m   (...)\u001b[0m\n\u001b[1;32m     75\u001b[0m \u001b[38;5;124;03m        variable data\u001b[39;00m\n\u001b[1;32m     76\u001b[0m \u001b[38;5;124;03m    \"\"\"\u001b[39;00m\n\u001b[0;32m---> 77\u001b[0m     \u001b[38;5;28;01mreturn\u001b[39;00m \u001b[38;5;28;43mself\u001b[39;49m\u001b[38;5;241;43m.\u001b[39;49m\u001b[43m__transform_manager\u001b[49m\u001b[38;5;241;43m.\u001b[39;49m\u001b[43mget\u001b[49m\u001b[43m(\u001b[49m\u001b[43mvariable_ids\u001b[49m\u001b[43m)\u001b[49m\n",
      "File \u001b[0;32m~/work/asr_protected/asr_protected/data_manager/transform/manager.py:427\u001b[0m, in \u001b[0;36mTransformManager.get\u001b[0;34m(self, variable_uids)\u001b[0m\n\u001b[1;32m    425\u001b[0m \u001b[38;5;28;01mif\u001b[39;00m \u001b[38;5;28mlen\u001b[39m(variables) \u001b[38;5;241m!=\u001b[39m \u001b[38;5;28mlen\u001b[39m(\u001b[38;5;28mset\u001b[39m(variables)):\n\u001b[1;32m    426\u001b[0m     \u001b[38;5;28;01mraise\u001b[39;00m \u001b[38;5;167;01mValueError\u001b[39;00m(\u001b[38;5;124m'\u001b[39m\u001b[38;5;124mA duplicate exists in variable_uids.\u001b[39m\u001b[38;5;124m'\u001b[39m)\n\u001b[0;32m--> 427\u001b[0m \u001b[38;5;28;01mreturn\u001b[39;00m \u001b[38;5;28;43mself\u001b[39;49m\u001b[38;5;241;43m.\u001b[39;49m\u001b[43m_generator\u001b[49m\u001b[38;5;241;43m.\u001b[39;49m\u001b[43mget\u001b[49m\u001b[43m(\u001b[49m\u001b[43mvariables\u001b[49m\u001b[43m)\u001b[49m\n",
      "File \u001b[0;32m~/work/asr_protected/asr_protected/data_manager/transform/generator.py:108\u001b[0m, in \u001b[0;36mVariableGenerator.get\u001b[0;34m(self, variable_uids)\u001b[0m\n\u001b[1;32m    107\u001b[0m \u001b[38;5;28;01mdef\u001b[39;00m \u001b[38;5;21mget\u001b[39m(\u001b[38;5;28mself\u001b[39m, variable_uids: List[VariableUID] \u001b[38;5;241m=\u001b[39m \u001b[38;5;28;01mNone\u001b[39;00m) \u001b[38;5;241m-\u001b[39m\u001b[38;5;241m>\u001b[39m pd\u001b[38;5;241m.\u001b[39mDataFrame:\n\u001b[0;32m--> 108\u001b[0m     \u001b[38;5;28;43mself\u001b[39;49m\u001b[38;5;241;43m.\u001b[39;49m\u001b[43mgenerate\u001b[49m\u001b[43m(\u001b[49m\u001b[43mvariable_uids\u001b[49m\u001b[43m)\u001b[49m\n\u001b[1;32m    109\u001b[0m     data: List \u001b[38;5;241m=\u001b[39m \u001b[38;5;28mself\u001b[39m\u001b[38;5;241m.\u001b[39m_get_variables(variable_uids)\n\u001b[1;32m    110\u001b[0m     \u001b[38;5;28;01mreturn\u001b[39;00m \u001b[38;5;28mself\u001b[39m\u001b[38;5;241m.\u001b[39m_concat_variables(data)\n",
      "File \u001b[0;32m~/work/asr_protected/asr_protected/data_manager/transform/generator.py:202\u001b[0m, in \u001b[0;36mVariableGenerator.generate\u001b[0;34m(self, variable_uids)\u001b[0m\n\u001b[1;32m    199\u001b[0m input_data \u001b[38;5;241m=\u001b[39m \u001b[38;5;28mself\u001b[39m\u001b[38;5;241m.\u001b[39m_create_input_data(var_defs)\n\u001b[1;32m    201\u001b[0m var_obj \u001b[38;5;241m=\u001b[39m proc_def\u001b[38;5;241m.\u001b[39mvar_obj\n\u001b[0;32m--> 202\u001b[0m variables \u001b[38;5;241m=\u001b[39m \u001b[43mcalc_transformation\u001b[49m\u001b[43m(\u001b[49m\u001b[43minput_data\u001b[49m\u001b[43m,\u001b[49m\u001b[43m \u001b[49m\u001b[43mvar_obj\u001b[49m\u001b[43m)\u001b[49m\n\u001b[1;32m    203\u001b[0m \u001b[38;5;28mself\u001b[39m\u001b[38;5;241m.\u001b[39m_set_variable(variables, var_defs)\n",
      "File \u001b[0;32m~/work/asr_protected/asr_protected/data_manager/transform/calculation.py:182\u001b[0m, in \u001b[0;36mcalc_transformation\u001b[0;34m(input_data, var_obj)\u001b[0m\n\u001b[1;32m    174\u001b[0m     \u001b[38;5;28;01mraise\u001b[39;00m \u001b[38;5;167;01mNotImplementedError\u001b[39;00m(var_obj\u001b[38;5;241m.\u001b[39m\u001b[38;5;18m__class__\u001b[39m)\n\u001b[1;32m    176\u001b[0m gene \u001b[38;5;241m=\u001b[39m calculator(\n\u001b[1;32m    177\u001b[0m     input_data,\n\u001b[1;32m    178\u001b[0m     var_obj,\n\u001b[1;32m    179\u001b[0m     transformer_cls,\n\u001b[1;32m    180\u001b[0m )\n\u001b[0;32m--> 182\u001b[0m \u001b[38;5;28;01mreturn\u001b[39;00m \u001b[43mgene\u001b[49m\u001b[38;5;241;43m.\u001b[39;49m\u001b[43mfit\u001b[49m\u001b[43m(\u001b[49m\u001b[43m)\u001b[49m\n",
      "File \u001b[0;32m~/work/asr_protected/asr_protected/data_manager/transform/calculation.py:31\u001b[0m, in \u001b[0;36mCalculator.fit\u001b[0;34m(self)\u001b[0m\n\u001b[1;32m     29\u001b[0m \u001b[38;5;28;01mdef\u001b[39;00m \u001b[38;5;21mfit\u001b[39m(\u001b[38;5;28mself\u001b[39m):\n\u001b[1;32m     30\u001b[0m     input_data \u001b[38;5;241m=\u001b[39m \u001b[38;5;28mself\u001b[39m\u001b[38;5;241m.\u001b[39m_preprocess()\n\u001b[0;32m---> 31\u001b[0m     \u001b[38;5;28mself\u001b[39m\u001b[38;5;241m.\u001b[39minput_data \u001b[38;5;241m=\u001b[39m \u001b[38;5;28;43mself\u001b[39;49m\u001b[38;5;241;43m.\u001b[39;49m\u001b[43mtrans_cls\u001b[49m\u001b[43m(\u001b[49m\u001b[43m)\u001b[49m\u001b[38;5;241;43m.\u001b[39;49m\u001b[43mtransform\u001b[49m\u001b[43m(\u001b[49m\u001b[43minput_data\u001b[49m\u001b[43m,\u001b[49m\u001b[43m \u001b[49m\u001b[38;5;28;43mself\u001b[39;49m\u001b[38;5;241;43m.\u001b[39;49m\u001b[43mvar_obj\u001b[49m\u001b[43m)\u001b[49m\n\u001b[1;32m     32\u001b[0m     \u001b[38;5;28;01mreturn\u001b[39;00m \u001b[38;5;28mself\u001b[39m\u001b[38;5;241m.\u001b[39m_postprocess()\n",
      "File \u001b[0;32m~/work/asr_protected/asr_protected/data_transformer/data_transformer.py:36\u001b[0m, in \u001b[0;36mAbstractTransformer.transform\u001b[0;34m(self, data, trans_obj)\u001b[0m\n\u001b[1;32m     29\u001b[0m \u001b[38;5;250m\u001b[39m\u001b[38;5;124;03m\"\"\"\u001b[39;00m\n\u001b[1;32m     30\u001b[0m \u001b[38;5;124;03mReceives data to be transformed and object of transform information, transform data using validation and imp_transform methods, and returns it.\u001b[39;00m\n\u001b[1;32m     31\u001b[0m \u001b[38;5;124;03m:param data: transform object\u001b[39;00m\n\u001b[1;32m     32\u001b[0m \u001b[38;5;124;03m:trans_obj: transform information object\u001b[39;00m\n\u001b[1;32m     33\u001b[0m \u001b[38;5;124;03m:return: transformed object\u001b[39;00m\n\u001b[1;32m     34\u001b[0m \u001b[38;5;124;03m\"\"\"\u001b[39;00m\n\u001b[1;32m     35\u001b[0m valid_data, valid_trans_obj \u001b[38;5;241m=\u001b[39m \u001b[38;5;28mself\u001b[39m\u001b[38;5;241m.\u001b[39mvalidation(data, trans_obj)\n\u001b[0;32m---> 36\u001b[0m trn_data \u001b[38;5;241m=\u001b[39m \u001b[38;5;28;43mself\u001b[39;49m\u001b[38;5;241;43m.\u001b[39;49m\u001b[43mimp_transform\u001b[49m\u001b[43m(\u001b[49m\u001b[43mvalid_data\u001b[49m\u001b[43m,\u001b[49m\u001b[43m \u001b[49m\u001b[43mvalid_trans_obj\u001b[49m\u001b[43m)\u001b[49m\n\u001b[1;32m     37\u001b[0m \u001b[38;5;28;01mreturn\u001b[39;00m trn_data\n",
      "File \u001b[0;32m~/work/asr_protected/asr_protected/data_transformer/variables/reindex.py:78\u001b[0m, in \u001b[0;36mResampleBy.imp_transform\u001b[0;34m(self, data, trans_obj)\u001b[0m\n\u001b[1;32m     76\u001b[0m extend_dates \u001b[38;5;241m=\u001b[39mtrans_obj\u001b[38;5;241m.\u001b[39mextend_dates\n\u001b[1;32m     77\u001b[0m X, y \u001b[38;5;241m=\u001b[39m \u001b[38;5;28mself\u001b[39m\u001b[38;5;241m.\u001b[39mextract_X_y(data, trans_obj)\n\u001b[0;32m---> 78\u001b[0m ret \u001b[38;5;241m=\u001b[39m \u001b[43mResampleBy\u001b[49m\u001b[38;5;241;43m.\u001b[39;49m\u001b[43mresample_by\u001b[49m\u001b[43m(\u001b[49m\u001b[43mX\u001b[49m\u001b[43m,\u001b[49m\u001b[43m \u001b[49m\u001b[43my\u001b[49m\u001b[43m,\u001b[49m\u001b[43m \u001b[49m\u001b[43mfunc\u001b[49m\u001b[43m,\u001b[49m\u001b[43m \u001b[49m\u001b[43mfunc_kwargs\u001b[49m\u001b[43m,\u001b[49m\u001b[43m \u001b[49m\u001b[43mextend_dates\u001b[49m\u001b[43m)\u001b[49m\n\u001b[1;32m     79\u001b[0m ret\u001b[38;5;241m.\u001b[39mcolumns \u001b[38;5;241m=\u001b[39m trans_obj\u001b[38;5;241m.\u001b[39mnames\n\u001b[1;32m     80\u001b[0m \u001b[38;5;28;01mreturn\u001b[39;00m ret\n",
      "File \u001b[0;32m~/work/asr_protected/asr_protected/data_transformer/variables/reindex.py:112\u001b[0m, in \u001b[0;36mResampleBy.resample_by\u001b[0;34m(X, y, func, func_args, extend_dates)\u001b[0m\n\u001b[1;32m    110\u001b[0m target_label \u001b[38;5;241m=\u001b[39m y\u001b[38;5;241m.\u001b[39mname \u001b[38;5;241m+\u001b[39m \u001b[38;5;124m'\u001b[39m\u001b[38;5;124m_TARGET\u001b[39m\u001b[38;5;124m'\u001b[39m\n\u001b[1;32m    111\u001b[0m datetime_label \u001b[38;5;241m=\u001b[39m y\u001b[38;5;241m.\u001b[39mname \u001b[38;5;241m+\u001b[39m \u001b[38;5;124m'\u001b[39m\u001b[38;5;124m_DATETIME\u001b[39m\u001b[38;5;124m'\u001b[39m\n\u001b[0;32m--> 112\u001b[0m X \u001b[38;5;241m=\u001b[39m \u001b[43mResampleBy\u001b[49m\u001b[38;5;241;43m.\u001b[39;49m\u001b[43mlabeling_by_y\u001b[49m\u001b[43m(\u001b[49m\u001b[43mX\u001b[49m\u001b[43m,\u001b[49m\u001b[43m \u001b[49m\u001b[43my\u001b[49m\u001b[43m,\u001b[49m\u001b[43m \u001b[49m\u001b[43mtarget_label\u001b[49m\u001b[43m,\u001b[49m\u001b[43m \u001b[49m\u001b[43mdatetime_label\u001b[49m\u001b[43m)\u001b[49m\n\u001b[1;32m    114\u001b[0m \u001b[38;5;66;03m# ラベリング結果でaggregate\u001b[39;00m\n\u001b[1;32m    115\u001b[0m X_agg \u001b[38;5;241m=\u001b[39m X\u001b[38;5;241m.\u001b[39mgroupby([target_label, datetime_label])\u001b[38;5;241m.\u001b[39magg(func, \u001b[38;5;241m*\u001b[39m\u001b[38;5;241m*\u001b[39mfunc_args)\n",
      "File \u001b[0;32m~/work/asr_protected/asr_protected/data_transformer/variables/reindex.py:222\u001b[0m, in \u001b[0;36mResampleBy.labeling_by_y\u001b[0;34m(X, y, target_label, datetime_label)\u001b[0m\n\u001b[1;32m    220\u001b[0m original_row \u001b[38;5;241m=\u001b[39m X\u001b[38;5;241m.\u001b[39mcolumns[\u001b[38;5;241m0\u001b[39m] \u001b[38;5;241m+\u001b[39m \u001b[38;5;124m'\u001b[39m\u001b[38;5;124m_ORIGINAL\u001b[39m\u001b[38;5;124m'\u001b[39m\n\u001b[1;32m    221\u001b[0m X[original_row] \u001b[38;5;241m=\u001b[39m \u001b[38;5;241m1\u001b[39m\n\u001b[0;32m--> 222\u001b[0m X \u001b[38;5;241m=\u001b[39m \u001b[43mresample\u001b[49m\u001b[43m(\u001b[49m\u001b[43mX\u001b[49m\u001b[43m,\u001b[49m\u001b[43m \u001b[49m\u001b[38;5;124;43m'\u001b[39;49m\u001b[38;5;124;43mD\u001b[39;49m\u001b[38;5;124;43m'\u001b[39;49m\u001b[43m,\u001b[49m\u001b[43m \u001b[49m\u001b[38;5;124;43m'\u001b[39;49m\u001b[38;5;124;43mlast\u001b[39;49m\u001b[38;5;124;43m'\u001b[39;49m\u001b[43m)\u001b[49m\n\u001b[1;32m    224\u001b[0m \u001b[38;5;66;03m# labeling\u001b[39;00m\n\u001b[1;32m    225\u001b[0m y \u001b[38;5;241m=\u001b[39m y\u001b[38;5;241m.\u001b[39mto_frame()\n",
      "File \u001b[0;32m~/work/asr_protected/asr_protected/data_transformer/variable_libs.py:31\u001b[0m, in \u001b[0;36mresample\u001b[0;34m(data, rule, func, resample_kwargs)\u001b[0m\n\u001b[1;32m     29\u001b[0m     df \u001b[38;5;241m=\u001b[39m pd\u001b[38;5;241m.\u001b[39mconcat(ret, axis\u001b[38;5;241m=\u001b[39m\u001b[38;5;241m1\u001b[39m)\n\u001b[1;32m     30\u001b[0m \u001b[38;5;28;01melse\u001b[39;00m:\n\u001b[0;32m---> 31\u001b[0m     df \u001b[38;5;241m=\u001b[39m \u001b[43mdf\u001b[49m\u001b[38;5;241;43m.\u001b[39;49m\u001b[43mresample\u001b[49m\u001b[43m(\u001b[49m\u001b[43mrule\u001b[49m\u001b[43m,\u001b[49m\u001b[43m \u001b[49m\u001b[38;5;241;43m*\u001b[39;49m\u001b[38;5;241;43m*\u001b[39;49m\u001b[43mresample_kwargs\u001b[49m\u001b[43m)\u001b[49m\u001b[38;5;241m.\u001b[39magg(func)\n\u001b[1;32m     32\u001b[0m \u001b[38;5;28;01mreturn\u001b[39;00m df\u001b[38;5;241m.\u001b[39mstack(dropna\u001b[38;5;241m=\u001b[39m\u001b[38;5;28;01mFalse\u001b[39;00m)\u001b[38;5;241m.\u001b[39mswaplevel(\u001b[38;5;241m0\u001b[39m, \u001b[38;5;241m1\u001b[39m)\u001b[38;5;241m.\u001b[39msort_index()\n",
      "File \u001b[0;32m~/miniconda3/envs/inv/lib/python3.9/site-packages/pandas/core/series.py:5872\u001b[0m, in \u001b[0;36mSeries.resample\u001b[0;34m(self, rule, axis, closed, label, convention, kind, loffset, base, on, level, origin, offset, group_keys)\u001b[0m\n\u001b[1;32m   5855\u001b[0m \u001b[38;5;129m@doc\u001b[39m(NDFrame\u001b[38;5;241m.\u001b[39mresample, \u001b[38;5;241m*\u001b[39m\u001b[38;5;241m*\u001b[39m_shared_doc_kwargs)  \u001b[38;5;66;03m# type: ignore[has-type]\u001b[39;00m\n\u001b[1;32m   5856\u001b[0m \u001b[38;5;28;01mdef\u001b[39;00m \u001b[38;5;21mresample\u001b[39m(\n\u001b[1;32m   5857\u001b[0m     \u001b[38;5;28mself\u001b[39m,\n\u001b[0;32m   (...)\u001b[0m\n\u001b[1;32m   5870\u001b[0m     group_keys: \u001b[38;5;28mbool\u001b[39m \u001b[38;5;241m|\u001b[39m lib\u001b[38;5;241m.\u001b[39mNoDefault \u001b[38;5;241m=\u001b[39m no_default,\n\u001b[1;32m   5871\u001b[0m ) \u001b[38;5;241m-\u001b[39m\u001b[38;5;241m>\u001b[39m Resampler:\n\u001b[0;32m-> 5872\u001b[0m     \u001b[38;5;28;01mreturn\u001b[39;00m \u001b[38;5;28;43msuper\u001b[39;49m\u001b[43m(\u001b[49m\u001b[43m)\u001b[49m\u001b[38;5;241;43m.\u001b[39;49m\u001b[43mresample\u001b[49m\u001b[43m(\u001b[49m\n\u001b[1;32m   5873\u001b[0m \u001b[43m        \u001b[49m\u001b[43mrule\u001b[49m\u001b[38;5;241;43m=\u001b[39;49m\u001b[43mrule\u001b[49m\u001b[43m,\u001b[49m\n\u001b[1;32m   5874\u001b[0m \u001b[43m        \u001b[49m\u001b[43maxis\u001b[49m\u001b[38;5;241;43m=\u001b[39;49m\u001b[43maxis\u001b[49m\u001b[43m,\u001b[49m\n\u001b[1;32m   5875\u001b[0m \u001b[43m        \u001b[49m\u001b[43mclosed\u001b[49m\u001b[38;5;241;43m=\u001b[39;49m\u001b[43mclosed\u001b[49m\u001b[43m,\u001b[49m\n\u001b[1;32m   5876\u001b[0m \u001b[43m        \u001b[49m\u001b[43mlabel\u001b[49m\u001b[38;5;241;43m=\u001b[39;49m\u001b[43mlabel\u001b[49m\u001b[43m,\u001b[49m\n\u001b[1;32m   5877\u001b[0m \u001b[43m        \u001b[49m\u001b[43mconvention\u001b[49m\u001b[38;5;241;43m=\u001b[39;49m\u001b[43mconvention\u001b[49m\u001b[43m,\u001b[49m\n\u001b[1;32m   5878\u001b[0m \u001b[43m        \u001b[49m\u001b[43mkind\u001b[49m\u001b[38;5;241;43m=\u001b[39;49m\u001b[43mkind\u001b[49m\u001b[43m,\u001b[49m\n\u001b[1;32m   5879\u001b[0m \u001b[43m        \u001b[49m\u001b[43mloffset\u001b[49m\u001b[38;5;241;43m=\u001b[39;49m\u001b[43mloffset\u001b[49m\u001b[43m,\u001b[49m\n\u001b[1;32m   5880\u001b[0m \u001b[43m        \u001b[49m\u001b[43mbase\u001b[49m\u001b[38;5;241;43m=\u001b[39;49m\u001b[43mbase\u001b[49m\u001b[43m,\u001b[49m\n\u001b[1;32m   5881\u001b[0m \u001b[43m        \u001b[49m\u001b[43mon\u001b[49m\u001b[38;5;241;43m=\u001b[39;49m\u001b[43mon\u001b[49m\u001b[43m,\u001b[49m\n\u001b[1;32m   5882\u001b[0m \u001b[43m        \u001b[49m\u001b[43mlevel\u001b[49m\u001b[38;5;241;43m=\u001b[39;49m\u001b[43mlevel\u001b[49m\u001b[43m,\u001b[49m\n\u001b[1;32m   5883\u001b[0m \u001b[43m        \u001b[49m\u001b[43morigin\u001b[49m\u001b[38;5;241;43m=\u001b[39;49m\u001b[43morigin\u001b[49m\u001b[43m,\u001b[49m\n\u001b[1;32m   5884\u001b[0m \u001b[43m        \u001b[49m\u001b[43moffset\u001b[49m\u001b[38;5;241;43m=\u001b[39;49m\u001b[43moffset\u001b[49m\u001b[43m,\u001b[49m\n\u001b[1;32m   5885\u001b[0m \u001b[43m        \u001b[49m\u001b[43mgroup_keys\u001b[49m\u001b[38;5;241;43m=\u001b[39;49m\u001b[43mgroup_keys\u001b[49m\u001b[43m,\u001b[49m\n\u001b[1;32m   5886\u001b[0m \u001b[43m    \u001b[49m\u001b[43m)\u001b[49m\n",
      "File \u001b[0;32m~/miniconda3/envs/inv/lib/python3.9/site-packages/pandas/core/generic.py:8858\u001b[0m, in \u001b[0;36mNDFrame.resample\u001b[0;34m(self, rule, axis, closed, label, convention, kind, loffset, base, on, level, origin, offset, group_keys)\u001b[0m\n\u001b[1;32m   8855\u001b[0m \u001b[38;5;28;01mfrom\u001b[39;00m \u001b[38;5;21;01mpandas\u001b[39;00m\u001b[38;5;21;01m.\u001b[39;00m\u001b[38;5;21;01mcore\u001b[39;00m\u001b[38;5;21;01m.\u001b[39;00m\u001b[38;5;21;01mresample\u001b[39;00m \u001b[38;5;28;01mimport\u001b[39;00m get_resampler\n\u001b[1;32m   8857\u001b[0m axis \u001b[38;5;241m=\u001b[39m \u001b[38;5;28mself\u001b[39m\u001b[38;5;241m.\u001b[39m_get_axis_number(axis)\n\u001b[0;32m-> 8858\u001b[0m \u001b[38;5;28;01mreturn\u001b[39;00m \u001b[43mget_resampler\u001b[49m\u001b[43m(\u001b[49m\n\u001b[1;32m   8859\u001b[0m \u001b[43m    \u001b[49m\u001b[38;5;28;43mself\u001b[39;49m\u001b[43m,\u001b[49m\n\u001b[1;32m   8860\u001b[0m \u001b[43m    \u001b[49m\u001b[43mfreq\u001b[49m\u001b[38;5;241;43m=\u001b[39;49m\u001b[43mrule\u001b[49m\u001b[43m,\u001b[49m\n\u001b[1;32m   8861\u001b[0m \u001b[43m    \u001b[49m\u001b[43mlabel\u001b[49m\u001b[38;5;241;43m=\u001b[39;49m\u001b[43mlabel\u001b[49m\u001b[43m,\u001b[49m\n\u001b[1;32m   8862\u001b[0m \u001b[43m    \u001b[49m\u001b[43mclosed\u001b[49m\u001b[38;5;241;43m=\u001b[39;49m\u001b[43mclosed\u001b[49m\u001b[43m,\u001b[49m\n\u001b[1;32m   8863\u001b[0m \u001b[43m    \u001b[49m\u001b[43maxis\u001b[49m\u001b[38;5;241;43m=\u001b[39;49m\u001b[43maxis\u001b[49m\u001b[43m,\u001b[49m\n\u001b[1;32m   8864\u001b[0m \u001b[43m    \u001b[49m\u001b[43mkind\u001b[49m\u001b[38;5;241;43m=\u001b[39;49m\u001b[43mkind\u001b[49m\u001b[43m,\u001b[49m\n\u001b[1;32m   8865\u001b[0m \u001b[43m    \u001b[49m\u001b[43mloffset\u001b[49m\u001b[38;5;241;43m=\u001b[39;49m\u001b[43mloffset\u001b[49m\u001b[43m,\u001b[49m\n\u001b[1;32m   8866\u001b[0m \u001b[43m    \u001b[49m\u001b[43mconvention\u001b[49m\u001b[38;5;241;43m=\u001b[39;49m\u001b[43mconvention\u001b[49m\u001b[43m,\u001b[49m\n\u001b[1;32m   8867\u001b[0m \u001b[43m    \u001b[49m\u001b[43mbase\u001b[49m\u001b[38;5;241;43m=\u001b[39;49m\u001b[43mbase\u001b[49m\u001b[43m,\u001b[49m\n\u001b[1;32m   8868\u001b[0m \u001b[43m    \u001b[49m\u001b[43mkey\u001b[49m\u001b[38;5;241;43m=\u001b[39;49m\u001b[43mon\u001b[49m\u001b[43m,\u001b[49m\n\u001b[1;32m   8869\u001b[0m \u001b[43m    \u001b[49m\u001b[43mlevel\u001b[49m\u001b[38;5;241;43m=\u001b[39;49m\u001b[43mlevel\u001b[49m\u001b[43m,\u001b[49m\n\u001b[1;32m   8870\u001b[0m \u001b[43m    \u001b[49m\u001b[43morigin\u001b[49m\u001b[38;5;241;43m=\u001b[39;49m\u001b[43morigin\u001b[49m\u001b[43m,\u001b[49m\n\u001b[1;32m   8871\u001b[0m \u001b[43m    \u001b[49m\u001b[43moffset\u001b[49m\u001b[38;5;241;43m=\u001b[39;49m\u001b[43moffset\u001b[49m\u001b[43m,\u001b[49m\n\u001b[1;32m   8872\u001b[0m \u001b[43m    \u001b[49m\u001b[43mgroup_keys\u001b[49m\u001b[38;5;241;43m=\u001b[39;49m\u001b[43mgroup_keys\u001b[49m\u001b[43m,\u001b[49m\n\u001b[1;32m   8873\u001b[0m \u001b[43m\u001b[49m\u001b[43m)\u001b[49m\n",
      "File \u001b[0;32m~/miniconda3/envs/inv/lib/python3.9/site-packages/pandas/core/resample.py:1544\u001b[0m, in \u001b[0;36mget_resampler\u001b[0;34m(obj, kind, **kwds)\u001b[0m\n\u001b[1;32m   1540\u001b[0m \u001b[38;5;250m\u001b[39m\u001b[38;5;124;03m\"\"\"\u001b[39;00m\n\u001b[1;32m   1541\u001b[0m \u001b[38;5;124;03mCreate a TimeGrouper and return our resampler.\u001b[39;00m\n\u001b[1;32m   1542\u001b[0m \u001b[38;5;124;03m\"\"\"\u001b[39;00m\n\u001b[1;32m   1543\u001b[0m tg \u001b[38;5;241m=\u001b[39m TimeGrouper(\u001b[38;5;241m*\u001b[39m\u001b[38;5;241m*\u001b[39mkwds)\n\u001b[0;32m-> 1544\u001b[0m \u001b[38;5;28;01mreturn\u001b[39;00m \u001b[43mtg\u001b[49m\u001b[38;5;241;43m.\u001b[39;49m\u001b[43m_get_resampler\u001b[49m\u001b[43m(\u001b[49m\u001b[43mobj\u001b[49m\u001b[43m,\u001b[49m\u001b[43m \u001b[49m\u001b[43mkind\u001b[49m\u001b[38;5;241;43m=\u001b[39;49m\u001b[43mkind\u001b[49m\u001b[43m)\u001b[49m\n",
      "File \u001b[0;32m~/miniconda3/envs/inv/lib/python3.9/site-packages/pandas/core/resample.py:1709\u001b[0m, in \u001b[0;36mTimeGrouper._get_resampler\u001b[0;34m(self, obj, kind)\u001b[0m\n\u001b[1;32m   1690\u001b[0m \u001b[38;5;28;01mdef\u001b[39;00m \u001b[38;5;21m_get_resampler\u001b[39m(\u001b[38;5;28mself\u001b[39m, obj, kind\u001b[38;5;241m=\u001b[39m\u001b[38;5;28;01mNone\u001b[39;00m):\n\u001b[1;32m   1691\u001b[0m \u001b[38;5;250m    \u001b[39m\u001b[38;5;124;03m\"\"\"\u001b[39;00m\n\u001b[1;32m   1692\u001b[0m \u001b[38;5;124;03m    Return my resampler or raise if we have an invalid axis.\u001b[39;00m\n\u001b[1;32m   1693\u001b[0m \n\u001b[0;32m   (...)\u001b[0m\n\u001b[1;32m   1707\u001b[0m \n\u001b[1;32m   1708\u001b[0m \u001b[38;5;124;03m    \"\"\"\u001b[39;00m\n\u001b[0;32m-> 1709\u001b[0m     \u001b[38;5;28;43mself\u001b[39;49m\u001b[38;5;241;43m.\u001b[39;49m\u001b[43m_set_grouper\u001b[49m\u001b[43m(\u001b[49m\u001b[43mobj\u001b[49m\u001b[43m)\u001b[49m\n\u001b[1;32m   1711\u001b[0m     ax \u001b[38;5;241m=\u001b[39m \u001b[38;5;28mself\u001b[39m\u001b[38;5;241m.\u001b[39max\n\u001b[1;32m   1712\u001b[0m     \u001b[38;5;28;01mif\u001b[39;00m \u001b[38;5;28misinstance\u001b[39m(ax, DatetimeIndex):\n",
      "File \u001b[0;32m~/miniconda3/envs/inv/lib/python3.9/site-packages/pandas/core/groupby/grouper.py:406\u001b[0m, in \u001b[0;36mGrouper._set_grouper\u001b[0;34m(self, obj, sort)\u001b[0m\n\u001b[1;32m    402\u001b[0m \u001b[38;5;66;03m# possibly sort\u001b[39;00m\n\u001b[1;32m    403\u001b[0m \u001b[38;5;28;01mif\u001b[39;00m (\u001b[38;5;28mself\u001b[39m\u001b[38;5;241m.\u001b[39msort \u001b[38;5;129;01mor\u001b[39;00m sort) \u001b[38;5;129;01mand\u001b[39;00m \u001b[38;5;129;01mnot\u001b[39;00m ax\u001b[38;5;241m.\u001b[39mis_monotonic_increasing:\n\u001b[1;32m    404\u001b[0m     \u001b[38;5;66;03m# use stable sort to support first, last, nth\u001b[39;00m\n\u001b[1;32m    405\u001b[0m     \u001b[38;5;66;03m# TODO: why does putting na_position=\"first\" fix datetimelike cases?\u001b[39;00m\n\u001b[0;32m--> 406\u001b[0m     indexer \u001b[38;5;241m=\u001b[39m \u001b[38;5;28mself\u001b[39m\u001b[38;5;241m.\u001b[39mindexer \u001b[38;5;241m=\u001b[39m \u001b[43max\u001b[49m\u001b[38;5;241;43m.\u001b[39;49m\u001b[43marray\u001b[49m\u001b[38;5;241m.\u001b[39margsort(\n\u001b[1;32m    407\u001b[0m         kind\u001b[38;5;241m=\u001b[39m\u001b[38;5;124m\"\u001b[39m\u001b[38;5;124mmergesort\u001b[39m\u001b[38;5;124m\"\u001b[39m, na_position\u001b[38;5;241m=\u001b[39m\u001b[38;5;124m\"\u001b[39m\u001b[38;5;124mfirst\u001b[39m\u001b[38;5;124m\"\u001b[39m\n\u001b[1;32m    408\u001b[0m     )\n\u001b[1;32m    409\u001b[0m     ax \u001b[38;5;241m=\u001b[39m ax\u001b[38;5;241m.\u001b[39mtake(indexer)\n\u001b[1;32m    410\u001b[0m     obj \u001b[38;5;241m=\u001b[39m obj\u001b[38;5;241m.\u001b[39mtake(indexer, axis\u001b[38;5;241m=\u001b[39m\u001b[38;5;28mself\u001b[39m\u001b[38;5;241m.\u001b[39maxis)\n",
      "File \u001b[0;32m~/miniconda3/envs/inv/lib/python3.9/site-packages/pandas/core/indexes/multi.py:762\u001b[0m, in \u001b[0;36mMultiIndex.array\u001b[0;34m(self)\u001b[0m\n\u001b[1;32m    752\u001b[0m \u001b[38;5;129m@property\u001b[39m\n\u001b[1;32m    753\u001b[0m \u001b[38;5;28;01mdef\u001b[39;00m \u001b[38;5;21marray\u001b[39m(\u001b[38;5;28mself\u001b[39m):\n\u001b[1;32m    754\u001b[0m \u001b[38;5;250m    \u001b[39m\u001b[38;5;124;03m\"\"\"\u001b[39;00m\n\u001b[1;32m    755\u001b[0m \u001b[38;5;124;03m    Raises a ValueError for `MultiIndex` because there's no single\u001b[39;00m\n\u001b[1;32m    756\u001b[0m \u001b[38;5;124;03m    array backing a MultiIndex.\u001b[39;00m\n\u001b[0;32m   (...)\u001b[0m\n\u001b[1;32m    760\u001b[0m \u001b[38;5;124;03m    ValueError\u001b[39;00m\n\u001b[1;32m    761\u001b[0m \u001b[38;5;124;03m    \"\"\"\u001b[39;00m\n\u001b[0;32m--> 762\u001b[0m     \u001b[38;5;28;01mraise\u001b[39;00m \u001b[38;5;167;01mValueError\u001b[39;00m(\n\u001b[1;32m    763\u001b[0m         \u001b[38;5;124m\"\u001b[39m\u001b[38;5;124mMultiIndex has no single backing array. Use \u001b[39m\u001b[38;5;124m\"\u001b[39m\n\u001b[1;32m    764\u001b[0m         \u001b[38;5;124m\"\u001b[39m\u001b[38;5;124m'\u001b[39m\u001b[38;5;124mMultiIndex.to_numpy()\u001b[39m\u001b[38;5;124m'\u001b[39m\u001b[38;5;124m to get a NumPy array of tuples.\u001b[39m\u001b[38;5;124m\"\u001b[39m\n\u001b[1;32m    765\u001b[0m     )\n",
      "\u001b[0;31mValueError\u001b[0m: MultiIndex has no single backing array. Use 'MultiIndex.to_numpy()' to get a NumPy array of tuples."
     ]
    }
   ],
   "source": [
    "if not USE_MY_FUNDA:\n",
    "\n",
    "    # Convert the POS data to YoY as well for comparison with the financial data.\n",
    "    pos_Q_yoy_ids = sdh.transform.log_diff(periods=4, fields=pos_Q_ids).variable_ids\n",
    "\n",
    "    # Plot the data to visually inspect its shape.\n",
    "    sdh.show_scatter_one_target(\n",
    "        target=sample_target,\n",
    "        y=funda_kpi_id,\n",
    "        X=pos_Q_yoy_ids,\n",
    "        col_num=2,\n",
    "        vname_len_limit=35\n",
    "    )\n",
    "\n",
    "    # Define the variables.\n",
    "    shft1_Q_ids = sdh.transform.shift(data_id=data_id_alt, periods=1).resample_by(label=funda_kpi_id, func='last').variable_ids\n",
    "    shft2_Q_ids = sdh.transform.shift(data_id=data_id_alt, periods=2).resample_by(label=funda_kpi_id, func='last').variable_ids\n",
    "    shft3_Q_ids = sdh.transform.shift(data_id=data_id_alt, periods=3).resample_by(label=funda_kpi_id, func='last').variable_ids\n",
    "    shft4_Q_ids = sdh.transform.shift(data_id=data_id_alt, periods=4).resample_by(label=funda_kpi_id, func='last').variable_ids\n",
    "    shft5_Q_ids = sdh.transform.shift(data_id=data_id_alt, periods=5).resample_by(label=funda_kpi_id, func='last').variable_ids\n",
    "    shft6_Q_ids = sdh.transform.shift(data_id=data_id_alt, periods=6).resample_by(label=funda_kpi_id, func='last').variable_ids\n",
    "    shft7_Q_ids = sdh.transform.shift(data_id=data_id_alt, periods=7).resample_by(label=funda_kpi_id, func='last').variable_ids\n",
    "    shft8_Q_ids = sdh.transform.shift(data_id=data_id_alt, periods=8).resample_by(label=funda_kpi_id, func='last').variable_ids\n",
    "    shft9_Q_ids = sdh.transform.shift(data_id=data_id_alt, periods=9).resample_by(label=funda_kpi_id, func='last').variable_ids\n",
    "    shft10_Q_ids = sdh.transform.shift(data_id=data_id_alt, periods=10).resample_by(label=funda_kpi_id, func='last').variable_ids\n",
    "    shft11_Q_ids = sdh.transform.shift(data_id=data_id_alt, periods=11).resample_by(label=funda_kpi_id, func='last').variable_ids\n",
    "    shft12_Q_ids = sdh.transform.shift(data_id=data_id_alt, periods=12).resample_by(label=funda_kpi_id, func='last').variable_ids\n",
    "    shft13_Q_ids = sdh.transform.shift(data_id=data_id_alt, periods=13).resample_by(label=funda_kpi_id, func='last').variable_ids\n",
    "    shft14_Q_ids = sdh.transform.shift(data_id=data_id_alt, periods=14).resample_by(label=funda_kpi_id, func='last').variable_ids\n",
    "    shft15_Q_ids = sdh.transform.shift(data_id=data_id_alt, periods=15).resample_by(label=funda_kpi_id, func='last').variable_ids\n",
    "    shft16_Q_ids = sdh.transform.shift(data_id=data_id_alt, periods=16).resample_by(label=funda_kpi_id, func='last').variable_ids\n",
    "    \n",
    "    # To address cases where trends might cause apparent correlations, create a variable with an additional lagged difference.\n",
    "    funda_kpi_log_id = sdh.transform.diff(fields=funda_kpi_id, periods=1).variable_ids[-1]"
   ]
  },
  {
   "cell_type": "code",
   "execution_count": null,
   "metadata": {
    "execution": {
     "iopub.status.busy": "2024-09-20T02:20:06.469197Z",
     "iopub.status.idle": "2024-09-20T02:20:06.469606Z",
     "shell.execute_reply": "2024-09-20T02:20:06.469430Z",
     "shell.execute_reply.started": "2024-09-20T02:20:06.469412Z"
    }
   },
   "outputs": [],
   "source": [
    "# Calculate the year-over-year (YoY) changes and create a variable with an additional lagged difference to account for cases where trends might cause apparent correlations.\n",
    "shft0_Q_log_ids = sdh.transform.log_diff(fields=pos_Q_ids, periods=4).diff(periods=1).variable_ids\n",
    "shft1_Q_log_ids = sdh.transform.log_diff(fields=shft1_Q_ids, periods=4).diff(periods=1).variable_ids\n",
    "shft2_Q_log_ids = sdh.transform.log_diff(fields=shft2_Q_ids, periods=4).diff(periods=1).variable_ids\n",
    "shft3_Q_log_ids = sdh.transform.log_diff(fields=shft3_Q_ids, periods=4).diff(periods=1).variable_ids\n",
    "shft4_Q_log_ids = sdh.transform.log_diff(fields=shft4_Q_ids, periods=4).diff(periods=1).variable_ids\n",
    "shft5_Q_log_ids = sdh.transform.log_diff(fields=shft5_Q_ids, periods=4).diff(periods=1).variable_ids\n",
    "shft6_Q_log_ids = sdh.transform.log_diff(fields=shft6_Q_ids, periods=4).diff(periods=1).variable_ids\n",
    "shft7_Q_log_ids = sdh.transform.log_diff(fields=shft7_Q_ids, periods=4).diff(periods=1).variable_ids\n",
    "shft8_Q_log_ids = sdh.transform.log_diff(fields=shft8_Q_ids, periods=4).diff(periods=1).variable_ids\n",
    "shft9_Q_log_ids = sdh.transform.log_diff(fields=shft9_Q_ids, periods=4).diff(periods=1).variable_ids\n",
    "shft10_Q_log_ids = sdh.transform.log_diff(fields=shft10_Q_ids, periods=4).diff(periods=1).variable_ids\n",
    "shft11_Q_log_ids = sdh.transform.log_diff(fields=shft11_Q_ids, periods=4).diff(periods=1).variable_ids\n",
    "shft12_Q_log_ids = sdh.transform.log_diff(fields=shft12_Q_ids, periods=4).diff(periods=1).variable_ids\n",
    "shft13_Q_log_ids = sdh.transform.log_diff(fields=shft13_Q_ids, periods=4).diff(periods=1).variable_ids\n",
    "shft14_Q_log_ids = sdh.transform.log_diff(fields=shft14_Q_ids, periods=4).diff(periods=1).variable_ids\n",
    "shft15_Q_log_ids = sdh.transform.log_diff(fields=shft15_Q_ids, periods=4).diff(periods=1).variable_ids\n",
    "shft16_Q_log_ids = sdh.transform.log_diff(fields=shft16_Q_ids, periods=4).diff(periods=1).variable_ids"
   ]
  },
  {
   "cell_type": "markdown",
   "metadata": {},
   "source": [
    "#### Correlation Calculation"
   ]
  },
  {
   "cell_type": "code",
   "execution_count": null,
   "metadata": {
    "execution": {
     "iopub.status.busy": "2024-09-20T02:20:06.471111Z",
     "iopub.status.idle": "2024-09-20T02:20:06.471487Z",
     "shell.execute_reply": "2024-09-20T02:20:06.471322Z",
     "shell.execute_reply.started": "2024-09-20T02:20:06.471305Z"
    }
   },
   "outputs": [],
   "source": [
    "ori_cols = sdh.get_raw_data(data_id_alt).columns\n",
    "ori_cols"
   ]
  },
  {
   "cell_type": "code",
   "execution_count": null,
   "metadata": {
    "execution": {
     "iopub.status.busy": "2024-09-20T02:20:06.473310Z",
     "iopub.status.idle": "2024-09-20T02:20:06.473708Z",
     "shell.execute_reply": "2024-09-20T02:20:06.473545Z",
     "shell.execute_reply.started": "2024-09-20T02:20:06.473528Z"
    }
   },
   "outputs": [],
   "source": [
    "rho_pool = pd.DataFrame()\n",
    "rho_pool['shift=0'] = ade.compu_rho(shft0_Q_log_ids, funda_kpi_log_id, rename_features=ori_cols)\n",
    "rho_pool['shift=1'] = ade.compu_rho(shft1_Q_log_ids, funda_kpi_log_id, rename_features=ori_cols)\n",
    "rho_pool['shift=2'] = ade.compu_rho(shft2_Q_log_ids, funda_kpi_log_id, rename_features=ori_cols)\n",
    "rho_pool['shift=3'] = ade.compu_rho(shft3_Q_log_ids, funda_kpi_log_id, rename_features=ori_cols)\n",
    "rho_pool['shift=4'] = ade.compu_rho(shft4_Q_log_ids, funda_kpi_log_id, rename_features=ori_cols)\n",
    "rho_pool['shift=5'] = ade.compu_rho(shft5_Q_log_ids, funda_kpi_log_id, rename_features=ori_cols)\n",
    "rho_pool['shift=6'] = ade.compu_rho(shft6_Q_log_ids, funda_kpi_log_id, rename_features=ori_cols)\n",
    "rho_pool['shift=7'] = ade.compu_rho(shft7_Q_log_ids, funda_kpi_log_id, rename_features=ori_cols)\n",
    "rho_pool['shift=8'] = ade.compu_rho(shft8_Q_log_ids, funda_kpi_log_id, rename_features=ori_cols)\n",
    "rho_pool['shift=9'] = ade.compu_rho(shft9_Q_log_ids, funda_kpi_log_id, rename_features=ori_cols)\n",
    "rho_pool['shift=10'] = ade.compu_rho(shft10_Q_log_ids, funda_kpi_log_id, rename_features=ori_cols)\n",
    "rho_pool['shift=11'] = ade.compu_rho(shft11_Q_log_ids, funda_kpi_log_id, rename_features=ori_cols)\n",
    "rho_pool['shift=12'] = ade.compu_rho(shft12_Q_log_ids, funda_kpi_log_id, rename_features=ori_cols)\n",
    "rho_pool['shift=13'] = ade.compu_rho(shft13_Q_log_ids, funda_kpi_log_id, rename_features=ori_cols)\n",
    "rho_pool['shift=14'] = ade.compu_rho(shft14_Q_log_ids, funda_kpi_log_id, rename_features=ori_cols)\n",
    "rho_pool['shift=15'] = ade.compu_rho(shft15_Q_log_ids, funda_kpi_log_id, rename_features=ori_cols)\n",
    "rho_pool['shift=16'] = ade.compu_rho(shft16_Q_log_ids, funda_kpi_log_id, rename_features=ori_cols)\n",
    "\n",
    "display(rho_pool.xs('t-val', level=1).sort_values(rho_pool.columns[0], ascending=False))"
   ]
  },
  {
   "cell_type": "code",
   "execution_count": null,
   "metadata": {
    "execution": {
     "iopub.status.busy": "2024-09-20T02:20:06.475574Z",
     "iopub.status.idle": "2024-09-20T02:20:06.475943Z",
     "shell.execute_reply": "2024-09-20T02:20:06.475781Z",
     "shell.execute_reply.started": "2024-09-20T02:20:06.475765Z"
    }
   },
   "outputs": [],
   "source": [
    "display(rho_pool.xs('rho', level=1).sort_values(rho_pool.columns[0], ascending=False))"
   ]
  },
  {
   "cell_type": "markdown",
   "metadata": {},
   "source": [
    "> Review the top N tickers among those with the highest correlation values."
   ]
  },
  {
   "cell_type": "code",
   "execution_count": null,
   "metadata": {
    "execution": {
     "iopub.status.busy": "2024-09-20T02:20:06.477184Z",
     "iopub.status.idle": "2024-09-20T02:20:06.477573Z",
     "shell.execute_reply": "2024-09-20T02:20:06.477403Z",
     "shell.execute_reply.started": "2024-09-20T02:20:06.477386Z"
    }
   },
   "outputs": [],
   "source": [
    "rho_time = ade.compu_rho(shft1_Q_log_ids, funda_kpi_log_id, by='ticker', rename_features=ori_cols)\n",
    "rho_time.T.xs('t-val', level=1).sort_values('pos_sales', ascending=False).head()"
   ]
  },
  {
   "cell_type": "markdown",
   "metadata": {},
   "source": [
    "> Review the variables and plot them in a scatter plot."
   ]
  },
  {
   "cell_type": "code",
   "execution_count": null,
   "metadata": {
    "execution": {
     "iopub.status.busy": "2024-09-20T02:20:06.479019Z",
     "iopub.status.idle": "2024-09-20T02:20:06.479376Z",
     "shell.execute_reply": "2024-09-20T02:20:06.479217Z",
     "shell.execute_reply.started": "2024-09-20T02:20:06.479201Z"
    }
   },
   "outputs": [],
   "source": [
    "display(sdh.transform.find_variables(shft1_Q_log_ids))\n",
    "\n",
    "feature = 76 # pos_sales"
   ]
  },
  {
   "cell_type": "code",
   "execution_count": null,
   "metadata": {
    "execution": {
     "iopub.status.busy": "2024-09-20T02:20:06.480954Z",
     "iopub.status.idle": "2024-09-20T02:20:06.481329Z",
     "shell.execute_reply": "2024-09-20T02:20:06.481158Z",
     "shell.execute_reply.started": "2024-09-20T02:20:06.481142Z"
    }
   },
   "outputs": [],
   "source": [
    "top6tickers = rho_time.T.xs('t-val', level=1).sort_values('pos_sales', ascending=False).index[:6]\n",
    "\n",
    "sdh.show_scatter_per_target(\n",
    "    y=funda_kpi_log_id,\n",
    "    x=feature,\n",
    "    targets=top6tickers,\n",
    "    col_num=3,\n",
    "    vname_len_limit=45,\n",
    "    start_date='2016-01-01'\n",
    ")"
   ]
  },
  {
   "cell_type": "markdown",
   "metadata": {},
   "source": [
    "### Step 3.2: Correlation with Stock Price Changes\n",
    "- Having confirmed a strong correlation between financial data and POS Retailer data, the next step is to examine the correlation with stock price changes.\n",
    "\n",
    "> Resample to monthly data."
   ]
  },
  {
   "cell_type": "code",
   "execution_count": null,
   "metadata": {
    "execution": {
     "iopub.status.busy": "2024-09-20T02:20:06.482924Z",
     "iopub.status.idle": "2024-09-20T02:20:06.483287Z",
     "shell.execute_reply": "2024-09-20T02:20:06.483127Z",
     "shell.execute_reply.started": "2024-09-20T02:20:06.483111Z"
    }
   },
   "outputs": [],
   "source": [
    "resample_term = 'M'\n",
    "n_rolling = 2  # 2 months rolling mean\n",
    "\n",
    "pos_sales_and_share = sdh.transform.resample(data_id=data_id_alt, rule=resample_term, func='last', names=[\"pos_sales\", \"share\"]).variable_ids\n",
    "pos_sales_vs_share = sdh.transform.mul(x1field=pos_sales_and_share[0], x2field=pos_sales_and_share[1], name='pos_sales * share').variable_ids[0]\n",
    "alt_M_ids = sdh.transform.sma(n_rolling, fields=pos_sales_and_share+[pos_sales_vs_share]).variable_ids # pos_sales, share, pos_sales * share\n",
    "\n",
    "if USE_MY_MKT:\n",
    "    mkt_M_close_id = sdh.transform.resample('D', 'last', data_id=data_id_mkt, fields='close').fillna(method='ffill').shift(-7).reindex(label=alt_M_ids[0]).variable_ids[-1]\n",
    "else:\n",
    "    mkt_M_close_id = sdh.transform.resample('D', 'last', data_id=data_id_mkt, fields='returns').fillna(0).cumsum().shift(-7).reindex(label=alt_M_ids[0]).variable_ids[-1]"
   ]
  },
  {
   "cell_type": "code",
   "execution_count": null,
   "metadata": {
    "execution": {
     "iopub.status.busy": "2024-09-20T02:20:06.485006Z",
     "iopub.status.idle": "2024-09-20T02:20:06.485405Z",
     "shell.execute_reply": "2024-09-20T02:20:06.485210Z",
     "shell.execute_reply.started": "2024-09-20T02:20:06.485194Z"
    }
   },
   "outputs": [],
   "source": [
    "alt_names = [\"pos_sales\", \"share\", \"pos_sales * share\"]"
   ]
  },
  {
   "cell_type": "markdown",
   "metadata": {},
   "source": [
    "> Visualize the price data and POS data."
   ]
  },
  {
   "cell_type": "code",
   "execution_count": null,
   "metadata": {
    "execution": {
     "iopub.status.busy": "2024-09-20T02:20:06.486734Z",
     "iopub.status.idle": "2024-09-20T02:20:06.487116Z",
     "shell.execute_reply": "2024-09-20T02:20:06.486954Z",
     "shell.execute_reply.started": "2024-09-20T02:20:06.486937Z"
    }
   },
   "outputs": [],
   "source": [
    "sdh.show_line_one_target(\n",
    "    target=sample_target,\n",
    "    y=mkt_M_close_id,\n",
    "    X= alt_M_ids[:4],\n",
    "    col_num=2,\n",
    "    vname_len_limit=40,\n",
    ")"
   ]
  },
  {
   "cell_type": "markdown",
   "metadata": {
    "execution": {
     "iopub.execute_input": "2024-09-05T02:36:19.428237Z",
     "iopub.status.busy": "2024-09-05T02:36:19.427638Z",
     "iopub.status.idle": "2024-09-05T02:36:19.483150Z",
     "shell.execute_reply": "2024-09-05T02:36:19.482047Z",
     "shell.execute_reply.started": "2024-09-05T02:36:19.428206Z"
    }
   },
   "source": [
    "> Observe how the plot of sales data changes by shifting the time series of the data."
   ]
  },
  {
   "cell_type": "code",
   "execution_count": null,
   "metadata": {
    "execution": {
     "iopub.status.busy": "2024-09-20T02:20:06.488176Z",
     "iopub.status.idle": "2024-09-20T02:20:06.488527Z",
     "shell.execute_reply": "2024-09-20T02:20:06.488370Z",
     "shell.execute_reply.started": "2024-09-20T02:20:06.488353Z"
    }
   },
   "outputs": [],
   "source": [
    "shift1_M_ids = sdh.transform.shift(fields=alt_M_ids, periods=1).variable_ids\n",
    "shift2_M_ids = sdh.transform.shift(fields=alt_M_ids, periods=2).variable_ids\n",
    "shift3_M_ids = sdh.transform.shift(fields=alt_M_ids, periods=3).variable_ids\n",
    "shift4_M_ids = sdh.transform.shift(fields=alt_M_ids, periods=4).variable_ids\n",
    "shift5_M_ids = sdh.transform.shift(fields=alt_M_ids, periods=5).variable_ids\n",
    "shift6_M_ids = sdh.transform.shift(fields=alt_M_ids, periods=6).variable_ids\n",
    "shift7_M_ids = sdh.transform.shift(fields=alt_M_ids, periods=7).variable_ids\n",
    "shift8_M_ids = sdh.transform.shift(fields=alt_M_ids, periods=8).variable_ids"
   ]
  },
  {
   "cell_type": "code",
   "execution_count": null,
   "metadata": {
    "execution": {
     "iopub.status.busy": "2024-09-20T02:20:06.489729Z",
     "iopub.status.idle": "2024-09-20T02:20:06.490076Z",
     "shell.execute_reply": "2024-09-20T02:20:06.489920Z",
     "shell.execute_reply.started": "2024-09-20T02:20:06.489904Z"
    }
   },
   "outputs": [],
   "source": [
    "sdh.show_line_one_target(\n",
    "    target=sample_target,\n",
    "    y=mkt_M_close_id,\n",
    "    X= [shift1_M_ids[0], shift3_M_ids[0], shift6_M_ids[0], shift8_M_ids[0]],\n",
    "    col_num=2,\n",
    "    vname_len_limit=45,\n",
    ")"
   ]
  },
  {
   "cell_type": "markdown",
   "metadata": {},
   "source": [
    "> Make `return`"
   ]
  },
  {
   "cell_type": "code",
   "execution_count": null,
   "metadata": {
    "execution": {
     "iopub.status.busy": "2024-09-20T02:20:06.491075Z",
     "iopub.status.idle": "2024-09-20T02:20:06.491426Z",
     "shell.execute_reply": "2024-09-20T02:20:06.491270Z",
     "shell.execute_reply.started": "2024-09-20T02:20:06.491253Z"
    }
   },
   "outputs": [],
   "source": [
    "if USE_MY_MKT:\n",
    "    close_return = sdh.transform.dropna(fields=mkt_M_close_id).log_diff(1).variable_ids[-1]\n",
    "else:\n",
    "    close_return = sdh.transform.dropna(fields=mkt_M_close_id).diff(1).variable_ids[-1]"
   ]
  },
  {
   "cell_type": "markdown",
   "metadata": {},
   "source": [
    "> Perform correlation calculations by applying a logarithmic transformation to the features."
   ]
  },
  {
   "cell_type": "code",
   "execution_count": null,
   "metadata": {
    "execution": {
     "iopub.status.busy": "2024-09-20T02:20:06.492779Z",
     "iopub.status.idle": "2024-09-20T02:20:06.493131Z",
     "shell.execute_reply": "2024-09-20T02:20:06.492975Z",
     "shell.execute_reply.started": "2024-09-20T02:20:06.492959Z"
    }
   },
   "outputs": [],
   "source": [
    "\n",
    "n_diff = 12  # 12 months (1 year) difference\n",
    "log_shift0_M_ids = sdh.transform.log_diff(fields=alt_M_ids, periods=n_diff).variable_ids\n",
    "log_shift1_M_ids = sdh.transform.log_diff(fields=alt_M_ids, periods=n_diff).shift(periods=1).variable_ids\n",
    "log_shift2_M_ids = sdh.transform.log_diff(fields=alt_M_ids, periods=n_diff).shift(periods=2).variable_ids\n",
    "log_shift3_M_ids = sdh.transform.log_diff(fields=alt_M_ids, periods=n_diff).shift(periods=3).variable_ids\n",
    "log_shift4_M_ids = sdh.transform.log_diff(fields=alt_M_ids, periods=n_diff).shift(periods=4).variable_ids\n",
    "log_shift5_M_ids = sdh.transform.log_diff(fields=alt_M_ids, periods=n_diff).shift(periods=5).variable_ids\n",
    "log_shift6_M_ids = sdh.transform.log_diff(fields=alt_M_ids, periods=n_diff).shift(periods=6).variable_ids\n",
    "log_shift7_M_ids = sdh.transform.log_diff(fields=alt_M_ids, periods=n_diff).shift(periods=7).variable_ids\n",
    "log_shift8_M_ids = sdh.transform.log_diff(fields=alt_M_ids, periods=n_diff).shift(periods=8).variable_ids"
   ]
  },
  {
   "cell_type": "code",
   "execution_count": null,
   "metadata": {
    "execution": {
     "iopub.status.busy": "2024-09-20T02:20:06.495006Z",
     "iopub.status.idle": "2024-09-20T02:20:06.495374Z",
     "shell.execute_reply": "2024-09-20T02:20:06.495215Z",
     "shell.execute_reply.started": "2024-09-20T02:20:06.495198Z"
    }
   },
   "outputs": [],
   "source": [
    "rho_pool = pd.DataFrame()\n",
    "rho_pool['shift=0'] = ade.compu_rho(log_shift0_M_ids, close_return, rename_features=alt_names)\n",
    "rho_pool['shift=1'] = ade.compu_rho(log_shift1_M_ids, close_return, rename_features=alt_names)\n",
    "rho_pool['shift=2'] = ade.compu_rho(log_shift2_M_ids, close_return, rename_features=alt_names)\n",
    "rho_pool['shift=3'] = ade.compu_rho(log_shift3_M_ids, close_return, rename_features=alt_names)\n",
    "rho_pool['shift=4'] = ade.compu_rho(log_shift4_M_ids, close_return, rename_features=alt_names)\n",
    "rho_pool['shift=5'] = ade.compu_rho(log_shift5_M_ids, close_return, rename_features=alt_names)\n",
    "rho_pool['shift=6'] = ade.compu_rho(log_shift6_M_ids, close_return, rename_features=alt_names)\n",
    "rho_pool['shift=7'] = ade.compu_rho(log_shift7_M_ids, close_return, rename_features=alt_names)\n",
    "rho_pool['shift=8'] = ade.compu_rho(log_shift8_M_ids, close_return, rename_features=alt_names)\n",
    "\n",
    "display(rho_pool.xs('t-val', level=1).sort_values(rho_pool.columns[0], ascending=False))"
   ]
  },
  {
   "cell_type": "markdown",
   "metadata": {},
   "source": [
    "> Review the top N tickers among those with the highest correlation values."
   ]
  },
  {
   "cell_type": "code",
   "execution_count": null,
   "metadata": {
    "execution": {
     "iopub.status.busy": "2024-09-20T02:20:06.496252Z",
     "iopub.status.idle": "2024-09-20T02:20:06.496602Z",
     "shell.execute_reply": "2024-09-20T02:20:06.496445Z",
     "shell.execute_reply.started": "2024-09-20T02:20:06.496429Z"
    }
   },
   "outputs": [],
   "source": [
    "rho_time = ade.compu_rho(log_shift1_M_ids, close_return, by='ticker', rename_features=alt_names)\n",
    "rho_time.T.xs('t-val', level=1).sort_values('pos_sales', ascending=False).head()"
   ]
  },
  {
   "cell_type": "markdown",
   "metadata": {},
   "source": [
    "> Review the variables and plot them in a scatter plot."
   ]
  },
  {
   "cell_type": "code",
   "execution_count": null,
   "metadata": {
    "execution": {
     "iopub.status.busy": "2024-09-20T02:20:06.498447Z",
     "iopub.status.idle": "2024-09-20T02:20:06.498837Z",
     "shell.execute_reply": "2024-09-20T02:20:06.498654Z",
     "shell.execute_reply.started": "2024-09-20T02:20:06.498638Z"
    }
   },
   "outputs": [],
   "source": [
    "display(sdh.transform.find_variables(log_shift1_M_ids))\n",
    "\n",
    "feature = log_shift1_M_ids[0] # pos_sales\n",
    "feature"
   ]
  },
  {
   "cell_type": "code",
   "execution_count": null,
   "metadata": {
    "execution": {
     "iopub.status.busy": "2024-09-20T02:20:06.500547Z",
     "iopub.status.idle": "2024-09-20T02:20:06.500936Z",
     "shell.execute_reply": "2024-09-20T02:20:06.500772Z",
     "shell.execute_reply.started": "2024-09-20T02:20:06.500755Z"
    }
   },
   "outputs": [],
   "source": [
    "top6tickers = rho_time.T.xs('t-val', level=1).sort_values('pos_sales', ascending=False).index[:6]\n",
    "\n",
    "sdh.show_scatter_per_target(\n",
    "    y=close_return,\n",
    "    x=feature,\n",
    "    targets=top6tickers,\n",
    "    col_num=3,\n",
    "    vname_len_limit=45\n",
    ")"
   ]
  },
  {
   "cell_type": "markdown",
   "metadata": {
    "execution": {
     "iopub.execute_input": "2024-07-16T04:27:53.633252Z",
     "iopub.status.busy": "2024-07-16T04:27:53.632417Z"
    }
   },
   "source": [
    "## Step 4: Quantile Backtest\n",
    "- Based on the variables created in Step 3, various factors will be generated and calculations will be performed.\n",
    "- Here, the 12-week moving average of the `pos_sales` variable is chosen as the factor value.\n",
    "- In practice, you should vary hyperparameters such as the moving average period and shift intervals to ensure that the backtest results are not significantly affected."
   ]
  },
  {
   "cell_type": "code",
   "execution_count": null,
   "metadata": {
    "execution": {
     "iopub.status.busy": "2024-09-20T02:20:06.502366Z",
     "iopub.status.idle": "2024-09-20T02:20:06.502730Z",
     "shell.execute_reply": "2024-09-20T02:20:06.502570Z",
     "shell.execute_reply.started": "2024-09-20T02:20:06.502554Z"
    }
   },
   "outputs": [],
   "source": [
    "# define the parameters for factor choice.\n",
    "nq = 3\n",
    "exe_cost = 0.0005"
   ]
  },
  {
   "cell_type": "code",
   "execution_count": null,
   "metadata": {
    "execution": {
     "iopub.status.busy": "2024-09-20T02:20:06.504362Z",
     "iopub.status.idle": "2024-09-20T02:20:06.504740Z",
     "shell.execute_reply": "2024-09-20T02:20:06.504578Z",
     "shell.execute_reply.started": "2024-09-20T02:20:06.504562Z"
    }
   },
   "outputs": [],
   "source": [
    "dfqret, stats, dfsigqt = ade.q_backtest(\n",
    "    feature,\n",
    "    close_return,\n",
    "    nq=nq,\n",
    "    exe_cost=exe_cost,\n",
    "    plot=True,\n",
    "    stats=True\n",
    ")"
   ]
  },
  {
   "cell_type": "code",
   "execution_count": null,
   "metadata": {},
   "outputs": [],
   "source": []
  },
  {
   "cell_type": "code",
   "execution_count": null,
   "metadata": {},
   "outputs": [],
   "source": []
  },
  {
   "cell_type": "code",
   "execution_count": null,
   "metadata": {},
   "outputs": [],
   "source": []
  },
  {
   "cell_type": "code",
   "execution_count": null,
   "metadata": {},
   "outputs": [],
   "source": []
  },
  {
   "cell_type": "code",
   "execution_count": null,
   "metadata": {},
   "outputs": [],
   "source": []
  }
 ],
 "metadata": {
  "kernelspec": {
   "display_name": "inv",
   "language": "python",
   "name": "inv"
  },
  "language_info": {
   "codemirror_mode": {
    "name": "ipython",
    "version": 3
   },
   "file_extension": ".py",
   "mimetype": "text/x-python",
   "name": "python",
   "nbconvert_exporter": "python",
   "pygments_lexer": "ipython3",
   "version": "3.9.19"
  },
  "toc": {
   "base_numbering": 1,
   "nav_menu": {},
   "number_sections": true,
   "sideBar": true,
   "skip_h1_title": false,
   "title_cell": "Table of Contents",
   "title_sidebar": "Contents",
   "toc_cell": false,
   "toc_position": {},
   "toc_section_display": true,
   "toc_window_display": true
  },
  "toc-showmarkdowntxt": false
 },
 "nbformat": 4,
 "nbformat_minor": 4
}
