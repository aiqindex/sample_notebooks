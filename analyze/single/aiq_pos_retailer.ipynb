{
 "cells": [
  {
   "attachments": {
    "a6288316-80f1-4a62-a0bb-c8eee5428719.png": {
     "image/png": "[encoded data removed]"
    }
   },
   "cell_type": "markdown",
   "metadata": {
    "tags": []
   },
   "source": [
    "![image.png](attachment:a6288316-80f1-4a62-a0bb-c8eee5428719.png)\n",
    "\n",
    "[disclaimer](../../disclaimer.txt/)"
   ]
  },
  {
   "cell_type": "markdown",
   "metadata": {},
   "source": [
    "# aiQ POS Retailer Data Evaluation"
   ]
  },
  {
   "cell_type": "markdown",
   "metadata": {
    "execution": {
     "iopub.execute_input": "2024-07-16T02:44:13.281928Z",
     "iopub.status.busy": "2024-07-16T02:44:13.280822Z"
    }
   },
   "source": [
    "- aiQ POS Retailer is data that consolidates the sales of products sold in retail stores such as supermarkets, drugstores, and convenience stores, organized by TICKER."
   ]
  },
  {
   "cell_type": "code",
   "execution_count": 33,
   "metadata": {
    "execution": {
     "iopub.execute_input": "2024-09-25T07:10:58.155960Z",
     "iopub.status.busy": "2024-09-25T07:10:58.155387Z",
     "iopub.status.idle": "2024-09-25T07:11:16.163677Z",
     "shell.execute_reply": "2024-09-25T07:11:16.162723Z",
     "shell.execute_reply.started": "2024-09-25T07:10:58.155928Z"
    }
   },
   "outputs": [
    {
     "name": "stderr",
     "output_type": "stream",
     "text": [
      "[autoreload of asr_protected.data_transformer.variables.objs failed: Traceback (most recent call last):\n",
      "  File \"/home/schiba/miniconda3/envs/inv/lib/python3.9/site-packages/IPython/extensions/autoreload.py\", line 257, in check\n",
      "    superreload(m, reload, self.old_objects)\n",
      "  File \"/home/schiba/miniconda3/envs/inv/lib/python3.9/site-packages/IPython/extensions/autoreload.py\", line 480, in superreload\n",
      "    update_generic(old_obj, new_obj)\n",
      "  File \"/home/schiba/miniconda3/envs/inv/lib/python3.9/site-packages/IPython/extensions/autoreload.py\", line 377, in update_generic\n",
      "    update(a, b)\n",
      "  File \"/home/schiba/miniconda3/envs/inv/lib/python3.9/site-packages/IPython/extensions/autoreload.py\", line 345, in update_class\n",
      "    update_instances(old, new)\n",
      "  File \"/home/schiba/miniconda3/envs/inv/lib/python3.9/site-packages/IPython/extensions/autoreload.py\", line 303, in update_instances\n",
      "    ref.__class__ = new\n",
      "  File \"pydantic/main.py\", line 357, in pydantic.main.BaseModel.__setattr__\n",
      "ValueError: \"RawObj\" object has no field \"__class__\"\n",
      "]\n",
      "[autoreload of asr_protected.simulator.backtest failed: Traceback (most recent call last):\n",
      "  File \"/home/schiba/miniconda3/envs/inv/lib/python3.9/site-packages/IPython/extensions/autoreload.py\", line 257, in check\n",
      "    superreload(m, reload, self.old_objects)\n",
      "  File \"/home/schiba/miniconda3/envs/inv/lib/python3.9/site-packages/IPython/extensions/autoreload.py\", line 455, in superreload\n",
      "    module = reload(module)\n",
      "  File \"/home/schiba/miniconda3/envs/inv/lib/python3.9/importlib/__init__.py\", line 169, in reload\n",
      "    _bootstrap._exec(spec, module)\n",
      "  File \"<frozen importlib._bootstrap>\", line 613, in _exec\n",
      "  File \"<frozen importlib._bootstrap_external>\", line 850, in exec_module\n",
      "  File \"<frozen importlib._bootstrap>\", line 228, in _call_with_frames_removed\n",
      "  File \"/home/schiba/work/asr_protected/asr_protected/simulator/backtest.py\", line 15, in <module>\n",
      "    from asr_protected.predictor import MlPredictor\n",
      "ImportError: cannot import name 'MlPredictor' from 'asr_protected.predictor' (/home/schiba/work/asr_protected/asr_protected/predictor/__init__.py)\n",
      "]\n",
      "[autoreload of asr_protected.predictor failed: Traceback (most recent call last):\n",
      "  File \"/home/schiba/miniconda3/envs/inv/lib/python3.9/site-packages/IPython/extensions/autoreload.py\", line 257, in check\n",
      "    superreload(m, reload, self.old_objects)\n",
      "  File \"/home/schiba/miniconda3/envs/inv/lib/python3.9/site-packages/IPython/extensions/autoreload.py\", line 455, in superreload\n",
      "    module = reload(module)\n",
      "  File \"/home/schiba/miniconda3/envs/inv/lib/python3.9/importlib/__init__.py\", line 169, in reload\n",
      "    _bootstrap._exec(spec, module)\n",
      "  File \"<frozen importlib._bootstrap>\", line 613, in _exec\n",
      "  File \"<frozen importlib._bootstrap_external>\", line 850, in exec_module\n",
      "  File \"<frozen importlib._bootstrap>\", line 228, in _call_with_frames_removed\n",
      "  File \"/home/schiba/work/asr_protected/asr_protected/predictor/__init__.py\", line 1, in <module>\n",
      "    from asr_protected.predictor.abs import *\n",
      "  File \"/home/schiba/work/asr_protected/asr_protected/predictor/abs.py\", line 11, in <module>\n",
      "    from asr_protected.model import TimeSeriesMLModel, Estimator, ModelResult\n",
      "ImportError: cannot import name 'TimeSeriesMLModel' from 'asr_protected.model' (/home/schiba/work/asr_protected/asr_protected/model/__init__.py)\n",
      "]\n",
      "[autoreload of asr_protected.model failed: Traceback (most recent call last):\n",
      "  File \"/home/schiba/miniconda3/envs/inv/lib/python3.9/site-packages/IPython/extensions/autoreload.py\", line 257, in check\n",
      "    superreload(m, reload, self.old_objects)\n",
      "  File \"/home/schiba/miniconda3/envs/inv/lib/python3.9/site-packages/IPython/extensions/autoreload.py\", line 455, in superreload\n",
      "    module = reload(module)\n",
      "  File \"/home/schiba/miniconda3/envs/inv/lib/python3.9/importlib/__init__.py\", line 169, in reload\n",
      "    _bootstrap._exec(spec, module)\n",
      "  File \"<frozen importlib._bootstrap>\", line 613, in _exec\n",
      "  File \"<frozen importlib._bootstrap_external>\", line 850, in exec_module\n",
      "  File \"<frozen importlib._bootstrap>\", line 228, in _call_with_frames_removed\n",
      "  File \"/home/schiba/work/asr_protected/asr_protected/model/__init__.py\", line 1, in <module>\n",
      "    from .model import TimeSeriesMLModel, Estimator, ModelResult\n",
      "ImportError: cannot import name 'Estimator' from 'asr_protected.model.model' (/home/schiba/work/asr_protected/asr_protected/model/model.py)\n",
      "]\n",
      "[autoreload of asr_protected.model.model failed: Traceback (most recent call last):\n",
      "  File \"/home/schiba/miniconda3/envs/inv/lib/python3.9/site-packages/IPython/extensions/autoreload.py\", line 257, in check\n",
      "    superreload(m, reload, self.old_objects)\n",
      "  File \"/home/schiba/miniconda3/envs/inv/lib/python3.9/site-packages/IPython/extensions/autoreload.py\", line 480, in superreload\n",
      "    update_generic(old_obj, new_obj)\n",
      "  File \"/home/schiba/miniconda3/envs/inv/lib/python3.9/site-packages/IPython/extensions/autoreload.py\", line 377, in update_generic\n",
      "    update(a, b)\n",
      "  File \"/home/schiba/miniconda3/envs/inv/lib/python3.9/site-packages/IPython/extensions/autoreload.py\", line 329, in update_class\n",
      "    if update_generic(old_obj, new_obj):\n",
      "  File \"/home/schiba/miniconda3/envs/inv/lib/python3.9/site-packages/IPython/extensions/autoreload.py\", line 377, in update_generic\n",
      "    update(a, b)\n",
      "  File \"/home/schiba/miniconda3/envs/inv/lib/python3.9/site-packages/IPython/extensions/autoreload.py\", line 289, in update_function\n",
      "    setattr(old, name, getattr(new, name))\n",
      "ValueError: __init__() requires a code object with 1 free vars, not 0\n",
      "]\n"
     ]
    },
    {
     "name": "stdout",
     "output_type": "stream",
     "text": [
      "The autoreload extension is already loaded. To reload it, use:\n",
      "  %reload_ext autoreload\n"
     ]
    },
    {
     "name": "stderr",
     "output_type": "stream",
     "text": [
      "[autoreload of aiq_strategy_robot.evaluator.evaluator failed: Traceback (most recent call last):\n",
      "  File \"/home/schiba/miniconda3/envs/inv/lib/python3.9/site-packages/IPython/extensions/autoreload.py\", line 257, in check\n",
      "    superreload(m, reload, self.old_objects)\n",
      "  File \"/home/schiba/miniconda3/envs/inv/lib/python3.9/site-packages/IPython/extensions/autoreload.py\", line 455, in superreload\n",
      "    module = reload(module)\n",
      "  File \"/home/schiba/miniconda3/envs/inv/lib/python3.9/importlib/__init__.py\", line 169, in reload\n",
      "    _bootstrap._exec(spec, module)\n",
      "  File \"<frozen importlib._bootstrap>\", line 613, in _exec\n",
      "  File \"<frozen importlib._bootstrap_external>\", line 850, in exec_module\n",
      "  File \"<frozen importlib._bootstrap>\", line 228, in _call_with_frames_removed\n",
      "  File \"/home/schiba/work/aiq_strategy_robot/aiq_strategy_robot/evaluator/evaluator.py\", line 8, in <module>\n",
      "    from asr_protected.strategy.simple_strategy import SimpleStrategy, ActualReturnInfo, PortfolioConstruction, Quantile, NNQuantile, Threshold\n",
      "ImportError: cannot import name 'ActualReturnInfo' from 'asr_protected.strategy.simple_strategy' (/home/schiba/work/asr_protected/asr_protected/strategy/simple_strategy.py)\n",
      "]\n"
     ]
    }
   ],
   "source": [
    "%load_ext autoreload\n",
    "%autoreload 2"
   ]
  },
  {
   "cell_type": "markdown",
   "metadata": {},
   "source": [
    "## Step1: Import Library"
   ]
  },
  {
   "cell_type": "code",
   "execution_count": 34,
   "metadata": {
    "execution": {
     "iopub.execute_input": "2024-09-25T07:11:16.166421Z",
     "iopub.status.busy": "2024-09-25T07:11:16.165707Z",
     "iopub.status.idle": "2024-09-25T07:11:17.332005Z",
     "shell.execute_reply": "2024-09-25T07:11:17.331065Z",
     "shell.execute_reply.started": "2024-09-25T07:11:16.166390Z"
    }
   },
   "outputs": [],
   "source": [
    "import sys\n",
    "from pathlib import Path\n",
    "import numpy as np\n",
    "import pandas as pd\n",
    "import plotly.io\n",
    "from aiq_strategy_robot.data.data_accessor import DAL\n",
    "\n",
    "for_html = False\n",
    "if for_html:\n",
    "    plotly.offline.init_notebook_mode()\n",
    "else:\n",
    "    plotly.io.renderers.default = 'iframe'\n",
    "\n",
    "sys.path.append('../..')\n",
    "\n",
    "from libs.dataset import aiq_pos_retailer as sc_retailer\n",
    "from libs.dataset import common as sc_common\n",
    "from libs.path import DEFAULT_DIR"
   ]
  },
  {
   "cell_type": "markdown",
   "metadata": {
    "execution": {
     "iopub.execute_input": "2024-07-16T02:58:13.947896Z",
     "iopub.status.busy": "2024-07-16T02:58:13.946825Z"
    }
   },
   "source": [
    "- Create an instance of the standard data handler.\n",
    "- The data handler is an object that holds libraries for data retrieval and data processing."
   ]
  },
  {
   "cell_type": "code",
   "execution_count": 35,
   "metadata": {
    "execution": {
     "iopub.execute_input": "2024-09-25T07:11:17.333907Z",
     "iopub.status.busy": "2024-09-25T07:11:17.333261Z",
     "iopub.status.idle": "2024-09-25T07:11:17.400272Z",
     "shell.execute_reply": "2024-09-25T07:11:17.399253Z",
     "shell.execute_reply.started": "2024-09-25T07:11:17.333875Z"
    }
   },
   "outputs": [],
   "source": [
    "sdh = DAL()"
   ]
  },
  {
   "cell_type": "markdown",
   "metadata": {},
   "source": [
    "## Step2: Load Data to `sdh`"
   ]
  },
  {
   "cell_type": "markdown",
   "metadata": {},
   "source": [
    "Since the focus here is on demonstrating data analysis, the data will be loaded through a simple loader that has been prepared separately."
   ]
  },
  {
   "cell_type": "code",
   "execution_count": 36,
   "metadata": {
    "execution": {
     "iopub.execute_input": "2024-09-25T07:11:17.403424Z",
     "iopub.status.busy": "2024-09-25T07:11:17.402616Z",
     "iopub.status.idle": "2024-09-25T07:11:22.762840Z",
     "shell.execute_reply": "2024-09-25T07:11:22.761886Z",
     "shell.execute_reply.started": "2024-09-25T07:11:17.403392Z"
    }
   },
   "outputs": [
    {
     "data": {
      "text/html": [
       "<div>\n",
       "<style scoped>\n",
       "    .dataframe tbody tr th:only-of-type {\n",
       "        vertical-align: middle;\n",
       "    }\n",
       "\n",
       "    .dataframe tbody tr th {\n",
       "        vertical-align: top;\n",
       "    }\n",
       "\n",
       "    .dataframe thead th {\n",
       "        text-align: right;\n",
       "    }\n",
       "</style>\n",
       "<table border=\"1\" class=\"dataframe\">\n",
       "  <thead>\n",
       "    <tr style=\"text-align: right;\">\n",
       "      <th></th>\n",
       "      <th>category</th>\n",
       "      <th>data_source</th>\n",
       "      <th>source</th>\n",
       "      <th>table</th>\n",
       "      <th>alias</th>\n",
       "      <th>tickers</th>\n",
       "      <th>index</th>\n",
       "      <th>start_datetime</th>\n",
       "      <th>end_datetime</th>\n",
       "    </tr>\n",
       "    <tr>\n",
       "      <th>data_id</th>\n",
       "      <th></th>\n",
       "      <th></th>\n",
       "      <th></th>\n",
       "      <th></th>\n",
       "      <th></th>\n",
       "      <th></th>\n",
       "      <th></th>\n",
       "      <th></th>\n",
       "      <th></th>\n",
       "    </tr>\n",
       "  </thead>\n",
       "  <tbody>\n",
       "    <tr>\n",
       "      <th>1</th>\n",
       "      <td>RawData</td>\n",
       "      <td>external</td>\n",
       "      <td>sample</td>\n",
       "      <td>Unknown</td>\n",
       "      <td>pos_retailer</td>\n",
       "      <td>[1925, 2212, 2267, 2651, 2653, 2659, 2660, 266...</td>\n",
       "      <td>[TICKER, DATETIME]</td>\n",
       "      <td>2010-04-30 00:00:00</td>\n",
       "      <td>2024-08-31 00:00:00</td>\n",
       "    </tr>\n",
       "    <tr>\n",
       "      <th>2</th>\n",
       "      <td>RawData</td>\n",
       "      <td>External</td>\n",
       "      <td>Unknown</td>\n",
       "      <td>Unknown</td>\n",
       "      <td>market_returns</td>\n",
       "      <td>[1301, 1332, 1333, 1334, 1352, 1378, 1379, 138...</td>\n",
       "      <td>[TICKER, DATETIME]</td>\n",
       "      <td>2007-01-04 00:00:00</td>\n",
       "      <td>2024-08-30 00:00:00</td>\n",
       "    </tr>\n",
       "    <tr>\n",
       "      <th>3</th>\n",
       "      <td>RawData</td>\n",
       "      <td>External</td>\n",
       "      <td>Unknown</td>\n",
       "      <td>Unknown</td>\n",
       "      <td>funda</td>\n",
       "      <td>[1301, 1332, 1333, 1334, 1352, 1378, 1379, 138...</td>\n",
       "      <td>[TICKER, DATETIME]</td>\n",
       "      <td>2007-04-20 00:00:00</td>\n",
       "      <td>2024-05-31 00:00:00</td>\n",
       "    </tr>\n",
       "  </tbody>\n",
       "</table>\n",
       "</div>"
      ],
      "text/plain": [
       "        category data_source   source    table           alias  \\\n",
       "data_id                                                          \n",
       "1        RawData    external   sample  Unknown    pos_retailer   \n",
       "2        RawData    External  Unknown  Unknown  market_returns   \n",
       "3        RawData    External  Unknown  Unknown           funda   \n",
       "\n",
       "                                                   tickers  \\\n",
       "data_id                                                      \n",
       "1        [1925, 2212, 2267, 2651, 2653, 2659, 2660, 266...   \n",
       "2        [1301, 1332, 1333, 1334, 1352, 1378, 1379, 138...   \n",
       "3        [1301, 1332, 1333, 1334, 1352, 1378, 1379, 138...   \n",
       "\n",
       "                      index       start_datetime         end_datetime  \n",
       "data_id                                                                \n",
       "1        [TICKER, DATETIME]  2010-04-30 00:00:00  2024-08-31 00:00:00  \n",
       "2        [TICKER, DATETIME]  2007-01-04 00:00:00  2024-08-30 00:00:00  \n",
       "3        [TICKER, DATETIME]  2007-04-20 00:00:00  2024-05-31 00:00:00  "
      ]
     },
     "metadata": {},
     "output_type": "display_data"
    }
   ],
   "source": [
    "sdh.extract.clear()\n",
    "\n",
    "data_id_alt = sc_retailer.register_retailer_data(sdh, data_dir=DEFAULT_DIR)\n",
    "data_id_mkt = sc_common.register_market(sdh, base_data_id=data_id_alt)\n",
    "data_id_funda = sc_common.register_fundamental(sdh)\n",
    "display(sdh.extract_definition)"
   ]
  },
  {
   "cell_type": "code",
   "execution_count": 37,
   "metadata": {
    "execution": {
     "iopub.execute_input": "2024-09-25T07:11:22.764655Z",
     "iopub.status.busy": "2024-09-25T07:11:22.764017Z",
     "iopub.status.idle": "2024-09-25T07:11:22.825065Z",
     "shell.execute_reply": "2024-09-25T07:11:22.824112Z",
     "shell.execute_reply.started": "2024-09-25T07:11:22.764622Z"
    }
   },
   "outputs": [],
   "source": [
    "# Randomly select a TICKER to plot as a sample.\n",
    "sample_target = \"3141\""
   ]
  },
  {
   "cell_type": "code",
   "execution_count": 38,
   "metadata": {
    "execution": {
     "iopub.execute_input": "2024-09-25T07:11:22.826928Z",
     "iopub.status.busy": "2024-09-25T07:11:22.826154Z",
     "iopub.status.idle": "2024-09-25T07:11:23.339853Z",
     "shell.execute_reply": "2024-09-25T07:11:23.338813Z",
     "shell.execute_reply.started": "2024-09-25T07:11:22.826896Z"
    }
   },
   "outputs": [
    {
     "data": {
      "text/html": [
       "<div>\n",
       "<style scoped>\n",
       "    .dataframe tbody tr th:only-of-type {\n",
       "        vertical-align: middle;\n",
       "    }\n",
       "\n",
       "    .dataframe tbody tr th {\n",
       "        vertical-align: top;\n",
       "    }\n",
       "\n",
       "    .dataframe thead th {\n",
       "        text-align: right;\n",
       "    }\n",
       "</style>\n",
       "<table border=\"1\" class=\"dataframe\">\n",
       "  <thead>\n",
       "    <tr style=\"text-align: right;\">\n",
       "      <th></th>\n",
       "      <th>VARIABLE</th>\n",
       "      <th>pos_sales</th>\n",
       "      <th>share</th>\n",
       "    </tr>\n",
       "    <tr>\n",
       "      <th>TICKER</th>\n",
       "      <th>DATETIME</th>\n",
       "      <th></th>\n",
       "      <th></th>\n",
       "    </tr>\n",
       "  </thead>\n",
       "  <tbody>\n",
       "    <tr>\n",
       "      <th rowspan=\"5\" valign=\"top\">9994</th>\n",
       "      <th>2024-04-30</th>\n",
       "      <td>3.130022</td>\n",
       "      <td>0.393859</td>\n",
       "    </tr>\n",
       "    <tr>\n",
       "      <th>2024-05-31</th>\n",
       "      <td>3.108171</td>\n",
       "      <td>0.420301</td>\n",
       "    </tr>\n",
       "    <tr>\n",
       "      <th>2024-06-30</th>\n",
       "      <td>3.168573</td>\n",
       "      <td>0.394184</td>\n",
       "    </tr>\n",
       "    <tr>\n",
       "      <th>2024-07-31</th>\n",
       "      <td>3.110237</td>\n",
       "      <td>0.401014</td>\n",
       "    </tr>\n",
       "    <tr>\n",
       "      <th>2024-08-31</th>\n",
       "      <td>2.805866</td>\n",
       "      <td>0.370834</td>\n",
       "    </tr>\n",
       "  </tbody>\n",
       "</table>\n",
       "</div>"
      ],
      "text/plain": [
       "VARIABLE           pos_sales     share\n",
       "TICKER DATETIME                       \n",
       "9994   2024-04-30   3.130022  0.393859\n",
       "       2024-05-31   3.108171  0.420301\n",
       "       2024-06-30   3.168573  0.394184\n",
       "       2024-07-31   3.110237  0.401014\n",
       "       2024-08-31   2.805866  0.370834"
      ]
     },
     "metadata": {},
     "output_type": "display_data"
    },
    {
     "data": {
      "text/html": [
       "<div>\n",
       "<style scoped>\n",
       "    .dataframe tbody tr th:only-of-type {\n",
       "        vertical-align: middle;\n",
       "    }\n",
       "\n",
       "    .dataframe tbody tr th {\n",
       "        vertical-align: top;\n",
       "    }\n",
       "\n",
       "    .dataframe thead th {\n",
       "        text-align: right;\n",
       "    }\n",
       "</style>\n",
       "<table border=\"1\" class=\"dataframe\">\n",
       "  <thead>\n",
       "    <tr style=\"text-align: right;\">\n",
       "      <th></th>\n",
       "      <th></th>\n",
       "      <th>returns</th>\n",
       "      <th>returns_oo</th>\n",
       "      <th>returns_id</th>\n",
       "      <th>returns_on</th>\n",
       "    </tr>\n",
       "    <tr>\n",
       "      <th>TICKER</th>\n",
       "      <th>DATETIME</th>\n",
       "      <th></th>\n",
       "      <th></th>\n",
       "      <th></th>\n",
       "      <th></th>\n",
       "    </tr>\n",
       "  </thead>\n",
       "  <tbody>\n",
       "    <tr>\n",
       "      <th rowspan=\"5\" valign=\"top\">9997</th>\n",
       "      <th>2024-08-26</th>\n",
       "      <td>-0.016416</td>\n",
       "      <td>-0.001356</td>\n",
       "      <td>-0.016416</td>\n",
       "      <td>0.000000</td>\n",
       "    </tr>\n",
       "    <tr>\n",
       "      <th>2024-08-27</th>\n",
       "      <td>0.000000</td>\n",
       "      <td>-0.010914</td>\n",
       "      <td>-0.005502</td>\n",
       "      <td>0.005502</td>\n",
       "    </tr>\n",
       "    <tr>\n",
       "      <th>2024-08-28</th>\n",
       "      <td>0.016416</td>\n",
       "      <td>-0.005502</td>\n",
       "      <td>0.016416</td>\n",
       "      <td>0.000000</td>\n",
       "    </tr>\n",
       "    <tr>\n",
       "      <th>2024-08-29</th>\n",
       "      <td>-0.002717</td>\n",
       "      <td>0.015058</td>\n",
       "      <td>-0.001360</td>\n",
       "      <td>-0.001358</td>\n",
       "    </tr>\n",
       "    <tr>\n",
       "      <th>2024-08-30</th>\n",
       "      <td>0.009479</td>\n",
       "      <td>0.002714</td>\n",
       "      <td>0.005405</td>\n",
       "      <td>0.004073</td>\n",
       "    </tr>\n",
       "  </tbody>\n",
       "</table>\n",
       "</div>"
      ],
      "text/plain": [
       "                    returns  returns_oo  returns_id  returns_on\n",
       "TICKER DATETIME                                                \n",
       "9997   2024-08-26 -0.016416   -0.001356   -0.016416    0.000000\n",
       "       2024-08-27  0.000000   -0.010914   -0.005502    0.005502\n",
       "       2024-08-28  0.016416   -0.005502    0.016416    0.000000\n",
       "       2024-08-29 -0.002717    0.015058   -0.001360   -0.001358\n",
       "       2024-08-30  0.009479    0.002714    0.005405    0.004073"
      ]
     },
     "metadata": {},
     "output_type": "display_data"
    },
    {
     "data": {
      "text/html": [
       "<div>\n",
       "<style scoped>\n",
       "    .dataframe tbody tr th:only-of-type {\n",
       "        vertical-align: middle;\n",
       "    }\n",
       "\n",
       "    .dataframe tbody tr th {\n",
       "        vertical-align: top;\n",
       "    }\n",
       "\n",
       "    .dataframe thead th {\n",
       "        text-align: right;\n",
       "    }\n",
       "</style>\n",
       "<table border=\"1\" class=\"dataframe\">\n",
       "  <thead>\n",
       "    <tr style=\"text-align: right;\">\n",
       "      <th></th>\n",
       "      <th></th>\n",
       "      <th>sales_yoy</th>\n",
       "    </tr>\n",
       "    <tr>\n",
       "      <th>TICKER</th>\n",
       "      <th>DATETIME</th>\n",
       "      <th></th>\n",
       "    </tr>\n",
       "  </thead>\n",
       "  <tbody>\n",
       "    <tr>\n",
       "      <th rowspan=\"5\" valign=\"top\">9997</th>\n",
       "      <th>2023-03-31</th>\n",
       "      <td>0.008141</td>\n",
       "    </tr>\n",
       "    <tr>\n",
       "      <th>2023-06-30</th>\n",
       "      <td>-0.030340</td>\n",
       "    </tr>\n",
       "    <tr>\n",
       "      <th>2023-09-30</th>\n",
       "      <td>-0.024041</td>\n",
       "    </tr>\n",
       "    <tr>\n",
       "      <th>2023-12-31</th>\n",
       "      <td>-0.024655</td>\n",
       "    </tr>\n",
       "    <tr>\n",
       "      <th>2024-03-31</th>\n",
       "      <td>0.001886</td>\n",
       "    </tr>\n",
       "  </tbody>\n",
       "</table>\n",
       "</div>"
      ],
      "text/plain": [
       "                   sales_yoy\n",
       "TICKER DATETIME             \n",
       "9997   2023-03-31   0.008141\n",
       "       2023-06-30  -0.030340\n",
       "       2023-09-30  -0.024041\n",
       "       2023-12-31  -0.024655\n",
       "       2024-03-31   0.001886"
      ]
     },
     "metadata": {},
     "output_type": "display_data"
    }
   ],
   "source": [
    "display(sdh.get_raw_data(data_id_alt).tail())\n",
    "display(sdh.get_raw_data(data_id_mkt).tail())\n",
    "display(sdh.get_raw_data(data_id_funda).tail())"
   ]
  },
  {
   "cell_type": "markdown",
   "metadata": {},
   "source": [
    "> If you want to use your own financial data with the handler, please set the following flag to True. <br> Note that the sample financial data has already been adjusted for YoY."
   ]
  },
  {
   "cell_type": "code",
   "execution_count": 39,
   "metadata": {
    "execution": {
     "iopub.execute_input": "2024-09-25T07:11:23.341672Z",
     "iopub.status.busy": "2024-09-25T07:11:23.341032Z",
     "iopub.status.idle": "2024-09-25T07:11:23.402012Z",
     "shell.execute_reply": "2024-09-25T07:11:23.401109Z",
     "shell.execute_reply.started": "2024-09-25T07:11:23.341642Z"
    }
   },
   "outputs": [],
   "source": [
    "USE_MY_FUNDA = False "
   ]
  },
  {
   "cell_type": "markdown",
   "metadata": {},
   "source": [
    "> If you want to use your own market data with the handler, please set the following flag to True. <br> Note that the sample market data has already been adjusted for Returns."
   ]
  },
  {
   "cell_type": "code",
   "execution_count": 40,
   "metadata": {
    "execution": {
     "iopub.execute_input": "2024-09-25T07:11:23.403715Z",
     "iopub.status.busy": "2024-09-25T07:11:23.403189Z",
     "iopub.status.idle": "2024-09-25T07:11:23.467779Z",
     "shell.execute_reply": "2024-09-25T07:11:23.466831Z",
     "shell.execute_reply.started": "2024-09-25T07:11:23.403677Z"
    }
   },
   "outputs": [],
   "source": [
    "USE_MY_MKT = False"
   ]
  },
  {
   "cell_type": "markdown",
   "metadata": {},
   "source": [
    "## Step3: Correlation Analysis"
   ]
  },
  {
   "cell_type": "markdown",
   "metadata": {},
   "source": [
    "### Create `AltDataEvaluator`\n",
    "Given the nature of aiQ POS Retailer data, it is expected that there may be a correlation with financial data (quarterly sales).\n",
    "\n",
    "Here, we will test this hypothesis to determine its validity."
   ]
  },
  {
   "cell_type": "markdown",
   "metadata": {},
   "source": [
    "#### Use `AltDataEvaluator` to evaluate the alternative data."
   ]
  },
  {
   "cell_type": "code",
   "execution_count": 41,
   "metadata": {
    "execution": {
     "iopub.execute_input": "2024-09-25T07:11:23.469505Z",
     "iopub.status.busy": "2024-09-25T07:11:23.468967Z",
     "iopub.status.idle": "2024-09-25T07:11:23.552089Z",
     "shell.execute_reply": "2024-09-25T07:11:23.551157Z",
     "shell.execute_reply.started": "2024-09-25T07:11:23.469466Z"
    }
   },
   "outputs": [],
   "source": [
    "from aiq_strategy_robot.evaluator import AltDataEvaluator\n",
    "\n",
    "# Initialize AltDataEvaluator\n",
    "ade = AltDataEvaluator(sdh)"
   ]
  },
  {
   "cell_type": "markdown",
   "metadata": {},
   "source": [
    "#### Compare the Quarterly Sales Data Loaded in Step 2 with the `pos_sales` from POS Retailer\n",
    "- To enable comparison between the quarterly sales data and `pos_sales`, resample the latter."
   ]
  },
  {
   "cell_type": "code",
   "execution_count": 43,
   "metadata": {
    "execution": {
     "iopub.execute_input": "2024-09-25T07:11:37.898642Z",
     "iopub.status.busy": "2024-09-25T07:11:37.898087Z",
     "iopub.status.idle": "2024-09-25T07:11:38.020797Z",
     "shell.execute_reply": "2024-09-25T07:11:38.019540Z",
     "shell.execute_reply.started": "2024-09-25T07:11:37.898611Z"
    }
   },
   "outputs": [
    {
     "ename": "NotImplementedError",
     "evalue": "<class 'asr_protected.data_transformer.variables.objs.RawObj'>",
     "output_type": "error",
     "traceback": [
      "\u001b[0;31m---------------------------------------------------------------------------\u001b[0m",
      "\u001b[0;31mNotImplementedError\u001b[0m                       Traceback (most recent call last)",
      "Input \u001b[0;32mIn [43]\u001b[0m, in \u001b[0;36m<cell line: 2>\u001b[0;34m()\u001b[0m\n\u001b[1;32m      1\u001b[0m sdh\u001b[38;5;241m.\u001b[39mtransform\u001b[38;5;241m.\u001b[39mclear()\n\u001b[0;32m----> 2\u001b[0m funda_kpi_id \u001b[38;5;241m=\u001b[39m \u001b[43msdh\u001b[49m\u001b[38;5;241;43m.\u001b[39;49m\u001b[43mtransform\u001b[49m\u001b[38;5;241;43m.\u001b[39;49m\u001b[43mraw\u001b[49m\u001b[43m(\u001b[49m\u001b[43mdata_id\u001b[49m\u001b[38;5;241;43m=\u001b[39;49m\u001b[43mdata_id_funda\u001b[49m\u001b[43m)\u001b[49m\u001b[38;5;241m.\u001b[39mvariable_ids[\u001b[38;5;241m0\u001b[39m]\n\u001b[1;32m      3\u001b[0m pos_Q_ids \u001b[38;5;241m=\u001b[39m sdh\u001b[38;5;241m.\u001b[39mtransform\u001b[38;5;241m.\u001b[39mresample_by(label\u001b[38;5;241m=\u001b[39mfunda_kpi_id, func\u001b[38;5;241m=\u001b[39m\u001b[38;5;124m'\u001b[39m\u001b[38;5;124mlast\u001b[39m\u001b[38;5;124m'\u001b[39m, data_id\u001b[38;5;241m=\u001b[39mdata_id_alt)\u001b[38;5;241m.\u001b[39mvariable_ids\n",
      "File \u001b[0;32m~/work/asr_protected/asr_protected/data_manager/transform/manager.py:761\u001b[0m, in \u001b[0;36mTransformManager.raw\u001b[0;34m(self, data_id, fields, ticker, names, ref)\u001b[0m\n\u001b[1;32m    730\u001b[0m \u001b[38;5;28;01mdef\u001b[39;00m \u001b[38;5;21mraw\u001b[39m(\n\u001b[1;32m    731\u001b[0m     \u001b[38;5;28mself\u001b[39m,\n\u001b[1;32m    732\u001b[0m     \u001b[38;5;241m*\u001b[39m,\n\u001b[0;32m   (...)\u001b[0m\n\u001b[1;32m    737\u001b[0m     ref: \u001b[38;5;28mbool\u001b[39m \u001b[38;5;241m=\u001b[39m \u001b[38;5;28;01mFalse\u001b[39;00m\n\u001b[1;32m    738\u001b[0m ) \u001b[38;5;241m-\u001b[39m\u001b[38;5;241m>\u001b[39m TSelf:\n\u001b[1;32m    739\u001b[0m \u001b[38;5;250m    \u001b[39m\u001b[38;5;124;03m\"\"\"\u001b[39;00m\n\u001b[1;32m    740\u001b[0m \u001b[38;5;124;03m    Uses the data specified by data_id, format_id, fields, and ticker as features.\u001b[39;00m\n\u001b[1;32m    741\u001b[0m \n\u001b[0;32m   (...)\u001b[0m\n\u001b[1;32m    759\u001b[0m \u001b[38;5;124;03m        transform accessor.\u001b[39;00m\n\u001b[1;32m    760\u001b[0m \u001b[38;5;124;03m    \"\"\"\u001b[39;00m\n\u001b[0;32m--> 761\u001b[0m     \u001b[38;5;28;43mself\u001b[39;49m\u001b[38;5;241;43m.\u001b[39;49m\u001b[43m_set_single_variable\u001b[49m\u001b[43m(\u001b[49m\n\u001b[1;32m    762\u001b[0m \u001b[43m        \u001b[49m\u001b[43mdata_id\u001b[49m\u001b[43m,\u001b[49m\n\u001b[1;32m    763\u001b[0m \u001b[43m        \u001b[49m\u001b[43mfields\u001b[49m\u001b[43m,\u001b[49m\n\u001b[1;32m    764\u001b[0m \u001b[43m        \u001b[49m\u001b[43mnames\u001b[49m\u001b[43m,\u001b[49m\n\u001b[1;32m    765\u001b[0m \u001b[43m        \u001b[49m\u001b[43mticker\u001b[49m\u001b[43m,\u001b[49m\n\u001b[1;32m    766\u001b[0m \u001b[43m        \u001b[49m\u001b[43mref\u001b[49m\u001b[43m,\u001b[49m\n\u001b[1;32m    767\u001b[0m \u001b[43m        \u001b[49m\u001b[43mRawObj\u001b[49m\n\u001b[1;32m    768\u001b[0m \u001b[43m    \u001b[49m\u001b[43m)\u001b[49m\n\u001b[1;32m    769\u001b[0m     \u001b[38;5;28;01mreturn\u001b[39;00m \u001b[38;5;28mself\u001b[39m\n",
      "File \u001b[0;32m~/work/asr_protected/asr_protected/data_manager/transform/manager.py:1878\u001b[0m, in \u001b[0;36mTransformManager._set_single_variable\u001b[0;34m(self, data_id, fields, names, ticker, ref, _method, **kwargs)\u001b[0m\n\u001b[1;32m   1876\u001b[0m \u001b[38;5;28;01melse\u001b[39;00m:\n\u001b[1;32m   1877\u001b[0m     holder \u001b[38;5;241m=\u001b[39m \u001b[38;5;28mself\u001b[39m\u001b[38;5;241m.\u001b[39m_data_manager\u001b[38;5;241m.\u001b[39mget_holder(data_id)\n\u001b[0;32m-> 1878\u001b[0m     name \u001b[38;5;241m=\u001b[39m \u001b[43mget_variable_name\u001b[49m\u001b[43m(\u001b[49m\u001b[43mholder\u001b[49m\u001b[43m,\u001b[49m\u001b[43m \u001b[49m\u001b[38;5;28;43mself\u001b[39;49m\u001b[38;5;241;43m.\u001b[39;49m\u001b[43m_var_manager\u001b[49m\u001b[43m,\u001b[49m\u001b[43m \u001b[49m\u001b[43mvar_obj\u001b[49m\u001b[43m,\u001b[49m\u001b[43m \u001b[49m\u001b[43mfield_def\u001b[49m\u001b[43m)\u001b[49m\n\u001b[1;32m   1879\u001b[0m     _names\u001b[38;5;241m.\u001b[39mappend(name)\n\u001b[1;32m   1880\u001b[0m field_defs\u001b[38;5;241m.\u001b[39mappend(field_def)\n",
      "File \u001b[0;32m~/work/asr_protected/asr_protected/data_manager/transform/naming.py:366\u001b[0m, in \u001b[0;36mget_variable_name\u001b[0;34m(holder, var_manager, var_obj, field_def)\u001b[0m\n\u001b[1;32m    331\u001b[0m naming \u001b[38;5;241m=\u001b[39m {\n\u001b[1;32m    332\u001b[0m     RawObj: Raw,\n\u001b[1;32m    333\u001b[0m     LogObj: Log,\n\u001b[0;32m   (...)\u001b[0m\n\u001b[1;32m    362\u001b[0m     CumSumObj: CumSum\n\u001b[1;32m    363\u001b[0m }\u001b[38;5;241m.\u001b[39mget(var_obj\u001b[38;5;241m.\u001b[39m\u001b[38;5;18m__class__\u001b[39m, \u001b[38;5;28;01mNone\u001b[39;00m)\n\u001b[1;32m    365\u001b[0m \u001b[38;5;28;01mif\u001b[39;00m \u001b[38;5;129;01mnot\u001b[39;00m naming:\n\u001b[0;32m--> 366\u001b[0m     \u001b[38;5;28;01mraise\u001b[39;00m \u001b[38;5;167;01mNotImplementedError\u001b[39;00m(var_obj\u001b[38;5;241m.\u001b[39m\u001b[38;5;18m__class__\u001b[39m)\n\u001b[1;32m    368\u001b[0m \u001b[38;5;28;01mreturn\u001b[39;00m naming(holder, var_manager, var_obj\u001b[38;5;241m.\u001b[39mshow_dict(), field_def)\u001b[38;5;241m.\u001b[39mget()\n",
      "\u001b[0;31mNotImplementedError\u001b[0m: <class 'asr_protected.data_transformer.variables.objs.RawObj'>"
     ]
    }
   ],
   "source": [
    "sdh.transform.clear()\n",
    "funda_kpi_id = sdh.transform.raw(data_id=data_id_funda).variable_ids[0]\n",
    "pos_Q_ids = sdh.transform.resample_by(label=funda_kpi_id, func='last', data_id=data_id_alt).variable_ids"
   ]
  },
  {
   "cell_type": "code",
   "execution_count": null,
   "metadata": {},
   "outputs": [],
   "source": []
  },
  {
   "cell_type": "markdown",
   "metadata": {},
   "source": [
    "## Step 3.1: Plot with Quarterly Sales\n",
    "\n",
    "Plot the quarterly sales data alongside the alternative data to visually inspect the data shapes.\n",
    "> It is recommended to compare with your financial data before applying YoY adjustments."
   ]
  },
  {
   "cell_type": "markdown",
   "metadata": {},
   "source": [
    "#### Create Variables from the Base `variable` and Visually Identify Which Matches the Financial Data\n",
    "- By using `sdh.transform`, you can create various variables and quickly evaluate which one has the strongest relationship with the financial data.\n",
    "- For a list of `transform` processes, please refer to the sample notebook provided with the `data handler`."
   ]
  },
  {
   "cell_type": "code",
   "execution_count": null,
   "metadata": {
    "execution": {
     "iopub.status.busy": "2024-09-25T07:11:24.010412Z",
     "iopub.status.idle": "2024-09-25T07:11:24.010798Z",
     "shell.execute_reply": "2024-09-25T07:11:24.010629Z",
     "shell.execute_reply.started": "2024-09-25T07:11:24.010610Z"
    }
   },
   "outputs": [],
   "source": [
    "if USE_MY_FUNDA:\n",
    "    \n",
    "    # Plot the data to visually inspect its shape.\n",
    "    sdh.show_line_one_target(\n",
    "        target=sample_target,\n",
    "        y=funda_kpi_id,\n",
    "        X= pos_Q_ids[:],\n",
    "        col_num=2,\n",
    "        vname_len_limit=40,\n",
    "        start_date='2016-01-01'\n",
    "    )\n",
    "\n",
    "    # First, define the variables.\n",
    "    shft1_Q_ids = sdh.transform.shift(data_id=data_id_alt, periods=1).resample_by(label=funda_kpi_id, func='last').variable_ids\n",
    "    shft2_Q_ids = sdh.transform.shift(data_id=data_id_alt, periods=2).resample_by(label=funda_kpi_id, func='last').variable_ids\n",
    "    shft3_Q_ids = sdh.transform.shift(data_id=data_id_alt, periods=3).resample_by(label=funda_kpi_id, func='last').variable_ids\n",
    "    shft4_Q_ids = sdh.transform.shift(data_id=data_id_alt, periods=4).resample_by(label=funda_kpi_id, func='last').variable_ids\n",
    "    shft5_Q_ids = sdh.transform.shift(data_id=data_id_alt, periods=5).resample_by(label=funda_kpi_id, func='last').variable_ids\n",
    "    shft6_Q_ids = sdh.transform.shift(data_id=data_id_alt, periods=6).resample_by(label=funda_kpi_id, func='last').variable_ids\n",
    "    shft7_Q_ids = sdh.transform.shift(data_id=data_id_alt, periods=7).resample_by(label=funda_kpi_id, func='last').variable_ids\n",
    "    shft8_Q_ids = sdh.transform.shift(data_id=data_id_alt, periods=8).resample_by(label=funda_kpi_id, func='last').variable_ids\n",
    "    shft9_Q_ids = sdh.transform.shift(data_id=data_id_alt, periods=9).resample_by(label=funda_kpi_id, func='last').variable_ids\n",
    "    shft10_Q_ids = sdh.transform.shift(data_id=data_id_alt, periods=10).resample_by(label=funda_kpi_id, func='last').variable_ids\n",
    "    shft11_Q_ids = sdh.transform.shift(data_id=data_id_alt, periods=11).resample_by(label=funda_kpi_id, func='last').variable_ids\n",
    "    shft12_Q_ids = sdh.transform.shift(data_id=data_id_alt, periods=12).resample_by(label=funda_kpi_id, func='last').variable_ids\n",
    "    shft13_Q_ids = sdh.transform.shift(data_id=data_id_alt, periods=13).resample_by(label=funda_kpi_id, func='last').variable_ids\n",
    "    shft14_Q_ids = sdh.transform.shift(data_id=data_id_alt, periods=14).resample_by(label=funda_kpi_id, func='last').variable_ids\n",
    "    shft15_Q_ids = sdh.transform.shift(data_id=data_id_alt, periods=15).resample_by(label=funda_kpi_id, func='last').variable_ids\n",
    "    shft16_Q_ids = sdh.transform.shift(data_id=data_id_alt, periods=16).resample_by(label=funda_kpi_id, func='last').variable_ids\n",
    "\n",
    "    # Plot the variables created above to visually inspect them.\n",
    "    sdh.show_line_one_target(\n",
    "        target=sample_target,\n",
    "        y=funda_kpi_id,\n",
    "        X= [shft1_Q_ids[0], shft3_Q_ids[0], shft6_Q_ids[0], shft9_Q_ids[0]],\n",
    "        col_num=2,\n",
    "        vname_len_limit=45,\n",
    "        start_date='2016-01-01'\n",
    "    )\n",
    "\n",
    "     # For the next step, calculate the year-over-year (YoY) changes and create a variable with an additional lagged difference to address cases where trends might cause apparent correlations.\n",
    "    funda_kpi_log_id = sdh.transform.log_diff(fields=funda_kpi_id, periods=4).diff(periods=1).variable_ids[-1]\n",
    "    "
   ]
  },
  {
   "cell_type": "code",
   "execution_count": null,
   "metadata": {
    "execution": {
     "iopub.status.busy": "2024-09-25T07:11:24.011986Z",
     "iopub.status.idle": "2024-09-25T07:11:24.012351Z",
     "shell.execute_reply": "2024-09-25T07:11:24.012191Z",
     "shell.execute_reply.started": "2024-09-25T07:11:24.012174Z"
    }
   },
   "outputs": [],
   "source": [
    "if not USE_MY_FUNDA:\n",
    "\n",
    "    # Convert the POS data to YoY as well for comparison with the financial data.\n",
    "    pos_Q_yoy_ids = sdh.transform.log_diff(periods=4, fields=pos_Q_ids).variable_ids\n",
    "\n",
    "    # Plot the data to visually inspect its shape.\n",
    "    sdh.show_scatter_one_target(\n",
    "        target=sample_target,\n",
    "        y=funda_kpi_id,\n",
    "        X=pos_Q_yoy_ids,\n",
    "        col_num=2,\n",
    "        vname_len_limit=35\n",
    "    )\n",
    "\n",
    "    # Define the variables.\n",
    "    shft1_Q_ids = sdh.transform.shift(data_id=data_id_alt, periods=1).resample_by(label=funda_kpi_id, func='last').variable_ids\n",
    "    shft2_Q_ids = sdh.transform.shift(data_id=data_id_alt, periods=2).resample_by(label=funda_kpi_id, func='last').variable_ids\n",
    "    shft3_Q_ids = sdh.transform.shift(data_id=data_id_alt, periods=3).resample_by(label=funda_kpi_id, func='last').variable_ids\n",
    "    shft4_Q_ids = sdh.transform.shift(data_id=data_id_alt, periods=4).resample_by(label=funda_kpi_id, func='last').variable_ids\n",
    "    shft5_Q_ids = sdh.transform.shift(data_id=data_id_alt, periods=5).resample_by(label=funda_kpi_id, func='last').variable_ids\n",
    "    shft6_Q_ids = sdh.transform.shift(data_id=data_id_alt, periods=6).resample_by(label=funda_kpi_id, func='last').variable_ids\n",
    "    shft7_Q_ids = sdh.transform.shift(data_id=data_id_alt, periods=7).resample_by(label=funda_kpi_id, func='last').variable_ids\n",
    "    shft8_Q_ids = sdh.transform.shift(data_id=data_id_alt, periods=8).resample_by(label=funda_kpi_id, func='last').variable_ids\n",
    "    shft9_Q_ids = sdh.transform.shift(data_id=data_id_alt, periods=9).resample_by(label=funda_kpi_id, func='last').variable_ids\n",
    "    shft10_Q_ids = sdh.transform.shift(data_id=data_id_alt, periods=10).resample_by(label=funda_kpi_id, func='last').variable_ids\n",
    "    shft11_Q_ids = sdh.transform.shift(data_id=data_id_alt, periods=11).resample_by(label=funda_kpi_id, func='last').variable_ids\n",
    "    shft12_Q_ids = sdh.transform.shift(data_id=data_id_alt, periods=12).resample_by(label=funda_kpi_id, func='last').variable_ids\n",
    "    shft13_Q_ids = sdh.transform.shift(data_id=data_id_alt, periods=13).resample_by(label=funda_kpi_id, func='last').variable_ids\n",
    "    shft14_Q_ids = sdh.transform.shift(data_id=data_id_alt, periods=14).resample_by(label=funda_kpi_id, func='last').variable_ids\n",
    "    shft15_Q_ids = sdh.transform.shift(data_id=data_id_alt, periods=15).resample_by(label=funda_kpi_id, func='last').variable_ids\n",
    "    shft16_Q_ids = sdh.transform.shift(data_id=data_id_alt, periods=16).resample_by(label=funda_kpi_id, func='last').variable_ids\n",
    "    \n",
    "    # To address cases where trends might cause apparent correlations, create a variable with an additional lagged difference.\n",
    "    funda_kpi_log_id = sdh.transform.diff(fields=funda_kpi_id, periods=1).variable_ids[-1]"
   ]
  },
  {
   "cell_type": "code",
   "execution_count": null,
   "metadata": {
    "execution": {
     "iopub.status.busy": "2024-09-25T07:11:24.013892Z",
     "iopub.status.idle": "2024-09-25T07:11:24.014279Z",
     "shell.execute_reply": "2024-09-25T07:11:24.014114Z",
     "shell.execute_reply.started": "2024-09-25T07:11:24.014096Z"
    }
   },
   "outputs": [],
   "source": [
    "# Calculate the year-over-year (YoY) changes and create a variable with an additional lagged difference to account for cases where trends might cause apparent correlations.\n",
    "shft0_Q_log_ids = sdh.transform.log_diff(fields=pos_Q_ids, periods=4).diff(periods=1).variable_ids\n",
    "shft1_Q_log_ids = sdh.transform.log_diff(fields=shft1_Q_ids, periods=4).diff(periods=1).variable_ids\n",
    "shft2_Q_log_ids = sdh.transform.log_diff(fields=shft2_Q_ids, periods=4).diff(periods=1).variable_ids\n",
    "shft3_Q_log_ids = sdh.transform.log_diff(fields=shft3_Q_ids, periods=4).diff(periods=1).variable_ids\n",
    "shft4_Q_log_ids = sdh.transform.log_diff(fields=shft4_Q_ids, periods=4).diff(periods=1).variable_ids\n",
    "shft5_Q_log_ids = sdh.transform.log_diff(fields=shft5_Q_ids, periods=4).diff(periods=1).variable_ids\n",
    "shft6_Q_log_ids = sdh.transform.log_diff(fields=shft6_Q_ids, periods=4).diff(periods=1).variable_ids\n",
    "shft7_Q_log_ids = sdh.transform.log_diff(fields=shft7_Q_ids, periods=4).diff(periods=1).variable_ids\n",
    "shft8_Q_log_ids = sdh.transform.log_diff(fields=shft8_Q_ids, periods=4).diff(periods=1).variable_ids\n",
    "shft9_Q_log_ids = sdh.transform.log_diff(fields=shft9_Q_ids, periods=4).diff(periods=1).variable_ids\n",
    "shft10_Q_log_ids = sdh.transform.log_diff(fields=shft10_Q_ids, periods=4).diff(periods=1).variable_ids\n",
    "shft11_Q_log_ids = sdh.transform.log_diff(fields=shft11_Q_ids, periods=4).diff(periods=1).variable_ids\n",
    "shft12_Q_log_ids = sdh.transform.log_diff(fields=shft12_Q_ids, periods=4).diff(periods=1).variable_ids\n",
    "shft13_Q_log_ids = sdh.transform.log_diff(fields=shft13_Q_ids, periods=4).diff(periods=1).variable_ids\n",
    "shft14_Q_log_ids = sdh.transform.log_diff(fields=shft14_Q_ids, periods=4).diff(periods=1).variable_ids\n",
    "shft15_Q_log_ids = sdh.transform.log_diff(fields=shft15_Q_ids, periods=4).diff(periods=1).variable_ids\n",
    "shft16_Q_log_ids = sdh.transform.log_diff(fields=shft16_Q_ids, periods=4).diff(periods=1).variable_ids"
   ]
  },
  {
   "cell_type": "markdown",
   "metadata": {},
   "source": [
    "#### Correlation Calculation"
   ]
  },
  {
   "cell_type": "code",
   "execution_count": null,
   "metadata": {
    "execution": {
     "iopub.status.busy": "2024-09-25T07:11:24.016103Z",
     "iopub.status.idle": "2024-09-25T07:11:24.016473Z",
     "shell.execute_reply": "2024-09-25T07:11:24.016309Z",
     "shell.execute_reply.started": "2024-09-25T07:11:24.016293Z"
    }
   },
   "outputs": [],
   "source": [
    "ori_cols = sdh.get_raw_data(data_id_alt).columns\n",
    "ori_cols"
   ]
  },
  {
   "cell_type": "code",
   "execution_count": null,
   "metadata": {
    "execution": {
     "iopub.status.busy": "2024-09-25T07:11:24.017827Z",
     "iopub.status.idle": "2024-09-25T07:11:24.018192Z",
     "shell.execute_reply": "2024-09-25T07:11:24.018031Z",
     "shell.execute_reply.started": "2024-09-25T07:11:24.018014Z"
    }
   },
   "outputs": [],
   "source": [
    "rho_pool = pd.DataFrame()\n",
    "rho_pool['shift=0'] = ade.compu_rho(shft0_Q_log_ids, funda_kpi_log_id, rename_features=ori_cols)\n",
    "rho_pool['shift=1'] = ade.compu_rho(shft1_Q_log_ids, funda_kpi_log_id, rename_features=ori_cols)\n",
    "rho_pool['shift=2'] = ade.compu_rho(shft2_Q_log_ids, funda_kpi_log_id, rename_features=ori_cols)\n",
    "rho_pool['shift=3'] = ade.compu_rho(shft3_Q_log_ids, funda_kpi_log_id, rename_features=ori_cols)\n",
    "rho_pool['shift=4'] = ade.compu_rho(shft4_Q_log_ids, funda_kpi_log_id, rename_features=ori_cols)\n",
    "rho_pool['shift=5'] = ade.compu_rho(shft5_Q_log_ids, funda_kpi_log_id, rename_features=ori_cols)\n",
    "rho_pool['shift=6'] = ade.compu_rho(shft6_Q_log_ids, funda_kpi_log_id, rename_features=ori_cols)\n",
    "rho_pool['shift=7'] = ade.compu_rho(shft7_Q_log_ids, funda_kpi_log_id, rename_features=ori_cols)\n",
    "rho_pool['shift=8'] = ade.compu_rho(shft8_Q_log_ids, funda_kpi_log_id, rename_features=ori_cols)\n",
    "rho_pool['shift=9'] = ade.compu_rho(shft9_Q_log_ids, funda_kpi_log_id, rename_features=ori_cols)\n",
    "rho_pool['shift=10'] = ade.compu_rho(shft10_Q_log_ids, funda_kpi_log_id, rename_features=ori_cols)\n",
    "rho_pool['shift=11'] = ade.compu_rho(shft11_Q_log_ids, funda_kpi_log_id, rename_features=ori_cols)\n",
    "rho_pool['shift=12'] = ade.compu_rho(shft12_Q_log_ids, funda_kpi_log_id, rename_features=ori_cols)\n",
    "rho_pool['shift=13'] = ade.compu_rho(shft13_Q_log_ids, funda_kpi_log_id, rename_features=ori_cols)\n",
    "rho_pool['shift=14'] = ade.compu_rho(shft14_Q_log_ids, funda_kpi_log_id, rename_features=ori_cols)\n",
    "rho_pool['shift=15'] = ade.compu_rho(shft15_Q_log_ids, funda_kpi_log_id, rename_features=ori_cols)\n",
    "rho_pool['shift=16'] = ade.compu_rho(shft16_Q_log_ids, funda_kpi_log_id, rename_features=ori_cols)\n",
    "\n",
    "display(rho_pool.xs('t-val', level=1).sort_values(rho_pool.columns[0], ascending=False))"
   ]
  },
  {
   "cell_type": "code",
   "execution_count": null,
   "metadata": {
    "execution": {
     "iopub.status.busy": "2024-09-25T07:11:24.020006Z",
     "iopub.status.idle": "2024-09-25T07:11:24.020372Z",
     "shell.execute_reply": "2024-09-25T07:11:24.020214Z",
     "shell.execute_reply.started": "2024-09-25T07:11:24.020197Z"
    }
   },
   "outputs": [],
   "source": [
    "display(rho_pool.xs('rho', level=1).sort_values(rho_pool.columns[0], ascending=False))"
   ]
  },
  {
   "cell_type": "markdown",
   "metadata": {},
   "source": [
    "> Review the top N tickers among those with the highest correlation values."
   ]
  },
  {
   "cell_type": "code",
   "execution_count": null,
   "metadata": {
    "execution": {
     "iopub.status.busy": "2024-09-25T07:11:24.021675Z",
     "iopub.status.idle": "2024-09-25T07:11:24.022043Z",
     "shell.execute_reply": "2024-09-25T07:11:24.021882Z",
     "shell.execute_reply.started": "2024-09-25T07:11:24.021865Z"
    }
   },
   "outputs": [],
   "source": [
    "rho_time = ade.compu_rho(shft1_Q_log_ids, funda_kpi_log_id, by='ticker', rename_features=ori_cols)\n",
    "rho_time.T.xs('t-val', level=1).sort_values('pos_sales', ascending=False).head()"
   ]
  },
  {
   "cell_type": "markdown",
   "metadata": {},
   "source": [
    "> Review the variables and plot them in a scatter plot."
   ]
  },
  {
   "cell_type": "code",
   "execution_count": null,
   "metadata": {
    "execution": {
     "iopub.status.busy": "2024-09-25T07:11:24.023655Z",
     "iopub.status.idle": "2024-09-25T07:11:24.024018Z",
     "shell.execute_reply": "2024-09-25T07:11:24.023860Z",
     "shell.execute_reply.started": "2024-09-25T07:11:24.023843Z"
    }
   },
   "outputs": [],
   "source": [
    "display(sdh.transform.find_variables(shft1_Q_log_ids))\n",
    "\n",
    "feature = 76 # pos_sales"
   ]
  },
  {
   "cell_type": "code",
   "execution_count": null,
   "metadata": {
    "execution": {
     "iopub.status.busy": "2024-09-25T07:11:24.025473Z",
     "iopub.status.idle": "2024-09-25T07:11:24.025850Z",
     "shell.execute_reply": "2024-09-25T07:11:24.025690Z",
     "shell.execute_reply.started": "2024-09-25T07:11:24.025673Z"
    }
   },
   "outputs": [],
   "source": [
    "top6tickers = rho_time.T.xs('t-val', level=1).sort_values('pos_sales', ascending=False).index[:6]\n",
    "\n",
    "sdh.show_scatter_per_target(\n",
    "    y=funda_kpi_log_id,\n",
    "    x=feature,\n",
    "    targets=top6tickers,\n",
    "    col_num=3,\n",
    "    vname_len_limit=45,\n",
    "    start_date='2016-01-01'\n",
    ")"
   ]
  },
  {
   "cell_type": "markdown",
   "metadata": {},
   "source": [
    "### Step 3.2: Correlation with Stock Price Changes\n",
    "- Having confirmed a strong correlation between financial data and POS Retailer data, the next step is to examine the correlation with stock price changes.\n",
    "\n",
    "> Resample to monthly data."
   ]
  },
  {
   "cell_type": "code",
   "execution_count": null,
   "metadata": {
    "execution": {
     "iopub.status.busy": "2024-09-25T07:11:24.027156Z",
     "iopub.status.idle": "2024-09-25T07:11:24.027518Z",
     "shell.execute_reply": "2024-09-25T07:11:24.027358Z",
     "shell.execute_reply.started": "2024-09-25T07:11:24.027342Z"
    }
   },
   "outputs": [],
   "source": [
    "resample_term = 'M'\n",
    "n_rolling = 2  # 2 months rolling mean\n",
    "\n",
    "pos_sales_and_share = sdh.transform.resample(data_id=data_id_alt, rule=resample_term, func='last', names=[\"pos_sales\", \"share\"]).variable_ids\n",
    "pos_sales_vs_share = sdh.transform.mul(x1field=pos_sales_and_share[0], x2field=pos_sales_and_share[1], name='pos_sales * share').variable_ids[0]\n",
    "alt_M_ids = sdh.transform.sma(n_rolling, fields=pos_sales_and_share+[pos_sales_vs_share]).variable_ids # pos_sales, share, pos_sales * share\n",
    "\n",
    "if USE_MY_MKT:\n",
    "    mkt_M_close_id = sdh.transform.resample('D', 'last', data_id=data_id_mkt, fields='close').fillna(method='ffill').shift(-7).reindex(label=alt_M_ids[0]).variable_ids[-1]\n",
    "else:\n",
    "    mkt_M_close_id = sdh.transform.resample('D', 'last', data_id=data_id_mkt, fields='returns').fillna(0).cumsum().shift(-7).reindex(label=alt_M_ids[0]).variable_ids[-1]"
   ]
  },
  {
   "cell_type": "code",
   "execution_count": null,
   "metadata": {
    "execution": {
     "iopub.status.busy": "2024-09-25T07:11:24.028814Z",
     "iopub.status.idle": "2024-09-25T07:11:24.029588Z",
     "shell.execute_reply": "2024-09-25T07:11:24.029375Z",
     "shell.execute_reply.started": "2024-09-25T07:11:24.029328Z"
    }
   },
   "outputs": [],
   "source": [
    "alt_names = [\"pos_sales\", \"share\", \"pos_sales * share\"]"
   ]
  },
  {
   "cell_type": "markdown",
   "metadata": {},
   "source": [
    "> Visualize the price data and POS data."
   ]
  },
  {
   "cell_type": "code",
   "execution_count": null,
   "metadata": {
    "execution": {
     "iopub.status.busy": "2024-09-25T07:11:24.030967Z",
     "iopub.status.idle": "2024-09-25T07:11:24.031334Z",
     "shell.execute_reply": "2024-09-25T07:11:24.031172Z",
     "shell.execute_reply.started": "2024-09-25T07:11:24.031154Z"
    }
   },
   "outputs": [],
   "source": [
    "sdh.show_line_one_target(\n",
    "    target=sample_target,\n",
    "    y=mkt_M_close_id,\n",
    "    X= alt_M_ids[:4],\n",
    "    col_num=2,\n",
    "    vname_len_limit=40,\n",
    ")"
   ]
  },
  {
   "cell_type": "markdown",
   "metadata": {
    "execution": {
     "iopub.execute_input": "2024-09-05T02:36:19.428237Z",
     "iopub.status.busy": "2024-09-05T02:36:19.427638Z",
     "iopub.status.idle": "2024-09-05T02:36:19.483150Z",
     "shell.execute_reply": "2024-09-05T02:36:19.482047Z",
     "shell.execute_reply.started": "2024-09-05T02:36:19.428206Z"
    }
   },
   "source": [
    "> Observe how the plot of sales data changes by shifting the time series of the data."
   ]
  },
  {
   "cell_type": "code",
   "execution_count": null,
   "metadata": {
    "execution": {
     "iopub.status.busy": "2024-09-25T07:11:24.032283Z",
     "iopub.status.idle": "2024-09-25T07:11:24.032657Z",
     "shell.execute_reply": "2024-09-25T07:11:24.032477Z",
     "shell.execute_reply.started": "2024-09-25T07:11:24.032460Z"
    }
   },
   "outputs": [],
   "source": [
    "shift1_M_ids = sdh.transform.shift(fields=alt_M_ids, periods=1).variable_ids\n",
    "shift2_M_ids = sdh.transform.shift(fields=alt_M_ids, periods=2).variable_ids\n",
    "shift3_M_ids = sdh.transform.shift(fields=alt_M_ids, periods=3).variable_ids\n",
    "shift4_M_ids = sdh.transform.shift(fields=alt_M_ids, periods=4).variable_ids\n",
    "shift5_M_ids = sdh.transform.shift(fields=alt_M_ids, periods=5).variable_ids\n",
    "shift6_M_ids = sdh.transform.shift(fields=alt_M_ids, periods=6).variable_ids\n",
    "shift7_M_ids = sdh.transform.shift(fields=alt_M_ids, periods=7).variable_ids\n",
    "shift8_M_ids = sdh.transform.shift(fields=alt_M_ids, periods=8).variable_ids"
   ]
  },
  {
   "cell_type": "code",
   "execution_count": null,
   "metadata": {
    "execution": {
     "iopub.status.busy": "2024-09-25T07:11:24.034150Z",
     "iopub.status.idle": "2024-09-25T07:11:24.034514Z",
     "shell.execute_reply": "2024-09-25T07:11:24.034355Z",
     "shell.execute_reply.started": "2024-09-25T07:11:24.034338Z"
    }
   },
   "outputs": [],
   "source": [
    "sdh.show_line_one_target(\n",
    "    target=sample_target,\n",
    "    y=mkt_M_close_id,\n",
    "    X= [shift1_M_ids[0], shift3_M_ids[0], shift6_M_ids[0], shift8_M_ids[0]],\n",
    "    col_num=2,\n",
    "    vname_len_limit=45,\n",
    ")"
   ]
  },
  {
   "cell_type": "markdown",
   "metadata": {},
   "source": [
    "> Make `return`"
   ]
  },
  {
   "cell_type": "code",
   "execution_count": 25,
   "metadata": {
    "execution": {
     "iopub.execute_input": "2024-09-24T00:24:45.091984Z",
     "iopub.status.busy": "2024-09-24T00:24:45.091217Z",
     "iopub.status.idle": "2024-09-24T00:24:45.153989Z",
     "shell.execute_reply": "2024-09-24T00:24:45.152907Z",
     "shell.execute_reply.started": "2024-09-24T00:24:45.091951Z"
    }
   },
   "outputs": [],
   "source": [
    "if USE_MY_MKT:\n",
    "    close_return = sdh.transform.dropna(fields=mkt_M_close_id).log_diff(1).variable_ids[-1]\n",
    "else:\n",
    "    close_return = sdh.transform.dropna(fields=mkt_M_close_id).diff(1).variable_ids[-1]"
   ]
  },
  {
   "cell_type": "markdown",
   "metadata": {},
   "source": [
    "> Perform correlation calculations by applying a logarithmic transformation to the features."
   ]
  },
  {
   "cell_type": "code",
   "execution_count": 26,
   "metadata": {
    "execution": {
     "iopub.execute_input": "2024-09-24T00:24:45.155952Z",
     "iopub.status.busy": "2024-09-24T00:24:45.155622Z",
     "iopub.status.idle": "2024-09-24T00:24:45.285096Z",
     "shell.execute_reply": "2024-09-24T00:24:45.284019Z",
     "shell.execute_reply.started": "2024-09-24T00:24:45.155922Z"
    }
   },
   "outputs": [],
   "source": [
    "\n",
    "n_diff = 12  # 12 months (1 year) difference\n",
    "log_shift0_M_ids = sdh.transform.log_diff(fields=alt_M_ids, periods=n_diff).variable_ids\n",
    "log_shift1_M_ids = sdh.transform.log_diff(fields=alt_M_ids, periods=n_diff).shift(periods=1).variable_ids\n",
    "log_shift2_M_ids = sdh.transform.log_diff(fields=alt_M_ids, periods=n_diff).shift(periods=2).variable_ids\n",
    "log_shift3_M_ids = sdh.transform.log_diff(fields=alt_M_ids, periods=n_diff).shift(periods=3).variable_ids\n",
    "log_shift4_M_ids = sdh.transform.log_diff(fields=alt_M_ids, periods=n_diff).shift(periods=4).variable_ids\n",
    "log_shift5_M_ids = sdh.transform.log_diff(fields=alt_M_ids, periods=n_diff).shift(periods=5).variable_ids\n",
    "log_shift6_M_ids = sdh.transform.log_diff(fields=alt_M_ids, periods=n_diff).shift(periods=6).variable_ids\n",
    "log_shift7_M_ids = sdh.transform.log_diff(fields=alt_M_ids, periods=n_diff).shift(periods=7).variable_ids\n",
    "log_shift8_M_ids = sdh.transform.log_diff(fields=alt_M_ids, periods=n_diff).shift(periods=8).variable_ids"
   ]
  },
  {
   "cell_type": "code",
   "execution_count": 27,
   "metadata": {
    "execution": {
     "iopub.execute_input": "2024-09-24T00:24:45.286710Z",
     "iopub.status.busy": "2024-09-24T00:24:45.286386Z",
     "iopub.status.idle": "2024-09-24T00:24:49.098701Z",
     "shell.execute_reply": "2024-09-24T00:24:49.097659Z",
     "shell.execute_reply.started": "2024-09-24T00:24:45.286679Z"
    }
   },
   "outputs": [
    {
     "data": {
      "text/html": [
       "<div>\n",
       "<style scoped>\n",
       "    .dataframe tbody tr th:only-of-type {\n",
       "        vertical-align: middle;\n",
       "    }\n",
       "\n",
       "    .dataframe tbody tr th {\n",
       "        vertical-align: top;\n",
       "    }\n",
       "\n",
       "    .dataframe thead th {\n",
       "        text-align: right;\n",
       "    }\n",
       "</style>\n",
       "<table border=\"1\" class=\"dataframe\">\n",
       "  <thead>\n",
       "    <tr style=\"text-align: right;\">\n",
       "      <th></th>\n",
       "      <th>shift=0</th>\n",
       "      <th>shift=1</th>\n",
       "      <th>shift=2</th>\n",
       "      <th>shift=3</th>\n",
       "      <th>shift=4</th>\n",
       "      <th>shift=5</th>\n",
       "      <th>shift=6</th>\n",
       "      <th>shift=7</th>\n",
       "      <th>shift=8</th>\n",
       "    </tr>\n",
       "  </thead>\n",
       "  <tbody>\n",
       "    <tr>\n",
       "      <th>pos_sales</th>\n",
       "      <td>5.897580</td>\n",
       "      <td>5.997684</td>\n",
       "      <td>3.104438</td>\n",
       "      <td>1.625229</td>\n",
       "      <td>0.916090</td>\n",
       "      <td>-0.457297</td>\n",
       "      <td>2.593883</td>\n",
       "      <td>2.561526</td>\n",
       "      <td>1.145431</td>\n",
       "    </tr>\n",
       "    <tr>\n",
       "      <th>pos_sales * share</th>\n",
       "      <td>5.486219</td>\n",
       "      <td>5.851408</td>\n",
       "      <td>2.670647</td>\n",
       "      <td>2.167801</td>\n",
       "      <td>1.632401</td>\n",
       "      <td>0.144418</td>\n",
       "      <td>2.687673</td>\n",
       "      <td>2.380333</td>\n",
       "      <td>1.597516</td>\n",
       "    </tr>\n",
       "    <tr>\n",
       "      <th>share</th>\n",
       "      <td>4.494332</td>\n",
       "      <td>4.633376</td>\n",
       "      <td>1.925355</td>\n",
       "      <td>2.623723</td>\n",
       "      <td>2.411631</td>\n",
       "      <td>0.703422</td>\n",
       "      <td>2.240618</td>\n",
       "      <td>2.133497</td>\n",
       "      <td>2.010485</td>\n",
       "    </tr>\n",
       "  </tbody>\n",
       "</table>\n",
       "</div>"
      ],
      "text/plain": [
       "                    shift=0   shift=1   shift=2   shift=3   shift=4   shift=5  \\\n",
       "pos_sales          5.897580  5.997684  3.104438  1.625229  0.916090 -0.457297   \n",
       "pos_sales * share  5.486219  5.851408  2.670647  2.167801  1.632401  0.144418   \n",
       "share              4.494332  4.633376  1.925355  2.623723  2.411631  0.703422   \n",
       "\n",
       "                    shift=6   shift=7   shift=8  \n",
       "pos_sales          2.593883  2.561526  1.145431  \n",
       "pos_sales * share  2.687673  2.380333  1.597516  \n",
       "share              2.240618  2.133497  2.010485  "
      ]
     },
     "metadata": {},
     "output_type": "display_data"
    }
   ],
   "source": [
    "rho_pool = pd.DataFrame()\n",
    "rho_pool['shift=0'] = ade.compu_rho(log_shift0_M_ids, close_return, rename_features=alt_names)\n",
    "rho_pool['shift=1'] = ade.compu_rho(log_shift1_M_ids, close_return, rename_features=alt_names)\n",
    "rho_pool['shift=2'] = ade.compu_rho(log_shift2_M_ids, close_return, rename_features=alt_names)\n",
    "rho_pool['shift=3'] = ade.compu_rho(log_shift3_M_ids, close_return, rename_features=alt_names)\n",
    "rho_pool['shift=4'] = ade.compu_rho(log_shift4_M_ids, close_return, rename_features=alt_names)\n",
    "rho_pool['shift=5'] = ade.compu_rho(log_shift5_M_ids, close_return, rename_features=alt_names)\n",
    "rho_pool['shift=6'] = ade.compu_rho(log_shift6_M_ids, close_return, rename_features=alt_names)\n",
    "rho_pool['shift=7'] = ade.compu_rho(log_shift7_M_ids, close_return, rename_features=alt_names)\n",
    "rho_pool['shift=8'] = ade.compu_rho(log_shift8_M_ids, close_return, rename_features=alt_names)\n",
    "\n",
    "display(rho_pool.xs('t-val', level=1).sort_values(rho_pool.columns[0], ascending=False))"
   ]
  },
  {
   "cell_type": "markdown",
   "metadata": {},
   "source": [
    "> Review the top N tickers among those with the highest correlation values."
   ]
  },
  {
   "cell_type": "code",
   "execution_count": 28,
   "metadata": {
    "execution": {
     "iopub.execute_input": "2024-09-24T00:24:49.100680Z",
     "iopub.status.busy": "2024-09-24T00:24:49.099914Z",
     "iopub.status.idle": "2024-09-24T00:24:50.041965Z",
     "shell.execute_reply": "2024-09-24T00:24:50.040925Z",
     "shell.execute_reply.started": "2024-09-24T00:24:49.100650Z"
    }
   },
   "outputs": [
    {
     "data": {
      "text/html": [
       "<div>\n",
       "<style scoped>\n",
       "    .dataframe tbody tr th:only-of-type {\n",
       "        vertical-align: middle;\n",
       "    }\n",
       "\n",
       "    .dataframe tbody tr th {\n",
       "        vertical-align: top;\n",
       "    }\n",
       "\n",
       "    .dataframe thead th {\n",
       "        text-align: right;\n",
       "    }\n",
       "</style>\n",
       "<table border=\"1\" class=\"dataframe\">\n",
       "  <thead>\n",
       "    <tr style=\"text-align: right;\">\n",
       "      <th></th>\n",
       "      <th>pos_sales</th>\n",
       "      <th>share</th>\n",
       "      <th>pos_sales * share</th>\n",
       "    </tr>\n",
       "    <tr>\n",
       "      <th>TICKER</th>\n",
       "      <th></th>\n",
       "      <th></th>\n",
       "      <th></th>\n",
       "    </tr>\n",
       "  </thead>\n",
       "  <tbody>\n",
       "    <tr>\n",
       "      <th>3141</th>\n",
       "      <td>3.360731</td>\n",
       "      <td>2.679636</td>\n",
       "      <td>3.219523</td>\n",
       "    </tr>\n",
       "    <tr>\n",
       "      <th>3337</th>\n",
       "      <td>2.694115</td>\n",
       "      <td>1.682863</td>\n",
       "      <td>2.719381</td>\n",
       "    </tr>\n",
       "    <tr>\n",
       "      <th>8255</th>\n",
       "      <td>2.534086</td>\n",
       "      <td>1.913785</td>\n",
       "      <td>2.208970</td>\n",
       "    </tr>\n",
       "    <tr>\n",
       "      <th>3349</th>\n",
       "      <td>2.509172</td>\n",
       "      <td>2.190112</td>\n",
       "      <td>2.430518</td>\n",
       "    </tr>\n",
       "    <tr>\n",
       "      <th>3080</th>\n",
       "      <td>2.350290</td>\n",
       "      <td>2.014246</td>\n",
       "      <td>2.281661</td>\n",
       "    </tr>\n",
       "  </tbody>\n",
       "</table>\n",
       "</div>"
      ],
      "text/plain": [
       "        pos_sales     share  pos_sales * share\n",
       "TICKER                                        \n",
       "3141     3.360731  2.679636           3.219523\n",
       "3337     2.694115  1.682863           2.719381\n",
       "8255     2.534086  1.913785           2.208970\n",
       "3349     2.509172  2.190112           2.430518\n",
       "3080     2.350290  2.014246           2.281661"
      ]
     },
     "execution_count": 28,
     "metadata": {},
     "output_type": "execute_result"
    }
   ],
   "source": [
    "rho_time = ade.compu_rho(log_shift1_M_ids, close_return, by='ticker', rename_features=alt_names)\n",
    "rho_time.T.xs('t-val', level=1).sort_values('pos_sales', ascending=False).head()"
   ]
  },
  {
   "cell_type": "markdown",
   "metadata": {},
   "source": [
    "> Review the variables and plot them in a scatter plot."
   ]
  },
  {
   "cell_type": "code",
   "execution_count": 29,
   "metadata": {
    "execution": {
     "iopub.execute_input": "2024-09-24T00:24:50.043896Z",
     "iopub.status.busy": "2024-09-24T00:24:50.043157Z",
     "iopub.status.idle": "2024-09-24T00:24:50.110714Z",
     "shell.execute_reply": "2024-09-24T00:24:50.109689Z",
     "shell.execute_reply.started": "2024-09-24T00:24:50.043865Z"
    }
   },
   "outputs": [
    {
     "data": {
      "text/html": [
       "<div>\n",
       "<style scoped>\n",
       "    .dataframe tbody tr th:only-of-type {\n",
       "        vertical-align: middle;\n",
       "    }\n",
       "\n",
       "    .dataframe tbody tr th {\n",
       "        vertical-align: top;\n",
       "    }\n",
       "\n",
       "    .dataframe thead th {\n",
       "        text-align: right;\n",
       "    }\n",
       "</style>\n",
       "<table border=\"1\" class=\"dataframe\">\n",
       "  <thead>\n",
       "    <tr style=\"text-align: right;\">\n",
       "      <th></th>\n",
       "      <th>variable_id</th>\n",
       "      <th>data_id</th>\n",
       "      <th>data_source</th>\n",
       "      <th>source</th>\n",
       "      <th>table</th>\n",
       "      <th>field</th>\n",
       "      <th>ticker</th>\n",
       "      <th>reference_id</th>\n",
       "      <th>variable_type</th>\n",
       "      <th>method</th>\n",
       "      <th>params</th>\n",
       "      <th>process_id</th>\n",
       "    </tr>\n",
       "    <tr>\n",
       "      <th>variable_name</th>\n",
       "      <th></th>\n",
       "      <th></th>\n",
       "      <th></th>\n",
       "      <th></th>\n",
       "      <th></th>\n",
       "      <th></th>\n",
       "      <th></th>\n",
       "      <th></th>\n",
       "      <th></th>\n",
       "      <th></th>\n",
       "      <th></th>\n",
       "      <th></th>\n",
       "    </tr>\n",
       "  </thead>\n",
       "  <tbody>\n",
       "    <tr>\n",
       "      <th>pos_sales_SMA(002)_LogDiff(012)_Shifted(001)</th>\n",
       "      <td>179</td>\n",
       "      <td>1</td>\n",
       "      <td>external</td>\n",
       "      <td>sample</td>\n",
       "      <td>Unknown</td>\n",
       "      <td>pos_sales_SMA(002)_LogDiff(012)</td>\n",
       "      <td>None</td>\n",
       "      <td>176</td>\n",
       "      <td>feature</td>\n",
       "      <td>shift</td>\n",
       "      <td>periods=1</td>\n",
       "      <td>90</td>\n",
       "    </tr>\n",
       "    <tr>\n",
       "      <th>share_SMA(002)_LogDiff(012)_Shifted(001)</th>\n",
       "      <td>180</td>\n",
       "      <td>1</td>\n",
       "      <td>external</td>\n",
       "      <td>sample</td>\n",
       "      <td>Unknown</td>\n",
       "      <td>share_SMA(002)_LogDiff(012)</td>\n",
       "      <td>None</td>\n",
       "      <td>177</td>\n",
       "      <td>feature</td>\n",
       "      <td>shift</td>\n",
       "      <td>periods=1</td>\n",
       "      <td>90</td>\n",
       "    </tr>\n",
       "    <tr>\n",
       "      <th>pos_sales * share_SMA(002)_LogDiff(012)_Shifted(001)</th>\n",
       "      <td>181</td>\n",
       "      <td>1</td>\n",
       "      <td>external</td>\n",
       "      <td>sample</td>\n",
       "      <td>Unknown</td>\n",
       "      <td>pos_sales * share_SMA(002)_LogDiff(012)</td>\n",
       "      <td>None</td>\n",
       "      <td>178</td>\n",
       "      <td>feature</td>\n",
       "      <td>shift</td>\n",
       "      <td>periods=1</td>\n",
       "      <td>90</td>\n",
       "    </tr>\n",
       "  </tbody>\n",
       "</table>\n",
       "</div>"
      ],
      "text/plain": [
       "                                                    variable_id  data_id  \\\n",
       "variable_name                                                              \n",
       "pos_sales_SMA(002)_LogDiff(012)_Shifted(001)                179        1   \n",
       "share_SMA(002)_LogDiff(012)_Shifted(001)                    180        1   \n",
       "pos_sales * share_SMA(002)_LogDiff(012)_Shifted...          181        1   \n",
       "\n",
       "                                                   data_source  source  \\\n",
       "variable_name                                                            \n",
       "pos_sales_SMA(002)_LogDiff(012)_Shifted(001)          external  sample   \n",
       "share_SMA(002)_LogDiff(012)_Shifted(001)              external  sample   \n",
       "pos_sales * share_SMA(002)_LogDiff(012)_Shifted...    external  sample   \n",
       "\n",
       "                                                      table  \\\n",
       "variable_name                                                 \n",
       "pos_sales_SMA(002)_LogDiff(012)_Shifted(001)        Unknown   \n",
       "share_SMA(002)_LogDiff(012)_Shifted(001)            Unknown   \n",
       "pos_sales * share_SMA(002)_LogDiff(012)_Shifted...  Unknown   \n",
       "\n",
       "                                                                                      field  \\\n",
       "variable_name                                                                                 \n",
       "pos_sales_SMA(002)_LogDiff(012)_Shifted(001)                pos_sales_SMA(002)_LogDiff(012)   \n",
       "share_SMA(002)_LogDiff(012)_Shifted(001)                        share_SMA(002)_LogDiff(012)   \n",
       "pos_sales * share_SMA(002)_LogDiff(012)_Shifted...  pos_sales * share_SMA(002)_LogDiff(012)   \n",
       "\n",
       "                                                   ticker  reference_id  \\\n",
       "variable_name                                                             \n",
       "pos_sales_SMA(002)_LogDiff(012)_Shifted(001)         None           176   \n",
       "share_SMA(002)_LogDiff(012)_Shifted(001)             None           177   \n",
       "pos_sales * share_SMA(002)_LogDiff(012)_Shifted...   None           178   \n",
       "\n",
       "                                                   variable_type method  \\\n",
       "variable_name                                                             \n",
       "pos_sales_SMA(002)_LogDiff(012)_Shifted(001)             feature  shift   \n",
       "share_SMA(002)_LogDiff(012)_Shifted(001)                 feature  shift   \n",
       "pos_sales * share_SMA(002)_LogDiff(012)_Shifted...       feature  shift   \n",
       "\n",
       "                                                       params  process_id  \n",
       "variable_name                                                              \n",
       "pos_sales_SMA(002)_LogDiff(012)_Shifted(001)        periods=1          90  \n",
       "share_SMA(002)_LogDiff(012)_Shifted(001)            periods=1          90  \n",
       "pos_sales * share_SMA(002)_LogDiff(012)_Shifted...  periods=1          90  "
      ]
     },
     "metadata": {},
     "output_type": "display_data"
    },
    {
     "data": {
      "text/plain": [
       "179"
      ]
     },
     "execution_count": 29,
     "metadata": {},
     "output_type": "execute_result"
    }
   ],
   "source": [
    "display(sdh.transform.find_variables(log_shift1_M_ids))\n",
    "\n",
    "feature = log_shift1_M_ids[0] # pos_sales\n",
    "feature"
   ]
  },
  {
   "cell_type": "code",
   "execution_count": 30,
   "metadata": {
    "execution": {
     "iopub.execute_input": "2024-09-24T00:24:50.112585Z",
     "iopub.status.busy": "2024-09-24T00:24:50.111882Z",
     "iopub.status.idle": "2024-09-24T00:24:51.642888Z",
     "shell.execute_reply": "2024-09-24T00:24:51.641819Z",
     "shell.execute_reply.started": "2024-09-24T00:24:50.112555Z"
    }
   },
   "outputs": [
    {
     "data": {
      "image/png": "[encoded data removed]",
      "text/plain": [
       "<Figure size 2000x1000 with 6 Axes>"
      ]
     },
     "metadata": {},
     "output_type": "display_data"
    }
   ],
   "source": [
    "top6tickers = rho_time.T.xs('t-val', level=1).sort_values('pos_sales', ascending=False).index[:6]\n",
    "\n",
    "sdh.show_scatter_per_target(\n",
    "    y=close_return,\n",
    "    x=feature,\n",
    "    targets=top6tickers,\n",
    "    col_num=3,\n",
    "    vname_len_limit=45\n",
    ")"
   ]
  },
  {
   "cell_type": "markdown",
   "metadata": {
    "execution": {
     "iopub.execute_input": "2024-07-16T04:27:53.633252Z",
     "iopub.status.busy": "2024-07-16T04:27:53.632417Z"
    }
   },
   "source": [
    "## Step 4: Quantile Backtest\n",
    "- Based on the variables created in Step 3, various factors will be generated and calculations will be performed.\n",
    "- Here, the 12-week moving average of the `pos_sales` variable is chosen as the factor value.\n",
    "- In practice, you should vary hyperparameters such as the moving average period and shift intervals to ensure that the backtest results are not significantly affected."
   ]
  },
  {
   "cell_type": "code",
   "execution_count": 31,
   "metadata": {
    "execution": {
     "iopub.execute_input": "2024-09-24T00:24:51.644795Z",
     "iopub.status.busy": "2024-09-24T00:24:51.644491Z",
     "iopub.status.idle": "2024-09-24T00:24:51.697730Z",
     "shell.execute_reply": "2024-09-24T00:24:51.696802Z",
     "shell.execute_reply.started": "2024-09-24T00:24:51.644765Z"
    }
   },
   "outputs": [],
   "source": [
    "# define the parameters for factor choice.\n",
    "nq = 3\n",
    "exe_cost = 0.0005"
   ]
  },
  {
   "cell_type": "code",
   "execution_count": 32,
   "metadata": {
    "execution": {
     "iopub.execute_input": "2024-09-24T00:24:51.699512Z",
     "iopub.status.busy": "2024-09-24T00:24:51.698827Z",
     "iopub.status.idle": "2024-09-24T00:24:52.714249Z",
     "shell.execute_reply": "2024-09-24T00:24:52.713330Z",
     "shell.execute_reply.started": "2024-09-24T00:24:51.699482Z"
    }
   },
   "outputs": [
    {
     "data": {
      "text/html": [
       "<iframe\n",
       "    scrolling=\"no\"\n",
       "    width=\"100%\"\n",
       "    height=\"545px\"\n",
       "    src=\"iframe_figures/figure_32.html\"\n",
       "    frameborder=\"0\"\n",
       "    allowfullscreen\n",
       "></iframe>\n"
      ]
     },
     "metadata": {},
     "output_type": "display_data"
    },
    {
     "data": {
      "text/html": [
       "<div>\n",
       "<style scoped>\n",
       "    .dataframe tbody tr th:only-of-type {\n",
       "        vertical-align: middle;\n",
       "    }\n",
       "\n",
       "    .dataframe tbody tr th {\n",
       "        vertical-align: top;\n",
       "    }\n",
       "\n",
       "    .dataframe thead th {\n",
       "        text-align: right;\n",
       "    }\n",
       "</style>\n",
       "<table border=\"1\" class=\"dataframe\">\n",
       "  <thead>\n",
       "    <tr style=\"text-align: right;\">\n",
       "      <th></th>\n",
       "      <th>cum.Ret</th>\n",
       "      <th>ann.Ret</th>\n",
       "      <th>ann.Std</th>\n",
       "      <th>R/R</th>\n",
       "      <th>Win_R</th>\n",
       "      <th>ann.TurnOver</th>\n",
       "      <th>Max_DD</th>\n",
       "      <th>Calmar Ratio</th>\n",
       "    </tr>\n",
       "  </thead>\n",
       "  <tbody>\n",
       "    <tr>\n",
       "      <th>#1</th>\n",
       "      <td>0.505309</td>\n",
       "      <td>0.038337</td>\n",
       "      <td>0.138880</td>\n",
       "      <td>0.276042</td>\n",
       "      <td>0.601266</td>\n",
       "      <td>3.168044</td>\n",
       "      <td>-0.404024</td>\n",
       "      <td>0.094887</td>\n",
       "    </tr>\n",
       "    <tr>\n",
       "      <th>#2</th>\n",
       "      <td>0.933102</td>\n",
       "      <td>0.070792</td>\n",
       "      <td>0.134510</td>\n",
       "      <td>0.526299</td>\n",
       "      <td>0.620253</td>\n",
       "      <td>4.527181</td>\n",
       "      <td>-0.298223</td>\n",
       "      <td>0.237381</td>\n",
       "    </tr>\n",
       "    <tr>\n",
       "      <th>#3</th>\n",
       "      <td>1.534265</td>\n",
       "      <td>0.116401</td>\n",
       "      <td>0.142290</td>\n",
       "      <td>0.818058</td>\n",
       "      <td>0.620253</td>\n",
       "      <td>3.188157</td>\n",
       "      <td>-0.235088</td>\n",
       "      <td>0.495140</td>\n",
       "    </tr>\n",
       "    <tr>\n",
       "      <th>#3-#1</th>\n",
       "      <td>1.028955</td>\n",
       "      <td>0.078065</td>\n",
       "      <td>0.081136</td>\n",
       "      <td>0.962144</td>\n",
       "      <td>0.620253</td>\n",
       "      <td>6.356201</td>\n",
       "      <td>-0.148345</td>\n",
       "      <td>0.526237</td>\n",
       "    </tr>\n",
       "    <tr>\n",
       "      <th>#3-#1(cost)</th>\n",
       "      <td>0.987329</td>\n",
       "      <td>0.074906</td>\n",
       "      <td>0.081130</td>\n",
       "      <td>0.923293</td>\n",
       "      <td>0.620253</td>\n",
       "      <td>6.356201</td>\n",
       "      <td>-0.152983</td>\n",
       "      <td>0.489640</td>\n",
       "    </tr>\n",
       "  </tbody>\n",
       "</table>\n",
       "</div>"
      ],
      "text/plain": [
       "              cum.Ret   ann.Ret   ann.Std       R/R     Win_R  ann.TurnOver  \\\n",
       "#1           0.505309  0.038337  0.138880  0.276042  0.601266      3.168044   \n",
       "#2           0.933102  0.070792  0.134510  0.526299  0.620253      4.527181   \n",
       "#3           1.534265  0.116401  0.142290  0.818058  0.620253      3.188157   \n",
       "#3-#1        1.028955  0.078065  0.081136  0.962144  0.620253      6.356201   \n",
       "#3-#1(cost)  0.987329  0.074906  0.081130  0.923293  0.620253      6.356201   \n",
       "\n",
       "               Max_DD  Calmar Ratio  \n",
       "#1          -0.404024      0.094887  \n",
       "#2          -0.298223      0.237381  \n",
       "#3          -0.235088      0.495140  \n",
       "#3-#1       -0.148345      0.526237  \n",
       "#3-#1(cost) -0.152983      0.489640  "
      ]
     },
     "metadata": {},
     "output_type": "display_data"
    }
   ],
   "source": [
    "dfqret, stats, dfsigqt = ade.q_backtest(\n",
    "    feature,\n",
    "    close_return,\n",
    "    nq=nq,\n",
    "    exe_cost=exe_cost,\n",
    "    plot=True,\n",
    "    stats=True\n",
    ")"
   ]
  },
  {
   "cell_type": "code",
   "execution_count": null,
   "metadata": {},
   "outputs": [],
   "source": []
  },
  {
   "cell_type": "code",
   "execution_count": null,
   "metadata": {},
   "outputs": [],
   "source": []
  },
  {
   "cell_type": "code",
   "execution_count": null,
   "metadata": {},
   "outputs": [],
   "source": []
  },
  {
   "cell_type": "code",
   "execution_count": null,
   "metadata": {},
   "outputs": [],
   "source": []
  },
  {
   "cell_type": "code",
   "execution_count": null,
   "metadata": {},
   "outputs": [],
   "source": []
  }
 ],
 "metadata": {
  "kernelspec": {
   "display_name": "inv",
   "language": "python",
   "name": "inv"
  },
  "language_info": {
   "codemirror_mode": {
    "name": "ipython",
    "version": 3
   },
   "file_extension": ".py",
   "mimetype": "text/x-python",
   "name": "python",
   "nbconvert_exporter": "python",
   "pygments_lexer": "ipython3",
   "version": "3.9.19"
  },
  "toc": {
   "base_numbering": 1,
   "nav_menu": {},
   "number_sections": true,
   "sideBar": true,
   "skip_h1_title": false,
   "title_cell": "Table of Contents",
   "title_sidebar": "Contents",
   "toc_cell": false,
   "toc_position": {},
   "toc_section_display": true,
   "toc_window_display": true
  },
  "toc-showmarkdowntxt": false
 },
 "nbformat": 4,
 "nbformat_minor": 4
}
