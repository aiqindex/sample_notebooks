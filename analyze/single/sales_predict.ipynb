{
 "cells": [
  {
   "cell_type": "code",
   "execution_count": 1,
   "id": "3e6dba45-6242-411b-94ab-0818bbff72c7",
   "metadata": {},
   "outputs": [
    {
     "name": "stdout",
     "output_type": "stream",
     "text": [
      "Looking in indexes: https://pypi.org/simple, https://ci-nexus.ai-knows.com/repository/pypi-local-aiq/simple\n",
      "Collecting openpyxl\n",
      "  Using cached openpyxl-3.1.5-py2.py3-none-any.whl.metadata (2.5 kB)\n",
      "Collecting et-xmlfile (from openpyxl)\n",
      "  Using cached et_xmlfile-1.1.0-py3-none-any.whl.metadata (1.8 kB)\n",
      "Using cached openpyxl-3.1.5-py2.py3-none-any.whl (250 kB)\n",
      "Using cached et_xmlfile-1.1.0-py3-none-any.whl (4.7 kB)\n",
      "Installing collected packages: et-xmlfile, openpyxl\n",
      "Successfully installed et-xmlfile-1.1.0 openpyxl-3.1.5\n",
      "Looking in indexes: https://pypi.org/simple, https://ci-nexus.ai-knows.com/repository/pypi-local-aiq/simple\n",
      "Collecting japanize-matplotlib\n",
      "  Using cached japanize_matplotlib-1.1.3-py3-none-any.whl\n",
      "Requirement already satisfied: matplotlib in /opt/conda/lib/python3.9/site-packages (from japanize-matplotlib) (3.6.3)\n",
      "Requirement already satisfied: contourpy>=1.0.1 in /opt/conda/lib/python3.9/site-packages (from matplotlib->japanize-matplotlib) (1.3.0)\n",
      "Requirement already satisfied: cycler>=0.10 in /opt/conda/lib/python3.9/site-packages (from matplotlib->japanize-matplotlib) (0.12.1)\n",
      "Requirement already satisfied: fonttools>=4.22.0 in /opt/conda/lib/python3.9/site-packages (from matplotlib->japanize-matplotlib) (4.54.1)\n",
      "Requirement already satisfied: kiwisolver>=1.0.1 in /opt/conda/lib/python3.9/site-packages (from matplotlib->japanize-matplotlib) (1.4.7)\n",
      "Requirement already satisfied: numpy>=1.19 in /opt/conda/lib/python3.9/site-packages (from matplotlib->japanize-matplotlib) (1.23.5)\n",
      "Requirement already satisfied: packaging>=20.0 in /opt/conda/lib/python3.9/site-packages (from matplotlib->japanize-matplotlib) (24.1)\n",
      "Requirement already satisfied: pillow>=6.2.0 in /opt/conda/lib/python3.9/site-packages (from matplotlib->japanize-matplotlib) (10.4.0)\n",
      "Requirement already satisfied: pyparsing>=2.2.1 in /opt/conda/lib/python3.9/site-packages (from matplotlib->japanize-matplotlib) (3.0.9)\n",
      "Requirement already satisfied: python-dateutil>=2.7 in /opt/conda/lib/python3.9/site-packages (from matplotlib->japanize-matplotlib) (2.9.0.post0)\n",
      "Requirement already satisfied: six>=1.5 in /opt/conda/lib/python3.9/site-packages (from python-dateutil>=2.7->matplotlib->japanize-matplotlib) (1.16.0)\n",
      "Installing collected packages: japanize-matplotlib\n",
      "Successfully installed japanize-matplotlib-1.1.3\n"
     ]
    }
   ],
   "source": [
    "!pip install openpyxl\n",
    "!pip install japanize-matplotlib"
   ]
  },
  {
   "cell_type": "code",
   "execution_count": 2,
   "id": "422bd93e-2835-4ef8-b0e1-79b7880169da",
   "metadata": {},
   "outputs": [],
   "source": [
    "import sys\n",
    "import pandas as pd\n",
    "import numpy as np\n",
    "import statsmodels.api as sm\n",
    "import math\n",
    "from tqdm.notebook import tqdm\n",
    "import matplotlib.pyplot as plt\n",
    "import itertools\n",
    "from aiq_strategy_robot.data.data_accessor import DAL\n",
    "from aiq_strategy_robot.data.FACTSET import load_factset_fundamental_estimates\n",
    "if 'sample_notebooks' not in sys.path:\n",
    "    sys.path.append('sample_notebooks')\n",
    "from libs.dataset import aiq_pos_csmr_goods as sc_goods\n",
    "from libs.dataset import common as sc_common\n",
    "from libs.path import DEFAULT_DIR\n",
    "import japanize_matplotlib"
   ]
  },
  {
   "cell_type": "markdown",
   "id": "fb3f52b3-2201-4679-91cb-241381b2f625",
   "metadata": {},
   "source": [
    "# データ読み込み"
   ]
  },
  {
   "cell_type": "code",
   "execution_count": 3,
   "id": "dd072978-7db0-4ec2-9073-c2bed32e26cb",
   "metadata": {},
   "outputs": [],
   "source": [
    "sdh = DAL()\n",
    "\n",
    "# POSデータ\n",
    "data_id_alt = sc_goods.register_csmr_goods_data(sdh, data_dir=DEFAULT_DIR)\n",
    "alt_W_id = sdh.transform.raw(data_id=data_id_alt).variable_ids[0]\n",
    "\n",
    "# sales(YoY)データ\n",
    "data_id_funda = sc_common.register_fundamental(sdh)\n",
    "funda_Q_id = sdh.transform.raw(data_id=data_id_funda).variable_ids[0]"
   ]
  },
  {
   "cell_type": "code",
   "execution_count": 4,
   "id": "f63f8ed9-2441-4384-a48b-51d65752e7b0",
   "metadata": {},
   "outputs": [
    {
     "data": {
      "text/html": [
       "<div>\n",
       "<style scoped>\n",
       "    .dataframe tbody tr th:only-of-type {\n",
       "        vertical-align: middle;\n",
       "    }\n",
       "\n",
       "    .dataframe tbody tr th {\n",
       "        vertical-align: top;\n",
       "    }\n",
       "\n",
       "    .dataframe thead th {\n",
       "        text-align: right;\n",
       "    }\n",
       "</style>\n",
       "<table border=\"1\" class=\"dataframe\">\n",
       "  <thead>\n",
       "    <tr style=\"text-align: right;\">\n",
       "      <th></th>\n",
       "      <th></th>\n",
       "      <th></th>\n",
       "      <th></th>\n",
       "      <th></th>\n",
       "      <th>SYMBOL</th>\n",
       "      <th>FE_ITEM</th>\n",
       "      <th>CURRENCY_x</th>\n",
       "      <th>FE_PER_REL</th>\n",
       "      <th>FE_MEAN</th>\n",
       "      <th>FE_MEDIAN</th>\n",
       "      <th>FE_NUM_EST</th>\n",
       "      <th>FE_LOW</th>\n",
       "      <th>FE_HIGH</th>\n",
       "      <th>FE_STD_DEV</th>\n",
       "      <th>FE_UP</th>\n",
       "      <th>FE_DOWN</th>\n",
       "      <th>FSYM_ID</th>\n",
       "      <th>FSYM_SECURITY_ID</th>\n",
       "      <th>FACTSET_ENTITY_ID</th>\n",
       "      <th>COMPANY_NAME</th>\n",
       "      <th>EXCHANGE_CODE</th>\n",
       "      <th>CURRENCY_y</th>\n",
       "      <th>FIGI</th>\n",
       "      <th>BBG_TICKER</th>\n",
       "    </tr>\n",
       "    <tr>\n",
       "      <th>TICKER</th>\n",
       "      <th>fiscal_period_end_date</th>\n",
       "      <th>consensus_start_date</th>\n",
       "      <th>consensus_end_date</th>\n",
       "      <th>adjustment_date</th>\n",
       "      <th></th>\n",
       "      <th></th>\n",
       "      <th></th>\n",
       "      <th></th>\n",
       "      <th></th>\n",
       "      <th></th>\n",
       "      <th></th>\n",
       "      <th></th>\n",
       "      <th></th>\n",
       "      <th></th>\n",
       "      <th></th>\n",
       "      <th></th>\n",
       "      <th></th>\n",
       "      <th></th>\n",
       "      <th></th>\n",
       "      <th></th>\n",
       "      <th></th>\n",
       "      <th></th>\n",
       "      <th></th>\n",
       "      <th></th>\n",
       "    </tr>\n",
       "  </thead>\n",
       "  <tbody>\n",
       "    <tr>\n",
       "      <th rowspan=\"5\" valign=\"top\">1301</th>\n",
       "      <th>2010-06-30</th>\n",
       "      <th>2010-07-30</th>\n",
       "      <th>2010-10-28</th>\n",
       "      <th>2016-09-28</th>\n",
       "      <td>D0HPMH-R</td>\n",
       "      <td>SALES</td>\n",
       "      <td>JPY</td>\n",
       "      <td>0</td>\n",
       "      <td>37479.0</td>\n",
       "      <td>37479.0</td>\n",
       "      <td>1</td>\n",
       "      <td>37479.0</td>\n",
       "      <td>37479.0</td>\n",
       "      <td>NaN</td>\n",
       "      <td>0</td>\n",
       "      <td>0</td>\n",
       "      <td>D0HPMH-R</td>\n",
       "      <td>V84SN8-S</td>\n",
       "      <td>05J2X0-E</td>\n",
       "      <td>Kyokuyo Co., Ltd.</td>\n",
       "      <td>TKS</td>\n",
       "      <td>JPY</td>\n",
       "      <td>BBG000BH56Z2</td>\n",
       "      <td>1301 JP</td>\n",
       "    </tr>\n",
       "    <tr>\n",
       "      <th>2011-06-30</th>\n",
       "      <th>2011-08-05</th>\n",
       "      <th>2011-11-06</th>\n",
       "      <th>2016-09-28</th>\n",
       "      <td>D0HPMH-R</td>\n",
       "      <td>SALES</td>\n",
       "      <td>JPY</td>\n",
       "      <td>0</td>\n",
       "      <td>42802.0</td>\n",
       "      <td>42802.0</td>\n",
       "      <td>1</td>\n",
       "      <td>42802.0</td>\n",
       "      <td>42802.0</td>\n",
       "      <td>NaN</td>\n",
       "      <td>0</td>\n",
       "      <td>0</td>\n",
       "      <td>D0HPMH-R</td>\n",
       "      <td>V84SN8-S</td>\n",
       "      <td>05J2X0-E</td>\n",
       "      <td>Kyokuyo Co., Ltd.</td>\n",
       "      <td>TKS</td>\n",
       "      <td>JPY</td>\n",
       "      <td>BBG000BH56Z2</td>\n",
       "      <td>1301 JP</td>\n",
       "    </tr>\n",
       "    <tr>\n",
       "      <th>2012-06-30</th>\n",
       "      <th>2012-08-06</th>\n",
       "      <th>2012-11-04</th>\n",
       "      <th>2016-09-28</th>\n",
       "      <td>D0HPMH-R</td>\n",
       "      <td>SALES</td>\n",
       "      <td>JPY</td>\n",
       "      <td>0</td>\n",
       "      <td>43191.0</td>\n",
       "      <td>43191.0</td>\n",
       "      <td>1</td>\n",
       "      <td>43191.0</td>\n",
       "      <td>43191.0</td>\n",
       "      <td>NaN</td>\n",
       "      <td>0</td>\n",
       "      <td>0</td>\n",
       "      <td>D0HPMH-R</td>\n",
       "      <td>V84SN8-S</td>\n",
       "      <td>05J2X0-E</td>\n",
       "      <td>Kyokuyo Co., Ltd.</td>\n",
       "      <td>TKS</td>\n",
       "      <td>JPY</td>\n",
       "      <td>BBG000BH56Z2</td>\n",
       "      <td>1301 JP</td>\n",
       "    </tr>\n",
       "    <tr>\n",
       "      <th>2013-06-30</th>\n",
       "      <th>2013-08-05</th>\n",
       "      <th>2013-11-04</th>\n",
       "      <th>2016-09-28</th>\n",
       "      <td>D0HPMH-R</td>\n",
       "      <td>SALES</td>\n",
       "      <td>JPY</td>\n",
       "      <td>0</td>\n",
       "      <td>44858.0</td>\n",
       "      <td>44858.0</td>\n",
       "      <td>1</td>\n",
       "      <td>44858.0</td>\n",
       "      <td>44858.0</td>\n",
       "      <td>NaN</td>\n",
       "      <td>0</td>\n",
       "      <td>0</td>\n",
       "      <td>D0HPMH-R</td>\n",
       "      <td>V84SN8-S</td>\n",
       "      <td>05J2X0-E</td>\n",
       "      <td>Kyokuyo Co., Ltd.</td>\n",
       "      <td>TKS</td>\n",
       "      <td>JPY</td>\n",
       "      <td>BBG000BH56Z2</td>\n",
       "      <td>1301 JP</td>\n",
       "    </tr>\n",
       "    <tr>\n",
       "      <th>2014-06-30</th>\n",
       "      <th>2014-08-05</th>\n",
       "      <th>2014-11-06</th>\n",
       "      <th>2016-09-28</th>\n",
       "      <td>D0HPMH-R</td>\n",
       "      <td>SALES</td>\n",
       "      <td>JPY</td>\n",
       "      <td>0</td>\n",
       "      <td>48675.0</td>\n",
       "      <td>48675.0</td>\n",
       "      <td>1</td>\n",
       "      <td>48675.0</td>\n",
       "      <td>48675.0</td>\n",
       "      <td>NaN</td>\n",
       "      <td>0</td>\n",
       "      <td>0</td>\n",
       "      <td>D0HPMH-R</td>\n",
       "      <td>V84SN8-S</td>\n",
       "      <td>05J2X0-E</td>\n",
       "      <td>Kyokuyo Co., Ltd.</td>\n",
       "      <td>TKS</td>\n",
       "      <td>JPY</td>\n",
       "      <td>BBG000BH56Z2</td>\n",
       "      <td>1301 JP</td>\n",
       "    </tr>\n",
       "  </tbody>\n",
       "</table>\n",
       "</div>"
      ],
      "text/plain": [
       "                                                                                         SYMBOL  \\\n",
       "TICKER fiscal_period_end_date consensus_start_date consensus_end_date adjustment_date             \n",
       "1301   2010-06-30             2010-07-30           2010-10-28         2016-09-28       D0HPMH-R   \n",
       "       2011-06-30             2011-08-05           2011-11-06         2016-09-28       D0HPMH-R   \n",
       "       2012-06-30             2012-08-06           2012-11-04         2016-09-28       D0HPMH-R   \n",
       "       2013-06-30             2013-08-05           2013-11-04         2016-09-28       D0HPMH-R   \n",
       "       2014-06-30             2014-08-05           2014-11-06         2016-09-28       D0HPMH-R   \n",
       "\n",
       "                                                                                      FE_ITEM  \\\n",
       "TICKER fiscal_period_end_date consensus_start_date consensus_end_date adjustment_date           \n",
       "1301   2010-06-30             2010-07-30           2010-10-28         2016-09-28        SALES   \n",
       "       2011-06-30             2011-08-05           2011-11-06         2016-09-28        SALES   \n",
       "       2012-06-30             2012-08-06           2012-11-04         2016-09-28        SALES   \n",
       "       2013-06-30             2013-08-05           2013-11-04         2016-09-28        SALES   \n",
       "       2014-06-30             2014-08-05           2014-11-06         2016-09-28        SALES   \n",
       "\n",
       "                                                                                      CURRENCY_x  \\\n",
       "TICKER fiscal_period_end_date consensus_start_date consensus_end_date adjustment_date              \n",
       "1301   2010-06-30             2010-07-30           2010-10-28         2016-09-28             JPY   \n",
       "       2011-06-30             2011-08-05           2011-11-06         2016-09-28             JPY   \n",
       "       2012-06-30             2012-08-06           2012-11-04         2016-09-28             JPY   \n",
       "       2013-06-30             2013-08-05           2013-11-04         2016-09-28             JPY   \n",
       "       2014-06-30             2014-08-05           2014-11-06         2016-09-28             JPY   \n",
       "\n",
       "                                                                                       FE_PER_REL  \\\n",
       "TICKER fiscal_period_end_date consensus_start_date consensus_end_date adjustment_date               \n",
       "1301   2010-06-30             2010-07-30           2010-10-28         2016-09-28                0   \n",
       "       2011-06-30             2011-08-05           2011-11-06         2016-09-28                0   \n",
       "       2012-06-30             2012-08-06           2012-11-04         2016-09-28                0   \n",
       "       2013-06-30             2013-08-05           2013-11-04         2016-09-28                0   \n",
       "       2014-06-30             2014-08-05           2014-11-06         2016-09-28                0   \n",
       "\n",
       "                                                                                       FE_MEAN  \\\n",
       "TICKER fiscal_period_end_date consensus_start_date consensus_end_date adjustment_date            \n",
       "1301   2010-06-30             2010-07-30           2010-10-28         2016-09-28       37479.0   \n",
       "       2011-06-30             2011-08-05           2011-11-06         2016-09-28       42802.0   \n",
       "       2012-06-30             2012-08-06           2012-11-04         2016-09-28       43191.0   \n",
       "       2013-06-30             2013-08-05           2013-11-04         2016-09-28       44858.0   \n",
       "       2014-06-30             2014-08-05           2014-11-06         2016-09-28       48675.0   \n",
       "\n",
       "                                                                                       FE_MEDIAN  \\\n",
       "TICKER fiscal_period_end_date consensus_start_date consensus_end_date adjustment_date              \n",
       "1301   2010-06-30             2010-07-30           2010-10-28         2016-09-28         37479.0   \n",
       "       2011-06-30             2011-08-05           2011-11-06         2016-09-28         42802.0   \n",
       "       2012-06-30             2012-08-06           2012-11-04         2016-09-28         43191.0   \n",
       "       2013-06-30             2013-08-05           2013-11-04         2016-09-28         44858.0   \n",
       "       2014-06-30             2014-08-05           2014-11-06         2016-09-28         48675.0   \n",
       "\n",
       "                                                                                       FE_NUM_EST  \\\n",
       "TICKER fiscal_period_end_date consensus_start_date consensus_end_date adjustment_date               \n",
       "1301   2010-06-30             2010-07-30           2010-10-28         2016-09-28                1   \n",
       "       2011-06-30             2011-08-05           2011-11-06         2016-09-28                1   \n",
       "       2012-06-30             2012-08-06           2012-11-04         2016-09-28                1   \n",
       "       2013-06-30             2013-08-05           2013-11-04         2016-09-28                1   \n",
       "       2014-06-30             2014-08-05           2014-11-06         2016-09-28                1   \n",
       "\n",
       "                                                                                        FE_LOW  \\\n",
       "TICKER fiscal_period_end_date consensus_start_date consensus_end_date adjustment_date            \n",
       "1301   2010-06-30             2010-07-30           2010-10-28         2016-09-28       37479.0   \n",
       "       2011-06-30             2011-08-05           2011-11-06         2016-09-28       42802.0   \n",
       "       2012-06-30             2012-08-06           2012-11-04         2016-09-28       43191.0   \n",
       "       2013-06-30             2013-08-05           2013-11-04         2016-09-28       44858.0   \n",
       "       2014-06-30             2014-08-05           2014-11-06         2016-09-28       48675.0   \n",
       "\n",
       "                                                                                       FE_HIGH  \\\n",
       "TICKER fiscal_period_end_date consensus_start_date consensus_end_date adjustment_date            \n",
       "1301   2010-06-30             2010-07-30           2010-10-28         2016-09-28       37479.0   \n",
       "       2011-06-30             2011-08-05           2011-11-06         2016-09-28       42802.0   \n",
       "       2012-06-30             2012-08-06           2012-11-04         2016-09-28       43191.0   \n",
       "       2013-06-30             2013-08-05           2013-11-04         2016-09-28       44858.0   \n",
       "       2014-06-30             2014-08-05           2014-11-06         2016-09-28       48675.0   \n",
       "\n",
       "                                                                                       FE_STD_DEV  \\\n",
       "TICKER fiscal_period_end_date consensus_start_date consensus_end_date adjustment_date               \n",
       "1301   2010-06-30             2010-07-30           2010-10-28         2016-09-28              NaN   \n",
       "       2011-06-30             2011-08-05           2011-11-06         2016-09-28              NaN   \n",
       "       2012-06-30             2012-08-06           2012-11-04         2016-09-28              NaN   \n",
       "       2013-06-30             2013-08-05           2013-11-04         2016-09-28              NaN   \n",
       "       2014-06-30             2014-08-05           2014-11-06         2016-09-28              NaN   \n",
       "\n",
       "                                                                                       FE_UP  \\\n",
       "TICKER fiscal_period_end_date consensus_start_date consensus_end_date adjustment_date          \n",
       "1301   2010-06-30             2010-07-30           2010-10-28         2016-09-28           0   \n",
       "       2011-06-30             2011-08-05           2011-11-06         2016-09-28           0   \n",
       "       2012-06-30             2012-08-06           2012-11-04         2016-09-28           0   \n",
       "       2013-06-30             2013-08-05           2013-11-04         2016-09-28           0   \n",
       "       2014-06-30             2014-08-05           2014-11-06         2016-09-28           0   \n",
       "\n",
       "                                                                                       FE_DOWN  \\\n",
       "TICKER fiscal_period_end_date consensus_start_date consensus_end_date adjustment_date            \n",
       "1301   2010-06-30             2010-07-30           2010-10-28         2016-09-28             0   \n",
       "       2011-06-30             2011-08-05           2011-11-06         2016-09-28             0   \n",
       "       2012-06-30             2012-08-06           2012-11-04         2016-09-28             0   \n",
       "       2013-06-30             2013-08-05           2013-11-04         2016-09-28             0   \n",
       "       2014-06-30             2014-08-05           2014-11-06         2016-09-28             0   \n",
       "\n",
       "                                                                                        FSYM_ID  \\\n",
       "TICKER fiscal_period_end_date consensus_start_date consensus_end_date adjustment_date             \n",
       "1301   2010-06-30             2010-07-30           2010-10-28         2016-09-28       D0HPMH-R   \n",
       "       2011-06-30             2011-08-05           2011-11-06         2016-09-28       D0HPMH-R   \n",
       "       2012-06-30             2012-08-06           2012-11-04         2016-09-28       D0HPMH-R   \n",
       "       2013-06-30             2013-08-05           2013-11-04         2016-09-28       D0HPMH-R   \n",
       "       2014-06-30             2014-08-05           2014-11-06         2016-09-28       D0HPMH-R   \n",
       "\n",
       "                                                                                      FSYM_SECURITY_ID  \\\n",
       "TICKER fiscal_period_end_date consensus_start_date consensus_end_date adjustment_date                    \n",
       "1301   2010-06-30             2010-07-30           2010-10-28         2016-09-28              V84SN8-S   \n",
       "       2011-06-30             2011-08-05           2011-11-06         2016-09-28              V84SN8-S   \n",
       "       2012-06-30             2012-08-06           2012-11-04         2016-09-28              V84SN8-S   \n",
       "       2013-06-30             2013-08-05           2013-11-04         2016-09-28              V84SN8-S   \n",
       "       2014-06-30             2014-08-05           2014-11-06         2016-09-28              V84SN8-S   \n",
       "\n",
       "                                                                                      FACTSET_ENTITY_ID  \\\n",
       "TICKER fiscal_period_end_date consensus_start_date consensus_end_date adjustment_date                     \n",
       "1301   2010-06-30             2010-07-30           2010-10-28         2016-09-28               05J2X0-E   \n",
       "       2011-06-30             2011-08-05           2011-11-06         2016-09-28               05J2X0-E   \n",
       "       2012-06-30             2012-08-06           2012-11-04         2016-09-28               05J2X0-E   \n",
       "       2013-06-30             2013-08-05           2013-11-04         2016-09-28               05J2X0-E   \n",
       "       2014-06-30             2014-08-05           2014-11-06         2016-09-28               05J2X0-E   \n",
       "\n",
       "                                                                                            COMPANY_NAME  \\\n",
       "TICKER fiscal_period_end_date consensus_start_date consensus_end_date adjustment_date                      \n",
       "1301   2010-06-30             2010-07-30           2010-10-28         2016-09-28       Kyokuyo Co., Ltd.   \n",
       "       2011-06-30             2011-08-05           2011-11-06         2016-09-28       Kyokuyo Co., Ltd.   \n",
       "       2012-06-30             2012-08-06           2012-11-04         2016-09-28       Kyokuyo Co., Ltd.   \n",
       "       2013-06-30             2013-08-05           2013-11-04         2016-09-28       Kyokuyo Co., Ltd.   \n",
       "       2014-06-30             2014-08-05           2014-11-06         2016-09-28       Kyokuyo Co., Ltd.   \n",
       "\n",
       "                                                                                      EXCHANGE_CODE  \\\n",
       "TICKER fiscal_period_end_date consensus_start_date consensus_end_date adjustment_date                 \n",
       "1301   2010-06-30             2010-07-30           2010-10-28         2016-09-28                TKS   \n",
       "       2011-06-30             2011-08-05           2011-11-06         2016-09-28                TKS   \n",
       "       2012-06-30             2012-08-06           2012-11-04         2016-09-28                TKS   \n",
       "       2013-06-30             2013-08-05           2013-11-04         2016-09-28                TKS   \n",
       "       2014-06-30             2014-08-05           2014-11-06         2016-09-28                TKS   \n",
       "\n",
       "                                                                                      CURRENCY_y  \\\n",
       "TICKER fiscal_period_end_date consensus_start_date consensus_end_date adjustment_date              \n",
       "1301   2010-06-30             2010-07-30           2010-10-28         2016-09-28             JPY   \n",
       "       2011-06-30             2011-08-05           2011-11-06         2016-09-28             JPY   \n",
       "       2012-06-30             2012-08-06           2012-11-04         2016-09-28             JPY   \n",
       "       2013-06-30             2013-08-05           2013-11-04         2016-09-28             JPY   \n",
       "       2014-06-30             2014-08-05           2014-11-06         2016-09-28             JPY   \n",
       "\n",
       "                                                                                               FIGI  \\\n",
       "TICKER fiscal_period_end_date consensus_start_date consensus_end_date adjustment_date                 \n",
       "1301   2010-06-30             2010-07-30           2010-10-28         2016-09-28       BBG000BH56Z2   \n",
       "       2011-06-30             2011-08-05           2011-11-06         2016-09-28       BBG000BH56Z2   \n",
       "       2012-06-30             2012-08-06           2012-11-04         2016-09-28       BBG000BH56Z2   \n",
       "       2013-06-30             2013-08-05           2013-11-04         2016-09-28       BBG000BH56Z2   \n",
       "       2014-06-30             2014-08-05           2014-11-06         2016-09-28       BBG000BH56Z2   \n",
       "\n",
       "                                                                                      BBG_TICKER  \n",
       "TICKER fiscal_period_end_date consensus_start_date consensus_end_date adjustment_date             \n",
       "1301   2010-06-30             2010-07-30           2010-10-28         2016-09-28         1301 JP  \n",
       "       2011-06-30             2011-08-05           2011-11-06         2016-09-28         1301 JP  \n",
       "       2012-06-30             2012-08-06           2012-11-04         2016-09-28         1301 JP  \n",
       "       2013-06-30             2013-08-05           2013-11-04         2016-09-28         1301 JP  \n",
       "       2014-06-30             2014-08-05           2014-11-06         2016-09-28         1301 JP  "
      ]
     },
     "execution_count": 4,
     "metadata": {},
     "output_type": "execute_result"
    }
   ],
   "source": [
    "# コンセンサス予想\n",
    "## 締日時点のコンセンサス予想を使用\n",
    "h1 = sdh.load('FACTSET', data_type='symbol_lookup',\n",
    "              ticker=list(map(lambda x: f\"{x}-JP\", sdh.extract_definition.loc[data_id_alt, 'tickers'])),\n",
    "              currency_code='JPY', exchange_code='TKS', pick_only_primary=True)\n",
    "comp = h1.retrieve(transformed=False)\n",
    "h2 = load_factset_fundamental_estimates(h1, symbols=list(comp['FSYM_ID']),\n",
    "                                        package=\"BASIC\", fields=\"SALES\", freq=3)\n",
    "consensus = h2.retrieve()\n",
    "consensus = consensus.merge(comp, how='left', left_on='SYMBOL', right_on='FSYM_ID')\n",
    "consensus['TICKER'] = consensus['TICKER'].map(lambda x: x.split('-')[0])\n",
    "consensus = consensus.set_index(['TICKER', 'fiscal_period_end_date', 'consensus_start_date', 'consensus_end_date', 'adjustment_date']).sort_index()\n",
    "consensus = consensus[consensus['FE_MEDIAN'] > 0]\n",
    "cons = consensus[consensus.index.get_level_values('consensus_start_date') <= consensus.index.get_level_values('fiscal_period_end_date')].groupby(\n",
    "    ['TICKER', 'fiscal_period_end_date']).tail(1)[['FE_MEDIAN']].reset_index(['consensus_start_date', 'consensus_end_date', 'adjustment_date'])\n",
    "\n",
    "consensus.head()"
   ]
  },
  {
   "cell_type": "code",
   "execution_count": 5,
   "id": "39a34449-e6f6-46ca-9c0b-9daff19f4a79",
   "metadata": {},
   "outputs": [
    {
     "data": {
      "text/html": [
       "<div>\n",
       "<style scoped>\n",
       "    .dataframe tbody tr th:only-of-type {\n",
       "        vertical-align: middle;\n",
       "    }\n",
       "\n",
       "    .dataframe tbody tr th {\n",
       "        vertical-align: top;\n",
       "    }\n",
       "\n",
       "    .dataframe thead th {\n",
       "        text-align: right;\n",
       "    }\n",
       "</style>\n",
       "<table border=\"1\" class=\"dataframe\">\n",
       "  <thead>\n",
       "    <tr style=\"text-align: right;\">\n",
       "      <th></th>\n",
       "      <th></th>\n",
       "      <th>first_announcement_datetime</th>\n",
       "      <th>sales</th>\n",
       "    </tr>\n",
       "    <tr>\n",
       "      <th>TICKER</th>\n",
       "      <th>fiscal_quarter_last_date</th>\n",
       "      <th></th>\n",
       "      <th></th>\n",
       "    </tr>\n",
       "  </thead>\n",
       "  <tbody>\n",
       "    <tr>\n",
       "      <th rowspan=\"5\" valign=\"top\">1301</th>\n",
       "      <th>2008-03-31</th>\n",
       "      <td>2008-05-13 15:00:00</td>\n",
       "      <td>31689.0</td>\n",
       "    </tr>\n",
       "    <tr>\n",
       "      <th>2008-06-30</th>\n",
       "      <td>2008-07-29 15:00:00</td>\n",
       "      <td>36678.0</td>\n",
       "    </tr>\n",
       "    <tr>\n",
       "      <th>2008-09-30</th>\n",
       "      <td>2008-10-29 15:00:00</td>\n",
       "      <td>36966.0</td>\n",
       "    </tr>\n",
       "    <tr>\n",
       "      <th>2008-12-31</th>\n",
       "      <td>2009-01-29 15:00:00</td>\n",
       "      <td>41851.0</td>\n",
       "    </tr>\n",
       "    <tr>\n",
       "      <th>2009-03-31</th>\n",
       "      <td>2009-05-14 15:00:00</td>\n",
       "      <td>32059.0</td>\n",
       "    </tr>\n",
       "  </tbody>\n",
       "</table>\n",
       "</div>"
      ],
      "text/plain": [
       "                                first_announcement_datetime    sales\n",
       "TICKER fiscal_quarter_last_date                                     \n",
       "1301   2008-03-31                       2008-05-13 15:00:00  31689.0\n",
       "       2008-06-30                       2008-07-29 15:00:00  36678.0\n",
       "       2008-09-30                       2008-10-29 15:00:00  36966.0\n",
       "       2008-12-31                       2009-01-29 15:00:00  41851.0\n",
       "       2009-03-31                       2009-05-14 15:00:00  32059.0"
      ]
     },
     "execution_count": 5,
     "metadata": {},
     "output_type": "execute_result"
    }
   ],
   "source": [
    "# 売上(実数値)の実績\n",
    "sales = pd.read_parquet('sales.parquet').sort_index()\n",
    "sales_YoY = sales.groupby('TICKER', group_keys=False)['sales'].apply(lambda x: np.log(x / x.shift(4)))\n",
    "sales.head()"
   ]
  },
  {
   "cell_type": "code",
   "execution_count": 6,
   "id": "ec1ad947-e8bf-4bb5-93a9-e4ecff322646",
   "metadata": {},
   "outputs": [
    {
     "data": {
      "text/html": [
       "<div>\n",
       "<style scoped>\n",
       "    .dataframe tbody tr th:only-of-type {\n",
       "        vertical-align: middle;\n",
       "    }\n",
       "\n",
       "    .dataframe tbody tr th {\n",
       "        vertical-align: top;\n",
       "    }\n",
       "\n",
       "    .dataframe thead th {\n",
       "        text-align: right;\n",
       "    }\n",
       "</style>\n",
       "<table border=\"1\" class=\"dataframe\">\n",
       "  <thead>\n",
       "    <tr style=\"text-align: right;\">\n",
       "      <th></th>\n",
       "      <th></th>\n",
       "      <th>count</th>\n",
       "      <th>mean</th>\n",
       "      <th>std</th>\n",
       "      <th>median</th>\n",
       "    </tr>\n",
       "    <tr>\n",
       "      <th>seccode</th>\n",
       "      <th>datetime</th>\n",
       "      <th></th>\n",
       "      <th></th>\n",
       "      <th></th>\n",
       "      <th></th>\n",
       "    </tr>\n",
       "  </thead>\n",
       "  <tbody>\n",
       "    <tr>\n",
       "      <th rowspan=\"5\" valign=\"top\">1301</th>\n",
       "      <th>2018-06-30</th>\n",
       "      <td>6</td>\n",
       "      <td>0.042412</td>\n",
       "      <td>0.005532</td>\n",
       "      <td>0.042914</td>\n",
       "    </tr>\n",
       "    <tr>\n",
       "      <th>2018-09-30</th>\n",
       "      <td>7</td>\n",
       "      <td>0.042328</td>\n",
       "      <td>0.005055</td>\n",
       "      <td>0.041819</td>\n",
       "    </tr>\n",
       "    <tr>\n",
       "      <th>2018-12-31</th>\n",
       "      <td>8</td>\n",
       "      <td>0.041800</td>\n",
       "      <td>0.004912</td>\n",
       "      <td>0.041302</td>\n",
       "    </tr>\n",
       "    <tr>\n",
       "      <th>2019-03-31</th>\n",
       "      <td>9</td>\n",
       "      <td>0.042866</td>\n",
       "      <td>0.005598</td>\n",
       "      <td>0.041819</td>\n",
       "    </tr>\n",
       "    <tr>\n",
       "      <th>2019-06-30</th>\n",
       "      <td>10</td>\n",
       "      <td>0.043762</td>\n",
       "      <td>0.005990</td>\n",
       "      <td>0.043431</td>\n",
       "    </tr>\n",
       "  </tbody>\n",
       "</table>\n",
       "</div>"
      ],
      "text/plain": [
       "                    count      mean       std    median\n",
       "seccode datetime                                       \n",
       "1301    2018-06-30      6  0.042412  0.005532  0.042914\n",
       "        2018-09-30      7  0.042328  0.005055  0.041819\n",
       "        2018-12-31      8  0.041800  0.004912  0.041302\n",
       "        2019-03-31      9  0.042866  0.005598  0.041819\n",
       "        2019-06-30     10  0.043762  0.005990  0.043431"
      ]
     },
     "execution_count": 6,
     "metadata": {},
     "output_type": "execute_result"
    }
   ],
   "source": [
    "# POSのシェア率(時系列)\n",
    "share_ts = pd.read_excel('20241003_pos_csmr_goods_plus_sales_share_ts.xlsx')\n",
    "share_ts['seccode'] = share_ts['seccode'].map(str)\n",
    "share_ts['datetime'] = pd.to_datetime(share_ts['datetime'])\n",
    "share_ts = share_ts.set_index(['seccode', 'datetime']).sort_index()\n",
    "share_ts.head()"
   ]
  },
  {
   "cell_type": "code",
   "execution_count": null,
   "id": "5b78585b-4691-4cbd-aa4d-c282a66a34d7",
   "metadata": {},
   "outputs": [],
   "source": []
  },
  {
   "cell_type": "markdown",
   "id": "1eb6c956-710f-4aa7-8288-fea0f2934fe3",
   "metadata": {},
   "source": [
    "# 最適な前処理パラメータの探索"
   ]
  },
  {
   "cell_type": "code",
   "execution_count": 7,
   "id": "f463c616-b155-440b-8f99-3f09c9a1944f",
   "metadata": {},
   "outputs": [],
   "source": [
    "lags = [-3, -2, -1, 0]\n",
    "diffs = [True, False]"
   ]
  },
  {
   "cell_type": "code",
   "execution_count": 8,
   "id": "3cdc8d75-88b5-4387-bb1c-406ebc276fdf",
   "metadata": {},
   "outputs": [
    {
     "data": {
      "application/vnd.jupyter.widget-view+json": {
       "model_id": "a33902448ab048c7b3a216caae8d7ead",
       "version_major": 2,
       "version_minor": 0
      },
      "text/plain": [
       "  0%|          | 0/8 [00:00<?, ?it/s]"
      ]
     },
     "metadata": {},
     "output_type": "display_data"
    },
    {
     "data": {
      "application/vnd.jupyter.widget-view+json": {
       "model_id": "",
       "version_major": 2,
       "version_minor": 0
      },
      "text/plain": [
       "  0%|          | 0/288 [00:00<?, ?it/s]"
      ]
     },
     "metadata": {},
     "output_type": "display_data"
    },
    {
     "data": {
      "application/vnd.jupyter.widget-view+json": {
       "model_id": "",
       "version_major": 2,
       "version_minor": 0
      },
      "text/plain": [
       "  0%|          | 0/291 [00:00<?, ?it/s]"
      ]
     },
     "metadata": {},
     "output_type": "display_data"
    },
    {
     "data": {
      "application/vnd.jupyter.widget-view+json": {
       "model_id": "",
       "version_major": 2,
       "version_minor": 0
      },
      "text/plain": [
       "  0%|          | 0/288 [00:00<?, ?it/s]"
      ]
     },
     "metadata": {},
     "output_type": "display_data"
    },
    {
     "data": {
      "application/vnd.jupyter.widget-view+json": {
       "model_id": "",
       "version_major": 2,
       "version_minor": 0
      },
      "text/plain": [
       "  0%|          | 0/292 [00:00<?, ?it/s]"
      ]
     },
     "metadata": {},
     "output_type": "display_data"
    },
    {
     "data": {
      "application/vnd.jupyter.widget-view+json": {
       "model_id": "",
       "version_major": 2,
       "version_minor": 0
      },
      "text/plain": [
       "  0%|          | 0/289 [00:00<?, ?it/s]"
      ]
     },
     "metadata": {},
     "output_type": "display_data"
    },
    {
     "data": {
      "application/vnd.jupyter.widget-view+json": {
       "model_id": "",
       "version_major": 2,
       "version_minor": 0
      },
      "text/plain": [
       "  0%|          | 0/292 [00:00<?, ?it/s]"
      ]
     },
     "metadata": {},
     "output_type": "display_data"
    },
    {
     "data": {
      "application/vnd.jupyter.widget-view+json": {
       "model_id": "",
       "version_major": 2,
       "version_minor": 0
      },
      "text/plain": [
       "  0%|          | 0/289 [00:00<?, ?it/s]"
      ]
     },
     "metadata": {},
     "output_type": "display_data"
    },
    {
     "data": {
      "application/vnd.jupyter.widget-view+json": {
       "model_id": "",
       "version_major": 2,
       "version_minor": 0
      },
      "text/plain": [
       "  0%|          | 0/292 [00:00<?, ?it/s]"
      ]
     },
     "metadata": {},
     "output_type": "display_data"
    }
   ],
   "source": [
    "correlations = {}\n",
    "pos_data = {}\n",
    "for lag, diff in tqdm(itertools.product(lags, diffs), total=len(lags)*len(diffs)):\n",
    "    alt_shift_id = alt_W_id\n",
    "    if lag != 0:\n",
    "        alt_shift_id = sdh.transform.shift(fields=alt_shift_id, periods=lag).variable_ids[0]\n",
    "    alt_Q_shift_id = sdh.transform.resample_by(fields=alt_shift_id, label=funda_Q_id, func='mean').variable_ids[0]\n",
    "    alt_id = sdh.transform.log_diff(fields=alt_Q_shift_id, periods=4).variable_ids\n",
    "    sales_id = funda_Q_id\n",
    "    if diff:\n",
    "        alt_id = sdh.transform.diff(fields=alt_id, periods=1).variable_ids\n",
    "        sales_id = sdh.transform.diff(fields=sales_id, periods=1).variable_ids\n",
    "    data = pd.concat({\n",
    "        'y': sdh.get_variables(sales_id).iloc[:, 0], \n",
    "        'X':sdh.get_variables(alt_id).iloc[:, 0]}, axis=1).dropna()\n",
    "    pos_data[lag, diff] = data\n",
    "    for ticker, _ in tqdm(data.groupby('TICKER'), leave=False):\n",
    "        for d in data.xs(ticker).expanding():\n",
    "            if len(d.dropna()) < 10:\n",
    "                continue\n",
    "            mdl = sm.OLS(d['y'], sm.add_constant(d['X'].values), missing=\"drop\").fit()\n",
    "            correlations[ticker, d.index[-1], lag, diff] = { \"t_val\": mdl.tvalues['x1'] }\n",
    "correlations = pd.DataFrame(correlations).T\n",
    "correlations.index.names = ['TICKER', 'datetime', 'lag', 'diff1']\n",
    "pos_data = pd.concat(pos_data)\n",
    "pos_data.index.names = ['lag', 'diff', 'TICKER', 'DATETIME']"
   ]
  },
  {
   "cell_type": "code",
   "execution_count": 9,
   "id": "f4a37fcc-fd15-4dfd-9313-25c0fb850518",
   "metadata": {},
   "outputs": [],
   "source": [
    "best_correlations = correlations.sort_values('t_val').groupby(['TICKER', 'datetime']).tail(1).reset_index(['lag', 'diff1']).sort_index()"
   ]
  },
  {
   "cell_type": "code",
   "execution_count": null,
   "id": "bda4e064-7c6e-46e1-8ce8-91ac8b433993",
   "metadata": {},
   "outputs": [],
   "source": []
  },
  {
   "cell_type": "markdown",
   "id": "04ea1285-eab0-47d3-9c17-3ebf8df3f48b",
   "metadata": {},
   "source": [
    "# コンセンサス存在の銘柄に対する予測\n",
    "コンセンサスとPOSによる線形重回帰"
   ]
  },
  {
   "cell_type": "code",
   "execution_count": 10,
   "id": "d17b7450-d276-4447-8633-99aed4e06c7e",
   "metadata": {},
   "outputs": [
    {
     "data": {
      "application/vnd.jupyter.widget-view+json": {
       "model_id": "b71a08e04b68432aa3a887711a81ee53",
       "version_major": 2,
       "version_minor": 0
      },
      "text/plain": [
       "  0%|          | 0/10882 [00:00<?, ?it/s]"
      ]
     },
     "metadata": {},
     "output_type": "display_data"
    }
   ],
   "source": [
    "prediction_with_consensus = {}\n",
    "for (ticker, until), setting in tqdm(best_correlations.iterrows(), total=len(best_correlations)):\n",
    "    lag, diff1 = setting['lag'], setting['diff1']\n",
    "    d = pos_data.xs(lag).xs(diff1).xs(ticker).loc[:until].copy()\n",
    "    try:\n",
    "        target = pos_data.xs(lag).xs(diff1).xs(ticker).loc[until:].iloc[1]\n",
    "    except:\n",
    "        continue\n",
    "\n",
    "    datetime = target.name\n",
    "    X, y = target[['X', 'y']]\n",
    "    \n",
    "    YoY0 = sales_YoY.xs(ticker).xs(datetime)\n",
    "    YoY1 = pos_data.xs(lag).xs(False).xs(ticker).xs(datetime)['y']\n",
    "    if abs(YoY0 - YoY1) > 1e-4: # 別途用意した売上実績から計算したYoYと乖離がある場合は除外(売上集計の定義が変化?)\n",
    "        continue\n",
    "    \n",
    "    if (ticker, datetime) not in cons.index:\n",
    "        continue\n",
    "\n",
    "    con = cons.xs(ticker)[['FE_MEDIAN']]\n",
    "    con['pre'] = sales.xs(ticker).shift(4)['sales']\n",
    "    con['y'] = np.log(con['FE_MEDIAN'] / con['pre'])\n",
    "    if diff1:\n",
    "        con['y'] = con['y'].diff()\n",
    "    d['con_y'] = con['y']\n",
    "    d = d.dropna()\n",
    "    \n",
    "    if len(d) < 20:\n",
    "        continue\n",
    "\n",
    "    mdl = sm.OLS(d['y'], sm.add_constant(d[['X', 'con_y']].values), missing=\"drop\").fit()\n",
    "    y_predict = mdl.predict([1, X, con.loc[datetime, 'y']])\n",
    "    ys = pos_data.xs(lag).xs(ticker, level='TICKER')['y'].unstack('diff').loc[:datetime].copy()\n",
    "    try:\n",
    "        sales_pre = sales.xs(ticker).loc[:datetime, 'sales'].iloc[-5]\n",
    "        sales_actual = sales.xs(ticker).xs(datetime)['sales'] # np.exp(ys).loc[datetime, False] * sales_pre\n",
    "        sales_extrapolation = np.exp(ys[False].iloc[-2]) * sales_pre # 前期の実績成長率(YoY) * 前年同期の売上\n",
    "    except:\n",
    "        continue\n",
    "    \n",
    "    ys.loc[datetime, diff1] = y_predict\n",
    "    ys.loc[datetime, not diff1] = np.nan\n",
    "    if diff1:\n",
    "        ys.loc[datetime, False] = ys.loc[until, False] + ys.loc[datetime, True]\n",
    "    sales_predict = np.exp(ys).loc[datetime, False] * sales_pre\n",
    "\n",
    "    prediction_with_consensus[ticker, datetime] = {\n",
    "        'actual': sales_actual, \n",
    "        'predict': sales_predict,\n",
    "        \"consensus\": con.loc[datetime, 'FE_MEDIAN'],\n",
    "        \"extrapolation\": sales_extrapolation\n",
    "    }\n",
    "prediction_with_consensus = pd.DataFrame(prediction_with_consensus).T\n",
    "prediction_with_consensus.index.names = ['TICKER', 'datetime']\n",
    "\n",
    "prediction_with_consensus['Predict'] = (prediction_with_consensus['predict'] - prediction_with_consensus['actual']) / prediction_with_consensus['actual']\n",
    "prediction_with_consensus['Consensus'] = (prediction_with_consensus['consensus'] - prediction_with_consensus['actual']) / prediction_with_consensus['actual']\n",
    "prediction_with_consensus['win'] = (prediction_with_consensus['predict'] - prediction_with_consensus['actual']).abs() < (prediction_with_consensus['consensus']  - prediction_with_consensus['actual']).abs()"
   ]
  },
  {
   "cell_type": "code",
   "execution_count": 11,
   "id": "e190c433-9f91-4db7-942a-10d6bd6e794f",
   "metadata": {},
   "outputs": [
    {
     "data": {
      "text/html": [
       "<div>\n",
       "<style scoped>\n",
       "    .dataframe tbody tr th:only-of-type {\n",
       "        vertical-align: middle;\n",
       "    }\n",
       "\n",
       "    .dataframe tbody tr th {\n",
       "        vertical-align: top;\n",
       "    }\n",
       "\n",
       "    .dataframe thead th {\n",
       "        text-align: right;\n",
       "    }\n",
       "</style>\n",
       "<table border=\"1\" class=\"dataframe\">\n",
       "  <thead>\n",
       "    <tr style=\"text-align: right;\">\n",
       "      <th></th>\n",
       "      <th>RMSPE</th>\n",
       "    </tr>\n",
       "  </thead>\n",
       "  <tbody>\n",
       "    <tr>\n",
       "      <th>Predict</th>\n",
       "      <td>0.114754</td>\n",
       "    </tr>\n",
       "    <tr>\n",
       "      <th>Consensus</th>\n",
       "      <td>0.149485</td>\n",
       "    </tr>\n",
       "  </tbody>\n",
       "</table>\n",
       "</div>"
      ],
      "text/plain": [
       "              RMSPE\n",
       "Predict    0.114754\n",
       "Consensus  0.149485"
      ]
     },
     "execution_count": 11,
     "metadata": {},
     "output_type": "execute_result"
    }
   ],
   "source": [
    "prediction_with_consensus['win_rate_until'] = prediction_with_consensus['win'].sort_index().groupby('TICKER', group_keys=False).apply(lambda x: x.expanding().mean().shift(1))\n",
    "pre_win = prediction_with_consensus[prediction_with_consensus['win_rate_until']>0.5].copy()\n",
    "np.sqrt( (pre_win[['Predict', 'Consensus']]**2).mean() ).to_frame('RMSPE')"
   ]
  },
  {
   "cell_type": "code",
   "execution_count": 12,
   "id": "d83ec597-1859-4fdd-9c28-763ed887b390",
   "metadata": {},
   "outputs": [
    {
     "data": {
      "text/plain": [
       "<AxesSubplot: title={'center': '0'}, xlabel='level_2'>"
      ]
     },
     "execution_count": 12,
     "metadata": {},
     "output_type": "execute_result"
    },
    {
     "data": {
      "image/png": "[encoded data removed]",
      "text/plain": [
       "<Figure size 640x480 with 1 Axes>"
      ]
     },
     "metadata": {},
     "output_type": "display_data"
    }
   ],
   "source": [
    "pre_win[['Predict', 'Consensus']].stack().reset_index(level=-1).boxplot(0, by='level_2')"
   ]
  },
  {
   "cell_type": "code",
   "execution_count": 13,
   "id": "fdb6faef-fdd9-4e6e-ab08-287691c39e60",
   "metadata": {},
   "outputs": [
    {
     "data": {
      "text/html": [
       "<div>\n",
       "<style scoped>\n",
       "    .dataframe tbody tr th:only-of-type {\n",
       "        vertical-align: middle;\n",
       "    }\n",
       "\n",
       "    .dataframe tbody tr th {\n",
       "        vertical-align: top;\n",
       "    }\n",
       "\n",
       "    .dataframe thead th {\n",
       "        text-align: right;\n",
       "    }\n",
       "</style>\n",
       "<table border=\"1\" class=\"dataframe\">\n",
       "  <thead>\n",
       "    <tr style=\"text-align: right;\">\n",
       "      <th></th>\n",
       "      <th>direction_is_coincident</th>\n",
       "    </tr>\n",
       "  </thead>\n",
       "  <tbody>\n",
       "    <tr>\n",
       "      <th>True</th>\n",
       "      <td>562</td>\n",
       "    </tr>\n",
       "    <tr>\n",
       "      <th>False</th>\n",
       "      <td>304</td>\n",
       "    </tr>\n",
       "  </tbody>\n",
       "</table>\n",
       "</div>"
      ],
      "text/plain": [
       "       direction_is_coincident\n",
       "True                       562\n",
       "False                      304"
      ]
     },
     "metadata": {},
     "output_type": "display_data"
    },
    {
     "name": "stdout",
     "output_type": "stream",
     "text": [
      "rate = 0.648960739030023\n"
     ]
    }
   ],
   "source": [
    "matrix = ((pre_win['actual'] - pre_win['consensus']).map(np.sign) == (pre_win['predict'] - pre_win['consensus']).map(np.sign)).value_counts()\n",
    "display(matrix.to_frame('direction_is_coincident'))\n",
    "print(f'rate = {matrix[True] / sum(matrix)}')"
   ]
  },
  {
   "cell_type": "code",
   "execution_count": null,
   "id": "c74a8791-2b1a-4497-a520-79a2b56e95cd",
   "metadata": {},
   "outputs": [],
   "source": []
  },
  {
   "cell_type": "code",
   "execution_count": 14,
   "id": "1e208359-d1ea-41b8-a11c-f6b2022a69e0",
   "metadata": {},
   "outputs": [
    {
     "data": {
      "text/plain": [
       "Text(0.5, 1.0, 'コンセンサス予想 : 前年同期より増加\\nPOSによる予想 : 前年同期より減少')"
      ]
     },
     "execution_count": 14,
     "metadata": {},
     "output_type": "execute_result"
    },
    {
     "data": {
      "image/png": "[encoded data removed]",
      "text/plain": [
       "<Figure size 1500x500 with 2 Axes>"
      ]
     },
     "metadata": {},
     "output_type": "display_data"
    }
   ],
   "source": [
    "pre_win['actual_pre'] = sales.sort_index()['sales'].groupby('TICKER', group_keys=False).apply(lambda x: x.shift(4))\n",
    "pre_win['actual_YoY'] = np.log(pre_win['actual']) - np.log(pre_win['actual_pre'])\n",
    "pre_win['predict_YoY'] = np.log(pre_win['predict']) - np.log(pre_win['actual_pre'])\n",
    "pre_win['consensus_YoY'] = np.log(pre_win['consensus']) - np.log(pre_win['actual_pre'])\n",
    "\n",
    "_, axes = plt.subplots(1, 2, figsize=(15,5))\n",
    "pre_win[(pre_win['consensus_YoY'] < 0) & (pre_win['predict_YoY'] > 0) ]['actual_YoY'].map(np.sign).map({1:'前年同期より増加', -1:'前年同期より減少'}).value_counts().sort_index().plot.bar(ax=axes[0], rot=0)\n",
    "axes[0].set_title('コンセンサス予想 : 前年同期より減少\\nPOSによる予想 : 前年同期より増加')\n",
    "pre_win[(pre_win['consensus_YoY'] > 0) & (pre_win['predict_YoY'] < 0) ]['actual_YoY'].map(np.sign).map({1:'前年同期より増加', -1:'前年同期より減少'}).value_counts().sort_index().plot.bar(ax=axes[1], rot=0)\n",
    "axes[1].set_title('コンセンサス予想 : 前年同期より増加\\nPOSによる予想 : 前年同期より減少')"
   ]
  },
  {
   "cell_type": "code",
   "execution_count": null,
   "id": "6e917821-f690-438a-bc91-364acf8cb54e",
   "metadata": {},
   "outputs": [],
   "source": []
  },
  {
   "cell_type": "code",
   "execution_count": 232,
   "id": "d940703b-634a-4114-a420-75e43459949e",
   "metadata": {},
   "outputs": [
    {
     "data": {
      "text/html": [
       "<div>\n",
       "<style scoped>\n",
       "    .dataframe tbody tr th:only-of-type {\n",
       "        vertical-align: middle;\n",
       "    }\n",
       "\n",
       "    .dataframe tbody tr th {\n",
       "        vertical-align: top;\n",
       "    }\n",
       "\n",
       "    .dataframe thead th {\n",
       "        text-align: right;\n",
       "    }\n",
       "</style>\n",
       "<table border=\"1\" class=\"dataframe\">\n",
       "  <thead>\n",
       "    <tr style=\"text-align: right;\">\n",
       "      <th></th>\n",
       "      <th>rate</th>\n",
       "      <th>count</th>\n",
       "    </tr>\n",
       "    <tr>\n",
       "      <th>TICKER</th>\n",
       "      <th></th>\n",
       "      <th></th>\n",
       "    </tr>\n",
       "  </thead>\n",
       "  <tbody>\n",
       "    <tr>\n",
       "      <th>6702</th>\n",
       "      <td>0.475000</td>\n",
       "      <td>40</td>\n",
       "    </tr>\n",
       "    <tr>\n",
       "      <th>3402</th>\n",
       "      <td>0.487805</td>\n",
       "      <td>41</td>\n",
       "    </tr>\n",
       "    <tr>\n",
       "      <th>4901</th>\n",
       "      <td>0.512195</td>\n",
       "      <td>41</td>\n",
       "    </tr>\n",
       "    <tr>\n",
       "      <th>8113</th>\n",
       "      <td>0.525000</td>\n",
       "      <td>40</td>\n",
       "    </tr>\n",
       "    <tr>\n",
       "      <th>4188</th>\n",
       "      <td>0.625000</td>\n",
       "      <td>40</td>\n",
       "    </tr>\n",
       "  </tbody>\n",
       "</table>\n",
       "</div>"
      ],
      "text/plain": [
       "            rate  count\n",
       "TICKER                 \n",
       "6702    0.475000     40\n",
       "3402    0.487805     41\n",
       "4901    0.512195     41\n",
       "8113    0.525000     40\n",
       "4188    0.625000     40"
      ]
     },
     "execution_count": 232,
     "metadata": {},
     "output_type": "execute_result"
    }
   ],
   "source": [
    "examples = pd.concat({'rate': prediction_with_consensus.groupby('TICKER')['win'].mean().sort_values(), 'count': prediction_with_consensus.groupby('TICKER')['win'].size()}, axis=1)\n",
    "examples[examples['count']>=40].sort_values('rate').tail()"
   ]
  },
  {
   "cell_type": "code",
   "execution_count": 233,
   "id": "cbfebfea-1e57-4d35-babb-7ed329f427a3",
   "metadata": {},
   "outputs": [
    {
     "data": {
      "text/plain": [
       "Text(0, 0.5, 'YoY(logdiff)')"
      ]
     },
     "execution_count": 233,
     "metadata": {},
     "output_type": "execute_result"
    },
    {
     "data": {
      "image/png": "[encoded data removed]",
      "text/plain": [
       "<Figure size 1500x500 with 1 Axes>"
      ]
     },
     "metadata": {},
     "output_type": "display_data"
    }
   ],
   "source": [
    "ticker = '4188'\n",
    "sample = prediction_with_consensus.xs(ticker)[['actual', 'predict', 'consensus']].copy()\n",
    "sample['pre'] = sales.xs(ticker).sort_index().shift(4)['sales']\n",
    "sample[['pos', 'y']] = pos_data.xs(0).xs(False).xs(ticker)[['X', 'y']]\n",
    "\n",
    "ax = (np.log(sample['actual']) - np.log(sample['pre'])).plot(color='black', linewidth=3, figsize=(15,5), label='actual')\n",
    "(np.log(sample['predict']) - np.log(sample['pre'])).plot(color='red', ax=ax, label='predict')\n",
    "(np.log(sample['consensus']) - np.log(sample['pre'])).plot(color='blue', ax=ax, label='consensus')\n",
    "# sample['y'].plot(ax=ax, label='y', linestyle=':')\n",
    "# sample['pos'].plot(ax=ax, label='POS', linestyle=':')\n",
    "ax.legend()\n",
    "plt.ylabel('YoY(logdiff)')"
   ]
  },
  {
   "cell_type": "code",
   "execution_count": null,
   "id": "3896b53d-3a1f-4dd9-a5b5-7d2f93d24272",
   "metadata": {},
   "outputs": [],
   "source": []
  },
  {
   "cell_type": "markdown",
   "id": "de2acda2-7ea9-42a8-a00a-7b448bb6b115",
   "metadata": {},
   "source": [
    "# コンセンサス不在の銘柄に対する予測\n",
    "POSによる線形単回帰"
   ]
  },
  {
   "cell_type": "code",
   "execution_count": 15,
   "id": "570346f2-b114-4fff-8f24-cd12b6543cc8",
   "metadata": {},
   "outputs": [
    {
     "data": {
      "application/vnd.jupyter.widget-view+json": {
       "model_id": "4355e15520c84341a0f1f52be47e92d0",
       "version_major": 2,
       "version_minor": 0
      },
      "text/plain": [
       "  0%|          | 0/10882 [00:00<?, ?it/s]"
      ]
     },
     "metadata": {},
     "output_type": "display_data"
    }
   ],
   "source": [
    "prediction_without_consensus = {}\n",
    "for (ticker, until), setting in tqdm(best_correlations.iterrows(), total=len(best_correlations)):\n",
    "    lag, diff1 = setting['lag'], setting['diff1']\n",
    "    d = pos_data.xs(lag).xs(diff1).xs(ticker).loc[:until]\n",
    "    try:\n",
    "        target = pos_data.xs(lag).xs(diff1).xs(ticker).loc[until:].iloc[1]\n",
    "    except:\n",
    "        continue\n",
    "    datetime = target.name\n",
    "    X, y = target[['X', 'y']]\n",
    "\n",
    "    if len(d) < 20 or (ticker, datetime) in cons.index:\n",
    "        continue\n",
    "\n",
    "    mdl = sm.OLS(d['y'], sm.add_constant(d['X'].values), missing=\"drop\").fit()\n",
    "    y_predict = mdl.predict([1, X])\n",
    "\n",
    "    ys = pos_data.xs(lag).xs(ticker, level='TICKER')['y'].unstack('diff').loc[:datetime].copy()\n",
    "    try:\n",
    "        sales_pre = sales.xs(ticker).loc[:datetime, 'sales'].iloc[-5]\n",
    "        sales_actual = sales.xs(ticker).xs(datetime)['sales'] #np.exp(ys).loc[datetime, False] * sales_pre\n",
    "        sales_extrapolation = np.exp(ys[False].iloc[-2]) * sales_pre # 前期の実績成長率(YoY) * 前年同期の売上\n",
    "    except:\n",
    "        continue\n",
    "    \n",
    "    ys.loc[datetime, diff1] = y_predict\n",
    "    ys.loc[datetime, not diff1] = np.nan\n",
    "    if diff1:\n",
    "        ys.loc[datetime, False] = ys.loc[until, False] + ys.loc[datetime, True]\n",
    "    sales_predict = np.exp(ys).loc[datetime, False] * sales_pre\n",
    "    prediction_without_consensus[ticker, datetime] = {\n",
    "        'actual': sales_actual, \n",
    "        'predict': sales_predict,\n",
    "        \"t_val\": mdl.tvalues['x1'],\n",
    "        \"extrapolation\": sales_extrapolation\n",
    "    }\n",
    "prediction_without_consensus = pd.DataFrame(prediction_without_consensus).T\n",
    "prediction_without_consensus.index.names = ['TICKER', 'datetime']\n",
    "prediction_without_consensus['Predict'] = (prediction_without_consensus['predict'] - prediction_without_consensus['actual']) / prediction_without_consensus['actual']\n",
    "prediction_without_consensus['Extrapolation'] = (prediction_without_consensus['extrapolation'] - prediction_without_consensus['actual']) / prediction_without_consensus['actual'] \n",
    "prediction_without_consensus['share'] = share_ts.groupby('seccode', group_keys=False)['mean'].apply(lambda x: x.shift(1)).reindex(prediction_without_consensus.index)\n",
    "prediction_without_consensus['Extrapolation'] = (prediction_without_consensus['extrapolation'] - prediction_without_consensus['actual']) / prediction_without_consensus['actual'] "
   ]
  },
  {
   "cell_type": "code",
   "execution_count": 16,
   "id": "d828a976-2f4e-4b97-a946-28dac446b7fb",
   "metadata": {},
   "outputs": [],
   "source": [
    "good = prediction_without_consensus[(prediction_without_consensus['share']>0.05)&(prediction_without_consensus['t_val']>0)].copy()"
   ]
  },
  {
   "cell_type": "code",
   "execution_count": 17,
   "id": "9d5e9fbb-f0e3-41c0-9480-1c14d7457a2d",
   "metadata": {},
   "outputs": [
    {
     "data": {
      "text/html": [
       "<div>\n",
       "<style scoped>\n",
       "    .dataframe tbody tr th:only-of-type {\n",
       "        vertical-align: middle;\n",
       "    }\n",
       "\n",
       "    .dataframe tbody tr th {\n",
       "        vertical-align: top;\n",
       "    }\n",
       "\n",
       "    .dataframe thead th {\n",
       "        text-align: right;\n",
       "    }\n",
       "</style>\n",
       "<table border=\"1\" class=\"dataframe\">\n",
       "  <thead>\n",
       "    <tr style=\"text-align: right;\">\n",
       "      <th></th>\n",
       "      <th>RMSPE</th>\n",
       "    </tr>\n",
       "  </thead>\n",
       "  <tbody>\n",
       "    <tr>\n",
       "      <th>Predict</th>\n",
       "      <td>0.122392</td>\n",
       "    </tr>\n",
       "    <tr>\n",
       "      <th>Extrapolation</th>\n",
       "      <td>0.143662</td>\n",
       "    </tr>\n",
       "  </tbody>\n",
       "</table>\n",
       "</div>"
      ],
      "text/plain": [
       "                  RMSPE\n",
       "Predict        0.122392\n",
       "Extrapolation  0.143662"
      ]
     },
     "execution_count": 17,
     "metadata": {},
     "output_type": "execute_result"
    }
   ],
   "source": [
    "np.sqrt(((good[['Predict', 'Extrapolation']])**2).mean()).to_frame('RMSPE')"
   ]
  },
  {
   "cell_type": "code",
   "execution_count": null,
   "id": "3604a1b6-0d7c-4d2c-bdf2-88ac2d6478da",
   "metadata": {},
   "outputs": [],
   "source": []
  }
 ],
 "metadata": {
  "kernelspec": {
   "display_name": "inv",
   "language": "python",
   "name": "inv"
  },
  "language_info": {
   "codemirror_mode": {
    "name": "ipython",
    "version": 3
   },
   "file_extension": ".py",
   "mimetype": "text/x-python",
   "name": "python",
   "nbconvert_exporter": "python",
   "pygments_lexer": "ipython3",
   "version": "3.9.19"
  }
 },
 "nbformat": 4,
 "nbformat_minor": 5
}
