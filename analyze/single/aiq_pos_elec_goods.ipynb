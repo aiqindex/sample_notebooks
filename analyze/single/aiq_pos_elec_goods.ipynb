{
 "cells": [
  {
   "attachments": {
    "b8f1ff06-cee2-4b9c-ba2d-e754a1b2263d.png": {
     "image/png": "[encoded data removed]"
    }
   },
   "cell_type": "markdown",
   "id": "3b6cfe7a-802c-49c9-8828-3517b3ff7f37",
   "metadata": {},
   "source": [
    "![スクリーンショット 2024-03-26 11.25.41.png](attachment:b8f1ff06-cee2-4b9c-ba2d-e754a1b2263d.png)\n",
    "\n",
    "[disclaimer](./disclaimer.txt/)"
   ]
  },
  {
   "cell_type": "markdown",
   "id": "83a8bc10-7e45-4f56-80fa-04ff0d705a45",
   "metadata": {},
   "source": [
    "# ALTERNATIVE DATA Evaluation Demo"
   ]
  },
  {
   "cell_type": "markdown",
   "id": "3d970af6-3470-4a62-a83b-1409e02cf05d",
   "metadata": {},
   "source": [
    "## Evaluate aiQ POS ELEC Goods using aiQ Lab Alt Data Evaluation Tool"
   ]
  },
  {
   "cell_type": "code",
   "execution_count": 1,
   "id": "1d994779-704f-4692-9505-63791b740433",
   "metadata": {
    "execution": {
     "iopub.execute_input": "2024-06-26T00:08:08.739179Z",
     "iopub.status.busy": "2024-06-26T00:08:08.738333Z",
     "iopub.status.idle": "2024-06-26T00:08:08.916653Z",
     "shell.execute_reply": "2024-06-26T00:08:08.915460Z",
     "shell.execute_reply.started": "2024-06-26T00:08:08.739143Z"
    }
   },
   "outputs": [],
   "source": [
    "%load_ext autoreload\n",
    "%autoreload 2"
   ]
  },
  {
   "cell_type": "markdown",
   "id": "ce5a993d-bf0a-4825-ba63-06d1a05b0e24",
   "metadata": {},
   "source": [
    "### Step1: Import Library"
   ]
  },
  {
   "cell_type": "code",
   "execution_count": 2,
   "id": "b0635187-fbee-432a-849e-b8768cd73d7e",
   "metadata": {
    "execution": {
     "iopub.execute_input": "2024-06-26T00:08:08.920185Z",
     "iopub.status.busy": "2024-06-26T00:08:08.919196Z",
     "iopub.status.idle": "2024-06-26T00:08:20.708743Z",
     "shell.execute_reply": "2024-06-26T00:08:20.707535Z",
     "shell.execute_reply.started": "2024-06-26T00:08:08.920135Z"
    }
   },
   "outputs": [],
   "source": [
    "import sys\n",
    "import numpy as np\n",
    "import pandas as pd\n",
    "import plotly.io\n",
    "import plotly.express as px\n",
    "\n",
    "for_html = False\n",
    "if for_html == True:\n",
    "    plotly.offline.init_notebook_mode()\n",
    "else:\n",
    "    plotly.io.renderers.default = 'iframe'\n",
    "\n",
    "sys.path.append('../..')\n",
    "\n",
    "from utils.shortcut import single_dataset as sc\n",
    "from aiq_strategy_robot.data.data_accessor import DAL\n",
    "from utils.shortcut.path import DEFAULT_DIR"
   ]
  },
  {
   "cell_type": "code",
   "execution_count": 3,
   "id": "d3216945-09d3-4c36-a2c0-65edaf548363",
   "metadata": {
    "execution": {
     "iopub.execute_input": "2024-06-26T00:08:20.711138Z",
     "iopub.status.busy": "2024-06-26T00:08:20.710211Z",
     "iopub.status.idle": "2024-06-26T00:08:20.829414Z",
     "shell.execute_reply": "2024-06-26T00:08:20.828362Z",
     "shell.execute_reply.started": "2024-06-26T00:08:20.711103Z"
    }
   },
   "outputs": [],
   "source": [
    "import pandas as pd"
   ]
  },
  {
   "cell_type": "code",
   "execution_count": 4,
   "id": "24d15e63-7ae1-4f9f-bafa-cb638e3e1944",
   "metadata": {
    "execution": {
     "iopub.execute_input": "2024-06-26T00:08:20.831304Z",
     "iopub.status.busy": "2024-06-26T00:08:20.831010Z",
     "iopub.status.idle": "2024-06-26T00:08:20.901121Z",
     "shell.execute_reply": "2024-06-26T00:08:20.900039Z",
     "shell.execute_reply.started": "2024-06-26T00:08:20.831274Z"
    }
   },
   "outputs": [],
   "source": [
    "from aiq_strategy_robot.data.FINNHUB import (\n",
    "    load_finnhub_equity_prices,\n",
    "    load_finnhub_dividends,\n",
    "    load_finnhub_stock_splits,\n",
    "    load_finnhub_equity_data,\n",
    "    load_finnhub_symbol_lookup\n",
    ")"
   ]
  },
  {
   "cell_type": "code",
   "execution_count": 5,
   "id": "f61cf979-2682-426c-8a83-349fcc90a38b",
   "metadata": {
    "execution": {
     "iopub.execute_input": "2024-06-26T00:08:20.904466Z",
     "iopub.status.busy": "2024-06-26T00:08:20.903875Z",
     "iopub.status.idle": "2024-06-26T00:08:20.976990Z",
     "shell.execute_reply": "2024-06-26T00:08:20.975849Z",
     "shell.execute_reply.started": "2024-06-26T00:08:20.904434Z"
    },
    "scrolled": true
   },
   "outputs": [],
   "source": [
    "sdh = DAL()"
   ]
  },
  {
   "cell_type": "markdown",
   "id": "dbeadbc3-ee19-49bc-bb2b-e52a72858d12",
   "metadata": {},
   "source": [
    "### Step2: Load Data\n",
    "Retrieve each factor and register it to `handler`.\n",
    "> In this sample, retrieval and registration operations are omitted."
   ]
  },
  {
   "cell_type": "code",
   "execution_count": 6,
   "id": "75435fe1-924e-45ad-baa4-1401d4158def",
   "metadata": {
    "execution": {
     "iopub.execute_input": "2024-06-26T00:08:20.978918Z",
     "iopub.status.busy": "2024-06-26T00:08:20.978583Z",
     "iopub.status.idle": "2024-06-26T00:08:34.464233Z",
     "shell.execute_reply": "2024-06-26T00:08:34.463165Z",
     "shell.execute_reply.started": "2024-06-26T00:08:20.978886Z"
    }
   },
   "outputs": [],
   "source": [
    "sdh.extract.clear()\n",
    "\n",
    "#  Load Alternative Data\n",
    "data_id_alt = sc.register_elec_data(sdh, data_dir=DEFAULT_DIR)\n",
    "\n",
    "#  Load Fundamental Data\n",
    "data_id_funda = sc.register_fundamental_data(sdh)"
   ]
  },
  {
   "cell_type": "markdown",
   "id": "8e144e94-f038-4d0a-80c1-5c0774ce0081",
   "metadata": {},
   "source": [
    "Check coverage ratio"
   ]
  },
  {
   "cell_type": "code",
   "execution_count": 7,
   "id": "4b5fa61c-3105-4734-9cd0-6a5217344e53",
   "metadata": {
    "execution": {
     "iopub.execute_input": "2024-06-26T00:08:34.465807Z",
     "iopub.status.busy": "2024-06-26T00:08:34.465483Z",
     "iopub.status.idle": "2024-06-26T00:08:35.446649Z",
     "shell.execute_reply": "2024-06-26T00:08:35.445595Z",
     "shell.execute_reply.started": "2024-06-26T00:08:34.465746Z"
    }
   },
   "outputs": [],
   "source": [
    "variable = 'pos_sales'\n",
    "lower_bound = 0.9\n",
    "start_date = pd.Timestamp('2020-01-01')\n",
    "end_date = pd.Timestamp('2023-12-31')"
   ]
  },
  {
   "cell_type": "code",
   "execution_count": 8,
   "id": "03e367d6-b560-4968-879b-3d34487d1269",
   "metadata": {
    "execution": {
     "iopub.execute_input": "2024-06-26T00:08:35.448127Z",
     "iopub.status.busy": "2024-06-26T00:08:35.447839Z",
     "iopub.status.idle": "2024-06-26T00:08:35.598041Z",
     "shell.execute_reply": "2024-06-26T00:08:35.597094Z",
     "shell.execute_reply.started": "2024-06-26T00:08:35.448096Z"
    }
   },
   "outputs": [],
   "source": [
    "dfpos = sdh.get_raw_data(data_id_alt)"
   ]
  },
  {
   "cell_type": "code",
   "execution_count": 9,
   "id": "ca5f7861-bf72-4451-8614-18ccb630f34e",
   "metadata": {
    "execution": {
     "iopub.execute_input": "2024-06-26T00:08:35.599912Z",
     "iopub.status.busy": "2024-06-26T00:08:35.599275Z",
     "iopub.status.idle": "2024-06-26T00:08:35.796887Z",
     "shell.execute_reply": "2024-06-26T00:08:35.795889Z",
     "shell.execute_reply.started": "2024-06-26T00:08:35.599879Z"
    }
   },
   "outputs": [
    {
     "name": "stdout",
     "output_type": "stream",
     "text": [
      "Tickers with observations for more than 90.0% of datetime after 2020-01-01 00:00:00.\n",
      "number of dense tickers: 70\n"
     ]
    }
   ],
   "source": [
    "dfcheck = dfpos[[variable]].unstack('ticker').droplevel(0, axis=1)\n",
    "if start_date:\n",
    "    dfcheck = dfcheck.loc[dfcheck.index > start_date]\n",
    "if end_date:\n",
    "    dfcheck = dfcheck.loc[dfcheck.index < end_date]\n",
    "dfcheck.dropna(how='all', axis=1, inplace=True)\n",
    "num_obs = len(dfcheck)\n",
    "dfcount = dfcheck.count()\n",
    "list_dense_tickers = dfcount.loc[dfcount / num_obs > lower_bound].index.tolist()\n",
    "\n",
    "# showing the list of tickers that have more than `lower_bound`\n",
    "print(f'Tickers with observations for more than {lower_bound *  100}% of datetime after {start_date}.')\n",
    "print(f'number of dense tickers: {len(list_dense_tickers)}')"
   ]
  },
  {
   "cell_type": "markdown",
   "id": "6a6e2aa3-a077-4fc3-b851-71a0469604a3",
   "metadata": {},
   "source": [
    "### load stock price from finnhub."
   ]
  },
  {
   "cell_type": "code",
   "execution_count": 10,
   "id": "60881fb0-9c69-49c0-a4b9-cf7eeb1f902b",
   "metadata": {
    "execution": {
     "iopub.execute_input": "2024-06-26T00:08:35.798722Z",
     "iopub.status.busy": "2024-06-26T00:08:35.798020Z",
     "iopub.status.idle": "2024-06-26T00:08:35.953770Z",
     "shell.execute_reply": "2024-06-26T00:08:35.952750Z",
     "shell.execute_reply.started": "2024-06-26T00:08:35.798685Z"
    }
   },
   "outputs": [],
   "source": [
    "target_stock_ticker = sdh.get_raw_data(data_id_alt).index.get_level_values('ticker').unique().to_list()"
   ]
  },
  {
   "cell_type": "code",
   "execution_count": null,
   "id": "78b4cda9-e448-4125-967a-48a0162845ba",
   "metadata": {
    "execution": {
     "iopub.execute_input": "2024-06-26T00:08:35.955589Z",
     "iopub.status.busy": "2024-06-26T00:08:35.954969Z"
    }
   },
   "outputs": [],
   "source": [
    "data_id_mkt = sc.load_finnhub_equity_data_fixed_ticker(sdh, data_dir=DEFAULT_DIR)"
   ]
  },
  {
   "cell_type": "code",
   "execution_count": null,
   "id": "1d24cfe6-9df6-4a67-9ec1-42fde3f3af1d",
   "metadata": {},
   "outputs": [],
   "source": [
    "display(sdh.get_raw_data(data_id_alt).tail())\n",
    "display(sdh.get_raw_data(data_id_funda).tail())\n",
    "display(sdh.get_raw_data(data_id_mkt).tail())"
   ]
  },
  {
   "cell_type": "markdown",
   "id": "9af5fb2f-56e2-40a4-9b6a-4a2eacdaaac9",
   "metadata": {},
   "source": [
    "### Step3: Correlation Analysis"
   ]
  },
  {
   "cell_type": "code",
   "execution_count": null,
   "id": "f9b5106b-abe2-4cd2-9258-f87257cf9292",
   "metadata": {},
   "outputs": [],
   "source": [
    "from aiq_strategy_robot.evaluator import AltDataEvaluator\n",
    "\n",
    "# Initialize AltDataEvaluator\n",
    "ade = AltDataEvaluator(sdh)"
   ]
  },
  {
   "cell_type": "markdown",
   "id": "39b013cd-f2b5-4b84-abf8-d6dbf387d921",
   "metadata": {},
   "source": [
    "##### Visualisation of Alt Data and Fundamental data for any one ticker"
   ]
  },
  {
   "cell_type": "code",
   "execution_count": null,
   "id": "59e2ef1b-8419-47b6-a03a-e7d3f192bc20",
   "metadata": {},
   "outputs": [],
   "source": [
    "sdh.transform.clear()\n",
    "funda_Q_ids = sdh.transform.resample(data_id=data_id_funda, rule='Q', func='last').variable_ids\n",
    "alt_Q_ids = sdh.transform.resample(data_id=data_id_alt, rule='Q', func='mean').variable_ids\\\n",
    "    + sdh.transform\\\n",
    "        .multiply(data_id=data_id_alt, x1field=\"pos_sales\", x2field=\"unit_price\", name=\"sales*uprice\")\\\n",
    "        .resample(rule='Q', func='mean').variable_ids"
   ]
  },
  {
   "cell_type": "code",
   "execution_count": null,
   "id": "c3e0574c-566a-4444-b413-36010135cb3f",
   "metadata": {},
   "outputs": [],
   "source": [
    "features = list(sdh.get_raw_data(data_id_alt).columns) + ['sales*uprice']\n",
    "features"
   ]
  },
  {
   "cell_type": "code",
   "execution_count": null,
   "id": "5e25a50f-9998-4f3b-854f-4c6afd1dd615",
   "metadata": {},
   "outputs": [],
   "source": [
    "sample_target = \"7984-JP\""
   ]
  },
  {
   "cell_type": "code",
   "execution_count": null,
   "id": "02f44b66-9101-4d50-afb0-249613a18fbb",
   "metadata": {},
   "outputs": [],
   "source": [
    "sdh.show_line_one_target(\n",
    "    target=sample_target, #どの ticker のデータを描画するかを決めます\n",
    "    y=funda_Q_ids[0], #y軸に表示するデータを variable_id で指定します\n",
    "    X=alt_Q_ids, #x軸に表示するデータを variable_id の list で指定します（複数のグラフを一気に表示する時に list にします）\n",
    "    col_num=2, #1行にいくつのグラフを表示するかを決めます\n",
    "    vname_len_limit=50, #タイトルにXのvariable_id の変数名が表示されますが、表示を短くするために文字数を指定します\n",
    ")"
   ]
  },
  {
   "cell_type": "markdown",
   "id": "ccf47681-dfa6-448b-91bf-4bb47465603a",
   "metadata": {},
   "source": [
    "##### Visualisation of Alt data shifted in several patterns."
   ]
  },
  {
   "cell_type": "code",
   "execution_count": null,
   "id": "3d5e0f27-b716-46ee-8aae-cd530723a291",
   "metadata": {},
   "outputs": [],
   "source": [
    "# alt_Q_shift_03_ids = sdh.transform.shift(data_id=data_id_alt, periods=3).resample(rule='Q', func='mean').variable_ids\n",
    "# alt_Q_shift_04_ids = sdh.transform.shift(data_id=data_id_alt, periods=4).resample(rule='Q', func='mean').variable_ids\n",
    "# alt_Q_shift_05_ids = sdh.transform.shift(data_id=data_id_alt, periods=5).resample(rule='Q', func='mean').variable_ids\n",
    "# alt_Q_shift_06_ids = sdh.transform.shift(data_id=data_id_alt, periods=6).resample(rule='Q', func='mean').variable_ids\n",
    "# alt_Q_shift_07_ids = sdh.transform.shift(data_id=data_id_alt, periods=7).resample(rule='Q', func='mean').variable_ids\n",
    "# alt_Q_shift_08_ids = sdh.transform.shift(data_id=data_id_alt, periods=8).resample(rule='Q', func='mean').variable_ids\n",
    "# alt_Q_shift_09_ids = sdh.transform.shift(data_id=data_id_alt, periods=9).resample(rule='Q', func='mean').variable_ids\n",
    "# alt_Q_shift_12_ids = sdh.transform.shift(data_id=data_id_alt, periods=12).resample(rule='Q', func='mean').variable_ids\n",
    "\n",
    "# mul_ids = sdh.transform.multiply(data_id=data_id_alt, x1field=\"pos_sales\", x2field=\"unit_price\", name=\"sales*uprice\").variable_ids\n",
    "# alt_Q_shift_03_ids += sdh.transform.shift(fields=mul_ids, periods=3).resample(rule='Q', func='mean').variable_ids\n",
    "# alt_Q_shift_04_ids += sdh.transform.shift(fields=mul_ids, periods=4).resample(rule='Q', func='mean').variable_ids\n",
    "# alt_Q_shift_05_ids += sdh.transform.shift(fields=mul_ids, periods=5).resample(rule='Q', func='mean').variable_ids\n",
    "# alt_Q_shift_06_ids += sdh.transform.shift(fields=mul_ids, periods=6).resample(rule='Q', func='mean').variable_ids\n",
    "# alt_Q_shift_07_ids += sdh.transform.shift(fields=mul_ids, periods=7).resample(rule='Q', func='mean').variable_ids\n",
    "# alt_Q_shift_08_ids += sdh.transform.shift(fields=mul_ids, periods=8).resample(rule='Q', func='mean').variable_ids\n",
    "# alt_Q_shift_09_ids += sdh.transform.shift(fields=mul_ids, periods=9).resample(rule='Q', func='mean').variable_ids\n",
    "# alt_Q_shift_12_ids += sdh.transform.shift(fields=mul_ids, periods=12).resample(rule='Q', func='mean').variable_ids"
   ]
  },
  {
   "cell_type": "code",
   "execution_count": null,
   "id": "5234f9c8-d710-471a-8ae6-2324ecb5ac20",
   "metadata": {},
   "outputs": [],
   "source": [
    "sdh.get_raw_data(data_id_alt)"
   ]
  },
  {
   "cell_type": "code",
   "execution_count": null,
   "id": "46d5bca0-84ec-4cb3-88f3-c221a9d16105",
   "metadata": {},
   "outputs": [],
   "source": [
    "vid_alt = sdh.transform.raw(data_id=data_id_alt).variable_ids\\\n",
    "    + sdh.transform.multiply(data_id=data_id_alt, x1field=\"pos_sales\", x2field=\"unit_price\", name=\"sales*uprice\").variable_ids"
   ]
  },
  {
   "cell_type": "code",
   "execution_count": null,
   "id": "4d62ece3-57a1-4657-977a-29b83c32f435",
   "metadata": {},
   "outputs": [],
   "source": [
    "alt_Q_shift_03_ids = sdh.transform.shift(fields=vid_alt, periods=3).resample(rule='Q', func='mean').variable_ids\n",
    "alt_Q_shift_04_ids = sdh.transform.shift(fields=vid_alt, periods=4).resample(rule='Q', func='mean').variable_ids\n",
    "alt_Q_shift_05_ids = sdh.transform.shift(fields=vid_alt, periods=5).resample(rule='Q', func='mean').variable_ids\n",
    "alt_Q_shift_06_ids = sdh.transform.shift(fields=vid_alt, periods=6).resample(rule='Q', func='mean').variable_ids\n",
    "alt_Q_shift_07_ids = sdh.transform.shift(fields=vid_alt, periods=7).resample(rule='Q', func='mean').variable_ids\n",
    "alt_Q_shift_08_ids = sdh.transform.shift(fields=vid_alt, periods=8).resample(rule='Q', func='mean').variable_ids\n",
    "alt_Q_shift_09_ids = sdh.transform.shift(fields=vid_alt, periods=9).resample(rule='Q', func='mean').variable_ids\n",
    "alt_Q_shift_12_ids = sdh.transform.shift(fields=vid_alt, periods=12).resample(rule='Q', func='mean').variable_ids"
   ]
  },
  {
   "cell_type": "code",
   "execution_count": null,
   "id": "8ee35268-224a-4a4e-8ad8-83deeddf5ea4",
   "metadata": {},
   "outputs": [],
   "source": []
  },
  {
   "cell_type": "code",
   "execution_count": null,
   "id": "ed25d4a5-2537-4e1d-b850-387403c221c8",
   "metadata": {},
   "outputs": [],
   "source": []
  },
  {
   "cell_type": "code",
   "execution_count": null,
   "id": "a2d7fc9d-b8ae-44a9-b290-13a02586fb5c",
   "metadata": {},
   "outputs": [],
   "source": [
    "sdh.transform.get_variable_name(alt_Q_shift_03_ids[0]), sdh.transform.get_variable_name(alt_Q_shift_03_ids[4]), "
   ]
  },
  {
   "cell_type": "code",
   "execution_count": null,
   "id": "06c2d3a3-22f9-49dd-b060-613307e99d37",
   "metadata": {},
   "outputs": [],
   "source": [
    "# View Sales vs Pos Sales\n",
    "sdh.show_line_one_target(\n",
    "    target=sample_target,\n",
    "    y=funda_Q_ids[0],\n",
    "    X=[alt_Q_shift_03_ids[0], alt_Q_shift_03_ids[4],\n",
    "       alt_Q_shift_04_ids[0], alt_Q_shift_04_ids[4], \n",
    "       alt_Q_shift_05_ids[0], alt_Q_shift_05_ids[4],\n",
    "       alt_Q_shift_06_ids[0], alt_Q_shift_06_ids[4], \n",
    "       alt_Q_shift_07_ids[0], alt_Q_shift_07_ids[4], \n",
    "       alt_Q_shift_08_ids[0], alt_Q_shift_08_ids[4], \n",
    "       alt_Q_shift_09_ids[0], alt_Q_shift_09_ids[4],\n",
    "       alt_Q_shift_12_ids[0], alt_Q_shift_12_ids[4]],\n",
    "    col_num=2\n",
    ")"
   ]
  },
  {
   "cell_type": "markdown",
   "id": "a2b1018f-7664-47e0-bcb5-4cee67ec7454",
   "metadata": {},
   "source": [
    "##### Logarithmic transformation and correlation checks."
   ]
  },
  {
   "cell_type": "code",
   "execution_count": null,
   "id": "484c42bd-6c6d-4d65-bcaf-d497f62b8f07",
   "metadata": {},
   "outputs": [],
   "source": [
    "sales_id                        = sdh.transform.log_diff(fields=funda_Q_ids, periods=4).variable_ids[-1]\n",
    "alt_Q_shift_00_logdiff_ids      = sdh.transform.log_diff(fields=alt_Q_ids,          periods=4).variable_ids\n",
    "alt_Q_shift_03_logdiff_ids      = sdh.transform.log_diff(fields=alt_Q_shift_03_ids, periods=4).variable_ids\n",
    "alt_Q_shift_04_logdiff_ids      = sdh.transform.log_diff(fields=alt_Q_shift_04_ids, periods=4).variable_ids\n",
    "alt_Q_shift_05_logdiff_ids      = sdh.transform.log_diff(fields=alt_Q_shift_05_ids, periods=4).variable_ids\n",
    "alt_Q_shift_06_logdiff_ids      = sdh.transform.log_diff(fields=alt_Q_shift_06_ids, periods=4).variable_ids\n",
    "alt_Q_shift_07_logdiff_ids      = sdh.transform.log_diff(fields=alt_Q_shift_07_ids, periods=4).variable_ids\n",
    "alt_Q_shift_08_logdiff_ids      = sdh.transform.log_diff(fields=alt_Q_shift_08_ids, periods=4).variable_ids\n",
    "alt_Q_shift_09_logdiff_ids      = sdh.transform.log_diff(fields=alt_Q_shift_09_ids, periods=4).variable_ids\n",
    "alt_Q_shift_12_logdiff_ids      = sdh.transform.log_diff(fields=alt_Q_shift_12_ids, periods=4).variable_ids\n",
    "sales_diff_id                   = sdh.transform.log_diff(fields=funda_Q_ids, periods=4).diff(periods=1).variable_ids[-1]\n",
    "alt_Q_shift_00_logdiff_diff_ids = sdh.transform.log_diff(fields=alt_Q_ids,          periods=4).diff(periods=1).variable_ids\n",
    "alt_Q_shift_03_logdiff_diff_ids = sdh.transform.log_diff(fields=alt_Q_shift_03_ids, periods=4).diff(periods=1).variable_ids\n",
    "alt_Q_shift_04_logdiff_diff_ids = sdh.transform.log_diff(fields=alt_Q_shift_04_ids, periods=4).diff(periods=1).variable_ids\n",
    "alt_Q_shift_05_logdiff_diff_ids = sdh.transform.log_diff(fields=alt_Q_shift_05_ids, periods=4).diff(periods=1).variable_ids\n",
    "alt_Q_shift_06_logdiff_diff_ids = sdh.transform.log_diff(fields=alt_Q_shift_06_ids, periods=4).diff(periods=1).variable_ids\n",
    "alt_Q_shift_07_logdiff_diff_ids = sdh.transform.log_diff(fields=alt_Q_shift_07_ids, periods=4).diff(periods=1).variable_ids\n",
    "alt_Q_shift_08_logdiff_diff_ids = sdh.transform.log_diff(fields=alt_Q_shift_08_ids, periods=4).diff(periods=1).variable_ids\n",
    "alt_Q_shift_09_logdiff_diff_ids = sdh.transform.log_diff(fields=alt_Q_shift_09_ids, periods=4).diff(periods=1).variable_ids\n",
    "alt_Q_shift_12_logdiff_diff_ids = sdh.transform.log_diff(fields=alt_Q_shift_12_ids, periods=4).diff(periods=1).variable_ids\n",
    "\n",
    "# Check application of method chain.\n",
    "sdh.transform.show_method_chain()"
   ]
  },
  {
   "cell_type": "markdown",
   "id": "623db210-d594-446a-b718-2949fac91d41",
   "metadata": {},
   "source": [
    "##### Calculation of correlations."
   ]
  },
  {
   "cell_type": "code",
   "execution_count": null,
   "id": "31c9b452-37f0-4733-9c4f-c734d502cb64",
   "metadata": {},
   "outputs": [],
   "source": [
    "rho_pool = pd.DataFrame()\n",
    "rho_pool['n_shift=00'] = ade.compu_rho(alt_Q_shift_00_logdiff_ids, sales_id, rename_features=features)\n",
    "rho_pool['n_shift=03'] = ade.compu_rho(alt_Q_shift_03_logdiff_ids, sales_id, rename_features=features)\n",
    "rho_pool['n_shift=04'] = ade.compu_rho(alt_Q_shift_04_logdiff_ids, sales_id, rename_features=features)\n",
    "rho_pool['n_shift=05'] = ade.compu_rho(alt_Q_shift_05_logdiff_ids, sales_id, rename_features=features)\n",
    "rho_pool['n_shift=06'] = ade.compu_rho(alt_Q_shift_06_logdiff_ids, sales_id, rename_features=features)\n",
    "rho_pool['n_shift=07'] = ade.compu_rho(alt_Q_shift_07_logdiff_ids, sales_id, rename_features=features)\n",
    "rho_pool['n_shift=08'] = ade.compu_rho(alt_Q_shift_08_logdiff_ids, sales_id, rename_features=features)\n",
    "rho_pool['n_shift=09'] = ade.compu_rho(alt_Q_shift_09_logdiff_ids, sales_id, rename_features=features)\n",
    "rho_pool['n_shift=12'] = ade.compu_rho(alt_Q_shift_12_logdiff_ids, sales_id, rename_features=features)\n",
    "rho_pool['n_shift=00_diff=1'] = ade.compu_rho(alt_Q_shift_00_logdiff_diff_ids, sales_diff_id, rename_features=features)\n",
    "rho_pool['n_shift=03_diff=1'] = ade.compu_rho(alt_Q_shift_03_logdiff_diff_ids, sales_diff_id, rename_features=features)\n",
    "rho_pool['n_shift=04_diff=1'] = ade.compu_rho(alt_Q_shift_04_logdiff_diff_ids, sales_diff_id, rename_features=features)\n",
    "rho_pool['n_shift=05_diff=1'] = ade.compu_rho(alt_Q_shift_05_logdiff_diff_ids, sales_diff_id, rename_features=features)\n",
    "rho_pool['n_shift=06_diff=1'] = ade.compu_rho(alt_Q_shift_06_logdiff_diff_ids, sales_diff_id, rename_features=features)\n",
    "rho_pool['n_shift=07_diff=1'] = ade.compu_rho(alt_Q_shift_07_logdiff_diff_ids, sales_diff_id, rename_features=features)\n",
    "rho_pool['n_shift=08_diff=1'] = ade.compu_rho(alt_Q_shift_08_logdiff_diff_ids, sales_diff_id, rename_features=features)\n",
    "rho_pool['n_shift=09_diff=1'] = ade.compu_rho(alt_Q_shift_09_logdiff_diff_ids, sales_diff_id, rename_features=features)\n",
    "rho_pool['n_shift=12_diff=1'] = ade.compu_rho(alt_Q_shift_12_logdiff_diff_ids, sales_diff_id, rename_features=features)\n",
    "display(rho_pool.xs('t-val', level=1).sort_values(rho_pool.columns[0], ascending=False))"
   ]
  },
  {
   "cell_type": "markdown",
   "id": "11f1a3b6-e130-462a-a1dc-3c37789200be",
   "metadata": {},
   "source": [
    "##### Select the top 5 most highly correlated features"
   ]
  },
  {
   "cell_type": "code",
   "execution_count": null,
   "id": "4e6fd747-2d5c-41be-a9fe-273ffbcdaafc",
   "metadata": {},
   "outputs": [],
   "source": [
    "rho_time = ade.compu_rho(\n",
    "    alt_Q_shift_06_logdiff_diff_ids,\n",
    "    sales_diff_id, by='ticker',\n",
    "    rename_features=features,\n",
    "    min_nsample=30\n",
    "    )\n",
    "rho_time.T.xs('t-val', level=1).sort_values('pos_sales', ascending=False).head()"
   ]
  },
  {
   "cell_type": "code",
   "execution_count": null,
   "id": "00ebc4cf-6d5b-4d58-9a05-9c5570ab9bfc",
   "metadata": {},
   "outputs": [],
   "source": [
    "top3tickers = rho_time.T.xs('t-val', level=1).sort_values('pos_sales', ascending=False).index[:3]\n",
    "\n",
    "sdh.show_scatter_per_target(\n",
    "    y=sales_diff_id,\n",
    "    x=alt_Q_shift_06_logdiff_diff_ids[0],\n",
    "    targets=top3tickers,\n",
    "    col_num=3,\n",
    "    vname_len_limit=25,\n",
    ")"
   ]
  },
  {
   "cell_type": "code",
   "execution_count": null,
   "id": "6f39e774-0caf-4074-98a5-13dd94d88204",
   "metadata": {},
   "outputs": [],
   "source": [
    "top3tickers = rho_time.T.xs('t-val', level=1).sort_values('sales*uprice', ascending=False).index[:3]\n",
    "\n",
    "sdh.show_scatter_per_target(\n",
    "    y=sales_diff_id,\n",
    "    x=alt_Q_shift_00_logdiff_diff_ids[4],\n",
    "    targets=top3tickers,\n",
    "    col_num=3,\n",
    "    vname_len_limit=30,\n",
    ")"
   ]
  },
  {
   "cell_type": "markdown",
   "id": "c31300b6-4030-4eb8-a48c-ea0b92f69309",
   "metadata": {},
   "source": [
    "### Step4: Quantile Backtest\n",
    "Back-testing using the most highly correlated features against market data."
   ]
  },
  {
   "cell_type": "code",
   "execution_count": null,
   "id": "e68ba831-7412-4ec7-b2f5-2fa95365d82b",
   "metadata": {},
   "outputs": [],
   "source": [
    "close_ret = sdh.transform\\\n",
    "    .resample(data_id=data_id_mkt, rule='D', fields='close', func='last')\\\n",
    "    .dropna(how='all')\\\n",
    "    .log_diff(periods=1, names='ret')\\\n",
    "    .variable_ids[0]"
   ]
  },
  {
   "cell_type": "code",
   "execution_count": null,
   "id": "2b989f36-2eb6-43c4-9177-e14e71d935cd",
   "metadata": {},
   "outputs": [],
   "source": [
    "sma_period = 14\n",
    "min_period = int(max(np.floor(sma_period * 5 / 7), 1))\n",
    "proto_trans_vid = sdh.transform\\\n",
    "        .multiply(data_id=data_id_alt, x1field=\"pos_sales\", x2field=\"unit_price\", name=\"sales*uprice\")\\\n",
    "        .resample(rule='D', func='last')\\\n",
    "        .sma(periods=sma_period, min_periods=min_period)\\\n",
    "        .reindex(label=close_ret)\\\n",
    "        .log_diff(periods=252)\\\n",
    "        .shift(periods=8)\\\n",
    "        .variable_ids[0]"
   ]
  },
  {
   "cell_type": "code",
   "execution_count": null,
   "id": "ab607edf-692e-43e0-901f-57875cd8ac75",
   "metadata": {},
   "outputs": [],
   "source": [
    "# define the parameters for factor choice.\n",
    "nq = 3\n",
    "exe_cost = 0.0005"
   ]
  },
  {
   "cell_type": "code",
   "execution_count": null,
   "id": "0ec5e74e-ad94-475f-8cc4-fad78925e365",
   "metadata": {},
   "outputs": [],
   "source": [
    "sdh.transform.get_variable_name(proto_trans_vid)"
   ]
  },
  {
   "cell_type": "code",
   "execution_count": null,
   "id": "d68b60d0-a625-42e4-94b1-a697fcc52440",
   "metadata": {},
   "outputs": [],
   "source": [
    "dfqret, stats, dfsigqt = ade.q_backtest(\n",
    "    feature=proto_trans_vid,\n",
    "    actual_return=close_ret,\n",
    "    nq=nq,\n",
    "    exe_cost=exe_cost,\n",
    "    plot=True,\n",
    "    stats=True\n",
    ")"
   ]
  }
 ],
 "metadata": {
  "kernelspec": {
   "display_name": "visualize_py38",
   "language": "python",
   "name": "visualize_py38"
  },
  "language_info": {
   "codemirror_mode": {
    "name": "ipython",
    "version": 3
   },
   "file_extension": ".py",
   "mimetype": "text/x-python",
   "name": "python",
   "nbconvert_exporter": "python",
   "pygments_lexer": "ipython3",
   "version": "3.8.18"
  }
 },
 "nbformat": 4,
 "nbformat_minor": 5
}
