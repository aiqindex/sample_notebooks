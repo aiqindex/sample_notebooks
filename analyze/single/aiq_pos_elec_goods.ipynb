{
 "cells": [
  {
   "attachments": {
    "b8f1ff06-cee2-4b9c-ba2d-e754a1b2263d.png": {
     "image/png": "[encoded data removed]"
    }
   },
   "cell_type": "markdown",
   "id": "3b6cfe7a-802c-49c9-8828-3517b3ff7f37",
   "metadata": {},
   "source": [
    "![スクリーンショット 2024-03-26 11.25.41.png](attachment:b8f1ff06-cee2-4b9c-ba2d-e754a1b2263d.png)\n",
    "\n",
    "[disclaimer](../../disclaimer.txt/)"
   ]
  },
  {
   "cell_type": "markdown",
   "id": "83a8bc10-7e45-4f56-80fa-04ff0d705a45",
   "metadata": {},
   "source": [
    "# aiQ DataHub: aiQ POS ELEC Goods Sample Evaluation Notebook"
   ]
  },
  {
   "cell_type": "markdown",
   "id": "8ab97ba7-5051-48df-8284-7f36549eb93f",
   "metadata": {},
   "source": [
    "- aiQ POS Elec Goods is data that consolidates the sales of electronic products from electronics retailers and online shopping platforms, organized by TICKER."
   ]
  },
  {
   "cell_type": "code",
   "execution_count": 1,
   "id": "1d994779-704f-4692-9505-63791b740433",
   "metadata": {
    "execution": {
     "iopub.execute_input": "2024-09-24T01:10:07.129680Z",
     "iopub.status.busy": "2024-09-24T01:10:07.129196Z",
     "iopub.status.idle": "2024-09-24T01:10:07.159699Z",
     "shell.execute_reply": "2024-09-24T01:10:07.158818Z",
     "shell.execute_reply.started": "2024-09-24T01:10:07.129648Z"
    }
   },
   "outputs": [],
   "source": [
    "# Evaluate the following command to update the custom module\n",
    "%load_ext autoreload\n",
    "%autoreload 2"
   ]
  },
  {
   "cell_type": "markdown",
   "id": "ce5a993d-bf0a-4825-ba63-06d1a05b0e24",
   "metadata": {},
   "source": [
    "## Step1: Import Library"
   ]
  },
  {
   "cell_type": "code",
   "execution_count": 2,
   "id": "b0635187-fbee-432a-849e-b8768cd73d7e",
   "metadata": {
    "execution": {
     "iopub.execute_input": "2024-09-24T01:10:07.160985Z",
     "iopub.status.busy": "2024-09-24T01:10:07.160702Z",
     "iopub.status.idle": "2024-09-24T01:10:14.166065Z",
     "shell.execute_reply": "2024-09-24T01:10:14.165044Z",
     "shell.execute_reply.started": "2024-09-24T01:10:07.160955Z"
    }
   },
   "outputs": [],
   "source": [
    "import sys\n",
    "from pathlib import Path\n",
    "import numpy as np\n",
    "import pandas as pd\n",
    "import plotly.io\n",
    "import plotly.express as px\n",
    "from aiq_strategy_robot.data.data_accessor import DAL"
   ]
  },
  {
   "cell_type": "code",
   "execution_count": 3,
   "id": "1e877f4b-9224-45af-bfc6-fd8526ce8cea",
   "metadata": {
    "execution": {
     "iopub.execute_input": "2024-09-24T01:10:14.168031Z",
     "iopub.status.busy": "2024-09-24T01:10:14.167262Z",
     "iopub.status.idle": "2024-09-24T01:10:16.408944Z",
     "shell.execute_reply": "2024-09-24T01:10:16.407988Z",
     "shell.execute_reply.started": "2024-09-24T01:10:14.167998Z"
    }
   },
   "outputs": [],
   "source": [
    "for_html = False\n",
    "if for_html:\n",
    "    plotly.offline.init_notebook_mode()\n",
    "else:\n",
    "    plotly.io.renderers.default = 'iframe'\n",
    "\n",
    "if '../..' not in sys.path:\n",
    "    sys.path.append('../..')\n",
    "    \n",
    "from libs.dataset import aiq_pos_elec_goods as sc_elec\n",
    "from libs.dataset import common as sc_common\n",
    "from libs.path import DEFAULT_DIR"
   ]
  },
  {
   "cell_type": "markdown",
   "id": "871127a3-d5cb-42a1-83f4-af375f8baa9b",
   "metadata": {},
   "source": [
    "- Create an instance of the standard data handler.\n",
    "- The data handler is an object that holds libraries for data retrieval and data processing."
   ]
  },
  {
   "cell_type": "code",
   "execution_count": 4,
   "id": "f61cf979-2682-426c-8a83-349fcc90a38b",
   "metadata": {
    "execution": {
     "iopub.execute_input": "2024-09-24T01:10:16.410603Z",
     "iopub.status.busy": "2024-09-24T01:10:16.410137Z",
     "iopub.status.idle": "2024-09-24T01:10:16.462614Z",
     "shell.execute_reply": "2024-09-24T01:10:16.461728Z",
     "shell.execute_reply.started": "2024-09-24T01:10:16.410571Z"
    },
    "scrolled": true
   },
   "outputs": [],
   "source": [
    "sdh = DAL()"
   ]
  },
  {
   "cell_type": "markdown",
   "id": "dbeadbc3-ee19-49bc-bb2b-e52a72858d12",
   "metadata": {},
   "source": [
    "## Step 2: Load Data to `sdh`\n",
    "Since the focus here is on demonstrating data analysis, the data will be loaded through a simple loader that has been prepared separately."
   ]
  },
  {
   "cell_type": "code",
   "execution_count": 5,
   "id": "75435fe1-924e-45ad-baa4-1401d4158def",
   "metadata": {
    "execution": {
     "iopub.execute_input": "2024-09-24T01:10:16.463972Z",
     "iopub.status.busy": "2024-09-24T01:10:16.463692Z",
     "iopub.status.idle": "2024-09-24T01:10:29.184510Z",
     "shell.execute_reply": "2024-09-24T01:10:29.183671Z",
     "shell.execute_reply.started": "2024-09-24T01:10:16.463942Z"
    }
   },
   "outputs": [
    {
     "data": {
      "text/html": [
       "<div>\n",
       "<style scoped>\n",
       "    .dataframe tbody tr th:only-of-type {\n",
       "        vertical-align: middle;\n",
       "    }\n",
       "\n",
       "    .dataframe tbody tr th {\n",
       "        vertical-align: top;\n",
       "    }\n",
       "\n",
       "    .dataframe thead th {\n",
       "        text-align: right;\n",
       "    }\n",
       "</style>\n",
       "<table border=\"1\" class=\"dataframe\">\n",
       "  <thead>\n",
       "    <tr style=\"text-align: right;\">\n",
       "      <th></th>\n",
       "      <th>category</th>\n",
       "      <th>data_source</th>\n",
       "      <th>source</th>\n",
       "      <th>table</th>\n",
       "      <th>alias</th>\n",
       "      <th>tickers</th>\n",
       "      <th>index</th>\n",
       "      <th>start_datetime</th>\n",
       "      <th>end_datetime</th>\n",
       "    </tr>\n",
       "    <tr>\n",
       "      <th>data_id</th>\n",
       "      <th></th>\n",
       "      <th></th>\n",
       "      <th></th>\n",
       "      <th></th>\n",
       "      <th></th>\n",
       "      <th></th>\n",
       "      <th></th>\n",
       "      <th></th>\n",
       "      <th></th>\n",
       "    </tr>\n",
       "  </thead>\n",
       "  <tbody>\n",
       "    <tr>\n",
       "      <th>1</th>\n",
       "      <td>RawData</td>\n",
       "      <td>external</td>\n",
       "      <td>sample</td>\n",
       "      <td>Unknown</td>\n",
       "      <td>pos_elec_goods</td>\n",
       "      <td>[1956, 2180, 2321, 2323, 2326, 2354, 2388, 246...</td>\n",
       "      <td>[TICKER, DATETIME]</td>\n",
       "      <td>2009-01-01 00:00:00</td>\n",
       "      <td>2024-08-31 00:00:00</td>\n",
       "    </tr>\n",
       "    <tr>\n",
       "      <th>2</th>\n",
       "      <td>RawData</td>\n",
       "      <td>External</td>\n",
       "      <td>Unknown</td>\n",
       "      <td>Unknown</td>\n",
       "      <td>market_returns</td>\n",
       "      <td>[1301, 1332, 1333, 1334, 1352, 1378, 1379, 138...</td>\n",
       "      <td>[TICKER, DATETIME]</td>\n",
       "      <td>2007-01-04 00:00:00</td>\n",
       "      <td>2024-08-30 00:00:00</td>\n",
       "    </tr>\n",
       "    <tr>\n",
       "      <th>3</th>\n",
       "      <td>RawData</td>\n",
       "      <td>External</td>\n",
       "      <td>Unknown</td>\n",
       "      <td>Unknown</td>\n",
       "      <td>funda</td>\n",
       "      <td>[1301, 1332, 1333, 1334, 1352, 1378, 1379, 138...</td>\n",
       "      <td>[TICKER, DATETIME]</td>\n",
       "      <td>2007-04-20 00:00:00</td>\n",
       "      <td>2024-05-31 00:00:00</td>\n",
       "    </tr>\n",
       "  </tbody>\n",
       "</table>\n",
       "</div>"
      ],
      "text/plain": [
       "        category data_source   source    table           alias  \\\n",
       "data_id                                                          \n",
       "1        RawData    external   sample  Unknown  pos_elec_goods   \n",
       "2        RawData    External  Unknown  Unknown  market_returns   \n",
       "3        RawData    External  Unknown  Unknown           funda   \n",
       "\n",
       "                                                   tickers  \\\n",
       "data_id                                                      \n",
       "1        [1956, 2180, 2321, 2323, 2326, 2354, 2388, 246...   \n",
       "2        [1301, 1332, 1333, 1334, 1352, 1378, 1379, 138...   \n",
       "3        [1301, 1332, 1333, 1334, 1352, 1378, 1379, 138...   \n",
       "\n",
       "                      index       start_datetime         end_datetime  \n",
       "data_id                                                                \n",
       "1        [TICKER, DATETIME]  2009-01-01 00:00:00  2024-08-31 00:00:00  \n",
       "2        [TICKER, DATETIME]  2007-01-04 00:00:00  2024-08-30 00:00:00  \n",
       "3        [TICKER, DATETIME]  2007-04-20 00:00:00  2024-05-31 00:00:00  "
      ]
     },
     "metadata": {},
     "output_type": "display_data"
    }
   ],
   "source": [
    "sdh.extract.clear()\n",
    "\n",
    "data_id_alt = sc_elec.register_elec_goods_data(sdh, data_dir=DEFAULT_DIR)\n",
    "data_id_mkt = sc_common.register_market(sdh, base_data_id=data_id_alt)\n",
    "data_id_funda = sc_common.register_fundamental(sdh)\n",
    "display(sdh.extract_definition)"
   ]
  },
  {
   "cell_type": "markdown",
   "id": "8e144e94-f038-4d0a-80c1-5c0774ce0081",
   "metadata": {},
   "source": [
    "### Step 2.1: Identify Tickers with Consistently Available Daily Data\n",
    "Identify TICKERs where `pos_sales` data is densely observed along the `datetime` axis, with a data density of at least the specified `lower_bound` ratio."
   ]
  },
  {
   "cell_type": "code",
   "execution_count": 6,
   "id": "4b5fa61c-3105-4734-9cd0-6a5217344e53",
   "metadata": {
    "execution": {
     "iopub.execute_input": "2024-09-24T01:10:29.189122Z",
     "iopub.status.busy": "2024-09-24T01:10:29.188590Z",
     "iopub.status.idle": "2024-09-24T01:10:29.232787Z",
     "shell.execute_reply": "2024-09-24T01:10:29.231885Z",
     "shell.execute_reply.started": "2024-09-24T01:10:29.189091Z"
    }
   },
   "outputs": [],
   "source": [
    "variable = 'pos_sales'\n",
    "lower_bound = 0.9\n",
    "start_date = pd.Timestamp('2020-01-01')\n",
    "end_date = pd.Timestamp('2023-12-31')"
   ]
  },
  {
   "cell_type": "code",
   "execution_count": 7,
   "id": "ca5f7861-bf72-4451-8614-18ccb630f34e",
   "metadata": {
    "execution": {
     "iopub.execute_input": "2024-09-24T01:10:29.234183Z",
     "iopub.status.busy": "2024-09-24T01:10:29.233891Z",
     "iopub.status.idle": "2024-09-24T01:10:29.517060Z",
     "shell.execute_reply": "2024-09-24T01:10:29.516207Z",
     "shell.execute_reply.started": "2024-09-24T01:10:29.234153Z"
    }
   },
   "outputs": [
    {
     "name": "stdout",
     "output_type": "stream",
     "text": [
      "Tickers with observations for more than 90.0% of datetime after 2020-01-01 00:00:00.\n",
      "number of densely observed tickers: 70\n"
     ]
    }
   ],
   "source": [
    "# Retrieve the pre-processed data that was registered in the standard data handler.\n",
    "dfpos = sdh.get_raw_data(data_id_alt)\n",
    "\n",
    "# Set the index to be a `DatetimeIndex` type with only the `DATETIME` column.\n",
    "dfcheck = dfpos[[variable]].unstack('TICKER').droplevel(0, axis=1)\n",
    "if start_date:\n",
    "    dfcheck = dfcheck.loc[dfcheck.index > start_date]\n",
    "if end_date:\n",
    "    dfcheck = dfcheck.loc[dfcheck.index < end_date]\n",
    "dfcheck.dropna(how='all', axis=1, inplace=True)\n",
    "\n",
    "# Count the total number of dates.\n",
    "num_obs = len(dfcheck)\n",
    "\n",
    "# Count the number of non-NaN rows for each TICKER.\n",
    "dfcount = dfcheck.count()\n",
    "\n",
    "# Calculate the percentage of non-NaN rows for each TICKER.\n",
    "list_dense_tickers = dfcount.loc[dfcount / num_obs > lower_bound].index.tolist()\n",
    "\n",
    "print(f'Tickers with observations for more than {lower_bound *  100}% of datetime after {start_date}.')\n",
    "print(f'number of densely observed tickers: {len(list_dense_tickers)}')"
   ]
  },
  {
   "cell_type": "markdown",
   "id": "7028047a-fe73-46d5-9603-06fc08dc724b",
   "metadata": {},
   "source": [
    "### Verify that the data has been successfully registered in `sdh`."
   ]
  },
  {
   "cell_type": "code",
   "execution_count": 8,
   "id": "1d24cfe6-9df6-4a67-9ec1-42fde3f3af1d",
   "metadata": {
    "execution": {
     "iopub.execute_input": "2024-09-24T01:10:29.518428Z",
     "iopub.status.busy": "2024-09-24T01:10:29.518146Z",
     "iopub.status.idle": "2024-09-24T01:10:30.122120Z",
     "shell.execute_reply": "2024-09-24T01:10:30.121225Z",
     "shell.execute_reply.started": "2024-09-24T01:10:29.518398Z"
    }
   },
   "outputs": [
    {
     "data": {
      "text/html": [
       "<div>\n",
       "<style scoped>\n",
       "    .dataframe tbody tr th:only-of-type {\n",
       "        vertical-align: middle;\n",
       "    }\n",
       "\n",
       "    .dataframe tbody tr th {\n",
       "        vertical-align: top;\n",
       "    }\n",
       "\n",
       "    .dataframe thead th {\n",
       "        text-align: right;\n",
       "    }\n",
       "</style>\n",
       "<table border=\"1\" class=\"dataframe\">\n",
       "  <thead>\n",
       "    <tr style=\"text-align: right;\">\n",
       "      <th></th>\n",
       "      <th>VARIABLE</th>\n",
       "      <th>pos_sales</th>\n",
       "      <th>share</th>\n",
       "      <th>unit_price</th>\n",
       "      <th>unit_price_vs_ind</th>\n",
       "    </tr>\n",
       "    <tr>\n",
       "      <th>TICKER</th>\n",
       "      <th>DATETIME</th>\n",
       "      <th></th>\n",
       "      <th></th>\n",
       "      <th></th>\n",
       "      <th></th>\n",
       "    </tr>\n",
       "  </thead>\n",
       "  <tbody>\n",
       "    <tr>\n",
       "      <th rowspan=\"5\" valign=\"top\">9928</th>\n",
       "      <th>2023-10-26</th>\n",
       "      <td>0.003900</td>\n",
       "      <td>0.000422</td>\n",
       "      <td>0.130007</td>\n",
       "      <td>0.107093</td>\n",
       "    </tr>\n",
       "    <tr>\n",
       "      <th>2023-12-22</th>\n",
       "      <td>0.016121</td>\n",
       "      <td>0.002433</td>\n",
       "      <td>0.537438</td>\n",
       "      <td>0.328411</td>\n",
       "    </tr>\n",
       "    <tr>\n",
       "      <th>2024-01-31</th>\n",
       "      <td>0.016121</td>\n",
       "      <td>0.002665</td>\n",
       "      <td>0.537438</td>\n",
       "      <td>0.405101</td>\n",
       "    </tr>\n",
       "    <tr>\n",
       "      <th>2024-08-19</th>\n",
       "      <td>0.016481</td>\n",
       "      <td>0.005209</td>\n",
       "      <td>0.274710</td>\n",
       "      <td>0.208357</td>\n",
       "    </tr>\n",
       "    <tr>\n",
       "      <th>2024-08-24</th>\n",
       "      <td>0.016121</td>\n",
       "      <td>0.006516</td>\n",
       "      <td>0.537438</td>\n",
       "      <td>0.469152</td>\n",
       "    </tr>\n",
       "  </tbody>\n",
       "</table>\n",
       "</div>"
      ],
      "text/plain": [
       "VARIABLE           pos_sales     share  unit_price  unit_price_vs_ind\n",
       "TICKER DATETIME                                                      \n",
       "9928   2023-10-26   0.003900  0.000422    0.130007           0.107093\n",
       "       2023-12-22   0.016121  0.002433    0.537438           0.328411\n",
       "       2024-01-31   0.016121  0.002665    0.537438           0.405101\n",
       "       2024-08-19   0.016481  0.005209    0.274710           0.208357\n",
       "       2024-08-24   0.016121  0.006516    0.537438           0.469152"
      ]
     },
     "metadata": {},
     "output_type": "display_data"
    },
    {
     "data": {
      "text/html": [
       "<div>\n",
       "<style scoped>\n",
       "    .dataframe tbody tr th:only-of-type {\n",
       "        vertical-align: middle;\n",
       "    }\n",
       "\n",
       "    .dataframe tbody tr th {\n",
       "        vertical-align: top;\n",
       "    }\n",
       "\n",
       "    .dataframe thead th {\n",
       "        text-align: right;\n",
       "    }\n",
       "</style>\n",
       "<table border=\"1\" class=\"dataframe\">\n",
       "  <thead>\n",
       "    <tr style=\"text-align: right;\">\n",
       "      <th></th>\n",
       "      <th></th>\n",
       "      <th>sales_yoy</th>\n",
       "    </tr>\n",
       "    <tr>\n",
       "      <th>TICKER</th>\n",
       "      <th>DATETIME</th>\n",
       "      <th></th>\n",
       "    </tr>\n",
       "  </thead>\n",
       "  <tbody>\n",
       "    <tr>\n",
       "      <th rowspan=\"5\" valign=\"top\">9997</th>\n",
       "      <th>2023-03-31</th>\n",
       "      <td>0.008141</td>\n",
       "    </tr>\n",
       "    <tr>\n",
       "      <th>2023-06-30</th>\n",
       "      <td>-0.030340</td>\n",
       "    </tr>\n",
       "    <tr>\n",
       "      <th>2023-09-30</th>\n",
       "      <td>-0.024041</td>\n",
       "    </tr>\n",
       "    <tr>\n",
       "      <th>2023-12-31</th>\n",
       "      <td>-0.024655</td>\n",
       "    </tr>\n",
       "    <tr>\n",
       "      <th>2024-03-31</th>\n",
       "      <td>0.001886</td>\n",
       "    </tr>\n",
       "  </tbody>\n",
       "</table>\n",
       "</div>"
      ],
      "text/plain": [
       "                   sales_yoy\n",
       "TICKER DATETIME             \n",
       "9997   2023-03-31   0.008141\n",
       "       2023-06-30  -0.030340\n",
       "       2023-09-30  -0.024041\n",
       "       2023-12-31  -0.024655\n",
       "       2024-03-31   0.001886"
      ]
     },
     "metadata": {},
     "output_type": "display_data"
    },
    {
     "data": {
      "text/html": [
       "<div>\n",
       "<style scoped>\n",
       "    .dataframe tbody tr th:only-of-type {\n",
       "        vertical-align: middle;\n",
       "    }\n",
       "\n",
       "    .dataframe tbody tr th {\n",
       "        vertical-align: top;\n",
       "    }\n",
       "\n",
       "    .dataframe thead th {\n",
       "        text-align: right;\n",
       "    }\n",
       "</style>\n",
       "<table border=\"1\" class=\"dataframe\">\n",
       "  <thead>\n",
       "    <tr style=\"text-align: right;\">\n",
       "      <th></th>\n",
       "      <th></th>\n",
       "      <th>returns</th>\n",
       "      <th>returns_oo</th>\n",
       "      <th>returns_id</th>\n",
       "      <th>returns_on</th>\n",
       "    </tr>\n",
       "    <tr>\n",
       "      <th>TICKER</th>\n",
       "      <th>DATETIME</th>\n",
       "      <th></th>\n",
       "      <th></th>\n",
       "      <th></th>\n",
       "      <th></th>\n",
       "    </tr>\n",
       "  </thead>\n",
       "  <tbody>\n",
       "    <tr>\n",
       "      <th rowspan=\"5\" valign=\"top\">9997</th>\n",
       "      <th>2024-08-26</th>\n",
       "      <td>-0.016416</td>\n",
       "      <td>-0.001356</td>\n",
       "      <td>-0.016416</td>\n",
       "      <td>0.000000</td>\n",
       "    </tr>\n",
       "    <tr>\n",
       "      <th>2024-08-27</th>\n",
       "      <td>0.000000</td>\n",
       "      <td>-0.010914</td>\n",
       "      <td>-0.005502</td>\n",
       "      <td>0.005502</td>\n",
       "    </tr>\n",
       "    <tr>\n",
       "      <th>2024-08-28</th>\n",
       "      <td>0.016416</td>\n",
       "      <td>-0.005502</td>\n",
       "      <td>0.016416</td>\n",
       "      <td>0.000000</td>\n",
       "    </tr>\n",
       "    <tr>\n",
       "      <th>2024-08-29</th>\n",
       "      <td>-0.002717</td>\n",
       "      <td>0.015058</td>\n",
       "      <td>-0.001360</td>\n",
       "      <td>-0.001358</td>\n",
       "    </tr>\n",
       "    <tr>\n",
       "      <th>2024-08-30</th>\n",
       "      <td>0.009479</td>\n",
       "      <td>0.002714</td>\n",
       "      <td>0.005405</td>\n",
       "      <td>0.004073</td>\n",
       "    </tr>\n",
       "  </tbody>\n",
       "</table>\n",
       "</div>"
      ],
      "text/plain": [
       "                    returns  returns_oo  returns_id  returns_on\n",
       "TICKER DATETIME                                                \n",
       "9997   2024-08-26 -0.016416   -0.001356   -0.016416    0.000000\n",
       "       2024-08-27  0.000000   -0.010914   -0.005502    0.005502\n",
       "       2024-08-28  0.016416   -0.005502    0.016416    0.000000\n",
       "       2024-08-29 -0.002717    0.015058   -0.001360   -0.001358\n",
       "       2024-08-30  0.009479    0.002714    0.005405    0.004073"
      ]
     },
     "metadata": {},
     "output_type": "display_data"
    }
   ],
   "source": [
    "display(sdh.get_raw_data(data_id_alt).tail())\n",
    "display(sdh.get_raw_data(data_id_funda).tail())\n",
    "display(sdh.get_raw_data(data_id_mkt).tail())"
   ]
  },
  {
   "cell_type": "markdown",
   "id": "41cad8dd-e384-4109-a26f-cfe763873d09",
   "metadata": {},
   "source": [
    "> If you want to use your own financial data with the handler, please set the following flag to True. <br> Note that the sample financial data has already been adjusted for YoY."
   ]
  },
  {
   "cell_type": "code",
   "execution_count": 9,
   "id": "25dbb694-5833-4207-a3ba-e388a24c2736",
   "metadata": {
    "execution": {
     "iopub.execute_input": "2024-09-24T01:10:30.123884Z",
     "iopub.status.busy": "2024-09-24T01:10:30.123277Z",
     "iopub.status.idle": "2024-09-24T01:10:30.165981Z",
     "shell.execute_reply": "2024-09-24T01:10:30.165075Z",
     "shell.execute_reply.started": "2024-09-24T01:10:30.123853Z"
    }
   },
   "outputs": [],
   "source": [
    "USE_MY_FUNDA = False "
   ]
  },
  {
   "cell_type": "markdown",
   "id": "196c6608-9e39-4b66-8c74-c2aaf05dd892",
   "metadata": {},
   "source": [
    "> If you want to use your own market data with the handler, please set the following flag to True. <br> Note that the sample market data has already been adjusted for Returns."
   ]
  },
  {
   "cell_type": "code",
   "execution_count": 10,
   "id": "34730577-4224-4d70-9db7-ad0ec7800cb1",
   "metadata": {
    "execution": {
     "iopub.execute_input": "2024-09-24T01:10:30.167744Z",
     "iopub.status.busy": "2024-09-24T01:10:30.167139Z",
     "iopub.status.idle": "2024-09-24T01:10:30.231122Z",
     "shell.execute_reply": "2024-09-24T01:10:30.230213Z",
     "shell.execute_reply.started": "2024-09-24T01:10:30.167713Z"
    }
   },
   "outputs": [],
   "source": [
    "USE_MY_MKT = False "
   ]
  },
  {
   "cell_type": "markdown",
   "id": "9af5fb2f-56e2-40a4-9b6a-4a2eacdaaac9",
   "metadata": {},
   "source": [
    "## Step 3: Correlation Analysis\n",
    "Given the nature of aiQ POS Elec Goods data, it is expected that it should show some correlation with financial data (quarterly sales).\n",
    "\n",
    "Here, we will test this hypothesis to determine its validity."
   ]
  },
  {
   "cell_type": "markdown",
   "id": "d63027f1-09b6-4f25-87de-792d4d627e50",
   "metadata": {
    "execution": {
     "iopub.execute_input": "2024-07-01T13:04:14.722374Z",
     "iopub.status.busy": "2024-07-01T13:04:14.721512Z"
    }
   },
   "source": [
    "#### Use `AltDataEvaluator` to evaluate the alternative data."
   ]
  },
  {
   "cell_type": "code",
   "execution_count": 11,
   "id": "62b1890e-1063-48de-adb5-2ee5d0abf551",
   "metadata": {
    "execution": {
     "iopub.execute_input": "2024-09-24T01:10:30.232432Z",
     "iopub.status.busy": "2024-09-24T01:10:30.232148Z",
     "iopub.status.idle": "2024-09-24T01:10:33.629280Z",
     "shell.execute_reply": "2024-09-24T01:10:33.628208Z",
     "shell.execute_reply.started": "2024-09-24T01:10:30.232403Z"
    }
   },
   "outputs": [],
   "source": [
    "from aiq_strategy_robot.evaluator import AltDataEvaluator\n",
    "ade = AltDataEvaluator(sdh)"
   ]
  },
  {
   "cell_type": "markdown",
   "id": "05e27ad8-b895-4e1d-abec-e462dc30141e",
   "metadata": {},
   "source": [
    "#### Compare the Quarterly Sales Data Loaded in Step 2 with the `pos_sales` from POS Elec Goods\n",
    "- To enable comparison between the quarterly sales data and `pos_sales`, resample the latter."
   ]
  },
  {
   "cell_type": "code",
   "execution_count": 12,
   "id": "59e2ef1b-8419-47b6-a03a-e7d3f192bc20",
   "metadata": {
    "execution": {
     "iopub.execute_input": "2024-09-24T01:10:33.631743Z",
     "iopub.status.busy": "2024-09-24T01:10:33.630644Z",
     "iopub.status.idle": "2024-09-24T01:10:33.774300Z",
     "shell.execute_reply": "2024-09-24T01:10:33.773271Z",
     "shell.execute_reply.started": "2024-09-24T01:10:33.631707Z"
    }
   },
   "outputs": [],
   "source": [
    "sdh.transform.clear()\n",
    "funda_Q_ids = sdh.transform.resample(data_id=data_id_funda, rule='Q', func='last').variable_ids\n",
    "alt_Q_ids = sdh.transform.resample(data_id=data_id_alt, rule='Q', func='mean').variable_ids"
   ]
  },
  {
   "cell_type": "markdown",
   "id": "bb83f52c-9b6c-4a65-a0e2-b7ff09ebeb94",
   "metadata": {},
   "source": [
    "## Step 3.1: Plotting with Quarterly Sales\n",
    "\n",
    "Plot the quarterly sales data alongside the alternative data to visually inspect the data shapes.\n",
    "> It is recommended to compare with your financial data before applying YoY adjustments."
   ]
  },
  {
   "cell_type": "markdown",
   "id": "ccf47681-dfa6-448b-91bf-4bb47465603a",
   "metadata": {},
   "source": [
    "#### Create Variables from the Base `variable` and Visually Identify Which Matches the Financial Data\n",
    "- By using `sdh.transform`, you can create various variables and quickly evaluate which one has the strongest relationship with the financial data.\n",
    "- For a list of `transform` processes, please refer to the sample notebook provided with the `data handler`."
   ]
  },
  {
   "cell_type": "code",
   "execution_count": 14,
   "id": "4d62ece3-57a1-4657-977a-29b83c32f435",
   "metadata": {
    "execution": {
     "iopub.execute_input": "2024-09-24T01:10:33.909006Z",
     "iopub.status.busy": "2024-09-24T01:10:33.908377Z",
     "iopub.status.idle": "2024-09-24T01:10:33.971271Z",
     "shell.execute_reply": "2024-09-24T01:10:33.970231Z",
     "shell.execute_reply.started": "2024-09-24T01:10:33.908973Z"
    }
   },
   "outputs": [],
   "source": [
    "# サンプルの TICKER を選びます。\n",
    "sample_target = \"7984\"\n",
    "\n",
    "if USE_MY_FUNDA:\n",
    "    \n",
    "    # Plot the data to visually inspect its shape.\n",
    "    sdh.show_line_one_target(\n",
    "        target=sample_target, # Decide which TICKER's data to plot.\n",
    "        y=funda_Q_ids[0], # Specify the data to be displayed on the y-axis using the `variable_id`.\n",
    "        X= alt_Q_ids, # Specify the data to be displayed on the x-axis using a list of `variable_id`s (use a list when displaying multiple graphs simultaneously).\n",
    "        col_num=2, # Decide how many graphs to display in a single row.\n",
    "        vname_len_limit=50, # The title will display the variable names of the X `variable_id`s, but you can specify a character limit to shorten the display.\n",
    "    )\n",
    "    \n",
    "    # First, define the variables.\n",
    "    vid_alt = sdh.transform.raw(data_id=data_id_alt).variable_ids\n",
    "    alt_Q_shift_03_ids = sdh.transform.shift(fields=vid_alt, periods=3).resample(rule='Q', func='mean').variable_ids\n",
    "    alt_Q_shift_04_ids = sdh.transform.shift(fields=vid_alt, periods=4).resample(rule='Q', func='mean').variable_ids\n",
    "    alt_Q_shift_05_ids = sdh.transform.shift(fields=vid_alt, periods=5).resample(rule='Q', func='mean').variable_ids\n",
    "    alt_Q_shift_06_ids = sdh.transform.shift(fields=vid_alt, periods=6).resample(rule='Q', func='mean').variable_ids\n",
    "    alt_Q_shift_07_ids = sdh.transform.shift(fields=vid_alt, periods=7).resample(rule='Q', func='mean').variable_ids\n",
    "    alt_Q_shift_08_ids = sdh.transform.shift(fields=vid_alt, periods=8).resample(rule='Q', func='mean').variable_ids\n",
    "    alt_Q_shift_09_ids = sdh.transform.shift(fields=vid_alt, periods=9).resample(rule='Q', func='mean').variable_ids\n",
    "    alt_Q_shift_12_ids = sdh.transform.shift(fields=vid_alt, periods=12).resample(rule='Q', func='mean').variable_ids\n",
    "\n",
    "    # Plot the variables created above to visually inspect them.\n",
    "    sdh.show_line_one_target(\n",
    "        target=sample_target,\n",
    "        y=funda_Q_ids[0],\n",
    "        X=[alt_Q_shift_03_ids[0], alt_Q_shift_03_ids[4],\n",
    "           alt_Q_shift_04_ids[0], alt_Q_shift_04_ids[4], \n",
    "           alt_Q_shift_05_ids[0], alt_Q_shift_05_ids[4],\n",
    "           alt_Q_shift_06_ids[0], alt_Q_shift_06_ids[4], \n",
    "           alt_Q_shift_07_ids[0], alt_Q_shift_07_ids[4], \n",
    "           alt_Q_shift_08_ids[0], alt_Q_shift_08_ids[4], \n",
    "           alt_Q_shift_09_ids[0], alt_Q_shift_09_ids[4],\n",
    "           alt_Q_shift_12_ids[0], alt_Q_shift_12_ids[4]],\n",
    "        col_num=2\n",
    "    )\n",
    "\n",
    "    # For the next step, calculate the year-over-year (YoY) change and create a variable with an additional lagged difference to address cases where trends might cause apparent correlations.\n",
    "    sales_id                        = sdh.transform.log_diff(fields=funda_Q_ids, periods=4).variable_ids[-1]\n",
    "    sales_diff_id                   = sdh.transform.log_diff(fields=funda_Q_ids, periods=4).diff(periods=1).variable_ids[-1]\n",
    "    \n"
   ]
  },
  {
   "cell_type": "code",
   "execution_count": 15,
   "id": "06c2d3a3-22f9-49dd-b060-613307e99d37",
   "metadata": {
    "execution": {
     "iopub.execute_input": "2024-09-24T01:10:33.973222Z",
     "iopub.status.busy": "2024-09-24T01:10:33.972507Z",
     "iopub.status.idle": "2024-09-24T01:10:36.360318Z",
     "shell.execute_reply": "2024-09-24T01:10:36.359318Z",
     "shell.execute_reply.started": "2024-09-24T01:10:33.973189Z"
    }
   },
   "outputs": [
    {
     "data": {
      "image/png": "[encoded data removed]",
      "text/plain": [
       "<Figure size 2000x1000 with 4 Axes>"
      ]
     },
     "metadata": {},
     "output_type": "display_data"
    }
   ],
   "source": [
    "if not USE_MY_FUNDA:\n",
    "\n",
    "    # Convert the POS data to YoY as well for comparison with the financial data.\n",
    "    alt_Q_yoy_ids = sdh.transform.log_diff(periods=4, fields=alt_Q_ids).variable_ids\n",
    "\n",
    "    # Plot the data to visually inspect its shape.\n",
    "    sdh.show_scatter_one_target(\n",
    "        target=sample_target,\n",
    "        y=funda_Q_ids[0],\n",
    "        X=alt_Q_yoy_ids,\n",
    "        col_num=2,\n",
    "        vname_len_limit=35\n",
    "    )\n",
    "\n",
    "    # Define the variables.\n",
    "    vid_alt = sdh.transform.raw(data_id=data_id_alt).variable_ids\n",
    "        # + sdh.transform.mul(data_id=data_id_alt, x1field=\"pos_sales\", x2field=\"unit_price\", name=\"sales*uprice\").variable_ids\n",
    "    alt_Q_shift_03_ids = sdh.transform.shift(fields=vid_alt, periods=3).resample(rule='Q', func='mean').variable_ids\n",
    "    alt_Q_shift_04_ids = sdh.transform.shift(fields=vid_alt, periods=4).resample(rule='Q', func='mean').variable_ids\n",
    "    alt_Q_shift_05_ids = sdh.transform.shift(fields=vid_alt, periods=5).resample(rule='Q', func='mean').variable_ids\n",
    "    alt_Q_shift_06_ids = sdh.transform.shift(fields=vid_alt, periods=6).resample(rule='Q', func='mean').variable_ids\n",
    "    alt_Q_shift_07_ids = sdh.transform.shift(fields=vid_alt, periods=7).resample(rule='Q', func='mean').variable_ids\n",
    "    alt_Q_shift_08_ids = sdh.transform.shift(fields=vid_alt, periods=8).resample(rule='Q', func='mean').variable_ids\n",
    "    alt_Q_shift_09_ids = sdh.transform.shift(fields=vid_alt, periods=9).resample(rule='Q', func='mean').variable_ids\n",
    "    alt_Q_shift_12_ids = sdh.transform.shift(fields=vid_alt, periods=12).resample(rule='Q', func='mean').variable_ids\n",
    "\n",
    "\n",
    "    # To address cases where trends might cause apparent correlations, create a variable with an additional lagged difference.\n",
    "    sales_id = funda_Q_ids[0]\n",
    "    sales_diff_id = sdh.transform.diff(fields=funda_Q_ids, periods=1).variable_ids[-1]\n",
    "    "
   ]
  },
  {
   "cell_type": "code",
   "execution_count": 16,
   "id": "484c42bd-6c6d-4d65-bcaf-d497f62b8f07",
   "metadata": {
    "execution": {
     "iopub.execute_input": "2024-09-24T01:10:36.362311Z",
     "iopub.status.busy": "2024-09-24T01:10:36.361650Z",
     "iopub.status.idle": "2024-09-24T01:10:36.519936Z",
     "shell.execute_reply": "2024-09-24T01:10:36.518945Z",
     "shell.execute_reply.started": "2024-09-24T01:10:36.362276Z"
    }
   },
   "outputs": [],
   "source": [
    "# Convert the data to year-over-year (YoY) changes and then calculate the correlation coefficients between sales and the alternative data.\n",
    "alt_Q_shift_00_logdiff_ids      = sdh.transform.log_diff(fields=alt_Q_ids,          periods=4).variable_ids\n",
    "alt_Q_shift_03_logdiff_ids      = sdh.transform.log_diff(fields=alt_Q_shift_03_ids, periods=4).variable_ids\n",
    "alt_Q_shift_04_logdiff_ids      = sdh.transform.log_diff(fields=alt_Q_shift_04_ids, periods=4).variable_ids\n",
    "alt_Q_shift_05_logdiff_ids      = sdh.transform.log_diff(fields=alt_Q_shift_05_ids, periods=4).variable_ids\n",
    "alt_Q_shift_06_logdiff_ids      = sdh.transform.log_diff(fields=alt_Q_shift_06_ids, periods=4).variable_ids\n",
    "alt_Q_shift_07_logdiff_ids      = sdh.transform.log_diff(fields=alt_Q_shift_07_ids, periods=4).variable_ids\n",
    "alt_Q_shift_08_logdiff_ids      = sdh.transform.log_diff(fields=alt_Q_shift_08_ids, periods=4).variable_ids\n",
    "alt_Q_shift_09_logdiff_ids      = sdh.transform.log_diff(fields=alt_Q_shift_09_ids, periods=4).variable_ids\n",
    "alt_Q_shift_12_logdiff_ids      = sdh.transform.log_diff(fields=alt_Q_shift_12_ids, periods=4).variable_ids\n",
    "\n",
    "# To address cases where trends might cause apparent correlations, also create variables with an additional lagged difference.\n",
    "alt_Q_shift_00_logdiff_diff_ids = sdh.transform.log_diff(fields=alt_Q_ids,          periods=4).diff(periods=1).variable_ids\n",
    "alt_Q_shift_03_logdiff_diff_ids = sdh.transform.log_diff(fields=alt_Q_shift_03_ids, periods=4).diff(periods=1).variable_ids\n",
    "alt_Q_shift_04_logdiff_diff_ids = sdh.transform.log_diff(fields=alt_Q_shift_04_ids, periods=4).diff(periods=1).variable_ids\n",
    "alt_Q_shift_05_logdiff_diff_ids = sdh.transform.log_diff(fields=alt_Q_shift_05_ids, periods=4).diff(periods=1).variable_ids\n",
    "alt_Q_shift_06_logdiff_diff_ids = sdh.transform.log_diff(fields=alt_Q_shift_06_ids, periods=4).diff(periods=1).variable_ids\n",
    "alt_Q_shift_07_logdiff_diff_ids = sdh.transform.log_diff(fields=alt_Q_shift_07_ids, periods=4).diff(periods=1).variable_ids\n",
    "alt_Q_shift_08_logdiff_diff_ids = sdh.transform.log_diff(fields=alt_Q_shift_08_ids, periods=4).diff(periods=1).variable_ids\n",
    "alt_Q_shift_09_logdiff_diff_ids = sdh.transform.log_diff(fields=alt_Q_shift_09_ids, periods=4).diff(periods=1).variable_ids\n",
    "alt_Q_shift_12_logdiff_diff_ids = sdh.transform.log_diff(fields=alt_Q_shift_12_ids, periods=4).diff(periods=1).variable_ids"
   ]
  },
  {
   "cell_type": "markdown",
   "id": "623db210-d594-446a-b718-2949fac91d41",
   "metadata": {},
   "source": [
    "#### Correlation Calculation"
   ]
  },
  {
   "cell_type": "code",
   "execution_count": 17,
   "id": "31c9b452-37f0-4733-9c4f-c734d502cb64",
   "metadata": {
    "execution": {
     "iopub.execute_input": "2024-09-24T01:10:36.521992Z",
     "iopub.status.busy": "2024-09-24T01:10:36.521302Z",
     "iopub.status.idle": "2024-09-24T01:10:49.169059Z",
     "shell.execute_reply": "2024-09-24T01:10:49.168159Z",
     "shell.execute_reply.started": "2024-09-24T01:10:36.521957Z"
    }
   },
   "outputs": [
    {
     "data": {
      "text/html": [
       "<div>\n",
       "<style scoped>\n",
       "    .dataframe tbody tr th:only-of-type {\n",
       "        vertical-align: middle;\n",
       "    }\n",
       "\n",
       "    .dataframe tbody tr th {\n",
       "        vertical-align: top;\n",
       "    }\n",
       "\n",
       "    .dataframe thead th {\n",
       "        text-align: right;\n",
       "    }\n",
       "</style>\n",
       "<table border=\"1\" class=\"dataframe\">\n",
       "  <thead>\n",
       "    <tr style=\"text-align: right;\">\n",
       "      <th></th>\n",
       "      <th>n_shift=00</th>\n",
       "      <th>n_shift=03</th>\n",
       "      <th>n_shift=04</th>\n",
       "      <th>n_shift=05</th>\n",
       "      <th>n_shift=06</th>\n",
       "      <th>n_shift=07</th>\n",
       "      <th>n_shift=08</th>\n",
       "      <th>n_shift=09</th>\n",
       "      <th>n_shift=12</th>\n",
       "      <th>n_shift=00_diff=1</th>\n",
       "      <th>n_shift=03_diff=1</th>\n",
       "      <th>n_shift=04_diff=1</th>\n",
       "      <th>n_shift=05_diff=1</th>\n",
       "      <th>n_shift=06_diff=1</th>\n",
       "      <th>n_shift=07_diff=1</th>\n",
       "      <th>n_shift=08_diff=1</th>\n",
       "      <th>n_shift=09_diff=1</th>\n",
       "      <th>n_shift=12_diff=1</th>\n",
       "    </tr>\n",
       "  </thead>\n",
       "  <tbody>\n",
       "    <tr>\n",
       "      <th>pos_sales</th>\n",
       "      <td>3.230455</td>\n",
       "      <td>2.822745</td>\n",
       "      <td>3.193368</td>\n",
       "      <td>2.971281</td>\n",
       "      <td>2.478163</td>\n",
       "      <td>2.567161</td>\n",
       "      <td>2.715457</td>\n",
       "      <td>2.493288</td>\n",
       "      <td>2.813557</td>\n",
       "      <td>4.643998</td>\n",
       "      <td>4.528631</td>\n",
       "      <td>4.819334</td>\n",
       "      <td>3.983943</td>\n",
       "      <td>3.955331</td>\n",
       "      <td>4.109877</td>\n",
       "      <td>3.163388</td>\n",
       "      <td>2.986775</td>\n",
       "      <td>3.952917</td>\n",
       "    </tr>\n",
       "    <tr>\n",
       "      <th>unit_price</th>\n",
       "      <td>2.905573</td>\n",
       "      <td>2.441230</td>\n",
       "      <td>2.990067</td>\n",
       "      <td>2.682825</td>\n",
       "      <td>2.318476</td>\n",
       "      <td>2.049171</td>\n",
       "      <td>2.647180</td>\n",
       "      <td>2.342878</td>\n",
       "      <td>2.574063</td>\n",
       "      <td>4.165601</td>\n",
       "      <td>4.045830</td>\n",
       "      <td>4.357250</td>\n",
       "      <td>3.668201</td>\n",
       "      <td>4.095851</td>\n",
       "      <td>3.891894</td>\n",
       "      <td>3.638605</td>\n",
       "      <td>3.547657</td>\n",
       "      <td>5.620642</td>\n",
       "    </tr>\n",
       "    <tr>\n",
       "      <th>unit_price_vs_ind</th>\n",
       "      <td>0.001091</td>\n",
       "      <td>-0.901375</td>\n",
       "      <td>-0.359605</td>\n",
       "      <td>-0.390035</td>\n",
       "      <td>-0.323414</td>\n",
       "      <td>-0.323269</td>\n",
       "      <td>-0.180948</td>\n",
       "      <td>-0.020067</td>\n",
       "      <td>-0.362486</td>\n",
       "      <td>0.744870</td>\n",
       "      <td>0.439588</td>\n",
       "      <td>1.230416</td>\n",
       "      <td>1.456911</td>\n",
       "      <td>2.047968</td>\n",
       "      <td>1.572284</td>\n",
       "      <td>0.589530</td>\n",
       "      <td>0.358036</td>\n",
       "      <td>0.933793</td>\n",
       "    </tr>\n",
       "    <tr>\n",
       "      <th>share</th>\n",
       "      <td>-0.625008</td>\n",
       "      <td>-1.469521</td>\n",
       "      <td>-0.419332</td>\n",
       "      <td>-0.887771</td>\n",
       "      <td>-0.829947</td>\n",
       "      <td>-0.837020</td>\n",
       "      <td>-1.391894</td>\n",
       "      <td>-1.161251</td>\n",
       "      <td>-1.089137</td>\n",
       "      <td>-0.050868</td>\n",
       "      <td>-0.263884</td>\n",
       "      <td>0.152852</td>\n",
       "      <td>-1.007696</td>\n",
       "      <td>-0.365258</td>\n",
       "      <td>-0.109306</td>\n",
       "      <td>-1.360463</td>\n",
       "      <td>-1.605986</td>\n",
       "      <td>-0.859411</td>\n",
       "    </tr>\n",
       "  </tbody>\n",
       "</table>\n",
       "</div>"
      ],
      "text/plain": [
       "                   n_shift=00  n_shift=03  n_shift=04  n_shift=05  n_shift=06  \\\n",
       "pos_sales            3.230455    2.822745    3.193368    2.971281    2.478163   \n",
       "unit_price           2.905573    2.441230    2.990067    2.682825    2.318476   \n",
       "unit_price_vs_ind    0.001091   -0.901375   -0.359605   -0.390035   -0.323414   \n",
       "share               -0.625008   -1.469521   -0.419332   -0.887771   -0.829947   \n",
       "\n",
       "                   n_shift=07  n_shift=08  n_shift=09  n_shift=12  \\\n",
       "pos_sales            2.567161    2.715457    2.493288    2.813557   \n",
       "unit_price           2.049171    2.647180    2.342878    2.574063   \n",
       "unit_price_vs_ind   -0.323269   -0.180948   -0.020067   -0.362486   \n",
       "share               -0.837020   -1.391894   -1.161251   -1.089137   \n",
       "\n",
       "                   n_shift=00_diff=1  n_shift=03_diff=1  n_shift=04_diff=1  \\\n",
       "pos_sales                   4.643998           4.528631           4.819334   \n",
       "unit_price                  4.165601           4.045830           4.357250   \n",
       "unit_price_vs_ind           0.744870           0.439588           1.230416   \n",
       "share                      -0.050868          -0.263884           0.152852   \n",
       "\n",
       "                   n_shift=05_diff=1  n_shift=06_diff=1  n_shift=07_diff=1  \\\n",
       "pos_sales                   3.983943           3.955331           4.109877   \n",
       "unit_price                  3.668201           4.095851           3.891894   \n",
       "unit_price_vs_ind           1.456911           2.047968           1.572284   \n",
       "share                      -1.007696          -0.365258          -0.109306   \n",
       "\n",
       "                   n_shift=08_diff=1  n_shift=09_diff=1  n_shift=12_diff=1  \n",
       "pos_sales                   3.163388           2.986775           3.952917  \n",
       "unit_price                  3.638605           3.547657           5.620642  \n",
       "unit_price_vs_ind           0.589530           0.358036           0.933793  \n",
       "share                      -1.360463          -1.605986          -0.859411  "
      ]
     },
     "metadata": {},
     "output_type": "display_data"
    }
   ],
   "source": [
    "rho_pool = pd.DataFrame()\n",
    "rho_pool['n_shift=00'] = ade.compu_rho(alt_Q_shift_00_logdiff_ids, sales_id, rename_features=features)\n",
    "rho_pool['n_shift=03'] = ade.compu_rho(alt_Q_shift_03_logdiff_ids, sales_id, rename_features=features)\n",
    "rho_pool['n_shift=04'] = ade.compu_rho(alt_Q_shift_04_logdiff_ids, sales_id, rename_features=features)\n",
    "rho_pool['n_shift=05'] = ade.compu_rho(alt_Q_shift_05_logdiff_ids, sales_id, rename_features=features)\n",
    "rho_pool['n_shift=06'] = ade.compu_rho(alt_Q_shift_06_logdiff_ids, sales_id, rename_features=features)\n",
    "rho_pool['n_shift=07'] = ade.compu_rho(alt_Q_shift_07_logdiff_ids, sales_id, rename_features=features)\n",
    "rho_pool['n_shift=08'] = ade.compu_rho(alt_Q_shift_08_logdiff_ids, sales_id, rename_features=features)\n",
    "rho_pool['n_shift=09'] = ade.compu_rho(alt_Q_shift_09_logdiff_ids, sales_id, rename_features=features)\n",
    "rho_pool['n_shift=12'] = ade.compu_rho(alt_Q_shift_12_logdiff_ids, sales_id, rename_features=features)\n",
    "rho_pool['n_shift=00_diff=1'] = ade.compu_rho(alt_Q_shift_00_logdiff_diff_ids, sales_diff_id, rename_features=features)\n",
    "rho_pool['n_shift=03_diff=1'] = ade.compu_rho(alt_Q_shift_03_logdiff_diff_ids, sales_diff_id, rename_features=features)\n",
    "rho_pool['n_shift=04_diff=1'] = ade.compu_rho(alt_Q_shift_04_logdiff_diff_ids, sales_diff_id, rename_features=features)\n",
    "rho_pool['n_shift=05_diff=1'] = ade.compu_rho(alt_Q_shift_05_logdiff_diff_ids, sales_diff_id, rename_features=features)\n",
    "rho_pool['n_shift=06_diff=1'] = ade.compu_rho(alt_Q_shift_06_logdiff_diff_ids, sales_diff_id, rename_features=features)\n",
    "rho_pool['n_shift=07_diff=1'] = ade.compu_rho(alt_Q_shift_07_logdiff_diff_ids, sales_diff_id, rename_features=features)\n",
    "rho_pool['n_shift=08_diff=1'] = ade.compu_rho(alt_Q_shift_08_logdiff_diff_ids, sales_diff_id, rename_features=features)\n",
    "rho_pool['n_shift=09_diff=1'] = ade.compu_rho(alt_Q_shift_09_logdiff_diff_ids, sales_diff_id, rename_features=features)\n",
    "rho_pool['n_shift=12_diff=1'] = ade.compu_rho(alt_Q_shift_12_logdiff_diff_ids, sales_diff_id, rename_features=features)\n",
    "display(rho_pool.xs('t-val', level=1).sort_values(rho_pool.columns[0], ascending=False))"
   ]
  },
  {
   "cell_type": "markdown",
   "id": "15ad38ef-70a4-418c-ba74-078e6cf88553",
   "metadata": {},
   "source": [
    "- Since `pos_sales` and `unit_price` are found to have a high correlation with the financial data, create a new variable that is the product of these two."
   ]
  },
  {
   "cell_type": "code",
   "execution_count": 18,
   "id": "bf91ff97-f077-4455-b438-afec778d3807",
   "metadata": {
    "execution": {
     "iopub.execute_input": "2024-09-24T01:10:49.170501Z",
     "iopub.status.busy": "2024-09-24T01:10:49.170195Z",
     "iopub.status.idle": "2024-09-24T01:10:49.860564Z",
     "shell.execute_reply": "2024-09-24T01:10:49.859485Z",
     "shell.execute_reply.started": "2024-09-24T01:10:49.170471Z"
    }
   },
   "outputs": [
    {
     "data": {
      "text/plain": [
       "['pos_sales', 'share', 'unit_price', 'unit_price_vs_ind', 'sales*uprice']"
      ]
     },
     "execution_count": 18,
     "metadata": {},
     "output_type": "execute_result"
    }
   ],
   "source": [
    "combo_feature = \"sales*uprice\"\n",
    "\n",
    "alt_Q_ids = alt_Q_ids + sdh.transform.mul(data_id=data_id_alt, x1field=\"pos_sales\", x2field=\"unit_price\", name=combo_feature).resample(rule='Q', func='mean').variable_ids\n",
    "vid_alt = sdh.transform.raw(data_id=data_id_alt).variable_ids + sdh.transform.raw(fields=combo_feature).variable_ids\n",
    "alt_Q_shift_03_ids = sdh.transform.shift(fields=vid_alt, periods=3).resample(rule='Q', func='mean').variable_ids\n",
    "alt_Q_shift_04_ids = sdh.transform.shift(fields=vid_alt, periods=4).resample(rule='Q', func='mean').variable_ids\n",
    "alt_Q_shift_05_ids = sdh.transform.shift(fields=vid_alt, periods=5).resample(rule='Q', func='mean').variable_ids\n",
    "alt_Q_shift_06_ids = sdh.transform.shift(fields=vid_alt, periods=6).resample(rule='Q', func='mean').variable_ids\n",
    "alt_Q_shift_07_ids = sdh.transform.shift(fields=vid_alt, periods=7).resample(rule='Q', func='mean').variable_ids\n",
    "alt_Q_shift_08_ids = sdh.transform.shift(fields=vid_alt, periods=8).resample(rule='Q', func='mean').variable_ids\n",
    "alt_Q_shift_09_ids = sdh.transform.shift(fields=vid_alt, periods=9).resample(rule='Q', func='mean').variable_ids\n",
    "alt_Q_shift_12_ids = sdh.transform.shift(fields=vid_alt, periods=12).resample(rule='Q', func='mean').variable_ids\n",
    "\n",
    "# Convert the data to year-over-year (YoY) changes and then calculate the correlation coefficients between sales and the alternative data.\n",
    "alt_Q_shift_00_logdiff_ids      = sdh.transform.log_diff(fields=alt_Q_ids,          periods=4).variable_ids\n",
    "alt_Q_shift_03_logdiff_ids      = sdh.transform.log_diff(fields=alt_Q_shift_03_ids, periods=4).variable_ids\n",
    "alt_Q_shift_04_logdiff_ids      = sdh.transform.log_diff(fields=alt_Q_shift_04_ids, periods=4).variable_ids\n",
    "alt_Q_shift_05_logdiff_ids      = sdh.transform.log_diff(fields=alt_Q_shift_05_ids, periods=4).variable_ids\n",
    "alt_Q_shift_06_logdiff_ids      = sdh.transform.log_diff(fields=alt_Q_shift_06_ids, periods=4).variable_ids\n",
    "alt_Q_shift_07_logdiff_ids      = sdh.transform.log_diff(fields=alt_Q_shift_07_ids, periods=4).variable_ids\n",
    "alt_Q_shift_08_logdiff_ids      = sdh.transform.log_diff(fields=alt_Q_shift_08_ids, periods=4).variable_ids\n",
    "alt_Q_shift_09_logdiff_ids      = sdh.transform.log_diff(fields=alt_Q_shift_09_ids, periods=4).variable_ids\n",
    "alt_Q_shift_12_logdiff_ids      = sdh.transform.log_diff(fields=alt_Q_shift_12_ids, periods=4).variable_ids\n",
    "\n",
    "# To address cases where trends might cause apparent correlations, also create variables with an additional lagged difference.\n",
    "alt_Q_shift_00_logdiff_diff_ids = sdh.transform.log_diff(fields=alt_Q_ids,          periods=4).diff(periods=1).variable_ids\n",
    "alt_Q_shift_03_logdiff_diff_ids = sdh.transform.log_diff(fields=alt_Q_shift_03_ids, periods=4).diff(periods=1).variable_ids\n",
    "alt_Q_shift_04_logdiff_diff_ids = sdh.transform.log_diff(fields=alt_Q_shift_04_ids, periods=4).diff(periods=1).variable_ids\n",
    "alt_Q_shift_05_logdiff_diff_ids = sdh.transform.log_diff(fields=alt_Q_shift_05_ids, periods=4).diff(periods=1).variable_ids\n",
    "alt_Q_shift_06_logdiff_diff_ids = sdh.transform.log_diff(fields=alt_Q_shift_06_ids, periods=4).diff(periods=1).variable_ids\n",
    "alt_Q_shift_07_logdiff_diff_ids = sdh.transform.log_diff(fields=alt_Q_shift_07_ids, periods=4).diff(periods=1).variable_ids\n",
    "alt_Q_shift_08_logdiff_diff_ids = sdh.transform.log_diff(fields=alt_Q_shift_08_ids, periods=4).diff(periods=1).variable_ids\n",
    "alt_Q_shift_09_logdiff_diff_ids = sdh.transform.log_diff(fields=alt_Q_shift_09_ids, periods=4).diff(periods=1).variable_ids\n",
    "alt_Q_shift_12_logdiff_diff_ids = sdh.transform.log_diff(fields=alt_Q_shift_12_ids, periods=4).diff(periods=1).variable_ids\n",
    "\n",
    "features = list(sdh.get_raw_data(data_id_alt).columns) + [combo_feature]\n",
    "features"
   ]
  },
  {
   "cell_type": "code",
   "execution_count": 20,
   "id": "9382e833-6556-42df-b4a2-78a391720505",
   "metadata": {
    "execution": {
     "iopub.execute_input": "2024-09-24T01:10:49.927316Z",
     "iopub.status.busy": "2024-09-24T01:10:49.926945Z",
     "iopub.status.idle": "2024-09-24T01:11:08.449857Z",
     "shell.execute_reply": "2024-09-24T01:11:08.448762Z",
     "shell.execute_reply.started": "2024-09-24T01:10:49.927286Z"
    }
   },
   "outputs": [
    {
     "data": {
      "text/html": [
       "<div>\n",
       "<style scoped>\n",
       "    .dataframe tbody tr th:only-of-type {\n",
       "        vertical-align: middle;\n",
       "    }\n",
       "\n",
       "    .dataframe tbody tr th {\n",
       "        vertical-align: top;\n",
       "    }\n",
       "\n",
       "    .dataframe thead th {\n",
       "        text-align: right;\n",
       "    }\n",
       "</style>\n",
       "<table border=\"1\" class=\"dataframe\">\n",
       "  <thead>\n",
       "    <tr style=\"text-align: right;\">\n",
       "      <th></th>\n",
       "      <th>n_shift=00</th>\n",
       "      <th>n_shift=03</th>\n",
       "      <th>n_shift=04</th>\n",
       "      <th>n_shift=05</th>\n",
       "      <th>n_shift=06</th>\n",
       "      <th>n_shift=07</th>\n",
       "      <th>n_shift=08</th>\n",
       "      <th>n_shift=09</th>\n",
       "      <th>n_shift=12</th>\n",
       "      <th>n_shift=00_diff=1</th>\n",
       "      <th>n_shift=03_diff=1</th>\n",
       "      <th>n_shift=04_diff=1</th>\n",
       "      <th>n_shift=05_diff=1</th>\n",
       "      <th>n_shift=06_diff=1</th>\n",
       "      <th>n_shift=07_diff=1</th>\n",
       "      <th>n_shift=08_diff=1</th>\n",
       "      <th>n_shift=09_diff=1</th>\n",
       "      <th>n_shift=12_diff=1</th>\n",
       "    </tr>\n",
       "  </thead>\n",
       "  <tbody>\n",
       "    <tr>\n",
       "      <th>sales*uprice</th>\n",
       "      <td>4.419871</td>\n",
       "      <td>3.867349</td>\n",
       "      <td>4.155552</td>\n",
       "      <td>3.876635</td>\n",
       "      <td>3.620575</td>\n",
       "      <td>3.612087</td>\n",
       "      <td>3.743074</td>\n",
       "      <td>3.362170</td>\n",
       "      <td>3.944505</td>\n",
       "      <td>6.067117</td>\n",
       "      <td>5.710304</td>\n",
       "      <td>5.646159</td>\n",
       "      <td>5.035571</td>\n",
       "      <td>4.755087</td>\n",
       "      <td>4.927017</td>\n",
       "      <td>4.354537</td>\n",
       "      <td>4.151083</td>\n",
       "      <td>5.530334</td>\n",
       "    </tr>\n",
       "    <tr>\n",
       "      <th>pos_sales</th>\n",
       "      <td>3.230455</td>\n",
       "      <td>2.822745</td>\n",
       "      <td>3.193368</td>\n",
       "      <td>2.971281</td>\n",
       "      <td>2.478163</td>\n",
       "      <td>2.567161</td>\n",
       "      <td>2.715457</td>\n",
       "      <td>2.493288</td>\n",
       "      <td>2.813557</td>\n",
       "      <td>4.643998</td>\n",
       "      <td>4.528631</td>\n",
       "      <td>4.819334</td>\n",
       "      <td>3.983943</td>\n",
       "      <td>3.955331</td>\n",
       "      <td>4.109877</td>\n",
       "      <td>3.163388</td>\n",
       "      <td>2.986775</td>\n",
       "      <td>3.952917</td>\n",
       "    </tr>\n",
       "    <tr>\n",
       "      <th>unit_price</th>\n",
       "      <td>2.905573</td>\n",
       "      <td>2.441230</td>\n",
       "      <td>2.990067</td>\n",
       "      <td>2.682825</td>\n",
       "      <td>2.318476</td>\n",
       "      <td>2.049171</td>\n",
       "      <td>2.647180</td>\n",
       "      <td>2.342878</td>\n",
       "      <td>2.574063</td>\n",
       "      <td>4.165601</td>\n",
       "      <td>4.045830</td>\n",
       "      <td>4.357250</td>\n",
       "      <td>3.668201</td>\n",
       "      <td>4.095851</td>\n",
       "      <td>3.891894</td>\n",
       "      <td>3.638605</td>\n",
       "      <td>3.547657</td>\n",
       "      <td>5.620642</td>\n",
       "    </tr>\n",
       "    <tr>\n",
       "      <th>unit_price_vs_ind</th>\n",
       "      <td>0.001091</td>\n",
       "      <td>-0.901375</td>\n",
       "      <td>-0.359605</td>\n",
       "      <td>-0.390035</td>\n",
       "      <td>-0.323414</td>\n",
       "      <td>-0.323269</td>\n",
       "      <td>-0.180948</td>\n",
       "      <td>-0.020067</td>\n",
       "      <td>-0.362486</td>\n",
       "      <td>0.744870</td>\n",
       "      <td>0.439588</td>\n",
       "      <td>1.230416</td>\n",
       "      <td>1.456911</td>\n",
       "      <td>2.047968</td>\n",
       "      <td>1.572284</td>\n",
       "      <td>0.589530</td>\n",
       "      <td>0.358036</td>\n",
       "      <td>0.933793</td>\n",
       "    </tr>\n",
       "    <tr>\n",
       "      <th>share</th>\n",
       "      <td>-0.625008</td>\n",
       "      <td>-1.469521</td>\n",
       "      <td>-0.419332</td>\n",
       "      <td>-0.887771</td>\n",
       "      <td>-0.829947</td>\n",
       "      <td>-0.837020</td>\n",
       "      <td>-1.391894</td>\n",
       "      <td>-1.161251</td>\n",
       "      <td>-1.089137</td>\n",
       "      <td>-0.050868</td>\n",
       "      <td>-0.263884</td>\n",
       "      <td>0.152852</td>\n",
       "      <td>-1.007696</td>\n",
       "      <td>-0.365258</td>\n",
       "      <td>-0.109306</td>\n",
       "      <td>-1.360463</td>\n",
       "      <td>-1.605986</td>\n",
       "      <td>-0.859411</td>\n",
       "    </tr>\n",
       "  </tbody>\n",
       "</table>\n",
       "</div>"
      ],
      "text/plain": [
       "                   n_shift=00  n_shift=03  n_shift=04  n_shift=05  n_shift=06  \\\n",
       "sales*uprice         4.419871    3.867349    4.155552    3.876635    3.620575   \n",
       "pos_sales            3.230455    2.822745    3.193368    2.971281    2.478163   \n",
       "unit_price           2.905573    2.441230    2.990067    2.682825    2.318476   \n",
       "unit_price_vs_ind    0.001091   -0.901375   -0.359605   -0.390035   -0.323414   \n",
       "share               -0.625008   -1.469521   -0.419332   -0.887771   -0.829947   \n",
       "\n",
       "                   n_shift=07  n_shift=08  n_shift=09  n_shift=12  \\\n",
       "sales*uprice         3.612087    3.743074    3.362170    3.944505   \n",
       "pos_sales            2.567161    2.715457    2.493288    2.813557   \n",
       "unit_price           2.049171    2.647180    2.342878    2.574063   \n",
       "unit_price_vs_ind   -0.323269   -0.180948   -0.020067   -0.362486   \n",
       "share               -0.837020   -1.391894   -1.161251   -1.089137   \n",
       "\n",
       "                   n_shift=00_diff=1  n_shift=03_diff=1  n_shift=04_diff=1  \\\n",
       "sales*uprice                6.067117           5.710304           5.646159   \n",
       "pos_sales                   4.643998           4.528631           4.819334   \n",
       "unit_price                  4.165601           4.045830           4.357250   \n",
       "unit_price_vs_ind           0.744870           0.439588           1.230416   \n",
       "share                      -0.050868          -0.263884           0.152852   \n",
       "\n",
       "                   n_shift=05_diff=1  n_shift=06_diff=1  n_shift=07_diff=1  \\\n",
       "sales*uprice                5.035571           4.755087           4.927017   \n",
       "pos_sales                   3.983943           3.955331           4.109877   \n",
       "unit_price                  3.668201           4.095851           3.891894   \n",
       "unit_price_vs_ind           1.456911           2.047968           1.572284   \n",
       "share                      -1.007696          -0.365258          -0.109306   \n",
       "\n",
       "                   n_shift=08_diff=1  n_shift=09_diff=1  n_shift=12_diff=1  \n",
       "sales*uprice                4.354537           4.151083           5.530334  \n",
       "pos_sales                   3.163388           2.986775           3.952917  \n",
       "unit_price                  3.638605           3.547657           5.620642  \n",
       "unit_price_vs_ind           0.589530           0.358036           0.933793  \n",
       "share                      -1.360463          -1.605986          -0.859411  "
      ]
     },
     "metadata": {},
     "output_type": "display_data"
    }
   ],
   "source": [
    "rho_pool = pd.DataFrame()\n",
    "rho_pool['n_shift=00'] = ade.compu_rho(alt_Q_shift_00_logdiff_ids, sales_id, rename_features=features)\n",
    "rho_pool['n_shift=03'] = ade.compu_rho(alt_Q_shift_03_logdiff_ids, sales_id, rename_features=features)\n",
    "rho_pool['n_shift=04'] = ade.compu_rho(alt_Q_shift_04_logdiff_ids, sales_id, rename_features=features)\n",
    "rho_pool['n_shift=05'] = ade.compu_rho(alt_Q_shift_05_logdiff_ids, sales_id, rename_features=features)\n",
    "rho_pool['n_shift=06'] = ade.compu_rho(alt_Q_shift_06_logdiff_ids, sales_id, rename_features=features)\n",
    "rho_pool['n_shift=07'] = ade.compu_rho(alt_Q_shift_07_logdiff_ids, sales_id, rename_features=features)\n",
    "rho_pool['n_shift=08'] = ade.compu_rho(alt_Q_shift_08_logdiff_ids, sales_id, rename_features=features)\n",
    "rho_pool['n_shift=09'] = ade.compu_rho(alt_Q_shift_09_logdiff_ids, sales_id, rename_features=features)\n",
    "rho_pool['n_shift=12'] = ade.compu_rho(alt_Q_shift_12_logdiff_ids, sales_id, rename_features=features)\n",
    "rho_pool['n_shift=00_diff=1'] = ade.compu_rho(alt_Q_shift_00_logdiff_diff_ids, sales_diff_id, rename_features=features)\n",
    "rho_pool['n_shift=03_diff=1'] = ade.compu_rho(alt_Q_shift_03_logdiff_diff_ids, sales_diff_id, rename_features=features)\n",
    "rho_pool['n_shift=04_diff=1'] = ade.compu_rho(alt_Q_shift_04_logdiff_diff_ids, sales_diff_id, rename_features=features)\n",
    "rho_pool['n_shift=05_diff=1'] = ade.compu_rho(alt_Q_shift_05_logdiff_diff_ids, sales_diff_id, rename_features=features)\n",
    "rho_pool['n_shift=06_diff=1'] = ade.compu_rho(alt_Q_shift_06_logdiff_diff_ids, sales_diff_id, rename_features=features)\n",
    "rho_pool['n_shift=07_diff=1'] = ade.compu_rho(alt_Q_shift_07_logdiff_diff_ids, sales_diff_id, rename_features=features)\n",
    "rho_pool['n_shift=08_diff=1'] = ade.compu_rho(alt_Q_shift_08_logdiff_diff_ids, sales_diff_id, rename_features=features)\n",
    "rho_pool['n_shift=09_diff=1'] = ade.compu_rho(alt_Q_shift_09_logdiff_diff_ids, sales_diff_id, rename_features=features)\n",
    "rho_pool['n_shift=12_diff=1'] = ade.compu_rho(alt_Q_shift_12_logdiff_diff_ids, sales_diff_id, rename_features=features)\n",
    "display(rho_pool.xs('t-val', level=1).sort_values(rho_pool.columns[0], ascending=False))"
   ]
  },
  {
   "cell_type": "markdown",
   "id": "11f1a3b6-e130-462a-a1dc-3c37789200be",
   "metadata": {},
   "source": [
    "##### Correlation values can also be calculated on a Ticker-by-Ticker basis\n",
    "- Below, the top 5 TICKERs are selected, and their relationships are plotted."
   ]
  },
  {
   "cell_type": "code",
   "execution_count": 21,
   "id": "4e6fd747-2d5c-41be-a9fe-273ffbcdaafc",
   "metadata": {
    "execution": {
     "iopub.execute_input": "2024-09-24T01:11:08.455385Z",
     "iopub.status.busy": "2024-09-24T01:11:08.454555Z",
     "iopub.status.idle": "2024-09-24T01:11:10.963486Z",
     "shell.execute_reply": "2024-09-24T01:11:10.962449Z",
     "shell.execute_reply.started": "2024-09-24T01:11:08.455351Z"
    }
   },
   "outputs": [
    {
     "name": "stderr",
     "output_type": "stream",
     "text": [
      "/home/schiba/miniconda3/envs/inv/lib/python3.9/site-packages/pandas/core/nanops.py:1569: ConstantInputWarning:\n",
      "\n",
      "An input array is constant; the correlation coefficient is not defined.\n",
      "\n"
     ]
    },
    {
     "data": {
      "text/html": [
       "<div>\n",
       "<style scoped>\n",
       "    .dataframe tbody tr th:only-of-type {\n",
       "        vertical-align: middle;\n",
       "    }\n",
       "\n",
       "    .dataframe tbody tr th {\n",
       "        vertical-align: top;\n",
       "    }\n",
       "\n",
       "    .dataframe thead th {\n",
       "        text-align: right;\n",
       "    }\n",
       "</style>\n",
       "<table border=\"1\" class=\"dataframe\">\n",
       "  <thead>\n",
       "    <tr style=\"text-align: right;\">\n",
       "      <th></th>\n",
       "      <th>pos_sales</th>\n",
       "      <th>share</th>\n",
       "      <th>unit_price</th>\n",
       "      <th>unit_price_vs_ind</th>\n",
       "      <th>sales*uprice</th>\n",
       "    </tr>\n",
       "    <tr>\n",
       "      <th>TICKER</th>\n",
       "      <th></th>\n",
       "      <th></th>\n",
       "      <th></th>\n",
       "      <th></th>\n",
       "      <th></th>\n",
       "    </tr>\n",
       "  </thead>\n",
       "  <tbody>\n",
       "    <tr>\n",
       "      <th>6676</th>\n",
       "      <td>5.843781</td>\n",
       "      <td>0.975900</td>\n",
       "      <td>2.331842</td>\n",
       "      <td>0.078864</td>\n",
       "      <td>4.376457</td>\n",
       "    </tr>\n",
       "    <tr>\n",
       "      <th>6955</th>\n",
       "      <td>4.512744</td>\n",
       "      <td>4.347149</td>\n",
       "      <td>1.978712</td>\n",
       "      <td>1.863809</td>\n",
       "      <td>5.201449</td>\n",
       "    </tr>\n",
       "    <tr>\n",
       "      <th>6930</th>\n",
       "      <td>4.172701</td>\n",
       "      <td>1.238276</td>\n",
       "      <td>0.525223</td>\n",
       "      <td>0.281991</td>\n",
       "      <td>3.407847</td>\n",
       "    </tr>\n",
       "    <tr>\n",
       "      <th>7962</th>\n",
       "      <td>3.091351</td>\n",
       "      <td>2.582110</td>\n",
       "      <td>1.824859</td>\n",
       "      <td>1.416967</td>\n",
       "      <td>2.439840</td>\n",
       "    </tr>\n",
       "    <tr>\n",
       "      <th>7733</th>\n",
       "      <td>3.062550</td>\n",
       "      <td>0.042193</td>\n",
       "      <td>1.006864</td>\n",
       "      <td>-1.938675</td>\n",
       "      <td>2.597677</td>\n",
       "    </tr>\n",
       "  </tbody>\n",
       "</table>\n",
       "</div>"
      ],
      "text/plain": [
       "        pos_sales     share  unit_price  unit_price_vs_ind  sales*uprice\n",
       "TICKER                                                                  \n",
       "6676     5.843781  0.975900    2.331842           0.078864      4.376457\n",
       "6955     4.512744  4.347149    1.978712           1.863809      5.201449\n",
       "6930     4.172701  1.238276    0.525223           0.281991      3.407847\n",
       "7962     3.091351  2.582110    1.824859           1.416967      2.439840\n",
       "7733     3.062550  0.042193    1.006864          -1.938675      2.597677"
      ]
     },
     "execution_count": 21,
     "metadata": {},
     "output_type": "execute_result"
    }
   ],
   "source": [
    "rho_time = ade.compu_rho(\n",
    "    alt_Q_shift_06_logdiff_diff_ids,\n",
    "    sales_diff_id, by='TICKER',\n",
    "    rename_features=features,\n",
    "    min_nsample=30\n",
    ")\n",
    "rho_time.T.xs('t-val', level=1).sort_values('pos_sales', ascending=False).head()"
   ]
  },
  {
   "cell_type": "code",
   "execution_count": 22,
   "id": "00ebc4cf-6d5b-4d58-9a05-9c5570ab9bfc",
   "metadata": {
    "execution": {
     "iopub.execute_input": "2024-09-24T01:11:10.965442Z",
     "iopub.status.busy": "2024-09-24T01:11:10.964746Z",
     "iopub.status.idle": "2024-09-24T01:11:12.132943Z",
     "shell.execute_reply": "2024-09-24T01:11:12.131882Z",
     "shell.execute_reply.started": "2024-09-24T01:11:10.965400Z"
    }
   },
   "outputs": [
    {
     "data": {
      "image/png": "[encoded data removed]",
      "text/plain": [
       "<Figure size 2000x500 with 3 Axes>"
      ]
     },
     "metadata": {},
     "output_type": "display_data"
    }
   ],
   "source": [
    "top3tickers = rho_time.T.xs('t-val', level=1).sort_values('pos_sales', ascending=False).index[:3]\n",
    "\n",
    "sdh.show_scatter_per_target(\n",
    "    y=sales_diff_id,\n",
    "    x=alt_Q_shift_06_logdiff_diff_ids[0],\n",
    "    targets=top3tickers,\n",
    "    col_num=3,\n",
    "    vname_len_limit=25,\n",
    ")"
   ]
  },
  {
   "cell_type": "code",
   "execution_count": 23,
   "id": "6f39e774-0caf-4074-98a5-13dd94d88204",
   "metadata": {
    "execution": {
     "iopub.execute_input": "2024-09-24T01:11:12.134877Z",
     "iopub.status.busy": "2024-09-24T01:11:12.134540Z",
     "iopub.status.idle": "2024-09-24T01:11:13.215847Z",
     "shell.execute_reply": "2024-09-24T01:11:13.214827Z",
     "shell.execute_reply.started": "2024-09-24T01:11:12.134828Z"
    }
   },
   "outputs": [
    {
     "data": {
      "image/png": "[encoded data removed]",
      "text/plain": [
       "<Figure size 2000x500 with 3 Axes>"
      ]
     },
     "metadata": {},
     "output_type": "display_data"
    }
   ],
   "source": [
    "top3tickers = rho_time.T.xs('t-val', level=1).sort_values('sales*uprice', ascending=False).index[:3]\n",
    "\n",
    "sdh.show_scatter_per_target(\n",
    "    y=sales_diff_id,\n",
    "    x=alt_Q_shift_00_logdiff_diff_ids[4],\n",
    "    targets=top3tickers,\n",
    "    col_num=3,\n",
    "    vname_len_limit=30,\n",
    ")"
   ]
  },
  {
   "cell_type": "markdown",
   "id": "c31300b6-4030-4eb8-a48c-ea0b92f69309",
   "metadata": {},
   "source": [
    "## Step 4: Quantile Backtest\n",
    "- Based on the variables created in Step 3, various factors will be generated and calculations will be performed.\n",
    "- Here, the 2-week moving average of the `sales*uprice` variable is selected as the factor value.\n",
    "- In practice, you should vary hyperparameters such as the moving average period and shift intervals to ensure that the backtest results are not significantly affected."
   ]
  },
  {
   "cell_type": "code",
   "execution_count": 24,
   "id": "e68ba831-7412-4ec7-b2f5-2fa95365d82b",
   "metadata": {
    "execution": {
     "iopub.execute_input": "2024-09-24T01:11:13.217810Z",
     "iopub.status.busy": "2024-09-24T01:11:13.217102Z",
     "iopub.status.idle": "2024-09-24T01:11:13.875243Z",
     "shell.execute_reply": "2024-09-24T01:11:13.874183Z",
     "shell.execute_reply.started": "2024-09-24T01:11:13.217768Z"
    }
   },
   "outputs": [],
   "source": [
    "if USE_MY_MKT:\n",
    "    close_ret = sdh.transform\\\n",
    "        .resample(data_id=data_id_mkt, rule='D', fields='close', func='last')\\\n",
    "        .dropna(how='all')\\\n",
    "        .log_diff(periods=1, names='ret')\\\n",
    "        .variable_ids[0]\n",
    "else:\n",
    "    close_ret = sdh.transform.raw(data_id=data_id_mkt, fields='returns').variable_ids[0]"
   ]
  },
  {
   "cell_type": "code",
   "execution_count": 25,
   "id": "2b989f36-2eb6-43c4-9177-e14e71d935cd",
   "metadata": {
    "execution": {
     "iopub.execute_input": "2024-09-24T01:11:13.877098Z",
     "iopub.status.busy": "2024-09-24T01:11:13.876431Z",
     "iopub.status.idle": "2024-09-24T01:11:14.321398Z",
     "shell.execute_reply": "2024-09-24T01:11:14.320365Z",
     "shell.execute_reply.started": "2024-09-24T01:11:13.877064Z"
    }
   },
   "outputs": [],
   "source": [
    "sma_period = 14\n",
    "min_period = int(max(np.floor(sma_period * 5 / 7), 1))\n",
    "proto_trans_vid = sdh.transform\\\n",
    "        .mul(data_id=data_id_alt, x1field=\"pos_sales\", x2field=\"unit_price\", name=\"sales*uprice\")\\\n",
    "        .resample(rule='D', func='last')\\\n",
    "        .sma(periods=sma_period, min_periods=min_period)\\\n",
    "        .reindex(label=close_ret)\\\n",
    "        .log_diff(periods=252)\\\n",
    "        .shift(periods=8)\\\n",
    "        .variable_ids[0]"
   ]
  },
  {
   "cell_type": "code",
   "execution_count": 26,
   "id": "ab607edf-692e-43e0-901f-57875cd8ac75",
   "metadata": {
    "execution": {
     "iopub.execute_input": "2024-09-24T01:11:14.323303Z",
     "iopub.status.busy": "2024-09-24T01:11:14.322621Z",
     "iopub.status.idle": "2024-09-24T01:11:14.429029Z",
     "shell.execute_reply": "2024-09-24T01:11:14.428011Z",
     "shell.execute_reply.started": "2024-09-24T01:11:14.323269Z"
    }
   },
   "outputs": [],
   "source": [
    "# define the parameters for factor choice.\n",
    "nq = 3\n",
    "exe_cost = 0.0005"
   ]
  },
  {
   "cell_type": "code",
   "execution_count": 27,
   "id": "d68b60d0-a625-42e4-94b1-a697fcc52440",
   "metadata": {
    "execution": {
     "iopub.execute_input": "2024-09-24T01:11:14.431199Z",
     "iopub.status.busy": "2024-09-24T01:11:14.430256Z",
     "iopub.status.idle": "2024-09-24T01:11:40.036121Z",
     "shell.execute_reply": "2024-09-24T01:11:40.034996Z",
     "shell.execute_reply.started": "2024-09-24T01:11:14.431152Z"
    }
   },
   "outputs": [
    {
     "data": {
      "text/html": [
       "<iframe\n",
       "    scrolling=\"no\"\n",
       "    width=\"100%\"\n",
       "    height=\"545px\"\n",
       "    src=\"iframe_figures/figure_27.html\"\n",
       "    frameborder=\"0\"\n",
       "    allowfullscreen\n",
       "></iframe>\n"
      ]
     },
     "metadata": {},
     "output_type": "display_data"
    },
    {
     "data": {
      "text/html": [
       "<div>\n",
       "<style scoped>\n",
       "    .dataframe tbody tr th:only-of-type {\n",
       "        vertical-align: middle;\n",
       "    }\n",
       "\n",
       "    .dataframe tbody tr th {\n",
       "        vertical-align: top;\n",
       "    }\n",
       "\n",
       "    .dataframe thead th {\n",
       "        text-align: right;\n",
       "    }\n",
       "</style>\n",
       "<table border=\"1\" class=\"dataframe\">\n",
       "  <thead>\n",
       "    <tr style=\"text-align: right;\">\n",
       "      <th></th>\n",
       "      <th>cum.Ret</th>\n",
       "      <th>ann.Ret</th>\n",
       "      <th>ann.Std</th>\n",
       "      <th>R/R</th>\n",
       "      <th>Win_R</th>\n",
       "      <th>ann.TurnOver</th>\n",
       "      <th>Max_DD</th>\n",
       "      <th>Calmar Ratio</th>\n",
       "    </tr>\n",
       "  </thead>\n",
       "  <tbody>\n",
       "    <tr>\n",
       "      <th>#1</th>\n",
       "      <td>0.111865</td>\n",
       "      <td>0.007674</td>\n",
       "      <td>0.205380</td>\n",
       "      <td>0.037363</td>\n",
       "      <td>0.531127</td>\n",
       "      <td>23.186286</td>\n",
       "      <td>-0.779108</td>\n",
       "      <td>0.009849</td>\n",
       "    </tr>\n",
       "    <tr>\n",
       "      <th>#2</th>\n",
       "      <td>0.889561</td>\n",
       "      <td>0.061020</td>\n",
       "      <td>0.204661</td>\n",
       "      <td>0.298154</td>\n",
       "      <td>0.531969</td>\n",
       "      <td>39.282956</td>\n",
       "      <td>-0.561526</td>\n",
       "      <td>0.108669</td>\n",
       "    </tr>\n",
       "    <tr>\n",
       "      <th>#3</th>\n",
       "      <td>1.388436</td>\n",
       "      <td>0.095241</td>\n",
       "      <td>0.205282</td>\n",
       "      <td>0.463954</td>\n",
       "      <td>0.544588</td>\n",
       "      <td>23.987377</td>\n",
       "      <td>-0.492149</td>\n",
       "      <td>0.193521</td>\n",
       "    </tr>\n",
       "    <tr>\n",
       "      <th>#3-#1</th>\n",
       "      <td>1.276571</td>\n",
       "      <td>0.087568</td>\n",
       "      <td>0.113211</td>\n",
       "      <td>0.773495</td>\n",
       "      <td>0.529445</td>\n",
       "      <td>47.173663</td>\n",
       "      <td>-0.245130</td>\n",
       "      <td>0.357230</td>\n",
       "    </tr>\n",
       "    <tr>\n",
       "      <th>#3-#1(cost)</th>\n",
       "      <td>0.932720</td>\n",
       "      <td>0.063981</td>\n",
       "      <td>0.113197</td>\n",
       "      <td>0.565219</td>\n",
       "      <td>0.523556</td>\n",
       "      <td>47.173663</td>\n",
       "      <td>-0.290893</td>\n",
       "      <td>0.219947</td>\n",
       "    </tr>\n",
       "  </tbody>\n",
       "</table>\n",
       "</div>"
      ],
      "text/plain": [
       "              cum.Ret   ann.Ret   ann.Std       R/R     Win_R  ann.TurnOver  \\\n",
       "#1           0.111865  0.007674  0.205380  0.037363  0.531127     23.186286   \n",
       "#2           0.889561  0.061020  0.204661  0.298154  0.531969     39.282956   \n",
       "#3           1.388436  0.095241  0.205282  0.463954  0.544588     23.987377   \n",
       "#3-#1        1.276571  0.087568  0.113211  0.773495  0.529445     47.173663   \n",
       "#3-#1(cost)  0.932720  0.063981  0.113197  0.565219  0.523556     47.173663   \n",
       "\n",
       "               Max_DD  Calmar Ratio  \n",
       "#1          -0.779108      0.009849  \n",
       "#2          -0.561526      0.108669  \n",
       "#3          -0.492149      0.193521  \n",
       "#3-#1       -0.245130      0.357230  \n",
       "#3-#1(cost) -0.290893      0.219947  "
      ]
     },
     "metadata": {},
     "output_type": "display_data"
    }
   ],
   "source": [
    "dfqret, stats, dfsigqt = ade.q_backtest(\n",
    "    feature=proto_trans_vid,\n",
    "    actual_return=close_ret,\n",
    "    nq=nq,\n",
    "    exe_cost=exe_cost,\n",
    "    plot=True,\n",
    "    stats=True\n",
    ")"
   ]
  },
  {
   "cell_type": "code",
   "execution_count": null,
   "id": "c66d6c68-ac0a-4fcb-8a60-350f47a21f4f",
   "metadata": {},
   "outputs": [],
   "source": []
  }
 ],
 "metadata": {
  "kernelspec": {
   "display_name": "inv",
   "language": "python",
   "name": "inv"
  },
  "language_info": {
   "codemirror_mode": {
    "name": "ipython",
    "version": 3
   },
   "file_extension": ".py",
   "mimetype": "text/x-python",
   "name": "python",
   "nbconvert_exporter": "python",
   "pygments_lexer": "ipython3",
   "version": "3.9.19"
  }
 },
 "nbformat": 4,
 "nbformat_minor": 5
}
