{
 "cells": [
  {
   "attachments": {
    "b8f1ff06-cee2-4b9c-ba2d-e754a1b2263d.png": {
     "image/png": "[encoded data removed]"
    }
   },
   "cell_type": "markdown",
   "id": "a5a97f09-c62c-4932-80c8-f0e9dedf436b",
   "metadata": {},
   "source": [
    "![スクリーンショット 2024-03-26 11.25.41.png](attachment:b8f1ff06-cee2-4b9c-ba2d-e754a1b2263d.png)\n",
    "\n",
    "[disclaimer](../../disclaimer.txt/)"
   ]
  },
  {
   "cell_type": "markdown",
   "id": "bc784555-8f58-472b-aff5-67c59ec185e0",
   "metadata": {},
   "source": [
    "# Sales Prediction Using POS Csmr Goods"
   ]
  },
  {
   "cell_type": "code",
   "execution_count": 1,
   "id": "e8821552-db0c-4687-8847-04eeb0ed7da7",
   "metadata": {
    "execution": {
     "iopub.execute_input": "2024-11-13T06:07:01.979062Z",
     "iopub.status.busy": "2024-11-13T06:07:01.978568Z",
     "iopub.status.idle": "2024-11-13T06:07:02.402861Z",
     "shell.execute_reply": "2024-11-13T06:07:02.401764Z",
     "shell.execute_reply.started": "2024-11-13T06:07:01.979030Z"
    }
   },
   "outputs": [],
   "source": [
    "%load_ext autoreload\n",
    "%autoreload 2"
   ]
  },
  {
   "cell_type": "code",
   "execution_count": 2,
   "id": "422bd93e-2835-4ef8-b0e1-79b7880169da",
   "metadata": {
    "execution": {
     "iopub.execute_input": "2024-11-13T06:07:02.407730Z",
     "iopub.status.busy": "2024-11-13T06:07:02.407422Z",
     "iopub.status.idle": "2024-11-13T06:07:40.285417Z",
     "shell.execute_reply": "2024-11-13T06:07:40.284357Z",
     "shell.execute_reply.started": "2024-11-13T06:07:02.407699Z"
    }
   },
   "outputs": [],
   "source": [
    "import sys\n",
    "import math\n",
    "import itertools\n",
    "\n",
    "import statsmodels.api as sm\n",
    "import pandas as pd\n",
    "import numpy as np\n",
    "import matplotlib.pyplot as plt\n",
    "from tqdm.notebook import tqdm\n",
    "from sklearn.linear_model import Lasso, LinearRegression \n",
    "\n",
    "from aiq_strategy_robot.data.data_accessor import DAL\n",
    "from aiq_strategy_robot.data.FACTSET import load_factset_fundamental_estimates\n",
    "from aiq_strategy_robot.predictors import ScikitLearnPredictor\n",
    "\n",
    "if '../..' not in sys.path:\n",
    "    sys.path.append('../..')\n",
    "from libs.dataset import aiq_pos_csmr_goods as sc_goods\n",
    "from libs.dataset import common as sc_common\n",
    "from libs.path import DEFAULT_DIR"
   ]
  },
  {
   "cell_type": "markdown",
   "id": "fb3f52b3-2201-4679-91cb-241381b2f625",
   "metadata": {},
   "source": [
    "## 1 Load POS Data"
   ]
  },
  {
   "cell_type": "code",
   "execution_count": 3,
   "id": "dd072978-7db0-4ec2-9073-c2bed32e26cb",
   "metadata": {
    "execution": {
     "iopub.execute_input": "2024-11-13T06:07:40.287867Z",
     "iopub.status.busy": "2024-11-13T06:07:40.286755Z",
     "iopub.status.idle": "2024-11-13T06:07:43.299237Z",
     "shell.execute_reply": "2024-11-13T06:07:43.298225Z",
     "shell.execute_reply.started": "2024-11-13T06:07:40.287833Z"
    }
   },
   "outputs": [],
   "source": [
    "sdh = DAL()\n",
    "\n",
    "# POS Data\n",
    "data_id_alt = sc_goods.register_csmr_goods_data(sdh, data_dir=DEFAULT_DIR)\n",
    "alt_W_id = sdh.transform.raw(data_id=data_id_alt).variable_ids[0]\n",
    "\n",
    "# sales(YoY) Data\n",
    "data_id_funda = sc_common.register_fundamental(sdh)\n",
    "funda_Q_id = sdh.transform.raw(data_id=data_id_funda).variable_ids[0]\n",
    "\n",
    "# POS Share Ratio (Time Series)\n",
    "share_ts = sc_common.read_pos_csmr_goods_plus_sales_share()"
   ]
  },
  {
   "cell_type": "markdown",
   "id": "571ec847-a482-4436-8591-5e60635558e6",
   "metadata": {},
   "source": [
    "## 2 Data Preparation\n",
    "- Each user needs to prepare the datasets below to run the notebook to the end.\n",
    "- Consensus estimate of quarterly sales\n",
    "- Realized quarterly sales"
   ]
  },
  {
   "cell_type": "markdown",
   "id": "25fa5f8f-ff7a-4cfd-938d-290d91734c0b",
   "metadata": {},
   "source": [
    "### 2.1 Consensus Sales Forecast\n",
    " Using Consensus Forecast as of the Closing Date\n",
    "- TICKER\n",
    "- fiscal_period_end_date: Fiscal quarter end date\n",
    "- consensus_start_date: Date when the consensus becomes effective\n",
    "- consensus_end_date: Date when the consensus is no longer valid\n",
    "- consensus (FE_MEDIAN): Consensus (median of analyst forecasts)"
   ]
  },
  {
   "cell_type": "code",
   "execution_count": 4,
   "id": "f63f8ed9-2441-4384-a48b-51d65752e7b0",
   "metadata": {
    "execution": {
     "iopub.execute_input": "2024-11-13T06:07:43.300935Z",
     "iopub.status.busy": "2024-11-13T06:07:43.300459Z",
     "iopub.status.idle": "2024-11-13T06:07:46.791592Z",
     "shell.execute_reply": "2024-11-13T06:07:46.790600Z",
     "shell.execute_reply.started": "2024-11-13T06:07:43.300904Z"
    }
   },
   "outputs": [
    {
     "name": "stderr",
     "output_type": "stream",
     "text": [
      "/home/schiba/miniconda3/envs/sample/lib/python3.9/site-packages/snowflake/sqlalchemy/base.py:1068: SAWarning: The GenericFunction 'flatten' is already registered and is going to be overridden.\n",
      "  functions.register_function(\"flatten\", flatten)\n"
     ]
    }
   ],
   "source": [
    "USE_MY_CONS = True\n",
    "\n",
    "cons = None\n",
    "if USE_MY_CONS:\n",
    "    #  Applicable When Using FactSet Data\n",
    "    h1 = sdh.load('FACTSET', data_type='symbol_lookup',\n",
    "                  ticker=list(map(lambda x: f\"{x}-JP\", sdh.extract_definition.loc[data_id_alt, 'tickers'])),\n",
    "                  currency_code='JPY', exchange_code='TKS', pick_only_primary=True)\n",
    "    comp = h1.retrieve(transformed=False)\n",
    "    h2 = load_factset_fundamental_estimates(h1, symbols=list(comp['FSYM_ID']),\n",
    "                                            package=\"BASIC\", fields=\"SALES\", freq=3)\n",
    "    consensus = h2.retrieve()\n",
    "    consensus = consensus.merge(comp, how='left', left_on='SYMBOL', right_on='FSYM_ID')\n",
    "    consensus['TICKER'] = consensus['TICKER'].map(lambda x: x.split('-')[0])\n",
    "    consensus = consensus.set_index(['TICKER', 'fiscal_period_end_date', 'consensus_start_date', 'consensus_end_date']).sort_index()\n",
    "    consensus = consensus[consensus['FE_MEDIAN'] > 0]\n",
    "    cons = consensus[consensus.index.get_level_values('consensus_start_date') <= consensus.index.get_level_values('fiscal_period_end_date')].groupby(\n",
    "        ['TICKER', 'fiscal_period_end_date']).tail(1)[['FE_MEDIAN']].reset_index(['consensus_start_date', 'consensus_end_date']).rename(columns={'FE_MEDIAN': 'consensus'})\n",
    "    \n",
    "    #  Remove Unnecessary Columns\n",
    "    cons = cons.drop(columns=['consensus_start_date', 'consensus_end_date'])\n",
    "    cons.head()"
   ]
  },
  {
   "cell_type": "markdown",
   "id": "4d04fa32-00ee-4468-906c-d2e219867b1a",
   "metadata": {},
   "source": [
    "### 2.2 Prepare realized quarterly sales data\n",
    "Used for the following purposes:\n",
    "- Converting consensus forecasts (absolute values, not YoY) to YoY\n",
    "- Converting forecast results (log difference or difference) to absolute values"
   ]
  },
  {
   "cell_type": "code",
   "execution_count": 5,
   "id": "39a34449-e6f6-46ca-9c0b-9daff19f4a79",
   "metadata": {
    "execution": {
     "iopub.execute_input": "2024-11-13T06:07:46.793410Z",
     "iopub.status.busy": "2024-11-13T06:07:46.792911Z",
     "iopub.status.idle": "2024-11-13T06:07:48.044515Z",
     "shell.execute_reply": "2024-11-13T06:07:48.043592Z",
     "shell.execute_reply.started": "2024-11-13T06:07:46.793378Z"
    }
   },
   "outputs": [],
   "source": [
    "USE_MY_SALES = True\n",
    "\n",
    "sales = None\n",
    "if USE_MY_SALES:\n",
    "    sales = pd.read_parquet('sales.parquet').sort_index()\n",
    "    sales.index.names = ['TICKER', 'DATETIME']\n",
    "    sales.head()"
   ]
  },
  {
   "cell_type": "markdown",
   "id": "1eb6c956-710f-4aa7-8288-fea0f2934fe3",
   "metadata": {},
   "source": [
    "## 3. Selection of Preprocessing Parameters\n",
    "- What is the lag in datasets that maximize the correlation between POS data and quarterly sales?\n",
    "- We compute below such lags for each pair of (ticker, financial quarter).\n",
    "- The allowed values are between -3 to 0 in integer. We do not consider smaller integer than -3 as bigger lags would cross POS data over quarterly earnings report timings."
   ]
  },
  {
   "cell_type": "code",
   "execution_count": 6,
   "id": "f463c616-b155-440b-8f99-3f09c9a1944f",
   "metadata": {
    "execution": {
     "iopub.execute_input": "2024-11-13T06:07:48.046338Z",
     "iopub.status.busy": "2024-11-13T06:07:48.046000Z",
     "iopub.status.idle": "2024-11-13T06:07:48.112547Z",
     "shell.execute_reply": "2024-11-13T06:07:48.111594Z",
     "shell.execute_reply.started": "2024-11-13T06:07:48.046308Z"
    }
   },
   "outputs": [],
   "source": [
    "lags = [-3, -2, -1, 0]\n",
    "diffs = [True, False]"
   ]
  },
  {
   "cell_type": "code",
   "execution_count": 7,
   "id": "3cdc8d75-88b5-4387-bb1c-406ebc276fdf",
   "metadata": {
    "execution": {
     "iopub.execute_input": "2024-11-13T06:07:48.114547Z",
     "iopub.status.busy": "2024-11-13T06:07:48.113886Z",
     "iopub.status.idle": "2024-11-13T06:10:46.833859Z",
     "shell.execute_reply": "2024-11-13T06:10:46.832782Z",
     "shell.execute_reply.started": "2024-11-13T06:07:48.114516Z"
    }
   },
   "outputs": [
    {
     "data": {
      "application/vnd.jupyter.widget-view+json": {
       "model_id": "4977d9133eb64c02bf162bcd17c23d89",
       "version_major": 2,
       "version_minor": 0
      },
      "text/plain": [
       "  0%|          | 0/8 [00:00<?, ?it/s]"
      ]
     },
     "metadata": {},
     "output_type": "display_data"
    },
    {
     "data": {
      "application/vnd.jupyter.widget-view+json": {
       "model_id": "",
       "version_major": 2,
       "version_minor": 0
      },
      "text/plain": [
       "  0%|          | 0/288 [00:00<?, ?it/s]"
      ]
     },
     "metadata": {},
     "output_type": "display_data"
    },
    {
     "data": {
      "application/vnd.jupyter.widget-view+json": {
       "model_id": "",
       "version_major": 2,
       "version_minor": 0
      },
      "text/plain": [
       "  0%|          | 0/291 [00:00<?, ?it/s]"
      ]
     },
     "metadata": {},
     "output_type": "display_data"
    },
    {
     "data": {
      "application/vnd.jupyter.widget-view+json": {
       "model_id": "",
       "version_major": 2,
       "version_minor": 0
      },
      "text/plain": [
       "  0%|          | 0/288 [00:00<?, ?it/s]"
      ]
     },
     "metadata": {},
     "output_type": "display_data"
    },
    {
     "data": {
      "application/vnd.jupyter.widget-view+json": {
       "model_id": "",
       "version_major": 2,
       "version_minor": 0
      },
      "text/plain": [
       "  0%|          | 0/292 [00:00<?, ?it/s]"
      ]
     },
     "metadata": {},
     "output_type": "display_data"
    },
    {
     "data": {
      "application/vnd.jupyter.widget-view+json": {
       "model_id": "",
       "version_major": 2,
       "version_minor": 0
      },
      "text/plain": [
       "  0%|          | 0/289 [00:00<?, ?it/s]"
      ]
     },
     "metadata": {},
     "output_type": "display_data"
    },
    {
     "data": {
      "application/vnd.jupyter.widget-view+json": {
       "model_id": "",
       "version_major": 2,
       "version_minor": 0
      },
      "text/plain": [
       "  0%|          | 0/292 [00:00<?, ?it/s]"
      ]
     },
     "metadata": {},
     "output_type": "display_data"
    },
    {
     "data": {
      "application/vnd.jupyter.widget-view+json": {
       "model_id": "",
       "version_major": 2,
       "version_minor": 0
      },
      "text/plain": [
       "  0%|          | 0/289 [00:00<?, ?it/s]"
      ]
     },
     "metadata": {},
     "output_type": "display_data"
    },
    {
     "data": {
      "application/vnd.jupyter.widget-view+json": {
       "model_id": "",
       "version_major": 2,
       "version_minor": 0
      },
      "text/plain": [
       "  0%|          | 0/292 [00:00<?, ?it/s]"
      ]
     },
     "metadata": {},
     "output_type": "display_data"
    }
   ],
   "source": [
    "correlations = {}\n",
    "pos_data = {}\n",
    "for lag, diff in tqdm(itertools.product(lags, diffs), total=len(lags)*len(diffs)):\n",
    "    \n",
    "    alt_shift_id = alt_W_id\n",
    "    if lag != 0:\n",
    "        alt_shift_id = sdh.transform.shift(fields=alt_shift_id, periods=lag).variable_ids[0]\n",
    "    \n",
    "    alt_Q_shift_id = sdh.transform.resample_by(fields=alt_shift_id, label=funda_Q_id, func='mean').variable_ids[0]\n",
    "    \n",
    "    alt_id = sdh.transform.log_diff(fields=alt_Q_shift_id, periods=4).variable_ids\n",
    "    sales_id = funda_Q_id\n",
    "\n",
    "    if diff:\n",
    "        alt_id = sdh.transform.diff(fields=alt_id, periods=1).variable_ids\n",
    "        sales_id = sdh.transform.diff(fields=sales_id, periods=1).variable_ids\n",
    "\n",
    "    \n",
    "    data = pd.concat({\n",
    "        'y': sdh.get_variables(sales_id).iloc[:, 0], \n",
    "        'X':sdh.get_variables(alt_id).iloc[:, 0]}, axis=1\n",
    "    ).dropna()\n",
    "\n",
    "    \n",
    "    pos_data[lag, diff] = data\n",
    "    for ticker, _ in tqdm(data.groupby('TICKER'), leave=False):\n",
    "        for d in data.xs(ticker).expanding():\n",
    "            if len(d.dropna()) < 10:\n",
    "                continue\n",
    "            mdl = sm.OLS(d['y'], sm.add_constant(d['X'].values), missing=\"drop\").fit()\n",
    "            correlations[ticker, d.index[-1], lag, diff] = { \"t_val\": mdl.tvalues['x1'] }\n",
    "            \n",
    "correlations = pd.DataFrame(correlations).T\n",
    "correlations.index.names = ['TICKER', 'datetime', 'lag', 'diff1']\n",
    "pos_data = pd.concat(pos_data)\n",
    "pos_data.index.names = ['lag', 'diff', 'TICKER', 'DATETIME']"
   ]
  },
  {
   "cell_type": "code",
   "execution_count": 8,
   "id": "f4a37fcc-fd15-4dfd-9313-25c0fb850518",
   "metadata": {
    "execution": {
     "iopub.execute_input": "2024-11-13T06:10:46.835314Z",
     "iopub.status.busy": "2024-11-13T06:10:46.835005Z",
     "iopub.status.idle": "2024-11-13T06:10:48.656140Z",
     "shell.execute_reply": "2024-11-13T06:10:48.655087Z",
     "shell.execute_reply.started": "2024-11-13T06:10:46.835283Z"
    }
   },
   "outputs": [],
   "source": [
    "best_correlations = correlations.sort_values('t_val').groupby(['TICKER', 'datetime']).tail(1).reset_index(['lag', 'diff1']).sort_index()"
   ]
  },
  {
   "cell_type": "markdown",
   "id": "f8e3cfdb-17f3-4be1-8ba7-d05fbdad41ca",
   "metadata": {
    "execution": {
     "iopub.execute_input": "2024-10-24T05:26:09.299093Z",
     "iopub.status.busy": "2024-10-24T05:26:09.298787Z",
     "iopub.status.idle": "2024-10-24T05:26:09.348848Z",
     "shell.execute_reply": "2024-10-24T05:26:09.347594Z",
     "shell.execute_reply.started": "2024-10-24T05:26:09.299063Z"
    }
   },
   "source": [
    "## 4. Preprocessing POS data according to the optimal lags\n",
    "- The following section computes the appropriately shifted POS data according to the optimal lags found in the previous section."
   ]
  },
  {
   "cell_type": "code",
   "execution_count": 9,
   "id": "adc2ea8e-1ee3-44c4-a25f-1e5eedc10f9d",
   "metadata": {
    "execution": {
     "iopub.execute_input": "2024-11-13T06:10:48.657951Z",
     "iopub.status.busy": "2024-11-13T06:10:48.657444Z",
     "iopub.status.idle": "2024-11-13T06:12:48.409314Z",
     "shell.execute_reply": "2024-11-13T06:12:48.408374Z",
     "shell.execute_reply.started": "2024-11-13T06:10:48.657920Z"
    }
   },
   "outputs": [
    {
     "data": {
      "application/vnd.jupyter.widget-view+json": {
       "model_id": "0c5ca39ef03e486d82c259b91b21fcac",
       "version_major": 2,
       "version_minor": 0
      },
      "text/plain": [
       "  0%|          | 0/10890 [00:00<?, ?it/s]"
      ]
     },
     "metadata": {},
     "output_type": "display_data"
    },
    {
     "data": {
      "text/html": [
       "<div>\n",
       "<style scoped>\n",
       "    .dataframe tbody tr th:only-of-type {\n",
       "        vertical-align: middle;\n",
       "    }\n",
       "\n",
       "    .dataframe tbody tr th {\n",
       "        vertical-align: top;\n",
       "    }\n",
       "\n",
       "    .dataframe thead th {\n",
       "        text-align: right;\n",
       "    }\n",
       "</style>\n",
       "<table border=\"1\" class=\"dataframe\">\n",
       "  <thead>\n",
       "    <tr style=\"text-align: right;\">\n",
       "      <th></th>\n",
       "      <th></th>\n",
       "      <th>datetime</th>\n",
       "      <th>lag</th>\n",
       "      <th>diff1</th>\n",
       "      <th>t_val</th>\n",
       "    </tr>\n",
       "    <tr>\n",
       "      <th>TICKER</th>\n",
       "      <th>PRED_DATETIME</th>\n",
       "      <th></th>\n",
       "      <th></th>\n",
       "      <th></th>\n",
       "      <th></th>\n",
       "    </tr>\n",
       "  </thead>\n",
       "  <tbody>\n",
       "    <tr>\n",
       "      <th rowspan=\"5\" valign=\"top\">9997</th>\n",
       "      <th>2023-06-30</th>\n",
       "      <td>2023-03-31</td>\n",
       "      <td>-3</td>\n",
       "      <td>True</td>\n",
       "      <td>2.348745</td>\n",
       "    </tr>\n",
       "    <tr>\n",
       "      <th>2023-09-30</th>\n",
       "      <td>2023-06-30</td>\n",
       "      <td>-3</td>\n",
       "      <td>True</td>\n",
       "      <td>2.423474</td>\n",
       "    </tr>\n",
       "    <tr>\n",
       "      <th>2023-12-31</th>\n",
       "      <td>2023-09-30</td>\n",
       "      <td>-3</td>\n",
       "      <td>True</td>\n",
       "      <td>2.452933</td>\n",
       "    </tr>\n",
       "    <tr>\n",
       "      <th>2024-03-31</th>\n",
       "      <td>2023-12-31</td>\n",
       "      <td>-3</td>\n",
       "      <td>True</td>\n",
       "      <td>2.418634</td>\n",
       "    </tr>\n",
       "    <tr>\n",
       "      <th>NaT</th>\n",
       "      <td>2024-03-31</td>\n",
       "      <td>-3</td>\n",
       "      <td>True</td>\n",
       "      <td>2.370913</td>\n",
       "    </tr>\n",
       "  </tbody>\n",
       "</table>\n",
       "</div>"
      ],
      "text/plain": [
       "                       datetime  lag  diff1     t_val\n",
       "TICKER PRED_DATETIME                                 \n",
       "9997   2023-06-30    2023-03-31   -3   True  2.348745\n",
       "       2023-09-30    2023-06-30   -3   True  2.423474\n",
       "       2023-12-31    2023-09-30   -3   True  2.452933\n",
       "       2024-03-31    2023-12-31   -3   True  2.418634\n",
       "       NaT           2024-03-31   -3   True  2.370913"
      ]
     },
     "metadata": {},
     "output_type": "display_data"
    },
    {
     "data": {
      "text/html": [
       "<div>\n",
       "<style scoped>\n",
       "    .dataframe tbody tr th:only-of-type {\n",
       "        vertical-align: middle;\n",
       "    }\n",
       "\n",
       "    .dataframe tbody tr th {\n",
       "        vertical-align: top;\n",
       "    }\n",
       "\n",
       "    .dataframe thead th {\n",
       "        text-align: right;\n",
       "    }\n",
       "</style>\n",
       "<table border=\"1\" class=\"dataframe\">\n",
       "  <thead>\n",
       "    <tr style=\"text-align: right;\">\n",
       "      <th></th>\n",
       "      <th></th>\n",
       "      <th></th>\n",
       "      <th>y</th>\n",
       "      <th>X</th>\n",
       "      <th>con_y</th>\n",
       "    </tr>\n",
       "    <tr>\n",
       "      <th>PRED_DATETIME</th>\n",
       "      <th>TICKER</th>\n",
       "      <th>DATETIME</th>\n",
       "      <th></th>\n",
       "      <th></th>\n",
       "      <th></th>\n",
       "    </tr>\n",
       "  </thead>\n",
       "  <tbody>\n",
       "    <tr>\n",
       "      <th rowspan=\"5\" valign=\"top\">2024-03-31</th>\n",
       "      <th rowspan=\"5\" valign=\"top\">9997</th>\n",
       "      <th>2022-12-31</th>\n",
       "      <td>0.015065</td>\n",
       "      <td>-0.845644</td>\n",
       "      <td>0.081961</td>\n",
       "    </tr>\n",
       "    <tr>\n",
       "      <th>2023-03-31</th>\n",
       "      <td>0.026520</td>\n",
       "      <td>0.629671</td>\n",
       "      <td>0.082671</td>\n",
       "    </tr>\n",
       "    <tr>\n",
       "      <th>2023-09-30</th>\n",
       "      <td>0.006300</td>\n",
       "      <td>-0.032195</td>\n",
       "      <td>-0.093056</td>\n",
       "    </tr>\n",
       "    <tr>\n",
       "      <th>2023-12-31</th>\n",
       "      <td>-0.000614</td>\n",
       "      <td>0.687694</td>\n",
       "      <td>0.006470</td>\n",
       "    </tr>\n",
       "    <tr>\n",
       "      <th>2024-03-31</th>\n",
       "      <td>0.026541</td>\n",
       "      <td>-0.367042</td>\n",
       "      <td>-0.030684</td>\n",
       "    </tr>\n",
       "  </tbody>\n",
       "</table>\n",
       "</div>"
      ],
      "text/plain": [
       "                                        y         X     con_y\n",
       "PRED_DATETIME TICKER DATETIME                                \n",
       "2024-03-31    9997   2022-12-31  0.015065 -0.845644  0.081961\n",
       "                     2023-03-31  0.026520  0.629671  0.082671\n",
       "                     2023-09-30  0.006300 -0.032195 -0.093056\n",
       "                     2023-12-31 -0.000614  0.687694  0.006470\n",
       "                     2024-03-31  0.026541 -0.367042 -0.030684"
      ]
     },
     "metadata": {},
     "output_type": "display_data"
    },
    {
     "data": {
      "text/html": [
       "<div>\n",
       "<style scoped>\n",
       "    .dataframe tbody tr th:only-of-type {\n",
       "        vertical-align: middle;\n",
       "    }\n",
       "\n",
       "    .dataframe tbody tr th {\n",
       "        vertical-align: top;\n",
       "    }\n",
       "\n",
       "    .dataframe thead th {\n",
       "        text-align: right;\n",
       "    }\n",
       "</style>\n",
       "<table border=\"1\" class=\"dataframe\">\n",
       "  <thead>\n",
       "    <tr style=\"text-align: right;\">\n",
       "      <th></th>\n",
       "      <th></th>\n",
       "      <th></th>\n",
       "      <th>y</th>\n",
       "      <th>X</th>\n",
       "    </tr>\n",
       "    <tr>\n",
       "      <th>PRED_DATETIME</th>\n",
       "      <th>TICKER</th>\n",
       "      <th>DATETIME</th>\n",
       "      <th></th>\n",
       "      <th></th>\n",
       "    </tr>\n",
       "  </thead>\n",
       "  <tbody>\n",
       "    <tr>\n",
       "      <th rowspan=\"5\" valign=\"top\">2023-06-30</th>\n",
       "      <th rowspan=\"5\" valign=\"top\">9997</th>\n",
       "      <th>2022-06-30</th>\n",
       "      <td>-0.081314</td>\n",
       "      <td>0.135409</td>\n",
       "    </tr>\n",
       "    <tr>\n",
       "      <th>2022-09-30</th>\n",
       "      <td>0.064297</td>\n",
       "      <td>0.528664</td>\n",
       "    </tr>\n",
       "    <tr>\n",
       "      <th>2022-12-31</th>\n",
       "      <td>0.015065</td>\n",
       "      <td>-0.845644</td>\n",
       "    </tr>\n",
       "    <tr>\n",
       "      <th>2023-03-31</th>\n",
       "      <td>0.026520</td>\n",
       "      <td>0.629671</td>\n",
       "    </tr>\n",
       "    <tr>\n",
       "      <th>2023-06-30</th>\n",
       "      <td>-0.038482</td>\n",
       "      <td>-0.384819</td>\n",
       "    </tr>\n",
       "  </tbody>\n",
       "</table>\n",
       "</div>"
      ],
      "text/plain": [
       "                                        y         X\n",
       "PRED_DATETIME TICKER DATETIME                      \n",
       "2023-06-30    9997   2022-06-30 -0.081314  0.135409\n",
       "                     2022-09-30  0.064297  0.528664\n",
       "                     2022-12-31  0.015065 -0.845644\n",
       "                     2023-03-31  0.026520  0.629671\n",
       "                     2023-06-30 -0.038482 -0.384819"
      ]
     },
     "metadata": {},
     "output_type": "display_data"
    }
   ],
   "source": [
    "def set_data(dic, d):\n",
    "\n",
    "    d = d.dropna().copy()\n",
    "    if len(d) <= 20:\n",
    "        return\n",
    "    d.index.names = ['DATETIME']\n",
    "    d['PRED_DATETIME'] = datetime\n",
    "    d['TICKER'] = ticker\n",
    "    d = d.reset_index().set_index(['PRED_DATETIME', 'TICKER', 'DATETIME'])\n",
    "    dic.append(d)\n",
    "\n",
    "\n",
    "dataset_with_consensus = []\n",
    "dataset_without_consensus = []\n",
    "for (ticker, until), setting in tqdm(best_correlations.iloc[:].iterrows(), total=len(best_correlations.iloc[:])):\n",
    "    lag, diff1 = setting['lag'], setting['diff1']\n",
    "    d = pos_data.xs(lag).xs(diff1).xs(ticker).loc[:until].copy()\n",
    "    try:\n",
    "        target = pos_data.xs(lag).xs(diff1).xs(ticker).loc[until:].iloc[1]\n",
    "    except:\n",
    "        continue\n",
    "    datetime = target.name\n",
    "    best_correlations.loc[(ticker, until), 'PRED_DATETIME'] = datetime\n",
    "    \n",
    "    d = pd.concat([d, target.to_frame().T])\n",
    "    if (ticker, datetime) in cons.index:\n",
    "        con = cons.xs(ticker)[['consensus']]\n",
    "        con['pre'] = sales.xs(ticker).shift(4)['sales']\n",
    "        con['y'] = np.log(con['consensus'] / con['pre'])\n",
    "        if diff1:\n",
    "            con['y'] = con['y'].diff()\n",
    "        d['con_y'] = con['y']\n",
    "        \n",
    "        set_data(dataset_with_consensus, d)   \n",
    "    else:\n",
    "        set_data(dataset_without_consensus, d)\n",
    "\n",
    "\n",
    "dfbest_correlations = best_correlations.reset_index().set_index(['TICKER', 'PRED_DATETIME'])\n",
    "dfdataset_with_cons = pd.concat(dataset_with_consensus)\n",
    "dfdataset_without_cons = pd.concat(dataset_without_consensus)\n",
    "\n",
    "display(dfbest_correlations.tail())\n",
    "display(dfdataset_with_cons.tail())\n",
    "display(dfdataset_without_cons.tail())"
   ]
  },
  {
   "cell_type": "markdown",
   "id": "0109fc2c-3f21-4402-bfaf-e92e16d7d27a",
   "metadata": {},
   "source": [
    "## 5. Prediction\n",
    "- An OLS model is used for simplicity for predicting quarterly sales."
   ]
  },
  {
   "cell_type": "code",
   "execution_count": 10,
   "id": "9321008f-13a1-4183-b555-105f448ef1db",
   "metadata": {
    "execution": {
     "iopub.execute_input": "2024-11-13T06:12:48.411464Z",
     "iopub.status.busy": "2024-11-13T06:12:48.410859Z",
     "iopub.status.idle": "2024-11-13T06:12:50.048392Z",
     "shell.execute_reply": "2024-11-13T06:12:50.047472Z",
     "shell.execute_reply.started": "2024-11-13T06:12:48.411421Z"
    }
   },
   "outputs": [],
   "source": [
    "sdh = DAL()\n",
    "predictor = ScikitLearnPredictor(sdh)\n",
    "\n",
    "model = LinearRegression()"
   ]
  },
  {
   "cell_type": "code",
   "execution_count": 11,
   "id": "9789b93d-7f55-4a75-99a1-555cde9f7537",
   "metadata": {
    "execution": {
     "iopub.execute_input": "2024-11-13T06:12:50.050289Z",
     "iopub.status.busy": "2024-11-13T06:12:50.049685Z",
     "iopub.status.idle": "2024-11-13T06:12:50.119479Z",
     "shell.execute_reply": "2024-11-13T06:12:50.118505Z",
     "shell.execute_reply.started": "2024-11-13T06:12:50.050257Z"
    }
   },
   "outputs": [],
   "source": [
    "def formatting(dataset: pd.DataFrame, dfbest_corr: pd.DataFrame, dfpred):\n",
    "\n",
    "    prediction = {}\n",
    "    for (ticker, datetime), df in tqdm(dataset.groupby(['TICKER', 'PRED_DATETIME'])):\n",
    "        train_x = df[df.index.get_level_values('DATETIME') < datetime]\n",
    "        until = train_x.index.get_level_values('DATETIME').max()\n",
    "    \n",
    "        params = dfbest_corr.xs(ticker).xs(datetime)\n",
    "        lag, diff1, t_val, until = params.lag, params.diff1, params.t_val, params['datetime']\n",
    "    \n",
    "        y_predict = dfpred.loc[ticker].loc[datetime]\n",
    "        \n",
    "        ys = pos_data.xs(lag).xs(ticker, level='TICKER')['y'].unstack('diff').loc[:datetime].copy()\n",
    "        try:\n",
    "            sales_pre = sales.xs(ticker).loc[:datetime, 'sales'].iloc[-5]\n",
    "            sales_actual = sales.xs(ticker).xs(datetime)['sales'] # np.exp(ys).loc[datetime, False] * sales_pre\n",
    "            sales_extrapolation = np.exp(ys[False].iloc[-2]) * sales_pre # 前期の実績成長率(YoY) * 前年同期の売上\n",
    "        except:\n",
    "            continue\n",
    "        \n",
    "        ys.loc[datetime, diff1] = y_predict.iloc[0]\n",
    "        ys.loc[datetime, not diff1] = np.nan\n",
    "        if diff1:\n",
    "            ys.loc[datetime, False] = ys.loc[until, False] + ys.loc[datetime, True]\n",
    "        sales_predict = np.exp(ys).loc[datetime, False] * sales_pre\n",
    "        prediction[ticker, datetime] = {\n",
    "            'actual': sales_actual, \n",
    "            'predict': sales_predict,\n",
    "            \"t_val\": t_val,\n",
    "            \"extrapolation\": sales_extrapolation\n",
    "        }\n",
    "    \n",
    "    prediction = pd.DataFrame(prediction).T\n",
    "    prediction.index.names = ['TICKER', 'datetime']\n",
    "\n",
    "    return prediction"
   ]
  },
  {
   "cell_type": "markdown",
   "id": "04ea1285-eab0-47d3-9c17-3ebf8df3f48b",
   "metadata": {},
   "source": [
    "### 5.1 Predictions for tickers with Consensus Estimates\n",
    "Linear Multiple Regression Using Consensus and POS Data\n",
    "- Quality of predictions is evaluated using consensus estimates of quarterly sales. Can the predictions by POS data outplay concensus estimates?"
   ]
  },
  {
   "cell_type": "code",
   "execution_count": 12,
   "id": "3f67736d-315d-4464-b18b-5d34d3e7597e",
   "metadata": {
    "execution": {
     "iopub.execute_input": "2024-11-13T06:12:50.121501Z",
     "iopub.status.busy": "2024-11-13T06:12:50.120747Z",
     "iopub.status.idle": "2024-11-13T06:12:50.261954Z",
     "shell.execute_reply": "2024-11-13T06:12:50.260673Z",
     "shell.execute_reply.started": "2024-11-13T06:12:50.121465Z"
    }
   },
   "outputs": [
    {
     "data": {
      "text/html": [
       "<div>\n",
       "<style scoped>\n",
       "    .dataframe tbody tr th:only-of-type {\n",
       "        vertical-align: middle;\n",
       "    }\n",
       "\n",
       "    .dataframe tbody tr th {\n",
       "        vertical-align: top;\n",
       "    }\n",
       "\n",
       "    .dataframe thead th {\n",
       "        text-align: right;\n",
       "    }\n",
       "</style>\n",
       "<table border=\"1\" class=\"dataframe\">\n",
       "  <thead>\n",
       "    <tr style=\"text-align: right;\">\n",
       "      <th></th>\n",
       "      <th>variable_id</th>\n",
       "      <th>data_id</th>\n",
       "      <th>root_field</th>\n",
       "      <th>other_roots</th>\n",
       "      <th>step_001</th>\n",
       "    </tr>\n",
       "    <tr>\n",
       "      <th>variable_name</th>\n",
       "      <th></th>\n",
       "      <th></th>\n",
       "      <th></th>\n",
       "      <th></th>\n",
       "      <th></th>\n",
       "    </tr>\n",
       "  </thead>\n",
       "  <tbody>\n",
       "    <tr>\n",
       "      <th>WithCons_Y</th>\n",
       "      <td>1</td>\n",
       "      <td>1</td>\n",
       "      <td>y</td>\n",
       "      <td>-</td>\n",
       "      <td>raw()</td>\n",
       "    </tr>\n",
       "    <tr>\n",
       "      <th>WithCons_X</th>\n",
       "      <td>2</td>\n",
       "      <td>1</td>\n",
       "      <td>X</td>\n",
       "      <td>-</td>\n",
       "      <td>raw()</td>\n",
       "    </tr>\n",
       "    <tr>\n",
       "      <th>WithCons_Con_y</th>\n",
       "      <td>3</td>\n",
       "      <td>1</td>\n",
       "      <td>con_y</td>\n",
       "      <td>-</td>\n",
       "      <td>raw()</td>\n",
       "    </tr>\n",
       "  </tbody>\n",
       "</table>\n",
       "</div>"
      ],
      "text/plain": [
       "                variable_id  data_id root_field other_roots step_001\n",
       "variable_name                                                       \n",
       "WithCons_Y                1        1          y           -    raw()\n",
       "WithCons_X                2        1          X           -    raw()\n",
       "WithCons_Con_y            3        1      con_y           -    raw()"
      ]
     },
     "metadata": {},
     "output_type": "display_data"
    }
   ],
   "source": [
    "sdh.set_raw_data(dfdataset_with_cons, alias='with_cons')\n",
    "display(sdh.transform.variables)\n",
    "y = sdh.transform.variables.index[0]\n",
    "X = sdh.transform.variables.index[1:]"
   ]
  },
  {
   "cell_type": "code",
   "execution_count": 13,
   "id": "a73d9f28-f5b0-49a3-8fd7-dd33360befba",
   "metadata": {
    "execution": {
     "iopub.execute_input": "2024-11-13T06:12:50.264110Z",
     "iopub.status.busy": "2024-11-13T06:12:50.263414Z",
     "iopub.status.idle": "2024-11-13T06:13:23.151911Z",
     "shell.execute_reply": "2024-11-13T06:13:23.150953Z",
     "shell.execute_reply.started": "2024-11-13T06:12:50.264077Z"
    }
   },
   "outputs": [
    {
     "name": "stderr",
     "output_type": "stream",
     "text": [
      "Prediction running..: 100%|██████████| 107/107 [00:15<00:00,  6.95it/s]\n"
     ]
    },
    {
     "data": {
      "text/html": [
       "<div>\n",
       "<style scoped>\n",
       "    .dataframe tbody tr th:only-of-type {\n",
       "        vertical-align: middle;\n",
       "    }\n",
       "\n",
       "    .dataframe tbody tr th {\n",
       "        vertical-align: top;\n",
       "    }\n",
       "\n",
       "    .dataframe thead th {\n",
       "        text-align: right;\n",
       "    }\n",
       "</style>\n",
       "<table border=\"1\" class=\"dataframe\">\n",
       "  <thead>\n",
       "    <tr style=\"text-align: right;\">\n",
       "      <th></th>\n",
       "      <th>RMSE</th>\n",
       "      <th>MAE</th>\n",
       "      <th>rho</th>\n",
       "      <th>t-val</th>\n",
       "      <th>nsample</th>\n",
       "    </tr>\n",
       "  </thead>\n",
       "  <tbody>\n",
       "    <tr>\n",
       "      <th>Stats.</th>\n",
       "      <td>0.09847</td>\n",
       "      <td>0.057267</td>\n",
       "      <td>0.628914</td>\n",
       "      <td>41.555077</td>\n",
       "      <td>2641.0</td>\n",
       "    </tr>\n",
       "  </tbody>\n",
       "</table>\n",
       "</div>"
      ],
      "text/plain": [
       "           RMSE       MAE       rho      t-val  nsample\n",
       "Stats.  0.09847  0.057267  0.628914  41.555077   2641.0"
      ]
     },
     "metadata": {},
     "output_type": "display_data"
    },
    {
     "data": {
      "application/vnd.jupyter.widget-view+json": {
       "model_id": "c96b1dcdfe854441b038dd16b90dd27d",
       "version_major": 2,
       "version_minor": 0
      },
      "text/plain": [
       "  0%|          | 0/2641 [00:00<?, ?it/s]"
      ]
     },
     "metadata": {},
     "output_type": "display_data"
    }
   ],
   "source": [
    "dfpred, _ = predictor.pred_ds('with_cons', X, y, model, ts_type='by_index', verbose=True)\n",
    "prediction_with_consensus = formatting(dfdataset_with_cons, dfbest_correlations, dfpred)"
   ]
  },
  {
   "cell_type": "code",
   "execution_count": 14,
   "id": "9a6beffd-5f56-4693-82c9-76b9591c29be",
   "metadata": {
    "execution": {
     "iopub.execute_input": "2024-11-13T06:13:23.153998Z",
     "iopub.status.busy": "2024-11-13T06:13:23.153184Z",
     "iopub.status.idle": "2024-11-13T06:13:23.242920Z",
     "shell.execute_reply": "2024-11-13T06:13:23.241933Z",
     "shell.execute_reply.started": "2024-11-13T06:13:23.153963Z"
    }
   },
   "outputs": [],
   "source": [
    "prediction_with_consensus['consensus'] = cons['consensus']\n",
    "prediction_with_consensus['Predict'] = (prediction_with_consensus['predict'] - prediction_with_consensus['actual']) / prediction_with_consensus['actual']\n",
    "prediction_with_consensus['Consensus'] = (prediction_with_consensus['consensus'] - prediction_with_consensus['actual']) / prediction_with_consensus['actual']\n",
    "prediction_with_consensus['win'] = \\\n",
    "(prediction_with_consensus['predict'] - prediction_with_consensus['actual']).abs() < (prediction_with_consensus['consensus']  - prediction_with_consensus['actual']).abs()"
   ]
  },
  {
   "cell_type": "code",
   "execution_count": 15,
   "id": "e190c433-9f91-4db7-942a-10d6bd6e794f",
   "metadata": {
    "execution": {
     "iopub.execute_input": "2024-11-13T06:13:23.244898Z",
     "iopub.status.busy": "2024-11-13T06:13:23.244269Z",
     "iopub.status.idle": "2024-11-13T06:13:23.378929Z",
     "shell.execute_reply": "2024-11-13T06:13:23.377819Z",
     "shell.execute_reply.started": "2024-11-13T06:13:23.244866Z"
    }
   },
   "outputs": [
    {
     "data": {
      "text/html": [
       "<div>\n",
       "<style scoped>\n",
       "    .dataframe tbody tr th:only-of-type {\n",
       "        vertical-align: middle;\n",
       "    }\n",
       "\n",
       "    .dataframe tbody tr th {\n",
       "        vertical-align: top;\n",
       "    }\n",
       "\n",
       "    .dataframe thead th {\n",
       "        text-align: right;\n",
       "    }\n",
       "</style>\n",
       "<table border=\"1\" class=\"dataframe\">\n",
       "  <thead>\n",
       "    <tr style=\"text-align: right;\">\n",
       "      <th></th>\n",
       "      <th>RMSPE</th>\n",
       "    </tr>\n",
       "  </thead>\n",
       "  <tbody>\n",
       "    <tr>\n",
       "      <th>Predict</th>\n",
       "      <td>0.111962</td>\n",
       "    </tr>\n",
       "    <tr>\n",
       "      <th>Consensus</th>\n",
       "      <td>0.149374</td>\n",
       "    </tr>\n",
       "  </tbody>\n",
       "</table>\n",
       "</div>"
      ],
      "text/plain": [
       "              RMSPE\n",
       "Predict    0.111962\n",
       "Consensus  0.149374"
      ]
     },
     "execution_count": 15,
     "metadata": {},
     "output_type": "execute_result"
    }
   ],
   "source": [
    "prediction_with_consensus['win_rate_until'] = prediction_with_consensus['win'].sort_index().groupby('TICKER', group_keys=False).apply(lambda x: x.expanding().mean().shift(1))\n",
    "pre_win = prediction_with_consensus[prediction_with_consensus['win_rate_until']>0.5].copy()\n",
    "np.sqrt( (pre_win[['Predict', 'Consensus']]**2).mean() ).to_frame('RMSPE')"
   ]
  },
  {
   "cell_type": "markdown",
   "id": "35e5e8ce-e9fa-455d-ba00-49c637910cbe",
   "metadata": {},
   "source": [
    "#### 5.1.1. The estimation errors of the model predictions are notablly smaller."
   ]
  },
  {
   "cell_type": "code",
   "execution_count": 16,
   "id": "d83ec597-1859-4fdd-9c28-763ed887b390",
   "metadata": {
    "execution": {
     "iopub.execute_input": "2024-11-13T06:13:23.381221Z",
     "iopub.status.busy": "2024-11-13T06:13:23.380429Z",
     "iopub.status.idle": "2024-11-13T06:13:23.875434Z",
     "shell.execute_reply": "2024-11-13T06:13:23.874269Z",
     "shell.execute_reply.started": "2024-11-13T06:13:23.381187Z"
    }
   },
   "outputs": [
    {
     "data": {
      "text/plain": [
       "<AxesSubplot: title={'center': '0'}, xlabel='level_2'>"
      ]
     },
     "execution_count": 16,
     "metadata": {},
     "output_type": "execute_result"
    },
    {
     "data": {
      "image/png": "[encoded data removed]",
      "text/plain": [
       "<Figure size 640x480 with 1 Axes>"
      ]
     },
     "metadata": {},
     "output_type": "display_data"
    }
   ],
   "source": [
    "pre_win[['Predict', 'Consensus']].stack().reset_index(level=-1).boxplot(0, by='level_2')"
   ]
  },
  {
   "cell_type": "code",
   "execution_count": 17,
   "id": "fdb6faef-fdd9-4e6e-ab08-287691c39e60",
   "metadata": {
    "execution": {
     "iopub.execute_input": "2024-11-13T06:13:23.877515Z",
     "iopub.status.busy": "2024-11-13T06:13:23.877157Z",
     "iopub.status.idle": "2024-11-13T06:13:23.955634Z",
     "shell.execute_reply": "2024-11-13T06:13:23.954553Z",
     "shell.execute_reply.started": "2024-11-13T06:13:23.877474Z"
    }
   },
   "outputs": [
    {
     "data": {
      "text/html": [
       "<div>\n",
       "<style scoped>\n",
       "    .dataframe tbody tr th:only-of-type {\n",
       "        vertical-align: middle;\n",
       "    }\n",
       "\n",
       "    .dataframe tbody tr th {\n",
       "        vertical-align: top;\n",
       "    }\n",
       "\n",
       "    .dataframe thead th {\n",
       "        text-align: right;\n",
       "    }\n",
       "</style>\n",
       "<table border=\"1\" class=\"dataframe\">\n",
       "  <thead>\n",
       "    <tr style=\"text-align: right;\">\n",
       "      <th></th>\n",
       "      <th>direction_is_coincident</th>\n",
       "    </tr>\n",
       "  </thead>\n",
       "  <tbody>\n",
       "    <tr>\n",
       "      <th>True</th>\n",
       "      <td>559</td>\n",
       "    </tr>\n",
       "    <tr>\n",
       "      <th>False</th>\n",
       "      <td>309</td>\n",
       "    </tr>\n",
       "  </tbody>\n",
       "</table>\n",
       "</div>"
      ],
      "text/plain": [
       "       direction_is_coincident\n",
       "True                       559\n",
       "False                      309"
      ]
     },
     "metadata": {},
     "output_type": "display_data"
    },
    {
     "name": "stdout",
     "output_type": "stream",
     "text": [
      "rate = 0.6440092165898618\n"
     ]
    }
   ],
   "source": [
    "matrix = ((pre_win['actual'] - pre_win['consensus']).map(np.sign) == (pre_win['predict'] - pre_win['consensus']).map(np.sign)).value_counts()\n",
    "display(matrix.to_frame('direction_is_coincident'))\n",
    "print(f'rate = {matrix[True] / sum(matrix)}')"
   ]
  },
  {
   "cell_type": "markdown",
   "id": "ec1c2a9f-e738-40de-966e-52c3a2715a24",
   "metadata": {},
   "source": [
    "#### 5.1.2 POS assisted predictions forecast more accurately than concensus estimates"
   ]
  },
  {
   "cell_type": "code",
   "execution_count": 18,
   "id": "1e208359-d1ea-41b8-a11c-f6b2022a69e0",
   "metadata": {
    "execution": {
     "iopub.execute_input": "2024-11-13T06:13:23.957194Z",
     "iopub.status.busy": "2024-11-13T06:13:23.956905Z",
     "iopub.status.idle": "2024-11-13T06:13:24.604291Z",
     "shell.execute_reply": "2024-11-13T06:13:24.603147Z",
     "shell.execute_reply.started": "2024-11-13T06:13:23.957163Z"
    }
   },
   "outputs": [
    {
     "data": {
      "text/plain": [
       "Text(0.5, 1.0, 'Consensus Forecast : YOY Increase\\nPOS-Based Prediction : YOY Decrease')"
      ]
     },
     "execution_count": 18,
     "metadata": {},
     "output_type": "execute_result"
    },
    {
     "data": {
      "image/png": "[encoded data removed]",
      "text/plain": [
       "<Figure size 1500x500 with 2 Axes>"
      ]
     },
     "metadata": {},
     "output_type": "display_data"
    }
   ],
   "source": [
    "pre_win['actual_pre'] = sales.sort_index()['sales'].groupby('TICKER', group_keys=False).apply(lambda x: x.shift(4))\n",
    "pre_win['actual_YoY'] = np.log(pre_win['actual']) - np.log(pre_win['actual_pre'])\n",
    "pre_win['predict_YoY'] = np.log(pre_win['predict']) - np.log(pre_win['actual_pre'])\n",
    "pre_win['consensus_YoY'] = np.log(pre_win['consensus']) - np.log(pre_win['actual_pre'])\n",
    "\n",
    "_, axes = plt.subplots(1, 2, figsize=(15,5))\n",
    "pre_win[(pre_win['consensus_YoY'] < 0) & (pre_win['predict_YoY'] > 0) ]['actual_YoY'].map(np.sign).map({1:'YOY Increase', -1:'YOY Decrease'}).value_counts().sort_index().plot.bar(ax=axes[0], rot=0)\n",
    "axes[0].set_title('Consensus Forecast : YOY Decrease\\nPOS-Based Prediction : YOY Increase')\n",
    "pre_win[(pre_win['consensus_YoY'] > 0) & (pre_win['predict_YoY'] < 0) ]['actual_YoY'].map(np.sign).map({1:'YOY Increase', -1:'YOY Decrease'}).value_counts().sort_index().plot.bar(ax=axes[1], rot=0)\n",
    "axes[1].set_title('Consensus Forecast : YOY Increase\\nPOS-Based Prediction : YOY Decrease')"
   ]
  },
  {
   "cell_type": "code",
   "execution_count": 19,
   "id": "d940703b-634a-4114-a420-75e43459949e",
   "metadata": {
    "execution": {
     "iopub.execute_input": "2024-11-13T06:13:24.606485Z",
     "iopub.status.busy": "2024-11-13T06:13:24.605623Z",
     "iopub.status.idle": "2024-11-13T06:13:24.678536Z",
     "shell.execute_reply": "2024-11-13T06:13:24.677427Z",
     "shell.execute_reply.started": "2024-11-13T06:13:24.606447Z"
    }
   },
   "outputs": [
    {
     "data": {
      "text/html": [
       "<div>\n",
       "<style scoped>\n",
       "    .dataframe tbody tr th:only-of-type {\n",
       "        vertical-align: middle;\n",
       "    }\n",
       "\n",
       "    .dataframe tbody tr th {\n",
       "        vertical-align: top;\n",
       "    }\n",
       "\n",
       "    .dataframe thead th {\n",
       "        text-align: right;\n",
       "    }\n",
       "</style>\n",
       "<table border=\"1\" class=\"dataframe\">\n",
       "  <thead>\n",
       "    <tr style=\"text-align: right;\">\n",
       "      <th></th>\n",
       "      <th>rate</th>\n",
       "      <th>count</th>\n",
       "    </tr>\n",
       "    <tr>\n",
       "      <th>TICKER</th>\n",
       "      <th></th>\n",
       "      <th></th>\n",
       "    </tr>\n",
       "  </thead>\n",
       "  <tbody>\n",
       "    <tr>\n",
       "      <th>3402</th>\n",
       "      <td>0.487805</td>\n",
       "      <td>41</td>\n",
       "    </tr>\n",
       "    <tr>\n",
       "      <th>4901</th>\n",
       "      <td>0.512195</td>\n",
       "      <td>41</td>\n",
       "    </tr>\n",
       "    <tr>\n",
       "      <th>8113</th>\n",
       "      <td>0.525000</td>\n",
       "      <td>40</td>\n",
       "    </tr>\n",
       "    <tr>\n",
       "      <th>4005</th>\n",
       "      <td>0.550000</td>\n",
       "      <td>40</td>\n",
       "    </tr>\n",
       "    <tr>\n",
       "      <th>4188</th>\n",
       "      <td>0.625000</td>\n",
       "      <td>40</td>\n",
       "    </tr>\n",
       "  </tbody>\n",
       "</table>\n",
       "</div>"
      ],
      "text/plain": [
       "            rate  count\n",
       "TICKER                 \n",
       "3402    0.487805     41\n",
       "4901    0.512195     41\n",
       "8113    0.525000     40\n",
       "4005    0.550000     40\n",
       "4188    0.625000     40"
      ]
     },
     "execution_count": 19,
     "metadata": {},
     "output_type": "execute_result"
    }
   ],
   "source": [
    "examples = pd.concat({'rate': prediction_with_consensus.groupby('TICKER')['win'].mean().sort_values(), 'count': prediction_with_consensus.groupby('TICKER')['win'].size()}, axis=1)\n",
    "examples[examples['count']>=40].sort_values('rate').tail()"
   ]
  },
  {
   "cell_type": "markdown",
   "id": "4bbe6790-71a4-425a-aafa-57c916d5c2e2",
   "metadata": {
    "jp-MarkdownHeadingCollapsed": true
   },
   "source": [
    "#### 5.1.3 An example plot of prediction"
   ]
  },
  {
   "cell_type": "code",
   "execution_count": 20,
   "id": "cbfebfea-1e57-4d35-babb-7ed329f427a3",
   "metadata": {
    "execution": {
     "iopub.execute_input": "2024-11-13T06:13:24.680522Z",
     "iopub.status.busy": "2024-11-13T06:13:24.679787Z",
     "iopub.status.idle": "2024-11-13T06:13:25.243599Z",
     "shell.execute_reply": "2024-11-13T06:13:25.242389Z",
     "shell.execute_reply.started": "2024-11-13T06:13:24.680487Z"
    }
   },
   "outputs": [
    {
     "data": {
      "text/plain": [
       "Text(0, 0.5, 'YoY(logdiff)')"
      ]
     },
     "execution_count": 20,
     "metadata": {},
     "output_type": "execute_result"
    },
    {
     "data": {
      "image/png": "[encoded data removed]",
      "text/plain": [
       "<Figure size 1500x500 with 1 Axes>"
      ]
     },
     "metadata": {},
     "output_type": "display_data"
    }
   ],
   "source": [
    "ticker = '4188'\n",
    "sample = prediction_with_consensus.xs(ticker)[['actual', 'predict', 'consensus']].copy()\n",
    "sample['pre'] = sales.xs(ticker).sort_index().shift(4)['sales']\n",
    "sample[['pos', 'y']] = pos_data.xs(0).xs(False).xs(ticker)[['X', 'y']]\n",
    "\n",
    "ax = (np.log(sample['actual']) - np.log(sample['pre'])).plot(color='black', linewidth=3, figsize=(15,5), label='actual')\n",
    "(np.log(sample['predict']) - np.log(sample['pre'])).plot(color='red', ax=ax, label='predict')\n",
    "(np.log(sample['consensus']) - np.log(sample['pre'])).plot(color='blue', ax=ax, label='consensus')\n",
    "# sample['y'].plot(ax=ax, label='y', linestyle=':')\n",
    "# sample['pos'].plot(ax=ax, label='POS', linestyle=':')\n",
    "ax.legend()\n",
    "plt.ylabel('YoY(logdiff)')"
   ]
  },
  {
   "cell_type": "markdown",
   "id": "de2acda2-7ea9-42a8-a00a-7b448bb6b115",
   "metadata": {},
   "source": [
    "### 5.2 Prediction for Stocks without Consensus\n",
    "We evaluate prediction quality separetely for tickers without any analyst consensus estimates.\n",
    "This group of tickers often contain names with smaller presence in POS data and therefore we use POS sales share for screening them out.\n",
    "We use year-on-year sales growth as the benchmark (naive prediction) against predictions.\n",
    "- The estimation errors by POS data are smaller than the naive predictions\n",
    "- YoY sales growth for the previous quarter is used as the benchmark.\n",
    "- POS sales share of 5% is used to screen out tickers with confidence."
   ]
  },
  {
   "cell_type": "code",
   "execution_count": 21,
   "id": "34a4cddc-1751-48d1-8669-e1ffbcfa948c",
   "metadata": {
    "execution": {
     "iopub.execute_input": "2024-11-13T06:13:25.246071Z",
     "iopub.status.busy": "2024-11-13T06:13:25.245075Z",
     "iopub.status.idle": "2024-11-13T06:13:25.406520Z",
     "shell.execute_reply": "2024-11-13T06:13:25.405410Z",
     "shell.execute_reply.started": "2024-11-13T06:13:25.246029Z"
    }
   },
   "outputs": [
    {
     "data": {
      "text/html": [
       "<div>\n",
       "<style scoped>\n",
       "    .dataframe tbody tr th:only-of-type {\n",
       "        vertical-align: middle;\n",
       "    }\n",
       "\n",
       "    .dataframe tbody tr th {\n",
       "        vertical-align: top;\n",
       "    }\n",
       "\n",
       "    .dataframe thead th {\n",
       "        text-align: right;\n",
       "    }\n",
       "</style>\n",
       "<table border=\"1\" class=\"dataframe\">\n",
       "  <thead>\n",
       "    <tr style=\"text-align: right;\">\n",
       "      <th></th>\n",
       "      <th>variable_id</th>\n",
       "      <th>data_id</th>\n",
       "      <th>root_field</th>\n",
       "      <th>other_roots</th>\n",
       "      <th>step_001</th>\n",
       "    </tr>\n",
       "    <tr>\n",
       "      <th>variable_name</th>\n",
       "      <th></th>\n",
       "      <th></th>\n",
       "      <th></th>\n",
       "      <th></th>\n",
       "      <th></th>\n",
       "    </tr>\n",
       "  </thead>\n",
       "  <tbody>\n",
       "    <tr>\n",
       "      <th>WithoutCons_Y</th>\n",
       "      <td>5</td>\n",
       "      <td>3</td>\n",
       "      <td>y</td>\n",
       "      <td>-</td>\n",
       "      <td>raw()</td>\n",
       "    </tr>\n",
       "    <tr>\n",
       "      <th>WithoutCons_X</th>\n",
       "      <td>6</td>\n",
       "      <td>3</td>\n",
       "      <td>X</td>\n",
       "      <td>-</td>\n",
       "      <td>raw()</td>\n",
       "    </tr>\n",
       "  </tbody>\n",
       "</table>\n",
       "</div>"
      ],
      "text/plain": [
       "               variable_id  data_id root_field other_roots step_001\n",
       "variable_name                                                      \n",
       "WithoutCons_Y            5        3          y           -    raw()\n",
       "WithoutCons_X            6        3          X           -    raw()"
      ]
     },
     "metadata": {},
     "output_type": "display_data"
    }
   ],
   "source": [
    "sdh.set_raw_data(dfdataset_without_cons, alias='without_cons')\n",
    "display(sdh.transform.variables)\n",
    "y = sdh.transform.variables.index[0]\n",
    "X = sdh.transform.variables.index[1:]"
   ]
  },
  {
   "cell_type": "code",
   "execution_count": 22,
   "id": "48db6afc-9afb-4252-89e3-92715cf0f974",
   "metadata": {
    "execution": {
     "iopub.execute_input": "2024-11-13T06:13:25.408843Z",
     "iopub.status.busy": "2024-11-13T06:13:25.407884Z",
     "iopub.status.idle": "2024-11-13T06:14:17.075521Z",
     "shell.execute_reply": "2024-11-13T06:14:17.074420Z",
     "shell.execute_reply.started": "2024-11-13T06:13:25.408803Z"
    }
   },
   "outputs": [
    {
     "name": "stderr",
     "output_type": "stream",
     "text": [
      "Prediction running..: 100%|██████████| 205/205 [00:24<00:00,  8.33it/s]\n"
     ]
    },
    {
     "data": {
      "text/html": [
       "<div>\n",
       "<style scoped>\n",
       "    .dataframe tbody tr th:only-of-type {\n",
       "        vertical-align: middle;\n",
       "    }\n",
       "\n",
       "    .dataframe tbody tr th {\n",
       "        vertical-align: top;\n",
       "    }\n",
       "\n",
       "    .dataframe thead th {\n",
       "        text-align: right;\n",
       "    }\n",
       "</style>\n",
       "<table border=\"1\" class=\"dataframe\">\n",
       "  <thead>\n",
       "    <tr style=\"text-align: right;\">\n",
       "      <th></th>\n",
       "      <th>RMSE</th>\n",
       "      <th>MAE</th>\n",
       "      <th>rho</th>\n",
       "      <th>t-val</th>\n",
       "      <th>nsample</th>\n",
       "    </tr>\n",
       "  </thead>\n",
       "  <tbody>\n",
       "    <tr>\n",
       "      <th>Stats.</th>\n",
       "      <td>0.12802</td>\n",
       "      <td>0.068022</td>\n",
       "      <td>0.27868</td>\n",
       "      <td>18.559888</td>\n",
       "      <td>4093.0</td>\n",
       "    </tr>\n",
       "  </tbody>\n",
       "</table>\n",
       "</div>"
      ],
      "text/plain": [
       "           RMSE       MAE      rho      t-val  nsample\n",
       "Stats.  0.12802  0.068022  0.27868  18.559888   4093.0"
      ]
     },
     "metadata": {},
     "output_type": "display_data"
    },
    {
     "data": {
      "application/vnd.jupyter.widget-view+json": {
       "model_id": "c50b1b6985524bf89745f6f6704b9096",
       "version_major": 2,
       "version_minor": 0
      },
      "text/plain": [
       "  0%|          | 0/4093 [00:00<?, ?it/s]"
      ]
     },
     "metadata": {},
     "output_type": "display_data"
    }
   ],
   "source": [
    "dfpred, _ = predictor.pred_ds('without_cons', X, y, model, ts_type='by_index', verbose=True)\n",
    "prediction_without_consensus = formatting(dfdataset_without_cons, dfbest_correlations, dfpred)"
   ]
  },
  {
   "cell_type": "code",
   "execution_count": 23,
   "id": "5d53bb71-5e20-4119-a7b4-6c31c7722968",
   "metadata": {
    "execution": {
     "iopub.execute_input": "2024-11-13T06:14:17.081449Z",
     "iopub.status.busy": "2024-11-13T06:14:17.080814Z",
     "iopub.status.idle": "2024-11-13T06:14:18.770105Z",
     "shell.execute_reply": "2024-11-13T06:14:18.768992Z",
     "shell.execute_reply.started": "2024-11-13T06:14:17.081417Z"
    }
   },
   "outputs": [],
   "source": [
    "prediction_without_consensus['Predict'] = (prediction_without_consensus['predict'] - prediction_without_consensus['actual']) / prediction_without_consensus['actual']\n",
    "prediction_without_consensus['Benchmark'] = (prediction_without_consensus['extrapolation'] - prediction_without_consensus['actual']) / prediction_without_consensus['actual'] \n",
    "prediction_without_consensus['share'] = share_ts.groupby('seccode', group_keys=False)['mean'].apply(lambda x: x.shift(1)).reindex(prediction_without_consensus.index)\n",
    "prediction_without_consensus['Benchmark'] = (prediction_without_consensus['extrapolation'] - prediction_without_consensus['actual']) / prediction_without_consensus['actual'] "
   ]
  },
  {
   "cell_type": "code",
   "execution_count": 24,
   "id": "d828a976-2f4e-4b97-a946-28dac446b7fb",
   "metadata": {
    "execution": {
     "iopub.execute_input": "2024-11-13T06:14:18.771599Z",
     "iopub.status.busy": "2024-11-13T06:14:18.771275Z",
     "iopub.status.idle": "2024-11-13T06:14:18.841565Z",
     "shell.execute_reply": "2024-11-13T06:14:18.840480Z",
     "shell.execute_reply.started": "2024-11-13T06:14:18.771568Z"
    }
   },
   "outputs": [
    {
     "data": {
      "text/html": [
       "<div>\n",
       "<style scoped>\n",
       "    .dataframe tbody tr th:only-of-type {\n",
       "        vertical-align: middle;\n",
       "    }\n",
       "\n",
       "    .dataframe tbody tr th {\n",
       "        vertical-align: top;\n",
       "    }\n",
       "\n",
       "    .dataframe thead th {\n",
       "        text-align: right;\n",
       "    }\n",
       "</style>\n",
       "<table border=\"1\" class=\"dataframe\">\n",
       "  <thead>\n",
       "    <tr style=\"text-align: right;\">\n",
       "      <th></th>\n",
       "      <th>RMSPE</th>\n",
       "    </tr>\n",
       "  </thead>\n",
       "  <tbody>\n",
       "    <tr>\n",
       "      <th>Predict</th>\n",
       "      <td>0.122343</td>\n",
       "    </tr>\n",
       "    <tr>\n",
       "      <th>Benchmark</th>\n",
       "      <td>0.143605</td>\n",
       "    </tr>\n",
       "  </tbody>\n",
       "</table>\n",
       "</div>"
      ],
      "text/plain": [
       "              RMSPE\n",
       "Predict    0.122343\n",
       "Benchmark  0.143605"
      ]
     },
     "execution_count": 24,
     "metadata": {},
     "output_type": "execute_result"
    }
   ],
   "source": [
    "good = prediction_without_consensus[(prediction_without_consensus['share']>0.05)&(prediction_without_consensus['t_val']>0)].copy()\n",
    "np.sqrt(((good[['Predict', 'Benchmark']])**2).mean()).to_frame('RMSPE')"
   ]
  },
  {
   "cell_type": "code",
   "execution_count": null,
   "id": "9d5e9fbb-f0e3-41c0-9480-1c14d7457a2d",
   "metadata": {},
   "outputs": [],
   "source": []
  },
  {
   "cell_type": "code",
   "execution_count": null,
   "id": "f16ce271-fa34-4737-90af-164612ee988d",
   "metadata": {},
   "outputs": [],
   "source": []
  },
  {
   "cell_type": "code",
   "execution_count": null,
   "id": "242112f2-fa35-46c9-9350-26ac8d44e10b",
   "metadata": {},
   "outputs": [],
   "source": []
  }
 ],
 "metadata": {
  "kernelspec": {
   "display_name": "inv",
   "language": "python",
   "name": "inv"
  },
  "language_info": {
   "codemirror_mode": {
    "name": "ipython",
    "version": 3
   },
   "file_extension": ".py",
   "mimetype": "text/x-python",
   "name": "python",
   "nbconvert_exporter": "python",
   "pygments_lexer": "ipython3",
   "version": "3.9.19"
  }
 },
 "nbformat": 4,
 "nbformat_minor": 5
}
