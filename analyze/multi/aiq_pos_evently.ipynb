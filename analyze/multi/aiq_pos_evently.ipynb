{
 "cells": [
  {
   "attachments": {
    "b8f1ff06-cee2-4b9c-ba2d-e754a1b2263d.png": {
     "image/png": "[encoded data removed]"
    }
   },
   "cell_type": "markdown",
   "id": "3b6cfe7a-802c-49c9-8828-3517b3ff7f37",
   "metadata": {},
   "source": [
    "![スクリーンショット 2024-03-26 11.25.41.png](attachment:b8f1ff06-cee2-4b9c-ba2d-e754a1b2263d.png)\n",
    "\n",
    "[disclaimer](../../disclaimer.txt/)"
   ]
  },
  {
   "cell_type": "markdown",
   "id": "83a8bc10-7e45-4f56-80fa-04ff0d705a45",
   "metadata": {},
   "source": [
    "# aiQ Pos Cmsmr Goods/Elec/Retailer Evenly"
   ]
  },
  {
   "cell_type": "code",
   "execution_count": 1,
   "id": "1d994779-704f-4692-9505-63791b740433",
   "metadata": {},
   "outputs": [],
   "source": [
    "%load_ext autoreload\n",
    "%autoreload 2"
   ]
  },
  {
   "cell_type": "code",
   "execution_count": 2,
   "id": "b0635187-fbee-432a-849e-b8768cd73d7e",
   "metadata": {},
   "outputs": [],
   "source": [
    "import os\n",
    "import sys\n",
    "import numpy as np\n",
    "import pandas as pd\n",
    "import plotly.io\n",
    "\n",
    "for_html = False\n",
    "if for_html:\n",
    "    plotly.offline.init_notebook_mode()\n",
    "else:\n",
    "    plotly.io.renderers.default = 'iframe'\n",
    "\n",
    "sys.path.append('../..')\n"
   ]
  },
  {
   "cell_type": "code",
   "execution_count": 3,
   "id": "bbc1699c-945b-4d27-a7a8-82227cc9398b",
   "metadata": {},
   "outputs": [],
   "source": [
    "verbose = False"
   ]
  },
  {
   "cell_type": "markdown",
   "id": "dbeadbc3-ee19-49bc-bb2b-e52a72858d12",
   "metadata": {},
   "source": [
    "## データロード"
   ]
  },
  {
   "cell_type": "markdown",
   "id": "0ac753fc-445c-4207-aae6-bdce6376fe90",
   "metadata": {},
   "source": [
    "### データハンドラーのインポート"
   ]
  },
  {
   "cell_type": "code",
   "execution_count": 4,
   "id": "f61cf979-2682-426c-8a83-349fcc90a38b",
   "metadata": {
    "scrolled": true
   },
   "outputs": [],
   "source": [
    "from aiq_strategy_robot.data.data_accessor import DAL"
   ]
  },
  {
   "cell_type": "code",
   "execution_count": 7,
   "id": "9e74ef7b-602a-406d-9600-b712f5daa2bb",
   "metadata": {},
   "outputs": [
    {
     "data": {
      "text/html": [
       "<div>\n",
       "<style scoped>\n",
       "    .dataframe tbody tr th:only-of-type {\n",
       "        vertical-align: middle;\n",
       "    }\n",
       "\n",
       "    .dataframe tbody tr th {\n",
       "        vertical-align: top;\n",
       "    }\n",
       "\n",
       "    .dataframe thead th {\n",
       "        text-align: right;\n",
       "    }\n",
       "</style>\n",
       "<table border=\"1\" class=\"dataframe\">\n",
       "  <thead>\n",
       "    <tr style=\"text-align: right;\">\n",
       "      <th></th>\n",
       "      <th>category</th>\n",
       "      <th>data_source</th>\n",
       "      <th>source</th>\n",
       "      <th>table</th>\n",
       "      <th>alias</th>\n",
       "      <th>tickers</th>\n",
       "      <th>index</th>\n",
       "      <th>start_datetime</th>\n",
       "      <th>end_datetime</th>\n",
       "    </tr>\n",
       "    <tr>\n",
       "      <th>data_id</th>\n",
       "      <th></th>\n",
       "      <th></th>\n",
       "      <th></th>\n",
       "      <th></th>\n",
       "      <th></th>\n",
       "      <th></th>\n",
       "      <th></th>\n",
       "      <th></th>\n",
       "      <th></th>\n",
       "    </tr>\n",
       "  </thead>\n",
       "  <tbody>\n",
       "    <tr>\n",
       "      <th>1</th>\n",
       "      <td>RawData</td>\n",
       "      <td>aiQ</td>\n",
       "      <td>pos_retailer</td>\n",
       "      <td>Unknown</td>\n",
       "      <td>Unknown</td>\n",
       "      <td>[1925, 2212, 2267, 2651, 2653, 2659, 2660, 266...</td>\n",
       "      <td>[ticker, datetime]</td>\n",
       "      <td>2010-04-30 00:00:00</td>\n",
       "      <td>2024-02-29 00:00:00</td>\n",
       "    </tr>\n",
       "    <tr>\n",
       "      <th>2</th>\n",
       "      <td>RawData</td>\n",
       "      <td>aiQ</td>\n",
       "      <td>pos_goods</td>\n",
       "      <td>Unknown</td>\n",
       "      <td>Unknown2</td>\n",
       "      <td>[1301, 1332, 1333, 1334, 1352, 1378, 1379, 138...</td>\n",
       "      <td>[ticker, datetime]</td>\n",
       "      <td>2008-03-16 00:00:00</td>\n",
       "      <td>2024-03-03 00:00:00</td>\n",
       "    </tr>\n",
       "    <tr>\n",
       "      <th>3</th>\n",
       "      <td>RawData</td>\n",
       "      <td>aiQ</td>\n",
       "      <td>pos_elec</td>\n",
       "      <td>Unknown</td>\n",
       "      <td>Unknown3</td>\n",
       "      <td>[1956, 2180, 2321, 2323, 2326, 2354, 2388, 246...</td>\n",
       "      <td>[ticker, datetime]</td>\n",
       "      <td>2009-01-01 00:00:00</td>\n",
       "      <td>2024-02-11 00:00:00</td>\n",
       "    </tr>\n",
       "    <tr>\n",
       "      <th>4</th>\n",
       "      <td>RawData</td>\n",
       "      <td>aiQ</td>\n",
       "      <td>market</td>\n",
       "      <td>Unknown</td>\n",
       "      <td>Unknown4</td>\n",
       "      <td>[1301, 1306, 1321, 1332, 1333, 1334, 1352, 137...</td>\n",
       "      <td>[ticker, datetime]</td>\n",
       "      <td>2009-03-02 00:00:00</td>\n",
       "      <td>2024-03-11 00:00:00</td>\n",
       "    </tr>\n",
       "  </tbody>\n",
       "</table>\n",
       "</div>"
      ],
      "text/plain": [
       "        category data_source        source    table     alias  \\\n",
       "data_id                                                         \n",
       "1        RawData         aiQ  pos_retailer  Unknown   Unknown   \n",
       "2        RawData         aiQ     pos_goods  Unknown  Unknown2   \n",
       "3        RawData         aiQ      pos_elec  Unknown  Unknown3   \n",
       "4        RawData         aiQ        market  Unknown  Unknown4   \n",
       "\n",
       "                                                   tickers  \\\n",
       "data_id                                                      \n",
       "1        [1925, 2212, 2267, 2651, 2653, 2659, 2660, 266...   \n",
       "2        [1301, 1332, 1333, 1334, 1352, 1378, 1379, 138...   \n",
       "3        [1956, 2180, 2321, 2323, 2326, 2354, 2388, 246...   \n",
       "4        [1301, 1306, 1321, 1332, 1333, 1334, 1352, 137...   \n",
       "\n",
       "                      index       start_datetime         end_datetime  \n",
       "data_id                                                                \n",
       "1        [ticker, datetime]  2010-04-30 00:00:00  2024-02-29 00:00:00  \n",
       "2        [ticker, datetime]  2008-03-16 00:00:00  2024-03-03 00:00:00  \n",
       "3        [ticker, datetime]  2009-01-01 00:00:00  2024-02-11 00:00:00  \n",
       "4        [ticker, datetime]  2009-03-02 00:00:00  2024-03-11 00:00:00  "
      ]
     },
     "metadata": {},
     "output_type": "display_data"
    }
   ],
   "source": [
    "sdh = DAL()\n",
    "dat_id_retail = load_retail(sdh)\n",
    "data_id_goods = load_goods(sdh)\n",
    "data_id_elec = load_elec(sdh)\n",
    "data_id_mkt = load_mkt(sdh)\n",
    "\n",
    "sdh.set_alias(\n",
    "    {dat_id_retail: 'retail', data_id_goods: 'goods', \n",
    "     data_id_elec: 'elec', data_id_mkt: 'mkt'})"
   ]
  },
  {
   "cell_type": "markdown",
   "id": "8344213a-2c42-4637-b3c3-a4e8cb625509",
   "metadata": {},
   "source": [
    "### `AltDataEvaluator`作成\n",
    "セットアップしたデータハンドラーを渡し`AltDataEvaluator`を作成"
   ]
  },
  {
   "cell_type": "code",
   "execution_count": 8,
   "id": "f9b5106b-abe2-4cd2-9258-f87257cf9292",
   "metadata": {},
   "outputs": [],
   "source": [
    "from aiq_strategy_robot.evaluator import AltDataEvaluator, inv_return_stats, cumplot_return\n",
    "\n",
    "# Initialize AltDataEvaluator\n",
    "ade = AltDataEvaluator(sdh)"
   ]
  },
  {
   "cell_type": "code",
   "execution_count": 9,
   "id": "ad3155fe-2fe9-49da-8dfc-3909d9871cd4",
   "metadata": {},
   "outputs": [],
   "source": [
    "sdh.transform.verbose = True"
   ]
  },
  {
   "cell_type": "markdown",
   "id": "d0eabc5f-627f-4080-8e5f-9eb83e8f3e5f",
   "metadata": {},
   "source": [
    "## バックテスト"
   ]
  },
  {
   "cell_type": "code",
   "execution_count": 10,
   "id": "312a6cc7-a269-4617-9661-c0b78fed6f7d",
   "metadata": {},
   "outputs": [],
   "source": [
    "# リターン作成\n",
    "bcktest_return_id = sdh.transform.log_diff(1, data_id=data_id_mkt, fields='close').variable_ids[0]"
   ]
  },
  {
   "cell_type": "markdown",
   "id": "9b16dcea-6273-43dc-8e84-55ba6af0a502",
   "metadata": {},
   "source": [
    "### POS CSMR Goods weekly"
   ]
  },
  {
   "cell_type": "code",
   "execution_count": 11,
   "id": "399cea33-6642-4b26-bc71-d30a0102c784",
   "metadata": {},
   "outputs": [],
   "source": [
    "n_shift = 6\n",
    "n_rolling = 12\n",
    "n_diff = 52"
   ]
  },
  {
   "cell_type": "code",
   "execution_count": 12,
   "id": "36f69e7d-07d9-4f1d-86e7-c7572f1eb711",
   "metadata": {},
   "outputs": [],
   "source": [
    "signal_goods_id = (\n",
    "    sdh.transform\n",
    "    .multiply('pos_sales', 'unit_price', data_id=data_id_goods)\n",
    "    .resample('W', 'last')\n",
    "    .sma(n_rolling)\n",
    "    .log_diff(n_diff)\n",
    "    .resample('D', 'last')\n",
    "    .fillna('ffill', limit=7)\n",
    "    .reindex(label=bcktest_return_id)\n",
    "    .shift(n_shift)\n",
    "    .variable_ids[0]\n",
    ")"
   ]
  },
  {
   "cell_type": "code",
   "execution_count": 13,
   "id": "aad24441-a14c-4517-bcbf-3fb1de57ea25",
   "metadata": {},
   "outputs": [
    {
     "name": "stderr",
     "output_type": "stream",
     "text": [
      "Variables being created..: process: 1, method=log_diff(periods=1): 100%|█| 1/1 [00:05<00:00,  5.74\n",
      "Variables being created..: process: 11, method=shift(periods=6): 100%|█| 10/10 [00:08<00:00,  1.12\n"
     ]
    },
    {
     "data": {
      "text/html": [
       "<iframe\n",
       "    scrolling=\"no\"\n",
       "    width=\"100%\"\n",
       "    height=\"545px\"\n",
       "    src=\"iframe_figures/figure_13.html\"\n",
       "    frameborder=\"0\"\n",
       "    allowfullscreen\n",
       "></iframe>\n"
      ]
     },
     "metadata": {},
     "output_type": "display_data"
    },
    {
     "data": {
      "text/html": [
       "<div>\n",
       "<style scoped>\n",
       "    .dataframe tbody tr th:only-of-type {\n",
       "        vertical-align: middle;\n",
       "    }\n",
       "\n",
       "    .dataframe tbody tr th {\n",
       "        vertical-align: top;\n",
       "    }\n",
       "\n",
       "    .dataframe thead th {\n",
       "        text-align: right;\n",
       "    }\n",
       "</style>\n",
       "<table border=\"1\" class=\"dataframe\">\n",
       "  <thead>\n",
       "    <tr style=\"text-align: right;\">\n",
       "      <th></th>\n",
       "      <th>cum.Ret</th>\n",
       "      <th>ann.Ret</th>\n",
       "      <th>ann.Std</th>\n",
       "      <th>R/R</th>\n",
       "      <th>Win_R</th>\n",
       "      <th>ann.TurnOver</th>\n",
       "      <th>Max_DD</th>\n",
       "      <th>Calmar Ratio</th>\n",
       "    </tr>\n",
       "  </thead>\n",
       "  <tbody>\n",
       "    <tr>\n",
       "      <th>#1</th>\n",
       "      <td>0.404237</td>\n",
       "      <td>0.027379</td>\n",
       "      <td>0.134257</td>\n",
       "      <td>0.203931</td>\n",
       "      <td>0.545455</td>\n",
       "      <td>9.808951</td>\n",
       "      <td>-0.521708</td>\n",
       "      <td>0.052480</td>\n",
       "    </tr>\n",
       "    <tr>\n",
       "      <th>#2</th>\n",
       "      <td>0.922646</td>\n",
       "      <td>0.062491</td>\n",
       "      <td>0.136107</td>\n",
       "      <td>0.459134</td>\n",
       "      <td>0.536863</td>\n",
       "      <td>12.867590</td>\n",
       "      <td>-0.396555</td>\n",
       "      <td>0.157585</td>\n",
       "    </tr>\n",
       "    <tr>\n",
       "      <th>#3</th>\n",
       "      <td>1.237880</td>\n",
       "      <td>0.083842</td>\n",
       "      <td>0.136761</td>\n",
       "      <td>0.613055</td>\n",
       "      <td>0.552384</td>\n",
       "      <td>10.053583</td>\n",
       "      <td>-0.421545</td>\n",
       "      <td>0.198893</td>\n",
       "    </tr>\n",
       "    <tr>\n",
       "      <th>#3-#1</th>\n",
       "      <td>0.833643</td>\n",
       "      <td>0.056463</td>\n",
       "      <td>0.048385</td>\n",
       "      <td>1.166963</td>\n",
       "      <td>0.532428</td>\n",
       "      <td>19.862534</td>\n",
       "      <td>-0.071782</td>\n",
       "      <td>0.786589</td>\n",
       "    </tr>\n",
       "    <tr>\n",
       "      <th>#3-#1(cost)</th>\n",
       "      <td>0.687014</td>\n",
       "      <td>0.046532</td>\n",
       "      <td>0.048394</td>\n",
       "      <td>0.961521</td>\n",
       "      <td>0.529102</td>\n",
       "      <td>19.862534</td>\n",
       "      <td>-0.075392</td>\n",
       "      <td>0.617198</td>\n",
       "    </tr>\n",
       "  </tbody>\n",
       "</table>\n",
       "</div>"
      ],
      "text/plain": [
       "              cum.Ret   ann.Ret   ann.Std       R/R     Win_R  ann.TurnOver  \\\n",
       "#1           0.404237  0.027379  0.134257  0.203931  0.545455      9.808951   \n",
       "#2           0.922646  0.062491  0.136107  0.459134  0.536863     12.867590   \n",
       "#3           1.237880  0.083842  0.136761  0.613055  0.552384     10.053583   \n",
       "#3-#1        0.833643  0.056463  0.048385  1.166963  0.532428     19.862534   \n",
       "#3-#1(cost)  0.687014  0.046532  0.048394  0.961521  0.529102     19.862534   \n",
       "\n",
       "               Max_DD  Calmar Ratio  \n",
       "#1          -0.521708      0.052480  \n",
       "#2          -0.396555      0.157585  \n",
       "#3          -0.421545      0.198893  \n",
       "#3-#1       -0.071782      0.786589  \n",
       "#3-#1(cost) -0.075392      0.617198  "
      ]
     },
     "metadata": {},
     "output_type": "display_data"
    }
   ],
   "source": [
    "nq = 3\n",
    "exe_cost = 0.0005\n",
    "\n",
    "dfqret_goods, stats, dfsigqt = ade.q_backtest(\n",
    "    signal_goods_id,\n",
    "    bcktest_return_id,\n",
    "    nq=nq,\n",
    "    exe_cost=exe_cost,\n",
    "    plot=True,\n",
    "    stats=True\n",
    ")"
   ]
  },
  {
   "cell_type": "markdown",
   "id": "7128cf00-fabc-4d3e-ae32-e3c392ff7e39",
   "metadata": {},
   "source": [
    "### POS Retailer Monthly"
   ]
  },
  {
   "cell_type": "code",
   "execution_count": 14,
   "id": "98a742a2-e83e-43d2-91e6-927a03cddcc6",
   "metadata": {},
   "outputs": [],
   "source": [
    "n_shift = 7\n",
    "n_rolling = 2\n",
    "n_diff = 12"
   ]
  },
  {
   "cell_type": "code",
   "execution_count": 15,
   "id": "187c9f91-44b5-4e81-9610-4da6f5ab7d3d",
   "metadata": {},
   "outputs": [],
   "source": [
    "signal_retailer_id = (\n",
    "    sdh.transform\n",
    "    .multiply('pos_sales', 'share', data_id=dat_id_retail)\n",
    "    .resample('M', 'last')\n",
    "    .sma(n_rolling)\n",
    "    .log_diff(n_diff)\n",
    "    .resample('D', 'last')\n",
    "    .fillna('ffill', limit=31)\n",
    "    .reindex(label=bcktest_return_id)\n",
    "    .shift(n_shift)\n",
    "    .variable_ids[0]\n",
    ")\n"
   ]
  },
  {
   "cell_type": "code",
   "execution_count": 16,
   "id": "0659e4c9-51c0-4393-8f52-fc0c56c9b544",
   "metadata": {},
   "outputs": [
    {
     "name": "stderr",
     "output_type": "stream",
     "text": [
      "Variables being created..: process: 21, method=shift(periods=7): 100%|█| 10/10 [00:05<00:00,  1.99\n"
     ]
    },
    {
     "data": {
      "text/html": [
       "<iframe\n",
       "    scrolling=\"no\"\n",
       "    width=\"100%\"\n",
       "    height=\"545px\"\n",
       "    src=\"iframe_figures/figure_16.html\"\n",
       "    frameborder=\"0\"\n",
       "    allowfullscreen\n",
       "></iframe>\n"
      ]
     },
     "metadata": {},
     "output_type": "display_data"
    },
    {
     "data": {
      "text/html": [
       "<div>\n",
       "<style scoped>\n",
       "    .dataframe tbody tr th:only-of-type {\n",
       "        vertical-align: middle;\n",
       "    }\n",
       "\n",
       "    .dataframe tbody tr th {\n",
       "        vertical-align: top;\n",
       "    }\n",
       "\n",
       "    .dataframe thead th {\n",
       "        text-align: right;\n",
       "    }\n",
       "</style>\n",
       "<table border=\"1\" class=\"dataframe\">\n",
       "  <thead>\n",
       "    <tr style=\"text-align: right;\">\n",
       "      <th></th>\n",
       "      <th>cum.Ret</th>\n",
       "      <th>ann.Ret</th>\n",
       "      <th>ann.Std</th>\n",
       "      <th>R/R</th>\n",
       "      <th>Win_R</th>\n",
       "      <th>ann.TurnOver</th>\n",
       "      <th>Max_DD</th>\n",
       "      <th>Calmar Ratio</th>\n",
       "    </tr>\n",
       "  </thead>\n",
       "  <tbody>\n",
       "    <tr>\n",
       "      <th>#1</th>\n",
       "      <td>0.560540</td>\n",
       "      <td>0.043914</td>\n",
       "      <td>0.136987</td>\n",
       "      <td>0.320574</td>\n",
       "      <td>0.530298</td>\n",
       "      <td>11.530233</td>\n",
       "      <td>-0.591806</td>\n",
       "      <td>0.074204</td>\n",
       "    </tr>\n",
       "    <tr>\n",
       "      <th>#2</th>\n",
       "      <td>1.158385</td>\n",
       "      <td>0.090751</td>\n",
       "      <td>0.144999</td>\n",
       "      <td>0.625877</td>\n",
       "      <td>0.546970</td>\n",
       "      <td>12.483664</td>\n",
       "      <td>-0.458667</td>\n",
       "      <td>0.197859</td>\n",
       "    </tr>\n",
       "    <tr>\n",
       "      <th>#3</th>\n",
       "      <td>1.665846</td>\n",
       "      <td>0.130507</td>\n",
       "      <td>0.145841</td>\n",
       "      <td>0.894863</td>\n",
       "      <td>0.547291</td>\n",
       "      <td>9.696185</td>\n",
       "      <td>-0.446487</td>\n",
       "      <td>0.292298</td>\n",
       "    </tr>\n",
       "    <tr>\n",
       "      <th>#3-#1</th>\n",
       "      <td>1.105306</td>\n",
       "      <td>0.086593</td>\n",
       "      <td>0.071953</td>\n",
       "      <td>1.203473</td>\n",
       "      <td>0.529336</td>\n",
       "      <td>21.226418</td>\n",
       "      <td>-0.173242</td>\n",
       "      <td>0.499839</td>\n",
       "    </tr>\n",
       "    <tr>\n",
       "      <th>#3-#1(cost)</th>\n",
       "      <td>0.969835</td>\n",
       "      <td>0.075980</td>\n",
       "      <td>0.071955</td>\n",
       "      <td>1.055939</td>\n",
       "      <td>0.526451</td>\n",
       "      <td>21.226418</td>\n",
       "      <td>-0.186181</td>\n",
       "      <td>0.408096</td>\n",
       "    </tr>\n",
       "  </tbody>\n",
       "</table>\n",
       "</div>"
      ],
      "text/plain": [
       "              cum.Ret   ann.Ret   ann.Std       R/R     Win_R  ann.TurnOver  \\\n",
       "#1           0.560540  0.043914  0.136987  0.320574  0.530298     11.530233   \n",
       "#2           1.158385  0.090751  0.144999  0.625877  0.546970     12.483664   \n",
       "#3           1.665846  0.130507  0.145841  0.894863  0.547291      9.696185   \n",
       "#3-#1        1.105306  0.086593  0.071953  1.203473  0.529336     21.226418   \n",
       "#3-#1(cost)  0.969835  0.075980  0.071955  1.055939  0.526451     21.226418   \n",
       "\n",
       "               Max_DD  Calmar Ratio  \n",
       "#1          -0.591806      0.074204  \n",
       "#2          -0.458667      0.197859  \n",
       "#3          -0.446487      0.292298  \n",
       "#3-#1       -0.173242      0.499839  \n",
       "#3-#1(cost) -0.186181      0.408096  "
      ]
     },
     "metadata": {},
     "output_type": "display_data"
    }
   ],
   "source": [
    "nq = 3\n",
    "exe_cost = 0.0005\n",
    "\n",
    "dfqret_retailer, stats, dfsigqt = ade.q_backtest(\n",
    "    signal_retailer_id,\n",
    "    bcktest_return_id,\n",
    "    nq=nq,\n",
    "    exe_cost=exe_cost,\n",
    "    plot=True,\n",
    "    stats=True\n",
    ")"
   ]
  },
  {
   "cell_type": "markdown",
   "id": "0e3106b4-3f24-4344-bf37-3c1709233e13",
   "metadata": {},
   "source": [
    "### POS Elec Daily"
   ]
  },
  {
   "cell_type": "code",
   "execution_count": 17,
   "id": "cc8e76f6-fe96-4cd1-b890-85e36a01bfbd",
   "metadata": {},
   "outputs": [],
   "source": [
    "n_shift = 4\n",
    "n_rolling = 20\n",
    "n_diff = 252\n",
    "min_period = int(max(np.floor(n_rolling * 5 / 7), 1))"
   ]
  },
  {
   "cell_type": "code",
   "execution_count": 18,
   "id": "e869ceed-8ef4-4652-ba28-a579fbce64a1",
   "metadata": {},
   "outputs": [],
   "source": [
    "signal_elec_id = (\n",
    "    sdh.transform\n",
    "    .multiply('pos_sales', 'unit_price', data_id=data_id_elec)\n",
    "    .resample('D', 'last')\n",
    "    .sma(n_rolling, min_period)\n",
    "    .reindex(label=bcktest_return_id)\n",
    "    .log_diff(n_diff)\n",
    "    .reindex(label=bcktest_return_id)\n",
    "    .shift(n_shift)\n",
    "    .variable_ids[0]\n",
    ")\n"
   ]
  },
  {
   "cell_type": "code",
   "execution_count": 19,
   "id": "3bb8a39b-4947-47f5-8d11-8933423533b9",
   "metadata": {},
   "outputs": [
    {
     "name": "stderr",
     "output_type": "stream",
     "text": [
      "Variables being created..: process: 30, method=shift(periods=4): 100%|█| 9/9 [00:16<00:00,  1.78s/\n"
     ]
    },
    {
     "data": {
      "text/html": [
       "<iframe\n",
       "    scrolling=\"no\"\n",
       "    width=\"100%\"\n",
       "    height=\"545px\"\n",
       "    src=\"iframe_figures/figure_19.html\"\n",
       "    frameborder=\"0\"\n",
       "    allowfullscreen\n",
       "></iframe>\n"
      ]
     },
     "metadata": {},
     "output_type": "display_data"
    },
    {
     "data": {
      "text/html": [
       "<div>\n",
       "<style scoped>\n",
       "    .dataframe tbody tr th:only-of-type {\n",
       "        vertical-align: middle;\n",
       "    }\n",
       "\n",
       "    .dataframe tbody tr th {\n",
       "        vertical-align: top;\n",
       "    }\n",
       "\n",
       "    .dataframe thead th {\n",
       "        text-align: right;\n",
       "    }\n",
       "</style>\n",
       "<table border=\"1\" class=\"dataframe\">\n",
       "  <thead>\n",
       "    <tr style=\"text-align: right;\">\n",
       "      <th></th>\n",
       "      <th>cum.Ret</th>\n",
       "      <th>ann.Ret</th>\n",
       "      <th>ann.Std</th>\n",
       "      <th>R/R</th>\n",
       "      <th>Win_R</th>\n",
       "      <th>ann.TurnOver</th>\n",
       "      <th>Max_DD</th>\n",
       "      <th>Calmar Ratio</th>\n",
       "    </tr>\n",
       "  </thead>\n",
       "  <tbody>\n",
       "    <tr>\n",
       "      <th>#1</th>\n",
       "      <td>-0.291576</td>\n",
       "      <td>-0.020937</td>\n",
       "      <td>0.209285</td>\n",
       "      <td>-0.100043</td>\n",
       "      <td>0.521305</td>\n",
       "      <td>18.113213</td>\n",
       "      <td>-0.787301</td>\n",
       "      <td>-0.026594</td>\n",
       "    </tr>\n",
       "    <tr>\n",
       "      <th>#2</th>\n",
       "      <td>0.657707</td>\n",
       "      <td>0.047229</td>\n",
       "      <td>0.204511</td>\n",
       "      <td>0.230934</td>\n",
       "      <td>0.528063</td>\n",
       "      <td>32.881597</td>\n",
       "      <td>-0.561574</td>\n",
       "      <td>0.084100</td>\n",
       "    </tr>\n",
       "    <tr>\n",
       "      <th>#3</th>\n",
       "      <td>1.140066</td>\n",
       "      <td>0.081866</td>\n",
       "      <td>0.200629</td>\n",
       "      <td>0.408047</td>\n",
       "      <td>0.538349</td>\n",
       "      <td>18.619088</td>\n",
       "      <td>-0.479548</td>\n",
       "      <td>0.170715</td>\n",
       "    </tr>\n",
       "    <tr>\n",
       "      <th>#3-#1</th>\n",
       "      <td>1.431642</td>\n",
       "      <td>0.102803</td>\n",
       "      <td>0.113726</td>\n",
       "      <td>0.903956</td>\n",
       "      <td>0.522774</td>\n",
       "      <td>36.732300</td>\n",
       "      <td>-0.156895</td>\n",
       "      <td>0.655235</td>\n",
       "    </tr>\n",
       "    <tr>\n",
       "      <th>#3-#1(cost)</th>\n",
       "      <td>1.175875</td>\n",
       "      <td>0.084437</td>\n",
       "      <td>0.113745</td>\n",
       "      <td>0.742339</td>\n",
       "      <td>0.517778</td>\n",
       "      <td>36.732300</td>\n",
       "      <td>-0.165325</td>\n",
       "      <td>0.510736</td>\n",
       "    </tr>\n",
       "  </tbody>\n",
       "</table>\n",
       "</div>"
      ],
      "text/plain": [
       "              cum.Ret   ann.Ret   ann.Std       R/R     Win_R  ann.TurnOver  \\\n",
       "#1          -0.291576 -0.020937  0.209285 -0.100043  0.521305     18.113213   \n",
       "#2           0.657707  0.047229  0.204511  0.230934  0.528063     32.881597   \n",
       "#3           1.140066  0.081866  0.200629  0.408047  0.538349     18.619088   \n",
       "#3-#1        1.431642  0.102803  0.113726  0.903956  0.522774     36.732300   \n",
       "#3-#1(cost)  1.175875  0.084437  0.113745  0.742339  0.517778     36.732300   \n",
       "\n",
       "               Max_DD  Calmar Ratio  \n",
       "#1          -0.787301     -0.026594  \n",
       "#2          -0.561574      0.084100  \n",
       "#3          -0.479548      0.170715  \n",
       "#3-#1       -0.156895      0.655235  \n",
       "#3-#1(cost) -0.165325      0.510736  "
      ]
     },
     "metadata": {},
     "output_type": "display_data"
    }
   ],
   "source": [
    "nq = 3\n",
    "exe_cost = 0.0005\n",
    "\n",
    "dfqret_elec, stats, dfsigqt = ade.q_backtest(\n",
    "    signal_elec_id,\n",
    "    bcktest_return_id,\n",
    "    nq=nq,\n",
    "    exe_cost=exe_cost,\n",
    "    plot=True,\n",
    "    stats=True\n",
    ")"
   ]
  },
  {
   "cell_type": "code",
   "execution_count": null,
   "id": "f391f91a-ad3a-48f6-b648-da8f847ff7d7",
   "metadata": {},
   "outputs": [],
   "source": []
  },
  {
   "cell_type": "markdown",
   "id": "200e6438-a9ca-446e-9b2d-75854636bef2",
   "metadata": {},
   "source": [
    "## ポートフォリオ"
   ]
  },
  {
   "cell_type": "code",
   "execution_count": 20,
   "id": "115a27a3-d5e2-4e89-a505-8638aaa37e37",
   "metadata": {},
   "outputs": [],
   "source": [
    "elec_long_short = dfqret_elec['#3-#1'].rename('elec')\n",
    "csmr_long_short = dfqret_goods['#3-#1'].rename('csmr')\n",
    "retailer_long_short = dfqret_retailer['#3-#1'].rename('retailer')\n",
    "\n",
    "elec_long_short = elec_long_short.resample('M').sum()\n",
    "csmr_long_short = csmr_long_short.resample('M').sum()\n",
    "retailer_long_short = retailer_long_short.resample('M').sum()\n",
    "\n",
    "min_date = retailer_long_short.index.min()\n",
    "max_date = elec_long_short.index.max()\n",
    "\n",
    "portfolio = pd.concat([elec_long_short, csmr_long_short, retailer_long_short],axis=1)\n",
    "portfolio = portfolio[portfolio.index>min_date]\n",
    "portfolio = portfolio[portfolio.index<max_date]\n",
    "\n",
    "portfolio['portfolio'] = portfolio.mean(axis=1)"
   ]
  },
  {
   "cell_type": "code",
   "execution_count": 21,
   "id": "15ec3dcd-9a86-4481-9dbb-20d6053a9c39",
   "metadata": {},
   "outputs": [
    {
     "data": {
      "text/html": [
       "<iframe\n",
       "    scrolling=\"no\"\n",
       "    width=\"100%\"\n",
       "    height=\"545px\"\n",
       "    src=\"iframe_figures/figure_21.html\"\n",
       "    frameborder=\"0\"\n",
       "    allowfullscreen\n",
       "></iframe>\n"
      ]
     },
     "metadata": {},
     "output_type": "display_data"
    },
    {
     "data": {
      "text/html": [
       "<div>\n",
       "<style scoped>\n",
       "    .dataframe tbody tr th:only-of-type {\n",
       "        vertical-align: middle;\n",
       "    }\n",
       "\n",
       "    .dataframe tbody tr th {\n",
       "        vertical-align: top;\n",
       "    }\n",
       "\n",
       "    .dataframe thead th {\n",
       "        text-align: right;\n",
       "    }\n",
       "</style>\n",
       "<table border=\"1\" class=\"dataframe\">\n",
       "  <thead>\n",
       "    <tr style=\"text-align: right;\">\n",
       "      <th></th>\n",
       "      <th>cum.Ret</th>\n",
       "      <th>ann.Ret</th>\n",
       "      <th>ann.Std</th>\n",
       "      <th>R/R</th>\n",
       "      <th>Win_R</th>\n",
       "      <th>Max_DD</th>\n",
       "      <th>Calmar Ratio</th>\n",
       "    </tr>\n",
       "  </thead>\n",
       "  <tbody>\n",
       "    <tr>\n",
       "      <th>elec</th>\n",
       "      <td>1.467871</td>\n",
       "      <td>0.117314</td>\n",
       "      <td>0.106480</td>\n",
       "      <td>1.101748</td>\n",
       "      <td>0.655629</td>\n",
       "      <td>-0.143463</td>\n",
       "      <td>0.817730</td>\n",
       "    </tr>\n",
       "    <tr>\n",
       "      <th>csmr</th>\n",
       "      <td>0.751345</td>\n",
       "      <td>0.060048</td>\n",
       "      <td>0.045448</td>\n",
       "      <td>1.321241</td>\n",
       "      <td>0.655629</td>\n",
       "      <td>-0.057217</td>\n",
       "      <td>1.049477</td>\n",
       "    </tr>\n",
       "    <tr>\n",
       "      <th>retailer</th>\n",
       "      <td>1.124635</td>\n",
       "      <td>0.089882</td>\n",
       "      <td>0.082794</td>\n",
       "      <td>1.085612</td>\n",
       "      <td>0.629139</td>\n",
       "      <td>-0.151485</td>\n",
       "      <td>0.593342</td>\n",
       "    </tr>\n",
       "    <tr>\n",
       "      <th>portfolio</th>\n",
       "      <td>1.114617</td>\n",
       "      <td>0.089082</td>\n",
       "      <td>0.047335</td>\n",
       "      <td>1.881956</td>\n",
       "      <td>0.748344</td>\n",
       "      <td>-0.052906</td>\n",
       "      <td>1.683778</td>\n",
       "    </tr>\n",
       "  </tbody>\n",
       "</table>\n",
       "</div>"
      ],
      "text/plain": [
       "            cum.Ret   ann.Ret   ann.Std       R/R     Win_R    Max_DD  \\\n",
       "elec       1.467871  0.117314  0.106480  1.101748  0.655629 -0.143463   \n",
       "csmr       0.751345  0.060048  0.045448  1.321241  0.655629 -0.057217   \n",
       "retailer   1.124635  0.089882  0.082794  1.085612  0.629139 -0.151485   \n",
       "portfolio  1.114617  0.089082  0.047335  1.881956  0.748344 -0.052906   \n",
       "\n",
       "           Calmar Ratio  \n",
       "elec           0.817730  \n",
       "csmr           1.049477  \n",
       "retailer       0.593342  \n",
       "portfolio      1.683778  "
      ]
     },
     "execution_count": 21,
     "metadata": {},
     "output_type": "execute_result"
    }
   ],
   "source": [
    "cumplot_return(portfolio, em_pattern='portfolio')\n",
    "inv_return_stats(portfolio)"
   ]
  }
 ],
 "metadata": {
  "kernelspec": {
   "display_name": "visualize_py38",
   "language": "python",
   "name": "visualize_py38"
  },
  "language_info": {
   "codemirror_mode": {
    "name": "ipython",
    "version": 3
   },
   "file_extension": ".py",
   "mimetype": "text/x-python",
   "name": "python",
   "nbconvert_exporter": "python",
   "pygments_lexer": "ipython3",
   "version": "3.8.18"
  }
 },
 "nbformat": 4,
 "nbformat_minor": 5
}
