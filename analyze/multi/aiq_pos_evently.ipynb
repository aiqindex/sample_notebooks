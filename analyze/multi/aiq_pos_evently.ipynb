{
 "cells": [
  {
   "attachments": {
    "b8f1ff06-cee2-4b9c-ba2d-e754a1b2263d.png": {
     "image/png": "[encoded data removed]"
    }
   },
   "cell_type": "markdown",
   "id": "3b6cfe7a-802c-49c9-8828-3517b3ff7f37",
   "metadata": {},
   "source": [
    "![スクリーンショット 2024-03-26 11.25.41.png](attachment:b8f1ff06-cee2-4b9c-ba2d-e754a1b2263d.png)\n",
    "\n",
    "[disclaimer](../../disclaimer.txt/)"
   ]
  },
  {
   "cell_type": "markdown",
   "id": "83a8bc10-7e45-4f56-80fa-04ff0d705a45",
   "metadata": {},
   "source": [
    "# aiQ Pos Consumer Goods/Elec/Retailer Evenly"
   ]
  },
  {
   "cell_type": "markdown",
   "id": "0dbdd732-cf23-43a8-97f0-101ab30213ab",
   "metadata": {},
   "source": [
    "本サンプルノートブックでは以下の3つのオルタナティブデータのファクターリターンをそれぞれ作成し、1/3ずつ資産配分をした合成ポートフォリオを考えます。\n",
    "それぞれのファクターリターンの相関が低いことと、合成ポートフォリオの高いパフォーマンスが確認できます。\n",
    "\n",
    "\n",
    "- aiQ POS Csmr Goods\r\n",
    "- POS Elec Goods\r\n",
    "- POS Retaiきます。"
   ]
  },
  {
   "cell_type": "code",
   "execution_count": 1,
   "id": "1d994779-704f-4692-9505-63791b740433",
   "metadata": {
    "execution": {
     "iopub.execute_input": "2024-07-16T06:18:18.105057Z",
     "iopub.status.busy": "2024-07-16T06:18:18.104773Z",
     "iopub.status.idle": "2024-07-16T06:18:18.144363Z",
     "shell.execute_reply": "2024-07-16T06:18:18.143334Z",
     "shell.execute_reply.started": "2024-07-16T06:18:18.105024Z"
    }
   },
   "outputs": [],
   "source": [
    "# 自作モジュールを自動更新を行うためのコマンド\n",
    "%load_ext autoreload\n",
    "%autoreload 2"
   ]
  },
  {
   "cell_type": "markdown",
   "id": "fa0b24e3-eed7-4334-a00d-7a0b11eac522",
   "metadata": {
    "execution": {
     "iopub.execute_input": "2024-07-10T00:17:24.914727Z",
     "iopub.status.busy": "2024-07-10T00:17:24.914014Z",
     "iopub.status.idle": "2024-07-10T00:17:24.918985Z",
     "shell.execute_reply": "2024-07-10T00:17:24.918044Z",
     "shell.execute_reply.started": "2024-07-10T00:17:24.914693Z"
    }
   },
   "source": [
    "## Step1: Import Library"
   ]
  },
  {
   "cell_type": "code",
   "execution_count": 2,
   "id": "b0635187-fbee-432a-849e-b8768cd73d7e",
   "metadata": {
    "execution": {
     "iopub.execute_input": "2024-07-16T06:18:18.147208Z",
     "iopub.status.busy": "2024-07-16T06:18:18.146674Z",
     "iopub.status.idle": "2024-07-16T06:18:28.897033Z",
     "shell.execute_reply": "2024-07-16T06:18:28.895862Z",
     "shell.execute_reply.started": "2024-07-16T06:18:18.147176Z"
    }
   },
   "outputs": [],
   "source": [
    "import os\n",
    "import sys\n",
    "import numpy as np\n",
    "import pandas as pd\n",
    "import plotly.io\n",
    "from pathlib import Path\n",
    "from aiq_strategy_robot.data.data_accessor import DAL\n",
    "\n",
    "for_html = False\n",
    "if for_html:\n",
    "    plotly.offline.init_notebook_mode()\n",
    "else:\n",
    "    plotly.io.renderers.default = 'iframe'\n",
    "\n",
    "# \n",
    "if '../..' not in sys.path:\n",
    "    sys.path.append('../..')\n",
    "\n",
    "from utils.shortcut import goods_dataset as sc_goods\n",
    "from utils.shortcut import elec_dataset as sc_elec\n",
    "from utils.shortcut import aiq_pos_retailer as sc_retailer\n",
    "from utils.shortcut.path import DEFAULT_DIR"
   ]
  },
  {
   "cell_type": "markdown",
   "id": "49464d74-b58b-4ad3-9e4a-a84af90e0aae",
   "metadata": {
    "execution": {
     "iopub.execute_input": "2024-07-10T00:24:08.497917Z",
     "iopub.status.busy": "2024-07-10T00:24:08.497371Z",
     "iopub.status.idle": "2024-07-10T00:24:08.504067Z",
     "shell.execute_reply": "2024-07-10T00:24:08.502579Z",
     "shell.execute_reply.started": "2024-07-10T00:24:08.497885Z"
    }
   },
   "source": [
    "- standard data handler のインスタンスを作成する\n",
    "- data handler はデータ取得やデータ加工のライブラリを保持するオブジェクト"
   ]
  },
  {
   "cell_type": "code",
   "execution_count": 3,
   "id": "5bf3023e-350d-45cc-8adc-0f74ea88a0e5",
   "metadata": {
    "execution": {
     "iopub.execute_input": "2024-07-16T06:18:28.898671Z",
     "iopub.status.busy": "2024-07-16T06:18:28.898361Z",
     "iopub.status.idle": "2024-07-16T06:18:28.943644Z",
     "shell.execute_reply": "2024-07-16T06:18:28.942613Z",
     "shell.execute_reply.started": "2024-07-16T06:18:28.898640Z"
    }
   },
   "outputs": [],
   "source": [
    "verbose = False\n",
    "sdh = DAL()\n",
    "sdh.transform.verbose = verbose"
   ]
  },
  {
   "cell_type": "markdown",
   "id": "dbeadbc3-ee19-49bc-bb2b-e52a72858d12",
   "metadata": {},
   "source": [
    "## Step2: Load Data to `sdh`\n",
    "ここではデータ分析のデモが主眼であるため、個別に用意しておいた簡易ローダーを経由してデータを読み込むこととする"
   ]
  },
  {
   "cell_type": "code",
   "execution_count": 4,
   "id": "f1b6a291-39c0-4c43-98e7-9d917b8652bd",
   "metadata": {
    "execution": {
     "iopub.execute_input": "2024-07-16T06:18:28.945443Z",
     "iopub.status.busy": "2024-07-16T06:18:28.944915Z",
     "iopub.status.idle": "2024-07-16T06:18:48.633929Z",
     "shell.execute_reply": "2024-07-16T06:18:48.633018Z",
     "shell.execute_reply.started": "2024-07-16T06:18:28.945412Z"
    }
   },
   "outputs": [
    {
     "data": {
      "text/html": [
       "<div>\n",
       "<style scoped>\n",
       "    .dataframe tbody tr th:only-of-type {\n",
       "        vertical-align: middle;\n",
       "    }\n",
       "\n",
       "    .dataframe tbody tr th {\n",
       "        vertical-align: top;\n",
       "    }\n",
       "\n",
       "    .dataframe thead th {\n",
       "        text-align: right;\n",
       "    }\n",
       "</style>\n",
       "<table border=\"1\" class=\"dataframe\">\n",
       "  <thead>\n",
       "    <tr style=\"text-align: right;\">\n",
       "      <th></th>\n",
       "      <th>category</th>\n",
       "      <th>data_source</th>\n",
       "      <th>source</th>\n",
       "      <th>table</th>\n",
       "      <th>alias</th>\n",
       "      <th>tickers</th>\n",
       "      <th>index</th>\n",
       "      <th>start_datetime</th>\n",
       "      <th>end_datetime</th>\n",
       "    </tr>\n",
       "    <tr>\n",
       "      <th>data_id</th>\n",
       "      <th></th>\n",
       "      <th></th>\n",
       "      <th></th>\n",
       "      <th></th>\n",
       "      <th></th>\n",
       "      <th></th>\n",
       "      <th></th>\n",
       "      <th></th>\n",
       "      <th></th>\n",
       "    </tr>\n",
       "  </thead>\n",
       "  <tbody>\n",
       "    <tr>\n",
       "      <th>1</th>\n",
       "      <td>RawData</td>\n",
       "      <td>aiq_pos_retailer</td>\n",
       "      <td>Unknown</td>\n",
       "      <td>Unknown</td>\n",
       "      <td>Unknown</td>\n",
       "      <td>[1925-JP, 2212-JP, 2267-JP, 2651-JP, 2653-JP, ...</td>\n",
       "      <td>[TICKER, DATETIME]</td>\n",
       "      <td>2010-04-30 00:00:00</td>\n",
       "      <td>2024-06-30 00:00:00</td>\n",
       "    </tr>\n",
       "    <tr>\n",
       "      <th>2</th>\n",
       "      <td>RawData</td>\n",
       "      <td>mkt</td>\n",
       "      <td>Unknown</td>\n",
       "      <td>Unknown</td>\n",
       "      <td>Unknown2</td>\n",
       "      <td>[1925 JP, 2212 JP, 2267 JP, 2651 JP, 2653 JP, ...</td>\n",
       "      <td>[TICKER, DATETIME]</td>\n",
       "      <td>2007-01-04 00:00:00</td>\n",
       "      <td>2024-06-19 00:00:00</td>\n",
       "    </tr>\n",
       "    <tr>\n",
       "      <th>3</th>\n",
       "      <td>RawData</td>\n",
       "      <td>finnhub</td>\n",
       "      <td>fundamental</td>\n",
       "      <td>Unknown</td>\n",
       "      <td>Unknown3</td>\n",
       "      <td>[1925 JP, 2212 JP, 2267 JP, 2651 JP, 2653 JP, ...</td>\n",
       "      <td>[TICKER, DATETIME]</td>\n",
       "      <td>2014-06-30 00:00:00</td>\n",
       "      <td>2024-02-29 00:00:00</td>\n",
       "    </tr>\n",
       "    <tr>\n",
       "      <th>4</th>\n",
       "      <td>RawData</td>\n",
       "      <td>external</td>\n",
       "      <td>sample</td>\n",
       "      <td>Unknown</td>\n",
       "      <td>Unknown4</td>\n",
       "      <td>[1301-JP, 1332-JP, 1333-JP, 1334-JP, 1352-JP, ...</td>\n",
       "      <td>[TICKER, DATETIME]</td>\n",
       "      <td>2008-03-16 00:00:00</td>\n",
       "      <td>2024-06-30 00:00:00</td>\n",
       "    </tr>\n",
       "    <tr>\n",
       "      <th>5</th>\n",
       "      <td>RawData</td>\n",
       "      <td>External</td>\n",
       "      <td>Unknown</td>\n",
       "      <td>Unknown</td>\n",
       "      <td>Unknown5</td>\n",
       "      <td>[1956-JP, 2180-JP, 2321-JP, 2323-JP, 2326-JP, ...</td>\n",
       "      <td>[TICKER, DATETIME]</td>\n",
       "      <td>2009-01-01 00:00:00</td>\n",
       "      <td>2024-06-30 00:00:00</td>\n",
       "    </tr>\n",
       "    <tr>\n",
       "      <th>6</th>\n",
       "      <td>RawData</td>\n",
       "      <td>External</td>\n",
       "      <td>Unknown</td>\n",
       "      <td>Unknown</td>\n",
       "      <td>Unknown6</td>\n",
       "      <td>[1301-JP, 1332-JP, 1333-JP, 1379-JP, 1380-JP, ...</td>\n",
       "      <td>[TICKER, DATETIME]</td>\n",
       "      <td>2007-01-04 00:00:00</td>\n",
       "      <td>2024-07-03 00:00:00</td>\n",
       "    </tr>\n",
       "  </tbody>\n",
       "</table>\n",
       "</div>"
      ],
      "text/plain": [
       "        category       data_source       source    table     alias  \\\n",
       "data_id                                                              \n",
       "1        RawData  aiq_pos_retailer      Unknown  Unknown   Unknown   \n",
       "2        RawData               mkt      Unknown  Unknown  Unknown2   \n",
       "3        RawData           finnhub  fundamental  Unknown  Unknown3   \n",
       "4        RawData          external       sample  Unknown  Unknown4   \n",
       "5        RawData          External      Unknown  Unknown  Unknown5   \n",
       "6        RawData          External      Unknown  Unknown  Unknown6   \n",
       "\n",
       "                                                   tickers  \\\n",
       "data_id                                                      \n",
       "1        [1925-JP, 2212-JP, 2267-JP, 2651-JP, 2653-JP, ...   \n",
       "2        [1925 JP, 2212 JP, 2267 JP, 2651 JP, 2653 JP, ...   \n",
       "3        [1925 JP, 2212 JP, 2267 JP, 2651 JP, 2653 JP, ...   \n",
       "4        [1301-JP, 1332-JP, 1333-JP, 1334-JP, 1352-JP, ...   \n",
       "5        [1956-JP, 2180-JP, 2321-JP, 2323-JP, 2326-JP, ...   \n",
       "6        [1301-JP, 1332-JP, 1333-JP, 1379-JP, 1380-JP, ...   \n",
       "\n",
       "                      index       start_datetime         end_datetime  \n",
       "data_id                                                                \n",
       "1        [TICKER, DATETIME]  2010-04-30 00:00:00  2024-06-30 00:00:00  \n",
       "2        [TICKER, DATETIME]  2007-01-04 00:00:00  2024-06-19 00:00:00  \n",
       "3        [TICKER, DATETIME]  2014-06-30 00:00:00  2024-02-29 00:00:00  \n",
       "4        [TICKER, DATETIME]  2008-03-16 00:00:00  2024-06-30 00:00:00  \n",
       "5        [TICKER, DATETIME]  2009-01-01 00:00:00  2024-06-30 00:00:00  \n",
       "6        [TICKER, DATETIME]  2007-01-04 00:00:00  2024-07-03 00:00:00  "
      ]
     },
     "metadata": {},
     "output_type": "display_data"
    }
   ],
   "source": [
    "f_ticker_cvt = lambda s: f\"{s[:4]}-JP\"\n",
    "sc_retailer.load_sample_dataset(sdh,  f_ticker_cvt=f_ticker_cvt)  # for retailer\n",
    "dat_id_retail = 1\n",
    "data_id_goods = sc_goods.register_alt_data(sdh, f_ticker_cvt=f_ticker_cvt)\n",
    "data_id_elec = sc_elec.register_elec_data(sdh)\n",
    "data_id_mkt = sc_elec.load_finnhub_equity_data_fixed_ticker(sdh, data_dir=DEFAULT_DIR)\n",
    "display(sdh.extract_definition)"
   ]
  },
  {
   "cell_type": "markdown",
   "id": "03c18a70-0eaa-4e24-b9a0-cfa1a5347ee2",
   "metadata": {},
   "source": [
    "### データが `sdh` に登録できたかを確認する"
   ]
  },
  {
   "cell_type": "code",
   "execution_count": 5,
   "id": "9ede639f-b2fc-4da5-adee-691599faf4e5",
   "metadata": {
    "execution": {
     "iopub.execute_input": "2024-07-16T06:18:48.635291Z",
     "iopub.status.busy": "2024-07-16T06:18:48.635002Z",
     "iopub.status.idle": "2024-07-16T06:18:48.691815Z",
     "shell.execute_reply": "2024-07-16T06:18:48.690889Z",
     "shell.execute_reply.started": "2024-07-16T06:18:48.635261Z"
    }
   },
   "outputs": [],
   "source": [
    "sdh.set_alias(\n",
    "    {dat_id_retail: 'retail', data_id_goods: 'goods', \n",
    "     data_id_elec: 'elec', data_id_mkt: 'mkt'})"
   ]
  },
  {
   "cell_type": "markdown",
   "id": "8344213a-2c42-4637-b3c3-a4e8cb625509",
   "metadata": {},
   "source": [
    "## Step3: 個々のデータセットのファクタリターンを確認する\n",
    "組み合わせる前に、個々のファクターリターンのパフォーマンスを確認"
   ]
  },
  {
   "cell_type": "code",
   "execution_count": 6,
   "id": "f4315195-285d-4e48-9bd2-6201ff3c18aa",
   "metadata": {
    "execution": {
     "iopub.execute_input": "2024-07-16T06:18:48.693748Z",
     "iopub.status.busy": "2024-07-16T06:18:48.693017Z",
     "iopub.status.idle": "2024-07-16T06:18:52.856514Z",
     "shell.execute_reply": "2024-07-16T06:18:52.855537Z",
     "shell.execute_reply.started": "2024-07-16T06:18:48.693715Z"
    }
   },
   "outputs": [],
   "source": [
    "# Step3 で使うオブジェクトをロードしておく\n",
    "from aiq_strategy_robot.evaluator import AltDataEvaluator, inv_return_stats, cumplot_return"
   ]
  },
  {
   "cell_type": "code",
   "execution_count": 7,
   "id": "f9b5106b-abe2-4cd2-9258-f87257cf9292",
   "metadata": {
    "execution": {
     "iopub.execute_input": "2024-07-16T06:18:52.860654Z",
     "iopub.status.busy": "2024-07-16T06:18:52.859991Z",
     "iopub.status.idle": "2024-07-16T06:18:52.915039Z",
     "shell.execute_reply": "2024-07-16T06:18:52.914050Z",
     "shell.execute_reply.started": "2024-07-16T06:18:52.860622Z"
    }
   },
   "outputs": [],
   "source": [
    "# データ評価に使うメインクラスのインスタンスを作成\n",
    "ade = AltDataEvaluator(sdh)"
   ]
  },
  {
   "cell_type": "code",
   "execution_count": 8,
   "id": "312a6cc7-a269-4617-9661-c0b78fed6f7d",
   "metadata": {
    "execution": {
     "iopub.execute_input": "2024-07-16T06:18:52.916929Z",
     "iopub.status.busy": "2024-07-16T06:18:52.916227Z",
     "iopub.status.idle": "2024-07-16T06:18:53.328575Z",
     "shell.execute_reply": "2024-07-16T06:18:53.327644Z",
     "shell.execute_reply.started": "2024-07-16T06:18:52.916895Z"
    }
   },
   "outputs": [],
   "source": [
    "# 市場データを生値から変化率に変換しておく\n",
    "bcktest_return_id = sdh.transform.log_diff(1, data_id=data_id_mkt, fields='close').variable_ids[0]"
   ]
  },
  {
   "cell_type": "markdown",
   "id": "9b16dcea-6273-43dc-8e84-55ba6af0a502",
   "metadata": {},
   "source": [
    "### Step3.1: POS CSMR Goods\n",
    "- weekly のリバランス\n",
    "- データは最短でも週末から4営業日のラグ"
   ]
  },
  {
   "cell_type": "code",
   "execution_count": 9,
   "id": "399cea33-6642-4b26-bc71-d30a0102c784",
   "metadata": {
    "execution": {
     "iopub.execute_input": "2024-07-16T06:18:53.329944Z",
     "iopub.status.busy": "2024-07-16T06:18:53.329661Z",
     "iopub.status.idle": "2024-07-16T06:18:53.383003Z",
     "shell.execute_reply": "2024-07-16T06:18:53.382070Z",
     "shell.execute_reply.started": "2024-07-16T06:18:53.329915Z"
    }
   },
   "outputs": [],
   "source": [
    "n_shift = 6    # データ発行のタイミングラグを考慮\n",
    "n_rolling = 12 # 3ヶ月の移動平均を計算\n",
    "n_diff = 52    # 前年同週比を計算"
   ]
  },
  {
   "cell_type": "code",
   "execution_count": 10,
   "id": "36f69e7d-07d9-4f1d-86e7-c7572f1eb711",
   "metadata": {
    "execution": {
     "iopub.execute_input": "2024-07-16T06:18:53.384856Z",
     "iopub.status.busy": "2024-07-16T06:18:53.384125Z",
     "iopub.status.idle": "2024-07-16T06:18:53.586292Z",
     "shell.execute_reply": "2024-07-16T06:18:53.585329Z",
     "shell.execute_reply.started": "2024-07-16T06:18:53.384824Z"
    }
   },
   "outputs": [],
   "source": [
    "signal_goods_id = (\n",
    "    sdh.transform\n",
    "    .multiply('pos_sales', 'unit_price', data_id=data_id_goods)\n",
    "    .resample('W', 'last')\n",
    "    .sma(n_rolling)\n",
    "    .log_diff(n_diff)\n",
    "    .resample('D', 'last')\n",
    "    .fillna('ffill', limit=7)\n",
    "    .reindex(label=bcktest_return_id)\n",
    "    .shift(n_shift)\n",
    "    .variable_ids[0]\n",
    ")"
   ]
  },
  {
   "cell_type": "code",
   "execution_count": 11,
   "id": "aad24441-a14c-4517-bcbf-3fb1de57ea25",
   "metadata": {
    "execution": {
     "iopub.execute_input": "2024-07-16T06:18:53.588070Z",
     "iopub.status.busy": "2024-07-16T06:18:53.587463Z",
     "iopub.status.idle": "2024-07-16T06:19:26.447873Z",
     "shell.execute_reply": "2024-07-16T06:19:26.446878Z",
     "shell.execute_reply.started": "2024-07-16T06:18:53.588037Z"
    }
   },
   "outputs": [
    {
     "data": {
      "text/html": [
       "<iframe\n",
       "    scrolling=\"no\"\n",
       "    width=\"100%\"\n",
       "    height=\"545px\"\n",
       "    src=\"iframe_figures/figure_11.html\"\n",
       "    frameborder=\"0\"\n",
       "    allowfullscreen\n",
       "></iframe>\n"
      ]
     },
     "metadata": {},
     "output_type": "display_data"
    },
    {
     "data": {
      "text/html": [
       "<div>\n",
       "<style scoped>\n",
       "    .dataframe tbody tr th:only-of-type {\n",
       "        vertical-align: middle;\n",
       "    }\n",
       "\n",
       "    .dataframe tbody tr th {\n",
       "        vertical-align: top;\n",
       "    }\n",
       "\n",
       "    .dataframe thead th {\n",
       "        text-align: right;\n",
       "    }\n",
       "</style>\n",
       "<table border=\"1\" class=\"dataframe\">\n",
       "  <thead>\n",
       "    <tr style=\"text-align: right;\">\n",
       "      <th></th>\n",
       "      <th>cum.Ret</th>\n",
       "      <th>ann.Ret</th>\n",
       "      <th>ann.Std</th>\n",
       "      <th>R/R</th>\n",
       "      <th>Win_R</th>\n",
       "      <th>ann.TurnOver</th>\n",
       "      <th>Max_DD</th>\n",
       "      <th>Calmar Ratio</th>\n",
       "    </tr>\n",
       "  </thead>\n",
       "  <tbody>\n",
       "    <tr>\n",
       "      <th>#1</th>\n",
       "      <td>0.356947</td>\n",
       "      <td>0.023675</td>\n",
       "      <td>0.136318</td>\n",
       "      <td>0.173677</td>\n",
       "      <td>0.538253</td>\n",
       "      <td>8.913233</td>\n",
       "      <td>-0.523942</td>\n",
       "      <td>0.045187</td>\n",
       "    </tr>\n",
       "    <tr>\n",
       "      <th>#2</th>\n",
       "      <td>0.988268</td>\n",
       "      <td>0.065549</td>\n",
       "      <td>0.135363</td>\n",
       "      <td>0.484249</td>\n",
       "      <td>0.545849</td>\n",
       "      <td>12.448515</td>\n",
       "      <td>-0.433866</td>\n",
       "      <td>0.151082</td>\n",
       "    </tr>\n",
       "    <tr>\n",
       "      <th>#3</th>\n",
       "      <td>1.211641</td>\n",
       "      <td>0.080365</td>\n",
       "      <td>0.137630</td>\n",
       "      <td>0.583922</td>\n",
       "      <td>0.557515</td>\n",
       "      <td>8.883923</td>\n",
       "      <td>-0.406785</td>\n",
       "      <td>0.197562</td>\n",
       "    </tr>\n",
       "    <tr>\n",
       "      <th>#3-#1</th>\n",
       "      <td>0.854694</td>\n",
       "      <td>0.056690</td>\n",
       "      <td>0.050049</td>\n",
       "      <td>1.132677</td>\n",
       "      <td>0.534455</td>\n",
       "      <td>17.797156</td>\n",
       "      <td>-0.090179</td>\n",
       "      <td>0.628634</td>\n",
       "    </tr>\n",
       "    <tr>\n",
       "      <th>#3-#1(cost)</th>\n",
       "      <td>0.720533</td>\n",
       "      <td>0.047791</td>\n",
       "      <td>0.050062</td>\n",
       "      <td>0.954637</td>\n",
       "      <td>0.528486</td>\n",
       "      <td>17.797156</td>\n",
       "      <td>-0.097439</td>\n",
       "      <td>0.490473</td>\n",
       "    </tr>\n",
       "  </tbody>\n",
       "</table>\n",
       "</div>"
      ],
      "text/plain": [
       "              cum.Ret   ann.Ret   ann.Std       R/R     Win_R  ann.TurnOver  \\\n",
       "#1           0.356947  0.023675  0.136318  0.173677  0.538253      8.913233   \n",
       "#2           0.988268  0.065549  0.135363  0.484249  0.545849     12.448515   \n",
       "#3           1.211641  0.080365  0.137630  0.583922  0.557515      8.883923   \n",
       "#3-#1        0.854694  0.056690  0.050049  1.132677  0.534455     17.797156   \n",
       "#3-#1(cost)  0.720533  0.047791  0.050062  0.954637  0.528486     17.797156   \n",
       "\n",
       "               Max_DD  Calmar Ratio  \n",
       "#1          -0.523942      0.045187  \n",
       "#2          -0.433866      0.151082  \n",
       "#3          -0.406785      0.197562  \n",
       "#3-#1       -0.090179      0.628634  \n",
       "#3-#1(cost) -0.097439      0.490473  "
      ]
     },
     "metadata": {},
     "output_type": "display_data"
    }
   ],
   "source": [
    "nq = 3\n",
    "exe_cost = 0.0005\n",
    "\n",
    "dfqret_goods, stats, dfsigqt = ade.q_backtest(\n",
    "    signal_goods_id,\n",
    "    bcktest_return_id,\n",
    "    nq=nq,\n",
    "    exe_cost=exe_cost,\n",
    "    plot=True,\n",
    "    stats=True\n",
    ")"
   ]
  },
  {
   "cell_type": "markdown",
   "id": "7128cf00-fabc-4d3e-ae32-e3c392ff7e39",
   "metadata": {},
   "source": [
    "### Step3: POS Retailer\n",
    "- monthly のリバランス\n",
    "- データは最短でも月末から5営業日のラグ"
   ]
  },
  {
   "cell_type": "code",
   "execution_count": 12,
   "id": "98a742a2-e83e-43d2-91e6-927a03cddcc6",
   "metadata": {
    "execution": {
     "iopub.execute_input": "2024-07-16T06:19:26.450072Z",
     "iopub.status.busy": "2024-07-16T06:19:26.449336Z",
     "iopub.status.idle": "2024-07-16T06:19:27.915151Z",
     "shell.execute_reply": "2024-07-16T06:19:27.914233Z",
     "shell.execute_reply.started": "2024-07-16T06:19:26.450039Z"
    }
   },
   "outputs": [],
   "source": [
    "n_shift = 7   # データ発行のタイミングラグを考慮\n",
    "n_rolling = 2 # 2ヶ月の移動平均を計算（データが月次のため）\n",
    "n_diff = 12   # 前年同月比を計算"
   ]
  },
  {
   "cell_type": "code",
   "execution_count": 13,
   "id": "187c9f91-44b5-4e81-9610-4da6f5ab7d3d",
   "metadata": {
    "execution": {
     "iopub.execute_input": "2024-07-16T06:19:27.916955Z",
     "iopub.status.busy": "2024-07-16T06:19:27.916357Z",
     "iopub.status.idle": "2024-07-16T06:19:28.023830Z",
     "shell.execute_reply": "2024-07-16T06:19:28.022802Z",
     "shell.execute_reply.started": "2024-07-16T06:19:27.916923Z"
    }
   },
   "outputs": [],
   "source": [
    "signal_retailer_id = (\n",
    "    sdh.transform\n",
    "    .multiply('pos_sales', 'share', data_id=dat_id_retail)\n",
    "    .resample('M', 'last')\n",
    "    .sma(n_rolling)\n",
    "    .log_diff(n_diff)\n",
    "    .resample('D', 'last')\n",
    "    .fillna('ffill', limit=31)\n",
    "    .reindex(label=bcktest_return_id)\n",
    "    .shift(n_shift)\n",
    "    .variable_ids[0]\n",
    ")"
   ]
  },
  {
   "cell_type": "code",
   "execution_count": 14,
   "id": "0659e4c9-51c0-4393-8f52-fc0c56c9b544",
   "metadata": {
    "execution": {
     "iopub.execute_input": "2024-07-16T06:19:28.025888Z",
     "iopub.status.busy": "2024-07-16T06:19:28.025592Z",
     "iopub.status.idle": "2024-07-16T06:19:49.955880Z",
     "shell.execute_reply": "2024-07-16T06:19:49.954821Z",
     "shell.execute_reply.started": "2024-07-16T06:19:28.025859Z"
    }
   },
   "outputs": [
    {
     "data": {
      "text/html": [
       "<iframe\n",
       "    scrolling=\"no\"\n",
       "    width=\"100%\"\n",
       "    height=\"545px\"\n",
       "    src=\"iframe_figures/figure_14.html\"\n",
       "    frameborder=\"0\"\n",
       "    allowfullscreen\n",
       "></iframe>\n"
      ]
     },
     "metadata": {},
     "output_type": "display_data"
    },
    {
     "data": {
      "text/html": [
       "<div>\n",
       "<style scoped>\n",
       "    .dataframe tbody tr th:only-of-type {\n",
       "        vertical-align: middle;\n",
       "    }\n",
       "\n",
       "    .dataframe tbody tr th {\n",
       "        vertical-align: top;\n",
       "    }\n",
       "\n",
       "    .dataframe thead th {\n",
       "        text-align: right;\n",
       "    }\n",
       "</style>\n",
       "<table border=\"1\" class=\"dataframe\">\n",
       "  <thead>\n",
       "    <tr style=\"text-align: right;\">\n",
       "      <th></th>\n",
       "      <th>cum.Ret</th>\n",
       "      <th>ann.Ret</th>\n",
       "      <th>ann.Std</th>\n",
       "      <th>R/R</th>\n",
       "      <th>Win_R</th>\n",
       "      <th>ann.TurnOver</th>\n",
       "      <th>Max_DD</th>\n",
       "      <th>Calmar Ratio</th>\n",
       "    </tr>\n",
       "  </thead>\n",
       "  <tbody>\n",
       "    <tr>\n",
       "      <th>#1</th>\n",
       "      <td>0.578859</td>\n",
       "      <td>0.044266</td>\n",
       "      <td>0.137865</td>\n",
       "      <td>0.321085</td>\n",
       "      <td>0.528308</td>\n",
       "      <td>10.162120</td>\n",
       "      <td>-0.604328</td>\n",
       "      <td>0.073249</td>\n",
       "    </tr>\n",
       "    <tr>\n",
       "      <th>#2</th>\n",
       "      <td>1.153415</td>\n",
       "      <td>0.088204</td>\n",
       "      <td>0.142697</td>\n",
       "      <td>0.618118</td>\n",
       "      <td>0.540820</td>\n",
       "      <td>11.429750</td>\n",
       "      <td>-0.450649</td>\n",
       "      <td>0.195726</td>\n",
       "    </tr>\n",
       "    <tr>\n",
       "      <th>#3</th>\n",
       "      <td>1.770004</td>\n",
       "      <td>0.135355</td>\n",
       "      <td>0.144877</td>\n",
       "      <td>0.934280</td>\n",
       "      <td>0.548327</td>\n",
       "      <td>8.522967</td>\n",
       "      <td>-0.410303</td>\n",
       "      <td>0.329892</td>\n",
       "    </tr>\n",
       "    <tr>\n",
       "      <th>#3-#1</th>\n",
       "      <td>1.191145</td>\n",
       "      <td>0.091089</td>\n",
       "      <td>0.069840</td>\n",
       "      <td>1.304249</td>\n",
       "      <td>0.537379</td>\n",
       "      <td>18.685087</td>\n",
       "      <td>-0.126101</td>\n",
       "      <td>0.722347</td>\n",
       "    </tr>\n",
       "    <tr>\n",
       "      <th>#3-#1(cost)</th>\n",
       "      <td>1.068976</td>\n",
       "      <td>0.081747</td>\n",
       "      <td>0.069846</td>\n",
       "      <td>1.170389</td>\n",
       "      <td>0.532061</td>\n",
       "      <td>18.685087</td>\n",
       "      <td>-0.129279</td>\n",
       "      <td>0.632325</td>\n",
       "    </tr>\n",
       "  </tbody>\n",
       "</table>\n",
       "</div>"
      ],
      "text/plain": [
       "              cum.Ret   ann.Ret   ann.Std       R/R     Win_R  ann.TurnOver  \\\n",
       "#1           0.578859  0.044266  0.137865  0.321085  0.528308     10.162120   \n",
       "#2           1.153415  0.088204  0.142697  0.618118  0.540820     11.429750   \n",
       "#3           1.770004  0.135355  0.144877  0.934280  0.548327      8.522967   \n",
       "#3-#1        1.191145  0.091089  0.069840  1.304249  0.537379     18.685087   \n",
       "#3-#1(cost)  1.068976  0.081747  0.069846  1.170389  0.532061     18.685087   \n",
       "\n",
       "               Max_DD  Calmar Ratio  \n",
       "#1          -0.604328      0.073249  \n",
       "#2          -0.450649      0.195726  \n",
       "#3          -0.410303      0.329892  \n",
       "#3-#1       -0.126101      0.722347  \n",
       "#3-#1(cost) -0.129279      0.632325  "
      ]
     },
     "metadata": {},
     "output_type": "display_data"
    }
   ],
   "source": [
    "nq = 3\n",
    "exe_cost = 0.0005\n",
    "\n",
    "dfqret_retailer, stats, dfsigqt = ade.q_backtest(\n",
    "    signal_retailer_id,\n",
    "    bcktest_return_id,\n",
    "    nq=nq,\n",
    "    exe_cost=exe_cost,\n",
    "    plot=True,\n",
    "    stats=True\n",
    ")"
   ]
  },
  {
   "cell_type": "markdown",
   "id": "0e3106b4-3f24-4344-bf37-3c1709233e13",
   "metadata": {},
   "source": [
    "### Step3.3: POS Elec Goods\n",
    "- daily のリバランス\n",
    "- データは最短でも3営業日のラグ"
   ]
  },
  {
   "cell_type": "code",
   "execution_count": 15,
   "id": "cc8e76f6-fe96-4cd1-b890-85e36a01bfbd",
   "metadata": {
    "execution": {
     "iopub.execute_input": "2024-07-16T06:19:49.957799Z",
     "iopub.status.busy": "2024-07-16T06:19:49.957505Z",
     "iopub.status.idle": "2024-07-16T06:19:50.280897Z",
     "shell.execute_reply": "2024-07-16T06:19:50.279810Z",
     "shell.execute_reply.started": "2024-07-16T06:19:49.957770Z"
    }
   },
   "outputs": [],
   "source": [
    "n_shift = 8    # データ発行のタイミングラグを考慮\n",
    "n_rolling = 14 # 14日の移動平均を計算（データは日次）\n",
    "n_diff = 252   # 前年同日比を取るため\n",
    "min_period = int(max(np.floor(n_rolling * 5 / 7), 1))"
   ]
  },
  {
   "cell_type": "code",
   "execution_count": 16,
   "id": "e869ceed-8ef4-4652-ba28-a579fbce64a1",
   "metadata": {
    "execution": {
     "iopub.execute_input": "2024-07-16T06:19:50.283114Z",
     "iopub.status.busy": "2024-07-16T06:19:50.282221Z",
     "iopub.status.idle": "2024-07-16T06:19:50.634602Z",
     "shell.execute_reply": "2024-07-16T06:19:50.633675Z",
     "shell.execute_reply.started": "2024-07-16T06:19:50.283081Z"
    }
   },
   "outputs": [],
   "source": [
    "signal_elec_id = (\n",
    "    sdh.transform\n",
    "    .multiply('pos_sales', 'unit_price', data_id=data_id_elec)\n",
    "    .resample('D', 'last')\n",
    "    .sma(n_rolling, min_period)\n",
    "    .reindex(label=bcktest_return_id)\n",
    "    .log_diff(n_diff)\n",
    "    .reindex(label=bcktest_return_id)\n",
    "    .shift(n_shift)\n",
    "    .variable_ids[0]\n",
    ")"
   ]
  },
  {
   "cell_type": "code",
   "execution_count": 17,
   "id": "3bb8a39b-4947-47f5-8d11-8933423533b9",
   "metadata": {
    "execution": {
     "iopub.execute_input": "2024-07-16T06:19:50.636227Z",
     "iopub.status.busy": "2024-07-16T06:19:50.635917Z",
     "iopub.status.idle": "2024-07-16T06:20:19.218415Z",
     "shell.execute_reply": "2024-07-16T06:20:19.217471Z",
     "shell.execute_reply.started": "2024-07-16T06:19:50.636197Z"
    }
   },
   "outputs": [
    {
     "data": {
      "text/html": [
       "<iframe\n",
       "    scrolling=\"no\"\n",
       "    width=\"100%\"\n",
       "    height=\"545px\"\n",
       "    src=\"iframe_figures/figure_17.html\"\n",
       "    frameborder=\"0\"\n",
       "    allowfullscreen\n",
       "></iframe>\n"
      ]
     },
     "metadata": {},
     "output_type": "display_data"
    },
    {
     "data": {
      "text/html": [
       "<div>\n",
       "<style scoped>\n",
       "    .dataframe tbody tr th:only-of-type {\n",
       "        vertical-align: middle;\n",
       "    }\n",
       "\n",
       "    .dataframe tbody tr th {\n",
       "        vertical-align: top;\n",
       "    }\n",
       "\n",
       "    .dataframe thead th {\n",
       "        text-align: right;\n",
       "    }\n",
       "</style>\n",
       "<table border=\"1\" class=\"dataframe\">\n",
       "  <thead>\n",
       "    <tr style=\"text-align: right;\">\n",
       "      <th></th>\n",
       "      <th>cum.Ret</th>\n",
       "      <th>ann.Ret</th>\n",
       "      <th>ann.Std</th>\n",
       "      <th>R/R</th>\n",
       "      <th>Win_R</th>\n",
       "      <th>ann.TurnOver</th>\n",
       "      <th>Max_DD</th>\n",
       "      <th>Calmar Ratio</th>\n",
       "    </tr>\n",
       "  </thead>\n",
       "  <tbody>\n",
       "    <tr>\n",
       "      <th>#1</th>\n",
       "      <td>-0.050503</td>\n",
       "      <td>-0.003503</td>\n",
       "      <td>0.202465</td>\n",
       "      <td>-0.017299</td>\n",
       "      <td>0.528794</td>\n",
       "      <td>22.990667</td>\n",
       "      <td>-0.782143</td>\n",
       "      <td>-0.004478</td>\n",
       "    </tr>\n",
       "    <tr>\n",
       "      <th>#2</th>\n",
       "      <td>0.821450</td>\n",
       "      <td>0.056969</td>\n",
       "      <td>0.203669</td>\n",
       "      <td>0.279715</td>\n",
       "      <td>0.535603</td>\n",
       "      <td>39.019787</td>\n",
       "      <td>-0.574568</td>\n",
       "      <td>0.099151</td>\n",
       "    </tr>\n",
       "    <tr>\n",
       "      <th>#3</th>\n",
       "      <td>1.507694</td>\n",
       "      <td>0.104562</td>\n",
       "      <td>0.202178</td>\n",
       "      <td>0.517177</td>\n",
       "      <td>0.546950</td>\n",
       "      <td>23.822598</td>\n",
       "      <td>-0.486168</td>\n",
       "      <td>0.215073</td>\n",
       "    </tr>\n",
       "    <tr>\n",
       "      <th>#3-#1</th>\n",
       "      <td>1.558197</td>\n",
       "      <td>0.108064</td>\n",
       "      <td>0.117650</td>\n",
       "      <td>0.918521</td>\n",
       "      <td>0.537305</td>\n",
       "      <td>46.813264</td>\n",
       "      <td>-0.213449</td>\n",
       "      <td>0.506278</td>\n",
       "    </tr>\n",
       "    <tr>\n",
       "      <th>#3-#1(cost)</th>\n",
       "      <td>1.220693</td>\n",
       "      <td>0.084658</td>\n",
       "      <td>0.117633</td>\n",
       "      <td>0.719677</td>\n",
       "      <td>0.530780</td>\n",
       "      <td>46.813264</td>\n",
       "      <td>-0.255725</td>\n",
       "      <td>0.331049</td>\n",
       "    </tr>\n",
       "  </tbody>\n",
       "</table>\n",
       "</div>"
      ],
      "text/plain": [
       "              cum.Ret   ann.Ret   ann.Std       R/R     Win_R  ann.TurnOver  \\\n",
       "#1          -0.050503 -0.003503  0.202465 -0.017299  0.528794     22.990667   \n",
       "#2           0.821450  0.056969  0.203669  0.279715  0.535603     39.019787   \n",
       "#3           1.507694  0.104562  0.202178  0.517177  0.546950     23.822598   \n",
       "#3-#1        1.558197  0.108064  0.117650  0.918521  0.537305     46.813264   \n",
       "#3-#1(cost)  1.220693  0.084658  0.117633  0.719677  0.530780     46.813264   \n",
       "\n",
       "               Max_DD  Calmar Ratio  \n",
       "#1          -0.782143     -0.004478  \n",
       "#2          -0.574568      0.099151  \n",
       "#3          -0.486168      0.215073  \n",
       "#3-#1       -0.213449      0.506278  \n",
       "#3-#1(cost) -0.255725      0.331049  "
      ]
     },
     "metadata": {},
     "output_type": "display_data"
    }
   ],
   "source": [
    "nq = 3\n",
    "exe_cost = 0.0005\n",
    "\n",
    "dfqret_elec, stats, dfsigqt = ade.q_backtest(\n",
    "    signal_elec_id,\n",
    "    bcktest_return_id,\n",
    "    nq=nq,\n",
    "    exe_cost=exe_cost,\n",
    "    plot=True,\n",
    "    stats=True\n",
    ")"
   ]
  },
  {
   "cell_type": "markdown",
   "id": "200e6438-a9ca-446e-9b2d-75854636bef2",
   "metadata": {},
   "source": [
    "## Step4: ファクターリターンの合成\n",
    "- Step3.1 - 3.3 で求めたデータセットごとのファクターリターンをもとに等ウェイトのポートフォリオを作成する\n",
    "- R/R の大幅な改善が確認できる (R/R が2.1に改善）\n",
    "- ファクターリターン間の相関も極めて低いことが分かる"
   ]
  },
  {
   "cell_type": "code",
   "execution_count": 18,
   "id": "c6a24010-cb86-4671-a239-44c1eaf1b753",
   "metadata": {
    "execution": {
     "iopub.execute_input": "2024-07-16T06:20:19.220229Z",
     "iopub.status.busy": "2024-07-16T06:20:19.219578Z",
     "iopub.status.idle": "2024-07-16T06:20:19.502067Z",
     "shell.execute_reply": "2024-07-16T06:20:19.501062Z",
     "shell.execute_reply.started": "2024-07-16T06:20:19.220198Z"
    }
   },
   "outputs": [],
   "source": [
    "# 単純に Step3.1 - 3.3 のファクターリターンデータを取得する\n",
    "elec_long_short = dfqret_elec['#3-#1'].rename('elec')\n",
    "csmr_long_short = dfqret_goods['#3-#1'].rename('csmr')\n",
    "retailer_long_short = dfqret_retailer['#3-#1'].rename('retailer')\n",
    "\n",
    "# pos retailer ファクターのリバランスが一番長いため、他のファクターもそれに合わせる\n",
    "elec_long_short = elec_long_short.resample('M').sum()\n",
    "csmr_long_short = csmr_long_short.resample('M').sum()\n",
    "retailer_long_short = retailer_long_short.resample('M').sum()"
   ]
  },
  {
   "cell_type": "code",
   "execution_count": 19,
   "id": "2f11653c-aaa1-4169-a98d-cffb4cc2ed3b",
   "metadata": {
    "execution": {
     "iopub.execute_input": "2024-07-16T06:20:19.504517Z",
     "iopub.status.busy": "2024-07-16T06:20:19.503516Z",
     "iopub.status.idle": "2024-07-16T06:20:19.559755Z",
     "shell.execute_reply": "2024-07-16T06:20:19.558763Z",
     "shell.execute_reply.started": "2024-07-16T06:20:19.504468Z"
    }
   },
   "outputs": [],
   "source": [
    "# 全てのファクターリターンが存在している時期にのみ合成ポートフォリオの期間を限定する\n",
    "min_date = retailer_long_short.index.min()\n",
    "max_date = elec_long_short.index.max()"
   ]
  },
  {
   "cell_type": "code",
   "execution_count": 20,
   "id": "115a27a3-d5e2-4e89-a505-8638aaa37e37",
   "metadata": {
    "execution": {
     "iopub.execute_input": "2024-07-16T06:20:19.561984Z",
     "iopub.status.busy": "2024-07-16T06:20:19.561259Z",
     "iopub.status.idle": "2024-07-16T06:20:19.642789Z",
     "shell.execute_reply": "2024-07-16T06:20:19.641873Z",
     "shell.execute_reply.started": "2024-07-16T06:20:19.561940Z"
    }
   },
   "outputs": [],
   "source": [
    "# 単純に等ウェイトのポートフォリオを求める\n",
    "portfolio = pd.concat([elec_long_short, csmr_long_short, retailer_long_short],axis=1)\n",
    "portfolio = portfolio[portfolio.index>min_date]\n",
    "portfolio = portfolio[portfolio.index<max_date]\n",
    "portfolio['portfolio'] = portfolio.mean(axis=1)"
   ]
  },
  {
   "cell_type": "code",
   "execution_count": 21,
   "id": "15ec3dcd-9a86-4481-9dbb-20d6053a9c39",
   "metadata": {
    "execution": {
     "iopub.execute_input": "2024-07-16T06:20:19.645031Z",
     "iopub.status.busy": "2024-07-16T06:20:19.644584Z",
     "iopub.status.idle": "2024-07-16T06:20:19.984700Z",
     "shell.execute_reply": "2024-07-16T06:20:19.983601Z",
     "shell.execute_reply.started": "2024-07-16T06:20:19.644987Z"
    }
   },
   "outputs": [
    {
     "data": {
      "text/html": [
       "<iframe\n",
       "    scrolling=\"no\"\n",
       "    width=\"100%\"\n",
       "    height=\"545px\"\n",
       "    src=\"iframe_figures/figure_21.html\"\n",
       "    frameborder=\"0\"\n",
       "    allowfullscreen\n",
       "></iframe>\n"
      ]
     },
     "metadata": {},
     "output_type": "display_data"
    },
    {
     "data": {
      "text/html": [
       "<div>\n",
       "<style scoped>\n",
       "    .dataframe tbody tr th:only-of-type {\n",
       "        vertical-align: middle;\n",
       "    }\n",
       "\n",
       "    .dataframe tbody tr th {\n",
       "        vertical-align: top;\n",
       "    }\n",
       "\n",
       "    .dataframe thead th {\n",
       "        text-align: right;\n",
       "    }\n",
       "</style>\n",
       "<table border=\"1\" class=\"dataframe\">\n",
       "  <thead>\n",
       "    <tr style=\"text-align: right;\">\n",
       "      <th></th>\n",
       "      <th>cum.Ret</th>\n",
       "      <th>ann.Ret</th>\n",
       "      <th>ann.Std</th>\n",
       "      <th>R/R</th>\n",
       "      <th>Win_R</th>\n",
       "      <th>Max_DD</th>\n",
       "      <th>Calmar Ratio</th>\n",
       "    </tr>\n",
       "  </thead>\n",
       "  <tbody>\n",
       "    <tr>\n",
       "      <th>elec</th>\n",
       "      <td>1.642942</td>\n",
       "      <td>0.127103</td>\n",
       "      <td>0.105350</td>\n",
       "      <td>1.206488</td>\n",
       "      <td>0.628205</td>\n",
       "      <td>-0.124436</td>\n",
       "      <td>1.021434</td>\n",
       "    </tr>\n",
       "    <tr>\n",
       "      <th>csmr</th>\n",
       "      <td>0.832076</td>\n",
       "      <td>0.064372</td>\n",
       "      <td>0.043189</td>\n",
       "      <td>1.490474</td>\n",
       "      <td>0.705128</td>\n",
       "      <td>-0.071945</td>\n",
       "      <td>0.894740</td>\n",
       "    </tr>\n",
       "    <tr>\n",
       "      <th>retailer</th>\n",
       "      <td>1.183100</td>\n",
       "      <td>0.091529</td>\n",
       "      <td>0.078451</td>\n",
       "      <td>1.166703</td>\n",
       "      <td>0.621795</td>\n",
       "      <td>-0.103809</td>\n",
       "      <td>0.881700</td>\n",
       "    </tr>\n",
       "    <tr>\n",
       "      <th>portfolio</th>\n",
       "      <td>1.219373</td>\n",
       "      <td>0.094335</td>\n",
       "      <td>0.044128</td>\n",
       "      <td>2.137749</td>\n",
       "      <td>0.730769</td>\n",
       "      <td>-0.041446</td>\n",
       "      <td>2.276088</td>\n",
       "    </tr>\n",
       "  </tbody>\n",
       "</table>\n",
       "</div>"
      ],
      "text/plain": [
       "            cum.Ret   ann.Ret   ann.Std       R/R     Win_R    Max_DD  \\\n",
       "elec       1.642942  0.127103  0.105350  1.206488  0.628205 -0.124436   \n",
       "csmr       0.832076  0.064372  0.043189  1.490474  0.705128 -0.071945   \n",
       "retailer   1.183100  0.091529  0.078451  1.166703  0.621795 -0.103809   \n",
       "portfolio  1.219373  0.094335  0.044128  2.137749  0.730769 -0.041446   \n",
       "\n",
       "           Calmar Ratio  \n",
       "elec           1.021434  \n",
       "csmr           0.894740  \n",
       "retailer       0.881700  \n",
       "portfolio      2.276088  "
      ]
     },
     "execution_count": 21,
     "metadata": {},
     "output_type": "execute_result"
    }
   ],
   "source": [
    "# 等ウェイトポートフォリオのパフォーマンスを確認する\n",
    "cumplot_return(portfolio, em_pattern='portfolio')\n",
    "inv_return_stats(portfolio)"
   ]
  },
  {
   "cell_type": "markdown",
   "id": "a9b7a106-e95e-4303-b43e-3a7b1491aed3",
   "metadata": {},
   "source": [
    "### ファクターリターン相関も確認"
   ]
  },
  {
   "cell_type": "code",
   "execution_count": 22,
   "id": "8ceb5298-c77e-4811-8f01-ba988acff042",
   "metadata": {
    "execution": {
     "iopub.execute_input": "2024-07-16T06:20:19.989966Z",
     "iopub.status.busy": "2024-07-16T06:20:19.989438Z",
     "iopub.status.idle": "2024-07-16T06:20:20.051944Z",
     "shell.execute_reply": "2024-07-16T06:20:20.050889Z",
     "shell.execute_reply.started": "2024-07-16T06:20:19.989935Z"
    }
   },
   "outputs": [
    {
     "data": {
      "text/html": [
       "<div>\n",
       "<style scoped>\n",
       "    .dataframe tbody tr th:only-of-type {\n",
       "        vertical-align: middle;\n",
       "    }\n",
       "\n",
       "    .dataframe tbody tr th {\n",
       "        vertical-align: top;\n",
       "    }\n",
       "\n",
       "    .dataframe thead th {\n",
       "        text-align: right;\n",
       "    }\n",
       "</style>\n",
       "<table border=\"1\" class=\"dataframe\">\n",
       "  <thead>\n",
       "    <tr style=\"text-align: right;\">\n",
       "      <th></th>\n",
       "      <th>elec</th>\n",
       "      <th>csmr</th>\n",
       "      <th>retailer</th>\n",
       "      <th>portfolio</th>\n",
       "    </tr>\n",
       "  </thead>\n",
       "  <tbody>\n",
       "    <tr>\n",
       "      <th>elec</th>\n",
       "      <td>1.000000</td>\n",
       "      <td>-0.003918</td>\n",
       "      <td>-0.096559</td>\n",
       "      <td>0.737291</td>\n",
       "    </tr>\n",
       "    <tr>\n",
       "      <th>csmr</th>\n",
       "      <td>-0.003918</td>\n",
       "      <td>1.000000</td>\n",
       "      <td>0.005738</td>\n",
       "      <td>0.326522</td>\n",
       "    </tr>\n",
       "    <tr>\n",
       "      <th>retailer</th>\n",
       "      <td>-0.096559</td>\n",
       "      <td>0.005738</td>\n",
       "      <td>1.000000</td>\n",
       "      <td>0.517630</td>\n",
       "    </tr>\n",
       "    <tr>\n",
       "      <th>portfolio</th>\n",
       "      <td>0.737291</td>\n",
       "      <td>0.326522</td>\n",
       "      <td>0.517630</td>\n",
       "      <td>1.000000</td>\n",
       "    </tr>\n",
       "  </tbody>\n",
       "</table>\n",
       "</div>"
      ],
      "text/plain": [
       "               elec      csmr  retailer  portfolio\n",
       "elec       1.000000 -0.003918 -0.096559   0.737291\n",
       "csmr      -0.003918  1.000000  0.005738   0.326522\n",
       "retailer  -0.096559  0.005738  1.000000   0.517630\n",
       "portfolio  0.737291  0.326522  0.517630   1.000000"
      ]
     },
     "execution_count": 22,
     "metadata": {},
     "output_type": "execute_result"
    }
   ],
   "source": [
    "# ファクターリターン同士の相関も極めて低いことが確認できる\n",
    "portfolio.corr()"
   ]
  }
 ],
 "metadata": {
  "kernelspec": {
   "display_name": "visualize_py38",
   "language": "python",
   "name": "visualize_py38"
  },
  "language_info": {
   "codemirror_mode": {
    "name": "ipython",
    "version": 3
   },
   "file_extension": ".py",
   "mimetype": "text/x-python",
   "name": "python",
   "nbconvert_exporter": "python",
   "pygments_lexer": "ipython3",
   "version": "3.8.18"
  }
 },
 "nbformat": 4,
 "nbformat_minor": 5
}
