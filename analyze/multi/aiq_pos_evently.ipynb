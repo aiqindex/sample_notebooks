{
 "cells": [
  {
   "attachments": {
    "b8f1ff06-cee2-4b9c-ba2d-e754a1b2263d.png": {
     "image/png": "[encoded data removed]"
    }
   },
   "cell_type": "markdown",
   "id": "3b6cfe7a-802c-49c9-8828-3517b3ff7f37",
   "metadata": {},
   "source": [
    "![スクリーンショット 2024-03-26 11.25.41.png](attachment:b8f1ff06-cee2-4b9c-ba2d-e754a1b2263d.png)\n",
    "\n",
    "[disclaimer](../../disclaimer.txt/)"
   ]
  },
  {
   "cell_type": "markdown",
   "id": "83a8bc10-7e45-4f56-80fa-04ff0d705a45",
   "metadata": {},
   "source": [
    "# aiQ Pos Cmsmr Goods/Elec/Retailer Evenly"
   ]
  },
  {
   "cell_type": "markdown",
   "id": "0dbdd732-cf23-43a8-97f0-101ab30213ab",
   "metadata": {},
   "source": [
    "本サンプルノートブックでは以下の3つのオルタナティブデータのファクターリターンをそれぞれ作成し、1/3ずつ資産配分をした合成ポートフォリオを考えます。\r\n",
    "- aiQ POS Csmr Goods\r\n",
    "- POS Elec Goods\r\n",
    "- POS Retailer\r\n",
    "それぞれのファクターリターンの相関が低いことと、合成ポートフォリオの高いパフォーマンスが確認できます。"
   ]
  },
  {
   "cell_type": "code",
   "execution_count": 1,
   "id": "1d994779-704f-4692-9505-63791b740433",
   "metadata": {
    "execution": {
     "iopub.execute_input": "2024-06-25T08:51:56.558199Z",
     "iopub.status.busy": "2024-06-25T08:51:56.557902Z",
     "iopub.status.idle": "2024-06-25T08:51:56.591007Z",
     "shell.execute_reply": "2024-06-25T08:51:56.589996Z",
     "shell.execute_reply.started": "2024-06-25T08:51:56.558168Z"
    }
   },
   "outputs": [],
   "source": [
    "%load_ext autoreload\n",
    "%autoreload 2"
   ]
  },
  {
   "cell_type": "code",
   "execution_count": 2,
   "id": "b0635187-fbee-432a-849e-b8768cd73d7e",
   "metadata": {
    "execution": {
     "iopub.execute_input": "2024-06-25T08:51:56.594305Z",
     "iopub.status.busy": "2024-06-25T08:51:56.593383Z",
     "iopub.status.idle": "2024-06-25T08:51:58.793135Z",
     "shell.execute_reply": "2024-06-25T08:51:58.792016Z",
     "shell.execute_reply.started": "2024-06-25T08:51:56.594272Z"
    }
   },
   "outputs": [],
   "source": [
    "import os\n",
    "import sys\n",
    "import numpy as np\n",
    "import pandas as pd\n",
    "import plotly.io\n",
    "\n",
    "for_html = False\n",
    "if for_html:\n",
    "    plotly.offline.init_notebook_mode()\n",
    "else:\n",
    "    plotly.io.renderers.default = 'iframe'\n",
    "\n",
    "sys.path.append('../..')\n"
   ]
  },
  {
   "cell_type": "code",
   "execution_count": 3,
   "id": "bab66cc3-ec27-4467-9d72-ee7ae2cd5c94",
   "metadata": {
    "execution": {
     "iopub.execute_input": "2024-06-25T08:51:58.795417Z",
     "iopub.status.busy": "2024-06-25T08:51:58.794662Z",
     "iopub.status.idle": "2024-06-25T08:52:08.420982Z",
     "shell.execute_reply": "2024-06-25T08:52:08.419656Z",
     "shell.execute_reply.started": "2024-06-25T08:51:58.795371Z"
    }
   },
   "outputs": [],
   "source": [
    "from utils.shortcut import single_dataset as sc\n",
    "from utils.shortcut import aiq_pos_retailer as scr\n",
    "from utils.shortcut.path import DEFAULT_DIR"
   ]
  },
  {
   "cell_type": "code",
   "execution_count": 4,
   "id": "bbc1699c-945b-4d27-a7a8-82227cc9398b",
   "metadata": {
    "execution": {
     "iopub.execute_input": "2024-06-25T08:52:08.423113Z",
     "iopub.status.busy": "2024-06-25T08:52:08.422749Z",
     "iopub.status.idle": "2024-06-25T08:52:09.162038Z",
     "shell.execute_reply": "2024-06-25T08:52:09.161023Z",
     "shell.execute_reply.started": "2024-06-25T08:52:08.423074Z"
    }
   },
   "outputs": [],
   "source": [
    "verbose = False"
   ]
  },
  {
   "cell_type": "markdown",
   "id": "dbeadbc3-ee19-49bc-bb2b-e52a72858d12",
   "metadata": {},
   "source": [
    "## データロード"
   ]
  },
  {
   "cell_type": "markdown",
   "id": "0ac753fc-445c-4207-aae6-bdce6376fe90",
   "metadata": {},
   "source": [
    "### データハンドラーのインポート"
   ]
  },
  {
   "cell_type": "code",
   "execution_count": 5,
   "id": "f61cf979-2682-426c-8a83-349fcc90a38b",
   "metadata": {
    "execution": {
     "iopub.execute_input": "2024-06-25T08:52:09.163830Z",
     "iopub.status.busy": "2024-06-25T08:52:09.163247Z",
     "iopub.status.idle": "2024-06-25T08:52:09.244510Z",
     "shell.execute_reply": "2024-06-25T08:52:09.243519Z",
     "shell.execute_reply.started": "2024-06-25T08:52:09.163799Z"
    },
    "scrolled": true
   },
   "outputs": [],
   "source": [
    "from aiq_strategy_robot.data.data_accessor import DAL"
   ]
  },
  {
   "cell_type": "code",
   "execution_count": 6,
   "id": "ce3596ac-38e0-446d-85f2-20519144ca03",
   "metadata": {
    "execution": {
     "iopub.execute_input": "2024-06-25T08:52:09.245921Z",
     "iopub.status.busy": "2024-06-25T08:52:09.245630Z",
     "iopub.status.idle": "2024-06-25T08:52:09.321571Z",
     "shell.execute_reply": "2024-06-25T08:52:09.320614Z",
     "shell.execute_reply.started": "2024-06-25T08:52:09.245891Z"
    }
   },
   "outputs": [],
   "source": [
    "sdh = DAL()"
   ]
  },
  {
   "cell_type": "code",
   "execution_count": 7,
   "id": "fd7121ab-2522-4f72-8241-2d4262e193c4",
   "metadata": {
    "execution": {
     "iopub.execute_input": "2024-06-25T08:52:09.325614Z",
     "iopub.status.busy": "2024-06-25T08:52:09.324887Z",
     "iopub.status.idle": "2024-06-25T08:52:09.396684Z",
     "shell.execute_reply": "2024-06-25T08:52:09.395635Z",
     "shell.execute_reply.started": "2024-06-25T08:52:09.325582Z"
    }
   },
   "outputs": [],
   "source": [
    "f_ticker_cvt = lambda s: f\"{s[:4]}-JP\""
   ]
  },
  {
   "cell_type": "code",
   "execution_count": 8,
   "id": "f1b6a291-39c0-4c43-98e7-9d917b8652bd",
   "metadata": {
    "execution": {
     "iopub.execute_input": "2024-06-25T08:52:09.398795Z",
     "iopub.status.busy": "2024-06-25T08:52:09.397936Z",
     "iopub.status.idle": "2024-06-25T08:52:12.505223Z",
     "shell.execute_reply": "2024-06-25T08:52:12.503988Z",
     "shell.execute_reply.started": "2024-06-25T08:52:09.398764Z"
    }
   },
   "outputs": [
    {
     "data": {
      "text/html": [
       "<div>\n",
       "<style scoped>\n",
       "    .dataframe tbody tr th:only-of-type {\n",
       "        vertical-align: middle;\n",
       "    }\n",
       "\n",
       "    .dataframe tbody tr th {\n",
       "        vertical-align: top;\n",
       "    }\n",
       "\n",
       "    .dataframe thead th {\n",
       "        text-align: right;\n",
       "    }\n",
       "</style>\n",
       "<table border=\"1\" class=\"dataframe\">\n",
       "  <thead>\n",
       "    <tr style=\"text-align: right;\">\n",
       "      <th></th>\n",
       "      <th>category</th>\n",
       "      <th>data_source</th>\n",
       "      <th>source</th>\n",
       "      <th>table</th>\n",
       "      <th>alias</th>\n",
       "      <th>tickers</th>\n",
       "      <th>index</th>\n",
       "      <th>start_datetime</th>\n",
       "      <th>end_datetime</th>\n",
       "    </tr>\n",
       "    <tr>\n",
       "      <th>data_id</th>\n",
       "      <th></th>\n",
       "      <th></th>\n",
       "      <th></th>\n",
       "      <th></th>\n",
       "      <th></th>\n",
       "      <th></th>\n",
       "      <th></th>\n",
       "      <th></th>\n",
       "      <th></th>\n",
       "    </tr>\n",
       "  </thead>\n",
       "  <tbody>\n",
       "    <tr>\n",
       "      <th>1</th>\n",
       "      <td>RawData</td>\n",
       "      <td>aiq_pos_retailer</td>\n",
       "      <td>Unknown</td>\n",
       "      <td>Unknown</td>\n",
       "      <td>Unknown</td>\n",
       "      <td>[1925-JP, 2212-JP, 2267-JP, 2651-JP, 2653-JP, ...</td>\n",
       "      <td>[ticker, datetime]</td>\n",
       "      <td>2010-04-30 00:00:00</td>\n",
       "      <td>2024-02-29 00:00:00</td>\n",
       "    </tr>\n",
       "    <tr>\n",
       "      <th>2</th>\n",
       "      <td>RawData</td>\n",
       "      <td>mkt</td>\n",
       "      <td>Unknown</td>\n",
       "      <td>Unknown</td>\n",
       "      <td>Unknown2</td>\n",
       "      <td>[1925 JP, 2212 JP, 2267 JP, 2651 JP, 2653 JP, ...</td>\n",
       "      <td>[ticker, datetime]</td>\n",
       "      <td>2007-01-04 00:00:00</td>\n",
       "      <td>2024-06-19 00:00:00</td>\n",
       "    </tr>\n",
       "    <tr>\n",
       "      <th>3</th>\n",
       "      <td>RawData</td>\n",
       "      <td>finnhub</td>\n",
       "      <td>fundamental</td>\n",
       "      <td>Unknown</td>\n",
       "      <td>Unknown3</td>\n",
       "      <td>[1925 JP, 2212 JP, 2267 JP, 2651 JP, 2653 JP, ...</td>\n",
       "      <td>[ticker, datetime]</td>\n",
       "      <td>2014-06-30 00:00:00</td>\n",
       "      <td>2024-02-29 00:00:00</td>\n",
       "    </tr>\n",
       "  </tbody>\n",
       "</table>\n",
       "</div>"
      ],
      "text/plain": [
       "        category       data_source       source    table     alias  \\\n",
       "data_id                                                              \n",
       "1        RawData  aiq_pos_retailer      Unknown  Unknown   Unknown   \n",
       "2        RawData               mkt      Unknown  Unknown  Unknown2   \n",
       "3        RawData           finnhub  fundamental  Unknown  Unknown3   \n",
       "\n",
       "                                                   tickers  \\\n",
       "data_id                                                      \n",
       "1        [1925-JP, 2212-JP, 2267-JP, 2651-JP, 2653-JP, ...   \n",
       "2        [1925 JP, 2212 JP, 2267 JP, 2651 JP, 2653 JP, ...   \n",
       "3        [1925 JP, 2212 JP, 2267 JP, 2651 JP, 2653 JP, ...   \n",
       "\n",
       "                      index       start_datetime         end_datetime  \n",
       "data_id                                                                \n",
       "1        [ticker, datetime]  2010-04-30 00:00:00  2024-02-29 00:00:00  \n",
       "2        [ticker, datetime]  2007-01-04 00:00:00  2024-06-19 00:00:00  \n",
       "3        [ticker, datetime]  2014-06-30 00:00:00  2024-02-29 00:00:00  "
      ]
     },
     "metadata": {},
     "output_type": "display_data"
    }
   ],
   "source": [
    "scr.load_sample_dataset(sdh,  f_ticker_cvt=f_ticker_cvt)  # retailer\n",
    "display(sdh.extract_definition)"
   ]
  },
  {
   "cell_type": "code",
   "execution_count": 9,
   "id": "2651bedc-4849-4f71-99fd-5db2ab214c94",
   "metadata": {
    "execution": {
     "iopub.execute_input": "2024-06-25T08:52:12.507882Z",
     "iopub.status.busy": "2024-06-25T08:52:12.507387Z",
     "iopub.status.idle": "2024-06-25T08:52:12.556199Z",
     "shell.execute_reply": "2024-06-25T08:52:12.555072Z",
     "shell.execute_reply.started": "2024-06-25T08:52:12.507836Z"
    }
   },
   "outputs": [],
   "source": [
    "dat_id_retail = 1"
   ]
  },
  {
   "cell_type": "code",
   "execution_count": 10,
   "id": "d98adb7a-3c07-452b-b0a1-e167097d225e",
   "metadata": {
    "execution": {
     "iopub.execute_input": "2024-06-25T08:52:12.558235Z",
     "iopub.status.busy": "2024-06-25T08:52:12.557761Z",
     "iopub.status.idle": "2024-06-25T08:52:30.259130Z",
     "shell.execute_reply": "2024-06-25T08:52:30.258112Z",
     "shell.execute_reply.started": "2024-06-25T08:52:12.558191Z"
    }
   },
   "outputs": [],
   "source": [
    "data_id_goods = sc.register_alt_data(sdh, data_dir=DEFAULT_DIR, f_ticker_cvt=f_ticker_cvt)\n",
    "data_id_elec = sc.register_elec_data(sdh, data_dir=DEFAULT_DIR)\n",
    "data_id_mkt = sc.load_finnhub_equity_data_fixed_ticker(sdh, data_dir=DEFAULT_DIR)"
   ]
  },
  {
   "cell_type": "code",
   "execution_count": 11,
   "id": "9ede639f-b2fc-4da5-adee-691599faf4e5",
   "metadata": {
    "execution": {
     "iopub.execute_input": "2024-06-25T08:52:30.261328Z",
     "iopub.status.busy": "2024-06-25T08:52:30.260317Z",
     "iopub.status.idle": "2024-06-25T08:52:30.314983Z",
     "shell.execute_reply": "2024-06-25T08:52:30.313997Z",
     "shell.execute_reply.started": "2024-06-25T08:52:30.261295Z"
    }
   },
   "outputs": [],
   "source": [
    "sdh.set_alias(\n",
    "    {dat_id_retail: 'retail', data_id_goods: 'goods', \n",
    "     data_id_elec: 'elec', data_id_mkt: 'mkt'})"
   ]
  },
  {
   "cell_type": "markdown",
   "id": "8344213a-2c42-4637-b3c3-a4e8cb625509",
   "metadata": {},
   "source": [
    "### `AltDataEvaluator`作成\n",
    "セットアップしたデータハンドラーを渡し`AltDataEvaluator`を作成"
   ]
  },
  {
   "cell_type": "code",
   "execution_count": 12,
   "id": "f9b5106b-abe2-4cd2-9258-f87257cf9292",
   "metadata": {
    "execution": {
     "iopub.execute_input": "2024-06-25T08:52:30.316996Z",
     "iopub.status.busy": "2024-06-25T08:52:30.316156Z",
     "iopub.status.idle": "2024-06-25T08:52:35.189608Z",
     "shell.execute_reply": "2024-06-25T08:52:35.188555Z",
     "shell.execute_reply.started": "2024-06-25T08:52:30.316962Z"
    }
   },
   "outputs": [],
   "source": [
    "from aiq_strategy_robot.evaluator import AltDataEvaluator, inv_return_stats, cumplot_return\n",
    "\n",
    "# Initialize AltDataEvaluator\n",
    "ade = AltDataEvaluator(sdh)"
   ]
  },
  {
   "cell_type": "code",
   "execution_count": 13,
   "id": "ad3155fe-2fe9-49da-8dfc-3909d9871cd4",
   "metadata": {
    "execution": {
     "iopub.execute_input": "2024-06-25T08:52:35.191107Z",
     "iopub.status.busy": "2024-06-25T08:52:35.190805Z",
     "iopub.status.idle": "2024-06-25T08:52:35.249709Z",
     "shell.execute_reply": "2024-06-25T08:52:35.248740Z",
     "shell.execute_reply.started": "2024-06-25T08:52:35.191077Z"
    }
   },
   "outputs": [],
   "source": [
    "sdh.transform.verbose = True"
   ]
  },
  {
   "cell_type": "markdown",
   "id": "d0eabc5f-627f-4080-8e5f-9eb83e8f3e5f",
   "metadata": {},
   "source": [
    "## バックテスト"
   ]
  },
  {
   "cell_type": "code",
   "execution_count": 14,
   "id": "312a6cc7-a269-4617-9661-c0b78fed6f7d",
   "metadata": {
    "execution": {
     "iopub.execute_input": "2024-06-25T08:52:35.251063Z",
     "iopub.status.busy": "2024-06-25T08:52:35.250768Z",
     "iopub.status.idle": "2024-06-25T08:52:35.717182Z",
     "shell.execute_reply": "2024-06-25T08:52:35.716173Z",
     "shell.execute_reply.started": "2024-06-25T08:52:35.251033Z"
    }
   },
   "outputs": [],
   "source": [
    "# リターン作成\n",
    "bcktest_return_id = sdh.transform.log_diff(1, data_id=data_id_mkt, fields='close').variable_ids[0]"
   ]
  },
  {
   "cell_type": "code",
   "execution_count": null,
   "id": "e7e5fe32-f249-4f1b-be9d-6c15f6736dc5",
   "metadata": {},
   "outputs": [],
   "source": []
  },
  {
   "cell_type": "markdown",
   "id": "9b16dcea-6273-43dc-8e84-55ba6af0a502",
   "metadata": {},
   "source": [
    "### POS CSMR Goods weekly"
   ]
  },
  {
   "cell_type": "code",
   "execution_count": 15,
   "id": "399cea33-6642-4b26-bc71-d30a0102c784",
   "metadata": {
    "execution": {
     "iopub.execute_input": "2024-06-25T08:52:35.718734Z",
     "iopub.status.busy": "2024-06-25T08:52:35.718440Z",
     "iopub.status.idle": "2024-06-25T08:52:35.776899Z",
     "shell.execute_reply": "2024-06-25T08:52:35.775907Z",
     "shell.execute_reply.started": "2024-06-25T08:52:35.718704Z"
    }
   },
   "outputs": [],
   "source": [
    "n_shift = 6\n",
    "n_rolling = 12\n",
    "n_diff = 52"
   ]
  },
  {
   "cell_type": "code",
   "execution_count": 16,
   "id": "36f69e7d-07d9-4f1d-86e7-c7572f1eb711",
   "metadata": {
    "execution": {
     "iopub.execute_input": "2024-06-25T08:52:35.778965Z",
     "iopub.status.busy": "2024-06-25T08:52:35.778101Z",
     "iopub.status.idle": "2024-06-25T08:52:35.960363Z",
     "shell.execute_reply": "2024-06-25T08:52:35.959192Z",
     "shell.execute_reply.started": "2024-06-25T08:52:35.778929Z"
    }
   },
   "outputs": [],
   "source": [
    "signal_goods_id = (\n",
    "    sdh.transform\n",
    "    .multiply('pos_sales', 'unit_price', data_id=data_id_goods)\n",
    "    .resample('W', 'last')\n",
    "    .sma(n_rolling)\n",
    "    .log_diff(n_diff)\n",
    "    .resample('D', 'last')\n",
    "    .fillna('ffill', limit=7)\n",
    "    .reindex(label=bcktest_return_id)\n",
    "    .shift(n_shift)\n",
    "    .variable_ids[0]\n",
    ")"
   ]
  },
  {
   "cell_type": "code",
   "execution_count": 17,
   "id": "aad24441-a14c-4517-bcbf-3fb1de57ea25",
   "metadata": {
    "execution": {
     "iopub.execute_input": "2024-06-25T08:52:35.961955Z",
     "iopub.status.busy": "2024-06-25T08:52:35.961644Z",
     "iopub.status.idle": "2024-06-25T08:53:06.760170Z",
     "shell.execute_reply": "2024-06-25T08:53:06.758964Z",
     "shell.execute_reply.started": "2024-06-25T08:52:35.961925Z"
    }
   },
   "outputs": [
    {
     "name": "stderr",
     "output_type": "stream",
     "text": [
      "Variables being created..: process: 1, method=log_diff(periods=1): 100%|█| 1/1 [\n",
      "Variables being created..: process: 11, method=shift(periods=6): 100%|█| 10/10 [\n"
     ]
    },
    {
     "data": {
      "text/html": [
       "<iframe\n",
       "    scrolling=\"no\"\n",
       "    width=\"100%\"\n",
       "    height=\"545px\"\n",
       "    src=\"iframe_figures/figure_17.html\"\n",
       "    frameborder=\"0\"\n",
       "    allowfullscreen\n",
       "></iframe>\n"
      ]
     },
     "metadata": {},
     "output_type": "display_data"
    },
    {
     "data": {
      "text/html": [
       "<div>\n",
       "<style scoped>\n",
       "    .dataframe tbody tr th:only-of-type {\n",
       "        vertical-align: middle;\n",
       "    }\n",
       "\n",
       "    .dataframe tbody tr th {\n",
       "        vertical-align: top;\n",
       "    }\n",
       "\n",
       "    .dataframe thead th {\n",
       "        text-align: right;\n",
       "    }\n",
       "</style>\n",
       "<table border=\"1\" class=\"dataframe\">\n",
       "  <thead>\n",
       "    <tr style=\"text-align: right;\">\n",
       "      <th></th>\n",
       "      <th>cum.Ret</th>\n",
       "      <th>ann.Ret</th>\n",
       "      <th>ann.Std</th>\n",
       "      <th>R/R</th>\n",
       "      <th>Win_R</th>\n",
       "      <th>ann.TurnOver</th>\n",
       "      <th>Max_DD</th>\n",
       "      <th>Calmar Ratio</th>\n",
       "    </tr>\n",
       "  </thead>\n",
       "  <tbody>\n",
       "    <tr>\n",
       "      <th>#1</th>\n",
       "      <td>0.342844</td>\n",
       "      <td>0.023204</td>\n",
       "      <td>0.137127</td>\n",
       "      <td>0.169214</td>\n",
       "      <td>0.533241</td>\n",
       "      <td>9.176131</td>\n",
       "      <td>-0.543850</td>\n",
       "      <td>0.042666</td>\n",
       "    </tr>\n",
       "    <tr>\n",
       "      <th>#2</th>\n",
       "      <td>1.020372</td>\n",
       "      <td>0.069059</td>\n",
       "      <td>0.137027</td>\n",
       "      <td>0.503984</td>\n",
       "      <td>0.543364</td>\n",
       "      <td>12.555872</td>\n",
       "      <td>-0.400219</td>\n",
       "      <td>0.172553</td>\n",
       "    </tr>\n",
       "    <tr>\n",
       "      <th>#3</th>\n",
       "      <td>1.207877</td>\n",
       "      <td>0.081750</td>\n",
       "      <td>0.137814</td>\n",
       "      <td>0.593187</td>\n",
       "      <td>0.556664</td>\n",
       "      <td>9.256361</td>\n",
       "      <td>-0.419012</td>\n",
       "      <td>0.195101</td>\n",
       "    </tr>\n",
       "    <tr>\n",
       "      <th>#3-#1</th>\n",
       "      <td>0.865034</td>\n",
       "      <td>0.058546</td>\n",
       "      <td>0.049980</td>\n",
       "      <td>1.171378</td>\n",
       "      <td>0.536842</td>\n",
       "      <td>18.432492</td>\n",
       "      <td>-0.091557</td>\n",
       "      <td>0.639444</td>\n",
       "    </tr>\n",
       "    <tr>\n",
       "      <th>#3-#1(cost)</th>\n",
       "      <td>0.728861</td>\n",
       "      <td>0.049330</td>\n",
       "      <td>0.049994</td>\n",
       "      <td>0.986706</td>\n",
       "      <td>0.532133</td>\n",
       "      <td>18.432492</td>\n",
       "      <td>-0.101039</td>\n",
       "      <td>0.488224</td>\n",
       "    </tr>\n",
       "  </tbody>\n",
       "</table>\n",
       "</div>"
      ],
      "text/plain": [
       "              cum.Ret   ann.Ret   ann.Std       R/R     Win_R  ann.TurnOver  \\\n",
       "#1           0.342844  0.023204  0.137127  0.169214  0.533241      9.176131   \n",
       "#2           1.020372  0.069059  0.137027  0.503984  0.543364     12.555872   \n",
       "#3           1.207877  0.081750  0.137814  0.593187  0.556664      9.256361   \n",
       "#3-#1        0.865034  0.058546  0.049980  1.171378  0.536842     18.432492   \n",
       "#3-#1(cost)  0.728861  0.049330  0.049994  0.986706  0.532133     18.432492   \n",
       "\n",
       "               Max_DD  Calmar Ratio  \n",
       "#1          -0.543850      0.042666  \n",
       "#2          -0.400219      0.172553  \n",
       "#3          -0.419012      0.195101  \n",
       "#3-#1       -0.091557      0.639444  \n",
       "#3-#1(cost) -0.101039      0.488224  "
      ]
     },
     "metadata": {},
     "output_type": "display_data"
    }
   ],
   "source": [
    "nq = 3\n",
    "exe_cost = 0.0005\n",
    "\n",
    "dfqret_goods, stats, dfsigqt = ade.q_backtest(\n",
    "    signal_goods_id,\n",
    "    bcktest_return_id,\n",
    "    nq=nq,\n",
    "    exe_cost=exe_cost,\n",
    "    plot=True,\n",
    "    stats=True\n",
    ")"
   ]
  },
  {
   "cell_type": "markdown",
   "id": "7128cf00-fabc-4d3e-ae32-e3c392ff7e39",
   "metadata": {},
   "source": [
    "### POS Retailer Monthly"
   ]
  },
  {
   "cell_type": "code",
   "execution_count": 18,
   "id": "98a742a2-e83e-43d2-91e6-927a03cddcc6",
   "metadata": {
    "execution": {
     "iopub.execute_input": "2024-06-25T08:53:06.762194Z",
     "iopub.status.busy": "2024-06-25T08:53:06.761564Z",
     "iopub.status.idle": "2024-06-25T08:53:07.465811Z",
     "shell.execute_reply": "2024-06-25T08:53:07.464673Z",
     "shell.execute_reply.started": "2024-06-25T08:53:06.762161Z"
    }
   },
   "outputs": [],
   "source": [
    "n_shift = 7\n",
    "n_rolling = 2\n",
    "n_diff = 12"
   ]
  },
  {
   "cell_type": "code",
   "execution_count": 19,
   "id": "187c9f91-44b5-4e81-9610-4da6f5ab7d3d",
   "metadata": {
    "execution": {
     "iopub.execute_input": "2024-06-25T08:53:07.467483Z",
     "iopub.status.busy": "2024-06-25T08:53:07.467165Z",
     "iopub.status.idle": "2024-06-25T08:53:07.588820Z",
     "shell.execute_reply": "2024-06-25T08:53:07.587730Z",
     "shell.execute_reply.started": "2024-06-25T08:53:07.467453Z"
    }
   },
   "outputs": [],
   "source": [
    "signal_retailer_id = (\n",
    "    sdh.transform\n",
    "    .multiply('pos_sales', 'share', data_id=dat_id_retail)\n",
    "    .resample('M', 'last')\n",
    "    .sma(n_rolling)\n",
    "    .log_diff(n_diff)\n",
    "    .resample('D', 'last')\n",
    "    .fillna('ffill', limit=31)\n",
    "    .reindex(label=bcktest_return_id)\n",
    "    .shift(n_shift)\n",
    "    .variable_ids[0]\n",
    ")\n"
   ]
  },
  {
   "cell_type": "code",
   "execution_count": 20,
   "id": "0659e4c9-51c0-4393-8f52-fc0c56c9b544",
   "metadata": {
    "execution": {
     "iopub.execute_input": "2024-06-25T08:53:07.590340Z",
     "iopub.status.busy": "2024-06-25T08:53:07.590052Z",
     "iopub.status.idle": "2024-06-25T08:53:29.221879Z",
     "shell.execute_reply": "2024-06-25T08:53:29.220670Z",
     "shell.execute_reply.started": "2024-06-25T08:53:07.590309Z"
    }
   },
   "outputs": [
    {
     "name": "stderr",
     "output_type": "stream",
     "text": [
      "Variables being created..: process: 21, method=shift(periods=7): 100%|█| 10/10 [\n"
     ]
    },
    {
     "data": {
      "text/html": [
       "<iframe\n",
       "    scrolling=\"no\"\n",
       "    width=\"100%\"\n",
       "    height=\"545px\"\n",
       "    src=\"iframe_figures/figure_20.html\"\n",
       "    frameborder=\"0\"\n",
       "    allowfullscreen\n",
       "></iframe>\n"
      ]
     },
     "metadata": {},
     "output_type": "display_data"
    },
    {
     "data": {
      "text/html": [
       "<div>\n",
       "<style scoped>\n",
       "    .dataframe tbody tr th:only-of-type {\n",
       "        vertical-align: middle;\n",
       "    }\n",
       "\n",
       "    .dataframe tbody tr th {\n",
       "        vertical-align: top;\n",
       "    }\n",
       "\n",
       "    .dataframe thead th {\n",
       "        text-align: right;\n",
       "    }\n",
       "</style>\n",
       "<table border=\"1\" class=\"dataframe\">\n",
       "  <thead>\n",
       "    <tr style=\"text-align: right;\">\n",
       "      <th></th>\n",
       "      <th>cum.Ret</th>\n",
       "      <th>ann.Ret</th>\n",
       "      <th>ann.Std</th>\n",
       "      <th>R/R</th>\n",
       "      <th>Win_R</th>\n",
       "      <th>ann.TurnOver</th>\n",
       "      <th>Max_DD</th>\n",
       "      <th>Calmar Ratio</th>\n",
       "    </tr>\n",
       "  </thead>\n",
       "  <tbody>\n",
       "    <tr>\n",
       "      <th>#1</th>\n",
       "      <td>0.582999</td>\n",
       "      <td>0.045674</td>\n",
       "      <td>0.138674</td>\n",
       "      <td>0.329362</td>\n",
       "      <td>0.528695</td>\n",
       "      <td>10.264397</td>\n",
       "      <td>-0.604328</td>\n",
       "      <td>0.075578</td>\n",
       "    </tr>\n",
       "    <tr>\n",
       "      <th>#2</th>\n",
       "      <td>1.148647</td>\n",
       "      <td>0.089988</td>\n",
       "      <td>0.143503</td>\n",
       "      <td>0.627082</td>\n",
       "      <td>0.541199</td>\n",
       "      <td>11.547610</td>\n",
       "      <td>-0.450649</td>\n",
       "      <td>0.199686</td>\n",
       "    </tr>\n",
       "    <tr>\n",
       "      <th>#3</th>\n",
       "      <td>1.735174</td>\n",
       "      <td>0.135939</td>\n",
       "      <td>0.145567</td>\n",
       "      <td>0.933858</td>\n",
       "      <td>0.547291</td>\n",
       "      <td>8.609486</td>\n",
       "      <td>-0.410303</td>\n",
       "      <td>0.331313</td>\n",
       "    </tr>\n",
       "    <tr>\n",
       "      <th>#3-#1</th>\n",
       "      <td>1.152174</td>\n",
       "      <td>0.090265</td>\n",
       "      <td>0.070118</td>\n",
       "      <td>1.287331</td>\n",
       "      <td>0.537672</td>\n",
       "      <td>18.873882</td>\n",
       "      <td>-0.126101</td>\n",
       "      <td>0.715811</td>\n",
       "    </tr>\n",
       "    <tr>\n",
       "      <th>#3-#1(cost)</th>\n",
       "      <td>1.031718</td>\n",
       "      <td>0.080828</td>\n",
       "      <td>0.070125</td>\n",
       "      <td>1.152621</td>\n",
       "      <td>0.532222</td>\n",
       "      <td>18.873882</td>\n",
       "      <td>-0.129279</td>\n",
       "      <td>0.625219</td>\n",
       "    </tr>\n",
       "  </tbody>\n",
       "</table>\n",
       "</div>"
      ],
      "text/plain": [
       "              cum.Ret   ann.Ret   ann.Std       R/R     Win_R  ann.TurnOver  \\\n",
       "#1           0.582999  0.045674  0.138674  0.329362  0.528695     10.264397   \n",
       "#2           1.148647  0.089988  0.143503  0.627082  0.541199     11.547610   \n",
       "#3           1.735174  0.135939  0.145567  0.933858  0.547291      8.609486   \n",
       "#3-#1        1.152174  0.090265  0.070118  1.287331  0.537672     18.873882   \n",
       "#3-#1(cost)  1.031718  0.080828  0.070125  1.152621  0.532222     18.873882   \n",
       "\n",
       "               Max_DD  Calmar Ratio  \n",
       "#1          -0.604328      0.075578  \n",
       "#2          -0.450649      0.199686  \n",
       "#3          -0.410303      0.331313  \n",
       "#3-#1       -0.126101      0.715811  \n",
       "#3-#1(cost) -0.129279      0.625219  "
      ]
     },
     "metadata": {},
     "output_type": "display_data"
    }
   ],
   "source": [
    "nq = 3\n",
    "exe_cost = 0.0005\n",
    "\n",
    "dfqret_retailer, stats, dfsigqt = ade.q_backtest(\n",
    "    signal_retailer_id,\n",
    "    bcktest_return_id,\n",
    "    nq=nq,\n",
    "    exe_cost=exe_cost,\n",
    "    plot=True,\n",
    "    stats=True\n",
    ")"
   ]
  },
  {
   "cell_type": "markdown",
   "id": "0e3106b4-3f24-4344-bf37-3c1709233e13",
   "metadata": {},
   "source": [
    "### POS Elec Daily"
   ]
  },
  {
   "cell_type": "code",
   "execution_count": 21,
   "id": "cc8e76f6-fe96-4cd1-b890-85e36a01bfbd",
   "metadata": {
    "execution": {
     "iopub.execute_input": "2024-06-25T08:53:29.223906Z",
     "iopub.status.busy": "2024-06-25T08:53:29.223611Z",
     "iopub.status.idle": "2024-06-25T08:53:30.300591Z",
     "shell.execute_reply": "2024-06-25T08:53:30.299498Z",
     "shell.execute_reply.started": "2024-06-25T08:53:29.223876Z"
    }
   },
   "outputs": [],
   "source": [
    "n_shift = 4\n",
    "n_rolling = 20\n",
    "n_diff = 252\n",
    "min_period = int(max(np.floor(n_rolling * 5 / 7), 1))"
   ]
  },
  {
   "cell_type": "code",
   "execution_count": 22,
   "id": "e869ceed-8ef4-4652-ba28-a579fbce64a1",
   "metadata": {
    "execution": {
     "iopub.execute_input": "2024-06-25T08:53:30.307266Z",
     "iopub.status.busy": "2024-06-25T08:53:30.306378Z",
     "iopub.status.idle": "2024-06-25T08:53:30.680289Z",
     "shell.execute_reply": "2024-06-25T08:53:30.679224Z",
     "shell.execute_reply.started": "2024-06-25T08:53:30.307234Z"
    }
   },
   "outputs": [],
   "source": [
    "signal_elec_id = (\n",
    "    sdh.transform\n",
    "    .multiply('pos_sales', 'unit_price', data_id=data_id_elec)\n",
    "    .resample('D', 'last')\n",
    "    .sma(n_rolling, min_period)\n",
    "    .reindex(label=bcktest_return_id)\n",
    "    .log_diff(n_diff)\n",
    "    .reindex(label=bcktest_return_id)\n",
    "    .shift(n_shift)\n",
    "    .variable_ids[0]\n",
    ")\n"
   ]
  },
  {
   "cell_type": "code",
   "execution_count": 23,
   "id": "3bb8a39b-4947-47f5-8d11-8933423533b9",
   "metadata": {
    "execution": {
     "iopub.execute_input": "2024-06-25T08:53:30.681877Z",
     "iopub.status.busy": "2024-06-25T08:53:30.681579Z",
     "iopub.status.idle": "2024-06-25T08:53:59.076023Z",
     "shell.execute_reply": "2024-06-25T08:53:59.075005Z",
     "shell.execute_reply.started": "2024-06-25T08:53:30.681847Z"
    }
   },
   "outputs": [
    {
     "name": "stderr",
     "output_type": "stream",
     "text": [
      "Variables being created..: process: 30, method=shift(periods=4): 100%|█| 9/9 [00\n"
     ]
    },
    {
     "data": {
      "text/html": [
       "<iframe\n",
       "    scrolling=\"no\"\n",
       "    width=\"100%\"\n",
       "    height=\"545px\"\n",
       "    src=\"iframe_figures/figure_23.html\"\n",
       "    frameborder=\"0\"\n",
       "    allowfullscreen\n",
       "></iframe>\n"
      ]
     },
     "metadata": {},
     "output_type": "display_data"
    },
    {
     "data": {
      "text/html": [
       "<div>\n",
       "<style scoped>\n",
       "    .dataframe tbody tr th:only-of-type {\n",
       "        vertical-align: middle;\n",
       "    }\n",
       "\n",
       "    .dataframe tbody tr th {\n",
       "        vertical-align: top;\n",
       "    }\n",
       "\n",
       "    .dataframe thead th {\n",
       "        text-align: right;\n",
       "    }\n",
       "</style>\n",
       "<table border=\"1\" class=\"dataframe\">\n",
       "  <thead>\n",
       "    <tr style=\"text-align: right;\">\n",
       "      <th></th>\n",
       "      <th>cum.Ret</th>\n",
       "      <th>ann.Ret</th>\n",
       "      <th>ann.Std</th>\n",
       "      <th>R/R</th>\n",
       "      <th>Win_R</th>\n",
       "      <th>ann.TurnOver</th>\n",
       "      <th>Max_DD</th>\n",
       "      <th>Calmar Ratio</th>\n",
       "    </tr>\n",
       "  </thead>\n",
       "  <tbody>\n",
       "    <tr>\n",
       "      <th>#1</th>\n",
       "      <td>-0.094826</td>\n",
       "      <td>-0.006715</td>\n",
       "      <td>0.204391</td>\n",
       "      <td>-0.032856</td>\n",
       "      <td>0.521437</td>\n",
       "      <td>18.501702</td>\n",
       "      <td>-0.780360</td>\n",
       "      <td>-0.008606</td>\n",
       "    </tr>\n",
       "    <tr>\n",
       "      <th>#2</th>\n",
       "      <td>1.158301</td>\n",
       "      <td>0.082029</td>\n",
       "      <td>0.204390</td>\n",
       "      <td>0.401338</td>\n",
       "      <td>0.542874</td>\n",
       "      <td>32.439347</td>\n",
       "      <td>-0.563791</td>\n",
       "      <td>0.145496</td>\n",
       "    </tr>\n",
       "    <tr>\n",
       "      <th>#3</th>\n",
       "      <td>1.143865</td>\n",
       "      <td>0.081007</td>\n",
       "      <td>0.203509</td>\n",
       "      <td>0.398051</td>\n",
       "      <td>0.544322</td>\n",
       "      <td>19.452528</td>\n",
       "      <td>-0.481842</td>\n",
       "      <td>0.168120</td>\n",
       "    </tr>\n",
       "    <tr>\n",
       "      <th>#3-#1</th>\n",
       "      <td>1.238691</td>\n",
       "      <td>0.087723</td>\n",
       "      <td>0.118930</td>\n",
       "      <td>0.737596</td>\n",
       "      <td>0.520857</td>\n",
       "      <td>37.954230</td>\n",
       "      <td>-0.233443</td>\n",
       "      <td>0.375777</td>\n",
       "    </tr>\n",
       "    <tr>\n",
       "      <th>#3-#1(cost)</th>\n",
       "      <td>0.970724</td>\n",
       "      <td>0.068745</td>\n",
       "      <td>0.118947</td>\n",
       "      <td>0.577949</td>\n",
       "      <td>0.516222</td>\n",
       "      <td>37.954230</td>\n",
       "      <td>-0.253788</td>\n",
       "      <td>0.270877</td>\n",
       "    </tr>\n",
       "  </tbody>\n",
       "</table>\n",
       "</div>"
      ],
      "text/plain": [
       "              cum.Ret   ann.Ret   ann.Std       R/R     Win_R  ann.TurnOver  \\\n",
       "#1          -0.094826 -0.006715  0.204391 -0.032856  0.521437     18.501702   \n",
       "#2           1.158301  0.082029  0.204390  0.401338  0.542874     32.439347   \n",
       "#3           1.143865  0.081007  0.203509  0.398051  0.544322     19.452528   \n",
       "#3-#1        1.238691  0.087723  0.118930  0.737596  0.520857     37.954230   \n",
       "#3-#1(cost)  0.970724  0.068745  0.118947  0.577949  0.516222     37.954230   \n",
       "\n",
       "               Max_DD  Calmar Ratio  \n",
       "#1          -0.780360     -0.008606  \n",
       "#2          -0.563791      0.145496  \n",
       "#3          -0.481842      0.168120  \n",
       "#3-#1       -0.233443      0.375777  \n",
       "#3-#1(cost) -0.253788      0.270877  "
      ]
     },
     "metadata": {},
     "output_type": "display_data"
    }
   ],
   "source": [
    "nq = 3\n",
    "exe_cost = 0.0005\n",
    "\n",
    "dfqret_elec, stats, dfsigqt = ade.q_backtest(\n",
    "    signal_elec_id,\n",
    "    bcktest_return_id,\n",
    "    nq=nq,\n",
    "    exe_cost=exe_cost,\n",
    "    plot=True,\n",
    "    stats=True\n",
    ")"
   ]
  },
  {
   "cell_type": "markdown",
   "id": "200e6438-a9ca-446e-9b2d-75854636bef2",
   "metadata": {},
   "source": [
    "## ポートフォリオ"
   ]
  },
  {
   "cell_type": "code",
   "execution_count": 24,
   "id": "c6a24010-cb86-4671-a239-44c1eaf1b753",
   "metadata": {
    "execution": {
     "iopub.execute_input": "2024-06-25T08:53:59.078059Z",
     "iopub.status.busy": "2024-06-25T08:53:59.077254Z",
     "iopub.status.idle": "2024-06-25T08:53:59.575874Z",
     "shell.execute_reply": "2024-06-25T08:53:59.574895Z",
     "shell.execute_reply.started": "2024-06-25T08:53:59.078028Z"
    }
   },
   "outputs": [],
   "source": [
    "elec_long_short = dfqret_elec['#3-#1'].rename('elec')\n",
    "csmr_long_short = dfqret_goods['#3-#1'].rename('csmr')\n",
    "retailer_long_short = dfqret_retailer['#3-#1'].rename('retailer')\n",
    "\n",
    "elec_long_short = elec_long_short.resample('M').sum()\n",
    "csmr_long_short = csmr_long_short.resample('M').sum()\n",
    "retailer_long_short = retailer_long_short.resample('M').sum()"
   ]
  },
  {
   "cell_type": "code",
   "execution_count": 25,
   "id": "2f11653c-aaa1-4169-a98d-cffb4cc2ed3b",
   "metadata": {
    "execution": {
     "iopub.execute_input": "2024-06-25T08:53:59.577744Z",
     "iopub.status.busy": "2024-06-25T08:53:59.577127Z",
     "iopub.status.idle": "2024-06-25T08:53:59.639000Z",
     "shell.execute_reply": "2024-06-25T08:53:59.637999Z",
     "shell.execute_reply.started": "2024-06-25T08:53:59.577714Z"
    }
   },
   "outputs": [],
   "source": [
    "min_date = retailer_long_short.index.min()\n",
    "max_date = elec_long_short.index.max()"
   ]
  },
  {
   "cell_type": "code",
   "execution_count": 26,
   "id": "115a27a3-d5e2-4e89-a505-8638aaa37e37",
   "metadata": {
    "execution": {
     "iopub.execute_input": "2024-06-25T08:53:59.640806Z",
     "iopub.status.busy": "2024-06-25T08:53:59.640169Z",
     "iopub.status.idle": "2024-06-25T08:53:59.721698Z",
     "shell.execute_reply": "2024-06-25T08:53:59.720679Z",
     "shell.execute_reply.started": "2024-06-25T08:53:59.640775Z"
    }
   },
   "outputs": [],
   "source": [
    "portfolio = pd.concat([elec_long_short, csmr_long_short, retailer_long_short],axis=1)\n",
    "portfolio = portfolio[portfolio.index>min_date]\n",
    "portfolio = portfolio[portfolio.index<max_date]\n",
    "\n",
    "portfolio['portfolio'] = portfolio.mean(axis=1)"
   ]
  },
  {
   "cell_type": "code",
   "execution_count": 27,
   "id": "15ec3dcd-9a86-4481-9dbb-20d6053a9c39",
   "metadata": {
    "execution": {
     "iopub.execute_input": "2024-06-25T08:53:59.723483Z",
     "iopub.status.busy": "2024-06-25T08:53:59.722876Z",
     "iopub.status.idle": "2024-06-25T08:54:00.040178Z",
     "shell.execute_reply": "2024-06-25T08:54:00.039208Z",
     "shell.execute_reply.started": "2024-06-25T08:53:59.723453Z"
    }
   },
   "outputs": [
    {
     "data": {
      "text/html": [
       "<iframe\n",
       "    scrolling=\"no\"\n",
       "    width=\"100%\"\n",
       "    height=\"545px\"\n",
       "    src=\"iframe_figures/figure_27.html\"\n",
       "    frameborder=\"0\"\n",
       "    allowfullscreen\n",
       "></iframe>\n"
      ]
     },
     "metadata": {},
     "output_type": "display_data"
    },
    {
     "data": {
      "text/html": [
       "<div>\n",
       "<style scoped>\n",
       "    .dataframe tbody tr th:only-of-type {\n",
       "        vertical-align: middle;\n",
       "    }\n",
       "\n",
       "    .dataframe tbody tr th {\n",
       "        vertical-align: top;\n",
       "    }\n",
       "\n",
       "    .dataframe thead th {\n",
       "        text-align: right;\n",
       "    }\n",
       "</style>\n",
       "<table border=\"1\" class=\"dataframe\">\n",
       "  <thead>\n",
       "    <tr style=\"text-align: right;\">\n",
       "      <th></th>\n",
       "      <th>cum.Ret</th>\n",
       "      <th>ann.Ret</th>\n",
       "      <th>ann.Std</th>\n",
       "      <th>R/R</th>\n",
       "      <th>Win_R</th>\n",
       "      <th>Max_DD</th>\n",
       "      <th>Calmar Ratio</th>\n",
       "    </tr>\n",
       "  </thead>\n",
       "  <tbody>\n",
       "    <tr>\n",
       "      <th>elec</th>\n",
       "      <td>1.338007</td>\n",
       "      <td>0.106260</td>\n",
       "      <td>0.102500</td>\n",
       "      <td>1.036690</td>\n",
       "      <td>0.611842</td>\n",
       "      <td>-0.109120</td>\n",
       "      <td>0.973797</td>\n",
       "    </tr>\n",
       "    <tr>\n",
       "      <th>csmr</th>\n",
       "      <td>0.827698</td>\n",
       "      <td>0.065733</td>\n",
       "      <td>0.043064</td>\n",
       "      <td>1.526413</td>\n",
       "      <td>0.638158</td>\n",
       "      <td>-0.059443</td>\n",
       "      <td>1.105816</td>\n",
       "    </tr>\n",
       "    <tr>\n",
       "      <th>retailer</th>\n",
       "      <td>1.156395</td>\n",
       "      <td>0.091837</td>\n",
       "      <td>0.079386</td>\n",
       "      <td>1.156840</td>\n",
       "      <td>0.611842</td>\n",
       "      <td>-0.103809</td>\n",
       "      <td>0.884675</td>\n",
       "    </tr>\n",
       "    <tr>\n",
       "      <th>portfolio</th>\n",
       "      <td>1.107367</td>\n",
       "      <td>0.087944</td>\n",
       "      <td>0.044986</td>\n",
       "      <td>1.954930</td>\n",
       "      <td>0.750000</td>\n",
       "      <td>-0.031886</td>\n",
       "      <td>2.758026</td>\n",
       "    </tr>\n",
       "  </tbody>\n",
       "</table>\n",
       "</div>"
      ],
      "text/plain": [
       "            cum.Ret   ann.Ret   ann.Std       R/R     Win_R    Max_DD  \\\n",
       "elec       1.338007  0.106260  0.102500  1.036690  0.611842 -0.109120   \n",
       "csmr       0.827698  0.065733  0.043064  1.526413  0.638158 -0.059443   \n",
       "retailer   1.156395  0.091837  0.079386  1.156840  0.611842 -0.103809   \n",
       "portfolio  1.107367  0.087944  0.044986  1.954930  0.750000 -0.031886   \n",
       "\n",
       "           Calmar Ratio  \n",
       "elec           0.973797  \n",
       "csmr           1.105816  \n",
       "retailer       0.884675  \n",
       "portfolio      2.758026  "
      ]
     },
     "execution_count": 27,
     "metadata": {},
     "output_type": "execute_result"
    }
   ],
   "source": [
    "cumplot_return(portfolio, em_pattern='portfolio')\n",
    "inv_return_stats(portfolio)"
   ]
  },
  {
   "cell_type": "markdown",
   "id": "a9b7a106-e95e-4303-b43e-3a7b1491aed3",
   "metadata": {},
   "source": [
    "# データ間相関"
   ]
  },
  {
   "cell_type": "code",
   "execution_count": 35,
   "id": "74b06648-caca-457f-8ecf-e7a6f6f21a4d",
   "metadata": {
    "execution": {
     "iopub.execute_input": "2024-06-25T08:54:48.924816Z",
     "iopub.status.busy": "2024-06-25T08:54:48.924207Z",
     "iopub.status.idle": "2024-06-25T08:54:50.888904Z",
     "shell.execute_reply": "2024-06-25T08:54:50.887620Z",
     "shell.execute_reply.started": "2024-06-25T08:54:48.924784Z"
    }
   },
   "outputs": [
    {
     "data": {
      "text/plain": [
       "(34, 35, 36)"
      ]
     },
     "execution_count": 35,
     "metadata": {},
     "output_type": "execute_result"
    }
   ],
   "source": [
    "mi_names = [\"ticker\", \"datetime\"]\n",
    "df_goods = dfqret_goods[[\"#3-#1\"]]\n",
    "df_goods.index = pd.MultiIndex.from_tuples([('#3-#1', dt) for dt in dfqret_goods[[\"#3-#1\"]].index], names=mi_names)\n",
    "goods_did = sdh.set_raw_data(df_goods)\n",
    "goods_id = sdh.transform.raw(data_id=goods_did).variable_ids[0]\n",
    "\n",
    "df_retailer = dfqret_retailer[[\"#3-#1\"]]\n",
    "df_retailer.index = pd.MultiIndex.from_tuples([('#3-#1', dt) for dt in dfqret_retailer[[\"#3-#1\"]].index], names=mi_names)\n",
    "retailer_did = sdh.set_raw_data(df_retailer)\n",
    "retailer_id = sdh.transform.raw(data_id=retailer_did).variable_ids[0]\n",
    "\n",
    "df_elec = dfqret_elec[[\"#3-#1\"]]\n",
    "df_elec.index = pd.MultiIndex.from_tuples([('#3-#1', dt) for dt in dfqret_elec[[\"#3-#1\"]].index], names=mi_names)\n",
    "elec_did = sdh.set_raw_data(df_elec)\n",
    "elec_id = sdh.transform.raw(data_id=elec_did).variable_ids[0]\n",
    "\n",
    "goods_id, retailer_id, elec_id"
   ]
  },
  {
   "cell_type": "code",
   "execution_count": 36,
   "id": "dcb7b001-5496-4b67-abd1-c873c156683a",
   "metadata": {
    "execution": {
     "iopub.execute_input": "2024-06-25T08:54:50.892216Z",
     "iopub.status.busy": "2024-06-25T08:54:50.891274Z",
     "iopub.status.idle": "2024-06-25T08:54:51.136050Z",
     "shell.execute_reply": "2024-06-25T08:54:51.134906Z",
     "shell.execute_reply.started": "2024-06-25T08:54:50.892161Z"
    }
   },
   "outputs": [
    {
     "name": "stderr",
     "output_type": "stream",
     "text": [
      "Variables being created..: process: 34, method=raw(): 100%|█| 1/1 [00:00<00:00, \n",
      "Variables being created..: process: 35, method=raw(): 100%|█| 1/1 [00:00<00:00, \n",
      "Variables being created..: process: 36, method=raw(): 100%|█| 1/1 [00:00<00:00, \n"
     ]
    }
   ],
   "source": [
    "df_rho_goods_retailer = ade.compu_rho(goods_id, retailer_id, rename_features=\"#3-#1\")\n",
    "df_rho_goods_elec =     ade.compu_rho(goods_id, elec_id,     rename_features=\"#3-#1\")\n",
    "df_rho_elec_retailer =  ade.compu_rho(elec_id,  retailer_id, rename_features=\"#3-#1\")"
   ]
  },
  {
   "cell_type": "code",
   "execution_count": 37,
   "id": "1757cb00-7d85-4d83-80e2-0e3183b17549",
   "metadata": {
    "execution": {
     "iopub.execute_input": "2024-06-25T08:54:51.138297Z",
     "iopub.status.busy": "2024-06-25T08:54:51.137444Z",
     "iopub.status.idle": "2024-06-25T08:54:51.207884Z",
     "shell.execute_reply": "2024-06-25T08:54:51.206809Z",
     "shell.execute_reply.started": "2024-06-25T08:54:51.138263Z"
    }
   },
   "outputs": [
    {
     "data": {
      "text/html": [
       "<div>\n",
       "<style scoped>\n",
       "    .dataframe tbody tr th:only-of-type {\n",
       "        vertical-align: middle;\n",
       "    }\n",
       "\n",
       "    .dataframe tbody tr th {\n",
       "        vertical-align: top;\n",
       "    }\n",
       "\n",
       "    .dataframe thead th {\n",
       "        text-align: right;\n",
       "    }\n",
       "</style>\n",
       "<table border=\"1\" class=\"dataframe\">\n",
       "  <thead>\n",
       "    <tr style=\"text-align: right;\">\n",
       "      <th></th>\n",
       "      <th></th>\n",
       "      <th>goods_retailer</th>\n",
       "      <th>goods_elec</th>\n",
       "      <th>elec_retailer</th>\n",
       "    </tr>\n",
       "  </thead>\n",
       "  <tbody>\n",
       "    <tr>\n",
       "      <th rowspan=\"2\" valign=\"top\">#</th>\n",
       "      <th>rho</th>\n",
       "      <td>0.055652</td>\n",
       "      <td>0.038551</td>\n",
       "      <td>-0.030398</td>\n",
       "    </tr>\n",
       "    <tr>\n",
       "      <th>t-val</th>\n",
       "      <td>3.111880</td>\n",
       "      <td>2.265719</td>\n",
       "      <td>-1.697934</td>\n",
       "    </tr>\n",
       "  </tbody>\n",
       "</table>\n",
       "</div>"
      ],
      "text/plain": [
       "         goods_retailer  goods_elec  elec_retailer\n",
       "# rho          0.055652    0.038551      -0.030398\n",
       "  t-val        3.111880    2.265719      -1.697934"
      ]
     },
     "execution_count": 37,
     "metadata": {},
     "output_type": "execute_result"
    }
   ],
   "source": [
    "df_show = pd.concat([df_rho_goods_retailer, df_rho_goods_elec, df_rho_elec_retailer], axis=1)\n",
    "df_show.columns = [\"goods_retailer\", \"goods_elec\", \"elec_retailer\"]\n",
    "df_show"
   ]
  }
 ],
 "metadata": {
  "kernelspec": {
   "display_name": "visualize_py38",
   "language": "python",
   "name": "visualize_py38"
  },
  "language_info": {
   "codemirror_mode": {
    "name": "ipython",
    "version": 3
   },
   "file_extension": ".py",
   "mimetype": "text/x-python",
   "name": "python",
   "nbconvert_exporter": "python",
   "pygments_lexer": "ipython3",
   "version": "3.8.18"
  }
 },
 "nbformat": 4,
 "nbformat_minor": 5
}
