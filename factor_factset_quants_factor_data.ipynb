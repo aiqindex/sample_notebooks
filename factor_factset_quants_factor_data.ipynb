{
 "cells": [
  {
   "attachments": {
    "369683ab-11e5-4a58-a715-a106f9f68f74.png": {
     "image/png": "[encoded data removed]"
    }
   },
   "cell_type": "markdown",
   "id": "54096a05-08aa-4ea9-8389-bfa49fb4b56d",
   "metadata": {
    "tags": []
   },
   "source": [
    "![image.png](attachment:369683ab-11e5-4a58-a715-a106f9f68f74.png)\n",
    "\n",
    "[disclaimer](./disclaimer.txt/)"
   ]
  },
  {
   "cell_type": "markdown",
   "id": "1f27da9c-cae6-408f-9cc4-cc31c38507fd",
   "metadata": {},
   "source": [
    "# How to look up FACTSET Data from list factor, list tickers or list symbols\n",
    "This sample show how to achieve the following operation with a simple interface:\n",
    "- Look up the unique FACTSET instrument ID (FSYM_ID) from list symbols\n",
    "- Look up the unique FACTSET instrument ID from list tickers"
   ]
  },
  {
   "cell_type": "markdown",
   "id": "825c7b46-c3a9-4eed-ba97-c86f3076f766",
   "metadata": {},
   "source": [
    "## `DAL`  Data Accessor Library \n",
    "> DAL access data from FACTSET database / API for Equity Data  ## Import ASR Data Accessor Library (DAL)"
   ]
  },
  {
   "cell_type": "code",
   "execution_count": 1,
   "id": "2f4ba677",
   "metadata": {},
   "outputs": [],
   "source": [
    "from aiq_strategy_robot.data.data_accessor import DAL\n",
    "handler = DAL()\n",
    "data_source='FACTSET'"
   ]
  },
  {
   "cell_type": "markdown",
   "id": "ab9dfdf4-0926-488c-8bdc-33c084dcf950",
   "metadata": {},
   "source": [
    "### Pattern 1: look up FACTSET from list factors and symbols."
   ]
  },
  {
   "cell_type": "markdown",
   "id": "ea33f29e",
   "metadata": {},
   "source": [
    "####  **load**\n",
    "> Load the data to memory  \n",
    "> Set data_type = 'quants_factor_data' for looking up instrument IDs."
   ]
  },
  {
   "cell_type": "code",
   "execution_count": 2,
   "id": "2fc7266c-b09f-4ede-9a08-4fec088d5811",
   "metadata": {},
   "outputs": [],
   "source": [
    "# `data_type` must be 'quants_factor_data'\n",
    "\n",
    "handler = handler.load(\n",
    "    data_source, # type: ignore\n",
    "    data_type='quants_factor_data',\n",
    "    list_symbols=\"AAPL-US\",\n",
    "    list_factors=\"ebitMgnFwdChg3Yr\",\n",
    "    # list_tickers=\"MH33D6-R\",\n",
    "    # freq=\"CY\",\n",
    "    start_datetime=\"2023-01-01\",\n",
    "    end_datetime=\"2023-02-01\",\n",
    "    # num_chunks=10,\n",
    ")"
   ]
  },
  {
   "cell_type": "markdown",
   "id": "376d1424",
   "metadata": {},
   "source": [
    "#### **Retrieve**\n",
    "> `Pandas.DataFrame` the loaded data via `retrieve`"
   ]
  },
  {
   "cell_type": "code",
   "execution_count": 3,
   "id": "c05520fe-c447-4d8d-8c4e-00ddc477b9df",
   "metadata": {},
   "outputs": [
    {
     "data": {
      "text/html": [
       "<div>\n",
       "<style scoped>\n",
       "    .dataframe tbody tr th:only-of-type {\n",
       "        vertical-align: middle;\n",
       "    }\n",
       "\n",
       "    .dataframe tbody tr th {\n",
       "        vertical-align: top;\n",
       "    }\n",
       "\n",
       "    .dataframe thead th {\n",
       "        text-align: right;\n",
       "    }\n",
       "</style>\n",
       "<table border=\"1\" class=\"dataframe\">\n",
       "  <thead>\n",
       "    <tr style=\"text-align: right;\">\n",
       "      <th></th>\n",
       "      <th></th>\n",
       "      <th>ebitMgnFwdChg3Yr</th>\n",
       "    </tr>\n",
       "    <tr>\n",
       "      <th>symbol</th>\n",
       "      <th>datetime</th>\n",
       "      <th></th>\n",
       "    </tr>\n",
       "  </thead>\n",
       "  <tbody>\n",
       "    <tr>\n",
       "      <th>MH33D6-R</th>\n",
       "      <th>2023-01-31</th>\n",
       "      <td>-1.376834</td>\n",
       "    </tr>\n",
       "  </tbody>\n",
       "</table>\n",
       "</div>"
      ],
      "text/plain": [
       "                     ebitMgnFwdChg3Yr\n",
       "symbol   datetime                    \n",
       "MH33D6-R 2023-01-31         -1.376834"
      ]
     },
     "execution_count": 3,
     "metadata": {},
     "output_type": "execute_result"
    }
   ],
   "source": [
    "df_symbol = handler.retrieve(transformed=False)\n",
    "df_symbol.head(20)"
   ]
  },
  {
   "cell_type": "markdown",
   "id": "742adab7-c577-415f-8177-ca1a4c46678d",
   "metadata": {},
   "source": [
    "### Pattern 2: Look up FSYM_ID from list factors and tickers\n",
    "> If you know tickers, then it is quicker as in the next example."
   ]
  },
  {
   "cell_type": "code",
   "execution_count": 7,
   "id": "a48c5de6-a93b-4c6b-8233-b29c911ffbba",
   "metadata": {},
   "outputs": [
    {
     "data": {
      "text/html": [
       "<div>\n",
       "<style scoped>\n",
       "    .dataframe tbody tr th:only-of-type {\n",
       "        vertical-align: middle;\n",
       "    }\n",
       "\n",
       "    .dataframe tbody tr th {\n",
       "        vertical-align: top;\n",
       "    }\n",
       "\n",
       "    .dataframe thead th {\n",
       "        text-align: right;\n",
       "    }\n",
       "</style>\n",
       "<table border=\"1\" class=\"dataframe\">\n",
       "  <thead>\n",
       "    <tr style=\"text-align: right;\">\n",
       "      <th></th>\n",
       "      <th></th>\n",
       "      <th>ebitMgnFwdChg3Yr</th>\n",
       "    </tr>\n",
       "    <tr>\n",
       "      <th>symbol</th>\n",
       "      <th>datetime</th>\n",
       "      <th></th>\n",
       "    </tr>\n",
       "  </thead>\n",
       "  <tbody>\n",
       "    <tr>\n",
       "      <th>MH33D6-R</th>\n",
       "      <th>2023-01-31</th>\n",
       "      <td>-1.376834</td>\n",
       "    </tr>\n",
       "  </tbody>\n",
       "</table>\n",
       "</div>"
      ],
      "text/plain": [
       "                     ebitMgnFwdChg3Yr\n",
       "symbol   datetime                    \n",
       "MH33D6-R 2023-01-31         -1.376834"
      ]
     },
     "execution_count": 7,
     "metadata": {},
     "output_type": "execute_result"
    }
   ],
   "source": [
    "handler = handler.load(\n",
    "    data_source, # type: ignore\n",
    "    data_type='quants_factor_data',\n",
    "    # list_symbols=\"AAPL-US\",\n",
    "    list_factors=\"ebitMgnFwdChg3Yr\",\n",
    "    list_tickers=\"MH33D6-R\",\n",
    "    # freq=\"CY\",\n",
    "    start_datetime=\"2023-01-01\",\n",
    "    end_datetime=\"2023-02-01\",\n",
    "    # num_chunks=10,\n",
    ")\n",
    "df_symbol = handler.retrieve(transformed=False)\n",
    "df_symbol.head(20)"
   ]
  },
  {
   "cell_type": "markdown",
   "id": "06ead081-b2fe-4301-9a71-5771379e3c10",
   "metadata": {},
   "source": [
    "### Pattern 3: Look up FSYM_ID to be added to freq parameter.\n",
    ">Frequency can be selected from \"d\", \"w\", \"m\", \"am\", \"cq\", \"ay\" and \"cy\"."
   ]
  },
  {
   "cell_type": "code",
   "execution_count": 8,
   "id": "a101b4b7-a503-4bbb-b770-95467aa8668e",
   "metadata": {},
   "outputs": [
    {
     "data": {
      "text/html": [
       "<div>\n",
       "<style scoped>\n",
       "    .dataframe tbody tr th:only-of-type {\n",
       "        vertical-align: middle;\n",
       "    }\n",
       "\n",
       "    .dataframe tbody tr th {\n",
       "        vertical-align: top;\n",
       "    }\n",
       "\n",
       "    .dataframe thead th {\n",
       "        text-align: right;\n",
       "    }\n",
       "</style>\n",
       "<table border=\"1\" class=\"dataframe\">\n",
       "  <thead>\n",
       "    <tr style=\"text-align: right;\">\n",
       "      <th></th>\n",
       "      <th></th>\n",
       "      <th>ebitMgnFwdChg3Yr</th>\n",
       "    </tr>\n",
       "    <tr>\n",
       "      <th>symbol</th>\n",
       "      <th>datetime</th>\n",
       "      <th></th>\n",
       "    </tr>\n",
       "  </thead>\n",
       "  <tbody>\n",
       "    <tr>\n",
       "      <th>MH33D6-R</th>\n",
       "      <th>2022-12-30</th>\n",
       "      <td>-1.432398</td>\n",
       "    </tr>\n",
       "  </tbody>\n",
       "</table>\n",
       "</div>"
      ],
      "text/plain": [
       "                     ebitMgnFwdChg3Yr\n",
       "symbol   datetime                    \n",
       "MH33D6-R 2022-12-30         -1.432398"
      ]
     },
     "execution_count": 8,
     "metadata": {},
     "output_type": "execute_result"
    }
   ],
   "source": [
    "handler = handler.load(\n",
    "    data_source, # type: ignore\n",
    "    data_type='quants_factor_data',\n",
    "    list_symbols=\"AAPL-US\",\n",
    "    list_factors=\"ebitMgnFwdChg3Yr\",\n",
    "    list_tickers=\"MH33D6-R\",\n",
    "    freq=\"CY\",  # [\"D\", \"W\", \"M\", \"AM\", \"CQ\", \"AY\", \"CY\"]\n",
    "    start_datetime=\"2023-01-01\",\n",
    "    end_datetime=\"2023-02-01\",\n",
    "    # num_chunks=10,\n",
    ")\n",
    "df_symbol = handler.retrieve(transformed=False)\n",
    "df_symbol.head(20)"
   ]
  },
  {
   "cell_type": "markdown",
   "id": "db4eb052",
   "metadata": {},
   "source": [
    "### Pattern 4: Look up FSYM_ID to be added to num_chunk parameter.\n",
    "\n",
    "\n",
    "num_chunk(chunksize) is a parameter used to split large data into smaller parts to be read in."
   ]
  },
  {
   "cell_type": "code",
   "execution_count": 9,
   "id": "ef39caf4",
   "metadata": {},
   "outputs": [
    {
     "data": {
      "text/html": [
       "<div>\n",
       "<style scoped>\n",
       "    .dataframe tbody tr th:only-of-type {\n",
       "        vertical-align: middle;\n",
       "    }\n",
       "\n",
       "    .dataframe tbody tr th {\n",
       "        vertical-align: top;\n",
       "    }\n",
       "\n",
       "    .dataframe thead th {\n",
       "        text-align: right;\n",
       "    }\n",
       "</style>\n",
       "<table border=\"1\" class=\"dataframe\">\n",
       "  <thead>\n",
       "    <tr style=\"text-align: right;\">\n",
       "      <th></th>\n",
       "      <th></th>\n",
       "      <th>ebitMgnFwdChg3Yr</th>\n",
       "    </tr>\n",
       "    <tr>\n",
       "      <th>symbol</th>\n",
       "      <th>datetime</th>\n",
       "      <th></th>\n",
       "    </tr>\n",
       "  </thead>\n",
       "  <tbody>\n",
       "    <tr>\n",
       "      <th>MH33D6-R</th>\n",
       "      <th>2023-01-31</th>\n",
       "      <td>-1.376834</td>\n",
       "    </tr>\n",
       "  </tbody>\n",
       "</table>\n",
       "</div>"
      ],
      "text/plain": [
       "                     ebitMgnFwdChg3Yr\n",
       "symbol   datetime                    \n",
       "MH33D6-R 2023-01-31         -1.376834"
      ]
     },
     "execution_count": 9,
     "metadata": {},
     "output_type": "execute_result"
    }
   ],
   "source": [
    "# The input argment for FSYM_ID is `factset_id`.\n",
    "handler = handler.load(\n",
    "    data_source, # type: ignore\n",
    "    data_type='quants_factor_data',\n",
    "    list_symbols=\"AAPL-US\",\n",
    "    list_factors=\"ebitMgnFwdChg3Yr\",\n",
    "    # list_tickers=\"MH33D6-R\",\n",
    "    # freq=\"CY\",  # kore\n",
    "    start_datetime=\"2023-01-01\",\n",
    "    end_datetime=\"2023-02-01\",\n",
    "    num_chunks=100,\n",
    "\n",
    ")\n",
    "df_symbol = handler.retrieve(transformed=False)\n",
    "df_symbol.head(20)"
   ]
  },
  {
   "cell_type": "markdown",
   "id": "91919835-2a1b-4750-944f-789dba847300",
   "metadata": {},
   "source": [
    "#### Caution: You must provide 'list_factors' and can not do provide both 'list_tickers' and 'list_symbols' at the same time"
   ]
  },
  {
   "cell_type": "markdown",
   "id": "ab7ce2ab",
   "metadata": {},
   "source": [
    "Either 'list_tickers' or 'list_symbols' must be provided, so both parameter can not be empty."
   ]
  },
  {
   "cell_type": "code",
   "execution_count": 10,
   "id": "37bfc211-7aab-4e58-b250-ca97ac8ffd61",
   "metadata": {},
   "outputs": [
    {
     "ename": "ValueError",
     "evalue": "Either 'list_tickers' or 'list_symbols' must be provided, but both are empty.",
     "output_type": "error",
     "traceback": [
      "\u001b[0;31m---------------------------------------------------------------------------\u001b[0m",
      "\u001b[0;31mValueError\u001b[0m                                Traceback (most recent call last)",
      "Input \u001b[0;32mIn [10]\u001b[0m, in \u001b[0;36m<cell line: 2>\u001b[0;34m()\u001b[0m\n\u001b[1;32m      1\u001b[0m \u001b[38;5;66;03m# An error is thrown if you input without both 'list_tickers' and 'list_symbols'.\u001b[39;00m\n\u001b[0;32m----> 2\u001b[0m handler \u001b[38;5;241m=\u001b[39m \u001b[43mhandler\u001b[49m\u001b[38;5;241;43m.\u001b[39;49m\u001b[43mload\u001b[49m\u001b[43m(\u001b[49m\n\u001b[1;32m      3\u001b[0m \u001b[43m    \u001b[49m\u001b[43mdata_source\u001b[49m\u001b[43m,\u001b[49m\u001b[43m \u001b[49m\u001b[38;5;66;43;03m# type: ignore\u001b[39;49;00m\n\u001b[1;32m      4\u001b[0m \u001b[43m    \u001b[49m\u001b[43mdata_type\u001b[49m\u001b[38;5;241;43m=\u001b[39;49m\u001b[38;5;124;43m'\u001b[39;49m\u001b[38;5;124;43mquants_factor_data\u001b[39;49m\u001b[38;5;124;43m'\u001b[39;49m\u001b[43m,\u001b[49m\n\u001b[1;32m      5\u001b[0m \u001b[43m    \u001b[49m\u001b[38;5;66;43;03m# list_symbols=\"AAPL-US\",\u001b[39;49;00m\n\u001b[1;32m      6\u001b[0m \u001b[43m    \u001b[49m\u001b[43mlist_factors\u001b[49m\u001b[38;5;241;43m=\u001b[39;49m\u001b[38;5;124;43m\"\u001b[39;49m\u001b[38;5;124;43mebitMgnFwdChg3Yr\u001b[39;49m\u001b[38;5;124;43m\"\u001b[39;49m\u001b[43m,\u001b[49m\n\u001b[1;32m      7\u001b[0m \u001b[43m    \u001b[49m\u001b[38;5;66;43;03m# list_tickers=\"MH33D6-R\",\u001b[39;49;00m\n\u001b[1;32m      8\u001b[0m \u001b[43m    \u001b[49m\u001b[43mfreq\u001b[49m\u001b[38;5;241;43m=\u001b[39;49m\u001b[38;5;124;43m\"\u001b[39;49m\u001b[38;5;124;43mCY\u001b[39;49m\u001b[38;5;124;43m\"\u001b[39;49m\u001b[43m,\u001b[49m\n\u001b[1;32m      9\u001b[0m \u001b[43m    \u001b[49m\u001b[43mstart_datetime\u001b[49m\u001b[38;5;241;43m=\u001b[39;49m\u001b[38;5;124;43m\"\u001b[39;49m\u001b[38;5;124;43m2023-01-01\u001b[39;49m\u001b[38;5;124;43m\"\u001b[39;49m\u001b[43m,\u001b[49m\n\u001b[1;32m     10\u001b[0m \u001b[43m    \u001b[49m\u001b[43mend_datetime\u001b[49m\u001b[38;5;241;43m=\u001b[39;49m\u001b[38;5;124;43m\"\u001b[39;49m\u001b[38;5;124;43m2023-02-01\u001b[39;49m\u001b[38;5;124;43m\"\u001b[39;49m\u001b[43m,\u001b[49m\n\u001b[1;32m     11\u001b[0m \u001b[43m    \u001b[49m\u001b[43mnum_chunks\u001b[49m\u001b[38;5;241;43m=\u001b[39;49m\u001b[38;5;241;43m10\u001b[39;49m\u001b[43m,\u001b[49m\n\u001b[1;32m     12\u001b[0m \u001b[43m)\u001b[49m\n\u001b[1;32m     13\u001b[0m df_symbol \u001b[38;5;241m=\u001b[39m handler\u001b[38;5;241m.\u001b[39mretrieve(transformed\u001b[38;5;241m=\u001b[39m\u001b[38;5;28;01mFalse\u001b[39;00m)\n\u001b[1;32m     14\u001b[0m df_symbol\u001b[38;5;241m.\u001b[39mhead(\u001b[38;5;241m20\u001b[39m)\n",
      "File \u001b[0;32m~/workspace/rep/asr_protected/asr_protected/data_handler/impl/std_data_handler.py:252\u001b[0m, in \u001b[0;36mStdDataHandler.load\u001b[0;34m(self, data_source, **kwargs)\u001b[0m\n\u001b[1;32m    235\u001b[0m \u001b[38;5;28;01mdef\u001b[39;00m \u001b[38;5;21mload\u001b[39m(\u001b[38;5;28mself\u001b[39m, data_source: \u001b[38;5;28mstr\u001b[39m \u001b[38;5;241m=\u001b[39m \u001b[38;5;124m'\u001b[39m\u001b[38;5;124mstd\u001b[39m\u001b[38;5;124m'\u001b[39m, \u001b[38;5;241m*\u001b[39m\u001b[38;5;241m*\u001b[39mkwargs) \u001b[38;5;241m-\u001b[39m\u001b[38;5;241m>\u001b[39m TSelf:\n\u001b[1;32m    236\u001b[0m \u001b[38;5;250m    \u001b[39m\u001b[38;5;124;03m\"\"\"Loads data from a specified source, returning the instance for method chaining.\u001b[39;00m\n\u001b[1;32m    237\u001b[0m \n\u001b[1;32m    238\u001b[0m \u001b[38;5;124;03m    Parameters\u001b[39;00m\n\u001b[0;32m   (...)\u001b[0m\n\u001b[1;32m    250\u001b[0m \u001b[38;5;124;03m    See separate documentation for `data_source`-specific parameters.\u001b[39;00m\n\u001b[1;32m    251\u001b[0m \u001b[38;5;124;03m    \"\"\"\u001b[39;00m\n\u001b[0;32m--> 252\u001b[0m     data_loader \u001b[38;5;241m=\u001b[39m \u001b[38;5;28;43mself\u001b[39;49m\u001b[38;5;241;43m.\u001b[39;49m\u001b[43mextract\u001b[49m\u001b[43m(\u001b[49m\u001b[43mdata_source\u001b[49m\u001b[38;5;241;43m=\u001b[39;49m\u001b[43mdata_source\u001b[49m\u001b[43m,\u001b[49m\u001b[43m \u001b[49m\u001b[38;5;241;43m*\u001b[39;49m\u001b[38;5;241;43m*\u001b[39;49m\u001b[43mkwargs\u001b[49m\u001b[43m)\u001b[49m\n\u001b[1;32m    253\u001b[0m     \u001b[38;5;28mself\u001b[39m\u001b[38;5;241m.\u001b[39m_last_data_loader \u001b[38;5;241m=\u001b[39m data_loader\n\u001b[1;32m    254\u001b[0m     \u001b[38;5;28;01mreturn\u001b[39;00m \u001b[38;5;28mself\u001b[39m\n",
      "File \u001b[0;32m~/workspace/rep/asr_protected/asr_protected/data_manager/extraction/manager.py:53\u001b[0m, in \u001b[0;36mDataManager.__call__\u001b[0;34m(self, data_source, **kwargs)\u001b[0m\n\u001b[1;32m     40\u001b[0m \u001b[38;5;250m\u001b[39m\u001b[38;5;124;03m\"\"\"Data loading process according to data_source\u001b[39;00m\n\u001b[1;32m     41\u001b[0m \n\u001b[1;32m     42\u001b[0m \u001b[38;5;124;03mParameters\u001b[39;00m\n\u001b[0;32m   (...)\u001b[0m\n\u001b[1;32m     50\u001b[0m \u001b[38;5;124;03m    DataLoader object corresponding to the data source\u001b[39;00m\n\u001b[1;32m     51\u001b[0m \u001b[38;5;124;03m\"\"\"\u001b[39;00m\n\u001b[1;32m     52\u001b[0m data_loader \u001b[38;5;241m=\u001b[39m get_data_loader(data_source)\n\u001b[0;32m---> 53\u001b[0m holders \u001b[38;5;241m=\u001b[39m \u001b[43mgenerate_loader\u001b[49m\u001b[43m(\u001b[49m\u001b[43mdata_loader\u001b[49m\u001b[43m,\u001b[49m\u001b[43m \u001b[49m\u001b[43mkwargs\u001b[49m\u001b[43m)\u001b[49m\n\u001b[1;32m     54\u001b[0m data_ids \u001b[38;5;241m=\u001b[39m [\u001b[38;5;28mself\u001b[39m\u001b[38;5;241m.\u001b[39mset_holder(h) \u001b[38;5;28;01mfor\u001b[39;00m h \u001b[38;5;129;01min\u001b[39;00m holders]\n\u001b[1;32m     55\u001b[0m \u001b[38;5;28;01mreturn\u001b[39;00m data_loader\n",
      "File \u001b[0;32m~/workspace/rep/asr_protected/asr_protected/data_manager/extraction/manager.py:226\u001b[0m, in \u001b[0;36mgenerate_loader\u001b[0;34m(loader, kwargs)\u001b[0m\n\u001b[1;32m    224\u001b[0m \u001b[38;5;28;01mdef\u001b[39;00m \u001b[38;5;21mgenerate_loader\u001b[39m(loader: DataLoader, kwargs):\n\u001b[0;32m--> 226\u001b[0m     \u001b[43mloader\u001b[49m\u001b[38;5;241;43m.\u001b[39;49m\u001b[43mload\u001b[49m\u001b[43m(\u001b[49m\u001b[38;5;241;43m*\u001b[39;49m\u001b[38;5;241;43m*\u001b[39;49m\u001b[43mkwargs\u001b[49m\u001b[43m)\u001b[49m\n\u001b[1;32m    227\u001b[0m     holders \u001b[38;5;241m=\u001b[39m []\n\u001b[1;32m    228\u001b[0m     \u001b[38;5;28;01mif\u001b[39;00m loader\u001b[38;5;241m.\u001b[39m\u001b[38;5;18m__class__\u001b[39m \u001b[38;5;129;01mis\u001b[39;00m StdDataLoader:\n",
      "File \u001b[0;32m~/workspace/rep/asr_protected/asr_protected/data_loader/abs/data_loader.py:67\u001b[0m, in \u001b[0;36mAbstractDataLoader.load\u001b[0;34m(self, **kwargs)\u001b[0m\n\u001b[1;32m     58\u001b[0m \u001b[38;5;28;01mdef\u001b[39;00m \u001b[38;5;21mload\u001b[39m(\n\u001b[1;32m     59\u001b[0m         \u001b[38;5;28mself\u001b[39m,\n\u001b[1;32m     60\u001b[0m         \u001b[38;5;241m*\u001b[39m\u001b[38;5;241m*\u001b[39mkwargs: Any\n\u001b[1;32m     61\u001b[0m ) \u001b[38;5;241m-\u001b[39m\u001b[38;5;241m>\u001b[39m \u001b[38;5;28;01mNone\u001b[39;00m:\n\u001b[1;32m     62\u001b[0m \u001b[38;5;250m    \u001b[39m\u001b[38;5;124;03m\"\"\"\u001b[39;00m\n\u001b[1;32m     63\u001b[0m \u001b[38;5;124;03m    Get data from DB and store it to memory of instance\u001b[39;00m\n\u001b[1;32m     64\u001b[0m \u001b[38;5;124;03m    :param search_obj: search object\u001b[39;00m\n\u001b[1;32m     65\u001b[0m \u001b[38;5;124;03m    :return:\u001b[39;00m\n\u001b[1;32m     66\u001b[0m \u001b[38;5;124;03m    \"\"\"\u001b[39;00m\n\u001b[0;32m---> 67\u001b[0m     valid_dict \u001b[38;5;241m=\u001b[39m \u001b[38;5;28;43mself\u001b[39;49m\u001b[38;5;241;43m.\u001b[39;49m\u001b[43mvalidation_for_load\u001b[49m\u001b[43m(\u001b[49m\u001b[38;5;241;43m*\u001b[39;49m\u001b[38;5;241;43m*\u001b[39;49m\u001b[43mkwargs\u001b[49m\u001b[43m)\u001b[49m\n\u001b[1;32m     68\u001b[0m     \u001b[38;5;28mself\u001b[39m\u001b[38;5;241m.\u001b[39mimp_load(\u001b[38;5;241m*\u001b[39m\u001b[38;5;241m*\u001b[39mvalid_dict)\n\u001b[1;32m     69\u001b[0m     \u001b[38;5;28;01mreturn\u001b[39;00m \u001b[38;5;28mself\u001b[39m\n",
      "File \u001b[0;32m~/workspace/rep/asr_protected/asr_protected/data_loader/impl/factset_data_loader.py:186\u001b[0m, in \u001b[0;36mFactsetDataLoader.validation_for_load\u001b[0;34m(self, **kwargs)\u001b[0m\n\u001b[1;32m    184\u001b[0m     obj \u001b[38;5;241m=\u001b[39m FactorFactsetQuantsFactorDataAcquirerObj(\u001b[38;5;241m*\u001b[39m\u001b[38;5;241m*\u001b[39mval_data)\n\u001b[1;32m    185\u001b[0m     acq \u001b[38;5;241m=\u001b[39m FactorFactsetQuantsFactorDataAcquirer(\u001b[38;5;28;01mNone\u001b[39;00m, data_type\u001b[38;5;241m=\u001b[39mdf_type)  \u001b[38;5;66;03m# type: ignore\u001b[39;00m\n\u001b[0;32m--> 186\u001b[0m     data \u001b[38;5;241m=\u001b[39m \u001b[43macq\u001b[49m\u001b[38;5;241;43m.\u001b[39;49m\u001b[43mbefore_validation\u001b[49m\u001b[43m(\u001b[49m\u001b[43mobj\u001b[49m\u001b[43m)\u001b[49m  \u001b[38;5;66;03m# data is not used. if validation fails, Occur Error message and stop.\u001b[39;00m\n\u001b[1;32m    187\u001b[0m \u001b[38;5;28;01melif\u001b[39;00m data_type\u001b[38;5;241m.\u001b[39mlower() \u001b[38;5;241m==\u001b[39m \u001b[38;5;124m'\u001b[39m\u001b[38;5;124mquants_factor_list\u001b[39m\u001b[38;5;124m'\u001b[39m:\n\u001b[1;32m    188\u001b[0m     obj \u001b[38;5;241m=\u001b[39m FactorFactsetQuantsFactorListAcquirerObj(\u001b[38;5;241m*\u001b[39m\u001b[38;5;241m*\u001b[39mval_data)\n",
      "File \u001b[0;32m~/workspace/rep/asr_protected/asr_protected/data_acquirer/impl/factor_factset_quants_factor_data_acquirer.py:147\u001b[0m, in \u001b[0;36mFactorFactsetQuantsFactorDataAcquirer.before_validation\u001b[0;34m(self, search_obj)\u001b[0m\n\u001b[1;32m    145\u001b[0m \u001b[38;5;66;03m# 'Make sure either 'list_tickers' or 'list_symbols' is provided\u001b[39;00m\n\u001b[1;32m    146\u001b[0m \u001b[38;5;28;01mif\u001b[39;00m \u001b[38;5;129;01mnot\u001b[39;00m (search_obj\u001b[38;5;241m.\u001b[39mlist_tickers \u001b[38;5;129;01mor\u001b[39;00m search_obj\u001b[38;5;241m.\u001b[39mlist_symbols):\n\u001b[0;32m--> 147\u001b[0m     \u001b[38;5;28;01mraise\u001b[39;00m \u001b[38;5;167;01mValueError\u001b[39;00m(\n\u001b[1;32m    148\u001b[0m         \u001b[38;5;124m\"\u001b[39m\u001b[38;5;124mEither \u001b[39m\u001b[38;5;124m'\u001b[39m\u001b[38;5;124mlist_tickers\u001b[39m\u001b[38;5;124m'\u001b[39m\u001b[38;5;124m or \u001b[39m\u001b[38;5;124m'\u001b[39m\u001b[38;5;124mlist_symbols\u001b[39m\u001b[38;5;124m'\u001b[39m\u001b[38;5;124m must be provided, but both are empty.\u001b[39m\u001b[38;5;124m\"\u001b[39m\n\u001b[1;32m    149\u001b[0m     )\n\u001b[1;32m    151\u001b[0m \u001b[38;5;28;01mreturn\u001b[39;00m search_obj\n",
      "\u001b[0;31mValueError\u001b[0m: Either 'list_tickers' or 'list_symbols' must be provided, but both are empty."
     ]
    }
   ],
   "source": [
    "# An error is thrown if you input without both 'list_tickers' and 'list_symbols'.\n",
    "handler = handler.load(\n",
    "    data_source, # type: ignore\n",
    "    data_type='quants_factor_data',\n",
    "    # list_symbols=\"AAPL-US\",\n",
    "    list_factors=\"ebitMgnFwdChg3Yr\",\n",
    "    # list_tickers=\"MH33D6-R\",\n",
    "    freq=\"CY\",\n",
    "    start_datetime=\"2023-01-01\",\n",
    "    end_datetime=\"2023-02-01\",\n",
    "    num_chunks=10,\n",
    ")\n",
    "df_symbol = handler.retrieve(transformed=False)\n",
    "df_symbol.head(20)"
   ]
  }
 ],
 "metadata": {
  "kernelspec": {
   "display_name": "factset_demo",
   "language": "python",
   "name": "factset_demo"
  },
  "language_info": {
   "codemirror_mode": {
    "name": "ipython",
    "version": 3
   },
   "file_extension": ".py",
   "mimetype": "text/x-python",
   "name": "python",
   "nbconvert_exporter": "python",
   "pygments_lexer": "ipython3",
   "version": "3.9.18"
  }
 },
 "nbformat": 4,
 "nbformat_minor": 5
}
