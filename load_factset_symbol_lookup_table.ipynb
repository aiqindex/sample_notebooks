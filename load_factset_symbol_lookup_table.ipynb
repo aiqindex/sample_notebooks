{
 "cells": [
  {
   "attachments": {
    "369683ab-11e5-4a58-a715-a106f9f68f74.png": {
     "image/png": "[encoded data removed]"
    }
   },
   "cell_type": "markdown",
   "id": "54096a05-08aa-4ea9-8389-bfa49fb4b56d",
   "metadata": {
    "tags": []
   },
   "source": [
    "![image.png](attachment:369683ab-11e5-4a58-a715-a106f9f68f74.png)\n",
    "\n",
    "[disclaimer](./disclaimer.txt/)"
   ]
  },
  {
   "cell_type": "markdown",
   "id": "1f27da9c-cae6-408f-9cc4-cc31c38507fd",
   "metadata": {},
   "source": [
    "# How to look up COMPANY ID and tickers for FACTSET Data\n",
    "This sample show how to achieve the following operation with a simple interface:\n",
    "- Look up the unique FACTSET instrument ID (FSYM_ID) from a company name\n",
    "- Look up the unique FACTSET instrument ID from a ticker\n",
    "- Look up the unique FACTSET instrument ID from Bloomberg ticker and FIGI.\n",
    "- Look up tickers from FACTSET company IDs"
   ]
  },
  {
   "cell_type": "markdown",
   "id": "825c7b46-c3a9-4eed-ba97-c86f3076f766",
   "metadata": {},
   "source": [
    "## `DAL`  Data Accessor Library \n",
    "> DAL access data from FACTSET database / API for Equity Data  ## Import ASR Data Accessor Library (DAL)"
   ]
  },
  {
   "cell_type": "code",
   "execution_count": 1,
   "id": "02fe8b76-6b0d-403b-8fc1-73ad2e8d5615",
   "metadata": {},
   "outputs": [],
   "source": [
    "from aiq_strategy_robot.data.data_accessor import DAL\n",
    "from aiq_strategy_robot.data.FACTSET.load_factset_symbol_lookup import load_factset_symbol_lookup"
   ]
  },
  {
   "cell_type": "code",
   "execution_count": 2,
   "id": "480a0222-aea3-4fc1-b360-e081c20008de",
   "metadata": {},
   "outputs": [],
   "source": [
    "from aiq_strategy_robot.data.data_accessor import DAL\n",
    "handler = DAL()\n",
    "data_source = 'FACTSET'"
   ]
  },
  {
   "cell_type": "markdown",
   "id": "ab9dfdf4-0926-488c-8bdc-33c084dcf950",
   "metadata": {},
   "source": [
    "## Pattern 1: look up FACTSET unique company ID (FSYM_ID) from a company name.\n",
    "### **`load_factset_symbol_lookup`**"
   ]
  },
  {
   "cell_type": "code",
   "execution_count": 3,
   "id": "06bada5a-f0ab-4a98-a0fb-f40d562c9434",
   "metadata": {},
   "outputs": [
    {
     "data": {
      "text/html": [
       "<div>\n",
       "<style scoped>\n",
       "    .dataframe tbody tr th:only-of-type {\n",
       "        vertical-align: middle;\n",
       "    }\n",
       "\n",
       "    .dataframe tbody tr th {\n",
       "        vertical-align: top;\n",
       "    }\n",
       "\n",
       "    .dataframe thead th {\n",
       "        text-align: right;\n",
       "    }\n",
       "</style>\n",
       "<table border=\"1\" class=\"dataframe\">\n",
       "  <thead>\n",
       "    <tr style=\"text-align: right;\">\n",
       "      <th></th>\n",
       "      <th>FSYM_ID</th>\n",
       "      <th>FSYM_SECURITY_ID</th>\n",
       "      <th>FACTSET_ENTITY_ID</th>\n",
       "      <th>TICKER</th>\n",
       "      <th>COMPANY_NAME</th>\n",
       "      <th>EXCHANGE_CODE</th>\n",
       "      <th>CURRENCY</th>\n",
       "      <th>BBG_TICKER</th>\n",
       "      <th>FIGI</th>\n",
       "    </tr>\n",
       "  </thead>\n",
       "  <tbody>\n",
       "    <tr>\n",
       "      <th>0</th>\n",
       "      <td>BS0GWP-R</td>\n",
       "      <td>VPX5WF-S</td>\n",
       "      <td>05HWCG-E</td>\n",
       "      <td>8035-JP</td>\n",
       "      <td>Tokyo Electron Ltd.</td>\n",
       "      <td>TKS</td>\n",
       "      <td>JPY</td>\n",
       "      <td>8035 JP</td>\n",
       "      <td>BBG000BB59S7</td>\n",
       "    </tr>\n",
       "    <tr>\n",
       "      <th>3</th>\n",
       "      <td>MCQXPF-R</td>\n",
       "      <td>DBQDNQ-S</td>\n",
       "      <td>05HZPZ-E</td>\n",
       "      <td>1332-JP</td>\n",
       "      <td>Nissui Corporation</td>\n",
       "      <td>OSE</td>\n",
       "      <td>JPY</td>\n",
       "      <td>1332 JP</td>\n",
       "      <td>BBG000BH5GX2</td>\n",
       "    </tr>\n",
       "    <tr>\n",
       "      <th>4</th>\n",
       "      <td>MCQXPF-R</td>\n",
       "      <td>DBQDNQ-S</td>\n",
       "      <td>05HZPZ-E</td>\n",
       "      <td>1332-JP</td>\n",
       "      <td>Nissui Corporation</td>\n",
       "      <td>TKS</td>\n",
       "      <td>JPY</td>\n",
       "      <td>1332 JP</td>\n",
       "      <td>BBG000BH5GX2</td>\n",
       "    </tr>\n",
       "  </tbody>\n",
       "</table>\n",
       "</div>"
      ],
      "text/plain": [
       "    FSYM_ID FSYM_SECURITY_ID FACTSET_ENTITY_ID   TICKER         COMPANY_NAME  \\\n",
       "0  BS0GWP-R         VPX5WF-S          05HWCG-E  8035-JP  Tokyo Electron Ltd.   \n",
       "3  MCQXPF-R         DBQDNQ-S          05HZPZ-E  1332-JP   Nissui Corporation   \n",
       "4  MCQXPF-R         DBQDNQ-S          05HZPZ-E  1332-JP   Nissui Corporation   \n",
       "\n",
       "  EXCHANGE_CODE CURRENCY BBG_TICKER          FIGI  \n",
       "0           TKS      JPY    8035 JP  BBG000BB59S7  \n",
       "3           OSE      JPY    1332 JP  BBG000BH5GX2  \n",
       "4           TKS      JPY    1332 JP  BBG000BH5GX2  "
      ]
     },
     "execution_count": 3,
     "metadata": {},
     "output_type": "execute_result"
    }
   ],
   "source": [
    "handler = load_factset_symbol_lookup(\n",
    "    handler,\n",
    "    figi = ['BBG000BH5GX2', 'BBG000BB59S7'],\n",
    "    currency_code='JPY',\n",
    "    exchange_code='TKS',\n",
    "    pick_only_primary=True\n",
    ")\n",
    "df_symbol = handler.retrieve(transformed=False)\n",
    "df_symbol.head(20)"
   ]
  },
  {
   "cell_type": "markdown",
   "id": "ea33f29e",
   "metadata": {},
   "source": [
    "### Data Access Handler  \n",
    "Load the data to memory\n",
    "\n",
    "same return as **load_factset_symbol_lookup**\n",
    "```\n",
    "handler = load_factset_symbol_lookup(\n",
    "    handler,\n",
    "    company_name='Tokyo Electron',\n",
    "    currency_code='JPY',\n",
    "    exchange_code='TKS',\n",
    "    pick_only_primary=True\n",
    ")\n",
    "```"
   ]
  },
  {
   "cell_type": "code",
   "execution_count": 4,
   "id": "2fc7266c-b09f-4ede-9a08-4fec088d5811",
   "metadata": {},
   "outputs": [],
   "source": [
    "# `data_type` must be 'symbol_lookup'\n",
    "handler = handler.load(\n",
    "    data_source,\n",
    "    data_type='symbol_lookup',\n",
    "    company_name='Tokyo Electron'\n",
    ")"
   ]
  },
  {
   "cell_type": "markdown",
   "id": "376d1424",
   "metadata": {},
   "source": [
    "#### **Retrieve**\n",
    "> `Pandas.DataFrame` the loaded data via `retrieve`"
   ]
  },
  {
   "cell_type": "code",
   "execution_count": 16,
   "id": "c05520fe-c447-4d8d-8c4e-00ddc477b9df",
   "metadata": {},
   "outputs": [
    {
     "data": {
      "text/html": [
       "<div>\n",
       "<style scoped>\n",
       "    .dataframe tbody tr th:only-of-type {\n",
       "        vertical-align: middle;\n",
       "    }\n",
       "\n",
       "    .dataframe tbody tr th {\n",
       "        vertical-align: top;\n",
       "    }\n",
       "\n",
       "    .dataframe thead th {\n",
       "        text-align: right;\n",
       "    }\n",
       "</style>\n",
       "<table border=\"1\" class=\"dataframe\">\n",
       "  <thead>\n",
       "    <tr style=\"text-align: right;\">\n",
       "      <th></th>\n",
       "      <th>FSYM_ID</th>\n",
       "      <th>FSYM_SECURITY_ID</th>\n",
       "      <th>FACTSET_ENTITY_ID</th>\n",
       "      <th>TICKER</th>\n",
       "      <th>COMPANY_NAME</th>\n",
       "      <th>EXCHANGE_CODE</th>\n",
       "      <th>CURRENCY</th>\n",
       "      <th>FIGI</th>\n",
       "      <th>BBG_TICKER</th>\n",
       "      <th>FSYM_PRIMARY_LISTING_ID</th>\n",
       "    </tr>\n",
       "  </thead>\n",
       "  <tbody>\n",
       "    <tr>\n",
       "      <th>0</th>\n",
       "      <td>BS0GWP-R</td>\n",
       "      <td>VPX5WF-S</td>\n",
       "      <td>05HWCG-E</td>\n",
       "      <td>8035-JP</td>\n",
       "      <td>Tokyo Electron Ltd.</td>\n",
       "      <td>TKS</td>\n",
       "      <td>JPY</td>\n",
       "      <td>BBG000BB59S7</td>\n",
       "      <td>8035 JP</td>\n",
       "      <td>VK87BB-L</td>\n",
       "    </tr>\n",
       "  </tbody>\n",
       "</table>\n",
       "</div>"
      ],
      "text/plain": [
       "    FSYM_ID FSYM_SECURITY_ID FACTSET_ENTITY_ID   TICKER         COMPANY_NAME  \\\n",
       "0  BS0GWP-R         VPX5WF-S          05HWCG-E  8035-JP  Tokyo Electron Ltd.   \n",
       "\n",
       "  EXCHANGE_CODE CURRENCY          FIGI BBG_TICKER FSYM_PRIMARY_LISTING_ID  \n",
       "0           TKS      JPY  BBG000BB59S7    8035 JP                VK87BB-L  "
      ]
     },
     "execution_count": 16,
     "metadata": {},
     "output_type": "execute_result"
    }
   ],
   "source": [
    "df_symbol = handler.retrieve(transformed=False)\n",
    "df_symbol.head()"
   ]
  },
  {
   "cell_type": "markdown",
   "id": "1c68029b-9aad-4f9d-8c88-4d62cb9b3fd4",
   "metadata": {},
   "source": [
    "#### Too many results were retrieved.\n",
    "> The search result can be made shorter by specifying currency_code and/or exchange_code."
   ]
  },
  {
   "cell_type": "code",
   "execution_count": 11,
   "id": "1d7a707d-5c1c-4648-a927-c762400218e3",
   "metadata": {},
   "outputs": [
    {
     "data": {
      "text/html": [
       "<div>\n",
       "<style scoped>\n",
       "    .dataframe tbody tr th:only-of-type {\n",
       "        vertical-align: middle;\n",
       "    }\n",
       "\n",
       "    .dataframe tbody tr th {\n",
       "        vertical-align: top;\n",
       "    }\n",
       "\n",
       "    .dataframe thead th {\n",
       "        text-align: right;\n",
       "    }\n",
       "</style>\n",
       "<table border=\"1\" class=\"dataframe\">\n",
       "  <thead>\n",
       "    <tr style=\"text-align: right;\">\n",
       "      <th></th>\n",
       "      <th>FSYM_ID</th>\n",
       "      <th>FSYM_SECURITY_ID</th>\n",
       "      <th>FACTSET_ENTITY_ID</th>\n",
       "      <th>TICKER</th>\n",
       "      <th>EXCHANGE_CODE</th>\n",
       "      <th>CURRENCY</th>\n",
       "      <th>COMPANY_NAME</th>\n",
       "      <th>FIGI</th>\n",
       "      <th>BBG_TICKER</th>\n",
       "      <th>FSYM_PRIMARY_LISTING_ID</th>\n",
       "    </tr>\n",
       "  </thead>\n",
       "  <tbody>\n",
       "    <tr>\n",
       "      <th>0</th>\n",
       "      <td>BS0GWP-R</td>\n",
       "      <td>VPX5WF-S</td>\n",
       "      <td>05HWCG-E</td>\n",
       "      <td>8035-JP</td>\n",
       "      <td>TKS</td>\n",
       "      <td>JPY</td>\n",
       "      <td>Tokyo Electron Ltd.</td>\n",
       "      <td>BBG000BB59S7</td>\n",
       "      <td>8035 JP</td>\n",
       "      <td>VK87BB-L</td>\n",
       "    </tr>\n",
       "    <tr>\n",
       "      <th>1</th>\n",
       "      <td>GGQTN7-R</td>\n",
       "      <td>TXYRXP-S</td>\n",
       "      <td>05S7MV-E</td>\n",
       "      <td>2760-JP</td>\n",
       "      <td>TKS</td>\n",
       "      <td>JPY</td>\n",
       "      <td>Tokyo Electron Device Limited</td>\n",
       "      <td>BBG000FDZ3B7</td>\n",
       "      <td>2760 JP</td>\n",
       "      <td>QG32RQ-L</td>\n",
       "    </tr>\n",
       "    <tr>\n",
       "      <th>2</th>\n",
       "      <td>F05SL2-R</td>\n",
       "      <td>BV5HQL-S</td>\n",
       "      <td>05S7MV-E</td>\n",
       "      <td>27601-JP</td>\n",
       "      <td>TKS</td>\n",
       "      <td>JPY</td>\n",
       "      <td>Tokyo Electron Device Npv Deferred Settlement ...</td>\n",
       "      <td>BBG000BJ47F9</td>\n",
       "      <td>None</td>\n",
       "      <td>S26FBH-L</td>\n",
       "    </tr>\n",
       "  </tbody>\n",
       "</table>\n",
       "</div>"
      ],
      "text/plain": [
       "    FSYM_ID FSYM_SECURITY_ID FACTSET_ENTITY_ID    TICKER EXCHANGE_CODE  \\\n",
       "0  BS0GWP-R         VPX5WF-S          05HWCG-E   8035-JP           TKS   \n",
       "1  GGQTN7-R         TXYRXP-S          05S7MV-E   2760-JP           TKS   \n",
       "2  F05SL2-R         BV5HQL-S          05S7MV-E  27601-JP           TKS   \n",
       "\n",
       "  CURRENCY                                       COMPANY_NAME          FIGI  \\\n",
       "0      JPY                                Tokyo Electron Ltd.  BBG000BB59S7   \n",
       "1      JPY                      Tokyo Electron Device Limited  BBG000FDZ3B7   \n",
       "2      JPY  Tokyo Electron Device Npv Deferred Settlement ...  BBG000BJ47F9   \n",
       "\n",
       "  BBG_TICKER FSYM_PRIMARY_LISTING_ID  \n",
       "0    8035 JP                VK87BB-L  \n",
       "1    2760 JP                QG32RQ-L  \n",
       "2       None                S26FBH-L  "
      ]
     },
     "execution_count": 11,
     "metadata": {},
     "output_type": "execute_result"
    }
   ],
   "source": [
    "# This time currency_code and exchange_code are specified.\n",
    "# pick_only_primary can be also used to focus on only the main exchange.\n",
    "handler = load_factset_symbol_lookup(\n",
    "    handler,\n",
    "    company_name='Tokyo Electron',\n",
    "    currency_code='JPY',\n",
    "    exchange_code='TKS',\n",
    "    pick_only_primary=True\n",
    ")\n",
    "df_symbol = handler.retrieve(transformed=False)\n",
    "df_symbol.head(20)"
   ]
  },
  {
   "cell_type": "markdown",
   "id": "742adab7-c577-415f-8177-ca1a4c46678d",
   "metadata": {},
   "source": [
    "### Pattern 2: Look up FSYM_ID from ticker\n",
    "> If you know the ticker, then it is quicker as in the next example."
   ]
  },
  {
   "cell_type": "code",
   "execution_count": 12,
   "id": "a48c5de6-a93b-4c6b-8233-b29c911ffbba",
   "metadata": {},
   "outputs": [
    {
     "data": {
      "text/html": [
       "<div>\n",
       "<style scoped>\n",
       "    .dataframe tbody tr th:only-of-type {\n",
       "        vertical-align: middle;\n",
       "    }\n",
       "\n",
       "    .dataframe tbody tr th {\n",
       "        vertical-align: top;\n",
       "    }\n",
       "\n",
       "    .dataframe thead th {\n",
       "        text-align: right;\n",
       "    }\n",
       "</style>\n",
       "<table border=\"1\" class=\"dataframe\">\n",
       "  <thead>\n",
       "    <tr style=\"text-align: right;\">\n",
       "      <th></th>\n",
       "      <th>FSYM_ID</th>\n",
       "      <th>FSYM_SECURITY_ID</th>\n",
       "      <th>FACTSET_ENTITY_ID</th>\n",
       "      <th>TICKER</th>\n",
       "      <th>COMPANY_NAME</th>\n",
       "      <th>EXCHANGE_CODE</th>\n",
       "      <th>CURRENCY</th>\n",
       "      <th>FIGI</th>\n",
       "      <th>BBG_TICKER</th>\n",
       "    </tr>\n",
       "  </thead>\n",
       "  <tbody>\n",
       "    <tr>\n",
       "      <th>0</th>\n",
       "      <td>BS0GWP-R</td>\n",
       "      <td>VPX5WF-S</td>\n",
       "      <td>05HWCG-E</td>\n",
       "      <td>8035-JP</td>\n",
       "      <td>Tokyo Electron Ltd.</td>\n",
       "      <td>TKS</td>\n",
       "      <td>JPY</td>\n",
       "      <td>BBG000BB59S7</td>\n",
       "      <td>8035 JP</td>\n",
       "    </tr>\n",
       "  </tbody>\n",
       "</table>\n",
       "</div>"
      ],
      "text/plain": [
       "    FSYM_ID FSYM_SECURITY_ID FACTSET_ENTITY_ID   TICKER         COMPANY_NAME  \\\n",
       "0  BS0GWP-R         VPX5WF-S          05HWCG-E  8035-JP  Tokyo Electron Ltd.   \n",
       "\n",
       "  EXCHANGE_CODE CURRENCY          FIGI BBG_TICKER  \n",
       "0           TKS      JPY  BBG000BB59S7    8035 JP  "
      ]
     },
     "execution_count": 12,
     "metadata": {},
     "output_type": "execute_result"
    }
   ],
   "source": [
    "handler = load_factset_symbol_lookup(\n",
    "    handler,\n",
    "    ticker='8035-JP',\n",
    "    currency_code='JPY',\n",
    "    exchange_code='TKS',\n",
    "    pick_only_primary=True\n",
    ")\n",
    "df_symbol = handler.retrieve(transformed=False)\n",
    "df_symbol.head(20)"
   ]
  },
  {
   "cell_type": "markdown",
   "id": "06ead081-b2fe-4301-9a71-5771379e3c10",
   "metadata": {},
   "source": [
    "### Pattern 3: Look up FSYM_ID from Bloomberg FIGI\n",
    "> Even quicker if you know the bloomberg unique company ID (FIGI)."
   ]
  },
  {
   "cell_type": "code",
   "execution_count": 13,
   "id": "a101b4b7-a503-4bbb-b770-95467aa8668e",
   "metadata": {},
   "outputs": [
    {
     "data": {
      "text/html": [
       "<div>\n",
       "<style scoped>\n",
       "    .dataframe tbody tr th:only-of-type {\n",
       "        vertical-align: middle;\n",
       "    }\n",
       "\n",
       "    .dataframe tbody tr th {\n",
       "        vertical-align: top;\n",
       "    }\n",
       "\n",
       "    .dataframe thead th {\n",
       "        text-align: right;\n",
       "    }\n",
       "</style>\n",
       "<table border=\"1\" class=\"dataframe\">\n",
       "  <thead>\n",
       "    <tr style=\"text-align: right;\">\n",
       "      <th></th>\n",
       "      <th>FSYM_ID</th>\n",
       "      <th>FSYM_SECURITY_ID</th>\n",
       "      <th>FACTSET_ENTITY_ID</th>\n",
       "      <th>TICKER</th>\n",
       "      <th>COMPANY_NAME</th>\n",
       "      <th>EXCHANGE_CODE</th>\n",
       "      <th>CURRENCY</th>\n",
       "      <th>BBG_TICKER</th>\n",
       "      <th>FIGI</th>\n",
       "    </tr>\n",
       "  </thead>\n",
       "  <tbody>\n",
       "    <tr>\n",
       "      <th>1</th>\n",
       "      <td>BS0GWP-R</td>\n",
       "      <td>VPX5WF-S</td>\n",
       "      <td>05HWCG-E</td>\n",
       "      <td>8035-JP</td>\n",
       "      <td>Tokyo Electron Ltd.</td>\n",
       "      <td>TKS</td>\n",
       "      <td>JPY</td>\n",
       "      <td>8035 JP</td>\n",
       "      <td>BBG000BB59S7</td>\n",
       "    </tr>\n",
       "  </tbody>\n",
       "</table>\n",
       "</div>"
      ],
      "text/plain": [
       "    FSYM_ID FSYM_SECURITY_ID FACTSET_ENTITY_ID   TICKER         COMPANY_NAME  \\\n",
       "1  BS0GWP-R         VPX5WF-S          05HWCG-E  8035-JP  Tokyo Electron Ltd.   \n",
       "\n",
       "  EXCHANGE_CODE CURRENCY BBG_TICKER          FIGI  \n",
       "1           TKS      JPY    8035 JP  BBG000BB59S7  "
      ]
     },
     "execution_count": 13,
     "metadata": {},
     "output_type": "execute_result"
    }
   ],
   "source": [
    "handler = load_factset_symbol_lookup(\n",
    "    handler,\n",
    "    figi='BBG000BB59S7',\n",
    "    pick_only_primary=True\n",
    ")\n",
    "df_symbol = handler.retrieve(transformed=False)\n",
    "df_symbol.head(20)"
   ]
  },
  {
   "cell_type": "markdown",
   "id": "57e7aea1-4f0b-4251-b996-93a73fe2a29d",
   "metadata": {},
   "source": [
    "### Patter 4: Look up a ticker from an FSYM_ID"
   ]
  },
  {
   "cell_type": "code",
   "execution_count": 14,
   "id": "2e465293-3da0-4880-b188-0718fdc84b2a",
   "metadata": {},
   "outputs": [
    {
     "data": {
      "text/html": [
       "<div>\n",
       "<style scoped>\n",
       "    .dataframe tbody tr th:only-of-type {\n",
       "        vertical-align: middle;\n",
       "    }\n",
       "\n",
       "    .dataframe tbody tr th {\n",
       "        vertical-align: top;\n",
       "    }\n",
       "\n",
       "    .dataframe thead th {\n",
       "        text-align: right;\n",
       "    }\n",
       "</style>\n",
       "<table border=\"1\" class=\"dataframe\">\n",
       "  <thead>\n",
       "    <tr style=\"text-align: right;\">\n",
       "      <th></th>\n",
       "      <th>FSYM_ID</th>\n",
       "      <th>FSYM_SECURITY_ID</th>\n",
       "      <th>FACTSET_ENTITY_ID</th>\n",
       "      <th>TICKER</th>\n",
       "      <th>COMPANY_NAME</th>\n",
       "      <th>EXCHANGE_CODE</th>\n",
       "      <th>CURRENCY</th>\n",
       "      <th>FIGI</th>\n",
       "      <th>BBG_TICKER</th>\n",
       "      <th>FSYM_PRIMARY_LISTING_ID</th>\n",
       "    </tr>\n",
       "  </thead>\n",
       "  <tbody>\n",
       "    <tr>\n",
       "      <th>0</th>\n",
       "      <td>BS0GWP-R</td>\n",
       "      <td>VPX5WF-S</td>\n",
       "      <td>05HWCG-E</td>\n",
       "      <td>8035-JP</td>\n",
       "      <td>Tokyo Electron Ltd.</td>\n",
       "      <td>TKS</td>\n",
       "      <td>JPY</td>\n",
       "      <td>BBG000BB59S7</td>\n",
       "      <td>8035 JP</td>\n",
       "      <td>VK87BB-L</td>\n",
       "    </tr>\n",
       "  </tbody>\n",
       "</table>\n",
       "</div>"
      ],
      "text/plain": [
       "    FSYM_ID FSYM_SECURITY_ID FACTSET_ENTITY_ID   TICKER         COMPANY_NAME  \\\n",
       "0  BS0GWP-R         VPX5WF-S          05HWCG-E  8035-JP  Tokyo Electron Ltd.   \n",
       "\n",
       "  EXCHANGE_CODE CURRENCY          FIGI BBG_TICKER FSYM_PRIMARY_LISTING_ID  \n",
       "0           TKS      JPY  BBG000BB59S7    8035 JP                VK87BB-L  "
      ]
     },
     "execution_count": 14,
     "metadata": {},
     "output_type": "execute_result"
    }
   ],
   "source": [
    "# The input argment for FSYM_ID is `factset_id`.\n",
    "handler = load_factset_symbol_lookup(\n",
    "    handler,\n",
    "    factset_id='BS0GWP-R',\n",
    "    currency_code='JPY',\n",
    "    pick_only_primary=True\n",
    ")\n",
    "df_symbol = handler.retrieve(transformed=False)\n",
    "df_symbol.head(20)"
   ]
  },
  {
   "cell_type": "markdown",
   "id": "91919835-2a1b-4750-944f-789dba847300",
   "metadata": {},
   "source": [
    "#### Caution: You can only input only one of company_name, figi, ticker, and factset_id in searching."
   ]
  },
  {
   "cell_type": "code",
   "execution_count": 15,
   "id": "37bfc211-7aab-4e58-b250-ca97ac8ffd61",
   "metadata": {},
   "outputs": [
    {
     "ename": "ValueError",
     "evalue": "Please specify only one of the following: FactSet ID, ticker, company name or figi.",
     "output_type": "error",
     "traceback": [
      "\u001b[0;31m---------------------------------------------------------------------------\u001b[0m",
      "\u001b[0;31mValueError\u001b[0m                                Traceback (most recent call last)",
      "Input \u001b[0;32mIn [15]\u001b[0m, in \u001b[0;36m<cell line: 2>\u001b[0;34m()\u001b[0m\n\u001b[1;32m      1\u001b[0m \u001b[38;5;66;03m# An error is thrown if you input more than one as follows.\u001b[39;00m\n\u001b[0;32m----> 2\u001b[0m handler \u001b[38;5;241m=\u001b[39m \u001b[43mload_factset_symbol_lookup\u001b[49m\u001b[43m(\u001b[49m\n\u001b[1;32m      3\u001b[0m \u001b[43m    \u001b[49m\u001b[43mhandler\u001b[49m\u001b[43m,\u001b[49m\n\u001b[1;32m      4\u001b[0m \u001b[43m    \u001b[49m\u001b[43mcompany_name\u001b[49m\u001b[38;5;241;43m=\u001b[39;49m\u001b[38;5;124;43m'\u001b[39;49m\u001b[38;5;124;43mTokyo Electron\u001b[39;49m\u001b[38;5;124;43m'\u001b[39;49m\u001b[43m,\u001b[49m\n\u001b[1;32m      5\u001b[0m \u001b[43m    \u001b[49m\u001b[43mticker\u001b[49m\u001b[38;5;241;43m=\u001b[39;49m\u001b[38;5;124;43m'\u001b[39;49m\u001b[38;5;124;43mAAPL US\u001b[39;49m\u001b[38;5;124;43m'\u001b[39;49m\u001b[43m,\u001b[49m\n\u001b[1;32m      6\u001b[0m \u001b[43m    \u001b[49m\u001b[43mpick_only_primary\u001b[49m\u001b[38;5;241;43m=\u001b[39;49m\u001b[38;5;28;43;01mTrue\u001b[39;49;00m\n\u001b[1;32m      7\u001b[0m \u001b[43m)\u001b[49m\n",
      "File \u001b[0;32m~/miniconda3/envs/asr_wrapper/lib/python3.9/site-packages/aiq_strategy_robot/data/FACTSET/load_factset_symbol_lookup.py:70\u001b[0m, in \u001b[0;36mload_factset_symbol_lookup\u001b[0;34m(handler, company_name, ticker, factset_id, currency_code, exchange_code, figi, pick_only_primary, df_type)\u001b[0m\n\u001b[1;32m      4\u001b[0m \u001b[38;5;28;01mdef\u001b[39;00m \u001b[38;5;21mload_factset_symbol_lookup\u001b[39m(\n\u001b[1;32m      5\u001b[0m     handler: StdDataHandler,\n\u001b[1;32m      6\u001b[0m     company_name: Optional[\u001b[38;5;28mstr\u001b[39m] \u001b[38;5;241m=\u001b[39m \u001b[38;5;28;01mNone\u001b[39;00m,\n\u001b[0;32m   (...)\u001b[0m\n\u001b[1;32m     13\u001b[0m     df_type: \u001b[38;5;28mstr\u001b[39m \u001b[38;5;241m=\u001b[39m \u001b[38;5;124m'\u001b[39m\u001b[38;5;124mpandas\u001b[39m\u001b[38;5;124m'\u001b[39m\n\u001b[1;32m     14\u001b[0m ):\n\u001b[1;32m     16\u001b[0m \u001b[38;5;250m    \u001b[39m\u001b[38;5;124;03m\"\"\"\u001b[39;00m\n\u001b[1;32m     17\u001b[0m \u001b[38;5;124;03m    This function retrieves StdDataHandler for FACTSET symbol information from using various search criteria such as company name,\u001b[39;00m\n\u001b[1;32m     18\u001b[0m \u001b[38;5;124;03m    ticker, FACTSET ID, currency code, exchange code, primary listings, and FIGI code. \u001b[39;00m\n\u001b[0;32m   (...)\u001b[0m\n\u001b[1;32m     67\u001b[0m \n\u001b[1;32m     68\u001b[0m \u001b[38;5;124;03m    \"\"\"\u001b[39;00m\n\u001b[0;32m---> 70\u001b[0m     \u001b[38;5;28;01mreturn\u001b[39;00m \u001b[43mhandler\u001b[49m\u001b[38;5;241;43m.\u001b[39;49m\u001b[43mload\u001b[49m\u001b[43m(\u001b[49m\n\u001b[1;32m     71\u001b[0m \u001b[43m        \u001b[49m\u001b[43mdata_source\u001b[49m\u001b[43m \u001b[49m\u001b[38;5;241;43m=\u001b[39;49m\u001b[43m \u001b[49m\u001b[38;5;124;43m'\u001b[39;49m\u001b[38;5;124;43mFACTSET\u001b[39;49m\u001b[38;5;124;43m'\u001b[39;49m\u001b[43m,\u001b[49m\n\u001b[1;32m     72\u001b[0m \u001b[43m        \u001b[49m\u001b[43mdata_type\u001b[49m\u001b[43m \u001b[49m\u001b[38;5;241;43m=\u001b[39;49m\u001b[43m \u001b[49m\u001b[38;5;124;43m'\u001b[39;49m\u001b[38;5;124;43msymbol_lookup\u001b[39;49m\u001b[38;5;124;43m'\u001b[39;49m\u001b[43m,\u001b[49m\n\u001b[1;32m     73\u001b[0m \u001b[43m        \u001b[49m\u001b[43mcompany_name\u001b[49m\u001b[43m \u001b[49m\u001b[38;5;241;43m=\u001b[39;49m\u001b[43m \u001b[49m\u001b[43mcompany_name\u001b[49m\u001b[43m,\u001b[49m\n\u001b[1;32m     74\u001b[0m \u001b[43m        \u001b[49m\u001b[43mticker\u001b[49m\u001b[43m \u001b[49m\u001b[38;5;241;43m=\u001b[39;49m\u001b[43m \u001b[49m\u001b[43mticker\u001b[49m\u001b[43m,\u001b[49m\n\u001b[1;32m     75\u001b[0m \u001b[43m        \u001b[49m\u001b[43mfactset_id\u001b[49m\u001b[43m \u001b[49m\u001b[38;5;241;43m=\u001b[39;49m\u001b[43m \u001b[49m\u001b[43mfactset_id\u001b[49m\u001b[43m,\u001b[49m\n\u001b[1;32m     76\u001b[0m \u001b[43m        \u001b[49m\u001b[43mcurrency_code\u001b[49m\u001b[43m \u001b[49m\u001b[38;5;241;43m=\u001b[39;49m\u001b[43m \u001b[49m\u001b[43mcurrency_code\u001b[49m\u001b[43m,\u001b[49m\n\u001b[1;32m     77\u001b[0m \u001b[43m        \u001b[49m\u001b[43mexchange_code\u001b[49m\u001b[43m \u001b[49m\u001b[38;5;241;43m=\u001b[39;49m\u001b[43m \u001b[49m\u001b[43mexchange_code\u001b[49m\u001b[43m,\u001b[49m\n\u001b[1;32m     78\u001b[0m \u001b[43m        \u001b[49m\u001b[43mfigi\u001b[49m\u001b[43m \u001b[49m\u001b[38;5;241;43m=\u001b[39;49m\u001b[43m \u001b[49m\u001b[43mfigi\u001b[49m\u001b[43m,\u001b[49m\n\u001b[1;32m     79\u001b[0m \u001b[43m        \u001b[49m\u001b[43mpick_only_primary\u001b[49m\u001b[43m \u001b[49m\u001b[38;5;241;43m=\u001b[39;49m\u001b[43m \u001b[49m\u001b[43mpick_only_primary\u001b[49m\u001b[43m,\u001b[49m\n\u001b[1;32m     80\u001b[0m \u001b[43m        \u001b[49m\u001b[43mdf_type\u001b[49m\u001b[43m \u001b[49m\u001b[38;5;241;43m=\u001b[39;49m\u001b[43m \u001b[49m\u001b[43mdf_type\u001b[49m\n\u001b[1;32m     81\u001b[0m \u001b[43m    \u001b[49m\u001b[43m)\u001b[49m\n",
      "File \u001b[0;32m~/miniconda3/envs/asr_wrapper/lib/python3.9/site-packages/asr_protected/data_handler/impl/std_data_handler.py:251\u001b[0m, in \u001b[0;36mStdDataHandler.load\u001b[0;34m(self, data_source, **kwargs)\u001b[0m\n\u001b[1;32m    234\u001b[0m \u001b[38;5;28;01mdef\u001b[39;00m \u001b[38;5;21mload\u001b[39m(\u001b[38;5;28mself\u001b[39m, data_source: \u001b[38;5;28mstr\u001b[39m \u001b[38;5;241m=\u001b[39m \u001b[38;5;124m'\u001b[39m\u001b[38;5;124mstd\u001b[39m\u001b[38;5;124m'\u001b[39m, \u001b[38;5;241m*\u001b[39m\u001b[38;5;241m*\u001b[39mkwargs) \u001b[38;5;241m-\u001b[39m\u001b[38;5;241m>\u001b[39m TSelf:\n\u001b[1;32m    235\u001b[0m \u001b[38;5;250m    \u001b[39m\u001b[38;5;124;03m\"\"\"Loads data from a specified source, returning the instance for method chaining.\u001b[39;00m\n\u001b[1;32m    236\u001b[0m \n\u001b[1;32m    237\u001b[0m \u001b[38;5;124;03m    Parameters\u001b[39;00m\n\u001b[0;32m   (...)\u001b[0m\n\u001b[1;32m    249\u001b[0m \u001b[38;5;124;03m    See separate documentation for `data_source`-specific parameters.\u001b[39;00m\n\u001b[1;32m    250\u001b[0m \u001b[38;5;124;03m    \"\"\"\u001b[39;00m\n\u001b[0;32m--> 251\u001b[0m     data_loader \u001b[38;5;241m=\u001b[39m \u001b[38;5;28;43mself\u001b[39;49m\u001b[38;5;241;43m.\u001b[39;49m\u001b[43mextract\u001b[49m\u001b[43m(\u001b[49m\u001b[43mdata_source\u001b[49m\u001b[38;5;241;43m=\u001b[39;49m\u001b[43mdata_source\u001b[49m\u001b[43m,\u001b[49m\u001b[43m \u001b[49m\u001b[38;5;241;43m*\u001b[39;49m\u001b[38;5;241;43m*\u001b[39;49m\u001b[43mkwargs\u001b[49m\u001b[43m)\u001b[49m\n\u001b[1;32m    252\u001b[0m     \u001b[38;5;28mself\u001b[39m\u001b[38;5;241m.\u001b[39m_last_data_loader \u001b[38;5;241m=\u001b[39m data_loader\n\u001b[1;32m    253\u001b[0m     \u001b[38;5;28;01mreturn\u001b[39;00m \u001b[38;5;28mself\u001b[39m\n",
      "File \u001b[0;32m~/miniconda3/envs/asr_wrapper/lib/python3.9/site-packages/asr_protected/data_manager/extraction/manager.py:53\u001b[0m, in \u001b[0;36mDataManager.__call__\u001b[0;34m(self, data_source, **kwargs)\u001b[0m\n\u001b[1;32m     40\u001b[0m \u001b[38;5;250m\u001b[39m\u001b[38;5;124;03m\"\"\"Data loading process according to data_source\u001b[39;00m\n\u001b[1;32m     41\u001b[0m \n\u001b[1;32m     42\u001b[0m \u001b[38;5;124;03mParameters\u001b[39;00m\n\u001b[0;32m   (...)\u001b[0m\n\u001b[1;32m     50\u001b[0m \u001b[38;5;124;03m    DataLoader object corresponding to the data source\u001b[39;00m\n\u001b[1;32m     51\u001b[0m \u001b[38;5;124;03m\"\"\"\u001b[39;00m\n\u001b[1;32m     52\u001b[0m data_loader \u001b[38;5;241m=\u001b[39m get_data_loader(data_source)\n\u001b[0;32m---> 53\u001b[0m holders \u001b[38;5;241m=\u001b[39m \u001b[43mgenerate_loader\u001b[49m\u001b[43m(\u001b[49m\u001b[43mdata_loader\u001b[49m\u001b[43m,\u001b[49m\u001b[43m \u001b[49m\u001b[43mkwargs\u001b[49m\u001b[43m)\u001b[49m\n\u001b[1;32m     54\u001b[0m data_ids \u001b[38;5;241m=\u001b[39m [\u001b[38;5;28mself\u001b[39m\u001b[38;5;241m.\u001b[39mset_holder(h) \u001b[38;5;28;01mfor\u001b[39;00m h \u001b[38;5;129;01min\u001b[39;00m holders]\n\u001b[1;32m     55\u001b[0m \u001b[38;5;28;01mreturn\u001b[39;00m data_loader\n",
      "File \u001b[0;32m~/miniconda3/envs/asr_wrapper/lib/python3.9/site-packages/asr_protected/data_manager/extraction/manager.py:226\u001b[0m, in \u001b[0;36mgenerate_loader\u001b[0;34m(loader, kwargs)\u001b[0m\n\u001b[1;32m    224\u001b[0m \u001b[38;5;28;01mdef\u001b[39;00m \u001b[38;5;21mgenerate_loader\u001b[39m(loader: DataLoader, kwargs):\n\u001b[0;32m--> 226\u001b[0m     \u001b[43mloader\u001b[49m\u001b[38;5;241;43m.\u001b[39;49m\u001b[43mload\u001b[49m\u001b[43m(\u001b[49m\u001b[38;5;241;43m*\u001b[39;49m\u001b[38;5;241;43m*\u001b[39;49m\u001b[43mkwargs\u001b[49m\u001b[43m)\u001b[49m\n\u001b[1;32m    227\u001b[0m     holders \u001b[38;5;241m=\u001b[39m []\n\u001b[1;32m    228\u001b[0m     \u001b[38;5;28;01mif\u001b[39;00m loader\u001b[38;5;241m.\u001b[39m\u001b[38;5;18m__class__\u001b[39m \u001b[38;5;129;01mis\u001b[39;00m StdDataLoader:\n",
      "File \u001b[0;32m~/miniconda3/envs/asr_wrapper/lib/python3.9/site-packages/asr_protected/data_loader/abs/data_loader.py:67\u001b[0m, in \u001b[0;36mAbstractDataLoader.load\u001b[0;34m(self, **kwargs)\u001b[0m\n\u001b[1;32m     58\u001b[0m \u001b[38;5;28;01mdef\u001b[39;00m \u001b[38;5;21mload\u001b[39m(\n\u001b[1;32m     59\u001b[0m         \u001b[38;5;28mself\u001b[39m,\n\u001b[1;32m     60\u001b[0m         \u001b[38;5;241m*\u001b[39m\u001b[38;5;241m*\u001b[39mkwargs: Any\n\u001b[1;32m     61\u001b[0m ) \u001b[38;5;241m-\u001b[39m\u001b[38;5;241m>\u001b[39m \u001b[38;5;28;01mNone\u001b[39;00m:\n\u001b[1;32m     62\u001b[0m \u001b[38;5;250m    \u001b[39m\u001b[38;5;124;03m\"\"\"\u001b[39;00m\n\u001b[1;32m     63\u001b[0m \u001b[38;5;124;03m    Get data from DB and store it to memory of instance\u001b[39;00m\n\u001b[1;32m     64\u001b[0m \u001b[38;5;124;03m    :param search_obj: search object\u001b[39;00m\n\u001b[1;32m     65\u001b[0m \u001b[38;5;124;03m    :return:\u001b[39;00m\n\u001b[1;32m     66\u001b[0m \u001b[38;5;124;03m    \"\"\"\u001b[39;00m\n\u001b[0;32m---> 67\u001b[0m     valid_dict \u001b[38;5;241m=\u001b[39m \u001b[38;5;28;43mself\u001b[39;49m\u001b[38;5;241;43m.\u001b[39;49m\u001b[43mvalidation_for_load\u001b[49m\u001b[43m(\u001b[49m\u001b[38;5;241;43m*\u001b[39;49m\u001b[38;5;241;43m*\u001b[39;49m\u001b[43mkwargs\u001b[49m\u001b[43m)\u001b[49m\n\u001b[1;32m     68\u001b[0m     \u001b[38;5;28mself\u001b[39m\u001b[38;5;241m.\u001b[39mimp_load(\u001b[38;5;241m*\u001b[39m\u001b[38;5;241m*\u001b[39mvalid_dict)\n\u001b[1;32m     69\u001b[0m     \u001b[38;5;28;01mreturn\u001b[39;00m \u001b[38;5;28mself\u001b[39m\n",
      "File \u001b[0;32m~/miniconda3/envs/asr_wrapper/lib/python3.9/site-packages/asr_protected/data_loader/impl/factset_data_loader.py:169\u001b[0m, in \u001b[0;36mFactsetDataLoader.validation_for_load\u001b[0;34m(self, **kwargs)\u001b[0m\n\u001b[1;32m    167\u001b[0m     obj \u001b[38;5;241m=\u001b[39m LookupFACTSETSymbolMarketDataAcquisitionObj(\u001b[38;5;241m*\u001b[39m\u001b[38;5;241m*\u001b[39mval_data)\n\u001b[1;32m    168\u001b[0m     acq \u001b[38;5;241m=\u001b[39m LookupFactsetSymbolMarketDataAcquirer(\u001b[38;5;28;01mNone\u001b[39;00m, data_type\u001b[38;5;241m=\u001b[39mdf_type)  \u001b[38;5;66;03m# type: ignore\u001b[39;00m\n\u001b[0;32m--> 169\u001b[0m     data \u001b[38;5;241m=\u001b[39m \u001b[43macq\u001b[49m\u001b[38;5;241;43m.\u001b[39;49m\u001b[43mbefore_validation\u001b[49m\u001b[43m(\u001b[49m\u001b[43mobj\u001b[49m\u001b[43m)\u001b[49m\n\u001b[1;32m    170\u001b[0m \u001b[38;5;28;01melif\u001b[39;00m data_type\u001b[38;5;241m.\u001b[39mlower() \u001b[38;5;241m==\u001b[39m \u001b[38;5;124m'\u001b[39m\u001b[38;5;124mquants_factor_data\u001b[39m\u001b[38;5;124m'\u001b[39m:\n\u001b[1;32m    171\u001b[0m     obj \u001b[38;5;241m=\u001b[39m FactorFactsetQuantsFactorDataAcquirerObj(\u001b[38;5;241m*\u001b[39m\u001b[38;5;241m*\u001b[39mval_data)\n",
      "File \u001b[0;32m~/miniconda3/envs/asr_wrapper/lib/python3.9/site-packages/asr_protected/data_acquirer/impl/lookup_factset_symbol_market_data.py:32\u001b[0m, in \u001b[0;36mLookupFactsetSymbolMarketDataAcquirer.before_validation\u001b[0;34m(self, search_obj)\u001b[0m\n\u001b[1;32m     29\u001b[0m setting_cnt \u001b[38;5;241m=\u001b[39m \u001b[38;5;28msum\u001b[39m(\u001b[38;5;241m1\u001b[39m \u001b[38;5;28;01mfor\u001b[39;00m setting \u001b[38;5;129;01min\u001b[39;00m setting_list \u001b[38;5;28;01mif\u001b[39;00m setting)\n\u001b[1;32m     31\u001b[0m \u001b[38;5;28;01mif\u001b[39;00m setting_cnt \u001b[38;5;241m!=\u001b[39m \u001b[38;5;241m1\u001b[39m:\n\u001b[0;32m---> 32\u001b[0m     \u001b[38;5;28;01mraise\u001b[39;00m \u001b[38;5;167;01mValueError\u001b[39;00m(\u001b[38;5;124m\"\u001b[39m\u001b[38;5;124mPlease specify only one of the following: FactSet ID, ticker, company name or figi.\u001b[39m\u001b[38;5;124m\"\u001b[39m)\n\u001b[1;32m     35\u001b[0m validation_schema \u001b[38;5;241m=\u001b[39m {\n\u001b[1;32m     36\u001b[0m     \u001b[38;5;124m\"\u001b[39m\u001b[38;5;124mcompany_name\u001b[39m\u001b[38;5;124m\"\u001b[39m: {\u001b[38;5;124m\"\u001b[39m\u001b[38;5;124mtype\u001b[39m\u001b[38;5;124m\"\u001b[39m: \u001b[38;5;124m\"\u001b[39m\u001b[38;5;124mstring\u001b[39m\u001b[38;5;124m\"\u001b[39m, \u001b[38;5;124m\"\u001b[39m\u001b[38;5;124mnullable\u001b[39m\u001b[38;5;124m\"\u001b[39m: \u001b[38;5;28;01mTrue\u001b[39;00m},\n\u001b[1;32m     37\u001b[0m     \u001b[38;5;124m\"\u001b[39m\u001b[38;5;124mticker\u001b[39m\u001b[38;5;124m\"\u001b[39m: {\u001b[38;5;124m\"\u001b[39m\u001b[38;5;124mtype\u001b[39m\u001b[38;5;124m\"\u001b[39m: [\u001b[38;5;124m\"\u001b[39m\u001b[38;5;124mstring\u001b[39m\u001b[38;5;124m\"\u001b[39m, \u001b[38;5;124m\"\u001b[39m\u001b[38;5;124mlist\u001b[39m\u001b[38;5;124m\"\u001b[39m], \u001b[38;5;124m\"\u001b[39m\u001b[38;5;124mnullable\u001b[39m\u001b[38;5;124m\"\u001b[39m: \u001b[38;5;28;01mTrue\u001b[39;00m, \u001b[38;5;124m\"\u001b[39m\u001b[38;5;124mempty\u001b[39m\u001b[38;5;124m\"\u001b[39m: \u001b[38;5;28;01mFalse\u001b[39;00m},\n\u001b[0;32m   (...)\u001b[0m\n\u001b[1;32m     42\u001b[0m     \u001b[38;5;124m\"\u001b[39m\u001b[38;5;124mpick_only_primary\u001b[39m\u001b[38;5;124m\"\u001b[39m: {\u001b[38;5;124m\"\u001b[39m\u001b[38;5;124mtype\u001b[39m\u001b[38;5;124m\"\u001b[39m: \u001b[38;5;124m\"\u001b[39m\u001b[38;5;124mboolean\u001b[39m\u001b[38;5;124m\"\u001b[39m, \u001b[38;5;124m\"\u001b[39m\u001b[38;5;124mnullable\u001b[39m\u001b[38;5;124m\"\u001b[39m: \u001b[38;5;28;01mTrue\u001b[39;00m}\n\u001b[1;32m     43\u001b[0m }\n\u001b[1;32m     45\u001b[0m validator \u001b[38;5;241m=\u001b[39m Validator(validation_schema)\n",
      "\u001b[0;31mValueError\u001b[0m: Please specify only one of the following: FactSet ID, ticker, company name or figi."
     ]
    }
   ],
   "source": [
    "# An error is thrown if you input more than one as follows.\n",
    "handler = load_factset_symbol_lookup(\n",
    "    handler,\n",
    "    company_name='Tokyo Electron',\n",
    "    ticker='AAPL US',\n",
    "    pick_only_primary=True\n",
    ")"
   ]
  },
  {
   "cell_type": "code",
   "execution_count": null,
   "id": "1614768a-6490-4408-b897-6a71b9ea52b3",
   "metadata": {},
   "outputs": [],
   "source": []
  }
 ],
 "metadata": {
  "kernelspec": {
   "display_name": "Python 3 (ipykernel)",
   "language": "python",
   "name": "python3"
  },
  "language_info": {
   "codemirror_mode": {
    "name": "ipython",
    "version": 3
   },
   "file_extension": ".py",
   "mimetype": "text/x-python",
   "name": "python",
   "nbconvert_exporter": "python",
   "pygments_lexer": "ipython3",
   "version": "3.9.19"
  }
 },
 "nbformat": 4,
 "nbformat_minor": 5
}
