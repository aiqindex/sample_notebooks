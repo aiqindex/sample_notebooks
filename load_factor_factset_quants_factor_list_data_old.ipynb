{
 "cells": [
  {
   "attachments": {
    "a6288316-80f1-4a62-a0bb-c8eee5428719.png": {
     "image/png": "[encoded data removed]"
    }
   },
   "cell_type": "markdown",
   "id": "7deadca9-9358-4ca5-a182-62135eae5b01",
   "metadata": {
    "tags": []
   },
   "source": [
    "![image.png](attachment:a6288316-80f1-4a62-a0bb-c8eee5428719.png)\n",
    "\n",
    "[disclaimer](./disclaimer.txt/)"
   ]
  },
  {
   "cell_type": "markdown",
   "metadata": {},
   "source": [
    "# How to load FACTSET company fundamental data\n",
    "- look up the unique FACTSET XXXX IDs (=FSYM_ID) from factor\n",
    "- load fundamental data for the companies specified by FSYM_ID"
   ]
  },
  {
   "cell_type": "markdown",
   "metadata": {},
   "source": [
    "## `DAL`  Data Accessor Library \n",
    "> DAL access data from FACTSET database / API for Equity Data  ## Import ASR Data Accessor Library (DAL)"
   ]
  },
  {
   "cell_type": "code",
   "execution_count": 23,
   "metadata": {},
   "outputs": [],
   "source": [
    "from aiq_strategy_robot.data.data_accessor import DAL\n",
    "data_source='FACTSET'\n",
    "handler = DAL()"
   ]
  },
  {
   "cell_type": "markdown",
   "metadata": {},
   "source": [
    "### Step 1: look up FACTSET unique company ID (FSYM_ID) from a ticker.\n",
    "> This can be done with company names and figis as well. Please refer to the sample notebook for Lookup Symbol functionality."
   ]
  },
  {
   "cell_type": "markdown",
   "metadata": {},
   "source": [
    "####  **load**\n",
    "> Load the data to memory  \n",
    "> Set data_type = 'quants_factor_list' for looking up instrument IDs."
   ]
  },
  {
   "cell_type": "code",
   "execution_count": 24,
   "metadata": {},
   "outputs": [
    {
     "data": {
      "text/html": [
       "<div>\n",
       "<style scoped>\n",
       "    .dataframe tbody tr th:only-of-type {\n",
       "        vertical-align: middle;\n",
       "    }\n",
       "\n",
       "    .dataframe tbody tr th {\n",
       "        vertical-align: top;\n",
       "    }\n",
       "\n",
       "    .dataframe thead th {\n",
       "        text-align: right;\n",
       "    }\n",
       "</style>\n",
       "<table border=\"1\" class=\"dataframe\">\n",
       "  <thead>\n",
       "    <tr style=\"text-align: right;\">\n",
       "      <th></th>\n",
       "      <th>factor</th>\n",
       "      <th>name</th>\n",
       "      <th>factorGroup</th>\n",
       "      <th>sdfName</th>\n",
       "      <th>formula</th>\n",
       "      <th>tags</th>\n",
       "      <th>format</th>\n",
       "    </tr>\n",
       "  </thead>\n",
       "  <tbody>\n",
       "    <tr>\n",
       "      <th>0</th>\n",
       "      <td>velocity63D</td>\n",
       "      <td>63D Velocity</td>\n",
       "      <td>Momentum</td>\n",
       "      <td>VELOCITY_63D</td>\n",
       "      <td>QFL_VELOCITY(0,63D)</td>\n",
       "      <td>momentum,prices</td>\n",
       "      <td>double</td>\n",
       "    </tr>\n",
       "    <tr>\n",
       "      <th>1</th>\n",
       "      <td>stochastic63D</td>\n",
       "      <td>63D Stochastic Oscillator</td>\n",
       "      <td>Momentum</td>\n",
       "      <td>STOCHASTIC_63D</td>\n",
       "      <td>QFL_STOCHASTIC(0,63D)</td>\n",
       "      <td>momentum,prices</td>\n",
       "      <td>double</td>\n",
       "    </tr>\n",
       "    <tr>\n",
       "      <th>2</th>\n",
       "      <td>retMom63D</td>\n",
       "      <td>63D Return Momentum</td>\n",
       "      <td>Momentum</td>\n",
       "      <td>RET_MOM_63D</td>\n",
       "      <td>QFL_RET_MOM(0,63D)</td>\n",
       "      <td>momentum,prices</td>\n",
       "      <td>double</td>\n",
       "    </tr>\n",
       "    <tr>\n",
       "      <th>3</th>\n",
       "      <td>resRetMom63D</td>\n",
       "      <td>63D Residual Momentum</td>\n",
       "      <td>Momentum</td>\n",
       "      <td>RES_RET_MOM_63D</td>\n",
       "      <td>QFL_RES_RET_MOM(0,63D)</td>\n",
       "      <td>momentum,prices</td>\n",
       "      <td>double</td>\n",
       "    </tr>\n",
       "    <tr>\n",
       "      <th>4</th>\n",
       "      <td>rsi63D</td>\n",
       "      <td>63D Relative Strength Index</td>\n",
       "      <td>Momentum</td>\n",
       "      <td>RSI_63D</td>\n",
       "      <td>QFL_RSI(0,63D)</td>\n",
       "      <td>momentum,prices</td>\n",
       "      <td>double</td>\n",
       "    </tr>\n",
       "    <tr>\n",
       "      <th>5</th>\n",
       "      <td>accel63D</td>\n",
       "      <td>63D Acceleration</td>\n",
       "      <td>Momentum</td>\n",
       "      <td>ACCEL_63D</td>\n",
       "      <td>QFL_ACCEL(0,63D)</td>\n",
       "      <td>momentum,prices</td>\n",
       "      <td>double</td>\n",
       "    </tr>\n",
       "    <tr>\n",
       "      <th>6</th>\n",
       "      <td>velocity60M</td>\n",
       "      <td>60M Velocity</td>\n",
       "      <td>Momentum</td>\n",
       "      <td>VELOCITY_60M</td>\n",
       "      <td>QFL_VELOCITY(0,60M)</td>\n",
       "      <td>momentum,prices</td>\n",
       "      <td>double</td>\n",
       "    </tr>\n",
       "    <tr>\n",
       "      <th>7</th>\n",
       "      <td>stochastic60M</td>\n",
       "      <td>60M Stochastic Oscillator</td>\n",
       "      <td>Momentum</td>\n",
       "      <td>STOCHASTIC_60M</td>\n",
       "      <td>QFL_STOCHASTIC(0,60M)</td>\n",
       "      <td>momentum,prices</td>\n",
       "      <td>double</td>\n",
       "    </tr>\n",
       "    <tr>\n",
       "      <th>8</th>\n",
       "      <td>retMom60M</td>\n",
       "      <td>60M Return Momentum</td>\n",
       "      <td>Momentum</td>\n",
       "      <td>RET_MOM_60M</td>\n",
       "      <td>QFL_RET_MOM(0,60M)</td>\n",
       "      <td>momentum,prices</td>\n",
       "      <td>double</td>\n",
       "    </tr>\n",
       "    <tr>\n",
       "      <th>9</th>\n",
       "      <td>resRetMom60M</td>\n",
       "      <td>60M Residual Momentum</td>\n",
       "      <td>Momentum</td>\n",
       "      <td>RES_RET_MOM_60M</td>\n",
       "      <td>QFL_RES_RET_MOM(0,60M)</td>\n",
       "      <td>momentum,prices</td>\n",
       "      <td>double</td>\n",
       "    </tr>\n",
       "    <tr>\n",
       "      <th>10</th>\n",
       "      <td>rsi60M</td>\n",
       "      <td>60M Relative Strength Index</td>\n",
       "      <td>Momentum</td>\n",
       "      <td>RSI_60M</td>\n",
       "      <td>QFL_RSI(0,60M)</td>\n",
       "      <td>momentum,prices</td>\n",
       "      <td>double</td>\n",
       "    </tr>\n",
       "    <tr>\n",
       "      <th>11</th>\n",
       "      <td>accel60M</td>\n",
       "      <td>60M Acceleration</td>\n",
       "      <td>Momentum</td>\n",
       "      <td>ACCEL_60M</td>\n",
       "      <td>QFL_ACCEL(0,60M)</td>\n",
       "      <td>momentum,prices</td>\n",
       "      <td>double</td>\n",
       "    </tr>\n",
       "    <tr>\n",
       "      <th>12</th>\n",
       "      <td>pos52W</td>\n",
       "      <td>52W Position</td>\n",
       "      <td>Momentum</td>\n",
       "      <td>POS52W</td>\n",
       "      <td>QFL_POS52W(0)</td>\n",
       "      <td>momentum,prices</td>\n",
       "      <td>double</td>\n",
       "    </tr>\n",
       "    <tr>\n",
       "      <th>13</th>\n",
       "      <td>velocity36M</td>\n",
       "      <td>36M Velocity</td>\n",
       "      <td>Momentum</td>\n",
       "      <td>VELOCITY_36M</td>\n",
       "      <td>QFL_VELOCITY(0,36M)</td>\n",
       "      <td>momentum,prices</td>\n",
       "      <td>double</td>\n",
       "    </tr>\n",
       "    <tr>\n",
       "      <th>14</th>\n",
       "      <td>stochastic36M</td>\n",
       "      <td>36M Stochastic Oscillator</td>\n",
       "      <td>Momentum</td>\n",
       "      <td>STOCHASTIC_36M</td>\n",
       "      <td>QFL_STOCHASTIC(0,36M)</td>\n",
       "      <td>momentum,prices</td>\n",
       "      <td>double</td>\n",
       "    </tr>\n",
       "    <tr>\n",
       "      <th>15</th>\n",
       "      <td>retMom36M</td>\n",
       "      <td>36M Return Momentum</td>\n",
       "      <td>Momentum</td>\n",
       "      <td>RET_MOM_36M</td>\n",
       "      <td>QFL_RET_MOM(0,36M)</td>\n",
       "      <td>momentum,prices</td>\n",
       "      <td>double</td>\n",
       "    </tr>\n",
       "    <tr>\n",
       "      <th>16</th>\n",
       "      <td>resRetMom36M</td>\n",
       "      <td>36M Residual Momentum</td>\n",
       "      <td>Momentum</td>\n",
       "      <td>RES_RET_MOM_36M</td>\n",
       "      <td>QFL_RES_RET_MOM(0,36M)</td>\n",
       "      <td>momentum,prices</td>\n",
       "      <td>double</td>\n",
       "    </tr>\n",
       "    <tr>\n",
       "      <th>17</th>\n",
       "      <td>rsi36M</td>\n",
       "      <td>36M Relative Strength Index</td>\n",
       "      <td>Momentum</td>\n",
       "      <td>RSI_36M</td>\n",
       "      <td>QFL_RSI(0,36M)</td>\n",
       "      <td>momentum,prices</td>\n",
       "      <td>double</td>\n",
       "    </tr>\n",
       "    <tr>\n",
       "      <th>18</th>\n",
       "      <td>accel36M</td>\n",
       "      <td>36M Acceleration</td>\n",
       "      <td>Momentum</td>\n",
       "      <td>ACCEL_36M</td>\n",
       "      <td>QFL_ACCEL(0,36M)</td>\n",
       "      <td>momentum,prices</td>\n",
       "      <td>double</td>\n",
       "    </tr>\n",
       "    <tr>\n",
       "      <th>19</th>\n",
       "      <td>velocity252D</td>\n",
       "      <td>252D Velocity</td>\n",
       "      <td>Momentum</td>\n",
       "      <td>VELOCITY_252D</td>\n",
       "      <td>QFL_VELOCITY(0,252D)</td>\n",
       "      <td>momentum,prices</td>\n",
       "      <td>double</td>\n",
       "    </tr>\n",
       "  </tbody>\n",
       "</table>\n",
       "</div>"
      ],
      "text/plain": [
       "           factor                         name factorGroup          sdfName  \\\n",
       "0     velocity63D                 63D Velocity    Momentum     VELOCITY_63D   \n",
       "1   stochastic63D    63D Stochastic Oscillator    Momentum   STOCHASTIC_63D   \n",
       "2       retMom63D          63D Return Momentum    Momentum      RET_MOM_63D   \n",
       "3    resRetMom63D        63D Residual Momentum    Momentum  RES_RET_MOM_63D   \n",
       "4          rsi63D  63D Relative Strength Index    Momentum          RSI_63D   \n",
       "5        accel63D             63D Acceleration    Momentum        ACCEL_63D   \n",
       "6     velocity60M                 60M Velocity    Momentum     VELOCITY_60M   \n",
       "7   stochastic60M    60M Stochastic Oscillator    Momentum   STOCHASTIC_60M   \n",
       "8       retMom60M          60M Return Momentum    Momentum      RET_MOM_60M   \n",
       "9    resRetMom60M        60M Residual Momentum    Momentum  RES_RET_MOM_60M   \n",
       "10         rsi60M  60M Relative Strength Index    Momentum          RSI_60M   \n",
       "11       accel60M             60M Acceleration    Momentum        ACCEL_60M   \n",
       "12         pos52W                 52W Position    Momentum           POS52W   \n",
       "13    velocity36M                 36M Velocity    Momentum     VELOCITY_36M   \n",
       "14  stochastic36M    36M Stochastic Oscillator    Momentum   STOCHASTIC_36M   \n",
       "15      retMom36M          36M Return Momentum    Momentum      RET_MOM_36M   \n",
       "16   resRetMom36M        36M Residual Momentum    Momentum  RES_RET_MOM_36M   \n",
       "17         rsi36M  36M Relative Strength Index    Momentum          RSI_36M   \n",
       "18       accel36M             36M Acceleration    Momentum        ACCEL_36M   \n",
       "19   velocity252D                252D Velocity    Momentum    VELOCITY_252D   \n",
       "\n",
       "                   formula             tags  format  \n",
       "0      QFL_VELOCITY(0,63D)  momentum,prices  double  \n",
       "1    QFL_STOCHASTIC(0,63D)  momentum,prices  double  \n",
       "2       QFL_RET_MOM(0,63D)  momentum,prices  double  \n",
       "3   QFL_RES_RET_MOM(0,63D)  momentum,prices  double  \n",
       "4           QFL_RSI(0,63D)  momentum,prices  double  \n",
       "5         QFL_ACCEL(0,63D)  momentum,prices  double  \n",
       "6      QFL_VELOCITY(0,60M)  momentum,prices  double  \n",
       "7    QFL_STOCHASTIC(0,60M)  momentum,prices  double  \n",
       "8       QFL_RET_MOM(0,60M)  momentum,prices  double  \n",
       "9   QFL_RES_RET_MOM(0,60M)  momentum,prices  double  \n",
       "10          QFL_RSI(0,60M)  momentum,prices  double  \n",
       "11        QFL_ACCEL(0,60M)  momentum,prices  double  \n",
       "12           QFL_POS52W(0)  momentum,prices  double  \n",
       "13     QFL_VELOCITY(0,36M)  momentum,prices  double  \n",
       "14   QFL_STOCHASTIC(0,36M)  momentum,prices  double  \n",
       "15      QFL_RET_MOM(0,36M)  momentum,prices  double  \n",
       "16  QFL_RES_RET_MOM(0,36M)  momentum,prices  double  \n",
       "17          QFL_RSI(0,36M)  momentum,prices  double  \n",
       "18        QFL_ACCEL(0,36M)  momentum,prices  double  \n",
       "19    QFL_VELOCITY(0,252D)  momentum,prices  double  "
      ]
     },
     "execution_count": 24,
     "metadata": {},
     "output_type": "execute_result"
    }
   ],
   "source": [
    "handler = handler.load(\n",
    "    data_source, # type: ignore\n",
    "    data_type='quants_factor_list',\n",
    "    # factors=\"retMom63D\",\n",
    "    factor_groups=\"Momentum\",\n",
    "    # keyword=\"momentum\",\n",
    ")\n",
    "df_symbol = handler.retrieve()\n",
    "df_symbol.head(20)"
   ]
  },
  {
   "cell_type": "markdown",
   "metadata": {},
   "source": [
    "### Pattern 2: Look up FSYM_ID from factors\n"
   ]
  },
  {
   "cell_type": "code",
   "execution_count": 25,
   "metadata": {},
   "outputs": [
    {
     "data": {
      "text/html": [
       "<div>\n",
       "<style scoped>\n",
       "    .dataframe tbody tr th:only-of-type {\n",
       "        vertical-align: middle;\n",
       "    }\n",
       "\n",
       "    .dataframe tbody tr th {\n",
       "        vertical-align: top;\n",
       "    }\n",
       "\n",
       "    .dataframe thead th {\n",
       "        text-align: right;\n",
       "    }\n",
       "</style>\n",
       "<table border=\"1\" class=\"dataframe\">\n",
       "  <thead>\n",
       "    <tr style=\"text-align: right;\">\n",
       "      <th></th>\n",
       "      <th>factor</th>\n",
       "      <th>name</th>\n",
       "      <th>factorGroup</th>\n",
       "      <th>sdfName</th>\n",
       "      <th>formula</th>\n",
       "      <th>tags</th>\n",
       "      <th>format</th>\n",
       "    </tr>\n",
       "  </thead>\n",
       "  <tbody>\n",
       "    <tr>\n",
       "      <th>0</th>\n",
       "      <td>retMom63D</td>\n",
       "      <td>63D Return Momentum</td>\n",
       "      <td>Momentum</td>\n",
       "      <td>RET_MOM_63D</td>\n",
       "      <td>QFL_RET_MOM(0,63D)</td>\n",
       "      <td>momentum,prices</td>\n",
       "      <td>double</td>\n",
       "    </tr>\n",
       "  </tbody>\n",
       "</table>\n",
       "</div>"
      ],
      "text/plain": [
       "      factor                 name factorGroup      sdfName  \\\n",
       "0  retMom63D  63D Return Momentum    Momentum  RET_MOM_63D   \n",
       "\n",
       "              formula             tags  format  \n",
       "0  QFL_RET_MOM(0,63D)  momentum,prices  double  "
      ]
     },
     "execution_count": 25,
     "metadata": {},
     "output_type": "execute_result"
    }
   ],
   "source": [
    "handler = handler.load(\n",
    "    data_source, # type: ignore\n",
    "    data_type='quants_factor_list',\n",
    "    factors=\"retMom63D\",\n",
    "    # factor_groups=\"Momentum\",\n",
    "    keyword=\"momentum\",\n",
    ")\n",
    "df_symbol = handler.retrieve(transformed=False)\n",
    "df_symbol.head(20)"
   ]
  },
  {
   "cell_type": "markdown",
   "metadata": {},
   "source": [
    "#### Caution: You can only input either factors or factset_groups, not both, when searching."
   ]
  },
  {
   "cell_type": "code",
   "execution_count": 26,
   "metadata": {},
   "outputs": [
    {
     "ename": "AssertionError",
     "evalue": "`factor` and `factor_group` cannot be set together. Use either one.",
     "output_type": "error",
     "traceback": [
      "\u001b[0;31m---------------------------------------------------------------------------\u001b[0m",
      "\u001b[0;31mAssertionError\u001b[0m                            Traceback (most recent call last)",
      "Input \u001b[0;32mIn [26]\u001b[0m, in \u001b[0;36m<cell line: 2>\u001b[0;34m()\u001b[0m\n\u001b[1;32m      1\u001b[0m \u001b[38;5;66;03m# An error is thrown if you input both factors and factor_groups as follows.\u001b[39;00m\n\u001b[0;32m----> 2\u001b[0m handler \u001b[38;5;241m=\u001b[39m \u001b[43mhandler\u001b[49m\u001b[38;5;241;43m.\u001b[39;49m\u001b[43mload\u001b[49m\u001b[43m(\u001b[49m\n\u001b[1;32m      3\u001b[0m \u001b[43m    \u001b[49m\u001b[43mdata_source\u001b[49m\u001b[43m,\u001b[49m\u001b[43m \u001b[49m\u001b[38;5;66;43;03m# type: ignore\u001b[39;49;00m\n\u001b[1;32m      4\u001b[0m \u001b[43m    \u001b[49m\u001b[43mdata_type\u001b[49m\u001b[38;5;241;43m=\u001b[39;49m\u001b[38;5;124;43m'\u001b[39;49m\u001b[38;5;124;43mquants_factor_list\u001b[39;49m\u001b[38;5;124;43m'\u001b[39;49m\u001b[43m,\u001b[49m\n\u001b[1;32m      5\u001b[0m \u001b[43m    \u001b[49m\u001b[43mfactors\u001b[49m\u001b[38;5;241;43m=\u001b[39;49m\u001b[38;5;124;43m\"\u001b[39;49m\u001b[38;5;124;43mretMom63D\u001b[39;49m\u001b[38;5;124;43m\"\u001b[39;49m\u001b[43m,\u001b[49m\n\u001b[1;32m      6\u001b[0m \u001b[43m    \u001b[49m\u001b[43mfactor_groups\u001b[49m\u001b[38;5;241;43m=\u001b[39;49m\u001b[38;5;124;43m\"\u001b[39;49m\u001b[38;5;124;43mMomentum\u001b[39;49m\u001b[38;5;124;43m\"\u001b[39;49m\u001b[43m,\u001b[49m\n\u001b[1;32m      7\u001b[0m \u001b[43m    \u001b[49m\u001b[43mkeyword\u001b[49m\u001b[38;5;241;43m=\u001b[39;49m\u001b[38;5;124;43m\"\u001b[39;49m\u001b[38;5;124;43mmomentum\u001b[39;49m\u001b[38;5;124;43m\"\u001b[39;49m\u001b[43m,\u001b[49m\n\u001b[1;32m      8\u001b[0m \u001b[43m)\u001b[49m\n",
      "File \u001b[0;32m~/workspace/rep/asr_protected/asr_protected/data_handler/impl/std_data_handler.py:252\u001b[0m, in \u001b[0;36mStdDataHandler.load\u001b[0;34m(self, data_source, **kwargs)\u001b[0m\n\u001b[1;32m    235\u001b[0m \u001b[38;5;28;01mdef\u001b[39;00m \u001b[38;5;21mload\u001b[39m(\u001b[38;5;28mself\u001b[39m, data_source: \u001b[38;5;28mstr\u001b[39m \u001b[38;5;241m=\u001b[39m \u001b[38;5;124m'\u001b[39m\u001b[38;5;124mstd\u001b[39m\u001b[38;5;124m'\u001b[39m, \u001b[38;5;241m*\u001b[39m\u001b[38;5;241m*\u001b[39mkwargs) \u001b[38;5;241m-\u001b[39m\u001b[38;5;241m>\u001b[39m TSelf:\n\u001b[1;32m    236\u001b[0m \u001b[38;5;250m    \u001b[39m\u001b[38;5;124;03m\"\"\"Loads data from a specified source, returning the instance for method chaining.\u001b[39;00m\n\u001b[1;32m    237\u001b[0m \n\u001b[1;32m    238\u001b[0m \u001b[38;5;124;03m    Parameters\u001b[39;00m\n\u001b[0;32m   (...)\u001b[0m\n\u001b[1;32m    250\u001b[0m \u001b[38;5;124;03m    See separate documentation for `data_source`-specific parameters.\u001b[39;00m\n\u001b[1;32m    251\u001b[0m \u001b[38;5;124;03m    \"\"\"\u001b[39;00m\n\u001b[0;32m--> 252\u001b[0m     data_loader \u001b[38;5;241m=\u001b[39m \u001b[38;5;28;43mself\u001b[39;49m\u001b[38;5;241;43m.\u001b[39;49m\u001b[43mextract\u001b[49m\u001b[43m(\u001b[49m\u001b[43mdata_source\u001b[49m\u001b[38;5;241;43m=\u001b[39;49m\u001b[43mdata_source\u001b[49m\u001b[43m,\u001b[49m\u001b[43m \u001b[49m\u001b[38;5;241;43m*\u001b[39;49m\u001b[38;5;241;43m*\u001b[39;49m\u001b[43mkwargs\u001b[49m\u001b[43m)\u001b[49m\n\u001b[1;32m    253\u001b[0m     \u001b[38;5;28mself\u001b[39m\u001b[38;5;241m.\u001b[39m_last_data_loader \u001b[38;5;241m=\u001b[39m data_loader\n\u001b[1;32m    254\u001b[0m     \u001b[38;5;28;01mreturn\u001b[39;00m \u001b[38;5;28mself\u001b[39m\n",
      "File \u001b[0;32m~/workspace/rep/asr_protected/asr_protected/data_manager/extraction/manager.py:53\u001b[0m, in \u001b[0;36mDataManager.__call__\u001b[0;34m(self, data_source, **kwargs)\u001b[0m\n\u001b[1;32m     40\u001b[0m \u001b[38;5;250m\u001b[39m\u001b[38;5;124;03m\"\"\"Data loading process according to data_source\u001b[39;00m\n\u001b[1;32m     41\u001b[0m \n\u001b[1;32m     42\u001b[0m \u001b[38;5;124;03mParameters\u001b[39;00m\n\u001b[0;32m   (...)\u001b[0m\n\u001b[1;32m     50\u001b[0m \u001b[38;5;124;03m    DataLoader object corresponding to the data source\u001b[39;00m\n\u001b[1;32m     51\u001b[0m \u001b[38;5;124;03m\"\"\"\u001b[39;00m\n\u001b[1;32m     52\u001b[0m data_loader \u001b[38;5;241m=\u001b[39m get_data_loader(data_source)\n\u001b[0;32m---> 53\u001b[0m holders \u001b[38;5;241m=\u001b[39m \u001b[43mgenerate_loader\u001b[49m\u001b[43m(\u001b[49m\u001b[43mdata_loader\u001b[49m\u001b[43m,\u001b[49m\u001b[43m \u001b[49m\u001b[43mkwargs\u001b[49m\u001b[43m)\u001b[49m\n\u001b[1;32m     54\u001b[0m data_ids \u001b[38;5;241m=\u001b[39m [\u001b[38;5;28mself\u001b[39m\u001b[38;5;241m.\u001b[39mset_holder(h) \u001b[38;5;28;01mfor\u001b[39;00m h \u001b[38;5;129;01min\u001b[39;00m holders]\n\u001b[1;32m     55\u001b[0m \u001b[38;5;28;01mreturn\u001b[39;00m data_loader\n",
      "File \u001b[0;32m~/workspace/rep/asr_protected/asr_protected/data_manager/extraction/manager.py:226\u001b[0m, in \u001b[0;36mgenerate_loader\u001b[0;34m(loader, kwargs)\u001b[0m\n\u001b[1;32m    224\u001b[0m \u001b[38;5;28;01mdef\u001b[39;00m \u001b[38;5;21mgenerate_loader\u001b[39m(loader: DataLoader, kwargs):\n\u001b[0;32m--> 226\u001b[0m     \u001b[43mloader\u001b[49m\u001b[38;5;241;43m.\u001b[39;49m\u001b[43mload\u001b[49m\u001b[43m(\u001b[49m\u001b[38;5;241;43m*\u001b[39;49m\u001b[38;5;241;43m*\u001b[39;49m\u001b[43mkwargs\u001b[49m\u001b[43m)\u001b[49m\n\u001b[1;32m    227\u001b[0m     holders \u001b[38;5;241m=\u001b[39m []\n\u001b[1;32m    228\u001b[0m     \u001b[38;5;28;01mif\u001b[39;00m loader\u001b[38;5;241m.\u001b[39m\u001b[38;5;18m__class__\u001b[39m \u001b[38;5;129;01mis\u001b[39;00m StdDataLoader:\n",
      "File \u001b[0;32m~/workspace/rep/asr_protected/asr_protected/data_loader/abs/data_loader.py:67\u001b[0m, in \u001b[0;36mAbstractDataLoader.load\u001b[0;34m(self, **kwargs)\u001b[0m\n\u001b[1;32m     58\u001b[0m \u001b[38;5;28;01mdef\u001b[39;00m \u001b[38;5;21mload\u001b[39m(\n\u001b[1;32m     59\u001b[0m         \u001b[38;5;28mself\u001b[39m,\n\u001b[1;32m     60\u001b[0m         \u001b[38;5;241m*\u001b[39m\u001b[38;5;241m*\u001b[39mkwargs: Any\n\u001b[1;32m     61\u001b[0m ) \u001b[38;5;241m-\u001b[39m\u001b[38;5;241m>\u001b[39m \u001b[38;5;28;01mNone\u001b[39;00m:\n\u001b[1;32m     62\u001b[0m \u001b[38;5;250m    \u001b[39m\u001b[38;5;124;03m\"\"\"\u001b[39;00m\n\u001b[1;32m     63\u001b[0m \u001b[38;5;124;03m    Get data from DB and store it to memory of instance\u001b[39;00m\n\u001b[1;32m     64\u001b[0m \u001b[38;5;124;03m    :param search_obj: search object\u001b[39;00m\n\u001b[1;32m     65\u001b[0m \u001b[38;5;124;03m    :return:\u001b[39;00m\n\u001b[1;32m     66\u001b[0m \u001b[38;5;124;03m    \"\"\"\u001b[39;00m\n\u001b[0;32m---> 67\u001b[0m     valid_dict \u001b[38;5;241m=\u001b[39m \u001b[38;5;28;43mself\u001b[39;49m\u001b[38;5;241;43m.\u001b[39;49m\u001b[43mvalidation_for_load\u001b[49m\u001b[43m(\u001b[49m\u001b[38;5;241;43m*\u001b[39;49m\u001b[38;5;241;43m*\u001b[39;49m\u001b[43mkwargs\u001b[49m\u001b[43m)\u001b[49m\n\u001b[1;32m     68\u001b[0m     \u001b[38;5;28mself\u001b[39m\u001b[38;5;241m.\u001b[39mimp_load(\u001b[38;5;241m*\u001b[39m\u001b[38;5;241m*\u001b[39mvalid_dict)\n\u001b[1;32m     69\u001b[0m     \u001b[38;5;28;01mreturn\u001b[39;00m \u001b[38;5;28mself\u001b[39m\n",
      "File \u001b[0;32m~/workspace/rep/asr_protected/asr_protected/data_loader/impl/factset_data_loader.py:177\u001b[0m, in \u001b[0;36mFactsetDataLoader.validation_for_load\u001b[0;34m(self, **kwargs)\u001b[0m\n\u001b[1;32m    175\u001b[0m     obj \u001b[38;5;241m=\u001b[39m FactorFactsetQuantsFactorListAcquirerObj(\u001b[38;5;241m*\u001b[39m\u001b[38;5;241m*\u001b[39mval_data)\n\u001b[1;32m    176\u001b[0m     acq \u001b[38;5;241m=\u001b[39m FactorFactsetQuantsFactorListAcquirer(\u001b[38;5;28;01mNone\u001b[39;00m, data_type\u001b[38;5;241m=\u001b[39mdf_type)  \u001b[38;5;66;03m# type: ignore\u001b[39;00m\n\u001b[0;32m--> 177\u001b[0m     data \u001b[38;5;241m=\u001b[39m \u001b[43macq\u001b[49m\u001b[38;5;241;43m.\u001b[39;49m\u001b[43mbefore_validation\u001b[49m\u001b[43m(\u001b[49m\u001b[43mobj\u001b[49m\u001b[43m)\u001b[49m\n\u001b[1;32m    178\u001b[0m \u001b[38;5;28;01melif\u001b[39;00m data_type\u001b[38;5;241m.\u001b[39mlower() \u001b[38;5;241m==\u001b[39m \u001b[38;5;124m'\u001b[39m\u001b[38;5;124mfundamental_estimates\u001b[39m\u001b[38;5;124m'\u001b[39m:\n\u001b[1;32m    179\u001b[0m     obj \u001b[38;5;241m=\u001b[39m FundamentalConsensusFactsetDataAcquirerObj(\u001b[38;5;241m*\u001b[39m\u001b[38;5;241m*\u001b[39mval_data)\n",
      "File \u001b[0;32m~/workspace/rep/asr_protected/asr_protected/data_acquirer/impl/factor_factset_quants_factor_list_acquirer.py:104\u001b[0m, in \u001b[0;36mFactorFactsetQuantsFactorListAcquirer.before_validation\u001b[0;34m(self, search_obj)\u001b[0m\n\u001b[1;32m    101\u001b[0m     \u001b[38;5;28;01mraise\u001b[39;00m \u001b[38;5;167;01mValueError\u001b[39;00m(\u001b[38;5;124mf\u001b[39m\u001b[38;5;124m\"\u001b[39m\u001b[38;5;124mValidation errors: \u001b[39m\u001b[38;5;132;01m{\u001b[39;00mvalidator\u001b[38;5;241m.\u001b[39merrors\u001b[38;5;132;01m}\u001b[39;00m\u001b[38;5;124m\"\u001b[39m)\n\u001b[1;32m    103\u001b[0m \u001b[38;5;66;03m# Neither of these settings are to be set up.\u001b[39;00m\n\u001b[0;32m--> 104\u001b[0m \u001b[38;5;28;01massert\u001b[39;00m (\n\u001b[1;32m    105\u001b[0m     \u001b[38;5;129;01mnot\u001b[39;00m search_obj\u001b[38;5;241m.\u001b[39mfactors \u001b[38;5;129;01mor\u001b[39;00m \u001b[38;5;129;01mnot\u001b[39;00m search_obj\u001b[38;5;241m.\u001b[39mfactor_groups\n\u001b[1;32m    106\u001b[0m ), \u001b[38;5;124m\"\u001b[39m\u001b[38;5;124m`factor` and `factor_group` cannot be set together. Use either one.\u001b[39m\u001b[38;5;124m\"\u001b[39m\n\u001b[1;32m    108\u001b[0m \u001b[38;5;28;01mreturn\u001b[39;00m search_obj\n",
      "\u001b[0;31mAssertionError\u001b[0m: `factor` and `factor_group` cannot be set together. Use either one."
     ]
    }
   ],
   "source": [
    "# An error is thrown if you input both factors and factor_groups as follows.\n",
    "handler = handler.load(\n",
    "    data_source, # type: ignore\n",
    "    data_type='quants_factor_list',\n",
    "    factors=\"retMom63D\",\n",
    "    factor_groups=\"Momentum\",\n",
    "    keyword=\"momentum\",\n",
    ")"
   ]
  },
  {
   "cell_type": "markdown",
   "metadata": {},
   "source": [
    "### Step 2: Use the FSYM_ID above to load fundamental data by `data_type` = 'quants_factor_data'\n",
    "> these are initial publications"
   ]
  },
  {
   "cell_type": "markdown",
   "metadata": {},
   "source": [
    "### Pattern 1: look up FACTSET from list factors and symbols."
   ]
  },
  {
   "cell_type": "markdown",
   "metadata": {},
   "source": [
    "####  **load**\n",
    "> Load the data to memory  \n",
    "> Set data_type = 'quants_factor_data' for looking up instrument IDs."
   ]
  },
  {
   "cell_type": "code",
   "execution_count": 29,
   "metadata": {},
   "outputs": [
    {
     "ename": "JSONDecodeError",
     "evalue": "Expecting value: line 1 column 1 (char 0)",
     "output_type": "error",
     "traceback": [
      "\u001b[0;31m---------------------------------------------------------------------------\u001b[0m",
      "\u001b[0;31mJSONDecodeError\u001b[0m                           Traceback (most recent call last)",
      "Input \u001b[0;32mIn [29]\u001b[0m, in \u001b[0;36m<cell line: 3>\u001b[0;34m()\u001b[0m\n\u001b[1;32m      1\u001b[0m \u001b[38;5;66;03m# `data_type` must be 'quants_factor_data'\u001b[39;00m\n\u001b[0;32m----> 3\u001b[0m handler \u001b[38;5;241m=\u001b[39m \u001b[43mhandler\u001b[49m\u001b[38;5;241;43m.\u001b[39;49m\u001b[43mload\u001b[49m\u001b[43m(\u001b[49m\n\u001b[1;32m      4\u001b[0m \u001b[43m    \u001b[49m\u001b[43mdata_source\u001b[49m\u001b[43m,\u001b[49m\u001b[43m \u001b[49m\u001b[38;5;66;43;03m# type: ignore\u001b[39;49;00m\n\u001b[1;32m      5\u001b[0m \u001b[43m    \u001b[49m\u001b[43mdata_type\u001b[49m\u001b[38;5;241;43m=\u001b[39;49m\u001b[38;5;124;43m'\u001b[39;49m\u001b[38;5;124;43mquants_factor_data\u001b[39;49m\u001b[38;5;124;43m'\u001b[39;49m\u001b[43m,\u001b[49m\n\u001b[1;32m      6\u001b[0m \u001b[43m    \u001b[49m\u001b[43mlist_symbols\u001b[49m\u001b[38;5;241;43m=\u001b[39;49m\u001b[38;5;124;43m\"\u001b[39;49m\u001b[38;5;124;43mMH33D6-R\u001b[39;49m\u001b[38;5;124;43m\"\u001b[39;49m\u001b[43m,\u001b[49m\n\u001b[1;32m      7\u001b[0m \u001b[43m    \u001b[49m\u001b[43mlist_factors\u001b[49m\u001b[38;5;241;43m=\u001b[39;49m\u001b[38;5;124;43m\"\u001b[39;49m\u001b[38;5;124;43mretMom63D\u001b[39;49m\u001b[38;5;124;43m\"\u001b[39;49m\u001b[43m,\u001b[49m\n\u001b[1;32m      8\u001b[0m \u001b[43m    \u001b[49m\u001b[38;5;66;43;03m# list_tickers=\"AAPL-US\",\u001b[39;49;00m\n\u001b[1;32m      9\u001b[0m \u001b[43m    \u001b[49m\u001b[38;5;66;43;03m# freq=\"CY\",\u001b[39;49;00m\n\u001b[1;32m     10\u001b[0m \u001b[43m    \u001b[49m\u001b[43mstart_datetime\u001b[49m\u001b[38;5;241;43m=\u001b[39;49m\u001b[38;5;124;43m\"\u001b[39;49m\u001b[38;5;124;43m2023-01-01\u001b[39;49m\u001b[38;5;124;43m\"\u001b[39;49m\u001b[43m,\u001b[49m\n\u001b[1;32m     11\u001b[0m \u001b[43m    \u001b[49m\u001b[43mend_datetime\u001b[49m\u001b[38;5;241;43m=\u001b[39;49m\u001b[38;5;124;43m\"\u001b[39;49m\u001b[38;5;124;43m2023-02-01\u001b[39;49m\u001b[38;5;124;43m\"\u001b[39;49m\u001b[43m,\u001b[49m\n\u001b[1;32m     12\u001b[0m \u001b[43m    \u001b[49m\u001b[43mfreq\u001b[49m\u001b[38;5;241;43m=\u001b[39;49m\u001b[38;5;124;43m'\u001b[39;49m\u001b[38;5;124;43mD\u001b[39;49m\u001b[38;5;124;43m'\u001b[39;49m\n\u001b[1;32m     13\u001b[0m \u001b[43m    \u001b[49m\u001b[38;5;66;43;03m# num_chunks=10,\u001b[39;49;00m\n\u001b[1;32m     14\u001b[0m \u001b[43m)\u001b[49m\n\u001b[1;32m     15\u001b[0m handler\u001b[38;5;241m.\u001b[39mretrieve(transformed\u001b[38;5;241m=\u001b[39m\u001b[38;5;28;01mFalse\u001b[39;00m)\n",
      "File \u001b[0;32m~/workspace/rep/asr_protected/asr_protected/data_handler/impl/std_data_handler.py:252\u001b[0m, in \u001b[0;36mStdDataHandler.load\u001b[0;34m(self, data_source, **kwargs)\u001b[0m\n\u001b[1;32m    235\u001b[0m \u001b[38;5;28;01mdef\u001b[39;00m \u001b[38;5;21mload\u001b[39m(\u001b[38;5;28mself\u001b[39m, data_source: \u001b[38;5;28mstr\u001b[39m \u001b[38;5;241m=\u001b[39m \u001b[38;5;124m'\u001b[39m\u001b[38;5;124mstd\u001b[39m\u001b[38;5;124m'\u001b[39m, \u001b[38;5;241m*\u001b[39m\u001b[38;5;241m*\u001b[39mkwargs) \u001b[38;5;241m-\u001b[39m\u001b[38;5;241m>\u001b[39m TSelf:\n\u001b[1;32m    236\u001b[0m \u001b[38;5;250m    \u001b[39m\u001b[38;5;124;03m\"\"\"Loads data from a specified source, returning the instance for method chaining.\u001b[39;00m\n\u001b[1;32m    237\u001b[0m \n\u001b[1;32m    238\u001b[0m \u001b[38;5;124;03m    Parameters\u001b[39;00m\n\u001b[0;32m   (...)\u001b[0m\n\u001b[1;32m    250\u001b[0m \u001b[38;5;124;03m    See separate documentation for `data_source`-specific parameters.\u001b[39;00m\n\u001b[1;32m    251\u001b[0m \u001b[38;5;124;03m    \"\"\"\u001b[39;00m\n\u001b[0;32m--> 252\u001b[0m     data_loader \u001b[38;5;241m=\u001b[39m \u001b[38;5;28;43mself\u001b[39;49m\u001b[38;5;241;43m.\u001b[39;49m\u001b[43mextract\u001b[49m\u001b[43m(\u001b[49m\u001b[43mdata_source\u001b[49m\u001b[38;5;241;43m=\u001b[39;49m\u001b[43mdata_source\u001b[49m\u001b[43m,\u001b[49m\u001b[43m \u001b[49m\u001b[38;5;241;43m*\u001b[39;49m\u001b[38;5;241;43m*\u001b[39;49m\u001b[43mkwargs\u001b[49m\u001b[43m)\u001b[49m\n\u001b[1;32m    253\u001b[0m     \u001b[38;5;28mself\u001b[39m\u001b[38;5;241m.\u001b[39m_last_data_loader \u001b[38;5;241m=\u001b[39m data_loader\n\u001b[1;32m    254\u001b[0m     \u001b[38;5;28;01mreturn\u001b[39;00m \u001b[38;5;28mself\u001b[39m\n",
      "File \u001b[0;32m~/workspace/rep/asr_protected/asr_protected/data_manager/extraction/manager.py:53\u001b[0m, in \u001b[0;36mDataManager.__call__\u001b[0;34m(self, data_source, **kwargs)\u001b[0m\n\u001b[1;32m     40\u001b[0m \u001b[38;5;250m\u001b[39m\u001b[38;5;124;03m\"\"\"Data loading process according to data_source\u001b[39;00m\n\u001b[1;32m     41\u001b[0m \n\u001b[1;32m     42\u001b[0m \u001b[38;5;124;03mParameters\u001b[39;00m\n\u001b[0;32m   (...)\u001b[0m\n\u001b[1;32m     50\u001b[0m \u001b[38;5;124;03m    DataLoader object corresponding to the data source\u001b[39;00m\n\u001b[1;32m     51\u001b[0m \u001b[38;5;124;03m\"\"\"\u001b[39;00m\n\u001b[1;32m     52\u001b[0m data_loader \u001b[38;5;241m=\u001b[39m get_data_loader(data_source)\n\u001b[0;32m---> 53\u001b[0m holders \u001b[38;5;241m=\u001b[39m \u001b[43mgenerate_loader\u001b[49m\u001b[43m(\u001b[49m\u001b[43mdata_loader\u001b[49m\u001b[43m,\u001b[49m\u001b[43m \u001b[49m\u001b[43mkwargs\u001b[49m\u001b[43m)\u001b[49m\n\u001b[1;32m     54\u001b[0m data_ids \u001b[38;5;241m=\u001b[39m [\u001b[38;5;28mself\u001b[39m\u001b[38;5;241m.\u001b[39mset_holder(h) \u001b[38;5;28;01mfor\u001b[39;00m h \u001b[38;5;129;01min\u001b[39;00m holders]\n\u001b[1;32m     55\u001b[0m \u001b[38;5;28;01mreturn\u001b[39;00m data_loader\n",
      "File \u001b[0;32m~/workspace/rep/asr_protected/asr_protected/data_manager/extraction/manager.py:226\u001b[0m, in \u001b[0;36mgenerate_loader\u001b[0;34m(loader, kwargs)\u001b[0m\n\u001b[1;32m    224\u001b[0m \u001b[38;5;28;01mdef\u001b[39;00m \u001b[38;5;21mgenerate_loader\u001b[39m(loader: DataLoader, kwargs):\n\u001b[0;32m--> 226\u001b[0m     \u001b[43mloader\u001b[49m\u001b[38;5;241;43m.\u001b[39;49m\u001b[43mload\u001b[49m\u001b[43m(\u001b[49m\u001b[38;5;241;43m*\u001b[39;49m\u001b[38;5;241;43m*\u001b[39;49m\u001b[43mkwargs\u001b[49m\u001b[43m)\u001b[49m\n\u001b[1;32m    227\u001b[0m     holders \u001b[38;5;241m=\u001b[39m []\n\u001b[1;32m    228\u001b[0m     \u001b[38;5;28;01mif\u001b[39;00m loader\u001b[38;5;241m.\u001b[39m\u001b[38;5;18m__class__\u001b[39m \u001b[38;5;129;01mis\u001b[39;00m StdDataLoader:\n",
      "File \u001b[0;32m~/workspace/rep/asr_protected/asr_protected/data_loader/abs/data_loader.py:68\u001b[0m, in \u001b[0;36mAbstractDataLoader.load\u001b[0;34m(self, **kwargs)\u001b[0m\n\u001b[1;32m     62\u001b[0m \u001b[38;5;250m\u001b[39m\u001b[38;5;124;03m\"\"\"\u001b[39;00m\n\u001b[1;32m     63\u001b[0m \u001b[38;5;124;03mGet data from DB and store it to memory of instance\u001b[39;00m\n\u001b[1;32m     64\u001b[0m \u001b[38;5;124;03m:param search_obj: search object\u001b[39;00m\n\u001b[1;32m     65\u001b[0m \u001b[38;5;124;03m:return:\u001b[39;00m\n\u001b[1;32m     66\u001b[0m \u001b[38;5;124;03m\"\"\"\u001b[39;00m\n\u001b[1;32m     67\u001b[0m valid_dict \u001b[38;5;241m=\u001b[39m \u001b[38;5;28mself\u001b[39m\u001b[38;5;241m.\u001b[39mvalidation_for_load(\u001b[38;5;241m*\u001b[39m\u001b[38;5;241m*\u001b[39mkwargs)\n\u001b[0;32m---> 68\u001b[0m \u001b[38;5;28;43mself\u001b[39;49m\u001b[38;5;241;43m.\u001b[39;49m\u001b[43mimp_load\u001b[49m\u001b[43m(\u001b[49m\u001b[38;5;241;43m*\u001b[39;49m\u001b[38;5;241;43m*\u001b[39;49m\u001b[43mvalid_dict\u001b[49m\u001b[43m)\u001b[49m\n\u001b[1;32m     69\u001b[0m \u001b[38;5;28;01mreturn\u001b[39;00m \u001b[38;5;28mself\u001b[39m\n",
      "File \u001b[0;32m~/workspace/rep/asr_common/asr_common/asr_decorator/asr_logging.py:19\u001b[0m, in \u001b[0;36mprint_execution_result.<locals>.wrapper\u001b[0;34m(*args, **kwargs)\u001b[0m\n\u001b[1;32m     17\u001b[0m func_args_str \u001b[38;5;241m=\u001b[39m \u001b[38;5;124m\"\u001b[39m\u001b[38;5;124m, \u001b[39m\u001b[38;5;124m\"\u001b[39m\u001b[38;5;241m.\u001b[39mjoin(\u001b[38;5;28mmap\u001b[39m(\u001b[38;5;124m\"\u001b[39m\u001b[38;5;132;01m{0[0]}\u001b[39;00m\u001b[38;5;124m = \u001b[39m\u001b[38;5;132;01m{0[1]!r}\u001b[39;00m\u001b[38;5;124m\"\u001b[39m\u001b[38;5;241m.\u001b[39mformat, func_args\u001b[38;5;241m.\u001b[39mitems()))\n\u001b[1;32m     18\u001b[0m logger\u001b[38;5;241m.\u001b[39minfo(\u001b[38;5;124mf\u001b[39m\u001b[38;5;124m\"\u001b[39m\u001b[38;5;132;01m{\u001b[39;00mfunc\u001b[38;5;241m.\u001b[39m\u001b[38;5;18m__module__\u001b[39m\u001b[38;5;132;01m}\u001b[39;00m\u001b[38;5;124m.\u001b[39m\u001b[38;5;132;01m{\u001b[39;00mfunc\u001b[38;5;241m.\u001b[39m\u001b[38;5;18m__qualname__\u001b[39m\u001b[38;5;132;01m}\u001b[39;00m\u001b[38;5;124m ( \u001b[39m\u001b[38;5;132;01m{\u001b[39;00mfunc_args_str\u001b[38;5;132;01m}\u001b[39;00m\u001b[38;5;124m )\u001b[39m\u001b[38;5;124m\"\u001b[39m)\n\u001b[0;32m---> 19\u001b[0m f \u001b[38;5;241m=\u001b[39m \u001b[43mfunc\u001b[49m\u001b[43m(\u001b[49m\u001b[38;5;241;43m*\u001b[39;49m\u001b[43margs\u001b[49m\u001b[43m,\u001b[49m\u001b[43m \u001b[49m\u001b[38;5;241;43m*\u001b[39;49m\u001b[38;5;241;43m*\u001b[39;49m\u001b[43mkwargs\u001b[49m\u001b[43m)\u001b[49m\n\u001b[1;32m     20\u001b[0m end_time \u001b[38;5;241m=\u001b[39m time\u001b[38;5;241m.\u001b[39mperf_counter()\n\u001b[1;32m     21\u001b[0m execution_time \u001b[38;5;241m=\u001b[39m end_time \u001b[38;5;241m-\u001b[39m start_time\n",
      "File \u001b[0;32m~/workspace/rep/asr_protected/asr_protected/data_loader/impl/factset_data_loader.py:208\u001b[0m, in \u001b[0;36mFactsetDataLoader.imp_load\u001b[0;34m(self, **valid_dict)\u001b[0m\n\u001b[1;32m    206\u001b[0m acc \u001b[38;5;241m=\u001b[39m db_access_create(dict_db_info)\n\u001b[1;32m    207\u001b[0m \u001b[38;5;66;03m# Get data according to data type and set it in data holder\u001b[39;00m\n\u001b[0;32m--> 208\u001b[0m df_data \u001b[38;5;241m=\u001b[39m \u001b[38;5;28;43mself\u001b[39;49m\u001b[38;5;241;43m.\u001b[39;49m\u001b[43m_acquire_data_by_type\u001b[49m\u001b[43m(\u001b[49m\u001b[43macc\u001b[49m\u001b[43m,\u001b[49m\u001b[43m \u001b[49m\u001b[43mdata_type\u001b[49m\u001b[43m,\u001b[49m\u001b[43m \u001b[49m\u001b[38;5;241;43m*\u001b[39;49m\u001b[38;5;241;43m*\u001b[39;49m\u001b[43mdict_input\u001b[49m\u001b[43m)\u001b[49m \u001b[38;5;66;03m# type: ignore\u001b[39;00m\n\u001b[1;32m    209\u001b[0m \u001b[38;5;28mself\u001b[39m\u001b[38;5;241m.\u001b[39m_set_data_holder(df_data)\n\u001b[1;32m    210\u001b[0m \u001b[38;5;28;01mreturn\u001b[39;00m \u001b[38;5;28mself\u001b[39m\n",
      "File \u001b[0;32m~/workspace/rep/asr_protected/asr_protected/data_loader/impl/factset_data_loader.py:310\u001b[0m, in \u001b[0;36mFactsetDataLoader._acquire_data_by_type\u001b[0;34m(acc, data_type, **valid_dict)\u001b[0m\n\u001b[1;32m    306\u001b[0m \u001b[38;5;28;01melse\u001b[39;00m:\n\u001b[1;32m    307\u001b[0m     \u001b[38;5;28;01mraise\u001b[39;00m \u001b[38;5;167;01mNotImplementedError\u001b[39;00m(\n\u001b[1;32m    308\u001b[0m         \u001b[38;5;124mf\u001b[39m\u001b[38;5;124m'\u001b[39m\u001b[38;5;124mdata_type==\u001b[39m\u001b[38;5;132;01m{\u001b[39;00mdata_type\u001b[38;5;132;01m}\u001b[39;00m\u001b[38;5;124m is not available.\u001b[39m\u001b[38;5;124m'\u001b[39m)\n\u001b[0;32m--> 310\u001b[0m data \u001b[38;5;241m=\u001b[39m \u001b[43macq\u001b[49m\u001b[38;5;241;43m.\u001b[39;49m\u001b[43mfetch_from_db\u001b[49m\u001b[43m(\u001b[49m\u001b[43mobj\u001b[49m\u001b[43m)\u001b[49m  \u001b[38;5;66;03m# type: ignore\u001b[39;00m\n\u001b[1;32m    311\u001b[0m std_data \u001b[38;5;241m=\u001b[39m standardize_output(data_type, data)\n\u001b[1;32m    312\u001b[0m \u001b[38;5;28;01mreturn\u001b[39;00m std_data\n",
      "File \u001b[0;32m~/workspace/rep/asr_protected/asr_protected/data_acquirer/abs/data_acquirer.py:40\u001b[0m, in \u001b[0;36mAbstractAcquirer.fetch_from_db\u001b[0;34m(self, search_obj)\u001b[0m\n\u001b[1;32m     34\u001b[0m \u001b[38;5;250m\u001b[39m\u001b[38;5;124;03m\"\"\"\u001b[39;00m\n\u001b[1;32m     35\u001b[0m \u001b[38;5;124;03mExecute validation and return fetched data as any data type.\u001b[39;00m\n\u001b[1;32m     36\u001b[0m \u001b[38;5;124;03m:param search_obj: search object\u001b[39;00m\n\u001b[1;32m     37\u001b[0m \u001b[38;5;124;03m:return: fetched data\u001b[39;00m\n\u001b[1;32m     38\u001b[0m \u001b[38;5;124;03m\"\"\"\u001b[39;00m\n\u001b[1;32m     39\u001b[0m valid_search_obj \u001b[38;5;241m=\u001b[39m \u001b[38;5;28mself\u001b[39m\u001b[38;5;241m.\u001b[39mbefore_validation(search_obj)\n\u001b[0;32m---> 40\u001b[0m conv_df \u001b[38;5;241m=\u001b[39m convert_to_dataframe(\u001b[38;5;28;43mself\u001b[39;49m\u001b[38;5;241;43m.\u001b[39;49m\u001b[43mimp_fetch_from_db\u001b[49m\u001b[43m(\u001b[49m\u001b[43mvalid_search_obj\u001b[49m\u001b[43m)\u001b[49m, \u001b[38;5;28mself\u001b[39m\u001b[38;5;241m.\u001b[39m_data_type)\n\u001b[1;32m     41\u001b[0m valid_conv_df \u001b[38;5;241m=\u001b[39m \u001b[38;5;28mself\u001b[39m\u001b[38;5;241m.\u001b[39mafter_validation(conv_df)\n\u001b[1;32m     42\u001b[0m \u001b[38;5;28;01mreturn\u001b[39;00m valid_conv_df\n",
      "File \u001b[0;32m~/workspace/rep/asr_protected/asr_protected/data_acquirer/impl/factor_factset_quants_factor_data_acquirer.py:287\u001b[0m, in \u001b[0;36mFactorFactsetQuantsFactorDataAcquirer.imp_fetch_from_db\u001b[0;34m(self, search_obj)\u001b[0m\n\u001b[1;32m    269\u001b[0m \u001b[38;5;28;01mdef\u001b[39;00m \u001b[38;5;21mimp_fetch_from_db\u001b[39m(\n\u001b[1;32m    270\u001b[0m     \u001b[38;5;28mself\u001b[39m,\n\u001b[1;32m    271\u001b[0m     search_obj: FactorFactsetQuantsFactorDataAcquirerObj,\n\u001b[1;32m    272\u001b[0m ) \u001b[38;5;241m-\u001b[39m\u001b[38;5;241m>\u001b[39m pd\u001b[38;5;241m.\u001b[39mDataFrame:\n\u001b[1;32m    273\u001b[0m \u001b[38;5;250m    \u001b[39m\u001b[38;5;124;03m\"\"\"\u001b[39;00m\n\u001b[1;32m    274\u001b[0m \u001b[38;5;124;03m    Main method to fetch data from the database based on the provided search object.\u001b[39;00m\n\u001b[1;32m    275\u001b[0m \u001b[38;5;124;03m    Validates the search criteria, selects the appropriate database table, and retrieves\u001b[39;00m\n\u001b[0;32m   (...)\u001b[0m\n\u001b[1;32m    285\u001b[0m \u001b[38;5;124;03m        ValueError: If the search criteria are not met or no data is found.\u001b[39;00m\n\u001b[1;32m    286\u001b[0m \u001b[38;5;124;03m    \"\"\"\u001b[39;00m\n\u001b[0;32m--> 287\u001b[0m     df_result \u001b[38;5;241m=\u001b[39m \u001b[38;5;28;43mself\u001b[39;49m\u001b[38;5;241;43m.\u001b[39;49m\u001b[43mload_quants_factors_from_api\u001b[49m\u001b[43m(\u001b[49m\u001b[43msearch_obj\u001b[49m\u001b[38;5;241;43m=\u001b[39;49m\u001b[43msearch_obj\u001b[49m\u001b[43m)\u001b[49m\n\u001b[1;32m    288\u001b[0m     \u001b[38;5;28;01mif\u001b[39;00m df_result\u001b[38;5;241m.\u001b[39mempty:\n\u001b[1;32m    289\u001b[0m         \u001b[38;5;28;01mraise\u001b[39;00m \u001b[38;5;167;01mValueError\u001b[39;00m(\u001b[38;5;124m\"\u001b[39m\u001b[38;5;124mNo search results found for the given criteria.\u001b[39m\u001b[38;5;124m\"\u001b[39m)\n",
      "File \u001b[0;32m~/workspace/rep/asr_protected/asr_protected/data_acquirer/impl/factor_factset_quants_factor_data_acquirer.py:226\u001b[0m, in \u001b[0;36mFactorFactsetQuantsFactorDataAcquirer.load_quants_factors_from_api\u001b[0;34m(self, search_obj)\u001b[0m\n\u001b[1;32m    219\u001b[0m query_str \u001b[38;5;241m=\u001b[39m \u001b[38;5;124m\"\u001b[39m\u001b[38;5;124mget_quants_factors\u001b[39m\u001b[38;5;124m\"\u001b[39m\n\u001b[1;32m    220\u001b[0m params \u001b[38;5;241m=\u001b[39m {\n\u001b[1;32m    221\u001b[0m     \u001b[38;5;124m\"\u001b[39m\u001b[38;5;124mendpoint\u001b[39m\u001b[38;5;124m\"\u001b[39m: \u001b[38;5;28mself\u001b[39m\u001b[38;5;241m.\u001b[39m__data_endpoint,\n\u001b[1;32m    222\u001b[0m     \u001b[38;5;124m\"\u001b[39m\u001b[38;5;124mrequest_params\u001b[39m\u001b[38;5;124m\"\u001b[39m: dict_request,\n\u001b[1;32m    223\u001b[0m     \u001b[38;5;124m\"\u001b[39m\u001b[38;5;124mverify\u001b[39m\u001b[38;5;124m\"\u001b[39m: \u001b[38;5;28;01mTrue\u001b[39;00m,\n\u001b[1;32m    224\u001b[0m }\n\u001b[0;32m--> 226\u001b[0m df_result \u001b[38;5;241m=\u001b[39m \u001b[38;5;28;43mself\u001b[39;49m\u001b[38;5;241;43m.\u001b[39;49m\u001b[43mdb_accessor\u001b[49m\u001b[38;5;241;43m.\u001b[39;49m\u001b[43mread_data\u001b[49m\u001b[43m(\u001b[49m\u001b[43mquery_str\u001b[49m\u001b[38;5;241;43m=\u001b[39;49m\u001b[43mquery_str\u001b[49m\u001b[43m,\u001b[49m\u001b[43m \u001b[49m\u001b[43mparams\u001b[49m\u001b[38;5;241;43m=\u001b[39;49m\u001b[43mparams\u001b[49m\u001b[43m)\u001b[49m\n\u001b[1;32m    227\u001b[0m list_dfs\u001b[38;5;241m.\u001b[39mappend(df_result)\n\u001b[1;32m    229\u001b[0m \u001b[38;5;28;01mif\u001b[39;00m \u001b[38;5;28mlen\u001b[39m(list_dfs) \u001b[38;5;241m>\u001b[39m \u001b[38;5;241m0\u001b[39m:\n",
      "File \u001b[0;32m~/workspace/rep/asr_protected/asr_protected/data_accessor/factset_db_accessor.py:104\u001b[0m, in \u001b[0;36mFactsetDbAccessor.read_data\u001b[0;34m(self, query_str, params)\u001b[0m\n\u001b[1;32m    101\u001b[0m \u001b[38;5;28;01mexcept\u001b[39;00m \u001b[38;5;167;01mException\u001b[39;00m \u001b[38;5;28;01mas\u001b[39;00m e:\n\u001b[1;32m    102\u001b[0m     \u001b[38;5;66;03m# If a common error occurs, log it and re-raise that error\u001b[39;00m\n\u001b[1;32m    103\u001b[0m     logger\u001b[38;5;241m.\u001b[39merror(\u001b[38;5;124mf\u001b[39m\u001b[38;5;124m\"\u001b[39m\u001b[38;5;124mAn error occurred while retrieving FactSet data: \u001b[39m\u001b[38;5;132;01m{\u001b[39;00me\u001b[38;5;132;01m}\u001b[39;00m\u001b[38;5;124m\"\u001b[39m)\n\u001b[0;32m--> 104\u001b[0m     \u001b[38;5;28;01mraise\u001b[39;00m e\n\u001b[1;32m    106\u001b[0m \u001b[38;5;28;01mif\u001b[39;00m df\u001b[38;5;241m.\u001b[39mempty:\n\u001b[1;32m    107\u001b[0m     \u001b[38;5;66;03m# Log warning if retrieved data is empty\u001b[39;00m\n\u001b[1;32m    108\u001b[0m     logger\u001b[38;5;241m.\u001b[39mwarning(\u001b[38;5;124m\"\u001b[39m\u001b[38;5;124mWarning: Data from API was empty.\u001b[39m\u001b[38;5;124m\"\u001b[39m)\n",
      "File \u001b[0;32m~/workspace/rep/asr_protected/asr_protected/data_accessor/factset_db_accessor.py:84\u001b[0m, in \u001b[0;36mFactsetDbAccessor.read_data\u001b[0;34m(self, query_str, params)\u001b[0m\n\u001b[1;32m     78\u001b[0m         df \u001b[38;5;241m=\u001b[39m pd\u001b[38;5;241m.\u001b[39mDataFrame(data_list)\n\u001b[1;32m     80\u001b[0m \u001b[38;5;28;01melif\u001b[39;00m (query_str \u001b[38;5;241m==\u001b[39m \u001b[38;5;124m\"\u001b[39m\u001b[38;5;124mget_quants_factors\u001b[39m\u001b[38;5;124m\"\u001b[39m \u001b[38;5;129;01mor\u001b[39;00m\n\u001b[1;32m     81\u001b[0m       query_str \u001b[38;5;241m==\u001b[39m \u001b[38;5;124m\"\u001b[39m\u001b[38;5;124mget_factor_list\u001b[39m\u001b[38;5;124m\"\u001b[39m):\n\u001b[1;32m     82\u001b[0m \n\u001b[1;32m     83\u001b[0m     \u001b[38;5;66;03m# What happens for 'get_quants_factors' or 'get_factor_list' queries?\u001b[39;00m\n\u001b[0;32m---> 84\u001b[0m     json_api_response \u001b[38;5;241m=\u001b[39m \u001b[38;5;28;43mself\u001b[39;49m\u001b[38;5;241;43m.\u001b[39;49m\u001b[43msend_json_request_to_api\u001b[49m\u001b[43m(\u001b[49m\u001b[38;5;241;43m*\u001b[39;49m\u001b[38;5;241;43m*\u001b[39;49m\u001b[43mparams\u001b[49m\u001b[43m)\u001b[49m\n\u001b[1;32m     85\u001b[0m     \u001b[38;5;28;01mif\u001b[39;00m \u001b[38;5;124m\"\u001b[39m\u001b[38;5;124mdata\u001b[39m\u001b[38;5;124m\"\u001b[39m \u001b[38;5;129;01min\u001b[39;00m json_api_response:\n\u001b[1;32m     86\u001b[0m         df \u001b[38;5;241m=\u001b[39m pd\u001b[38;5;241m.\u001b[39mDataFrame(json_api_response[\u001b[38;5;124m\"\u001b[39m\u001b[38;5;124mdata\u001b[39m\u001b[38;5;124m\"\u001b[39m])\n",
      "File \u001b[0;32m~/workspace/rep/asr_protected/asr_protected/data_accessor/factset_db_accessor.py:171\u001b[0m, in \u001b[0;36mFactsetDbAccessor.send_json_request_to_api\u001b[0;34m(self, endpoint, request_params, verify, max_retry)\u001b[0m\n\u001b[1;32m    169\u001b[0m     request_success \u001b[38;5;241m=\u001b[39m \u001b[38;5;28;01mTrue\u001b[39;00m\n\u001b[1;32m    170\u001b[0m \u001b[38;5;28;01melse\u001b[39;00m:\n\u001b[0;32m--> 171\u001b[0m     error_msg \u001b[38;5;241m=\u001b[39m \u001b[43mjson\u001b[49m\u001b[38;5;241;43m.\u001b[39;49m\u001b[43mloads\u001b[49m\u001b[43m(\u001b[49m\u001b[43mapi_response\u001b[49m\u001b[38;5;241;43m.\u001b[39;49m\u001b[43mtext\u001b[49m\u001b[43m)\u001b[49m\n\u001b[1;32m    173\u001b[0m     \u001b[38;5;28;01mif\u001b[39;00m api_response\u001b[38;5;241m.\u001b[39mstatus_code \u001b[38;5;241m==\u001b[39m \u001b[38;5;241m401\u001b[39m:\n\u001b[1;32m    174\u001b[0m         logger\u001b[38;5;241m.\u001b[39merror(\u001b[38;5;124m\"\u001b[39m\u001b[38;5;124mAuthentication error. Please check your credentials.\u001b[39m\u001b[38;5;124m\"\u001b[39m)\n",
      "File \u001b[0;32m~/miniconda3/envs/factset_demo/lib/python3.9/json/__init__.py:346\u001b[0m, in \u001b[0;36mloads\u001b[0;34m(s, cls, object_hook, parse_float, parse_int, parse_constant, object_pairs_hook, **kw)\u001b[0m\n\u001b[1;32m    341\u001b[0m     s \u001b[38;5;241m=\u001b[39m s\u001b[38;5;241m.\u001b[39mdecode(detect_encoding(s), \u001b[38;5;124m'\u001b[39m\u001b[38;5;124msurrogatepass\u001b[39m\u001b[38;5;124m'\u001b[39m)\n\u001b[1;32m    343\u001b[0m \u001b[38;5;28;01mif\u001b[39;00m (\u001b[38;5;28mcls\u001b[39m \u001b[38;5;129;01mis\u001b[39;00m \u001b[38;5;28;01mNone\u001b[39;00m \u001b[38;5;129;01mand\u001b[39;00m object_hook \u001b[38;5;129;01mis\u001b[39;00m \u001b[38;5;28;01mNone\u001b[39;00m \u001b[38;5;129;01mand\u001b[39;00m\n\u001b[1;32m    344\u001b[0m         parse_int \u001b[38;5;129;01mis\u001b[39;00m \u001b[38;5;28;01mNone\u001b[39;00m \u001b[38;5;129;01mand\u001b[39;00m parse_float \u001b[38;5;129;01mis\u001b[39;00m \u001b[38;5;28;01mNone\u001b[39;00m \u001b[38;5;129;01mand\u001b[39;00m\n\u001b[1;32m    345\u001b[0m         parse_constant \u001b[38;5;129;01mis\u001b[39;00m \u001b[38;5;28;01mNone\u001b[39;00m \u001b[38;5;129;01mand\u001b[39;00m object_pairs_hook \u001b[38;5;129;01mis\u001b[39;00m \u001b[38;5;28;01mNone\u001b[39;00m \u001b[38;5;129;01mand\u001b[39;00m \u001b[38;5;129;01mnot\u001b[39;00m kw):\n\u001b[0;32m--> 346\u001b[0m     \u001b[38;5;28;01mreturn\u001b[39;00m \u001b[43m_default_decoder\u001b[49m\u001b[38;5;241;43m.\u001b[39;49m\u001b[43mdecode\u001b[49m\u001b[43m(\u001b[49m\u001b[43ms\u001b[49m\u001b[43m)\u001b[49m\n\u001b[1;32m    347\u001b[0m \u001b[38;5;28;01mif\u001b[39;00m \u001b[38;5;28mcls\u001b[39m \u001b[38;5;129;01mis\u001b[39;00m \u001b[38;5;28;01mNone\u001b[39;00m:\n\u001b[1;32m    348\u001b[0m     \u001b[38;5;28mcls\u001b[39m \u001b[38;5;241m=\u001b[39m JSONDecoder\n",
      "File \u001b[0;32m~/miniconda3/envs/factset_demo/lib/python3.9/json/decoder.py:337\u001b[0m, in \u001b[0;36mJSONDecoder.decode\u001b[0;34m(self, s, _w)\u001b[0m\n\u001b[1;32m    332\u001b[0m \u001b[38;5;28;01mdef\u001b[39;00m \u001b[38;5;21mdecode\u001b[39m(\u001b[38;5;28mself\u001b[39m, s, _w\u001b[38;5;241m=\u001b[39mWHITESPACE\u001b[38;5;241m.\u001b[39mmatch):\n\u001b[1;32m    333\u001b[0m \u001b[38;5;250m    \u001b[39m\u001b[38;5;124;03m\"\"\"Return the Python representation of ``s`` (a ``str`` instance\u001b[39;00m\n\u001b[1;32m    334\u001b[0m \u001b[38;5;124;03m    containing a JSON document).\u001b[39;00m\n\u001b[1;32m    335\u001b[0m \n\u001b[1;32m    336\u001b[0m \u001b[38;5;124;03m    \"\"\"\u001b[39;00m\n\u001b[0;32m--> 337\u001b[0m     obj, end \u001b[38;5;241m=\u001b[39m \u001b[38;5;28;43mself\u001b[39;49m\u001b[38;5;241;43m.\u001b[39;49m\u001b[43mraw_decode\u001b[49m\u001b[43m(\u001b[49m\u001b[43ms\u001b[49m\u001b[43m,\u001b[49m\u001b[43m \u001b[49m\u001b[43midx\u001b[49m\u001b[38;5;241;43m=\u001b[39;49m\u001b[43m_w\u001b[49m\u001b[43m(\u001b[49m\u001b[43ms\u001b[49m\u001b[43m,\u001b[49m\u001b[43m \u001b[49m\u001b[38;5;241;43m0\u001b[39;49m\u001b[43m)\u001b[49m\u001b[38;5;241;43m.\u001b[39;49m\u001b[43mend\u001b[49m\u001b[43m(\u001b[49m\u001b[43m)\u001b[49m\u001b[43m)\u001b[49m\n\u001b[1;32m    338\u001b[0m     end \u001b[38;5;241m=\u001b[39m _w(s, end)\u001b[38;5;241m.\u001b[39mend()\n\u001b[1;32m    339\u001b[0m     \u001b[38;5;28;01mif\u001b[39;00m end \u001b[38;5;241m!=\u001b[39m \u001b[38;5;28mlen\u001b[39m(s):\n",
      "File \u001b[0;32m~/miniconda3/envs/factset_demo/lib/python3.9/json/decoder.py:355\u001b[0m, in \u001b[0;36mJSONDecoder.raw_decode\u001b[0;34m(self, s, idx)\u001b[0m\n\u001b[1;32m    353\u001b[0m     obj, end \u001b[38;5;241m=\u001b[39m \u001b[38;5;28mself\u001b[39m\u001b[38;5;241m.\u001b[39mscan_once(s, idx)\n\u001b[1;32m    354\u001b[0m \u001b[38;5;28;01mexcept\u001b[39;00m \u001b[38;5;167;01mStopIteration\u001b[39;00m \u001b[38;5;28;01mas\u001b[39;00m err:\n\u001b[0;32m--> 355\u001b[0m     \u001b[38;5;28;01mraise\u001b[39;00m JSONDecodeError(\u001b[38;5;124m\"\u001b[39m\u001b[38;5;124mExpecting value\u001b[39m\u001b[38;5;124m\"\u001b[39m, s, err\u001b[38;5;241m.\u001b[39mvalue) \u001b[38;5;28;01mfrom\u001b[39;00m \u001b[38;5;28;01mNone\u001b[39;00m\n\u001b[1;32m    356\u001b[0m \u001b[38;5;28;01mreturn\u001b[39;00m obj, end\n",
      "\u001b[0;31mJSONDecodeError\u001b[0m: Expecting value: line 1 column 1 (char 0)"
     ]
    }
   ],
   "source": [
    "# `data_type` must be 'quants_factor_data'\n",
    "\n",
    "handler = handler.load(\n",
    "    data_source, # type: ignore\n",
    "    data_type='quants_factor_data',\n",
    "    list_symbols=\"MH33D6-R\",\n",
    "    list_factors=\"retMom63D\",\n",
    "    # list_tickers=\"AAPL-US\",\n",
    "    # freq=\"CY\",\n",
    "    start_datetime=\"2023-01-01\",\n",
    "    end_datetime=\"2023-02-01\",\n",
    "    freq='D'\n",
    "    # num_chunks=10,\n",
    ")\n",
    "handler.retrieve(transformed=False)"
   ]
  },
  {
   "cell_type": "markdown",
   "metadata": {},
   "source": [
    "### Pattern 2: Look up FSYM_ID from list factors and tickers\n",
    "> If you know tickers, then it is quicker as in the next example."
   ]
  },
  {
   "cell_type": "code",
   "execution_count": 6,
   "metadata": {},
   "outputs": [
    {
     "data": {
      "text/html": [
       "<div>\n",
       "<style scoped>\n",
       "    .dataframe tbody tr th:only-of-type {\n",
       "        vertical-align: middle;\n",
       "    }\n",
       "\n",
       "    .dataframe tbody tr th {\n",
       "        vertical-align: top;\n",
       "    }\n",
       "\n",
       "    .dataframe thead th {\n",
       "        text-align: right;\n",
       "    }\n",
       "</style>\n",
       "<table border=\"1\" class=\"dataframe\">\n",
       "  <thead>\n",
       "    <tr style=\"text-align: right;\">\n",
       "      <th></th>\n",
       "      <th></th>\n",
       "      <th>ebitMgnFwdChg3Yr</th>\n",
       "    </tr>\n",
       "    <tr>\n",
       "      <th>symbol</th>\n",
       "      <th>datetime</th>\n",
       "      <th></th>\n",
       "    </tr>\n",
       "  </thead>\n",
       "  <tbody>\n",
       "    <tr>\n",
       "      <th>MH33D6-R</th>\n",
       "      <th>2023-01-31</th>\n",
       "      <td>-1.376834</td>\n",
       "    </tr>\n",
       "  </tbody>\n",
       "</table>\n",
       "</div>"
      ],
      "text/plain": [
       "                     ebitMgnFwdChg3Yr\n",
       "symbol   datetime                    \n",
       "MH33D6-R 2023-01-31         -1.376834"
      ]
     },
     "execution_count": 6,
     "metadata": {},
     "output_type": "execute_result"
    }
   ],
   "source": [
    "handler = handler.load(\n",
    "    data_source, # type: ignore\n",
    "    data_type='quants_factor_data',\n",
    "    # list_symbols=\"AAPL-US\",\n",
    "    list_factors=\"ebitMgnFwdChg3Yr\",\n",
    "    list_tickers=\"AAPL-US\",\n",
    "    # freq=\"CY\",\n",
    "    start_datetime=\"2023-01-01\",\n",
    "    end_datetime=\"2023-02-01\",\n",
    "    # num_chunks=10,\n",
    ")\n",
    "df_symbol = handler.retrieve(transformed=False)\n",
    "df_symbol.head(20)"
   ]
  },
  {
   "cell_type": "markdown",
   "metadata": {},
   "source": [
    "### Pattern 3: Look up FSYM_ID to be added to freq parameter.\n",
    ">Frequency can be selected from \"d\", \"w\", \"m\", \"am\", \"cq\", \"ay\" and \"cy\"."
   ]
  },
  {
   "cell_type": "code",
   "execution_count": 7,
   "metadata": {},
   "outputs": [
    {
     "data": {
      "text/html": [
       "<div>\n",
       "<style scoped>\n",
       "    .dataframe tbody tr th:only-of-type {\n",
       "        vertical-align: middle;\n",
       "    }\n",
       "\n",
       "    .dataframe tbody tr th {\n",
       "        vertical-align: top;\n",
       "    }\n",
       "\n",
       "    .dataframe thead th {\n",
       "        text-align: right;\n",
       "    }\n",
       "</style>\n",
       "<table border=\"1\" class=\"dataframe\">\n",
       "  <thead>\n",
       "    <tr style=\"text-align: right;\">\n",
       "      <th></th>\n",
       "      <th></th>\n",
       "      <th>ebitMgnFwdChg3Yr</th>\n",
       "    </tr>\n",
       "    <tr>\n",
       "      <th>symbol</th>\n",
       "      <th>datetime</th>\n",
       "      <th></th>\n",
       "    </tr>\n",
       "  </thead>\n",
       "  <tbody>\n",
       "    <tr>\n",
       "      <th>MH33D6-R</th>\n",
       "      <th>2022-12-30</th>\n",
       "      <td>-1.432398</td>\n",
       "    </tr>\n",
       "  </tbody>\n",
       "</table>\n",
       "</div>"
      ],
      "text/plain": [
       "                     ebitMgnFwdChg3Yr\n",
       "symbol   datetime                    \n",
       "MH33D6-R 2022-12-30         -1.432398"
      ]
     },
     "execution_count": 7,
     "metadata": {},
     "output_type": "execute_result"
    }
   ],
   "source": [
    "handler = handler.load(\n",
    "    data_source, # type: ignore\n",
    "    data_type='quants_factor_data',\n",
    "    list_symbols=\"AAPL-US\",\n",
    "    list_factors=\"ebitMgnFwdChg3Yr\",\n",
    "    list_tickers=\"AAPL-US\",\n",
    "    freq=\"CY\",  # [\"D\", \"W\", \"M\", \"AM\", \"CQ\", \"AY\", \"CY\"]\n",
    "    start_datetime=\"2023-01-01\",\n",
    "    end_datetime=\"2023-02-01\",\n",
    "    # num_chunks=10,\n",
    ")\n",
    "df_symbol = handler.retrieve(transformed=False)\n",
    "df_symbol.head(20)"
   ]
  },
  {
   "cell_type": "markdown",
   "metadata": {},
   "source": [
    "### Pattern 4: Look up FSYM_ID to be added to num_chunk parameter.\n",
    "\n",
    "\n",
    "num_chunk(chunksize) is a parameter used to split large data into smaller parts to be read in."
   ]
  },
  {
   "cell_type": "code",
   "execution_count": 8,
   "metadata": {},
   "outputs": [
    {
     "data": {
      "text/html": [
       "<div>\n",
       "<style scoped>\n",
       "    .dataframe tbody tr th:only-of-type {\n",
       "        vertical-align: middle;\n",
       "    }\n",
       "\n",
       "    .dataframe tbody tr th {\n",
       "        vertical-align: top;\n",
       "    }\n",
       "\n",
       "    .dataframe thead th {\n",
       "        text-align: right;\n",
       "    }\n",
       "</style>\n",
       "<table border=\"1\" class=\"dataframe\">\n",
       "  <thead>\n",
       "    <tr style=\"text-align: right;\">\n",
       "      <th></th>\n",
       "      <th></th>\n",
       "      <th>ebitMgnFwdChg3Yr</th>\n",
       "    </tr>\n",
       "    <tr>\n",
       "      <th>symbol</th>\n",
       "      <th>datetime</th>\n",
       "      <th></th>\n",
       "    </tr>\n",
       "  </thead>\n",
       "  <tbody>\n",
       "    <tr>\n",
       "      <th>MH33D6-R</th>\n",
       "      <th>2023-01-31</th>\n",
       "      <td>-1.376834</td>\n",
       "    </tr>\n",
       "  </tbody>\n",
       "</table>\n",
       "</div>"
      ],
      "text/plain": [
       "                     ebitMgnFwdChg3Yr\n",
       "symbol   datetime                    \n",
       "MH33D6-R 2023-01-31         -1.376834"
      ]
     },
     "execution_count": 8,
     "metadata": {},
     "output_type": "execute_result"
    }
   ],
   "source": [
    "# The input argument for FSYM_ID is `factset_id`.\n",
    "handler = handler.load(\n",
    "    data_source, # type: ignore\n",
    "    data_type='quants_factor_data',\n",
    "    list_symbols=\"AAPL-US\",\n",
    "    list_factors=\"ebitMgnFwdChg3Yr\",\n",
    "    # list_tickers=\"AAPL-US\",\n",
    "    # freq=\"CY\",  # kore\n",
    "    start_datetime=\"2023-01-01\",\n",
    "    end_datetime=\"2023-02-01\",\n",
    "    num_chunks=100,\n",
    "\n",
    ")\n",
    "df_symbol = handler.retrieve(transformed=False)\n",
    "df_symbol.head(20)"
   ]
  },
  {
   "cell_type": "markdown",
   "metadata": {},
   "source": [
    "#### Caution: You must provide 'list_factors' and can not do provide both 'list_tickers' and 'list_symbols' at the same time"
   ]
  },
  {
   "cell_type": "markdown",
   "metadata": {},
   "source": [
    "Either 'list_tickers' or 'list_symbols' must be provided, so both parameter can not be empty."
   ]
  },
  {
   "cell_type": "code",
   "execution_count": 9,
   "metadata": {},
   "outputs": [
    {
     "ename": "ValueError",
     "evalue": "Either 'list_tickers' or 'list_symbols' must be provided, but both are empty.",
     "output_type": "error",
     "traceback": [
      "\u001b[0;31m---------------------------------------------------------------------------\u001b[0m",
      "\u001b[0;31mValueError\u001b[0m                                Traceback (most recent call last)",
      "Input \u001b[0;32mIn [9]\u001b[0m, in \u001b[0;36m<cell line: 2>\u001b[0;34m()\u001b[0m\n\u001b[1;32m      1\u001b[0m \u001b[38;5;66;03m# An error is thrown if you input without both 'list_tickers' and 'list_symbols'.\u001b[39;00m\n\u001b[0;32m----> 2\u001b[0m handler \u001b[38;5;241m=\u001b[39m \u001b[43mhandler\u001b[49m\u001b[38;5;241;43m.\u001b[39;49m\u001b[43mload\u001b[49m\u001b[43m(\u001b[49m\n\u001b[1;32m      3\u001b[0m \u001b[43m    \u001b[49m\u001b[43mdata_source\u001b[49m\u001b[43m,\u001b[49m\u001b[43m \u001b[49m\u001b[38;5;66;43;03m# type: ignore\u001b[39;49;00m\n\u001b[1;32m      4\u001b[0m \u001b[43m    \u001b[49m\u001b[43mdata_type\u001b[49m\u001b[38;5;241;43m=\u001b[39;49m\u001b[38;5;124;43m'\u001b[39;49m\u001b[38;5;124;43mquants_factor_data\u001b[39;49m\u001b[38;5;124;43m'\u001b[39;49m\u001b[43m,\u001b[49m\n\u001b[1;32m      5\u001b[0m \u001b[43m    \u001b[49m\u001b[38;5;66;43;03m# list_symbols=\"AAPL-US\",\u001b[39;49;00m\n\u001b[1;32m      6\u001b[0m \u001b[43m    \u001b[49m\u001b[43mlist_factors\u001b[49m\u001b[38;5;241;43m=\u001b[39;49m\u001b[38;5;124;43m\"\u001b[39;49m\u001b[38;5;124;43mebitMgnFwdChg3Yr\u001b[39;49m\u001b[38;5;124;43m\"\u001b[39;49m\u001b[43m,\u001b[49m\n\u001b[1;32m      7\u001b[0m \u001b[43m    \u001b[49m\u001b[38;5;66;43;03m# list_tickers=\"AAPL-US\",\u001b[39;49;00m\n\u001b[1;32m      8\u001b[0m \u001b[43m    \u001b[49m\u001b[43mfreq\u001b[49m\u001b[38;5;241;43m=\u001b[39;49m\u001b[38;5;124;43m\"\u001b[39;49m\u001b[38;5;124;43mCY\u001b[39;49m\u001b[38;5;124;43m\"\u001b[39;49m\u001b[43m,\u001b[49m\n\u001b[1;32m      9\u001b[0m \u001b[43m    \u001b[49m\u001b[43mstart_datetime\u001b[49m\u001b[38;5;241;43m=\u001b[39;49m\u001b[38;5;124;43m\"\u001b[39;49m\u001b[38;5;124;43m2023-01-01\u001b[39;49m\u001b[38;5;124;43m\"\u001b[39;49m\u001b[43m,\u001b[49m\n\u001b[1;32m     10\u001b[0m \u001b[43m    \u001b[49m\u001b[43mend_datetime\u001b[49m\u001b[38;5;241;43m=\u001b[39;49m\u001b[38;5;124;43m\"\u001b[39;49m\u001b[38;5;124;43m2023-02-01\u001b[39;49m\u001b[38;5;124;43m\"\u001b[39;49m\u001b[43m,\u001b[49m\n\u001b[1;32m     11\u001b[0m \u001b[43m    \u001b[49m\u001b[43mnum_chunks\u001b[49m\u001b[38;5;241;43m=\u001b[39;49m\u001b[38;5;241;43m10\u001b[39;49m\u001b[43m,\u001b[49m\n\u001b[1;32m     12\u001b[0m \u001b[43m)\u001b[49m\n\u001b[1;32m     13\u001b[0m df_symbol \u001b[38;5;241m=\u001b[39m handler\u001b[38;5;241m.\u001b[39mretrieve(transformed\u001b[38;5;241m=\u001b[39m\u001b[38;5;28;01mFalse\u001b[39;00m)\n\u001b[1;32m     14\u001b[0m df_symbol\u001b[38;5;241m.\u001b[39mhead(\u001b[38;5;241m20\u001b[39m)\n",
      "File \u001b[0;32m~/workspace/rep/asr_protected/asr_protected/data_handler/impl/std_data_handler.py:252\u001b[0m, in \u001b[0;36mStdDataHandler.load\u001b[0;34m(self, data_source, **kwargs)\u001b[0m\n\u001b[1;32m    235\u001b[0m \u001b[38;5;28;01mdef\u001b[39;00m \u001b[38;5;21mload\u001b[39m(\u001b[38;5;28mself\u001b[39m, data_source: \u001b[38;5;28mstr\u001b[39m \u001b[38;5;241m=\u001b[39m \u001b[38;5;124m'\u001b[39m\u001b[38;5;124mstd\u001b[39m\u001b[38;5;124m'\u001b[39m, \u001b[38;5;241m*\u001b[39m\u001b[38;5;241m*\u001b[39mkwargs) \u001b[38;5;241m-\u001b[39m\u001b[38;5;241m>\u001b[39m TSelf:\n\u001b[1;32m    236\u001b[0m \u001b[38;5;250m    \u001b[39m\u001b[38;5;124;03m\"\"\"Loads data from a specified source, returning the instance for method chaining.\u001b[39;00m\n\u001b[1;32m    237\u001b[0m \n\u001b[1;32m    238\u001b[0m \u001b[38;5;124;03m    Parameters\u001b[39;00m\n\u001b[0;32m   (...)\u001b[0m\n\u001b[1;32m    250\u001b[0m \u001b[38;5;124;03m    See separate documentation for `data_source`-specific parameters.\u001b[39;00m\n\u001b[1;32m    251\u001b[0m \u001b[38;5;124;03m    \"\"\"\u001b[39;00m\n\u001b[0;32m--> 252\u001b[0m     data_loader \u001b[38;5;241m=\u001b[39m \u001b[38;5;28;43mself\u001b[39;49m\u001b[38;5;241;43m.\u001b[39;49m\u001b[43mextract\u001b[49m\u001b[43m(\u001b[49m\u001b[43mdata_source\u001b[49m\u001b[38;5;241;43m=\u001b[39;49m\u001b[43mdata_source\u001b[49m\u001b[43m,\u001b[49m\u001b[43m \u001b[49m\u001b[38;5;241;43m*\u001b[39;49m\u001b[38;5;241;43m*\u001b[39;49m\u001b[43mkwargs\u001b[49m\u001b[43m)\u001b[49m\n\u001b[1;32m    253\u001b[0m     \u001b[38;5;28mself\u001b[39m\u001b[38;5;241m.\u001b[39m_last_data_loader \u001b[38;5;241m=\u001b[39m data_loader\n\u001b[1;32m    254\u001b[0m     \u001b[38;5;28;01mreturn\u001b[39;00m \u001b[38;5;28mself\u001b[39m\n",
      "File \u001b[0;32m~/workspace/rep/asr_protected/asr_protected/data_manager/extraction/manager.py:53\u001b[0m, in \u001b[0;36mDataManager.__call__\u001b[0;34m(self, data_source, **kwargs)\u001b[0m\n\u001b[1;32m     40\u001b[0m \u001b[38;5;250m\u001b[39m\u001b[38;5;124;03m\"\"\"Data loading process according to data_source\u001b[39;00m\n\u001b[1;32m     41\u001b[0m \n\u001b[1;32m     42\u001b[0m \u001b[38;5;124;03mParameters\u001b[39;00m\n\u001b[0;32m   (...)\u001b[0m\n\u001b[1;32m     50\u001b[0m \u001b[38;5;124;03m    DataLoader object corresponding to the data source\u001b[39;00m\n\u001b[1;32m     51\u001b[0m \u001b[38;5;124;03m\"\"\"\u001b[39;00m\n\u001b[1;32m     52\u001b[0m data_loader \u001b[38;5;241m=\u001b[39m get_data_loader(data_source)\n\u001b[0;32m---> 53\u001b[0m holders \u001b[38;5;241m=\u001b[39m \u001b[43mgenerate_loader\u001b[49m\u001b[43m(\u001b[49m\u001b[43mdata_loader\u001b[49m\u001b[43m,\u001b[49m\u001b[43m \u001b[49m\u001b[43mkwargs\u001b[49m\u001b[43m)\u001b[49m\n\u001b[1;32m     54\u001b[0m data_ids \u001b[38;5;241m=\u001b[39m [\u001b[38;5;28mself\u001b[39m\u001b[38;5;241m.\u001b[39mset_holder(h) \u001b[38;5;28;01mfor\u001b[39;00m h \u001b[38;5;129;01min\u001b[39;00m holders]\n\u001b[1;32m     55\u001b[0m \u001b[38;5;28;01mreturn\u001b[39;00m data_loader\n",
      "File \u001b[0;32m~/workspace/rep/asr_protected/asr_protected/data_manager/extraction/manager.py:226\u001b[0m, in \u001b[0;36mgenerate_loader\u001b[0;34m(loader, kwargs)\u001b[0m\n\u001b[1;32m    224\u001b[0m \u001b[38;5;28;01mdef\u001b[39;00m \u001b[38;5;21mgenerate_loader\u001b[39m(loader: DataLoader, kwargs):\n\u001b[0;32m--> 226\u001b[0m     \u001b[43mloader\u001b[49m\u001b[38;5;241;43m.\u001b[39;49m\u001b[43mload\u001b[49m\u001b[43m(\u001b[49m\u001b[38;5;241;43m*\u001b[39;49m\u001b[38;5;241;43m*\u001b[39;49m\u001b[43mkwargs\u001b[49m\u001b[43m)\u001b[49m\n\u001b[1;32m    227\u001b[0m     holders \u001b[38;5;241m=\u001b[39m []\n\u001b[1;32m    228\u001b[0m     \u001b[38;5;28;01mif\u001b[39;00m loader\u001b[38;5;241m.\u001b[39m\u001b[38;5;18m__class__\u001b[39m \u001b[38;5;129;01mis\u001b[39;00m StdDataLoader:\n",
      "File \u001b[0;32m~/workspace/rep/asr_protected/asr_protected/data_loader/abs/data_loader.py:67\u001b[0m, in \u001b[0;36mAbstractDataLoader.load\u001b[0;34m(self, **kwargs)\u001b[0m\n\u001b[1;32m     58\u001b[0m \u001b[38;5;28;01mdef\u001b[39;00m \u001b[38;5;21mload\u001b[39m(\n\u001b[1;32m     59\u001b[0m         \u001b[38;5;28mself\u001b[39m,\n\u001b[1;32m     60\u001b[0m         \u001b[38;5;241m*\u001b[39m\u001b[38;5;241m*\u001b[39mkwargs: Any\n\u001b[1;32m     61\u001b[0m ) \u001b[38;5;241m-\u001b[39m\u001b[38;5;241m>\u001b[39m \u001b[38;5;28;01mNone\u001b[39;00m:\n\u001b[1;32m     62\u001b[0m \u001b[38;5;250m    \u001b[39m\u001b[38;5;124;03m\"\"\"\u001b[39;00m\n\u001b[1;32m     63\u001b[0m \u001b[38;5;124;03m    Get data from DB and store it to memory of instance\u001b[39;00m\n\u001b[1;32m     64\u001b[0m \u001b[38;5;124;03m    :param search_obj: search object\u001b[39;00m\n\u001b[1;32m     65\u001b[0m \u001b[38;5;124;03m    :return:\u001b[39;00m\n\u001b[1;32m     66\u001b[0m \u001b[38;5;124;03m    \"\"\"\u001b[39;00m\n\u001b[0;32m---> 67\u001b[0m     valid_dict \u001b[38;5;241m=\u001b[39m \u001b[38;5;28;43mself\u001b[39;49m\u001b[38;5;241;43m.\u001b[39;49m\u001b[43mvalidation_for_load\u001b[49m\u001b[43m(\u001b[49m\u001b[38;5;241;43m*\u001b[39;49m\u001b[38;5;241;43m*\u001b[39;49m\u001b[43mkwargs\u001b[49m\u001b[43m)\u001b[49m\n\u001b[1;32m     68\u001b[0m     \u001b[38;5;28mself\u001b[39m\u001b[38;5;241m.\u001b[39mimp_load(\u001b[38;5;241m*\u001b[39m\u001b[38;5;241m*\u001b[39mvalid_dict)\n\u001b[1;32m     69\u001b[0m     \u001b[38;5;28;01mreturn\u001b[39;00m \u001b[38;5;28mself\u001b[39m\n",
      "File \u001b[0;32m~/workspace/rep/asr_protected/asr_protected/data_loader/impl/factset_data_loader.py:173\u001b[0m, in \u001b[0;36mFactsetDataLoader.validation_for_load\u001b[0;34m(self, **kwargs)\u001b[0m\n\u001b[1;32m    171\u001b[0m     obj \u001b[38;5;241m=\u001b[39m FactorFactsetQuantsFactorDataAcquirerObj(\u001b[38;5;241m*\u001b[39m\u001b[38;5;241m*\u001b[39mval_data)\n\u001b[1;32m    172\u001b[0m     acq \u001b[38;5;241m=\u001b[39m FactorFactsetQuantsFactorDataAcquirer(\u001b[38;5;28;01mNone\u001b[39;00m, data_type\u001b[38;5;241m=\u001b[39mdf_type)  \u001b[38;5;66;03m# type: ignore\u001b[39;00m\n\u001b[0;32m--> 173\u001b[0m     data \u001b[38;5;241m=\u001b[39m \u001b[43macq\u001b[49m\u001b[38;5;241;43m.\u001b[39;49m\u001b[43mbefore_validation\u001b[49m\u001b[43m(\u001b[49m\u001b[43mobj\u001b[49m\u001b[43m)\u001b[49m\n\u001b[1;32m    174\u001b[0m \u001b[38;5;28;01melif\u001b[39;00m data_type\u001b[38;5;241m.\u001b[39mlower() \u001b[38;5;241m==\u001b[39m \u001b[38;5;124m'\u001b[39m\u001b[38;5;124mquants_factor_list\u001b[39m\u001b[38;5;124m'\u001b[39m:\n\u001b[1;32m    175\u001b[0m     obj \u001b[38;5;241m=\u001b[39m FactorFactsetQuantsFactorListAcquirerObj(\u001b[38;5;241m*\u001b[39m\u001b[38;5;241m*\u001b[39mval_data)\n",
      "File \u001b[0;32m~/workspace/rep/asr_protected/asr_protected/data_acquirer/impl/factor_factset_quants_factor_data_acquirer.py:147\u001b[0m, in \u001b[0;36mFactorFactsetQuantsFactorDataAcquirer.before_validation\u001b[0;34m(self, search_obj)\u001b[0m\n\u001b[1;32m    145\u001b[0m \u001b[38;5;66;03m# 'Make sure either 'list_tickers' or 'list_symbols' is provided\u001b[39;00m\n\u001b[1;32m    146\u001b[0m \u001b[38;5;28;01mif\u001b[39;00m \u001b[38;5;129;01mnot\u001b[39;00m (search_obj\u001b[38;5;241m.\u001b[39mlist_tickers \u001b[38;5;129;01mor\u001b[39;00m search_obj\u001b[38;5;241m.\u001b[39mlist_symbols):\n\u001b[0;32m--> 147\u001b[0m     \u001b[38;5;28;01mraise\u001b[39;00m \u001b[38;5;167;01mValueError\u001b[39;00m(\n\u001b[1;32m    148\u001b[0m         \u001b[38;5;124m\"\u001b[39m\u001b[38;5;124mEither \u001b[39m\u001b[38;5;124m'\u001b[39m\u001b[38;5;124mlist_tickers\u001b[39m\u001b[38;5;124m'\u001b[39m\u001b[38;5;124m or \u001b[39m\u001b[38;5;124m'\u001b[39m\u001b[38;5;124mlist_symbols\u001b[39m\u001b[38;5;124m'\u001b[39m\u001b[38;5;124m must be provided, but both are empty.\u001b[39m\u001b[38;5;124m\"\u001b[39m\n\u001b[1;32m    149\u001b[0m     )\n\u001b[1;32m    151\u001b[0m \u001b[38;5;28;01mreturn\u001b[39;00m search_obj\n",
      "\u001b[0;31mValueError\u001b[0m: Either 'list_tickers' or 'list_symbols' must be provided, but both are empty."
     ]
    }
   ],
   "source": [
    "# An error is thrown if you input without both 'list_tickers' and 'list_symbols'.\n",
    "handler = handler.load(\n",
    "    data_source, # type: ignore\n",
    "    data_type='quants_factor_data',\n",
    "    # list_symbols=\"AAPL-US\",\n",
    "    list_factors=\"ebitMgnFwdChg3Yr\",\n",
    "    # list_tickers=\"AAPL-US\",\n",
    "    freq=\"CY\",\n",
    "    start_datetime=\"2023-01-01\",\n",
    "    end_datetime=\"2023-02-01\",\n",
    "    num_chunks=10,\n",
    ")\n",
    "df_symbol = handler.retrieve(transformed=False)\n",
    "df_symbol.head(20)"
   ]
  }
 ],
 "metadata": {
  "kernelspec": {
   "display_name": "factset_demo",
   "language": "python",
   "name": "factset_demo"
  },
  "language_info": {
   "codemirror_mode": {
    "name": "ipython",
    "version": 3
   },
   "file_extension": ".py",
   "mimetype": "text/x-python",
   "name": "python",
   "nbconvert_exporter": "python",
   "pygments_lexer": "ipython3",
   "version": "3.9.18"
  }
 },
 "nbformat": 4,
 "nbformat_minor": 1
}
