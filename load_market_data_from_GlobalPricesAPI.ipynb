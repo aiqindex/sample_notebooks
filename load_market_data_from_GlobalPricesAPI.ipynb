{
 "cells": [
  {
   "attachments": {
    "af6c4679-6735-409b-8887-635b51fadbd4.png": {
     "image/png": "[encoded data removed]"
    }
   },
   "cell_type": "markdown",
   "id": "dc604a32-b6a9-4af9-ad70-44fd2ca50b4d",
   "metadata": {},
   "source": [
    "![image.png](attachment:af6c4679-6735-409b-8887-635b51fadbd4.png)\n",
    "\n",
    "[disclaimer](./disclaimer.txt/)"
   ]
  },
  {
   "cell_type": "markdown",
   "id": "1f27da9c-cae6-408f-9cc4-cc31c38507fd",
   "metadata": {},
   "source": [
    "# How to retrieve FACTSET Equity market time series using ASR"
   ]
  },
  {
   "cell_type": "markdown",
   "id": "825c7b46-c3a9-4eed-ba97-c86f3076f766",
   "metadata": {
    "tags": []
   },
   "source": [
    "## `DAL`  Data Accessor Library \n",
    "> DAL access data from FACTSET database / API for Equity Data  \n"
   ]
  },
  {
   "cell_type": "code",
   "execution_count": 1,
   "id": "02fe8b76-6b0d-403b-8fc1-73ad2e8d5615",
   "metadata": {},
   "outputs": [],
   "source": [
    "from aiq_strategy_robot.data.data_accessor import DAL\n",
    "handler = DAL()\n",
    "data_source = 'FACTSET'"
   ]
  },
  {
   "cell_type": "markdown",
   "id": "ea33f29e",
   "metadata": {},
   "source": [
    "### **load**\n",
    "> Load the data to memory\n",
    "\n",
    "loading AAPL-US (Apple), 7203-JP (Toyota), MSFT-US (Microsoft) market time series information"
   ]
  },
  {
   "cell_type": "code",
   "execution_count": 2,
   "id": "2fc7266c-b09f-4ede-9a08-4fec088d5811",
   "metadata": {},
   "outputs": [],
   "source": [
    "# `data_type` must be 'gpd_prices'\n",
    "handler = handler.load(\n",
    "    data_source,\n",
    "    data_type='gpd_prices',\n",
    "    ids=['AAPL-US', '7203-JP', 'MSFT-US'],\n",
    "    start_date='2023-01-01',\n",
    "    adjust='SPLIT',\n",
    "    fields=['price', 'vwap', 'volume', 'turnover']\n",
    ")"
   ]
  },
  {
   "cell_type": "markdown",
   "id": "376d1424",
   "metadata": {},
   "source": [
    "### **retrieve**\n",
    "> Retrieve to `Pandas.DataFrame` the loaded data via `retrieve`\n",
    "\n",
    "Symbol data to Dataframe"
   ]
  },
  {
   "cell_type": "code",
   "execution_count": 3,
   "id": "c05520fe-c447-4d8d-8c4e-00ddc477b9df",
   "metadata": {},
   "outputs": [
    {
     "data": {
      "text/html": [
       "<div>\n",
       "<style scoped>\n",
       "    .dataframe tbody tr th:only-of-type {\n",
       "        vertical-align: middle;\n",
       "    }\n",
       "\n",
       "    .dataframe tbody tr th {\n",
       "        vertical-align: top;\n",
       "    }\n",
       "\n",
       "    .dataframe thead th {\n",
       "        text-align: right;\n",
       "    }\n",
       "</style>\n",
       "<table border=\"1\" class=\"dataframe\">\n",
       "  <thead>\n",
       "    <tr style=\"text-align: right;\">\n",
       "      <th></th>\n",
       "      <th></th>\n",
       "      <th>volume</th>\n",
       "      <th>ticker</th>\n",
       "      <th>close</th>\n",
       "      <th>vwap</th>\n",
       "      <th>currency</th>\n",
       "      <th>turnover</th>\n",
       "    </tr>\n",
       "    <tr>\n",
       "      <th>SYMBOL</th>\n",
       "      <th>DATETIME</th>\n",
       "      <th></th>\n",
       "      <th></th>\n",
       "      <th></th>\n",
       "      <th></th>\n",
       "      <th></th>\n",
       "      <th></th>\n",
       "    </tr>\n",
       "  </thead>\n",
       "  <tbody>\n",
       "    <tr>\n",
       "      <th rowspan=\"5\" valign=\"top\">MH33D6-R</th>\n",
       "      <th>2022-12-30</th>\n",
       "      <td>77034209.0</td>\n",
       "      <td>AAPL-US</td>\n",
       "      <td>129.93</td>\n",
       "      <td>128.821023</td>\n",
       "      <td>USD</td>\n",
       "      <td>9.877545e+06</td>\n",
       "    </tr>\n",
       "    <tr>\n",
       "      <th>2023-01-03</th>\n",
       "      <td>112117471.0</td>\n",
       "      <td>AAPL-US</td>\n",
       "      <td>125.07</td>\n",
       "      <td>125.693370</td>\n",
       "      <td>USD</td>\n",
       "      <td>1.403410e+07</td>\n",
       "    </tr>\n",
       "    <tr>\n",
       "      <th>2023-01-04</th>\n",
       "      <td>89113633.0</td>\n",
       "      <td>AAPL-US</td>\n",
       "      <td>126.36</td>\n",
       "      <td>126.641738</td>\n",
       "      <td>USD</td>\n",
       "      <td>1.119978e+07</td>\n",
       "    </tr>\n",
       "    <tr>\n",
       "      <th>2023-01-05</th>\n",
       "      <td>80962708.0</td>\n",
       "      <td>AAPL-US</td>\n",
       "      <td>125.02</td>\n",
       "      <td>126.078091</td>\n",
       "      <td>USD</td>\n",
       "      <td>1.008031e+07</td>\n",
       "    </tr>\n",
       "    <tr>\n",
       "      <th>2023-01-06</th>\n",
       "      <td>87754715.0</td>\n",
       "      <td>AAPL-US</td>\n",
       "      <td>129.62</td>\n",
       "      <td>128.229937</td>\n",
       "      <td>USD</td>\n",
       "      <td>1.112700e+07</td>\n",
       "    </tr>\n",
       "  </tbody>\n",
       "</table>\n",
       "</div>"
      ],
      "text/plain": [
       "                          volume   ticker   close        vwap currency  \\\n",
       "SYMBOL   DATETIME                                                        \n",
       "MH33D6-R 2022-12-30   77034209.0  AAPL-US  129.93  128.821023      USD   \n",
       "         2023-01-03  112117471.0  AAPL-US  125.07  125.693370      USD   \n",
       "         2023-01-04   89113633.0  AAPL-US  126.36  126.641738      USD   \n",
       "         2023-01-05   80962708.0  AAPL-US  125.02  126.078091      USD   \n",
       "         2023-01-06   87754715.0  AAPL-US  129.62  128.229937      USD   \n",
       "\n",
       "                         turnover  \n",
       "SYMBOL   DATETIME                  \n",
       "MH33D6-R 2022-12-30  9.877545e+06  \n",
       "         2023-01-03  1.403410e+07  \n",
       "         2023-01-04  1.119978e+07  \n",
       "         2023-01-05  1.008031e+07  \n",
       "         2023-01-06  1.112700e+07  "
      ]
     },
     "execution_count": 3,
     "metadata": {},
     "output_type": "execute_result"
    }
   ],
   "source": [
    "df_mkt = handler.retrieve()\n",
    "df_mkt.head()"
   ]
  },
  {
   "cell_type": "markdown",
   "id": "144aec9f-376c-4754-8257-e7dc99046ad9",
   "metadata": {},
   "source": [
    "### Get Unique tickers"
   ]
  },
  {
   "cell_type": "code",
   "execution_count": 4,
   "id": "8b0db843",
   "metadata": {},
   "outputs": [
    {
     "data": {
      "text/plain": [
       "array(['AAPL-US', '7203-JP', 'MSFT-US'], dtype=object)"
      ]
     },
     "execution_count": 4,
     "metadata": {},
     "output_type": "execute_result"
    }
   ],
   "source": [
    "df_mkt['ticker'].unique()"
   ]
  },
  {
   "cell_type": "markdown",
   "id": "ff627823-c802-495c-be50-4b12c951704d",
   "metadata": {},
   "source": [
    "### **split_adjust**\n",
    "> for unadjusted split information\n",
    "\n",
    "load and retrieving non split adjusted data"
   ]
  },
  {
   "cell_type": "code",
   "execution_count": 5,
   "id": "e9e5725e-949d-4add-908f-a785efede6ae",
   "metadata": {},
   "outputs": [
    {
     "data": {
      "text/html": [
       "<div>\n",
       "<style scoped>\n",
       "    .dataframe tbody tr th:only-of-type {\n",
       "        vertical-align: middle;\n",
       "    }\n",
       "\n",
       "    .dataframe tbody tr th {\n",
       "        vertical-align: top;\n",
       "    }\n",
       "\n",
       "    .dataframe thead th {\n",
       "        text-align: right;\n",
       "    }\n",
       "</style>\n",
       "<table border=\"1\" class=\"dataframe\">\n",
       "  <thead>\n",
       "    <tr style=\"text-align: right;\">\n",
       "      <th></th>\n",
       "      <th></th>\n",
       "      <th>volume</th>\n",
       "      <th>ticker</th>\n",
       "      <th>close</th>\n",
       "      <th>vwap</th>\n",
       "      <th>currency</th>\n",
       "      <th>turnover</th>\n",
       "    </tr>\n",
       "    <tr>\n",
       "      <th>SYMBOL</th>\n",
       "      <th>DATETIME</th>\n",
       "      <th></th>\n",
       "      <th></th>\n",
       "      <th></th>\n",
       "      <th></th>\n",
       "      <th></th>\n",
       "      <th></th>\n",
       "    </tr>\n",
       "  </thead>\n",
       "  <tbody>\n",
       "    <tr>\n",
       "      <th rowspan=\"5\" valign=\"top\">CY644B-R</th>\n",
       "      <th>2022-12-30</th>\n",
       "      <td>4455649.0</td>\n",
       "      <td>MS-US</td>\n",
       "      <td>85.02</td>\n",
       "      <td>84.823234</td>\n",
       "      <td>USD</td>\n",
       "      <td>377063.181800</td>\n",
       "    </tr>\n",
       "    <tr>\n",
       "      <th>2023-01-03</th>\n",
       "      <td>5108896.0</td>\n",
       "      <td>MS-US</td>\n",
       "      <td>85.72</td>\n",
       "      <td>85.612901</td>\n",
       "      <td>USD</td>\n",
       "      <td>437121.332701</td>\n",
       "    </tr>\n",
       "    <tr>\n",
       "      <th>2023-01-04</th>\n",
       "      <td>7726771.0</td>\n",
       "      <td>MS-US</td>\n",
       "      <td>86.65</td>\n",
       "      <td>86.415300</td>\n",
       "      <td>USD</td>\n",
       "      <td>641215.926946</td>\n",
       "    </tr>\n",
       "    <tr>\n",
       "      <th>2023-01-05</th>\n",
       "      <td>5339886.0</td>\n",
       "      <td>MS-US</td>\n",
       "      <td>85.92</td>\n",
       "      <td>85.639517</td>\n",
       "      <td>USD</td>\n",
       "      <td>457229.074332</td>\n",
       "    </tr>\n",
       "    <tr>\n",
       "      <th>2023-01-06</th>\n",
       "      <td>5710882.0</td>\n",
       "      <td>MS-US</td>\n",
       "      <td>87.56</td>\n",
       "      <td>87.319164</td>\n",
       "      <td>USD</td>\n",
       "      <td>498109.890019</td>\n",
       "    </tr>\n",
       "  </tbody>\n",
       "</table>\n",
       "</div>"
      ],
      "text/plain": [
       "                        volume ticker  close       vwap currency  \\\n",
       "SYMBOL   DATETIME                                                  \n",
       "CY644B-R 2022-12-30  4455649.0  MS-US  85.02  84.823234      USD   \n",
       "         2023-01-03  5108896.0  MS-US  85.72  85.612901      USD   \n",
       "         2023-01-04  7726771.0  MS-US  86.65  86.415300      USD   \n",
       "         2023-01-05  5339886.0  MS-US  85.92  85.639517      USD   \n",
       "         2023-01-06  5710882.0  MS-US  87.56  87.319164      USD   \n",
       "\n",
       "                          turnover  \n",
       "SYMBOL   DATETIME                   \n",
       "CY644B-R 2022-12-30  377063.181800  \n",
       "         2023-01-03  437121.332701  \n",
       "         2023-01-04  641215.926946  \n",
       "         2023-01-05  457229.074332  \n",
       "         2023-01-06  498109.890019  "
      ]
     },
     "execution_count": 5,
     "metadata": {},
     "output_type": "execute_result"
    }
   ],
   "source": [
    "handler.load(\n",
    "    data_source,\n",
    "    data_type='gpd_prices',\n",
    "    ids=['MS-US', '9983-JP'],\n",
    "    start_date='2023-01-01',\n",
    "    adjust='UNSPLIT',\n",
    "    fields=['price', 'vwap', 'volume', 'turnover']\n",
    ")\n",
    "df_unadj = handler.retrieve()\n",
    "df_unadj.head()"
   ]
  },
  {
   "cell_type": "markdown",
   "id": "01d29f8e-1fef-4544-b3e9-ae3fdbb4d891",
   "metadata": {},
   "source": [
    "#### Get Unique tickers"
   ]
  },
  {
   "cell_type": "code",
   "execution_count": 6,
   "id": "91bc271f-6936-40a4-bd18-344541853d87",
   "metadata": {},
   "outputs": [
    {
     "data": {
      "text/plain": [
       "array(['MS-US', '9983-JP'], dtype=object)"
      ]
     },
     "execution_count": 6,
     "metadata": {},
     "output_type": "execute_result"
    }
   ],
   "source": [
    "df_unadj['ticker'].unique()"
   ]
  },
  {
   "cell_type": "markdown",
   "id": "051387b7-40ea-4d99-be2a-8a78f89a560b",
   "metadata": {},
   "source": [
    "### **pick_cols**\n",
    "> You can choose which columns to keep in the output by specifying `pick_cols`\n",
    "\n",
    "example is choosing 'close' and 'vwap'  "
   ]
  },
  {
   "cell_type": "code",
   "execution_count": 7,
   "id": "0b2a3b88-e5a9-4eed-a4f6-126433351f91",
   "metadata": {},
   "outputs": [
    {
     "data": {
      "text/html": [
       "<div>\n",
       "<style scoped>\n",
       "    .dataframe tbody tr th:only-of-type {\n",
       "        vertical-align: middle;\n",
       "    }\n",
       "\n",
       "    .dataframe tbody tr th {\n",
       "        vertical-align: top;\n",
       "    }\n",
       "\n",
       "    .dataframe thead th {\n",
       "        text-align: right;\n",
       "    }\n",
       "</style>\n",
       "<table border=\"1\" class=\"dataframe\">\n",
       "  <thead>\n",
       "    <tr style=\"text-align: right;\">\n",
       "      <th></th>\n",
       "      <th></th>\n",
       "      <th>close</th>\n",
       "      <th>vwap</th>\n",
       "    </tr>\n",
       "    <tr>\n",
       "      <th>SYMBOL</th>\n",
       "      <th>DATETIME</th>\n",
       "      <th></th>\n",
       "      <th></th>\n",
       "    </tr>\n",
       "  </thead>\n",
       "  <tbody>\n",
       "    <tr>\n",
       "      <th rowspan=\"5\" valign=\"top\">CY644B-R</th>\n",
       "      <th>2022-12-30</th>\n",
       "      <td>85.02</td>\n",
       "      <td>84.823234</td>\n",
       "    </tr>\n",
       "    <tr>\n",
       "      <th>2023-01-03</th>\n",
       "      <td>85.72</td>\n",
       "      <td>85.612901</td>\n",
       "    </tr>\n",
       "    <tr>\n",
       "      <th>2023-01-04</th>\n",
       "      <td>86.65</td>\n",
       "      <td>86.415300</td>\n",
       "    </tr>\n",
       "    <tr>\n",
       "      <th>2023-01-05</th>\n",
       "      <td>85.92</td>\n",
       "      <td>85.639517</td>\n",
       "    </tr>\n",
       "    <tr>\n",
       "      <th>2023-01-06</th>\n",
       "      <td>87.56</td>\n",
       "      <td>87.319164</td>\n",
       "    </tr>\n",
       "  </tbody>\n",
       "</table>\n",
       "</div>"
      ],
      "text/plain": [
       "                     close       vwap\n",
       "SYMBOL   DATETIME                    \n",
       "CY644B-R 2022-12-30  85.02  84.823234\n",
       "         2023-01-03  85.72  85.612901\n",
       "         2023-01-04  86.65  86.415300\n",
       "         2023-01-05  85.92  85.639517\n",
       "         2023-01-06  87.56  87.319164"
      ]
     },
     "execution_count": 7,
     "metadata": {},
     "output_type": "execute_result"
    }
   ],
   "source": [
    "df_small = handler.retrieve(\n",
    "    pick_cols=['close', 'vwap']\n",
    ")\n",
    "df_small.head()"
   ]
  },
  {
   "cell_type": "markdown",
   "id": "90a0be74-0f0e-4d68-803a-224ca35298c4",
   "metadata": {},
   "source": [
    "***\n",
    "\n",
    "## *Next Up*\n",
    "Part2: [load quants data](./notebook.ipynb)"
   ]
  },
  {
   "cell_type": "code",
   "execution_count": null,
   "id": "74e4f979-dc76-4532-ae49-e64d17857e69",
   "metadata": {},
   "outputs": [],
   "source": []
  }
 ],
 "metadata": {
  "kernelspec": {
   "display_name": "sample",
   "language": "python",
   "name": "sample"
  },
  "language_info": {
   "codemirror_mode": {
    "name": "ipython",
    "version": 3
   },
   "file_extension": ".py",
   "mimetype": "text/x-python",
   "name": "python",
   "nbconvert_exporter": "python",
   "pygments_lexer": "ipython3",
   "version": "3.8.19"
  }
 },
 "nbformat": 4,
 "nbformat_minor": 5
}
