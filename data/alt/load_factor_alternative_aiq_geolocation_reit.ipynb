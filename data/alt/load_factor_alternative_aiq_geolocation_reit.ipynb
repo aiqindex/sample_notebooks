{
 "cells": [
  {
   "attachments": {
    "b8f1ff06-cee2-4b9c-ba2d-e754a1b2263d.png": {
     "image/png": "[encoded data removed]"
    }
   },
   "cell_type": "markdown",
   "id": "3b6cfe7a-802c-49c9-8828-3517b3ff7f37",
   "metadata": {},
   "source": [
    "![スクリーンショット 2024-03-26 11.25.41.png](attachment:b8f1ff06-cee2-4b9c-ba2d-e754a1b2263d.png)\n",
    "\n",
    "[disclaimer](../../disclaimer.txt/)"
   ]
  },
  {
   "cell_type": "markdown",
   "id": "83a8bc10-7e45-4f56-80fa-04ff0d705a45",
   "metadata": {},
   "source": [
    "# ALTERNATIVE DATA Evaluation Demo"
   ]
  },
  {
   "cell_type": "markdown",
   "id": "3d970af6-3470-4a62-a83b-1409e02cf05d",
   "metadata": {},
   "source": [
    "## Evaluate aiQ Geolocation Reit using aiQ Lab Alt Data Evaluation Tool"
   ]
  },
  {
   "cell_type": "markdown",
   "id": "ce5a993d-bf0a-4825-ba63-06d1a05b0e24",
   "metadata": {},
   "source": [
    "### Step1: Import Library"
   ]
  },
  {
   "cell_type": "code",
   "execution_count": 1,
   "id": "b0635187-fbee-432a-849e-b8768cd73d7e",
   "metadata": {
    "execution": {
     "iopub.execute_input": "2024-09-05T05:33:46.831807Z",
     "iopub.status.busy": "2024-09-05T05:33:46.831440Z",
     "iopub.status.idle": "2024-09-05T05:33:52.130913Z",
     "shell.execute_reply": "2024-09-05T05:33:52.129851Z",
     "shell.execute_reply.started": "2024-09-05T05:33:46.831775Z"
    }
   },
   "outputs": [],
   "source": [
    "import numpy as np\n",
    "import pandas as pd\n",
    "\n",
    "from aiq_strategy_robot.data.data_accessor import DAL\n",
    "from aiq_strategy_robot.data.ALTERNATIVE import (\n",
    "    load_alternative_aiq_geolocation_reit_universe,\n",
    "    load_alternative_aiq_geolocation_reit_place_id,\n",
    "    load_alternative_aiq_geolocation_reit_data\n",
    ")"
   ]
  },
  {
   "cell_type": "markdown",
   "id": "3ea087d6-36f0-403c-9c37-6e79e264a985",
   "metadata": {},
   "source": [
    "## Step2: Define Universe from Alt Data\n",
    "\n",
    "### `load_alternative_aiq_geolocation_reit_universe`  "
   ]
  },
  {
   "cell_type": "code",
   "execution_count": 2,
   "id": "cf71fb2b-3fa6-4fe9-9cbc-d18afcd17dda",
   "metadata": {
    "execution": {
     "iopub.execute_input": "2024-09-05T05:33:52.132578Z",
     "iopub.status.busy": "2024-09-05T05:33:52.132109Z",
     "iopub.status.idle": "2024-09-05T05:33:53.121636Z",
     "shell.execute_reply": "2024-09-05T05:33:53.120516Z",
     "shell.execute_reply.started": "2024-09-05T05:33:52.132547Z"
    }
   },
   "outputs": [
    {
     "data": {
      "text/html": [
       "<div>\n",
       "<style scoped>\n",
       "    .dataframe tbody tr th:only-of-type {\n",
       "        vertical-align: middle;\n",
       "    }\n",
       "\n",
       "    .dataframe tbody tr th {\n",
       "        vertical-align: top;\n",
       "    }\n",
       "\n",
       "    .dataframe thead th {\n",
       "        text-align: right;\n",
       "    }\n",
       "</style>\n",
       "<table border=\"1\" class=\"dataframe\">\n",
       "  <thead>\n",
       "    <tr style=\"text-align: right;\">\n",
       "      <th></th>\n",
       "      <th>LEI</th>\n",
       "      <th>PERM_ID</th>\n",
       "      <th>FIGI</th>\n",
       "      <th>TICKER</th>\n",
       "      <th>COMPANY_NAME</th>\n",
       "    </tr>\n",
       "  </thead>\n",
       "  <tbody>\n",
       "    <tr>\n",
       "      <th>0</th>\n",
       "      <td>None</td>\n",
       "      <td>1-5044031169</td>\n",
       "      <td>BBG007G5JZ43</td>\n",
       "      <td>3309</td>\n",
       "      <td>積水ハウス・リート投資法人</td>\n",
       "    </tr>\n",
       "  </tbody>\n",
       "</table>\n",
       "</div>"
      ],
      "text/plain": [
       "    LEI       PERM_ID          FIGI TICKER   COMPANY_NAME\n",
       "0  None  1-5044031169  BBG007G5JZ43   3309  積水ハウス・リート投資法人"
      ]
     },
     "execution_count": 2,
     "metadata": {},
     "output_type": "execute_result"
    }
   ],
   "source": [
    "sdh = DAL()\n",
    "load_alternative_aiq_geolocation_reit_universe(sdh, language='JP', ticker = '3309').retrieve()"
   ]
  },
  {
   "cell_type": "markdown",
   "id": "9e0449d3-1db6-4373-9501-56874111e2a3",
   "metadata": {},
   "source": [
    "### Data Access handler load\n",
    "Load the data to memory\n",
    "\n",
    "same return as **load_alternative_aiq_geolocation_reit_universe** \n",
    "```\n",
    "load_alternative_aiq_geolocation_reit_universe(sdh, language='EN', ticker = '1332').retrieve()\n",
    "```"
   ]
  },
  {
   "cell_type": "code",
   "execution_count": 3,
   "id": "d6face5d-601a-42fb-998a-bb819f64fe17",
   "metadata": {
    "execution": {
     "iopub.execute_input": "2024-09-05T05:33:53.123382Z",
     "iopub.status.busy": "2024-09-05T05:33:53.123000Z",
     "iopub.status.idle": "2024-09-05T05:33:53.948345Z",
     "shell.execute_reply": "2024-09-05T05:33:53.947344Z",
     "shell.execute_reply.started": "2024-09-05T05:33:53.123347Z"
    }
   },
   "outputs": [
    {
     "data": {
      "text/html": [
       "<div>\n",
       "<style scoped>\n",
       "    .dataframe tbody tr th:only-of-type {\n",
       "        vertical-align: middle;\n",
       "    }\n",
       "\n",
       "    .dataframe tbody tr th {\n",
       "        vertical-align: top;\n",
       "    }\n",
       "\n",
       "    .dataframe thead th {\n",
       "        text-align: right;\n",
       "    }\n",
       "</style>\n",
       "<table border=\"1\" class=\"dataframe\">\n",
       "  <thead>\n",
       "    <tr style=\"text-align: right;\">\n",
       "      <th></th>\n",
       "      <th>LEI</th>\n",
       "      <th>PERM_ID</th>\n",
       "      <th>FIGI</th>\n",
       "      <th>TICKER</th>\n",
       "      <th>COMPANY_NAME</th>\n",
       "    </tr>\n",
       "  </thead>\n",
       "  <tbody>\n",
       "    <tr>\n",
       "      <th>0</th>\n",
       "      <td>None</td>\n",
       "      <td>1-5044031169</td>\n",
       "      <td>BBG007G5JZ43</td>\n",
       "      <td>3309</td>\n",
       "      <td>Sekisui House Reit Inc</td>\n",
       "    </tr>\n",
       "  </tbody>\n",
       "</table>\n",
       "</div>"
      ],
      "text/plain": [
       "    LEI       PERM_ID          FIGI TICKER            COMPANY_NAME\n",
       "0  None  1-5044031169  BBG007G5JZ43   3309  Sekisui House Reit Inc"
      ]
     },
     "execution_count": 3,
     "metadata": {},
     "output_type": "execute_result"
    }
   ],
   "source": [
    "sdh = sdh.load(\n",
    "    'ALTERNATIVE',\n",
    "    data_type='aiq_geolocation',\n",
    "    meta_data='universe',\n",
    "    language='EN', \n",
    "    ticker = ['3309'],\n",
    "    schema_name='AIQ_GEOLOCATION_REIT'\n",
    ")\n",
    "dfsyms = sdh.retrieve()\n",
    "dfsyms"
   ]
  },
  {
   "cell_type": "markdown",
   "id": "919bce0b-d230-4b5c-809d-61fd75754e40",
   "metadata": {},
   "source": [
    "## Step2: Define Place ID from Alt Data\n",
    "\n",
    "### `load_alternative_aiq_geolocation_reit_place_id`  "
   ]
  },
  {
   "cell_type": "code",
   "execution_count": 4,
   "id": "da4046a8-c2f5-4d0b-8e38-d4d685ab0b57",
   "metadata": {
    "execution": {
     "iopub.execute_input": "2024-09-05T05:33:53.949802Z",
     "iopub.status.busy": "2024-09-05T05:33:53.949513Z",
     "iopub.status.idle": "2024-09-05T05:33:54.594944Z",
     "shell.execute_reply": "2024-09-05T05:33:54.593816Z",
     "shell.execute_reply.started": "2024-09-05T05:33:53.949773Z"
    }
   },
   "outputs": [
    {
     "data": {
      "text/html": [
       "<div>\n",
       "<style scoped>\n",
       "    .dataframe tbody tr th:only-of-type {\n",
       "        vertical-align: middle;\n",
       "    }\n",
       "\n",
       "    .dataframe tbody tr th {\n",
       "        vertical-align: top;\n",
       "    }\n",
       "\n",
       "    .dataframe thead th {\n",
       "        text-align: right;\n",
       "    }\n",
       "</style>\n",
       "<table border=\"1\" class=\"dataframe\">\n",
       "  <thead>\n",
       "    <tr style=\"text-align: right;\">\n",
       "      <th></th>\n",
       "      <th>TICKER</th>\n",
       "      <th>FIGI</th>\n",
       "      <th>PLACE_ID</th>\n",
       "      <th>FACILITY_NAME</th>\n",
       "      <th>PREFECTURE</th>\n",
       "      <th>FACILITY_ADDRESS</th>\n",
       "      <th>SECTOR</th>\n",
       "      <th>SECTOR_NAME</th>\n",
       "    </tr>\n",
       "  </thead>\n",
       "  <tbody>\n",
       "    <tr>\n",
       "      <th>0</th>\n",
       "      <td>3309</td>\n",
       "      <td>BBG007G5JZ43</td>\n",
       "      <td>ChIJYYgL2V2JGGARqD86MvGfLSQ_3309</td>\n",
       "      <td>プライムメゾン八丁堀</td>\n",
       "      <td>東京都</td>\n",
       "      <td>東京都 中央区 八丁堀4-11-9</td>\n",
       "      <td>None</td>\n",
       "      <td>None</td>\n",
       "    </tr>\n",
       "    <tr>\n",
       "      <th>1</th>\n",
       "      <td>3309</td>\n",
       "      <td>BBG007G5JZ43</td>\n",
       "      <td>ChIJ7SMd8vlcGGARtFppXDzyJgs_3309</td>\n",
       "      <td>プライムメゾン横濱日本大通</td>\n",
       "      <td>神奈川県</td>\n",
       "      <td>神奈川県 横浜市 中区本町1-4</td>\n",
       "      <td>None</td>\n",
       "      <td>None</td>\n",
       "    </tr>\n",
       "    <tr>\n",
       "      <th>2</th>\n",
       "      <td>3309</td>\n",
       "      <td>BBG007G5JZ43</td>\n",
       "      <td>ChIJq6NJ-c-NGGARbXKZcO7C91A_3309</td>\n",
       "      <td>エスティメゾン千駄木</td>\n",
       "      <td>東京都</td>\n",
       "      <td>東京都 文京区 千駄木3-49-1</td>\n",
       "      <td>None</td>\n",
       "      <td>None</td>\n",
       "    </tr>\n",
       "    <tr>\n",
       "      <th>3</th>\n",
       "      <td>3309</td>\n",
       "      <td>BBG007G5JZ43</td>\n",
       "      <td>ChIJtyoN_ynhAGARId98ueCeMW8_3309</td>\n",
       "      <td>エスティメゾン京橋</td>\n",
       "      <td>大阪府</td>\n",
       "      <td>大阪府 大阪市 都島区東野田町2-7-10</td>\n",
       "      <td>None</td>\n",
       "      <td>None</td>\n",
       "    </tr>\n",
       "    <tr>\n",
       "      <th>4</th>\n",
       "      <td>3309</td>\n",
       "      <td>BBG007G5JZ43</td>\n",
       "      <td>ChIJRYyT96KNGGARrEAVJvpZ0cc_3309</td>\n",
       "      <td>エスティメゾン千石</td>\n",
       "      <td>東京都</td>\n",
       "      <td>東京都 文京区 千石4-6-17</td>\n",
       "      <td>None</td>\n",
       "      <td>None</td>\n",
       "    </tr>\n",
       "  </tbody>\n",
       "</table>\n",
       "</div>"
      ],
      "text/plain": [
       "  TICKER          FIGI                          PLACE_ID  FACILITY_NAME  \\\n",
       "0   3309  BBG007G5JZ43  ChIJYYgL2V2JGGARqD86MvGfLSQ_3309     プライムメゾン八丁堀   \n",
       "1   3309  BBG007G5JZ43  ChIJ7SMd8vlcGGARtFppXDzyJgs_3309  プライムメゾン横濱日本大通   \n",
       "2   3309  BBG007G5JZ43  ChIJq6NJ-c-NGGARbXKZcO7C91A_3309     エスティメゾン千駄木   \n",
       "3   3309  BBG007G5JZ43  ChIJtyoN_ynhAGARId98ueCeMW8_3309      エスティメゾン京橋   \n",
       "4   3309  BBG007G5JZ43  ChIJRYyT96KNGGARrEAVJvpZ0cc_3309      エスティメゾン千石   \n",
       "\n",
       "  PREFECTURE       FACILITY_ADDRESS SECTOR SECTOR_NAME  \n",
       "0        東京都      東京都 中央区 八丁堀4-11-9   None        None  \n",
       "1       神奈川県       神奈川県 横浜市 中区本町1-4   None        None  \n",
       "2        東京都      東京都 文京区 千駄木3-49-1   None        None  \n",
       "3        大阪府  大阪府 大阪市 都島区東野田町2-7-10   None        None  \n",
       "4        東京都       東京都 文京区 千石4-6-17   None        None  "
      ]
     },
     "execution_count": 4,
     "metadata": {},
     "output_type": "execute_result"
    }
   ],
   "source": [
    "load_alternative_aiq_geolocation_reit_place_id(sdh, language='JP', ticker = '3309').retrieve().head()"
   ]
  },
  {
   "cell_type": "markdown",
   "id": "6460ce2c-dc8a-46ee-a2e8-32e4619e102c",
   "metadata": {
    "execution": {
     "iopub.execute_input": "2024-09-05T04:56:08.676225Z",
     "iopub.status.busy": "2024-09-05T04:56:08.675385Z",
     "iopub.status.idle": "2024-09-05T04:56:08.682524Z",
     "shell.execute_reply": "2024-09-05T04:56:08.681462Z",
     "shell.execute_reply.started": "2024-09-05T04:56:08.676191Z"
    }
   },
   "source": [
    "### Data Access handler load\n",
    "Load the data to memory\n",
    "\n",
    "same return as **load_alternative_aiq_geolocation_reit_place_id** \n",
    "```\n",
    "load_alternative_aiq_geolocation_reit_place_id(sdh, language='EN', ticker = '1332').retrieve()\n",
    "```"
   ]
  },
  {
   "cell_type": "code",
   "execution_count": 5,
   "id": "18126ac3-5bed-4a38-ac03-09f3d75752cb",
   "metadata": {
    "execution": {
     "iopub.execute_input": "2024-09-05T05:33:54.597111Z",
     "iopub.status.busy": "2024-09-05T05:33:54.596360Z",
     "iopub.status.idle": "2024-09-05T05:33:55.477699Z",
     "shell.execute_reply": "2024-09-05T05:33:55.476711Z",
     "shell.execute_reply.started": "2024-09-05T05:33:54.597066Z"
    }
   },
   "outputs": [
    {
     "data": {
      "text/html": [
       "<div>\n",
       "<style scoped>\n",
       "    .dataframe tbody tr th:only-of-type {\n",
       "        vertical-align: middle;\n",
       "    }\n",
       "\n",
       "    .dataframe tbody tr th {\n",
       "        vertical-align: top;\n",
       "    }\n",
       "\n",
       "    .dataframe thead th {\n",
       "        text-align: right;\n",
       "    }\n",
       "</style>\n",
       "<table border=\"1\" class=\"dataframe\">\n",
       "  <thead>\n",
       "    <tr style=\"text-align: right;\">\n",
       "      <th></th>\n",
       "      <th>TICKER</th>\n",
       "      <th>FIGI</th>\n",
       "      <th>PLACE_ID</th>\n",
       "      <th>FACILITY_NAME</th>\n",
       "      <th>PREFECTURE</th>\n",
       "      <th>FACILITY_ADDRESS</th>\n",
       "      <th>SECTOR</th>\n",
       "      <th>SECTOR_NAME</th>\n",
       "    </tr>\n",
       "  </thead>\n",
       "  <tbody>\n",
       "    <tr>\n",
       "      <th>0</th>\n",
       "      <td>3309</td>\n",
       "      <td>BBG007G5JZ43</td>\n",
       "      <td>ChIJYwOS_QblGGARGjLIoY8SyXI_3309</td>\n",
       "      <td>Prime Maison Musashino no Mori</td>\n",
       "      <td>Tokyo</td>\n",
       "      <td>5-chōme-15-3 Jōsuihonchō, Kodaira, Tokyo 187-0...</td>\n",
       "      <td>None</td>\n",
       "      <td>None</td>\n",
       "    </tr>\n",
       "    <tr>\n",
       "      <th>1</th>\n",
       "      <td>3309</td>\n",
       "      <td>BBG007G5JZ43</td>\n",
       "      <td>ChIJ9f04oJopC18Rsb9gZrJl0do_3309</td>\n",
       "      <td>Prime Maison Minami 2jo</td>\n",
       "      <td>Hokkaido</td>\n",
       "      <td>Japan, 060-0062 Hokkaido, Sapporo, Chuo Ward, ...</td>\n",
       "      <td>None</td>\n",
       "      <td>None</td>\n",
       "    </tr>\n",
       "    <tr>\n",
       "      <th>2</th>\n",
       "      <td>3309</td>\n",
       "      <td>BBG007G5JZ43</td>\n",
       "      <td>ChIJ__9Py5eSGGARsNZtx4pff1c_3309</td>\n",
       "      <td>Estee Maison Itabashi Ward Office</td>\n",
       "      <td>Tokyo</td>\n",
       "      <td>Japan, 173-0004 Tokyo, Itabashi City, Itabashi...</td>\n",
       "      <td>None</td>\n",
       "      <td>None</td>\n",
       "    </tr>\n",
       "    <tr>\n",
       "      <th>3</th>\n",
       "      <td>3309</td>\n",
       "      <td>BBG007G5JZ43</td>\n",
       "      <td>ChIJA6GiAEp3A2ARxZ6Vgu4hxNk_3309</td>\n",
       "      <td>Estee Maison Higashibetsuin</td>\n",
       "      <td>Aichi</td>\n",
       "      <td>Japan, 460-0017 Aichi, Nagoya, Naka Ward, Mats...</td>\n",
       "      <td>None</td>\n",
       "      <td>None</td>\n",
       "    </tr>\n",
       "    <tr>\n",
       "      <th>4</th>\n",
       "      <td>3309</td>\n",
       "      <td>BBG007G5JZ43</td>\n",
       "      <td>ChIJ6S6AojuLGGARb227ivHpSyM_3309</td>\n",
       "      <td>Prime Maison Nakameguro</td>\n",
       "      <td>Tokyo</td>\n",
       "      <td>Japan, 153-0061 Tokyo, Meguro City, Nakameguro...</td>\n",
       "      <td>None</td>\n",
       "      <td>None</td>\n",
       "    </tr>\n",
       "  </tbody>\n",
       "</table>\n",
       "</div>"
      ],
      "text/plain": [
       "  TICKER          FIGI                          PLACE_ID  \\\n",
       "0   3309  BBG007G5JZ43  ChIJYwOS_QblGGARGjLIoY8SyXI_3309   \n",
       "1   3309  BBG007G5JZ43  ChIJ9f04oJopC18Rsb9gZrJl0do_3309   \n",
       "2   3309  BBG007G5JZ43  ChIJ__9Py5eSGGARsNZtx4pff1c_3309   \n",
       "3   3309  BBG007G5JZ43  ChIJA6GiAEp3A2ARxZ6Vgu4hxNk_3309   \n",
       "4   3309  BBG007G5JZ43  ChIJ6S6AojuLGGARb227ivHpSyM_3309   \n",
       "\n",
       "                       FACILITY_NAME PREFECTURE  \\\n",
       "0     Prime Maison Musashino no Mori      Tokyo   \n",
       "1            Prime Maison Minami 2jo   Hokkaido   \n",
       "2  Estee Maison Itabashi Ward Office      Tokyo   \n",
       "3        Estee Maison Higashibetsuin      Aichi   \n",
       "4            Prime Maison Nakameguro      Tokyo   \n",
       "\n",
       "                                    FACILITY_ADDRESS SECTOR SECTOR_NAME  \n",
       "0  5-chōme-15-3 Jōsuihonchō, Kodaira, Tokyo 187-0...   None        None  \n",
       "1  Japan, 060-0062 Hokkaido, Sapporo, Chuo Ward, ...   None        None  \n",
       "2  Japan, 173-0004 Tokyo, Itabashi City, Itabashi...   None        None  \n",
       "3  Japan, 460-0017 Aichi, Nagoya, Naka Ward, Mats...   None        None  \n",
       "4  Japan, 153-0061 Tokyo, Meguro City, Nakameguro...   None        None  "
      ]
     },
     "execution_count": 5,
     "metadata": {},
     "output_type": "execute_result"
    }
   ],
   "source": [
    "sdh = sdh.load(\n",
    "    'ALTERNATIVE',\n",
    "    data_type='aiq_geolocation',\n",
    "    meta_data='place_id',\n",
    "    language='EN', \n",
    "    ticker = ['3309'],\n",
    "    schema_name='AIQ_GEOLOCATION_REIT'\n",
    ")\n",
    "dfplaceid = sdh.retrieve()\n",
    "dfplaceid.head()"
   ]
  },
  {
   "cell_type": "markdown",
   "id": "a9aa294d-12f1-436a-be90-a2247316401a",
   "metadata": {},
   "source": [
    "\n",
    "## Step4: Load Alternative Data\n",
    "### `load_alternative_aiq_geolocation_reit_data`  \n",
    "ALTERNATIVE DATA  aiq_geolocation reit data wrapper  \n"
   ]
  },
  {
   "cell_type": "code",
   "execution_count": 6,
   "id": "99795465-f084-4177-b14b-28899bb8871c",
   "metadata": {
    "execution": {
     "iopub.execute_input": "2024-09-05T05:33:55.480913Z",
     "iopub.status.busy": "2024-09-05T05:33:55.480138Z",
     "iopub.status.idle": "2024-09-05T05:34:06.444477Z",
     "shell.execute_reply": "2024-09-05T05:34:06.443512Z",
     "shell.execute_reply.started": "2024-09-05T05:33:55.480881Z"
    }
   },
   "outputs": [
    {
     "data": {
      "text/html": [
       "<div>\n",
       "<style scoped>\n",
       "    .dataframe tbody tr th:only-of-type {\n",
       "        vertical-align: middle;\n",
       "    }\n",
       "\n",
       "    .dataframe tbody tr th {\n",
       "        vertical-align: top;\n",
       "    }\n",
       "\n",
       "    .dataframe thead th {\n",
       "        text-align: right;\n",
       "    }\n",
       "</style>\n",
       "<table border=\"1\" class=\"dataframe\">\n",
       "  <thead>\n",
       "    <tr style=\"text-align: right;\">\n",
       "      <th></th>\n",
       "      <th>TICKER</th>\n",
       "      <th>PLACE_ID</th>\n",
       "      <th>DATETIME</th>\n",
       "      <th>SMOOTH</th>\n",
       "      <th>VARIABLE</th>\n",
       "      <th>VALUE</th>\n",
       "      <th>BACKFILL</th>\n",
       "      <th>RELEASE_TIMESTAMP</th>\n",
       "    </tr>\n",
       "  </thead>\n",
       "  <tbody>\n",
       "    <tr>\n",
       "      <th>0</th>\n",
       "      <td>3309</td>\n",
       "      <td>ChIJUZ6pPU-_QzURVFTVfc_VpN4_3309</td>\n",
       "      <td>2014-07-01</td>\n",
       "      <td>0</td>\n",
       "      <td>geofence</td>\n",
       "      <td>NaN</td>\n",
       "      <td>0</td>\n",
       "      <td>2024-06-08 08:14:07</td>\n",
       "    </tr>\n",
       "    <tr>\n",
       "      <th>1</th>\n",
       "      <td>3309</td>\n",
       "      <td>ChIJs_WRbKmTQTURGMZg4vzRtJI_3309</td>\n",
       "      <td>2014-07-01</td>\n",
       "      <td>0</td>\n",
       "      <td>geofence</td>\n",
       "      <td>NaN</td>\n",
       "      <td>0</td>\n",
       "      <td>2024-06-08 08:14:07</td>\n",
       "    </tr>\n",
       "    <tr>\n",
       "      <th>2</th>\n",
       "      <td>3309</td>\n",
       "      <td>ChIJx3TMJfOOA2AR-LCYpSvqCI8_3309</td>\n",
       "      <td>2014-07-01</td>\n",
       "      <td>0</td>\n",
       "      <td>geofence</td>\n",
       "      <td>NaN</td>\n",
       "      <td>0</td>\n",
       "      <td>2024-06-08 08:14:07</td>\n",
       "    </tr>\n",
       "    <tr>\n",
       "      <th>3</th>\n",
       "      <td>3309</td>\n",
       "      <td>ChIJ8-VrZ1iKGGARkZkO5Blw-es_3309</td>\n",
       "      <td>2014-07-01</td>\n",
       "      <td>0</td>\n",
       "      <td>geofence</td>\n",
       "      <td>NaN</td>\n",
       "      <td>0</td>\n",
       "      <td>2024-06-08 08:14:07</td>\n",
       "    </tr>\n",
       "    <tr>\n",
       "      <th>4</th>\n",
       "      <td>3309</td>\n",
       "      <td>ChIJ2bpM8mqLGGAROCcTLIK3F50_3309</td>\n",
       "      <td>2014-07-01</td>\n",
       "      <td>0</td>\n",
       "      <td>geofence</td>\n",
       "      <td>NaN</td>\n",
       "      <td>0</td>\n",
       "      <td>2024-06-08 08:14:07</td>\n",
       "    </tr>\n",
       "  </tbody>\n",
       "</table>\n",
       "</div>"
      ],
      "text/plain": [
       "  TICKER                          PLACE_ID    DATETIME  SMOOTH  VARIABLE  \\\n",
       "0   3309  ChIJUZ6pPU-_QzURVFTVfc_VpN4_3309  2014-07-01       0  geofence   \n",
       "1   3309  ChIJs_WRbKmTQTURGMZg4vzRtJI_3309  2014-07-01       0  geofence   \n",
       "2   3309  ChIJx3TMJfOOA2AR-LCYpSvqCI8_3309  2014-07-01       0  geofence   \n",
       "3   3309  ChIJ8-VrZ1iKGGARkZkO5Blw-es_3309  2014-07-01       0  geofence   \n",
       "4   3309  ChIJ2bpM8mqLGGAROCcTLIK3F50_3309  2014-07-01       0  geofence   \n",
       "\n",
       "   VALUE  BACKFILL   RELEASE_TIMESTAMP  \n",
       "0    NaN         0 2024-06-08 08:14:07  \n",
       "1    NaN         0 2024-06-08 08:14:07  \n",
       "2    NaN         0 2024-06-08 08:14:07  \n",
       "3    NaN         0 2024-06-08 08:14:07  \n",
       "4    NaN         0 2024-06-08 08:14:07  "
      ]
     },
     "execution_count": 6,
     "metadata": {},
     "output_type": "execute_result"
    }
   ],
   "source": [
    "sdh = load_alternative_aiq_geolocation_reit_data(\n",
    "        sdh,\n",
    "        ticker=['3309'],\n",
    "        # place_id=None,　`ticker` and `place_id` cannot be specified at the same time; they are mutually exclusive　\n",
    "        variable = ['geofence', 'geofence_ot'],\n",
    "        load_only_raw=True,\n",
    "        load_only_latest=True\n",
    "    )\n",
    "df_pos = sdh.retrieve()\n",
    "df_pos.head()"
   ]
  },
  {
   "cell_type": "markdown",
   "id": "25260efa-5267-4693-bc6e-2ccbc58da237",
   "metadata": {},
   "source": [
    "### Data Access handler load\n",
    "Load the data to memory\n",
    "\n",
    "same return as **load_alternative_aiq_geolocation_reit_data**\n",
    "```\n",
    "sdh = load_alternative_aiq_geolocation_reit_data(\n",
    "        sdh,\n",
    "        place_id=['ChIJYwOS_QblGGARGjLIoY8SyXI_3309'],\n",
    "        variable = ['geofence', 'geofence_ot'],\n",
    "        load_only_raw=True,\n",
    "        load_only_latest=True\n",
    "    )\n",
    "```"
   ]
  },
  {
   "cell_type": "code",
   "execution_count": 7,
   "id": "207b0d10-309b-4275-8045-8b8a7190173b",
   "metadata": {
    "execution": {
     "iopub.execute_input": "2024-09-05T05:34:06.446547Z",
     "iopub.status.busy": "2024-09-05T05:34:06.445758Z",
     "iopub.status.idle": "2024-09-05T05:34:08.928529Z",
     "shell.execute_reply": "2024-09-05T05:34:08.927625Z",
     "shell.execute_reply.started": "2024-09-05T05:34:06.446514Z"
    }
   },
   "outputs": [
    {
     "data": {
      "text/html": [
       "<div>\n",
       "<style scoped>\n",
       "    .dataframe tbody tr th:only-of-type {\n",
       "        vertical-align: middle;\n",
       "    }\n",
       "\n",
       "    .dataframe tbody tr th {\n",
       "        vertical-align: top;\n",
       "    }\n",
       "\n",
       "    .dataframe thead th {\n",
       "        text-align: right;\n",
       "    }\n",
       "</style>\n",
       "<table border=\"1\" class=\"dataframe\">\n",
       "  <thead>\n",
       "    <tr style=\"text-align: right;\">\n",
       "      <th></th>\n",
       "      <th>TICKER</th>\n",
       "      <th>PLACE_ID</th>\n",
       "      <th>DATETIME</th>\n",
       "      <th>SMOOTH</th>\n",
       "      <th>VARIABLE</th>\n",
       "      <th>VALUE</th>\n",
       "      <th>BACKFILL</th>\n",
       "      <th>RELEASE_TIMESTAMP</th>\n",
       "    </tr>\n",
       "  </thead>\n",
       "  <tbody>\n",
       "    <tr>\n",
       "      <th>0</th>\n",
       "      <td>3309</td>\n",
       "      <td>ChIJYwOS_QblGGARGjLIoY8SyXI_3309</td>\n",
       "      <td>2014-07-01</td>\n",
       "      <td>0</td>\n",
       "      <td>geofence</td>\n",
       "      <td>NaN</td>\n",
       "      <td>0</td>\n",
       "      <td>2024-06-08 08:14:07</td>\n",
       "    </tr>\n",
       "    <tr>\n",
       "      <th>1</th>\n",
       "      <td>3309</td>\n",
       "      <td>ChIJYwOS_QblGGARGjLIoY8SyXI_3309</td>\n",
       "      <td>2014-07-01</td>\n",
       "      <td>0</td>\n",
       "      <td>geofence_ot</td>\n",
       "      <td>NaN</td>\n",
       "      <td>0</td>\n",
       "      <td>2024-06-08 08:14:07</td>\n",
       "    </tr>\n",
       "    <tr>\n",
       "      <th>2</th>\n",
       "      <td>3309</td>\n",
       "      <td>ChIJYwOS_QblGGARGjLIoY8SyXI_3309</td>\n",
       "      <td>2014-07-02</td>\n",
       "      <td>0</td>\n",
       "      <td>geofence</td>\n",
       "      <td>NaN</td>\n",
       "      <td>0</td>\n",
       "      <td>2024-06-08 08:14:07</td>\n",
       "    </tr>\n",
       "    <tr>\n",
       "      <th>3</th>\n",
       "      <td>3309</td>\n",
       "      <td>ChIJYwOS_QblGGARGjLIoY8SyXI_3309</td>\n",
       "      <td>2014-07-02</td>\n",
       "      <td>0</td>\n",
       "      <td>geofence_ot</td>\n",
       "      <td>NaN</td>\n",
       "      <td>0</td>\n",
       "      <td>2024-06-08 08:14:07</td>\n",
       "    </tr>\n",
       "    <tr>\n",
       "      <th>4</th>\n",
       "      <td>3309</td>\n",
       "      <td>ChIJYwOS_QblGGARGjLIoY8SyXI_3309</td>\n",
       "      <td>2014-07-03</td>\n",
       "      <td>0</td>\n",
       "      <td>geofence</td>\n",
       "      <td>NaN</td>\n",
       "      <td>0</td>\n",
       "      <td>2024-06-08 08:14:07</td>\n",
       "    </tr>\n",
       "  </tbody>\n",
       "</table>\n",
       "</div>"
      ],
      "text/plain": [
       "  TICKER                          PLACE_ID    DATETIME  SMOOTH     VARIABLE  \\\n",
       "0   3309  ChIJYwOS_QblGGARGjLIoY8SyXI_3309  2014-07-01       0     geofence   \n",
       "1   3309  ChIJYwOS_QblGGARGjLIoY8SyXI_3309  2014-07-01       0  geofence_ot   \n",
       "2   3309  ChIJYwOS_QblGGARGjLIoY8SyXI_3309  2014-07-02       0     geofence   \n",
       "3   3309  ChIJYwOS_QblGGARGjLIoY8SyXI_3309  2014-07-02       0  geofence_ot   \n",
       "4   3309  ChIJYwOS_QblGGARGjLIoY8SyXI_3309  2014-07-03       0     geofence   \n",
       "\n",
       "   VALUE  BACKFILL   RELEASE_TIMESTAMP  \n",
       "0    NaN         0 2024-06-08 08:14:07  \n",
       "1    NaN         0 2024-06-08 08:14:07  \n",
       "2    NaN         0 2024-06-08 08:14:07  \n",
       "3    NaN         0 2024-06-08 08:14:07  \n",
       "4    NaN         0 2024-06-08 08:14:07  "
      ]
     },
     "execution_count": 7,
     "metadata": {},
     "output_type": "execute_result"
    }
   ],
   "source": [
    "sdh = sdh.load(\n",
    "    'ALTERNATIVE',\n",
    "    data_type='aiq_geolocation',\n",
    "    meta_data='data',\n",
    "    place_id=['ChIJYwOS_QblGGARGjLIoY8SyXI_3309'],\n",
    "    variable = ['geofence', 'geofence_ot'],\n",
    "    load_only_raw=True,\n",
    "    load_only_latest=True,\n",
    "    schema_name='AIQ_GEOLOCATION_REIT'\n",
    ")\n",
    "df_pos = sdh.retrieve()\n",
    "df_pos.head()"
   ]
  },
  {
   "cell_type": "markdown",
   "id": "26b352b6-43d3-4d81-9ac7-39c37373656d",
   "metadata": {
    "execution": {
     "iopub.execute_input": "2024-08-16T06:47:39.077927Z",
     "iopub.status.busy": "2024-08-16T06:47:39.077239Z",
     "iopub.status.idle": "2024-08-16T06:47:39.090982Z",
     "shell.execute_reply": "2024-08-16T06:47:39.089864Z",
     "shell.execute_reply.started": "2024-08-16T06:47:39.077895Z"
    }
   },
   "source": [
    "#### Appendix\n",
    "The database and data schema used can be changed according to the user's environment.<br>\n",
    "The following is how to specify this in `load_alternative_aiq_geolocation_reit_data`, \n",
    "but the same applies to `load_alternative_aiq_geolocation_reit_universe` and `load_alternative_aiq_geolocation_reit_place_id`.\n",
    "```\n",
    "sdh = load_alternative_aiq_geolocation_reit_data(\n",
    "        sdh,\n",
    "        ticker=['3309'],\n",
    "        variable = ['geofence', 'geofence_ot'],\n",
    "        load_only_raw=True,\n",
    "        load_only_latest=True\n",
    "        db_name='YOUR_DB_NAME',\n",
    "        schema_name='YOUR_SCHEMA_NAME'\n",
    "    )\n",
    "```"
   ]
  }
 ],
 "metadata": {
  "kernelspec": {
   "display_name": "inv",
   "language": "python",
   "name": "inv"
  },
  "language_info": {
   "codemirror_mode": {
    "name": "ipython",
    "version": 3
   },
   "file_extension": ".py",
   "mimetype": "text/x-python",
   "name": "python",
   "nbconvert_exporter": "python",
   "pygments_lexer": "ipython3",
   "version": "3.9.19"
  }
 },
 "nbformat": 4,
 "nbformat_minor": 5
}
