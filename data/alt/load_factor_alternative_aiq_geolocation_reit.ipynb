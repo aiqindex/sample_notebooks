{
 "cells": [
  {
   "attachments": {
    "b8f1ff06-cee2-4b9c-ba2d-e754a1b2263d.png": {
     "image/png": "[encoded data removed]"
    }
   },
   "cell_type": "markdown",
   "id": "3b6cfe7a-802c-49c9-8828-3517b3ff7f37",
   "metadata": {},
   "source": [
    "![スクリーンショット 2024-03-26 11.25.41.png](attachment:b8f1ff06-cee2-4b9c-ba2d-e754a1b2263d.png)\n",
    "\n",
    "[disclaimer](../../disclaimer.txt/)"
   ]
  },
  {
   "cell_type": "markdown",
   "id": "83a8bc10-7e45-4f56-80fa-04ff0d705a45",
   "metadata": {},
   "source": [
    "# aiQ Geolocation Reit Data Loader Demo"
   ]
  },
  {
   "cell_type": "markdown",
   "id": "ce5a993d-bf0a-4825-ba63-06d1a05b0e24",
   "metadata": {},
   "source": [
    "### Step1: Import Library"
   ]
  },
  {
   "cell_type": "code",
   "execution_count": 1,
   "id": "b0635187-fbee-432a-849e-b8768cd73d7e",
   "metadata": {
    "execution": {
     "iopub.execute_input": "2024-09-30T01:22:26.456583Z",
     "iopub.status.busy": "2024-09-30T01:22:26.456081Z",
     "iopub.status.idle": "2024-09-30T01:22:33.241899Z",
     "shell.execute_reply": "2024-09-30T01:22:33.240761Z",
     "shell.execute_reply.started": "2024-09-30T01:22:26.456547Z"
    }
   },
   "outputs": [],
   "source": [
    "import os\n",
    "import numpy as np\n",
    "import pandas as pd\n",
    "\n",
    "from aiq_strategy_robot.data.data_accessor import DAL\n",
    "from aiq_strategy_robot.data.ALTERNATIVE import (\n",
    "    load_alternative_aiq_geolocation_reit_universe,\n",
    "    load_alternative_aiq_geolocation_reit_place_id,\n",
    "    load_alternative_aiq_geolocation_reit_data\n",
    ")"
   ]
  },
  {
   "cell_type": "code",
   "execution_count": 2,
   "id": "3fc6c12f-0e3c-4062-8c24-d2ad1515696a",
   "metadata": {
    "execution": {
     "iopub.execute_input": "2024-09-30T01:22:33.243888Z",
     "iopub.status.busy": "2024-09-30T01:22:33.243192Z",
     "iopub.status.idle": "2024-09-30T01:22:33.248404Z",
     "shell.execute_reply": "2024-09-30T01:22:33.247498Z",
     "shell.execute_reply.started": "2024-09-30T01:22:33.243856Z"
    }
   },
   "outputs": [],
   "source": [
    "ENV_DATABSE = 'TRIAL_SNOWFLAKE_DATABASE_AIQ_GEOLOCATION_REIT'\n",
    "db_name = os.environ.get(ENV_DATABSE)"
   ]
  },
  {
   "cell_type": "markdown",
   "id": "3ea087d6-36f0-403c-9c37-6e79e264a985",
   "metadata": {},
   "source": [
    "## Step2: Define Universe from Alt Data\n",
    "\n",
    "### `load_alternative_aiq_geolocation_reit_universe`  "
   ]
  },
  {
   "cell_type": "code",
   "execution_count": 3,
   "id": "cf71fb2b-3fa6-4fe9-9cbc-d18afcd17dda",
   "metadata": {
    "execution": {
     "iopub.execute_input": "2024-09-30T01:22:33.250108Z",
     "iopub.status.busy": "2024-09-30T01:22:33.249635Z",
     "iopub.status.idle": "2024-09-30T01:22:34.495280Z",
     "shell.execute_reply": "2024-09-30T01:22:34.494353Z",
     "shell.execute_reply.started": "2024-09-30T01:22:33.250079Z"
    }
   },
   "outputs": [
    {
     "data": {
      "text/html": [
       "<div>\n",
       "<style scoped>\n",
       "    .dataframe tbody tr th:only-of-type {\n",
       "        vertical-align: middle;\n",
       "    }\n",
       "\n",
       "    .dataframe tbody tr th {\n",
       "        vertical-align: top;\n",
       "    }\n",
       "\n",
       "    .dataframe thead th {\n",
       "        text-align: right;\n",
       "    }\n",
       "</style>\n",
       "<table border=\"1\" class=\"dataframe\">\n",
       "  <thead>\n",
       "    <tr style=\"text-align: right;\">\n",
       "      <th></th>\n",
       "      <th>LEI</th>\n",
       "      <th>PERM_ID</th>\n",
       "      <th>FIGI</th>\n",
       "      <th>TICKER</th>\n",
       "      <th>COMPANY_NAME</th>\n",
       "    </tr>\n",
       "  </thead>\n",
       "  <tbody>\n",
       "    <tr>\n",
       "      <th>0</th>\n",
       "      <td>None</td>\n",
       "      <td>1-5044031169</td>\n",
       "      <td>BBG007G5JZ43</td>\n",
       "      <td>3309</td>\n",
       "      <td>積水ハウス・リート投資法人</td>\n",
       "    </tr>\n",
       "  </tbody>\n",
       "</table>\n",
       "</div>"
      ],
      "text/plain": [
       "    LEI       PERM_ID          FIGI TICKER   COMPANY_NAME\n",
       "0  None  1-5044031169  BBG007G5JZ43   3309  積水ハウス・リート投資法人"
      ]
     },
     "execution_count": 3,
     "metadata": {},
     "output_type": "execute_result"
    }
   ],
   "source": [
    "sdh = DAL()\n",
    "load_alternative_aiq_geolocation_reit_universe(sdh, language='JP', ticker = '3309', db_name=db_name).retrieve()"
   ]
  },
  {
   "cell_type": "markdown",
   "id": "9e0449d3-1db6-4373-9501-56874111e2a3",
   "metadata": {},
   "source": [
    "### Data Access handler load\n",
    "Load the data to memory\n",
    "\n",
    "same return as **load_alternative_aiq_geolocation_reit_universe** \n",
    "```\n",
    "load_alternative_aiq_geolocation_reit_universe(sdh, language='EN', ticker = '1332').retrieve()\n",
    "```"
   ]
  },
  {
   "cell_type": "code",
   "execution_count": 4,
   "id": "d6face5d-601a-42fb-998a-bb819f64fe17",
   "metadata": {
    "execution": {
     "iopub.execute_input": "2024-09-30T01:22:34.497424Z",
     "iopub.status.busy": "2024-09-30T01:22:34.496641Z",
     "iopub.status.idle": "2024-09-30T01:22:35.107771Z",
     "shell.execute_reply": "2024-09-30T01:22:35.106836Z",
     "shell.execute_reply.started": "2024-09-30T01:22:34.497388Z"
    }
   },
   "outputs": [
    {
     "data": {
      "text/html": [
       "<div>\n",
       "<style scoped>\n",
       "    .dataframe tbody tr th:only-of-type {\n",
       "        vertical-align: middle;\n",
       "    }\n",
       "\n",
       "    .dataframe tbody tr th {\n",
       "        vertical-align: top;\n",
       "    }\n",
       "\n",
       "    .dataframe thead th {\n",
       "        text-align: right;\n",
       "    }\n",
       "</style>\n",
       "<table border=\"1\" class=\"dataframe\">\n",
       "  <thead>\n",
       "    <tr style=\"text-align: right;\">\n",
       "      <th></th>\n",
       "      <th>LEI</th>\n",
       "      <th>PERM_ID</th>\n",
       "      <th>FIGI</th>\n",
       "      <th>TICKER</th>\n",
       "      <th>COMPANY_NAME</th>\n",
       "    </tr>\n",
       "  </thead>\n",
       "  <tbody>\n",
       "    <tr>\n",
       "      <th>0</th>\n",
       "      <td>None</td>\n",
       "      <td>1-5044031169</td>\n",
       "      <td>BBG007G5JZ43</td>\n",
       "      <td>3309</td>\n",
       "      <td>Sekisui House Reit Inc</td>\n",
       "    </tr>\n",
       "  </tbody>\n",
       "</table>\n",
       "</div>"
      ],
      "text/plain": [
       "    LEI       PERM_ID          FIGI TICKER            COMPANY_NAME\n",
       "0  None  1-5044031169  BBG007G5JZ43   3309  Sekisui House Reit Inc"
      ]
     },
     "execution_count": 4,
     "metadata": {},
     "output_type": "execute_result"
    }
   ],
   "source": [
    "sdh = sdh.load(\n",
    "    'ALTERNATIVE',\n",
    "    data_type='aiq_geolocation',\n",
    "    meta_data='universe',\n",
    "    language='EN', \n",
    "    ticker = ['3309'],\n",
    "    db_name=db_name,\n",
    "    schema_name='AIQ_GEOLOCATION_REIT'\n",
    ")\n",
    "dfsyms = sdh.retrieve()\n",
    "dfsyms"
   ]
  },
  {
   "cell_type": "markdown",
   "id": "919bce0b-d230-4b5c-809d-61fd75754e40",
   "metadata": {},
   "source": [
    "## Step2: Define Place ID from Alt Data\n",
    "aiQ Geolocation Reit allows you to have granular views on activities at each place of your interest. <br>\n",
    "Here is how you can find by ticker which places are covered within the dataset.\n",
    "\n",
    "### `load_alternative_aiq_geolocation_reit_place_id`  "
   ]
  },
  {
   "cell_type": "code",
   "execution_count": 5,
   "id": "da4046a8-c2f5-4d0b-8e38-d4d685ab0b57",
   "metadata": {
    "execution": {
     "iopub.execute_input": "2024-09-30T01:22:35.110152Z",
     "iopub.status.busy": "2024-09-30T01:22:35.109017Z",
     "iopub.status.idle": "2024-09-30T01:22:35.722506Z",
     "shell.execute_reply": "2024-09-30T01:22:35.721536Z",
     "shell.execute_reply.started": "2024-09-30T01:22:35.110118Z"
    }
   },
   "outputs": [
    {
     "data": {
      "text/html": [
       "<div>\n",
       "<style scoped>\n",
       "    .dataframe tbody tr th:only-of-type {\n",
       "        vertical-align: middle;\n",
       "    }\n",
       "\n",
       "    .dataframe tbody tr th {\n",
       "        vertical-align: top;\n",
       "    }\n",
       "\n",
       "    .dataframe thead th {\n",
       "        text-align: right;\n",
       "    }\n",
       "</style>\n",
       "<table border=\"1\" class=\"dataframe\">\n",
       "  <thead>\n",
       "    <tr style=\"text-align: right;\">\n",
       "      <th></th>\n",
       "      <th>TICKER</th>\n",
       "      <th>FIGI</th>\n",
       "      <th>PLACE_ID</th>\n",
       "      <th>FACILITY_NAME</th>\n",
       "      <th>PREFECTURE</th>\n",
       "      <th>FACILITY_ADDRESS</th>\n",
       "      <th>SECTOR</th>\n",
       "      <th>SECTOR_NAME</th>\n",
       "    </tr>\n",
       "  </thead>\n",
       "  <tbody>\n",
       "    <tr>\n",
       "      <th>0</th>\n",
       "      <td>3309</td>\n",
       "      <td>BBG007G5JZ43</td>\n",
       "      <td>ChIJ__9Py5eSGGARsNZtx4pff1c_3309</td>\n",
       "      <td>エスティメゾン板橋区役所前</td>\n",
       "      <td>東京都</td>\n",
       "      <td>東京都 板橋区 板橋2-46-11</td>\n",
       "      <td>None</td>\n",
       "      <td>None</td>\n",
       "    </tr>\n",
       "    <tr>\n",
       "      <th>1</th>\n",
       "      <td>3309</td>\n",
       "      <td>BBG007G5JZ43</td>\n",
       "      <td>ChIJrRWEcViKGGAReLKbRyposhc_3309</td>\n",
       "      <td>プライムメゾン御殿山ウエスト</td>\n",
       "      <td>東京都</td>\n",
       "      <td>東京都 品川区 北品川6-5-8</td>\n",
       "      <td>None</td>\n",
       "      <td>None</td>\n",
       "    </tr>\n",
       "    <tr>\n",
       "      <th>2</th>\n",
       "      <td>3309</td>\n",
       "      <td>BBG007G5JZ43</td>\n",
       "      <td>ChIJA6GiAEp3A2ARxZ6Vgu4hxNk_3309</td>\n",
       "      <td>エスティメゾン東別院</td>\n",
       "      <td>愛知県</td>\n",
       "      <td>愛知県 名古屋市 中区松原3-16-4</td>\n",
       "      <td>None</td>\n",
       "      <td>None</td>\n",
       "    </tr>\n",
       "    <tr>\n",
       "      <th>3</th>\n",
       "      <td>3309</td>\n",
       "      <td>BBG007G5JZ43</td>\n",
       "      <td>ChIJFwFKG06LGGARwu34i_6IZRE_3309</td>\n",
       "      <td>プライムメゾン代官山</td>\n",
       "      <td>東京都</td>\n",
       "      <td>東京都 目黒区 青葉台1-9-6</td>\n",
       "      <td>None</td>\n",
       "      <td>None</td>\n",
       "    </tr>\n",
       "    <tr>\n",
       "      <th>4</th>\n",
       "      <td>3309</td>\n",
       "      <td>BBG007G5JZ43</td>\n",
       "      <td>ChIJt20yQ2iLGGARppKUWe1hTrQ_3309</td>\n",
       "      <td>エスティメゾン恵比寿Ⅱ</td>\n",
       "      <td>東京都</td>\n",
       "      <td>東京都 渋谷区 東4-13-1</td>\n",
       "      <td>None</td>\n",
       "      <td>None</td>\n",
       "    </tr>\n",
       "  </tbody>\n",
       "</table>\n",
       "</div>"
      ],
      "text/plain": [
       "  TICKER          FIGI                          PLACE_ID   FACILITY_NAME  \\\n",
       "0   3309  BBG007G5JZ43  ChIJ__9Py5eSGGARsNZtx4pff1c_3309   エスティメゾン板橋区役所前   \n",
       "1   3309  BBG007G5JZ43  ChIJrRWEcViKGGAReLKbRyposhc_3309  プライムメゾン御殿山ウエスト   \n",
       "2   3309  BBG007G5JZ43  ChIJA6GiAEp3A2ARxZ6Vgu4hxNk_3309      エスティメゾン東別院   \n",
       "3   3309  BBG007G5JZ43  ChIJFwFKG06LGGARwu34i_6IZRE_3309      プライムメゾン代官山   \n",
       "4   3309  BBG007G5JZ43  ChIJt20yQ2iLGGARppKUWe1hTrQ_3309     エスティメゾン恵比寿Ⅱ   \n",
       "\n",
       "  PREFECTURE     FACILITY_ADDRESS SECTOR SECTOR_NAME  \n",
       "0        東京都    東京都 板橋区 板橋2-46-11   None        None  \n",
       "1        東京都     東京都 品川区 北品川6-5-8   None        None  \n",
       "2        愛知県  愛知県 名古屋市 中区松原3-16-4   None        None  \n",
       "3        東京都     東京都 目黒区 青葉台1-9-6   None        None  \n",
       "4        東京都      東京都 渋谷区 東4-13-1   None        None  "
      ]
     },
     "execution_count": 5,
     "metadata": {},
     "output_type": "execute_result"
    }
   ],
   "source": [
    "load_alternative_aiq_geolocation_reit_place_id(sdh, language='JP', ticker = '3309', db_name=db_name).retrieve().head()"
   ]
  },
  {
   "cell_type": "markdown",
   "id": "6460ce2c-dc8a-46ee-a2e8-32e4619e102c",
   "metadata": {
    "execution": {
     "iopub.execute_input": "2024-09-05T04:56:08.676225Z",
     "iopub.status.busy": "2024-09-05T04:56:08.675385Z",
     "iopub.status.idle": "2024-09-05T04:56:08.682524Z",
     "shell.execute_reply": "2024-09-05T04:56:08.681462Z",
     "shell.execute_reply.started": "2024-09-05T04:56:08.676191Z"
    }
   },
   "source": [
    "### Data Access handler load\n",
    "\n",
    "You can achieve the same thing by using `load` method of `sdh` with meta_data=`place_id` set."
   ]
  },
  {
   "cell_type": "code",
   "execution_count": 6,
   "id": "18126ac3-5bed-4a38-ac03-09f3d75752cb",
   "metadata": {
    "execution": {
     "iopub.execute_input": "2024-09-30T01:22:35.725925Z",
     "iopub.status.busy": "2024-09-30T01:22:35.725108Z",
     "iopub.status.idle": "2024-09-30T01:22:36.370668Z",
     "shell.execute_reply": "2024-09-30T01:22:36.369745Z",
     "shell.execute_reply.started": "2024-09-30T01:22:35.725891Z"
    }
   },
   "outputs": [
    {
     "data": {
      "text/html": [
       "<div>\n",
       "<style scoped>\n",
       "    .dataframe tbody tr th:only-of-type {\n",
       "        vertical-align: middle;\n",
       "    }\n",
       "\n",
       "    .dataframe tbody tr th {\n",
       "        vertical-align: top;\n",
       "    }\n",
       "\n",
       "    .dataframe thead th {\n",
       "        text-align: right;\n",
       "    }\n",
       "</style>\n",
       "<table border=\"1\" class=\"dataframe\">\n",
       "  <thead>\n",
       "    <tr style=\"text-align: right;\">\n",
       "      <th></th>\n",
       "      <th>TICKER</th>\n",
       "      <th>FIGI</th>\n",
       "      <th>PLACE_ID</th>\n",
       "      <th>FACILITY_NAME</th>\n",
       "      <th>PREFECTURE</th>\n",
       "      <th>FACILITY_ADDRESS</th>\n",
       "      <th>SECTOR</th>\n",
       "      <th>SECTOR_NAME</th>\n",
       "    </tr>\n",
       "  </thead>\n",
       "  <tbody>\n",
       "    <tr>\n",
       "      <th>0</th>\n",
       "      <td>3309</td>\n",
       "      <td>BBG007G5JZ43</td>\n",
       "      <td>ChIJs_WRbKmTQTURGMZg4vzRtJI_3309</td>\n",
       "      <td>Prime Maison Momochihama</td>\n",
       "      <td>Fukuoka</td>\n",
       "      <td>Japan, 814-0001 Fukuoka, Sawara Ward, Momochih...</td>\n",
       "      <td>None</td>\n",
       "      <td>None</td>\n",
       "    </tr>\n",
       "    <tr>\n",
       "      <th>1</th>\n",
       "      <td>3309</td>\n",
       "      <td>BBG007G5JZ43</td>\n",
       "      <td>ChIJoZMtdHaNGGAR8KwWPJPR6Ow_3309</td>\n",
       "      <td>Prime Maison Otsuka</td>\n",
       "      <td>Tokyo</td>\n",
       "      <td>1-15-1 Kita-Otsuka, Toshima-ku, Tokyo</td>\n",
       "      <td>None</td>\n",
       "      <td>None</td>\n",
       "    </tr>\n",
       "    <tr>\n",
       "      <th>2</th>\n",
       "      <td>3309</td>\n",
       "      <td>BBG007G5JZ43</td>\n",
       "      <td>ChIJ6ZMiROnyGGARn8QpTpSWwOM_3309</td>\n",
       "      <td>Estee Maison Shin-Nakano</td>\n",
       "      <td>Tokyo</td>\n",
       "      <td>Japan, 164-0012 Tokyo, Nakano City, Honchō, 6-...</td>\n",
       "      <td>None</td>\n",
       "      <td>None</td>\n",
       "    </tr>\n",
       "    <tr>\n",
       "      <th>3</th>\n",
       "      <td>3309</td>\n",
       "      <td>BBG007G5JZ43</td>\n",
       "      <td>ChIJx9TvbniNGGARW4JL-o6oj9Q_3309</td>\n",
       "      <td>Estee Maison Sugamo</td>\n",
       "      <td>Tokyo</td>\n",
       "      <td>4-chōme-14-15 Sugamo, Toshima City, Tokyo 170-...</td>\n",
       "      <td>None</td>\n",
       "      <td>None</td>\n",
       "    </tr>\n",
       "    <tr>\n",
       "      <th>4</th>\n",
       "      <td>3309</td>\n",
       "      <td>BBG007G5JZ43</td>\n",
       "      <td>ChIJX1nhznuKGGARaNOUlmgQNgk_3309</td>\n",
       "      <td>Esty Maison Oi Sendaizaka</td>\n",
       "      <td>Tokyo</td>\n",
       "      <td>Japan, 140-0011 Tokyo, Shinagawa City, Higashi...</td>\n",
       "      <td>None</td>\n",
       "      <td>None</td>\n",
       "    </tr>\n",
       "  </tbody>\n",
       "</table>\n",
       "</div>"
      ],
      "text/plain": [
       "  TICKER          FIGI                          PLACE_ID  \\\n",
       "0   3309  BBG007G5JZ43  ChIJs_WRbKmTQTURGMZg4vzRtJI_3309   \n",
       "1   3309  BBG007G5JZ43  ChIJoZMtdHaNGGAR8KwWPJPR6Ow_3309   \n",
       "2   3309  BBG007G5JZ43  ChIJ6ZMiROnyGGARn8QpTpSWwOM_3309   \n",
       "3   3309  BBG007G5JZ43  ChIJx9TvbniNGGARW4JL-o6oj9Q_3309   \n",
       "4   3309  BBG007G5JZ43  ChIJX1nhznuKGGARaNOUlmgQNgk_3309   \n",
       "\n",
       "               FACILITY_NAME PREFECTURE  \\\n",
       "0   Prime Maison Momochihama    Fukuoka   \n",
       "1        Prime Maison Otsuka      Tokyo   \n",
       "2   Estee Maison Shin-Nakano      Tokyo   \n",
       "3        Estee Maison Sugamo      Tokyo   \n",
       "4  Esty Maison Oi Sendaizaka      Tokyo   \n",
       "\n",
       "                                    FACILITY_ADDRESS SECTOR SECTOR_NAME  \n",
       "0  Japan, 814-0001 Fukuoka, Sawara Ward, Momochih...   None        None  \n",
       "1              1-15-1 Kita-Otsuka, Toshima-ku, Tokyo   None        None  \n",
       "2  Japan, 164-0012 Tokyo, Nakano City, Honchō, 6-...   None        None  \n",
       "3  4-chōme-14-15 Sugamo, Toshima City, Tokyo 170-...   None        None  \n",
       "4  Japan, 140-0011 Tokyo, Shinagawa City, Higashi...   None        None  "
      ]
     },
     "execution_count": 6,
     "metadata": {},
     "output_type": "execute_result"
    }
   ],
   "source": [
    "sdh = sdh.load(\n",
    "    'ALTERNATIVE',\n",
    "    data_type='aiq_geolocation',\n",
    "    meta_data='place_id',\n",
    "    language='EN', \n",
    "    ticker = ['3309'],\n",
    "    db_name=db_name,\n",
    "    schema_name='AIQ_GEOLOCATION_REIT'\n",
    ")\n",
    "dfplaceid = sdh.retrieve()\n",
    "dfplaceid.head()"
   ]
  },
  {
   "cell_type": "markdown",
   "id": "a9aa294d-12f1-436a-be90-a2247316401a",
   "metadata": {},
   "source": [
    "\n",
    "## Step4: Load Alternative Data\n",
    "### `load_alternative_aiq_geolocation_reit_data`  \n",
    "\n",
    "Finally we use this method to load the actual time series data. <br>\n",
    "You can select data by `ticker` or `place_id`.\n",
    "- 'geofence': observations for 24 hours basis\n",
    "- 'geofence_ot': observations for only mid night hours (11pm to 5am in Japan)\n"
   ]
  },
  {
   "cell_type": "code",
   "execution_count": 7,
   "id": "99795465-f084-4177-b14b-28899bb8871c",
   "metadata": {
    "execution": {
     "iopub.execute_input": "2024-09-30T01:22:36.372131Z",
     "iopub.status.busy": "2024-09-30T01:22:36.371810Z",
     "iopub.status.idle": "2024-09-30T01:22:42.836815Z",
     "shell.execute_reply": "2024-09-30T01:22:42.835904Z",
     "shell.execute_reply.started": "2024-09-30T01:22:36.372100Z"
    }
   },
   "outputs": [
    {
     "data": {
      "text/html": [
       "<div>\n",
       "<style scoped>\n",
       "    .dataframe tbody tr th:only-of-type {\n",
       "        vertical-align: middle;\n",
       "    }\n",
       "\n",
       "    .dataframe tbody tr th {\n",
       "        vertical-align: top;\n",
       "    }\n",
       "\n",
       "    .dataframe thead th {\n",
       "        text-align: right;\n",
       "    }\n",
       "</style>\n",
       "<table border=\"1\" class=\"dataframe\">\n",
       "  <thead>\n",
       "    <tr style=\"text-align: right;\">\n",
       "      <th></th>\n",
       "      <th>TICKER</th>\n",
       "      <th>PLACE_ID</th>\n",
       "      <th>DATETIME</th>\n",
       "      <th>SMOOTH</th>\n",
       "      <th>VARIABLE</th>\n",
       "      <th>VALUE</th>\n",
       "      <th>BACKFILL</th>\n",
       "      <th>RELEASE_TIMESTAMP</th>\n",
       "    </tr>\n",
       "  </thead>\n",
       "  <tbody>\n",
       "    <tr>\n",
       "      <th>0</th>\n",
       "      <td>3309</td>\n",
       "      <td>ChIJ9f04oJopC18Rsb9gZrJl0do_3309</td>\n",
       "      <td>2014-07-01</td>\n",
       "      <td>0</td>\n",
       "      <td>geofence</td>\n",
       "      <td>NaN</td>\n",
       "      <td>0</td>\n",
       "      <td>2024-06-08 08:14:07</td>\n",
       "    </tr>\n",
       "    <tr>\n",
       "      <th>1</th>\n",
       "      <td>3309</td>\n",
       "      <td>ChIJM-MSThlxA2AR-ponUOz0gXg_3309</td>\n",
       "      <td>2014-07-01</td>\n",
       "      <td>0</td>\n",
       "      <td>geofence</td>\n",
       "      <td>NaN</td>\n",
       "      <td>0</td>\n",
       "      <td>2024-06-08 08:14:07</td>\n",
       "    </tr>\n",
       "    <tr>\n",
       "      <th>2</th>\n",
       "      <td>3309</td>\n",
       "      <td>ChIJfyovmr6SGGAR8-UHR1nDd6o_3309</td>\n",
       "      <td>2014-07-01</td>\n",
       "      <td>0</td>\n",
       "      <td>geofence</td>\n",
       "      <td>NaN</td>\n",
       "      <td>0</td>\n",
       "      <td>2024-06-08 08:14:07</td>\n",
       "    </tr>\n",
       "    <tr>\n",
       "      <th>3</th>\n",
       "      <td>3309</td>\n",
       "      <td>ChIJ5wL82BSLGGAREd6RRGLR4g4_3309</td>\n",
       "      <td>2014-07-01</td>\n",
       "      <td>0</td>\n",
       "      <td>geofence</td>\n",
       "      <td>NaN</td>\n",
       "      <td>0</td>\n",
       "      <td>2024-06-08 08:14:07</td>\n",
       "    </tr>\n",
       "    <tr>\n",
       "      <th>4</th>\n",
       "      <td>3309</td>\n",
       "      <td>ChIJkdMCgrzuGGAR1wN1rdRK-w4_3309</td>\n",
       "      <td>2014-07-01</td>\n",
       "      <td>0</td>\n",
       "      <td>geofence</td>\n",
       "      <td>NaN</td>\n",
       "      <td>0</td>\n",
       "      <td>2024-06-08 08:14:07</td>\n",
       "    </tr>\n",
       "  </tbody>\n",
       "</table>\n",
       "</div>"
      ],
      "text/plain": [
       "  TICKER                          PLACE_ID    DATETIME  SMOOTH  VARIABLE  \\\n",
       "0   3309  ChIJ9f04oJopC18Rsb9gZrJl0do_3309  2014-07-01       0  geofence   \n",
       "1   3309  ChIJM-MSThlxA2AR-ponUOz0gXg_3309  2014-07-01       0  geofence   \n",
       "2   3309  ChIJfyovmr6SGGAR8-UHR1nDd6o_3309  2014-07-01       0  geofence   \n",
       "3   3309  ChIJ5wL82BSLGGAREd6RRGLR4g4_3309  2014-07-01       0  geofence   \n",
       "4   3309  ChIJkdMCgrzuGGAR1wN1rdRK-w4_3309  2014-07-01       0  geofence   \n",
       "\n",
       "   VALUE  BACKFILL   RELEASE_TIMESTAMP  \n",
       "0    NaN         0 2024-06-08 08:14:07  \n",
       "1    NaN         0 2024-06-08 08:14:07  \n",
       "2    NaN         0 2024-06-08 08:14:07  \n",
       "3    NaN         0 2024-06-08 08:14:07  \n",
       "4    NaN         0 2024-06-08 08:14:07  "
      ]
     },
     "execution_count": 7,
     "metadata": {},
     "output_type": "execute_result"
    }
   ],
   "source": [
    "sdh = load_alternative_aiq_geolocation_reit_data(\n",
    "        sdh,\n",
    "        ticker=['3309'],\n",
    "        # place_id=None,　`ticker` and `place_id` cannot be specified at the same time; they are mutually exclusive　\n",
    "        variable = ['geofence', 'geofence_ot'],\n",
    "        load_only_raw=True,\n",
    "        load_only_latest=True,\n",
    "        db_name=db_name\n",
    "    )\n",
    "df_pos = sdh.retrieve()\n",
    "df_pos.head()"
   ]
  },
  {
   "cell_type": "markdown",
   "id": "25260efa-5267-4693-bc6e-2ccbc58da237",
   "metadata": {},
   "source": [
    "### Data Access handler load\n",
    "Load the data to memory\n",
    "\n",
    "same return as **load_alternative_aiq_geolocation_reit_data**\n",
    "```\n",
    "sdh = load_alternative_aiq_geolocation_reit_data(\n",
    "        sdh,\n",
    "        place_id=['ChIJYwOS_QblGGARGjLIoY8SyXI_3309'],\n",
    "        variable = ['geofence', 'geofence_ot'],\n",
    "        load_only_raw=True,\n",
    "        load_only_latest=True\n",
    "    )\n",
    "```"
   ]
  },
  {
   "cell_type": "code",
   "execution_count": 8,
   "id": "207b0d10-309b-4275-8045-8b8a7190173b",
   "metadata": {
    "execution": {
     "iopub.execute_input": "2024-09-30T01:22:42.838769Z",
     "iopub.status.busy": "2024-09-30T01:22:42.837993Z",
     "iopub.status.idle": "2024-09-30T01:22:44.479455Z",
     "shell.execute_reply": "2024-09-30T01:22:44.478432Z",
     "shell.execute_reply.started": "2024-09-30T01:22:42.838736Z"
    }
   },
   "outputs": [
    {
     "data": {
      "text/html": [
       "<div>\n",
       "<style scoped>\n",
       "    .dataframe tbody tr th:only-of-type {\n",
       "        vertical-align: middle;\n",
       "    }\n",
       "\n",
       "    .dataframe tbody tr th {\n",
       "        vertical-align: top;\n",
       "    }\n",
       "\n",
       "    .dataframe thead th {\n",
       "        text-align: right;\n",
       "    }\n",
       "</style>\n",
       "<table border=\"1\" class=\"dataframe\">\n",
       "  <thead>\n",
       "    <tr style=\"text-align: right;\">\n",
       "      <th></th>\n",
       "      <th>TICKER</th>\n",
       "      <th>PLACE_ID</th>\n",
       "      <th>DATETIME</th>\n",
       "      <th>SMOOTH</th>\n",
       "      <th>VARIABLE</th>\n",
       "      <th>VALUE</th>\n",
       "      <th>BACKFILL</th>\n",
       "      <th>RELEASE_TIMESTAMP</th>\n",
       "    </tr>\n",
       "  </thead>\n",
       "  <tbody>\n",
       "    <tr>\n",
       "      <th>0</th>\n",
       "      <td>3309</td>\n",
       "      <td>ChIJYwOS_QblGGARGjLIoY8SyXI_3309</td>\n",
       "      <td>2014-07-01</td>\n",
       "      <td>0</td>\n",
       "      <td>geofence</td>\n",
       "      <td>NaN</td>\n",
       "      <td>0</td>\n",
       "      <td>2024-06-08 08:14:07</td>\n",
       "    </tr>\n",
       "    <tr>\n",
       "      <th>1</th>\n",
       "      <td>3309</td>\n",
       "      <td>ChIJYwOS_QblGGARGjLIoY8SyXI_3309</td>\n",
       "      <td>2014-07-01</td>\n",
       "      <td>0</td>\n",
       "      <td>geofence_ot</td>\n",
       "      <td>NaN</td>\n",
       "      <td>0</td>\n",
       "      <td>2024-06-08 08:14:07</td>\n",
       "    </tr>\n",
       "    <tr>\n",
       "      <th>2</th>\n",
       "      <td>3309</td>\n",
       "      <td>ChIJYwOS_QblGGARGjLIoY8SyXI_3309</td>\n",
       "      <td>2014-07-02</td>\n",
       "      <td>0</td>\n",
       "      <td>geofence</td>\n",
       "      <td>NaN</td>\n",
       "      <td>0</td>\n",
       "      <td>2024-06-08 08:14:07</td>\n",
       "    </tr>\n",
       "    <tr>\n",
       "      <th>3</th>\n",
       "      <td>3309</td>\n",
       "      <td>ChIJYwOS_QblGGARGjLIoY8SyXI_3309</td>\n",
       "      <td>2014-07-02</td>\n",
       "      <td>0</td>\n",
       "      <td>geofence_ot</td>\n",
       "      <td>NaN</td>\n",
       "      <td>0</td>\n",
       "      <td>2024-06-08 08:14:07</td>\n",
       "    </tr>\n",
       "    <tr>\n",
       "      <th>4</th>\n",
       "      <td>3309</td>\n",
       "      <td>ChIJYwOS_QblGGARGjLIoY8SyXI_3309</td>\n",
       "      <td>2014-07-03</td>\n",
       "      <td>0</td>\n",
       "      <td>geofence</td>\n",
       "      <td>NaN</td>\n",
       "      <td>0</td>\n",
       "      <td>2024-06-08 08:14:07</td>\n",
       "    </tr>\n",
       "  </tbody>\n",
       "</table>\n",
       "</div>"
      ],
      "text/plain": [
       "  TICKER                          PLACE_ID    DATETIME  SMOOTH     VARIABLE  \\\n",
       "0   3309  ChIJYwOS_QblGGARGjLIoY8SyXI_3309  2014-07-01       0     geofence   \n",
       "1   3309  ChIJYwOS_QblGGARGjLIoY8SyXI_3309  2014-07-01       0  geofence_ot   \n",
       "2   3309  ChIJYwOS_QblGGARGjLIoY8SyXI_3309  2014-07-02       0     geofence   \n",
       "3   3309  ChIJYwOS_QblGGARGjLIoY8SyXI_3309  2014-07-02       0  geofence_ot   \n",
       "4   3309  ChIJYwOS_QblGGARGjLIoY8SyXI_3309  2014-07-03       0     geofence   \n",
       "\n",
       "   VALUE  BACKFILL   RELEASE_TIMESTAMP  \n",
       "0    NaN         0 2024-06-08 08:14:07  \n",
       "1    NaN         0 2024-06-08 08:14:07  \n",
       "2    NaN         0 2024-06-08 08:14:07  \n",
       "3    NaN         0 2024-06-08 08:14:07  \n",
       "4    NaN         0 2024-06-08 08:14:07  "
      ]
     },
     "execution_count": 8,
     "metadata": {},
     "output_type": "execute_result"
    }
   ],
   "source": [
    "sdh = sdh.load(\n",
    "    'ALTERNATIVE',\n",
    "    data_type='aiq_geolocation',\n",
    "    meta_data='data',\n",
    "    place_id=['ChIJYwOS_QblGGARGjLIoY8SyXI_3309'],\n",
    "    variable = ['geofence', 'geofence_ot'],\n",
    "    load_only_raw=True,\n",
    "    load_only_latest=True,\n",
    "    db_name=db_name,\n",
    "    schema_name='AIQ_GEOLOCATION_REIT'\n",
    ")\n",
    "df_pos = sdh.retrieve()\n",
    "df_pos.head()"
   ]
  },
  {
   "cell_type": "markdown",
   "id": "26b352b6-43d3-4d81-9ac7-39c37373656d",
   "metadata": {
    "execution": {
     "iopub.execute_input": "2024-08-16T06:47:39.077927Z",
     "iopub.status.busy": "2024-08-16T06:47:39.077239Z",
     "iopub.status.idle": "2024-08-16T06:47:39.090982Z",
     "shell.execute_reply": "2024-08-16T06:47:39.089864Z",
     "shell.execute_reply.started": "2024-08-16T06:47:39.077895Z"
    }
   },
   "source": [
    "#### Appendix\n",
    "The database and data schema used can be changed according to the user's environment.<br>\n",
    "The following is how to specify this in `load_alternative_aiq_geolocation_reit_data`, \n",
    "but the same applies to `load_alternative_aiq_geolocation_reit_universe` and `load_alternative_aiq_geolocation_reit_place_id`.\n",
    "```\n",
    "sdh = load_alternative_aiq_geolocation_reit_data(\n",
    "        sdh,\n",
    "        ticker=['3309'],\n",
    "        variable = ['geofence', 'geofence_ot'],\n",
    "        load_only_raw=True,\n",
    "        load_only_latest=True\n",
    "        db_name='YOUR_DB_NAME',\n",
    "        schema_name='YOUR_SCHEMA_NAME'\n",
    "    )\n",
    "```"
   ]
  }
 ],
 "metadata": {
  "kernelspec": {
   "display_name": "inv",
   "language": "python",
   "name": "inv"
  },
  "language_info": {
   "codemirror_mode": {
    "name": "ipython",
    "version": 3
   },
   "file_extension": ".py",
   "mimetype": "text/x-python",
   "name": "python",
   "nbconvert_exporter": "python",
   "pygments_lexer": "ipython3",
   "version": "3.9.19"
  }
 },
 "nbformat": 4,
 "nbformat_minor": 5
}
