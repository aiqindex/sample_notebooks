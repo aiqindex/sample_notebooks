{
 "cells": [
  {
   "attachments": {
    "b8f1ff06-cee2-4b9c-ba2d-e754a1b2263d.png": {
     "image/png": "[encoded data removed]"
    }
   },
   "cell_type": "markdown",
   "id": "3b6cfe7a-802c-49c9-8828-3517b3ff7f37",
   "metadata": {},
   "source": [
    "![スクリーンショット 2024-03-26 11.25.41.png](attachment:b8f1ff06-cee2-4b9c-ba2d-e754a1b2263d.png)\n",
    "\n",
    "[disclaimer](../../disclaimer.txt/)"
   ]
  },
  {
   "cell_type": "markdown",
   "id": "83a8bc10-7e45-4f56-80fa-04ff0d705a45",
   "metadata": {},
   "source": [
    "# ALTERNATIVE DATA Evaluation Demo"
   ]
  },
  {
   "cell_type": "markdown",
   "id": "3d970af6-3470-4a62-a83b-1409e02cf05d",
   "metadata": {},
   "source": [
    "## Evaluate aiQ POS Elec Goods using aiQ Lab Alt Data Evaluation Tool"
   ]
  },
  {
   "cell_type": "markdown",
   "id": "ce5a993d-bf0a-4825-ba63-06d1a05b0e24",
   "metadata": {},
   "source": [
    "### Step1: Import Library"
   ]
  },
  {
   "cell_type": "code",
   "execution_count": 1,
   "id": "b0635187-fbee-432a-849e-b8768cd73d7e",
   "metadata": {
    "execution": {
     "iopub.execute_input": "2024-09-30T01:30:38.366196Z",
     "iopub.status.busy": "2024-09-30T01:30:38.365669Z",
     "iopub.status.idle": "2024-09-30T01:30:44.893339Z",
     "shell.execute_reply": "2024-09-30T01:30:44.892242Z",
     "shell.execute_reply.started": "2024-09-30T01:30:38.366164Z"
    }
   },
   "outputs": [],
   "source": [
    "import os\n",
    "import numpy as np\n",
    "import pandas as pd\n",
    "\n",
    "from aiq_strategy_robot.data.data_accessor import DAL\n",
    "from aiq_strategy_robot.data.ALTERNATIVE import load_alternative_aiq_pos_elec_goods_universe, \\\n",
    "                                                    load_alternative_aiq_pos_elec_goods_data"
   ]
  },
  {
   "cell_type": "code",
   "execution_count": 2,
   "id": "91510044-8908-400b-8485-e919b1817ad5",
   "metadata": {
    "execution": {
     "iopub.execute_input": "2024-09-30T01:30:44.895233Z",
     "iopub.status.busy": "2024-09-30T01:30:44.894738Z",
     "iopub.status.idle": "2024-09-30T01:30:44.900415Z",
     "shell.execute_reply": "2024-09-30T01:30:44.899230Z",
     "shell.execute_reply.started": "2024-09-30T01:30:44.895202Z"
    }
   },
   "outputs": [],
   "source": [
    "ENV_DATABSE = 'TRIAL_SNOWFLAKE_DATABASE_AIQ_POS_ELEC_GOODS'\n",
    "db_name = os.environ.get(ENV_DATABSE)"
   ]
  },
  {
   "cell_type": "markdown",
   "id": "3ea087d6-36f0-403c-9c37-6e79e264a985",
   "metadata": {},
   "source": [
    "## Step2: Define Universe from Alt Data\n",
    "### Normally, a list of tickers is picked by users.\n",
    "### However it is made equal to the list of tickers found in aiQ POS Elec Goods dataset for this demo.\n",
    "\n",
    "### `load_alternative_aiq_pos_elec_goods_universe`  "
   ]
  },
  {
   "cell_type": "code",
   "execution_count": 3,
   "id": "cf71fb2b-3fa6-4fe9-9cbc-d18afcd17dda",
   "metadata": {
    "execution": {
     "iopub.execute_input": "2024-09-30T01:30:44.902352Z",
     "iopub.status.busy": "2024-09-30T01:30:44.901935Z",
     "iopub.status.idle": "2024-09-30T01:30:45.986472Z",
     "shell.execute_reply": "2024-09-30T01:30:45.985370Z",
     "shell.execute_reply.started": "2024-09-30T01:30:44.902311Z"
    }
   },
   "outputs": [
    {
     "data": {
      "text/html": [
       "<div>\n",
       "<style scoped>\n",
       "    .dataframe tbody tr th:only-of-type {\n",
       "        vertical-align: middle;\n",
       "    }\n",
       "\n",
       "    .dataframe tbody tr th {\n",
       "        vertical-align: top;\n",
       "    }\n",
       "\n",
       "    .dataframe thead th {\n",
       "        text-align: right;\n",
       "    }\n",
       "</style>\n",
       "<table border=\"1\" class=\"dataframe\">\n",
       "  <thead>\n",
       "    <tr style=\"text-align: right;\">\n",
       "      <th></th>\n",
       "      <th>FIGI</th>\n",
       "      <th>TICKER</th>\n",
       "    </tr>\n",
       "  </thead>\n",
       "  <tbody>\n",
       "    <tr>\n",
       "      <th>0</th>\n",
       "      <td>BBG000BN4FT7</td>\n",
       "      <td>2180</td>\n",
       "    </tr>\n",
       "  </tbody>\n",
       "</table>\n",
       "</div>"
      ],
      "text/plain": [
       "           FIGI TICKER\n",
       "0  BBG000BN4FT7   2180"
      ]
     },
     "execution_count": 3,
     "metadata": {},
     "output_type": "execute_result"
    }
   ],
   "source": [
    "sdh = DAL()\n",
    "load_alternative_aiq_pos_elec_goods_universe(sdh, ticker = '2180', db_name=db_name).retrieve()"
   ]
  },
  {
   "cell_type": "markdown",
   "id": "9e0449d3-1db6-4373-9501-56874111e2a3",
   "metadata": {},
   "source": [
    "### Data Access handler load\n",
    "Load the data to memory\n",
    "\n",
    "same return as **load_alternative_aiq_pos_elec_goods_universe** \n",
    "```\n",
    "load_alternative_aiq_pos_elec_goods_universe(sdh, ticker = '2180').retrieve()\n",
    "```"
   ]
  },
  {
   "cell_type": "code",
   "execution_count": 4,
   "id": "d6face5d-601a-42fb-998a-bb819f64fe17",
   "metadata": {
    "execution": {
     "iopub.execute_input": "2024-09-30T01:30:45.988252Z",
     "iopub.status.busy": "2024-09-30T01:30:45.987832Z",
     "iopub.status.idle": "2024-09-30T01:30:46.612940Z",
     "shell.execute_reply": "2024-09-30T01:30:46.612068Z",
     "shell.execute_reply.started": "2024-09-30T01:30:45.988218Z"
    }
   },
   "outputs": [
    {
     "data": {
      "text/html": [
       "<div>\n",
       "<style scoped>\n",
       "    .dataframe tbody tr th:only-of-type {\n",
       "        vertical-align: middle;\n",
       "    }\n",
       "\n",
       "    .dataframe tbody tr th {\n",
       "        vertical-align: top;\n",
       "    }\n",
       "\n",
       "    .dataframe thead th {\n",
       "        text-align: right;\n",
       "    }\n",
       "</style>\n",
       "<table border=\"1\" class=\"dataframe\">\n",
       "  <thead>\n",
       "    <tr style=\"text-align: right;\">\n",
       "      <th></th>\n",
       "      <th>FIGI</th>\n",
       "      <th>TICKER</th>\n",
       "    </tr>\n",
       "  </thead>\n",
       "  <tbody>\n",
       "    <tr>\n",
       "      <th>0</th>\n",
       "      <td>BBG000BN4FT7</td>\n",
       "      <td>2180</td>\n",
       "    </tr>\n",
       "  </tbody>\n",
       "</table>\n",
       "</div>"
      ],
      "text/plain": [
       "           FIGI TICKER\n",
       "0  BBG000BN4FT7   2180"
      ]
     },
     "execution_count": 4,
     "metadata": {},
     "output_type": "execute_result"
    }
   ],
   "source": [
    "sdh = sdh.load(\n",
    "    'ALTERNATIVE',\n",
    "    data_type='aiq_pos_elec_goods',\n",
    "    meta_data='universe',\n",
    "    ticker = ['2180'], \n",
    "    db_name=db_name\n",
    ")\n",
    "dfsyms = sdh.retrieve()\n",
    "dfsyms"
   ]
  },
  {
   "cell_type": "markdown",
   "id": "919bce0b-d230-4b5c-809d-61fd75754e40",
   "metadata": {},
   "source": [
    "## Get list of FIGI ids"
   ]
  },
  {
   "cell_type": "code",
   "execution_count": 5,
   "id": "18126ac3-5bed-4a38-ac03-09f3d75752cb",
   "metadata": {
    "execution": {
     "iopub.execute_input": "2024-09-30T01:30:46.614283Z",
     "iopub.status.busy": "2024-09-30T01:30:46.614001Z",
     "iopub.status.idle": "2024-09-30T01:30:47.472039Z",
     "shell.execute_reply": "2024-09-30T01:30:47.471033Z",
     "shell.execute_reply.started": "2024-09-30T01:30:46.614253Z"
    }
   },
   "outputs": [],
   "source": [
    "aiq_pos_universe = load_alternative_aiq_pos_elec_goods_universe(sdh, db_name=db_name).retrieve()\n",
    "list_figis = aiq_pos_universe['FIGI'].to_list()"
   ]
  },
  {
   "cell_type": "markdown",
   "id": "a9aa294d-12f1-436a-be90-a2247316401a",
   "metadata": {},
   "source": [
    "\n",
    "## Step3: Load Alternative Data\n",
    "### `load_alternative_aiq_pos_elec_goods_data`  \n",
    "ALTERNATIVE DATA  aiq_pos_elec_goods data wrapper  \n"
   ]
  },
  {
   "cell_type": "code",
   "execution_count": 6,
   "id": "99795465-f084-4177-b14b-28899bb8871c",
   "metadata": {
    "execution": {
     "iopub.execute_input": "2024-09-30T01:30:47.475166Z",
     "iopub.status.busy": "2024-09-30T01:30:47.474474Z",
     "iopub.status.idle": "2024-09-30T01:30:54.241013Z",
     "shell.execute_reply": "2024-09-30T01:30:54.240046Z",
     "shell.execute_reply.started": "2024-09-30T01:30:47.475134Z"
    }
   },
   "outputs": [
    {
     "data": {
      "text/html": [
       "<div>\n",
       "<style scoped>\n",
       "    .dataframe tbody tr th:only-of-type {\n",
       "        vertical-align: middle;\n",
       "    }\n",
       "\n",
       "    .dataframe tbody tr th {\n",
       "        vertical-align: top;\n",
       "    }\n",
       "\n",
       "    .dataframe thead th {\n",
       "        text-align: right;\n",
       "    }\n",
       "</style>\n",
       "<table border=\"1\" class=\"dataframe\">\n",
       "  <thead>\n",
       "    <tr style=\"text-align: right;\">\n",
       "      <th></th>\n",
       "      <th>TICKER</th>\n",
       "      <th>FIGI</th>\n",
       "      <th>DATETIME</th>\n",
       "      <th>VARIABLE</th>\n",
       "      <th>SMOOTH</th>\n",
       "      <th>VALUE</th>\n",
       "      <th>BACKFILL</th>\n",
       "      <th>RELEASE_TIMESTAMP</th>\n",
       "    </tr>\n",
       "  </thead>\n",
       "  <tbody>\n",
       "    <tr>\n",
       "      <th>0</th>\n",
       "      <td>2180</td>\n",
       "      <td>BBG000BN4FT7</td>\n",
       "      <td>2018-04-24</td>\n",
       "      <td>pos_sales</td>\n",
       "      <td>0</td>\n",
       "      <td>0.007863</td>\n",
       "      <td>1</td>\n",
       "      <td>2018-04-27 08:00:00</td>\n",
       "    </tr>\n",
       "    <tr>\n",
       "      <th>1</th>\n",
       "      <td>2180</td>\n",
       "      <td>BBG000BN4FT7</td>\n",
       "      <td>2018-04-24</td>\n",
       "      <td>share</td>\n",
       "      <td>0</td>\n",
       "      <td>0.000200</td>\n",
       "      <td>1</td>\n",
       "      <td>2018-04-27 08:00:00</td>\n",
       "    </tr>\n",
       "    <tr>\n",
       "      <th>2</th>\n",
       "      <td>2180</td>\n",
       "      <td>BBG000BN4FT7</td>\n",
       "      <td>2018-04-24</td>\n",
       "      <td>unit_price</td>\n",
       "      <td>0</td>\n",
       "      <td>1.000000</td>\n",
       "      <td>1</td>\n",
       "      <td>2018-04-27 08:00:00</td>\n",
       "    </tr>\n",
       "    <tr>\n",
       "      <th>3</th>\n",
       "      <td>2180</td>\n",
       "      <td>BBG000BN4FT7</td>\n",
       "      <td>2018-05-01</td>\n",
       "      <td>pos_sales</td>\n",
       "      <td>0</td>\n",
       "      <td>0.003931</td>\n",
       "      <td>1</td>\n",
       "      <td>2018-05-08 08:00:00</td>\n",
       "    </tr>\n",
       "    <tr>\n",
       "      <th>4</th>\n",
       "      <td>2180</td>\n",
       "      <td>BBG000BN4FT7</td>\n",
       "      <td>2018-05-01</td>\n",
       "      <td>share</td>\n",
       "      <td>0</td>\n",
       "      <td>0.000065</td>\n",
       "      <td>1</td>\n",
       "      <td>2018-05-08 08:00:00</td>\n",
       "    </tr>\n",
       "  </tbody>\n",
       "</table>\n",
       "</div>"
      ],
      "text/plain": [
       "  TICKER          FIGI    DATETIME    VARIABLE  SMOOTH     VALUE  BACKFILL  \\\n",
       "0   2180  BBG000BN4FT7  2018-04-24   pos_sales       0  0.007863         1   \n",
       "1   2180  BBG000BN4FT7  2018-04-24       share       0  0.000200         1   \n",
       "2   2180  BBG000BN4FT7  2018-04-24  unit_price       0  1.000000         1   \n",
       "3   2180  BBG000BN4FT7  2018-05-01   pos_sales       0  0.003931         1   \n",
       "4   2180  BBG000BN4FT7  2018-05-01       share       0  0.000065         1   \n",
       "\n",
       "    RELEASE_TIMESTAMP  \n",
       "0 2018-04-27 08:00:00  \n",
       "1 2018-04-27 08:00:00  \n",
       "2 2018-04-27 08:00:00  \n",
       "3 2018-05-08 08:00:00  \n",
       "4 2018-05-08 08:00:00  "
      ]
     },
     "execution_count": 6,
     "metadata": {},
     "output_type": "execute_result"
    }
   ],
   "source": [
    "sdh = load_alternative_aiq_pos_elec_goods_data(\n",
    "        sdh,\n",
    "        figi=list_figis,\n",
    "        variable = ['pos_sales', 'share', 'unit_price'],\n",
    "        load_only_raw=True,\n",
    "        load_only_latest=True, \n",
    "        db_name=db_name\n",
    "    )\n",
    "df_pos = sdh.retrieve()\n",
    "df_pos.head()"
   ]
  },
  {
   "cell_type": "markdown",
   "id": "25260efa-5267-4693-bc6e-2ccbc58da237",
   "metadata": {},
   "source": [
    "### Data Access handler load\n",
    "Load the data to memory\n",
    "\n",
    "same return as **load_alternative_aiq_pos_elec_goods_data**\n",
    "```\n",
    "sdh = load_alternative_aiq_pos_elec_goods_data(\n",
    "        sdh,\n",
    "        figi=list_figis,\n",
    "        load_only_raw=True,\n",
    "        load_only_latest=True\n",
    "    )\n",
    "```"
   ]
  },
  {
   "cell_type": "code",
   "execution_count": 7,
   "id": "207b0d10-309b-4275-8045-8b8a7190173b",
   "metadata": {
    "execution": {
     "iopub.execute_input": "2024-09-30T01:30:54.243152Z",
     "iopub.status.busy": "2024-09-30T01:30:54.242737Z",
     "iopub.status.idle": "2024-09-30T01:31:00.935814Z",
     "shell.execute_reply": "2024-09-30T01:31:00.934838Z",
     "shell.execute_reply.started": "2024-09-30T01:30:54.243108Z"
    }
   },
   "outputs": [
    {
     "data": {
      "text/html": [
       "<div>\n",
       "<style scoped>\n",
       "    .dataframe tbody tr th:only-of-type {\n",
       "        vertical-align: middle;\n",
       "    }\n",
       "\n",
       "    .dataframe tbody tr th {\n",
       "        vertical-align: top;\n",
       "    }\n",
       "\n",
       "    .dataframe thead th {\n",
       "        text-align: right;\n",
       "    }\n",
       "</style>\n",
       "<table border=\"1\" class=\"dataframe\">\n",
       "  <thead>\n",
       "    <tr style=\"text-align: right;\">\n",
       "      <th></th>\n",
       "      <th>TICKER</th>\n",
       "      <th>FIGI</th>\n",
       "      <th>DATETIME</th>\n",
       "      <th>VARIABLE</th>\n",
       "      <th>SMOOTH</th>\n",
       "      <th>VALUE</th>\n",
       "      <th>BACKFILL</th>\n",
       "      <th>RELEASE_TIMESTAMP</th>\n",
       "    </tr>\n",
       "  </thead>\n",
       "  <tbody>\n",
       "    <tr>\n",
       "      <th>0</th>\n",
       "      <td>2180</td>\n",
       "      <td>BBG000BN4FT7</td>\n",
       "      <td>2018-04-24</td>\n",
       "      <td>pos_sales</td>\n",
       "      <td>0</td>\n",
       "      <td>0.007863</td>\n",
       "      <td>1</td>\n",
       "      <td>2018-04-27 08:00:00</td>\n",
       "    </tr>\n",
       "    <tr>\n",
       "      <th>1</th>\n",
       "      <td>2180</td>\n",
       "      <td>BBG000BN4FT7</td>\n",
       "      <td>2018-04-24</td>\n",
       "      <td>share</td>\n",
       "      <td>0</td>\n",
       "      <td>0.000200</td>\n",
       "      <td>1</td>\n",
       "      <td>2018-04-27 08:00:00</td>\n",
       "    </tr>\n",
       "    <tr>\n",
       "      <th>2</th>\n",
       "      <td>2180</td>\n",
       "      <td>BBG000BN4FT7</td>\n",
       "      <td>2018-04-24</td>\n",
       "      <td>unit_price</td>\n",
       "      <td>0</td>\n",
       "      <td>1.000000</td>\n",
       "      <td>1</td>\n",
       "      <td>2018-04-27 08:00:00</td>\n",
       "    </tr>\n",
       "    <tr>\n",
       "      <th>3</th>\n",
       "      <td>2180</td>\n",
       "      <td>BBG000BN4FT7</td>\n",
       "      <td>2018-05-01</td>\n",
       "      <td>pos_sales</td>\n",
       "      <td>0</td>\n",
       "      <td>0.003931</td>\n",
       "      <td>1</td>\n",
       "      <td>2018-05-08 08:00:00</td>\n",
       "    </tr>\n",
       "    <tr>\n",
       "      <th>4</th>\n",
       "      <td>2180</td>\n",
       "      <td>BBG000BN4FT7</td>\n",
       "      <td>2018-05-01</td>\n",
       "      <td>share</td>\n",
       "      <td>0</td>\n",
       "      <td>0.000065</td>\n",
       "      <td>1</td>\n",
       "      <td>2018-05-08 08:00:00</td>\n",
       "    </tr>\n",
       "  </tbody>\n",
       "</table>\n",
       "</div>"
      ],
      "text/plain": [
       "  TICKER          FIGI    DATETIME    VARIABLE  SMOOTH     VALUE  BACKFILL  \\\n",
       "0   2180  BBG000BN4FT7  2018-04-24   pos_sales       0  0.007863         1   \n",
       "1   2180  BBG000BN4FT7  2018-04-24       share       0  0.000200         1   \n",
       "2   2180  BBG000BN4FT7  2018-04-24  unit_price       0  1.000000         1   \n",
       "3   2180  BBG000BN4FT7  2018-05-01   pos_sales       0  0.003931         1   \n",
       "4   2180  BBG000BN4FT7  2018-05-01       share       0  0.000065         1   \n",
       "\n",
       "    RELEASE_TIMESTAMP  \n",
       "0 2018-04-27 08:00:00  \n",
       "1 2018-04-27 08:00:00  \n",
       "2 2018-04-27 08:00:00  \n",
       "3 2018-05-08 08:00:00  \n",
       "4 2018-05-08 08:00:00  "
      ]
     },
     "execution_count": 7,
     "metadata": {},
     "output_type": "execute_result"
    }
   ],
   "source": [
    "sdh = sdh.load(\n",
    "    'ALTERNATIVE',\n",
    "    data_type='aiq_pos_elec_goods',\n",
    "    meta_data='data',\n",
    "    figi=list_figis,\n",
    "    variable = ['pos_sales', 'share', 'unit_price'],\n",
    "    load_only_raw=True,\n",
    "    load_only_latest=True, \n",
    "    db_name=db_name\n",
    ")\n",
    "df_pos = sdh.retrieve()\n",
    "df_pos.head()"
   ]
  },
  {
   "cell_type": "markdown",
   "id": "a15231c0-6e09-4f17-8509-bb981eea46c7",
   "metadata": {},
   "source": [
    "#### Appendix\n",
    "The database and data schema used can be changed according to the user's environment.<br>\n",
    "The following is how to specify this in `load_alternative_aiq_pos_elec_goods_data`, but the same applies to `load_alternative_aiq_pos_elec_goods_universe`.\n",
    "```\n",
    "sdh = load_alternative_aiq_pos_elec_goods_data(\n",
    "        sdh,\n",
    "        figi=list_figis,\n",
    "        load_only_raw=True,\n",
    "        load_only_latest=True,\n",
    "        db_name='YOUR_DB_NAME',\n",
    "        schema_name='YOUR_SCHEMA_NAME'\n",
    "    )\n",
    "```"
   ]
  },
  {
   "cell_type": "code",
   "execution_count": null,
   "id": "6dbd8f70-5efe-4e11-b5a3-cc46fec8b320",
   "metadata": {},
   "outputs": [],
   "source": []
  },
  {
   "cell_type": "code",
   "execution_count": null,
   "id": "54ae264d-2f23-4ac8-aba1-2b59ff219f7d",
   "metadata": {},
   "outputs": [],
   "source": []
  },
  {
   "cell_type": "code",
   "execution_count": null,
   "id": "39674f09-c5de-487d-b271-a106164c9832",
   "metadata": {},
   "outputs": [],
   "source": []
  },
  {
   "cell_type": "code",
   "execution_count": null,
   "id": "199fc936-f7ff-43b5-9c80-f3398af8d4e9",
   "metadata": {},
   "outputs": [],
   "source": []
  }
 ],
 "metadata": {
  "kernelspec": {
   "display_name": "inv",
   "language": "python",
   "name": "inv"
  },
  "language_info": {
   "codemirror_mode": {
    "name": "ipython",
    "version": 3
   },
   "file_extension": ".py",
   "mimetype": "text/x-python",
   "name": "python",
   "nbconvert_exporter": "python",
   "pygments_lexer": "ipython3",
   "version": "3.9.19"
  }
 },
 "nbformat": 4,
 "nbformat_minor": 5
}
