{
 "cells": [
  {
   "attachments": {
    "b8f1ff06-cee2-4b9c-ba2d-e754a1b2263d.png": {
     "image/png": "[encoded data removed]"
    }
   },
   "cell_type": "markdown",
   "id": "3b6cfe7a-802c-49c9-8828-3517b3ff7f37",
   "metadata": {},
   "source": [
    "![スクリーンショット 2024-03-26 11.25.41.png](attachment:b8f1ff06-cee2-4b9c-ba2d-e754a1b2263d.png)\n",
    "\n",
    "[disclaimer](../../disclaimer.txt/)"
   ]
  },
  {
   "cell_type": "markdown",
   "id": "83a8bc10-7e45-4f56-80fa-04ff0d705a45",
   "metadata": {},
   "source": [
    "# aiQ Geolocation Data Loader Demo"
   ]
  },
  {
   "cell_type": "markdown",
   "id": "ce5a993d-bf0a-4825-ba63-06d1a05b0e24",
   "metadata": {},
   "source": [
    "### Step1: Import Library"
   ]
  },
  {
   "cell_type": "code",
   "execution_count": 1,
   "id": "b0635187-fbee-432a-849e-b8768cd73d7e",
   "metadata": {
    "execution": {
     "iopub.execute_input": "2024-09-30T01:28:01.956681Z",
     "iopub.status.busy": "2024-09-30T01:28:01.956183Z",
     "iopub.status.idle": "2024-09-30T01:28:08.759885Z",
     "shell.execute_reply": "2024-09-30T01:28:08.758859Z",
     "shell.execute_reply.started": "2024-09-30T01:28:01.956650Z"
    }
   },
   "outputs": [],
   "source": [
    "import os\n",
    "import numpy as np\n",
    "import pandas as pd\n",
    "\n",
    "from aiq_strategy_robot.data.data_accessor import DAL\n",
    "from aiq_strategy_robot.data.ALTERNATIVE import (\n",
    "    load_alternative_aiq_geolocation_universe,\n",
    "    load_alternative_aiq_geolocation_place_id,\n",
    "    load_alternative_aiq_geolocation_data\n",
    ")"
   ]
  },
  {
   "cell_type": "code",
   "execution_count": 2,
   "id": "50e789f9-7889-4e7c-9887-1b1ba79db0d4",
   "metadata": {
    "execution": {
     "iopub.execute_input": "2024-09-30T01:28:08.762607Z",
     "iopub.status.busy": "2024-09-30T01:28:08.761200Z",
     "iopub.status.idle": "2024-09-30T01:28:08.766758Z",
     "shell.execute_reply": "2024-09-30T01:28:08.765869Z",
     "shell.execute_reply.started": "2024-09-30T01:28:08.762574Z"
    }
   },
   "outputs": [],
   "source": [
    "ENV_DATABSE = 'TRIAL_SNOWFLAKE_DATABASE_AIQ_GEOLOCATION'\n",
    "db_name = os.environ.get(ENV_DATABSE)"
   ]
  },
  {
   "cell_type": "markdown",
   "id": "3ea087d6-36f0-403c-9c37-6e79e264a985",
   "metadata": {},
   "source": [
    "## Step2: Define Universe from Alt Data\n",
    "\n",
    "### `load_alternative_aiq_geolocation_universe`  "
   ]
  },
  {
   "cell_type": "code",
   "execution_count": 3,
   "id": "cf71fb2b-3fa6-4fe9-9cbc-d18afcd17dda",
   "metadata": {
    "execution": {
     "iopub.execute_input": "2024-09-30T01:28:08.768185Z",
     "iopub.status.busy": "2024-09-30T01:28:08.767905Z",
     "iopub.status.idle": "2024-09-30T01:28:09.870342Z",
     "shell.execute_reply": "2024-09-30T01:28:09.869261Z",
     "shell.execute_reply.started": "2024-09-30T01:28:08.768157Z"
    }
   },
   "outputs": [
    {
     "data": {
      "text/html": [
       "<div>\n",
       "<style scoped>\n",
       "    .dataframe tbody tr th:only-of-type {\n",
       "        vertical-align: middle;\n",
       "    }\n",
       "\n",
       "    .dataframe tbody tr th {\n",
       "        vertical-align: top;\n",
       "    }\n",
       "\n",
       "    .dataframe thead th {\n",
       "        text-align: right;\n",
       "    }\n",
       "</style>\n",
       "<table border=\"1\" class=\"dataframe\">\n",
       "  <thead>\n",
       "    <tr style=\"text-align: right;\">\n",
       "      <th></th>\n",
       "      <th>LEI</th>\n",
       "      <th>PERM_ID</th>\n",
       "      <th>FIGI</th>\n",
       "      <th>TICKER</th>\n",
       "      <th>COMPANY_NAME</th>\n",
       "    </tr>\n",
       "  </thead>\n",
       "  <tbody>\n",
       "    <tr>\n",
       "      <th>0</th>\n",
       "      <td>529900MPH5BMANQ3EC50</td>\n",
       "      <td>1-4295877344</td>\n",
       "      <td>BBG000BH5GX2</td>\n",
       "      <td>1332</td>\n",
       "      <td>日本水産</td>\n",
       "    </tr>\n",
       "  </tbody>\n",
       "</table>\n",
       "</div>"
      ],
      "text/plain": [
       "                    LEI       PERM_ID          FIGI TICKER COMPANY_NAME\n",
       "0  529900MPH5BMANQ3EC50  1-4295877344  BBG000BH5GX2   1332         日本水産"
      ]
     },
     "execution_count": 3,
     "metadata": {},
     "output_type": "execute_result"
    }
   ],
   "source": [
    "sdh = DAL()\n",
    "load_alternative_aiq_geolocation_universe(sdh, language='JP', ticker = '1332', db_name=db_name).retrieve()"
   ]
  },
  {
   "cell_type": "markdown",
   "id": "9e0449d3-1db6-4373-9501-56874111e2a3",
   "metadata": {},
   "source": [
    "### Data Access handler load\n",
    "Load the data to memory\n",
    "\n",
    "same return as **load_alternative_aiq_geolocation_universe** \n",
    "```\n",
    "load_alternative_aiq_geolocation_universe(sdh, language='EN', ticker = '1332').retrieve()\n",
    "```"
   ]
  },
  {
   "cell_type": "code",
   "execution_count": 4,
   "id": "d6face5d-601a-42fb-998a-bb819f64fe17",
   "metadata": {
    "execution": {
     "iopub.execute_input": "2024-09-30T01:28:09.872009Z",
     "iopub.status.busy": "2024-09-30T01:28:09.871706Z",
     "iopub.status.idle": "2024-09-30T01:28:10.821074Z",
     "shell.execute_reply": "2024-09-30T01:28:10.820093Z",
     "shell.execute_reply.started": "2024-09-30T01:28:09.871978Z"
    }
   },
   "outputs": [
    {
     "data": {
      "text/html": [
       "<div>\n",
       "<style scoped>\n",
       "    .dataframe tbody tr th:only-of-type {\n",
       "        vertical-align: middle;\n",
       "    }\n",
       "\n",
       "    .dataframe tbody tr th {\n",
       "        vertical-align: top;\n",
       "    }\n",
       "\n",
       "    .dataframe thead th {\n",
       "        text-align: right;\n",
       "    }\n",
       "</style>\n",
       "<table border=\"1\" class=\"dataframe\">\n",
       "  <thead>\n",
       "    <tr style=\"text-align: right;\">\n",
       "      <th></th>\n",
       "      <th>LEI</th>\n",
       "      <th>PERM_ID</th>\n",
       "      <th>FIGI</th>\n",
       "      <th>TICKER</th>\n",
       "      <th>COMPANY_NAME</th>\n",
       "    </tr>\n",
       "  </thead>\n",
       "  <tbody>\n",
       "    <tr>\n",
       "      <th>0</th>\n",
       "      <td>529900MPH5BMANQ3EC50</td>\n",
       "      <td>1-4295877344</td>\n",
       "      <td>BBG000BH5GX2</td>\n",
       "      <td>1332</td>\n",
       "      <td>Nippon Suisan Kaisha Ltd</td>\n",
       "    </tr>\n",
       "  </tbody>\n",
       "</table>\n",
       "</div>"
      ],
      "text/plain": [
       "                    LEI       PERM_ID          FIGI TICKER  \\\n",
       "0  529900MPH5BMANQ3EC50  1-4295877344  BBG000BH5GX2   1332   \n",
       "\n",
       "               COMPANY_NAME  \n",
       "0  Nippon Suisan Kaisha Ltd  "
      ]
     },
     "execution_count": 4,
     "metadata": {},
     "output_type": "execute_result"
    }
   ],
   "source": [
    "sdh = sdh.load(\n",
    "    'ALTERNATIVE',\n",
    "    data_type='aiq_geolocation',\n",
    "    meta_data='universe',\n",
    "    language='EN', \n",
    "    ticker = ['1332'],\n",
    "    db_name=db_name\n",
    ")\n",
    "dfsyms = sdh.retrieve()\n",
    "dfsyms"
   ]
  },
  {
   "cell_type": "markdown",
   "id": "919bce0b-d230-4b5c-809d-61fd75754e40",
   "metadata": {},
   "source": [
    "## Step2: Define Place ID from Alt Data\n",
    "aiQ Geolocation allows you to have granular views on activities at each place of your interest. <br>\n",
    "Here is how you can find by ticker which places are covered within the dataset.\n",
    "\n",
    "### `load_alternative_aiq_geolocation_place_id`  "
   ]
  },
  {
   "cell_type": "code",
   "execution_count": 5,
   "id": "da4046a8-c2f5-4d0b-8e38-d4d685ab0b57",
   "metadata": {
    "execution": {
     "iopub.execute_input": "2024-09-30T01:28:10.823471Z",
     "iopub.status.busy": "2024-09-30T01:28:10.822495Z",
     "iopub.status.idle": "2024-09-30T01:28:11.517933Z",
     "shell.execute_reply": "2024-09-30T01:28:11.516917Z",
     "shell.execute_reply.started": "2024-09-30T01:28:10.823424Z"
    }
   },
   "outputs": [
    {
     "data": {
      "text/html": [
       "<div>\n",
       "<style scoped>\n",
       "    .dataframe tbody tr th:only-of-type {\n",
       "        vertical-align: middle;\n",
       "    }\n",
       "\n",
       "    .dataframe tbody tr th {\n",
       "        vertical-align: top;\n",
       "    }\n",
       "\n",
       "    .dataframe thead th {\n",
       "        text-align: right;\n",
       "    }\n",
       "</style>\n",
       "<table border=\"1\" class=\"dataframe\">\n",
       "  <thead>\n",
       "    <tr style=\"text-align: right;\">\n",
       "      <th></th>\n",
       "      <th>TICKER</th>\n",
       "      <th>FIGI</th>\n",
       "      <th>PLACE_ID</th>\n",
       "      <th>FACILITY_NAME</th>\n",
       "      <th>PREFECTURE</th>\n",
       "      <th>FACILITY_ADDRESS</th>\n",
       "      <th>SECTOR</th>\n",
       "      <th>SECTOR_NAME</th>\n",
       "    </tr>\n",
       "  </thead>\n",
       "  <tbody>\n",
       "    <tr>\n",
       "      <th>0</th>\n",
       "      <td>1332</td>\n",
       "      <td>BBG000BH5GX2</td>\n",
       "      <td>ChIJD7PhtfYBGWARrhufnU3jF88_1332</td>\n",
       "      <td>日本クッカリー 厚木工場</td>\n",
       "      <td>神奈川県</td>\n",
       "      <td>神奈川県 厚木市 上依知 3023</td>\n",
       "      <td>999</td>\n",
       "      <td>他に分類されない食料品製造業</td>\n",
       "    </tr>\n",
       "    <tr>\n",
       "      <th>1</th>\n",
       "      <td>1332</td>\n",
       "      <td>BBG000BH5GX2</td>\n",
       "      <td>ChIJEaOVRchTm18RpNpHMSH00Us_1332</td>\n",
       "      <td>デルマール 八戸工場</td>\n",
       "      <td>青森県</td>\n",
       "      <td>青森県 八戸市 築港街 1丁目 2-8</td>\n",
       "      <td>995</td>\n",
       "      <td>冷凍調理食品製造業</td>\n",
       "    </tr>\n",
       "    <tr>\n",
       "      <th>2</th>\n",
       "      <td>1332</td>\n",
       "      <td>BBG000BH5GX2</td>\n",
       "      <td>ChIJkZV6kdaMQDURY4sNjTUxLaM_1332</td>\n",
       "      <td>日豊食品工業 城南冷凍工場</td>\n",
       "      <td>熊本県</td>\n",
       "      <td>熊本県 熊本市 南区 城南町 築地 624-19</td>\n",
       "      <td>926</td>\n",
       "      <td>冷凍水産食品製造業</td>\n",
       "    </tr>\n",
       "    <tr>\n",
       "      <th>3</th>\n",
       "      <td>1332</td>\n",
       "      <td>BBG000BH5GX2</td>\n",
       "      <td>ChIJOScjAbt_GGARHdeBFz9v3Tg_1332</td>\n",
       "      <td>日本水産 船橋加工工場</td>\n",
       "      <td>千葉県</td>\n",
       "      <td>千葉県 船橋市 浜町 3丁目 4-1</td>\n",
       "      <td>995</td>\n",
       "      <td>冷凍調理食品製造業</td>\n",
       "    </tr>\n",
       "    <tr>\n",
       "      <th>4</th>\n",
       "      <td>1332</td>\n",
       "      <td>BBG000BH5GX2</td>\n",
       "      <td>ChIJ8Smpo_j9ImARJTEPPV6ZX2E_1332</td>\n",
       "      <td>日本水産 鹿島油脂工場・鹿島医薬品工場</td>\n",
       "      <td>茨城県</td>\n",
       "      <td>茨城県 神栖市 東深芝 18-2</td>\n",
       "      <td>995</td>\n",
       "      <td>冷凍調理食品製造業</td>\n",
       "    </tr>\n",
       "  </tbody>\n",
       "</table>\n",
       "</div>"
      ],
      "text/plain": [
       "  TICKER          FIGI                          PLACE_ID        FACILITY_NAME  \\\n",
       "0   1332  BBG000BH5GX2  ChIJD7PhtfYBGWARrhufnU3jF88_1332         日本クッカリー 厚木工場   \n",
       "1   1332  BBG000BH5GX2  ChIJEaOVRchTm18RpNpHMSH00Us_1332           デルマール 八戸工場   \n",
       "2   1332  BBG000BH5GX2  ChIJkZV6kdaMQDURY4sNjTUxLaM_1332        日豊食品工業 城南冷凍工場   \n",
       "3   1332  BBG000BH5GX2  ChIJOScjAbt_GGARHdeBFz9v3Tg_1332          日本水産 船橋加工工場   \n",
       "4   1332  BBG000BH5GX2  ChIJ8Smpo_j9ImARJTEPPV6ZX2E_1332  日本水産 鹿島油脂工場・鹿島医薬品工場   \n",
       "\n",
       "  PREFECTURE          FACILITY_ADDRESS SECTOR     SECTOR_NAME  \n",
       "0       神奈川県         神奈川県 厚木市 上依知 3023    999  他に分類されない食料品製造業  \n",
       "1        青森県       青森県 八戸市 築港街 1丁目 2-8    995       冷凍調理食品製造業  \n",
       "2        熊本県  熊本県 熊本市 南区 城南町 築地 624-19    926       冷凍水産食品製造業  \n",
       "3        千葉県        千葉県 船橋市 浜町 3丁目 4-1    995       冷凍調理食品製造業  \n",
       "4        茨城県          茨城県 神栖市 東深芝 18-2    995       冷凍調理食品製造業  "
      ]
     },
     "execution_count": 5,
     "metadata": {},
     "output_type": "execute_result"
    }
   ],
   "source": [
    "load_alternative_aiq_geolocation_place_id(sdh, language='JP', ticker = '1332', db_name=db_name).retrieve().head()"
   ]
  },
  {
   "cell_type": "markdown",
   "id": "6460ce2c-dc8a-46ee-a2e8-32e4619e102c",
   "metadata": {
    "execution": {
     "iopub.execute_input": "2024-09-05T04:56:08.676225Z",
     "iopub.status.busy": "2024-09-05T04:56:08.675385Z",
     "iopub.status.idle": "2024-09-05T04:56:08.682524Z",
     "shell.execute_reply": "2024-09-05T04:56:08.681462Z",
     "shell.execute_reply.started": "2024-09-05T04:56:08.676191Z"
    }
   },
   "source": [
    "### Data Access handler load\n",
    "You can achieve the same thing by using `load` method of `sdh` with meta_data=`place_id` set."
   ]
  },
  {
   "cell_type": "code",
   "execution_count": 6,
   "id": "18126ac3-5bed-4a38-ac03-09f3d75752cb",
   "metadata": {
    "execution": {
     "iopub.execute_input": "2024-09-30T01:28:11.520833Z",
     "iopub.status.busy": "2024-09-30T01:28:11.520517Z",
     "iopub.status.idle": "2024-09-30T01:28:12.269444Z",
     "shell.execute_reply": "2024-09-30T01:28:12.268399Z",
     "shell.execute_reply.started": "2024-09-30T01:28:11.520803Z"
    }
   },
   "outputs": [
    {
     "data": {
      "text/html": [
       "<div>\n",
       "<style scoped>\n",
       "    .dataframe tbody tr th:only-of-type {\n",
       "        vertical-align: middle;\n",
       "    }\n",
       "\n",
       "    .dataframe tbody tr th {\n",
       "        vertical-align: top;\n",
       "    }\n",
       "\n",
       "    .dataframe thead th {\n",
       "        text-align: right;\n",
       "    }\n",
       "</style>\n",
       "<table border=\"1\" class=\"dataframe\">\n",
       "  <thead>\n",
       "    <tr style=\"text-align: right;\">\n",
       "      <th></th>\n",
       "      <th>TICKER</th>\n",
       "      <th>FIGI</th>\n",
       "      <th>PLACE_ID</th>\n",
       "      <th>FACILITY_NAME</th>\n",
       "      <th>PREFECTURE</th>\n",
       "      <th>FACILITY_ADDRESS</th>\n",
       "      <th>SECTOR</th>\n",
       "      <th>SECTOR_NAME</th>\n",
       "    </tr>\n",
       "  </thead>\n",
       "  <tbody>\n",
       "    <tr>\n",
       "      <th>0</th>\n",
       "      <td>1332</td>\n",
       "      <td>BBG000BH5GX2</td>\n",
       "      <td>ChIJhVZgw7Zr5TQRJJhr2KMZ-nw_1332</td>\n",
       "      <td>Japan Cookery Okinawa Factory</td>\n",
       "      <td>Okinawa</td>\n",
       "      <td>2-1-2 Irijima, Urasoe City, Okinawa Prefecture</td>\n",
       "      <td>999</td>\n",
       "      <td>Food and related products, n.e.c</td>\n",
       "    </tr>\n",
       "    <tr>\n",
       "      <th>1</th>\n",
       "      <td>1332</td>\n",
       "      <td>BBG000BH5GX2</td>\n",
       "      <td>ChIJ_bPaPUp4ajURUxP__3rXfmU_1332</td>\n",
       "      <td>Kaneko Sangyo Foods No. 2 Factory</td>\n",
       "      <td>Saga</td>\n",
       "      <td>1-8 Nakanosedori, Karatsu City, Saga Prefecture</td>\n",
       "      <td>1062</td>\n",
       "      <td>Elemental feeds</td>\n",
       "    </tr>\n",
       "    <tr>\n",
       "      <th>2</th>\n",
       "      <td>1332</td>\n",
       "      <td>BBG000BH5GX2</td>\n",
       "      <td>ChIJD7PhtfYBGWARrhufnU3jF88_1332</td>\n",
       "      <td>Japan Cookery Atsugi Factory</td>\n",
       "      <td>Kanagawa</td>\n",
       "      <td>3023 Kamiechi, Atsugi City, Kanagawa Prefecture</td>\n",
       "      <td>999</td>\n",
       "      <td>Food and related products, n.e.c</td>\n",
       "    </tr>\n",
       "    <tr>\n",
       "      <th>3</th>\n",
       "      <td>1332</td>\n",
       "      <td>BBG000BH5GX2</td>\n",
       "      <td>ChIJEaOVRchTm18RpNpHMSH00Us_1332</td>\n",
       "      <td>Delmar Hachinohe Factory</td>\n",
       "      <td>Aomori</td>\n",
       "      <td>1-2-8 Chikukogai, Hachinohe City, Aomori Prefe...</td>\n",
       "      <td>995</td>\n",
       "      <td>Precooked frozen packed foods</td>\n",
       "    </tr>\n",
       "    <tr>\n",
       "      <th>4</th>\n",
       "      <td>1332</td>\n",
       "      <td>BBG000BH5GX2</td>\n",
       "      <td>ChIJVVWl7qhVVjURIEuKa8uybNU_1332</td>\n",
       "      <td>Kyowa Fisheries Machinery Factory</td>\n",
       "      <td>Tottori</td>\n",
       "      <td>110 Yayoicho, Sakaiminato City, Tottori Prefec...</td>\n",
       "      <td>981</td>\n",
       "      <td>Animal and vegetable oils and fats, except pro...</td>\n",
       "    </tr>\n",
       "  </tbody>\n",
       "</table>\n",
       "</div>"
      ],
      "text/plain": [
       "  TICKER          FIGI                          PLACE_ID  \\\n",
       "0   1332  BBG000BH5GX2  ChIJhVZgw7Zr5TQRJJhr2KMZ-nw_1332   \n",
       "1   1332  BBG000BH5GX2  ChIJ_bPaPUp4ajURUxP__3rXfmU_1332   \n",
       "2   1332  BBG000BH5GX2  ChIJD7PhtfYBGWARrhufnU3jF88_1332   \n",
       "3   1332  BBG000BH5GX2  ChIJEaOVRchTm18RpNpHMSH00Us_1332   \n",
       "4   1332  BBG000BH5GX2  ChIJVVWl7qhVVjURIEuKa8uybNU_1332   \n",
       "\n",
       "                       FACILITY_NAME PREFECTURE  \\\n",
       "0      Japan Cookery Okinawa Factory    Okinawa   \n",
       "1  Kaneko Sangyo Foods No. 2 Factory       Saga   \n",
       "2       Japan Cookery Atsugi Factory   Kanagawa   \n",
       "3           Delmar Hachinohe Factory     Aomori   \n",
       "4  Kyowa Fisheries Machinery Factory    Tottori   \n",
       "\n",
       "                                    FACILITY_ADDRESS SECTOR  \\\n",
       "0     2-1-2 Irijima, Urasoe City, Okinawa Prefecture    999   \n",
       "1    1-8 Nakanosedori, Karatsu City, Saga Prefecture   1062   \n",
       "2    3023 Kamiechi, Atsugi City, Kanagawa Prefecture    999   \n",
       "3  1-2-8 Chikukogai, Hachinohe City, Aomori Prefe...    995   \n",
       "4  110 Yayoicho, Sakaiminato City, Tottori Prefec...    981   \n",
       "\n",
       "                                         SECTOR_NAME  \n",
       "0                   Food and related products, n.e.c  \n",
       "1                                    Elemental feeds  \n",
       "2                   Food and related products, n.e.c  \n",
       "3                      Precooked frozen packed foods  \n",
       "4  Animal and vegetable oils and fats, except pro...  "
      ]
     },
     "execution_count": 6,
     "metadata": {},
     "output_type": "execute_result"
    }
   ],
   "source": [
    "sdh = sdh.load(\n",
    "    'ALTERNATIVE',\n",
    "    data_type='aiq_geolocation',\n",
    "    meta_data='place_id',\n",
    "    language='EN', \n",
    "    ticker = ['1332'],\n",
    "    db_name=db_name\n",
    ")\n",
    "dfplaceid = sdh.retrieve()\n",
    "dfplaceid.head()"
   ]
  },
  {
   "cell_type": "markdown",
   "id": "a9aa294d-12f1-436a-be90-a2247316401a",
   "metadata": {},
   "source": [
    "\n",
    "## Step4: Load Alternative Data\n",
    "### `load_alternative_aiq_geolocation_data`  \n",
    "Finally we use this method to load the actual time series data. <br>\n",
    "You can select data by `ticker` or `place_id`.\n",
    "- 'geofence': observations for 24 hours basis\n",
    "- 'geofence_ot': observations for only mid night hours (11pm to 5am in Japan)"
   ]
  },
  {
   "cell_type": "code",
   "execution_count": 7,
   "id": "99795465-f084-4177-b14b-28899bb8871c",
   "metadata": {
    "execution": {
     "iopub.execute_input": "2024-09-30T01:28:12.271372Z",
     "iopub.status.busy": "2024-09-30T01:28:12.271033Z",
     "iopub.status.idle": "2024-09-30T01:28:16.308373Z",
     "shell.execute_reply": "2024-09-30T01:28:16.307314Z",
     "shell.execute_reply.started": "2024-09-30T01:28:12.271341Z"
    }
   },
   "outputs": [
    {
     "data": {
      "text/html": [
       "<div>\n",
       "<style scoped>\n",
       "    .dataframe tbody tr th:only-of-type {\n",
       "        vertical-align: middle;\n",
       "    }\n",
       "\n",
       "    .dataframe tbody tr th {\n",
       "        vertical-align: top;\n",
       "    }\n",
       "\n",
       "    .dataframe thead th {\n",
       "        text-align: right;\n",
       "    }\n",
       "</style>\n",
       "<table border=\"1\" class=\"dataframe\">\n",
       "  <thead>\n",
       "    <tr style=\"text-align: right;\">\n",
       "      <th></th>\n",
       "      <th>TICKER</th>\n",
       "      <th>PLACE_ID</th>\n",
       "      <th>DATETIME</th>\n",
       "      <th>SMOOTH</th>\n",
       "      <th>VARIABLE</th>\n",
       "      <th>VALUE</th>\n",
       "      <th>BACKFILL</th>\n",
       "      <th>RELEASE_TIMESTAMP</th>\n",
       "    </tr>\n",
       "  </thead>\n",
       "  <tbody>\n",
       "    <tr>\n",
       "      <th>0</th>\n",
       "      <td>1332</td>\n",
       "      <td>ChIJEaOVRchTm18RpNpHMSH00Us_1332</td>\n",
       "      <td>2014-07-01</td>\n",
       "      <td>0</td>\n",
       "      <td>geofence</td>\n",
       "      <td>148.986534</td>\n",
       "      <td>1</td>\n",
       "      <td>2014-07-10 08:00:00</td>\n",
       "    </tr>\n",
       "    <tr>\n",
       "      <th>1</th>\n",
       "      <td>1332</td>\n",
       "      <td>ChIJpx8sH-KYBGARw1fDL7jo4K8_1332</td>\n",
       "      <td>2014-07-01</td>\n",
       "      <td>0</td>\n",
       "      <td>geofence</td>\n",
       "      <td>370.613943</td>\n",
       "      <td>1</td>\n",
       "      <td>2014-07-10 08:00:00</td>\n",
       "    </tr>\n",
       "    <tr>\n",
       "      <th>2</th>\n",
       "      <td>1332</td>\n",
       "      <td>ChIJwwy3cPmFajURV5P4li5zURM_1332</td>\n",
       "      <td>2014-07-01</td>\n",
       "      <td>0</td>\n",
       "      <td>geofence</td>\n",
       "      <td>306.953582</td>\n",
       "      <td>1</td>\n",
       "      <td>2014-07-10 08:00:00</td>\n",
       "    </tr>\n",
       "    <tr>\n",
       "      <th>3</th>\n",
       "      <td>1332</td>\n",
       "      <td>ChIJvRfF89REGmAR5Q1QncxpZw0_1332</td>\n",
       "      <td>2014-07-01</td>\n",
       "      <td>0</td>\n",
       "      <td>geofence</td>\n",
       "      <td>91.868801</td>\n",
       "      <td>1</td>\n",
       "      <td>2014-07-10 08:00:00</td>\n",
       "    </tr>\n",
       "    <tr>\n",
       "      <th>4</th>\n",
       "      <td>1332</td>\n",
       "      <td>ChIJ2Xy6kRXeVDURHL2hsftTM_c_1332</td>\n",
       "      <td>2014-07-01</td>\n",
       "      <td>0</td>\n",
       "      <td>geofence</td>\n",
       "      <td>632.699053</td>\n",
       "      <td>1</td>\n",
       "      <td>2014-07-10 08:00:00</td>\n",
       "    </tr>\n",
       "  </tbody>\n",
       "</table>\n",
       "</div>"
      ],
      "text/plain": [
       "  TICKER                          PLACE_ID    DATETIME  SMOOTH  VARIABLE  \\\n",
       "0   1332  ChIJEaOVRchTm18RpNpHMSH00Us_1332  2014-07-01       0  geofence   \n",
       "1   1332  ChIJpx8sH-KYBGARw1fDL7jo4K8_1332  2014-07-01       0  geofence   \n",
       "2   1332  ChIJwwy3cPmFajURV5P4li5zURM_1332  2014-07-01       0  geofence   \n",
       "3   1332  ChIJvRfF89REGmAR5Q1QncxpZw0_1332  2014-07-01       0  geofence   \n",
       "4   1332  ChIJ2Xy6kRXeVDURHL2hsftTM_c_1332  2014-07-01       0  geofence   \n",
       "\n",
       "        VALUE  BACKFILL   RELEASE_TIMESTAMP  \n",
       "0  148.986534         1 2014-07-10 08:00:00  \n",
       "1  370.613943         1 2014-07-10 08:00:00  \n",
       "2  306.953582         1 2014-07-10 08:00:00  \n",
       "3   91.868801         1 2014-07-10 08:00:00  \n",
       "4  632.699053         1 2014-07-10 08:00:00  "
      ]
     },
     "execution_count": 7,
     "metadata": {},
     "output_type": "execute_result"
    }
   ],
   "source": [
    "sdh = load_alternative_aiq_geolocation_data(\n",
    "        sdh,\n",
    "        ticker=['1332'],\n",
    "        # place_id=None,　`ticker` and `place_id` cannot be specified at the same time; they are mutually exclusive　\n",
    "        variable = ['geofence', 'geofence_ot'],\n",
    "        load_only_raw=True, # \n",
    "        load_only_latest=True,\n",
    "        db_name=db_name\n",
    "    )\n",
    "df_pos = sdh.retrieve()\n",
    "df_pos.head()"
   ]
  },
  {
   "cell_type": "markdown",
   "id": "25260efa-5267-4693-bc6e-2ccbc58da237",
   "metadata": {},
   "source": [
    "### Data Access handler load\n",
    "You can achive the same thing by \n",
    "\n",
    "same return as **load_alternative_aiq_geolocation_data**\n",
    "```\n",
    "sdh = load_alternative_aiq_geolocation_data(\n",
    "        sdh,\n",
    "        place_id=['ChIJF4SMLLDN-V8RNFFlOU00vuw_1332'],\n",
    "        variable = ['geofence', 'geofence_ot'],\n",
    "        load_only_raw=True,\n",
    "        load_only_latest=True\n",
    "    )\n",
    "```"
   ]
  },
  {
   "cell_type": "code",
   "execution_count": 8,
   "id": "207b0d10-309b-4275-8045-8b8a7190173b",
   "metadata": {
    "execution": {
     "iopub.execute_input": "2024-09-30T01:28:16.310466Z",
     "iopub.status.busy": "2024-09-30T01:28:16.309764Z",
     "iopub.status.idle": "2024-09-30T01:28:17.840655Z",
     "shell.execute_reply": "2024-09-30T01:28:17.839768Z",
     "shell.execute_reply.started": "2024-09-30T01:28:16.310424Z"
    }
   },
   "outputs": [
    {
     "data": {
      "text/html": [
       "<div>\n",
       "<style scoped>\n",
       "    .dataframe tbody tr th:only-of-type {\n",
       "        vertical-align: middle;\n",
       "    }\n",
       "\n",
       "    .dataframe tbody tr th {\n",
       "        vertical-align: top;\n",
       "    }\n",
       "\n",
       "    .dataframe thead th {\n",
       "        text-align: right;\n",
       "    }\n",
       "</style>\n",
       "<table border=\"1\" class=\"dataframe\">\n",
       "  <thead>\n",
       "    <tr style=\"text-align: right;\">\n",
       "      <th></th>\n",
       "      <th>TICKER</th>\n",
       "      <th>PLACE_ID</th>\n",
       "      <th>DATETIME</th>\n",
       "      <th>SMOOTH</th>\n",
       "      <th>VARIABLE</th>\n",
       "      <th>VALUE</th>\n",
       "      <th>BACKFILL</th>\n",
       "      <th>RELEASE_TIMESTAMP</th>\n",
       "    </tr>\n",
       "  </thead>\n",
       "  <tbody>\n",
       "    <tr>\n",
       "      <th>0</th>\n",
       "      <td>1332</td>\n",
       "      <td>ChIJF4SMLLDN-V8RNFFlOU00vuw_1332</td>\n",
       "      <td>2014-07-01</td>\n",
       "      <td>0</td>\n",
       "      <td>geofence</td>\n",
       "      <td>1806.889713</td>\n",
       "      <td>1</td>\n",
       "      <td>2014-07-10 08:00:00</td>\n",
       "    </tr>\n",
       "    <tr>\n",
       "      <th>1</th>\n",
       "      <td>1332</td>\n",
       "      <td>ChIJF4SMLLDN-V8RNFFlOU00vuw_1332</td>\n",
       "      <td>2014-07-01</td>\n",
       "      <td>0</td>\n",
       "      <td>geofence_ot</td>\n",
       "      <td>1015.968912</td>\n",
       "      <td>1</td>\n",
       "      <td>2014-07-10 08:00:00</td>\n",
       "    </tr>\n",
       "    <tr>\n",
       "      <th>2</th>\n",
       "      <td>1332</td>\n",
       "      <td>ChIJF4SMLLDN-V8RNFFlOU00vuw_1332</td>\n",
       "      <td>2014-07-02</td>\n",
       "      <td>0</td>\n",
       "      <td>geofence</td>\n",
       "      <td>1815.686071</td>\n",
       "      <td>1</td>\n",
       "      <td>2014-07-10 08:00:00</td>\n",
       "    </tr>\n",
       "    <tr>\n",
       "      <th>3</th>\n",
       "      <td>1332</td>\n",
       "      <td>ChIJF4SMLLDN-V8RNFFlOU00vuw_1332</td>\n",
       "      <td>2014-07-02</td>\n",
       "      <td>0</td>\n",
       "      <td>geofence_ot</td>\n",
       "      <td>1065.952256</td>\n",
       "      <td>1</td>\n",
       "      <td>2014-07-10 08:00:00</td>\n",
       "    </tr>\n",
       "    <tr>\n",
       "      <th>4</th>\n",
       "      <td>1332</td>\n",
       "      <td>ChIJF4SMLLDN-V8RNFFlOU00vuw_1332</td>\n",
       "      <td>2014-07-03</td>\n",
       "      <td>0</td>\n",
       "      <td>geofence</td>\n",
       "      <td>1827.132770</td>\n",
       "      <td>1</td>\n",
       "      <td>2014-07-10 08:00:00</td>\n",
       "    </tr>\n",
       "  </tbody>\n",
       "</table>\n",
       "</div>"
      ],
      "text/plain": [
       "  TICKER                          PLACE_ID    DATETIME  SMOOTH     VARIABLE  \\\n",
       "0   1332  ChIJF4SMLLDN-V8RNFFlOU00vuw_1332  2014-07-01       0     geofence   \n",
       "1   1332  ChIJF4SMLLDN-V8RNFFlOU00vuw_1332  2014-07-01       0  geofence_ot   \n",
       "2   1332  ChIJF4SMLLDN-V8RNFFlOU00vuw_1332  2014-07-02       0     geofence   \n",
       "3   1332  ChIJF4SMLLDN-V8RNFFlOU00vuw_1332  2014-07-02       0  geofence_ot   \n",
       "4   1332  ChIJF4SMLLDN-V8RNFFlOU00vuw_1332  2014-07-03       0     geofence   \n",
       "\n",
       "         VALUE  BACKFILL   RELEASE_TIMESTAMP  \n",
       "0  1806.889713         1 2014-07-10 08:00:00  \n",
       "1  1015.968912         1 2014-07-10 08:00:00  \n",
       "2  1815.686071         1 2014-07-10 08:00:00  \n",
       "3  1065.952256         1 2014-07-10 08:00:00  \n",
       "4  1827.132770         1 2014-07-10 08:00:00  "
      ]
     },
     "execution_count": 8,
     "metadata": {},
     "output_type": "execute_result"
    }
   ],
   "source": [
    "sdh = sdh.load(\n",
    "    'ALTERNATIVE',\n",
    "    data_type='aiq_geolocation',\n",
    "    meta_data='data',\n",
    "    place_id=['ChIJF4SMLLDN-V8RNFFlOU00vuw_1332'],\n",
    "    variable = ['geofence', 'geofence_ot'],\n",
    "    load_only_raw=True,\n",
    "    load_only_latest=True,\n",
    "    db_name=db_name\n",
    ")\n",
    "df_pos = sdh.retrieve()\n",
    "df_pos.head()"
   ]
  },
  {
   "cell_type": "markdown",
   "id": "26b352b6-43d3-4d81-9ac7-39c37373656d",
   "metadata": {
    "execution": {
     "iopub.execute_input": "2024-08-16T06:47:39.077927Z",
     "iopub.status.busy": "2024-08-16T06:47:39.077239Z",
     "iopub.status.idle": "2024-08-16T06:47:39.090982Z",
     "shell.execute_reply": "2024-08-16T06:47:39.089864Z",
     "shell.execute_reply.started": "2024-08-16T06:47:39.077895Z"
    }
   },
   "source": [
    "#### Appendix\n",
    "The database and data schema used can be changed according to the user's environment.<br>\n",
    "The following is how to specify this in `load_alternative_aiq_geolocation_data`, \n",
    "but the same applies to `load_alternative_aiq_geolocation_universe` and `load_alternative_aiq_geolocation_place_id`.\n",
    "```\n",
    "sdh = load_alternative_aiq_geolocation_data(\n",
    "        sdh,\n",
    "        ticker=['1332'],\n",
    "        variable = ['geofence', 'geofence_ot'],\n",
    "        load_only_raw=True,\n",
    "        load_only_latest=True\n",
    "        db_name='YOUR_DB_NAME',\n",
    "        schema_name='YOUR_SCHEMA_NAME'\n",
    "    )\n",
    "```"
   ]
  }
 ],
 "metadata": {
  "kernelspec": {
   "display_name": "inv",
   "language": "python",
   "name": "inv"
  },
  "language_info": {
   "codemirror_mode": {
    "name": "ipython",
    "version": 3
   },
   "file_extension": ".py",
   "mimetype": "text/x-python",
   "name": "python",
   "nbconvert_exporter": "python",
   "pygments_lexer": "ipython3",
   "version": "3.9.19"
  }
 },
 "nbformat": 4,
 "nbformat_minor": 5
}
